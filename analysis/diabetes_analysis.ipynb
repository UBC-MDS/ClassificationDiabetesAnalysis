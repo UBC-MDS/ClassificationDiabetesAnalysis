{
 "cells": [
  {
   "cell_type": "markdown",
   "id": "c1ccc1e2-a61b-46f8-93bd-858632081bbd",
   "metadata": {},
   "source": [
    "# Predicting Diabetes in Pima Indian Women Using Logistic Regression"
   ]
  },
  {
   "cell_type": "markdown",
   "id": "fe8be4d5-b89d-4d82-8764-eff066fd63ce",
   "metadata": {},
   "source": [
    "By Inder Khera, Javier Martinez, Jenny Zhang & Jessica Kuo (alphabetically ordered), 2024/11/23"
   ]
  },
  {
   "cell_type": "code",
   "execution_count": 1,
   "id": "56ae3098-c2d3-49f8-8019-b8ed4ddd78df",
   "metadata": {},
   "outputs": [],
   "source": [
    "import numpy as np\n",
    "import pandas as pd\n",
    "import altair as alt\n",
    "import altair_ally as aly\n",
    "from sklearn.pipeline import Pipeline, make_pipeline\n",
    "from sklearn.model_selection import (\n",
    "    RandomizedSearchCV,\n",
    "    cross_validate,\n",
    "    cross_val_score,\n",
    "    train_test_split,\n",
    ")\n",
    "from sklearn.preprocessing import StandardScaler\n",
    "from sklearn.pipeline import Pipeline, make_pipeline\n",
    "from sklearn.compose import make_column_transformer\n",
    "from sklearn.dummy import DummyClassifier\n",
    "from sklearn.linear_model import LogisticRegression\n",
    "\n",
    "from deepchecks.tabular import Dataset\n",
    "from deepchecks.tabular.checks import (\n",
    "    ClassImbalance, \n",
    "    PercentOfNulls,\n",
    "    OutlierSampleDetection,\n",
    "    DataDuplicates,\n",
    "    MixedDataTypes,\n",
    "    FeatureLabelCorrelation, \n",
    "    FeatureFeatureCorrelation\n",
    ")\n",
    "from deepchecks.tabular.checks.data_integrity import PercentOfNulls\n",
    "import warnings"
   ]
  },
  {
   "cell_type": "markdown",
   "id": "0f464a8d-35d0-4b26-8013-3f6481017712",
   "metadata": {},
   "source": [
    "# Summary\n"
   ]
  },
  {
   "cell_type": "markdown",
   "id": "8377f0b6-b44c-4a63-94aa-d4f7ed1496dc",
   "metadata": {
    "jp-MarkdownHeadingCollapsed": true
   },
   "source": [
    "# Introduction\n",
    "\n",
    "Diabetes is a serious chronic disease characterized by high levels of glucose in the blood, caused by either insufficient insulin production by the pancreas or the body’s inability to effectively use insulin. It has become a significant global health issue, with its prevalence nearly doubling since 1980, and in 2022, 14% of adults aged 18 and older were diagnosed with diabetes, doubling from 7% in 1990 (World Health Organization). Diabetes can lead to severe complications, including blindness, kidney failure, heart attacks, strokes, and lower limb amputations. Early detection enables timely interventions, reduces complications, lowers healthcare costs, and improves quality of life and long-term outcomes (Marshall & Flyvbjerg, 2006).\n",
    "\n",
    "Artificial intelligence (AI) leverages computer systems and big data to simulate intelligent behavior with minimal human intervention, and within it, machine learning (ML) is a subset of AI methodologies. Machine learning has increasingly been applied in various areas of disease detection and prevention in the healthcare field (Bini, 2018). Numerous machine learning techniques have been deployed to develop more efficient and effective methods for diagnosing chronic diseases (Battineni, Chinatalapudi, & Amenta, 2020). Utilizing machine learning methods in diabetes research is a critical strategy for harnessing large volumes of diabetes-related data to extract valuable insights (Agarwal & Vadiwala, 2022). Therefore, The goal of this report is to leverage a supervised machine learning model, logistic regression (LR), to evaluate its predictive performance in diagnosing diabetes using a real-world dataset focused specifically on Pima Indian women aged 21 and older."
   ]
  },
  {
   "cell_type": "markdown",
   "id": "d5224d78-2cb5-42aa-868c-9c62b55ea98c",
   "metadata": {},
   "source": [
    "# Methods"
   ]
  },
  {
   "cell_type": "markdown",
   "id": "4e615259-0219-4e20-b64a-017acd79182e",
   "metadata": {},
   "source": [
    "### Data\n",
    "\n",
    "The dataset that was used for the analysis of this project was created by Jack W Smith, JE Everhart, WC Dickson, WC Knowler, RS Johannes and sourced from the National Librabry of Medicine database from the National Institues of Health. Access to their respective analysis can be found [here](https://pmc.ncbi.nlm.nih.gov/articles/PMC2245318/) and access to the dataset can be found via [kaggle](https://www.kaggle.com/datasets/uciml/pima-indians-diabetes-database/data) (Dua & Graff, 2017). The primary objective of the dataset is to enable diagnostic prediction of whether a patient has diabetes based on specific diagnostic measurements. To ensure consistency and relevance, several constraints were applied to the selection of data instances. Specifically, the dataset includes only female patients who are at least 21 years old and of Pima Indian heritage.\n",
    "\n",
    "Each row/obersvation from the dataset is an individual that identifies to be a part of the Pima (also known as The Akimel O'odham) Indeginous group, located mainly in the Central and Southern regions of the United States. Each observation recorded has summary statistics regarding features that include the Age, BMI, Blood Pressure, Number of Pregnancies, as well as The Diabetes Pedigree Function (which is a score that gives an idea about how much correlation is between person with diabetes and their family history). The dataset offers comprehensive feastures for machine learning analysis."
   ]
  },
  {
   "cell_type": "markdown",
   "id": "eec82c1f-10ea-4e5e-8728-81d6c77b8053",
   "metadata": {},
   "source": [
    "### Analysis\n",
    "\n",
    "Logistic Regression was employed to develop a classification model for predicting whether the patient is diabetic or not (as indicated in the `outcome` column of the dataset). All variables from the original dataset were used to train the model. The data was split into 70% for the training set and 30% for the test set. Hyperparameter tuning was performed using `RandomizedSearchCV`, with the accuracy score serving as the classification metric. All variables were standardized just before model fitting. The analysis was conducted using the Python programming language (Van Rossum and Drake, 2009) and several Python packages: numpy (Harris et al., 2020), Pandas (McKinney, 2010), altair (VanderPlas, 2018), altair_ally (Ostblom, 2021) and scikit-learn (Pedregosa et al., 2011). The code used for this analysis and report is available at: https://github.com/UBC-MDS/diabetes_predictor_py"
   ]
  },
  {
   "cell_type": "code",
   "execution_count": 2,
   "id": "4e4c56b9-31ae-4b44-aba4-d4be1e4349b1",
   "metadata": {},
   "outputs": [
    {
     "data": {
      "text/html": [
       "<div>\n",
       "<style scoped>\n",
       "    .dataframe tbody tr th:only-of-type {\n",
       "        vertical-align: middle;\n",
       "    }\n",
       "\n",
       "    .dataframe tbody tr th {\n",
       "        vertical-align: top;\n",
       "    }\n",
       "\n",
       "    .dataframe thead th {\n",
       "        text-align: right;\n",
       "    }\n",
       "</style>\n",
       "<table border=\"1\" class=\"dataframe\">\n",
       "  <thead>\n",
       "    <tr style=\"text-align: right;\">\n",
       "      <th></th>\n",
       "      <th>Pregnancies</th>\n",
       "      <th>Glucose</th>\n",
       "      <th>BloodPressure</th>\n",
       "      <th>SkinThickness</th>\n",
       "      <th>Insulin</th>\n",
       "      <th>BMI</th>\n",
       "      <th>DiabetesPedigreeFunction</th>\n",
       "      <th>Age</th>\n",
       "      <th>Outcome</th>\n",
       "    </tr>\n",
       "  </thead>\n",
       "  <tbody>\n",
       "    <tr>\n",
       "      <th>0</th>\n",
       "      <td>6</td>\n",
       "      <td>148</td>\n",
       "      <td>72</td>\n",
       "      <td>35</td>\n",
       "      <td>0</td>\n",
       "      <td>33.6</td>\n",
       "      <td>0.627</td>\n",
       "      <td>50</td>\n",
       "      <td>1</td>\n",
       "    </tr>\n",
       "    <tr>\n",
       "      <th>1</th>\n",
       "      <td>1</td>\n",
       "      <td>85</td>\n",
       "      <td>66</td>\n",
       "      <td>29</td>\n",
       "      <td>0</td>\n",
       "      <td>26.6</td>\n",
       "      <td>0.351</td>\n",
       "      <td>31</td>\n",
       "      <td>0</td>\n",
       "    </tr>\n",
       "    <tr>\n",
       "      <th>2</th>\n",
       "      <td>8</td>\n",
       "      <td>183</td>\n",
       "      <td>64</td>\n",
       "      <td>0</td>\n",
       "      <td>0</td>\n",
       "      <td>23.3</td>\n",
       "      <td>0.672</td>\n",
       "      <td>32</td>\n",
       "      <td>1</td>\n",
       "    </tr>\n",
       "    <tr>\n",
       "      <th>3</th>\n",
       "      <td>1</td>\n",
       "      <td>89</td>\n",
       "      <td>66</td>\n",
       "      <td>23</td>\n",
       "      <td>94</td>\n",
       "      <td>28.1</td>\n",
       "      <td>0.167</td>\n",
       "      <td>21</td>\n",
       "      <td>0</td>\n",
       "    </tr>\n",
       "    <tr>\n",
       "      <th>4</th>\n",
       "      <td>0</td>\n",
       "      <td>137</td>\n",
       "      <td>40</td>\n",
       "      <td>35</td>\n",
       "      <td>168</td>\n",
       "      <td>43.1</td>\n",
       "      <td>2.288</td>\n",
       "      <td>33</td>\n",
       "      <td>1</td>\n",
       "    </tr>\n",
       "  </tbody>\n",
       "</table>\n",
       "</div>"
      ],
      "text/plain": [
       "   Pregnancies  Glucose  BloodPressure  SkinThickness  Insulin   BMI  \\\n",
       "0            6      148             72             35        0  33.6   \n",
       "1            1       85             66             29        0  26.6   \n",
       "2            8      183             64              0        0  23.3   \n",
       "3            1       89             66             23       94  28.1   \n",
       "4            0      137             40             35      168  43.1   \n",
       "\n",
       "   DiabetesPedigreeFunction  Age  Outcome  \n",
       "0                     0.627   50        1  \n",
       "1                     0.351   31        0  \n",
       "2                     0.672   32        1  \n",
       "3                     0.167   21        0  \n",
       "4                     2.288   33        1  "
      ]
     },
     "execution_count": 2,
     "metadata": {},
     "output_type": "execute_result"
    }
   ],
   "source": [
    "df = pd.read_csv('../data/diabetes.csv')\n",
    "df.head()"
   ]
  },
  {
   "cell_type": "markdown",
   "id": "86c19426-8ff5-4c00-aeb9-21335e7904fe",
   "metadata": {},
   "source": [
    "The `shape` attribute shows us the number of observations and the number of features in the dataset"
   ]
  },
  {
   "cell_type": "code",
   "execution_count": 3,
   "id": "e97143fb-aad8-4ee4-9e0c-43e27912a360",
   "metadata": {},
   "outputs": [
    {
     "data": {
      "text/plain": [
       "(768, 9)"
      ]
     },
     "execution_count": 3,
     "metadata": {},
     "output_type": "execute_result"
    }
   ],
   "source": [
    "df.shape"
   ]
  },
  {
   "cell_type": "markdown",
   "id": "b84b7f2f-44ac-4f95-9324-91a326914a16",
   "metadata": {},
   "source": [
    "The `info()` method shows that the data set does not have any features with missing values. It further shows that all features are numeric as well."
   ]
  },
  {
   "cell_type": "code",
   "execution_count": 4,
   "id": "6aa0c09d-0057-4303-8ab1-d2848f7906f6",
   "metadata": {},
   "outputs": [
    {
     "name": "stdout",
     "output_type": "stream",
     "text": [
      "<class 'pandas.core.frame.DataFrame'>\n",
      "RangeIndex: 768 entries, 0 to 767\n",
      "Data columns (total 9 columns):\n",
      " #   Column                    Non-Null Count  Dtype  \n",
      "---  ------                    --------------  -----  \n",
      " 0   Pregnancies               768 non-null    int64  \n",
      " 1   Glucose                   768 non-null    int64  \n",
      " 2   BloodPressure             768 non-null    int64  \n",
      " 3   SkinThickness             768 non-null    int64  \n",
      " 4   Insulin                   768 non-null    int64  \n",
      " 5   BMI                       768 non-null    float64\n",
      " 6   DiabetesPedigreeFunction  768 non-null    float64\n",
      " 7   Age                       768 non-null    int64  \n",
      " 8   Outcome                   768 non-null    int64  \n",
      "dtypes: float64(2), int64(7)\n",
      "memory usage: 54.1 KB\n"
     ]
    }
   ],
   "source": [
    "df.info()"
   ]
  },
  {
   "cell_type": "markdown",
   "id": "5b986adf-e01d-4e37-97f2-e0f5eb32060b",
   "metadata": {},
   "source": [
    "Using the `train_test_split()` function we will split our data set with 70% going to train the model and 30% going towards testing the model."
   ]
  },
  {
   "cell_type": "code",
   "execution_count": 5,
   "id": "0894088b-5714-4a20-bdb0-f4ffdf786dd4",
   "metadata": {},
   "outputs": [],
   "source": [
    "train_df, test_df = train_test_split(df,\n",
    "                                     train_size = 0.7, \n",
    "                                     random_state=123)"
   ]
  },
  {
   "cell_type": "markdown",
   "id": "96bcc2ba-a8de-4a68-9f29-308309a5025f",
   "metadata": {},
   "source": [
    "The `describe()` shows us the summary statistics of each of our features as well as our target value. We can see the mean as well as the spread (standard deviation). Using this information and the visualization tools we will see next we can determine how skewed each of our features are for their respective values."
   ]
  },
  {
   "cell_type": "code",
   "execution_count": 6,
   "id": "05ceec33-f14b-4070-a225-186f75860095",
   "metadata": {},
   "outputs": [
    {
     "data": {
      "text/html": [
       "<div>\n",
       "<style scoped>\n",
       "    .dataframe tbody tr th:only-of-type {\n",
       "        vertical-align: middle;\n",
       "    }\n",
       "\n",
       "    .dataframe tbody tr th {\n",
       "        vertical-align: top;\n",
       "    }\n",
       "\n",
       "    .dataframe thead th {\n",
       "        text-align: right;\n",
       "    }\n",
       "</style>\n",
       "<table border=\"1\" class=\"dataframe\">\n",
       "  <thead>\n",
       "    <tr style=\"text-align: right;\">\n",
       "      <th></th>\n",
       "      <th>Pregnancies</th>\n",
       "      <th>Glucose</th>\n",
       "      <th>BloodPressure</th>\n",
       "      <th>SkinThickness</th>\n",
       "      <th>Insulin</th>\n",
       "      <th>BMI</th>\n",
       "      <th>DiabetesPedigreeFunction</th>\n",
       "      <th>Age</th>\n",
       "      <th>Outcome</th>\n",
       "    </tr>\n",
       "  </thead>\n",
       "  <tbody>\n",
       "    <tr>\n",
       "      <th>count</th>\n",
       "      <td>537.000000</td>\n",
       "      <td>537.000000</td>\n",
       "      <td>537.000000</td>\n",
       "      <td>537.000000</td>\n",
       "      <td>537.000000</td>\n",
       "      <td>537.000000</td>\n",
       "      <td>537.000000</td>\n",
       "      <td>537.000000</td>\n",
       "      <td>537.000000</td>\n",
       "    </tr>\n",
       "    <tr>\n",
       "      <th>mean</th>\n",
       "      <td>3.810056</td>\n",
       "      <td>120.337058</td>\n",
       "      <td>69.247672</td>\n",
       "      <td>20.702048</td>\n",
       "      <td>81.960894</td>\n",
       "      <td>32.091806</td>\n",
       "      <td>0.463048</td>\n",
       "      <td>33.344507</td>\n",
       "      <td>0.335196</td>\n",
       "    </tr>\n",
       "    <tr>\n",
       "      <th>std</th>\n",
       "      <td>3.318488</td>\n",
       "      <td>31.744549</td>\n",
       "      <td>18.874886</td>\n",
       "      <td>15.677625</td>\n",
       "      <td>116.475625</td>\n",
       "      <td>7.562070</td>\n",
       "      <td>0.331082</td>\n",
       "      <td>11.851165</td>\n",
       "      <td>0.472499</td>\n",
       "    </tr>\n",
       "    <tr>\n",
       "      <th>min</th>\n",
       "      <td>0.000000</td>\n",
       "      <td>0.000000</td>\n",
       "      <td>0.000000</td>\n",
       "      <td>0.000000</td>\n",
       "      <td>0.000000</td>\n",
       "      <td>0.000000</td>\n",
       "      <td>0.078000</td>\n",
       "      <td>21.000000</td>\n",
       "      <td>0.000000</td>\n",
       "    </tr>\n",
       "    <tr>\n",
       "      <th>25%</th>\n",
       "      <td>1.000000</td>\n",
       "      <td>99.000000</td>\n",
       "      <td>62.000000</td>\n",
       "      <td>0.000000</td>\n",
       "      <td>0.000000</td>\n",
       "      <td>27.200000</td>\n",
       "      <td>0.237000</td>\n",
       "      <td>24.000000</td>\n",
       "      <td>0.000000</td>\n",
       "    </tr>\n",
       "    <tr>\n",
       "      <th>50%</th>\n",
       "      <td>3.000000</td>\n",
       "      <td>117.000000</td>\n",
       "      <td>72.000000</td>\n",
       "      <td>23.000000</td>\n",
       "      <td>37.000000</td>\n",
       "      <td>32.000000</td>\n",
       "      <td>0.366000</td>\n",
       "      <td>29.000000</td>\n",
       "      <td>0.000000</td>\n",
       "    </tr>\n",
       "    <tr>\n",
       "      <th>75%</th>\n",
       "      <td>6.000000</td>\n",
       "      <td>140.000000</td>\n",
       "      <td>80.000000</td>\n",
       "      <td>33.000000</td>\n",
       "      <td>128.000000</td>\n",
       "      <td>36.600000</td>\n",
       "      <td>0.600000</td>\n",
       "      <td>41.000000</td>\n",
       "      <td>1.000000</td>\n",
       "    </tr>\n",
       "    <tr>\n",
       "      <th>max</th>\n",
       "      <td>15.000000</td>\n",
       "      <td>199.000000</td>\n",
       "      <td>122.000000</td>\n",
       "      <td>63.000000</td>\n",
       "      <td>744.000000</td>\n",
       "      <td>59.400000</td>\n",
       "      <td>2.420000</td>\n",
       "      <td>81.000000</td>\n",
       "      <td>1.000000</td>\n",
       "    </tr>\n",
       "  </tbody>\n",
       "</table>\n",
       "</div>"
      ],
      "text/plain": [
       "       Pregnancies     Glucose  BloodPressure  SkinThickness     Insulin  \\\n",
       "count   537.000000  537.000000     537.000000     537.000000  537.000000   \n",
       "mean      3.810056  120.337058      69.247672      20.702048   81.960894   \n",
       "std       3.318488   31.744549      18.874886      15.677625  116.475625   \n",
       "min       0.000000    0.000000       0.000000       0.000000    0.000000   \n",
       "25%       1.000000   99.000000      62.000000       0.000000    0.000000   \n",
       "50%       3.000000  117.000000      72.000000      23.000000   37.000000   \n",
       "75%       6.000000  140.000000      80.000000      33.000000  128.000000   \n",
       "max      15.000000  199.000000     122.000000      63.000000  744.000000   \n",
       "\n",
       "              BMI  DiabetesPedigreeFunction         Age     Outcome  \n",
       "count  537.000000                537.000000  537.000000  537.000000  \n",
       "mean    32.091806                  0.463048   33.344507    0.335196  \n",
       "std      7.562070                  0.331082   11.851165    0.472499  \n",
       "min      0.000000                  0.078000   21.000000    0.000000  \n",
       "25%     27.200000                  0.237000   24.000000    0.000000  \n",
       "50%     32.000000                  0.366000   29.000000    0.000000  \n",
       "75%     36.600000                  0.600000   41.000000    1.000000  \n",
       "max     59.400000                  2.420000   81.000000    1.000000  "
      ]
     },
     "execution_count": 6,
     "metadata": {},
     "output_type": "execute_result"
    }
   ],
   "source": [
    "census_summary = train_df.describe()\n",
    "census_summary"
   ]
  },
  {
   "cell_type": "code",
   "execution_count": 7,
   "id": "35771738-ed67-4c0a-ade6-de3ff59304a4",
   "metadata": {},
   "outputs": [
    {
     "data": {
      "text/plain": [
       "['Pregnancies',\n",
       " 'Glucose',\n",
       " 'BloodPressure',\n",
       " 'SkinThickness',\n",
       " 'Insulin',\n",
       " 'BMI',\n",
       " 'DiabetesPedigreeFunction',\n",
       " 'Age',\n",
       " 'Outcome']"
      ]
     },
     "execution_count": 7,
     "metadata": {},
     "output_type": "execute_result"
    }
   ],
   "source": [
    "features = census_summary.columns.tolist()\n",
    "features"
   ]
  },
  {
   "cell_type": "code",
   "execution_count": 8,
   "id": "9dec8686-3519-49a2-8b6d-dfb254fb648e",
   "metadata": {},
   "outputs": [
    {
     "data": {
      "text/html": [
       "\n",
       "<style>\n",
       "  #altair-viz-a79b1f11d7c1417486dac5963c95b7a3.vega-embed {\n",
       "    width: 100%;\n",
       "    display: flex;\n",
       "  }\n",
       "\n",
       "  #altair-viz-a79b1f11d7c1417486dac5963c95b7a3.vega-embed details,\n",
       "  #altair-viz-a79b1f11d7c1417486dac5963c95b7a3.vega-embed details summary {\n",
       "    position: relative;\n",
       "  }\n",
       "</style>\n",
       "<div id=\"altair-viz-a79b1f11d7c1417486dac5963c95b7a3\"></div>\n",
       "<script type=\"text/javascript\">\n",
       "  var VEGA_DEBUG = (typeof VEGA_DEBUG == \"undefined\") ? {} : VEGA_DEBUG;\n",
       "  (function(spec, embedOpt){\n",
       "    let outputDiv = document.currentScript.previousElementSibling;\n",
       "    if (outputDiv.id !== \"altair-viz-a79b1f11d7c1417486dac5963c95b7a3\") {\n",
       "      outputDiv = document.getElementById(\"altair-viz-a79b1f11d7c1417486dac5963c95b7a3\");\n",
       "    }\n",
       "\n",
       "    const paths = {\n",
       "      \"vega\": \"https://cdn.jsdelivr.net/npm/vega@5?noext\",\n",
       "      \"vega-lib\": \"https://cdn.jsdelivr.net/npm/vega-lib?noext\",\n",
       "      \"vega-lite\": \"https://cdn.jsdelivr.net/npm/vega-lite@5.20.1?noext\",\n",
       "      \"vega-embed\": \"https://cdn.jsdelivr.net/npm/vega-embed@6?noext\",\n",
       "    };\n",
       "\n",
       "    function maybeLoadScript(lib, version) {\n",
       "      var key = `${lib.replace(\"-\", \"\")}_version`;\n",
       "      return (VEGA_DEBUG[key] == version) ?\n",
       "        Promise.resolve(paths[lib]) :\n",
       "        new Promise(function(resolve, reject) {\n",
       "          var s = document.createElement('script');\n",
       "          document.getElementsByTagName(\"head\")[0].appendChild(s);\n",
       "          s.async = true;\n",
       "          s.onload = () => {\n",
       "            VEGA_DEBUG[key] = version;\n",
       "            return resolve(paths[lib]);\n",
       "          };\n",
       "          s.onerror = () => reject(`Error loading script: ${paths[lib]}`);\n",
       "          s.src = paths[lib];\n",
       "        });\n",
       "    }\n",
       "\n",
       "    function showError(err) {\n",
       "      outputDiv.innerHTML = `<div class=\"error\" style=\"color:red;\">${err}</div>`;\n",
       "      throw err;\n",
       "    }\n",
       "\n",
       "    function displayChart(vegaEmbed) {\n",
       "      vegaEmbed(outputDiv, spec, embedOpt)\n",
       "        .catch(err => showError(`Javascript Error: ${err.message}<br>This usually means there's a typo in your chart specification. See the javascript console for the full traceback.`));\n",
       "    }\n",
       "\n",
       "    if(typeof define === \"function\" && define.amd) {\n",
       "      requirejs.config({paths});\n",
       "      let deps = [\"vega-embed\"];\n",
       "      require(deps, displayChart, err => showError(`Error loading script: ${err.message}`));\n",
       "    } else {\n",
       "      maybeLoadScript(\"vega\", \"5\")\n",
       "        .then(() => maybeLoadScript(\"vega-lite\", \"5.20.1\"))\n",
       "        .then(() => maybeLoadScript(\"vega-embed\", \"6\"))\n",
       "        .catch(showError)\n",
       "        .then(() => displayChart(vegaEmbed));\n",
       "    }\n",
       "  })({\"config\": {\"view\": {\"continuousWidth\": 300, \"continuousHeight\": 300}}, \"repeat\": [\"Pregnancies\", \"Glucose\", \"BloodPressure\", \"SkinThickness\", \"Insulin\", \"BMI\", \"DiabetesPedigreeFunction\", \"Age\", \"Outcome\"], \"spec\": {\"data\": {\"name\": \"data-0ee115d664ec93852f2690709b81a458\"}, \"mark\": {\"type\": \"bar\", \"opacity\": 0.5}, \"encoding\": {\"color\": {\"field\": \"Outcome\", \"type\": \"nominal\"}, \"x\": {\"bin\": {\"maxbins\": 30}, \"field\": {\"repeat\": \"repeat\"}, \"type\": \"quantitative\"}, \"y\": {\"aggregate\": \"count\", \"stack\": false, \"type\": \"quantitative\"}}, \"height\": 250, \"width\": 250}, \"columns\": 2, \"$schema\": \"https://vega.github.io/schema/vega-lite/v5.20.1.json\", \"datasets\": {\"data-0ee115d664ec93852f2690709b81a458\": [{\"Pregnancies\": 1, \"Glucose\": 95, \"BloodPressure\": 82, \"SkinThickness\": 25, \"Insulin\": 180, \"BMI\": 35.0, \"DiabetesPedigreeFunction\": 0.233, \"Age\": 43, \"Outcome\": 1}, {\"Pregnancies\": 3, \"Glucose\": 125, \"BloodPressure\": 58, \"SkinThickness\": 0, \"Insulin\": 0, \"BMI\": 31.6, \"DiabetesPedigreeFunction\": 0.151, \"Age\": 24, \"Outcome\": 0}, {\"Pregnancies\": 7, \"Glucose\": 179, \"BloodPressure\": 95, \"SkinThickness\": 31, \"Insulin\": 0, \"BMI\": 34.2, \"DiabetesPedigreeFunction\": 0.164, \"Age\": 60, \"Outcome\": 0}, {\"Pregnancies\": 11, \"Glucose\": 103, \"BloodPressure\": 68, \"SkinThickness\": 40, \"Insulin\": 0, \"BMI\": 46.2, \"DiabetesPedigreeFunction\": 0.126, \"Age\": 42, \"Outcome\": 0}, {\"Pregnancies\": 0, \"Glucose\": 109, \"BloodPressure\": 88, \"SkinThickness\": 30, \"Insulin\": 0, \"BMI\": 32.5, \"DiabetesPedigreeFunction\": 0.855, \"Age\": 38, \"Outcome\": 1}, {\"Pregnancies\": 2, \"Glucose\": 106, \"BloodPressure\": 64, \"SkinThickness\": 35, \"Insulin\": 119, \"BMI\": 30.5, \"DiabetesPedigreeFunction\": 1.4, \"Age\": 34, \"Outcome\": 0}, {\"Pregnancies\": 0, \"Glucose\": 93, \"BloodPressure\": 100, \"SkinThickness\": 39, \"Insulin\": 72, \"BMI\": 43.4, \"DiabetesPedigreeFunction\": 1.021, \"Age\": 35, \"Outcome\": 0}, {\"Pregnancies\": 2, \"Glucose\": 118, \"BloodPressure\": 80, \"SkinThickness\": 0, \"Insulin\": 0, \"BMI\": 42.9, \"DiabetesPedigreeFunction\": 0.693, \"Age\": 21, \"Outcome\": 1}, {\"Pregnancies\": 5, \"Glucose\": 137, \"BloodPressure\": 108, \"SkinThickness\": 0, \"Insulin\": 0, \"BMI\": 48.8, \"DiabetesPedigreeFunction\": 0.227, \"Age\": 37, \"Outcome\": 1}, {\"Pregnancies\": 0, \"Glucose\": 117, \"BloodPressure\": 66, \"SkinThickness\": 31, \"Insulin\": 188, \"BMI\": 30.8, \"DiabetesPedigreeFunction\": 0.493, \"Age\": 22, \"Outcome\": 0}, {\"Pregnancies\": 1, \"Glucose\": 144, \"BloodPressure\": 82, \"SkinThickness\": 40, \"Insulin\": 0, \"BMI\": 41.3, \"DiabetesPedigreeFunction\": 0.607, \"Age\": 28, \"Outcome\": 0}, {\"Pregnancies\": 7, \"Glucose\": 152, \"BloodPressure\": 88, \"SkinThickness\": 44, \"Insulin\": 0, \"BMI\": 50.0, \"DiabetesPedigreeFunction\": 0.337, \"Age\": 36, \"Outcome\": 1}, {\"Pregnancies\": 1, \"Glucose\": 0, \"BloodPressure\": 48, \"SkinThickness\": 20, \"Insulin\": 0, \"BMI\": 24.7, \"DiabetesPedigreeFunction\": 0.14, \"Age\": 22, \"Outcome\": 0}, {\"Pregnancies\": 0, \"Glucose\": 107, \"BloodPressure\": 62, \"SkinThickness\": 30, \"Insulin\": 74, \"BMI\": 36.6, \"DiabetesPedigreeFunction\": 0.757, \"Age\": 25, \"Outcome\": 1}, {\"Pregnancies\": 7, \"Glucose\": 136, \"BloodPressure\": 74, \"SkinThickness\": 26, \"Insulin\": 135, \"BMI\": 26.0, \"DiabetesPedigreeFunction\": 0.647, \"Age\": 51, \"Outcome\": 0}, {\"Pregnancies\": 1, \"Glucose\": 163, \"BloodPressure\": 72, \"SkinThickness\": 0, \"Insulin\": 0, \"BMI\": 39.0, \"DiabetesPedigreeFunction\": 1.222, \"Age\": 33, \"Outcome\": 1}, {\"Pregnancies\": 6, \"Glucose\": 147, \"BloodPressure\": 80, \"SkinThickness\": 0, \"Insulin\": 0, \"BMI\": 29.5, \"DiabetesPedigreeFunction\": 0.178, \"Age\": 50, \"Outcome\": 1}, {\"Pregnancies\": 5, \"Glucose\": 121, \"BloodPressure\": 72, \"SkinThickness\": 23, \"Insulin\": 112, \"BMI\": 26.2, \"DiabetesPedigreeFunction\": 0.245, \"Age\": 30, \"Outcome\": 0}, {\"Pregnancies\": 1, \"Glucose\": 180, \"BloodPressure\": 0, \"SkinThickness\": 0, \"Insulin\": 0, \"BMI\": 43.3, \"DiabetesPedigreeFunction\": 0.282, \"Age\": 41, \"Outcome\": 1}, {\"Pregnancies\": 1, \"Glucose\": 151, \"BloodPressure\": 60, \"SkinThickness\": 0, \"Insulin\": 0, \"BMI\": 26.1, \"DiabetesPedigreeFunction\": 0.179, \"Age\": 22, \"Outcome\": 0}, {\"Pregnancies\": 3, \"Glucose\": 111, \"BloodPressure\": 62, \"SkinThickness\": 0, \"Insulin\": 0, \"BMI\": 22.6, \"DiabetesPedigreeFunction\": 0.142, \"Age\": 21, \"Outcome\": 0}, {\"Pregnancies\": 1, \"Glucose\": 131, \"BloodPressure\": 64, \"SkinThickness\": 14, \"Insulin\": 415, \"BMI\": 23.7, \"DiabetesPedigreeFunction\": 0.389, \"Age\": 21, \"Outcome\": 0}, {\"Pregnancies\": 3, \"Glucose\": 122, \"BloodPressure\": 78, \"SkinThickness\": 0, \"Insulin\": 0, \"BMI\": 23.0, \"DiabetesPedigreeFunction\": 0.254, \"Age\": 40, \"Outcome\": 0}, {\"Pregnancies\": 3, \"Glucose\": 80, \"BloodPressure\": 82, \"SkinThickness\": 31, \"Insulin\": 70, \"BMI\": 34.2, \"DiabetesPedigreeFunction\": 1.292, \"Age\": 27, \"Outcome\": 1}, {\"Pregnancies\": 7, \"Glucose\": 109, \"BloodPressure\": 80, \"SkinThickness\": 31, \"Insulin\": 0, \"BMI\": 35.9, \"DiabetesPedigreeFunction\": 1.127, \"Age\": 43, \"Outcome\": 1}, {\"Pregnancies\": 7, \"Glucose\": 137, \"BloodPressure\": 90, \"SkinThickness\": 41, \"Insulin\": 0, \"BMI\": 32.0, \"DiabetesPedigreeFunction\": 0.391, \"Age\": 39, \"Outcome\": 0}, {\"Pregnancies\": 6, \"Glucose\": 103, \"BloodPressure\": 66, \"SkinThickness\": 0, \"Insulin\": 0, \"BMI\": 24.3, \"DiabetesPedigreeFunction\": 0.249, \"Age\": 29, \"Outcome\": 0}, {\"Pregnancies\": 1, \"Glucose\": 125, \"BloodPressure\": 70, \"SkinThickness\": 24, \"Insulin\": 110, \"BMI\": 24.3, \"DiabetesPedigreeFunction\": 0.221, \"Age\": 25, \"Outcome\": 0}, {\"Pregnancies\": 9, \"Glucose\": 184, \"BloodPressure\": 85, \"SkinThickness\": 15, \"Insulin\": 0, \"BMI\": 30.0, \"DiabetesPedigreeFunction\": 1.213, \"Age\": 49, \"Outcome\": 1}, {\"Pregnancies\": 3, \"Glucose\": 96, \"BloodPressure\": 56, \"SkinThickness\": 34, \"Insulin\": 115, \"BMI\": 24.7, \"DiabetesPedigreeFunction\": 0.944, \"Age\": 39, \"Outcome\": 0}, {\"Pregnancies\": 1, \"Glucose\": 139, \"BloodPressure\": 46, \"SkinThickness\": 19, \"Insulin\": 83, \"BMI\": 28.7, \"DiabetesPedigreeFunction\": 0.654, \"Age\": 22, \"Outcome\": 0}, {\"Pregnancies\": 3, \"Glucose\": 142, \"BloodPressure\": 80, \"SkinThickness\": 15, \"Insulin\": 0, \"BMI\": 32.4, \"DiabetesPedigreeFunction\": 0.2, \"Age\": 63, \"Outcome\": 0}, {\"Pregnancies\": 4, \"Glucose\": 112, \"BloodPressure\": 78, \"SkinThickness\": 40, \"Insulin\": 0, \"BMI\": 39.4, \"DiabetesPedigreeFunction\": 0.236, \"Age\": 38, \"Outcome\": 0}, {\"Pregnancies\": 2, \"Glucose\": 108, \"BloodPressure\": 52, \"SkinThickness\": 26, \"Insulin\": 63, \"BMI\": 32.5, \"DiabetesPedigreeFunction\": 0.318, \"Age\": 22, \"Outcome\": 0}, {\"Pregnancies\": 0, \"Glucose\": 137, \"BloodPressure\": 68, \"SkinThickness\": 14, \"Insulin\": 148, \"BMI\": 24.8, \"DiabetesPedigreeFunction\": 0.143, \"Age\": 21, \"Outcome\": 0}, {\"Pregnancies\": 2, \"Glucose\": 100, \"BloodPressure\": 70, \"SkinThickness\": 52, \"Insulin\": 57, \"BMI\": 40.5, \"DiabetesPedigreeFunction\": 0.677, \"Age\": 25, \"Outcome\": 0}, {\"Pregnancies\": 0, \"Glucose\": 180, \"BloodPressure\": 66, \"SkinThickness\": 39, \"Insulin\": 0, \"BMI\": 42.0, \"DiabetesPedigreeFunction\": 1.893, \"Age\": 25, \"Outcome\": 1}, {\"Pregnancies\": 1, \"Glucose\": 164, \"BloodPressure\": 82, \"SkinThickness\": 43, \"Insulin\": 67, \"BMI\": 32.8, \"DiabetesPedigreeFunction\": 0.341, \"Age\": 50, \"Outcome\": 0}, {\"Pregnancies\": 0, \"Glucose\": 117, \"BloodPressure\": 0, \"SkinThickness\": 0, \"Insulin\": 0, \"BMI\": 33.8, \"DiabetesPedigreeFunction\": 0.932, \"Age\": 44, \"Outcome\": 0}, {\"Pregnancies\": 6, \"Glucose\": 91, \"BloodPressure\": 0, \"SkinThickness\": 0, \"Insulin\": 0, \"BMI\": 29.8, \"DiabetesPedigreeFunction\": 0.501, \"Age\": 31, \"Outcome\": 0}, {\"Pregnancies\": 4, \"Glucose\": 183, \"BloodPressure\": 0, \"SkinThickness\": 0, \"Insulin\": 0, \"BMI\": 28.4, \"DiabetesPedigreeFunction\": 0.212, \"Age\": 36, \"Outcome\": 1}, {\"Pregnancies\": 7, \"Glucose\": 147, \"BloodPressure\": 76, \"SkinThickness\": 0, \"Insulin\": 0, \"BMI\": 39.4, \"DiabetesPedigreeFunction\": 0.257, \"Age\": 43, \"Outcome\": 1}, {\"Pregnancies\": 0, \"Glucose\": 102, \"BloodPressure\": 52, \"SkinThickness\": 0, \"Insulin\": 0, \"BMI\": 25.1, \"DiabetesPedigreeFunction\": 0.078, \"Age\": 21, \"Outcome\": 0}, {\"Pregnancies\": 2, \"Glucose\": 141, \"BloodPressure\": 58, \"SkinThickness\": 34, \"Insulin\": 128, \"BMI\": 25.4, \"DiabetesPedigreeFunction\": 0.699, \"Age\": 24, \"Outcome\": 0}, {\"Pregnancies\": 0, \"Glucose\": 107, \"BloodPressure\": 76, \"SkinThickness\": 0, \"Insulin\": 0, \"BMI\": 45.3, \"DiabetesPedigreeFunction\": 0.686, \"Age\": 24, \"Outcome\": 0}, {\"Pregnancies\": 13, \"Glucose\": 153, \"BloodPressure\": 88, \"SkinThickness\": 37, \"Insulin\": 140, \"BMI\": 40.6, \"DiabetesPedigreeFunction\": 1.174, \"Age\": 39, \"Outcome\": 0}, {\"Pregnancies\": 6, \"Glucose\": 92, \"BloodPressure\": 92, \"SkinThickness\": 0, \"Insulin\": 0, \"BMI\": 19.9, \"DiabetesPedigreeFunction\": 0.188, \"Age\": 28, \"Outcome\": 0}, {\"Pregnancies\": 2, \"Glucose\": 93, \"BloodPressure\": 64, \"SkinThickness\": 32, \"Insulin\": 160, \"BMI\": 38.0, \"DiabetesPedigreeFunction\": 0.674, \"Age\": 23, \"Outcome\": 1}, {\"Pregnancies\": 3, \"Glucose\": 103, \"BloodPressure\": 72, \"SkinThickness\": 30, \"Insulin\": 152, \"BMI\": 27.6, \"DiabetesPedigreeFunction\": 0.73, \"Age\": 27, \"Outcome\": 0}, {\"Pregnancies\": 4, \"Glucose\": 97, \"BloodPressure\": 60, \"SkinThickness\": 23, \"Insulin\": 0, \"BMI\": 28.2, \"DiabetesPedigreeFunction\": 0.443, \"Age\": 22, \"Outcome\": 0}, {\"Pregnancies\": 7, \"Glucose\": 100, \"BloodPressure\": 0, \"SkinThickness\": 0, \"Insulin\": 0, \"BMI\": 30.0, \"DiabetesPedigreeFunction\": 0.484, \"Age\": 32, \"Outcome\": 1}, {\"Pregnancies\": 8, \"Glucose\": 95, \"BloodPressure\": 72, \"SkinThickness\": 0, \"Insulin\": 0, \"BMI\": 36.8, \"DiabetesPedigreeFunction\": 0.485, \"Age\": 57, \"Outcome\": 0}, {\"Pregnancies\": 7, \"Glucose\": 106, \"BloodPressure\": 92, \"SkinThickness\": 18, \"Insulin\": 0, \"BMI\": 22.7, \"DiabetesPedigreeFunction\": 0.235, \"Age\": 48, \"Outcome\": 0}, {\"Pregnancies\": 1, \"Glucose\": 116, \"BloodPressure\": 78, \"SkinThickness\": 29, \"Insulin\": 180, \"BMI\": 36.1, \"DiabetesPedigreeFunction\": 0.496, \"Age\": 25, \"Outcome\": 0}, {\"Pregnancies\": 2, \"Glucose\": 75, \"BloodPressure\": 64, \"SkinThickness\": 24, \"Insulin\": 55, \"BMI\": 29.7, \"DiabetesPedigreeFunction\": 0.37, \"Age\": 33, \"Outcome\": 0}, {\"Pregnancies\": 4, \"Glucose\": 154, \"BloodPressure\": 72, \"SkinThickness\": 29, \"Insulin\": 126, \"BMI\": 31.3, \"DiabetesPedigreeFunction\": 0.338, \"Age\": 37, \"Outcome\": 0}, {\"Pregnancies\": 12, \"Glucose\": 140, \"BloodPressure\": 82, \"SkinThickness\": 43, \"Insulin\": 325, \"BMI\": 39.2, \"DiabetesPedigreeFunction\": 0.528, \"Age\": 58, \"Outcome\": 1}, {\"Pregnancies\": 0, \"Glucose\": 198, \"BloodPressure\": 66, \"SkinThickness\": 32, \"Insulin\": 274, \"BMI\": 41.3, \"DiabetesPedigreeFunction\": 0.502, \"Age\": 28, \"Outcome\": 1}, {\"Pregnancies\": 4, \"Glucose\": 134, \"BloodPressure\": 72, \"SkinThickness\": 0, \"Insulin\": 0, \"BMI\": 23.8, \"DiabetesPedigreeFunction\": 0.277, \"Age\": 60, \"Outcome\": 1}, {\"Pregnancies\": 10, \"Glucose\": 129, \"BloodPressure\": 62, \"SkinThickness\": 36, \"Insulin\": 0, \"BMI\": 41.2, \"DiabetesPedigreeFunction\": 0.441, \"Age\": 38, \"Outcome\": 1}, {\"Pregnancies\": 1, \"Glucose\": 135, \"BloodPressure\": 54, \"SkinThickness\": 0, \"Insulin\": 0, \"BMI\": 26.7, \"DiabetesPedigreeFunction\": 0.687, \"Age\": 62, \"Outcome\": 0}, {\"Pregnancies\": 6, \"Glucose\": 105, \"BloodPressure\": 70, \"SkinThickness\": 32, \"Insulin\": 68, \"BMI\": 30.8, \"DiabetesPedigreeFunction\": 0.122, \"Age\": 37, \"Outcome\": 0}, {\"Pregnancies\": 1, \"Glucose\": 153, \"BloodPressure\": 82, \"SkinThickness\": 42, \"Insulin\": 485, \"BMI\": 40.6, \"DiabetesPedigreeFunction\": 0.687, \"Age\": 23, \"Outcome\": 0}, {\"Pregnancies\": 5, \"Glucose\": 124, \"BloodPressure\": 74, \"SkinThickness\": 0, \"Insulin\": 0, \"BMI\": 34.0, \"DiabetesPedigreeFunction\": 0.22, \"Age\": 38, \"Outcome\": 1}, {\"Pregnancies\": 10, \"Glucose\": 75, \"BloodPressure\": 82, \"SkinThickness\": 0, \"Insulin\": 0, \"BMI\": 33.3, \"DiabetesPedigreeFunction\": 0.263, \"Age\": 38, \"Outcome\": 0}, {\"Pregnancies\": 1, \"Glucose\": 106, \"BloodPressure\": 76, \"SkinThickness\": 0, \"Insulin\": 0, \"BMI\": 37.5, \"DiabetesPedigreeFunction\": 0.197, \"Age\": 26, \"Outcome\": 0}, {\"Pregnancies\": 4, \"Glucose\": 129, \"BloodPressure\": 60, \"SkinThickness\": 12, \"Insulin\": 231, \"BMI\": 27.5, \"DiabetesPedigreeFunction\": 0.527, \"Age\": 31, \"Outcome\": 0}, {\"Pregnancies\": 1, \"Glucose\": 167, \"BloodPressure\": 74, \"SkinThickness\": 17, \"Insulin\": 144, \"BMI\": 23.4, \"DiabetesPedigreeFunction\": 0.447, \"Age\": 33, \"Outcome\": 1}, {\"Pregnancies\": 1, \"Glucose\": 103, \"BloodPressure\": 30, \"SkinThickness\": 38, \"Insulin\": 83, \"BMI\": 43.3, \"DiabetesPedigreeFunction\": 0.183, \"Age\": 33, \"Outcome\": 0}, {\"Pregnancies\": 9, \"Glucose\": 119, \"BloodPressure\": 80, \"SkinThickness\": 35, \"Insulin\": 0, \"BMI\": 29.0, \"DiabetesPedigreeFunction\": 0.263, \"Age\": 29, \"Outcome\": 1}, {\"Pregnancies\": 7, \"Glucose\": 106, \"BloodPressure\": 60, \"SkinThickness\": 24, \"Insulin\": 0, \"BMI\": 26.5, \"DiabetesPedigreeFunction\": 0.296, \"Age\": 29, \"Outcome\": 1}, {\"Pregnancies\": 5, \"Glucose\": 109, \"BloodPressure\": 75, \"SkinThickness\": 26, \"Insulin\": 0, \"BMI\": 36.0, \"DiabetesPedigreeFunction\": 0.546, \"Age\": 60, \"Outcome\": 0}, {\"Pregnancies\": 1, \"Glucose\": 84, \"BloodPressure\": 64, \"SkinThickness\": 23, \"Insulin\": 115, \"BMI\": 36.9, \"DiabetesPedigreeFunction\": 0.471, \"Age\": 28, \"Outcome\": 0}, {\"Pregnancies\": 6, \"Glucose\": 148, \"BloodPressure\": 72, \"SkinThickness\": 35, \"Insulin\": 0, \"BMI\": 33.6, \"DiabetesPedigreeFunction\": 0.627, \"Age\": 50, \"Outcome\": 1}, {\"Pregnancies\": 13, \"Glucose\": 126, \"BloodPressure\": 90, \"SkinThickness\": 0, \"Insulin\": 0, \"BMI\": 43.4, \"DiabetesPedigreeFunction\": 0.583, \"Age\": 42, \"Outcome\": 1}, {\"Pregnancies\": 5, \"Glucose\": 116, \"BloodPressure\": 74, \"SkinThickness\": 29, \"Insulin\": 0, \"BMI\": 32.3, \"DiabetesPedigreeFunction\": 0.66, \"Age\": 35, \"Outcome\": 1}, {\"Pregnancies\": 0, \"Glucose\": 102, \"BloodPressure\": 86, \"SkinThickness\": 17, \"Insulin\": 105, \"BMI\": 29.3, \"DiabetesPedigreeFunction\": 0.695, \"Age\": 27, \"Outcome\": 0}, {\"Pregnancies\": 13, \"Glucose\": 104, \"BloodPressure\": 72, \"SkinThickness\": 0, \"Insulin\": 0, \"BMI\": 31.2, \"DiabetesPedigreeFunction\": 0.465, \"Age\": 38, \"Outcome\": 1}, {\"Pregnancies\": 3, \"Glucose\": 173, \"BloodPressure\": 84, \"SkinThickness\": 33, \"Insulin\": 474, \"BMI\": 35.7, \"DiabetesPedigreeFunction\": 0.258, \"Age\": 22, \"Outcome\": 1}, {\"Pregnancies\": 4, \"Glucose\": 146, \"BloodPressure\": 92, \"SkinThickness\": 0, \"Insulin\": 0, \"BMI\": 31.2, \"DiabetesPedigreeFunction\": 0.539, \"Age\": 61, \"Outcome\": 1}, {\"Pregnancies\": 2, \"Glucose\": 124, \"BloodPressure\": 68, \"SkinThickness\": 28, \"Insulin\": 205, \"BMI\": 32.9, \"DiabetesPedigreeFunction\": 0.875, \"Age\": 30, \"Outcome\": 1}, {\"Pregnancies\": 9, \"Glucose\": 164, \"BloodPressure\": 78, \"SkinThickness\": 0, \"Insulin\": 0, \"BMI\": 32.8, \"DiabetesPedigreeFunction\": 0.148, \"Age\": 45, \"Outcome\": 1}, {\"Pregnancies\": 3, \"Glucose\": 169, \"BloodPressure\": 74, \"SkinThickness\": 19, \"Insulin\": 125, \"BMI\": 29.9, \"DiabetesPedigreeFunction\": 0.268, \"Age\": 31, \"Outcome\": 1}, {\"Pregnancies\": 2, \"Glucose\": 87, \"BloodPressure\": 58, \"SkinThickness\": 16, \"Insulin\": 52, \"BMI\": 32.7, \"DiabetesPedigreeFunction\": 0.166, \"Age\": 25, \"Outcome\": 0}, {\"Pregnancies\": 8, \"Glucose\": 126, \"BloodPressure\": 74, \"SkinThickness\": 38, \"Insulin\": 75, \"BMI\": 25.9, \"DiabetesPedigreeFunction\": 0.162, \"Age\": 39, \"Outcome\": 0}, {\"Pregnancies\": 11, \"Glucose\": 143, \"BloodPressure\": 94, \"SkinThickness\": 33, \"Insulin\": 146, \"BMI\": 36.6, \"DiabetesPedigreeFunction\": 0.254, \"Age\": 51, \"Outcome\": 1}, {\"Pregnancies\": 4, \"Glucose\": 131, \"BloodPressure\": 68, \"SkinThickness\": 21, \"Insulin\": 166, \"BMI\": 33.1, \"DiabetesPedigreeFunction\": 0.16, \"Age\": 28, \"Outcome\": 0}, {\"Pregnancies\": 4, \"Glucose\": 148, \"BloodPressure\": 60, \"SkinThickness\": 27, \"Insulin\": 318, \"BMI\": 30.9, \"DiabetesPedigreeFunction\": 0.15, \"Age\": 29, \"Outcome\": 1}, {\"Pregnancies\": 5, \"Glucose\": 111, \"BloodPressure\": 72, \"SkinThickness\": 28, \"Insulin\": 0, \"BMI\": 23.9, \"DiabetesPedigreeFunction\": 0.407, \"Age\": 27, \"Outcome\": 0}, {\"Pregnancies\": 8, \"Glucose\": 105, \"BloodPressure\": 100, \"SkinThickness\": 36, \"Insulin\": 0, \"BMI\": 43.3, \"DiabetesPedigreeFunction\": 0.239, \"Age\": 45, \"Outcome\": 1}, {\"Pregnancies\": 4, \"Glucose\": 137, \"BloodPressure\": 84, \"SkinThickness\": 0, \"Insulin\": 0, \"BMI\": 31.2, \"DiabetesPedigreeFunction\": 0.252, \"Age\": 30, \"Outcome\": 0}, {\"Pregnancies\": 0, \"Glucose\": 111, \"BloodPressure\": 65, \"SkinThickness\": 0, \"Insulin\": 0, \"BMI\": 24.6, \"DiabetesPedigreeFunction\": 0.66, \"Age\": 31, \"Outcome\": 0}, {\"Pregnancies\": 4, \"Glucose\": 184, \"BloodPressure\": 78, \"SkinThickness\": 39, \"Insulin\": 277, \"BMI\": 37.0, \"DiabetesPedigreeFunction\": 0.264, \"Age\": 31, \"Outcome\": 1}, {\"Pregnancies\": 3, \"Glucose\": 158, \"BloodPressure\": 64, \"SkinThickness\": 13, \"Insulin\": 387, \"BMI\": 31.2, \"DiabetesPedigreeFunction\": 0.295, \"Age\": 24, \"Outcome\": 0}, {\"Pregnancies\": 0, \"Glucose\": 106, \"BloodPressure\": 70, \"SkinThickness\": 37, \"Insulin\": 148, \"BMI\": 39.4, \"DiabetesPedigreeFunction\": 0.605, \"Age\": 22, \"Outcome\": 0}, {\"Pregnancies\": 2, \"Glucose\": 68, \"BloodPressure\": 70, \"SkinThickness\": 32, \"Insulin\": 66, \"BMI\": 25.0, \"DiabetesPedigreeFunction\": 0.187, \"Age\": 25, \"Outcome\": 0}, {\"Pregnancies\": 3, \"Glucose\": 102, \"BloodPressure\": 44, \"SkinThickness\": 20, \"Insulin\": 94, \"BMI\": 30.8, \"DiabetesPedigreeFunction\": 0.4, \"Age\": 26, \"Outcome\": 0}, {\"Pregnancies\": 4, \"Glucose\": 123, \"BloodPressure\": 62, \"SkinThickness\": 0, \"Insulin\": 0, \"BMI\": 32.0, \"DiabetesPedigreeFunction\": 0.226, \"Age\": 35, \"Outcome\": 1}, {\"Pregnancies\": 8, \"Glucose\": 108, \"BloodPressure\": 70, \"SkinThickness\": 0, \"Insulin\": 0, \"BMI\": 30.5, \"DiabetesPedigreeFunction\": 0.955, \"Age\": 33, \"Outcome\": 1}, {\"Pregnancies\": 5, \"Glucose\": 86, \"BloodPressure\": 68, \"SkinThickness\": 28, \"Insulin\": 71, \"BMI\": 30.2, \"DiabetesPedigreeFunction\": 0.364, \"Age\": 24, \"Outcome\": 0}, {\"Pregnancies\": 2, \"Glucose\": 98, \"BloodPressure\": 60, \"SkinThickness\": 17, \"Insulin\": 120, \"BMI\": 34.7, \"DiabetesPedigreeFunction\": 0.198, \"Age\": 22, \"Outcome\": 0}, {\"Pregnancies\": 0, \"Glucose\": 128, \"BloodPressure\": 68, \"SkinThickness\": 19, \"Insulin\": 180, \"BMI\": 30.5, \"DiabetesPedigreeFunction\": 1.391, \"Age\": 25, \"Outcome\": 1}, {\"Pregnancies\": 6, \"Glucose\": 151, \"BloodPressure\": 62, \"SkinThickness\": 31, \"Insulin\": 120, \"BMI\": 35.5, \"DiabetesPedigreeFunction\": 0.692, \"Age\": 28, \"Outcome\": 0}, {\"Pregnancies\": 0, \"Glucose\": 135, \"BloodPressure\": 68, \"SkinThickness\": 42, \"Insulin\": 250, \"BMI\": 42.3, \"DiabetesPedigreeFunction\": 0.365, \"Age\": 24, \"Outcome\": 1}, {\"Pregnancies\": 2, \"Glucose\": 99, \"BloodPressure\": 0, \"SkinThickness\": 0, \"Insulin\": 0, \"BMI\": 22.2, \"DiabetesPedigreeFunction\": 0.108, \"Age\": 23, \"Outcome\": 0}, {\"Pregnancies\": 7, \"Glucose\": 133, \"BloodPressure\": 88, \"SkinThickness\": 15, \"Insulin\": 155, \"BMI\": 32.4, \"DiabetesPedigreeFunction\": 0.262, \"Age\": 37, \"Outcome\": 0}, {\"Pregnancies\": 9, \"Glucose\": 154, \"BloodPressure\": 78, \"SkinThickness\": 30, \"Insulin\": 100, \"BMI\": 30.9, \"DiabetesPedigreeFunction\": 0.164, \"Age\": 45, \"Outcome\": 0}, {\"Pregnancies\": 5, \"Glucose\": 147, \"BloodPressure\": 78, \"SkinThickness\": 0, \"Insulin\": 0, \"BMI\": 33.7, \"DiabetesPedigreeFunction\": 0.218, \"Age\": 65, \"Outcome\": 0}, {\"Pregnancies\": 1, \"Glucose\": 71, \"BloodPressure\": 62, \"SkinThickness\": 0, \"Insulin\": 0, \"BMI\": 21.8, \"DiabetesPedigreeFunction\": 0.416, \"Age\": 26, \"Outcome\": 0}, {\"Pregnancies\": 1, \"Glucose\": 107, \"BloodPressure\": 50, \"SkinThickness\": 19, \"Insulin\": 0, \"BMI\": 28.3, \"DiabetesPedigreeFunction\": 0.181, \"Age\": 29, \"Outcome\": 0}, {\"Pregnancies\": 1, \"Glucose\": 126, \"BloodPressure\": 56, \"SkinThickness\": 29, \"Insulin\": 152, \"BMI\": 28.7, \"DiabetesPedigreeFunction\": 0.801, \"Age\": 21, \"Outcome\": 0}, {\"Pregnancies\": 1, \"Glucose\": 111, \"BloodPressure\": 94, \"SkinThickness\": 0, \"Insulin\": 0, \"BMI\": 32.8, \"DiabetesPedigreeFunction\": 0.265, \"Age\": 45, \"Outcome\": 0}, {\"Pregnancies\": 7, \"Glucose\": 160, \"BloodPressure\": 54, \"SkinThickness\": 32, \"Insulin\": 175, \"BMI\": 30.5, \"DiabetesPedigreeFunction\": 0.588, \"Age\": 39, \"Outcome\": 1}, {\"Pregnancies\": 3, \"Glucose\": 74, \"BloodPressure\": 68, \"SkinThickness\": 28, \"Insulin\": 45, \"BMI\": 29.7, \"DiabetesPedigreeFunction\": 0.293, \"Age\": 23, \"Outcome\": 0}, {\"Pregnancies\": 5, \"Glucose\": 103, \"BloodPressure\": 108, \"SkinThickness\": 37, \"Insulin\": 0, \"BMI\": 39.2, \"DiabetesPedigreeFunction\": 0.305, \"Age\": 65, \"Outcome\": 0}, {\"Pregnancies\": 4, \"Glucose\": 156, \"BloodPressure\": 75, \"SkinThickness\": 0, \"Insulin\": 0, \"BMI\": 48.3, \"DiabetesPedigreeFunction\": 0.238, \"Age\": 32, \"Outcome\": 1}, {\"Pregnancies\": 7, \"Glucose\": 105, \"BloodPressure\": 0, \"SkinThickness\": 0, \"Insulin\": 0, \"BMI\": 0.0, \"DiabetesPedigreeFunction\": 0.305, \"Age\": 24, \"Outcome\": 0}, {\"Pregnancies\": 6, \"Glucose\": 119, \"BloodPressure\": 50, \"SkinThickness\": 22, \"Insulin\": 176, \"BMI\": 27.1, \"DiabetesPedigreeFunction\": 1.318, \"Age\": 33, \"Outcome\": 1}, {\"Pregnancies\": 5, \"Glucose\": 77, \"BloodPressure\": 82, \"SkinThickness\": 41, \"Insulin\": 42, \"BMI\": 35.8, \"DiabetesPedigreeFunction\": 0.156, \"Age\": 35, \"Outcome\": 0}, {\"Pregnancies\": 5, \"Glucose\": 114, \"BloodPressure\": 74, \"SkinThickness\": 0, \"Insulin\": 0, \"BMI\": 24.9, \"DiabetesPedigreeFunction\": 0.744, \"Age\": 57, \"Outcome\": 0}, {\"Pregnancies\": 5, \"Glucose\": 130, \"BloodPressure\": 82, \"SkinThickness\": 0, \"Insulin\": 0, \"BMI\": 39.1, \"DiabetesPedigreeFunction\": 0.956, \"Age\": 37, \"Outcome\": 1}, {\"Pregnancies\": 1, \"Glucose\": 138, \"BloodPressure\": 82, \"SkinThickness\": 0, \"Insulin\": 0, \"BMI\": 40.1, \"DiabetesPedigreeFunction\": 0.236, \"Age\": 28, \"Outcome\": 0}, {\"Pregnancies\": 1, \"Glucose\": 109, \"BloodPressure\": 56, \"SkinThickness\": 21, \"Insulin\": 135, \"BMI\": 25.2, \"DiabetesPedigreeFunction\": 0.833, \"Age\": 23, \"Outcome\": 0}, {\"Pregnancies\": 6, \"Glucose\": 134, \"BloodPressure\": 80, \"SkinThickness\": 37, \"Insulin\": 370, \"BMI\": 46.2, \"DiabetesPedigreeFunction\": 0.238, \"Age\": 46, \"Outcome\": 1}, {\"Pregnancies\": 1, \"Glucose\": 108, \"BloodPressure\": 88, \"SkinThickness\": 19, \"Insulin\": 0, \"BMI\": 27.1, \"DiabetesPedigreeFunction\": 0.4, \"Age\": 24, \"Outcome\": 0}, {\"Pregnancies\": 1, \"Glucose\": 124, \"BloodPressure\": 60, \"SkinThickness\": 32, \"Insulin\": 0, \"BMI\": 35.8, \"DiabetesPedigreeFunction\": 0.514, \"Age\": 21, \"Outcome\": 0}, {\"Pregnancies\": 2, \"Glucose\": 105, \"BloodPressure\": 75, \"SkinThickness\": 0, \"Insulin\": 0, \"BMI\": 23.3, \"DiabetesPedigreeFunction\": 0.56, \"Age\": 53, \"Outcome\": 0}, {\"Pregnancies\": 7, \"Glucose\": 150, \"BloodPressure\": 78, \"SkinThickness\": 29, \"Insulin\": 126, \"BMI\": 35.2, \"DiabetesPedigreeFunction\": 0.692, \"Age\": 54, \"Outcome\": 1}, {\"Pregnancies\": 3, \"Glucose\": 121, \"BloodPressure\": 52, \"SkinThickness\": 0, \"Insulin\": 0, \"BMI\": 36.0, \"DiabetesPedigreeFunction\": 0.127, \"Age\": 25, \"Outcome\": 1}, {\"Pregnancies\": 14, \"Glucose\": 100, \"BloodPressure\": 78, \"SkinThickness\": 25, \"Insulin\": 184, \"BMI\": 36.6, \"DiabetesPedigreeFunction\": 0.412, \"Age\": 46, \"Outcome\": 1}, {\"Pregnancies\": 2, \"Glucose\": 92, \"BloodPressure\": 76, \"SkinThickness\": 20, \"Insulin\": 0, \"BMI\": 24.2, \"DiabetesPedigreeFunction\": 1.698, \"Age\": 28, \"Outcome\": 0}, {\"Pregnancies\": 3, \"Glucose\": 116, \"BloodPressure\": 74, \"SkinThickness\": 15, \"Insulin\": 105, \"BMI\": 26.3, \"DiabetesPedigreeFunction\": 0.107, \"Age\": 24, \"Outcome\": 0}, {\"Pregnancies\": 0, \"Glucose\": 126, \"BloodPressure\": 84, \"SkinThickness\": 29, \"Insulin\": 215, \"BMI\": 30.7, \"DiabetesPedigreeFunction\": 0.52, \"Age\": 24, \"Outcome\": 0}, {\"Pregnancies\": 3, \"Glucose\": 61, \"BloodPressure\": 82, \"SkinThickness\": 28, \"Insulin\": 0, \"BMI\": 34.4, \"DiabetesPedigreeFunction\": 0.243, \"Age\": 46, \"Outcome\": 0}, {\"Pregnancies\": 3, \"Glucose\": 88, \"BloodPressure\": 58, \"SkinThickness\": 11, \"Insulin\": 54, \"BMI\": 24.8, \"DiabetesPedigreeFunction\": 0.267, \"Age\": 22, \"Outcome\": 0}, {\"Pregnancies\": 5, \"Glucose\": 136, \"BloodPressure\": 84, \"SkinThickness\": 41, \"Insulin\": 88, \"BMI\": 35.0, \"DiabetesPedigreeFunction\": 0.286, \"Age\": 35, \"Outcome\": 1}, {\"Pregnancies\": 6, \"Glucose\": 103, \"BloodPressure\": 72, \"SkinThickness\": 32, \"Insulin\": 190, \"BMI\": 37.7, \"DiabetesPedigreeFunction\": 0.324, \"Age\": 55, \"Outcome\": 0}, {\"Pregnancies\": 1, \"Glucose\": 88, \"BloodPressure\": 30, \"SkinThickness\": 42, \"Insulin\": 99, \"BMI\": 55.0, \"DiabetesPedigreeFunction\": 0.496, \"Age\": 26, \"Outcome\": 1}, {\"Pregnancies\": 8, \"Glucose\": 179, \"BloodPressure\": 72, \"SkinThickness\": 42, \"Insulin\": 130, \"BMI\": 32.7, \"DiabetesPedigreeFunction\": 0.719, \"Age\": 36, \"Outcome\": 1}, {\"Pregnancies\": 2, \"Glucose\": 106, \"BloodPressure\": 56, \"SkinThickness\": 27, \"Insulin\": 165, \"BMI\": 29.0, \"DiabetesPedigreeFunction\": 0.426, \"Age\": 22, \"Outcome\": 0}, {\"Pregnancies\": 9, \"Glucose\": 91, \"BloodPressure\": 68, \"SkinThickness\": 0, \"Insulin\": 0, \"BMI\": 24.2, \"DiabetesPedigreeFunction\": 0.2, \"Age\": 58, \"Outcome\": 0}, {\"Pregnancies\": 4, \"Glucose\": 171, \"BloodPressure\": 72, \"SkinThickness\": 0, \"Insulin\": 0, \"BMI\": 43.6, \"DiabetesPedigreeFunction\": 0.479, \"Age\": 26, \"Outcome\": 1}, {\"Pregnancies\": 3, \"Glucose\": 171, \"BloodPressure\": 72, \"SkinThickness\": 33, \"Insulin\": 135, \"BMI\": 33.3, \"DiabetesPedigreeFunction\": 0.199, \"Age\": 24, \"Outcome\": 1}, {\"Pregnancies\": 6, \"Glucose\": 144, \"BloodPressure\": 72, \"SkinThickness\": 27, \"Insulin\": 228, \"BMI\": 33.9, \"DiabetesPedigreeFunction\": 0.255, \"Age\": 40, \"Outcome\": 0}, {\"Pregnancies\": 5, \"Glucose\": 168, \"BloodPressure\": 64, \"SkinThickness\": 0, \"Insulin\": 0, \"BMI\": 32.9, \"DiabetesPedigreeFunction\": 0.135, \"Age\": 41, \"Outcome\": 1}, {\"Pregnancies\": 3, \"Glucose\": 126, \"BloodPressure\": 88, \"SkinThickness\": 41, \"Insulin\": 235, \"BMI\": 39.3, \"DiabetesPedigreeFunction\": 0.704, \"Age\": 27, \"Outcome\": 0}, {\"Pregnancies\": 2, \"Glucose\": 120, \"BloodPressure\": 54, \"SkinThickness\": 0, \"Insulin\": 0, \"BMI\": 26.8, \"DiabetesPedigreeFunction\": 0.455, \"Age\": 27, \"Outcome\": 0}, {\"Pregnancies\": 1, \"Glucose\": 112, \"BloodPressure\": 80, \"SkinThickness\": 45, \"Insulin\": 132, \"BMI\": 34.8, \"DiabetesPedigreeFunction\": 0.217, \"Age\": 24, \"Outcome\": 0}, {\"Pregnancies\": 13, \"Glucose\": 145, \"BloodPressure\": 82, \"SkinThickness\": 19, \"Insulin\": 110, \"BMI\": 22.2, \"DiabetesPedigreeFunction\": 0.245, \"Age\": 57, \"Outcome\": 0}, {\"Pregnancies\": 0, \"Glucose\": 104, \"BloodPressure\": 64, \"SkinThickness\": 23, \"Insulin\": 116, \"BMI\": 27.8, \"DiabetesPedigreeFunction\": 0.454, \"Age\": 23, \"Outcome\": 0}, {\"Pregnancies\": 4, \"Glucose\": 90, \"BloodPressure\": 88, \"SkinThickness\": 47, \"Insulin\": 54, \"BMI\": 37.7, \"DiabetesPedigreeFunction\": 0.362, \"Age\": 29, \"Outcome\": 0}, {\"Pregnancies\": 2, \"Glucose\": 108, \"BloodPressure\": 80, \"SkinThickness\": 0, \"Insulin\": 0, \"BMI\": 27.0, \"DiabetesPedigreeFunction\": 0.259, \"Age\": 52, \"Outcome\": 1}, {\"Pregnancies\": 0, \"Glucose\": 125, \"BloodPressure\": 68, \"SkinThickness\": 0, \"Insulin\": 0, \"BMI\": 24.7, \"DiabetesPedigreeFunction\": 0.206, \"Age\": 21, \"Outcome\": 0}, {\"Pregnancies\": 3, \"Glucose\": 111, \"BloodPressure\": 56, \"SkinThickness\": 39, \"Insulin\": 0, \"BMI\": 30.1, \"DiabetesPedigreeFunction\": 0.557, \"Age\": 30, \"Outcome\": 0}, {\"Pregnancies\": 4, \"Glucose\": 141, \"BloodPressure\": 74, \"SkinThickness\": 0, \"Insulin\": 0, \"BMI\": 27.6, \"DiabetesPedigreeFunction\": 0.244, \"Age\": 40, \"Outcome\": 0}, {\"Pregnancies\": 0, \"Glucose\": 179, \"BloodPressure\": 50, \"SkinThickness\": 36, \"Insulin\": 159, \"BMI\": 37.8, \"DiabetesPedigreeFunction\": 0.455, \"Age\": 22, \"Outcome\": 1}, {\"Pregnancies\": 0, \"Glucose\": 151, \"BloodPressure\": 90, \"SkinThickness\": 46, \"Insulin\": 0, \"BMI\": 42.1, \"DiabetesPedigreeFunction\": 0.371, \"Age\": 21, \"Outcome\": 1}, {\"Pregnancies\": 0, \"Glucose\": 147, \"BloodPressure\": 85, \"SkinThickness\": 54, \"Insulin\": 0, \"BMI\": 42.8, \"DiabetesPedigreeFunction\": 0.375, \"Age\": 24, \"Outcome\": 0}, {\"Pregnancies\": 0, \"Glucose\": 173, \"BloodPressure\": 78, \"SkinThickness\": 32, \"Insulin\": 265, \"BMI\": 46.5, \"DiabetesPedigreeFunction\": 1.159, \"Age\": 58, \"Outcome\": 0}, {\"Pregnancies\": 1, \"Glucose\": 107, \"BloodPressure\": 68, \"SkinThickness\": 19, \"Insulin\": 0, \"BMI\": 26.5, \"DiabetesPedigreeFunction\": 0.165, \"Age\": 24, \"Outcome\": 0}, {\"Pregnancies\": 0, \"Glucose\": 98, \"BloodPressure\": 82, \"SkinThickness\": 15, \"Insulin\": 84, \"BMI\": 25.2, \"DiabetesPedigreeFunction\": 0.299, \"Age\": 22, \"Outcome\": 0}, {\"Pregnancies\": 4, \"Glucose\": 197, \"BloodPressure\": 70, \"SkinThickness\": 39, \"Insulin\": 744, \"BMI\": 36.7, \"DiabetesPedigreeFunction\": 2.329, \"Age\": 31, \"Outcome\": 0}, {\"Pregnancies\": 9, \"Glucose\": 123, \"BloodPressure\": 70, \"SkinThickness\": 44, \"Insulin\": 94, \"BMI\": 33.1, \"DiabetesPedigreeFunction\": 0.374, \"Age\": 40, \"Outcome\": 0}, {\"Pregnancies\": 6, \"Glucose\": 114, \"BloodPressure\": 0, \"SkinThickness\": 0, \"Insulin\": 0, \"BMI\": 0.0, \"DiabetesPedigreeFunction\": 0.189, \"Age\": 26, \"Outcome\": 0}, {\"Pregnancies\": 4, \"Glucose\": 110, \"BloodPressure\": 76, \"SkinThickness\": 20, \"Insulin\": 100, \"BMI\": 28.4, \"DiabetesPedigreeFunction\": 0.118, \"Age\": 27, \"Outcome\": 0}, {\"Pregnancies\": 2, \"Glucose\": 174, \"BloodPressure\": 88, \"SkinThickness\": 37, \"Insulin\": 120, \"BMI\": 44.5, \"DiabetesPedigreeFunction\": 0.646, \"Age\": 24, \"Outcome\": 1}, {\"Pregnancies\": 2, \"Glucose\": 68, \"BloodPressure\": 62, \"SkinThickness\": 13, \"Insulin\": 15, \"BMI\": 20.1, \"DiabetesPedigreeFunction\": 0.257, \"Age\": 23, \"Outcome\": 0}, {\"Pregnancies\": 1, \"Glucose\": 97, \"BloodPressure\": 64, \"SkinThickness\": 19, \"Insulin\": 82, \"BMI\": 18.2, \"DiabetesPedigreeFunction\": 0.299, \"Age\": 21, \"Outcome\": 0}, {\"Pregnancies\": 4, \"Glucose\": 125, \"BloodPressure\": 80, \"SkinThickness\": 0, \"Insulin\": 0, \"BMI\": 32.3, \"DiabetesPedigreeFunction\": 0.536, \"Age\": 27, \"Outcome\": 1}, {\"Pregnancies\": 3, \"Glucose\": 132, \"BloodPressure\": 80, \"SkinThickness\": 0, \"Insulin\": 0, \"BMI\": 34.4, \"DiabetesPedigreeFunction\": 0.402, \"Age\": 44, \"Outcome\": 1}, {\"Pregnancies\": 1, \"Glucose\": 97, \"BloodPressure\": 66, \"SkinThickness\": 15, \"Insulin\": 140, \"BMI\": 23.2, \"DiabetesPedigreeFunction\": 0.487, \"Age\": 22, \"Outcome\": 0}, {\"Pregnancies\": 1, \"Glucose\": 128, \"BloodPressure\": 82, \"SkinThickness\": 17, \"Insulin\": 183, \"BMI\": 27.5, \"DiabetesPedigreeFunction\": 0.115, \"Age\": 22, \"Outcome\": 0}, {\"Pregnancies\": 5, \"Glucose\": 109, \"BloodPressure\": 62, \"SkinThickness\": 41, \"Insulin\": 129, \"BMI\": 35.8, \"DiabetesPedigreeFunction\": 0.514, \"Age\": 25, \"Outcome\": 1}, {\"Pregnancies\": 9, \"Glucose\": 124, \"BloodPressure\": 70, \"SkinThickness\": 33, \"Insulin\": 402, \"BMI\": 35.4, \"DiabetesPedigreeFunction\": 0.282, \"Age\": 34, \"Outcome\": 0}, {\"Pregnancies\": 5, \"Glucose\": 139, \"BloodPressure\": 80, \"SkinThickness\": 35, \"Insulin\": 160, \"BMI\": 31.6, \"DiabetesPedigreeFunction\": 0.361, \"Age\": 25, \"Outcome\": 1}, {\"Pregnancies\": 7, \"Glucose\": 195, \"BloodPressure\": 70, \"SkinThickness\": 33, \"Insulin\": 145, \"BMI\": 25.1, \"DiabetesPedigreeFunction\": 0.163, \"Age\": 55, \"Outcome\": 1}, {\"Pregnancies\": 5, \"Glucose\": 166, \"BloodPressure\": 76, \"SkinThickness\": 0, \"Insulin\": 0, \"BMI\": 45.7, \"DiabetesPedigreeFunction\": 0.34, \"Age\": 27, \"Outcome\": 1}, {\"Pregnancies\": 0, \"Glucose\": 141, \"BloodPressure\": 0, \"SkinThickness\": 0, \"Insulin\": 0, \"BMI\": 42.4, \"DiabetesPedigreeFunction\": 0.205, \"Age\": 29, \"Outcome\": 1}, {\"Pregnancies\": 2, \"Glucose\": 100, \"BloodPressure\": 66, \"SkinThickness\": 20, \"Insulin\": 90, \"BMI\": 32.9, \"DiabetesPedigreeFunction\": 0.867, \"Age\": 28, \"Outcome\": 1}, {\"Pregnancies\": 1, \"Glucose\": 119, \"BloodPressure\": 86, \"SkinThickness\": 39, \"Insulin\": 220, \"BMI\": 45.6, \"DiabetesPedigreeFunction\": 0.808, \"Age\": 29, \"Outcome\": 1}, {\"Pregnancies\": 3, \"Glucose\": 108, \"BloodPressure\": 62, \"SkinThickness\": 24, \"Insulin\": 0, \"BMI\": 26.0, \"DiabetesPedigreeFunction\": 0.223, \"Age\": 25, \"Outcome\": 0}, {\"Pregnancies\": 11, \"Glucose\": 111, \"BloodPressure\": 84, \"SkinThickness\": 40, \"Insulin\": 0, \"BMI\": 46.8, \"DiabetesPedigreeFunction\": 0.925, \"Age\": 45, \"Outcome\": 1}, {\"Pregnancies\": 3, \"Glucose\": 102, \"BloodPressure\": 74, \"SkinThickness\": 0, \"Insulin\": 0, \"BMI\": 29.5, \"DiabetesPedigreeFunction\": 0.121, \"Age\": 32, \"Outcome\": 0}, {\"Pregnancies\": 8, \"Glucose\": 99, \"BloodPressure\": 84, \"SkinThickness\": 0, \"Insulin\": 0, \"BMI\": 35.4, \"DiabetesPedigreeFunction\": 0.388, \"Age\": 50, \"Outcome\": 0}, {\"Pregnancies\": 1, \"Glucose\": 81, \"BloodPressure\": 74, \"SkinThickness\": 41, \"Insulin\": 57, \"BMI\": 46.3, \"DiabetesPedigreeFunction\": 1.096, \"Age\": 32, \"Outcome\": 0}, {\"Pregnancies\": 1, \"Glucose\": 102, \"BloodPressure\": 74, \"SkinThickness\": 0, \"Insulin\": 0, \"BMI\": 39.5, \"DiabetesPedigreeFunction\": 0.293, \"Age\": 42, \"Outcome\": 1}, {\"Pregnancies\": 6, \"Glucose\": 183, \"BloodPressure\": 94, \"SkinThickness\": 0, \"Insulin\": 0, \"BMI\": 40.8, \"DiabetesPedigreeFunction\": 1.461, \"Age\": 45, \"Outcome\": 0}, {\"Pregnancies\": 1, \"Glucose\": 109, \"BloodPressure\": 38, \"SkinThickness\": 18, \"Insulin\": 120, \"BMI\": 23.1, \"DiabetesPedigreeFunction\": 0.407, \"Age\": 26, \"Outcome\": 0}, {\"Pregnancies\": 3, \"Glucose\": 81, \"BloodPressure\": 86, \"SkinThickness\": 16, \"Insulin\": 66, \"BMI\": 27.5, \"DiabetesPedigreeFunction\": 0.306, \"Age\": 22, \"Outcome\": 0}, {\"Pregnancies\": 0, \"Glucose\": 165, \"BloodPressure\": 76, \"SkinThickness\": 43, \"Insulin\": 255, \"BMI\": 47.9, \"DiabetesPedigreeFunction\": 0.259, \"Age\": 26, \"Outcome\": 0}, {\"Pregnancies\": 10, \"Glucose\": 111, \"BloodPressure\": 70, \"SkinThickness\": 27, \"Insulin\": 0, \"BMI\": 27.5, \"DiabetesPedigreeFunction\": 0.141, \"Age\": 40, \"Outcome\": 1}, {\"Pregnancies\": 5, \"Glucose\": 112, \"BloodPressure\": 66, \"SkinThickness\": 0, \"Insulin\": 0, \"BMI\": 37.8, \"DiabetesPedigreeFunction\": 0.261, \"Age\": 41, \"Outcome\": 1}, {\"Pregnancies\": 4, \"Glucose\": 122, \"BloodPressure\": 68, \"SkinThickness\": 0, \"Insulin\": 0, \"BMI\": 35.0, \"DiabetesPedigreeFunction\": 0.394, \"Age\": 29, \"Outcome\": 0}, {\"Pregnancies\": 7, \"Glucose\": 142, \"BloodPressure\": 60, \"SkinThickness\": 33, \"Insulin\": 190, \"BMI\": 28.8, \"DiabetesPedigreeFunction\": 0.687, \"Age\": 61, \"Outcome\": 0}, {\"Pregnancies\": 0, \"Glucose\": 95, \"BloodPressure\": 80, \"SkinThickness\": 45, \"Insulin\": 92, \"BMI\": 36.5, \"DiabetesPedigreeFunction\": 0.33, \"Age\": 26, \"Outcome\": 0}, {\"Pregnancies\": 0, \"Glucose\": 138, \"BloodPressure\": 60, \"SkinThickness\": 35, \"Insulin\": 167, \"BMI\": 34.6, \"DiabetesPedigreeFunction\": 0.534, \"Age\": 21, \"Outcome\": 1}, {\"Pregnancies\": 4, \"Glucose\": 96, \"BloodPressure\": 56, \"SkinThickness\": 17, \"Insulin\": 49, \"BMI\": 20.8, \"DiabetesPedigreeFunction\": 0.34, \"Age\": 26, \"Outcome\": 0}, {\"Pregnancies\": 10, \"Glucose\": 92, \"BloodPressure\": 62, \"SkinThickness\": 0, \"Insulin\": 0, \"BMI\": 25.9, \"DiabetesPedigreeFunction\": 0.167, \"Age\": 31, \"Outcome\": 0}, {\"Pregnancies\": 4, \"Glucose\": 151, \"BloodPressure\": 90, \"SkinThickness\": 38, \"Insulin\": 0, \"BMI\": 29.7, \"DiabetesPedigreeFunction\": 0.294, \"Age\": 36, \"Outcome\": 0}, {\"Pregnancies\": 0, \"Glucose\": 105, \"BloodPressure\": 90, \"SkinThickness\": 0, \"Insulin\": 0, \"BMI\": 29.6, \"DiabetesPedigreeFunction\": 0.197, \"Age\": 46, \"Outcome\": 0}, {\"Pregnancies\": 6, \"Glucose\": 124, \"BloodPressure\": 72, \"SkinThickness\": 0, \"Insulin\": 0, \"BMI\": 27.6, \"DiabetesPedigreeFunction\": 0.368, \"Age\": 29, \"Outcome\": 1}, {\"Pregnancies\": 3, \"Glucose\": 116, \"BloodPressure\": 0, \"SkinThickness\": 0, \"Insulin\": 0, \"BMI\": 23.5, \"DiabetesPedigreeFunction\": 0.187, \"Age\": 23, \"Outcome\": 0}, {\"Pregnancies\": 2, \"Glucose\": 99, \"BloodPressure\": 60, \"SkinThickness\": 17, \"Insulin\": 160, \"BMI\": 36.6, \"DiabetesPedigreeFunction\": 0.453, \"Age\": 21, \"Outcome\": 0}, {\"Pregnancies\": 2, \"Glucose\": 121, \"BloodPressure\": 70, \"SkinThickness\": 32, \"Insulin\": 95, \"BMI\": 39.1, \"DiabetesPedigreeFunction\": 0.886, \"Age\": 23, \"Outcome\": 0}, {\"Pregnancies\": 1, \"Glucose\": 82, \"BloodPressure\": 64, \"SkinThickness\": 13, \"Insulin\": 95, \"BMI\": 21.2, \"DiabetesPedigreeFunction\": 0.415, \"Age\": 23, \"Outcome\": 0}, {\"Pregnancies\": 1, \"Glucose\": 193, \"BloodPressure\": 50, \"SkinThickness\": 16, \"Insulin\": 375, \"BMI\": 25.9, \"DiabetesPedigreeFunction\": 0.655, \"Age\": 24, \"Outcome\": 0}, {\"Pregnancies\": 8, \"Glucose\": 120, \"BloodPressure\": 78, \"SkinThickness\": 0, \"Insulin\": 0, \"BMI\": 25.0, \"DiabetesPedigreeFunction\": 0.409, \"Age\": 64, \"Outcome\": 0}, {\"Pregnancies\": 5, \"Glucose\": 88, \"BloodPressure\": 66, \"SkinThickness\": 21, \"Insulin\": 23, \"BMI\": 24.4, \"DiabetesPedigreeFunction\": 0.342, \"Age\": 30, \"Outcome\": 0}, {\"Pregnancies\": 2, \"Glucose\": 111, \"BloodPressure\": 60, \"SkinThickness\": 0, \"Insulin\": 0, \"BMI\": 26.2, \"DiabetesPedigreeFunction\": 0.343, \"Age\": 23, \"Outcome\": 0}, {\"Pregnancies\": 4, \"Glucose\": 114, \"BloodPressure\": 64, \"SkinThickness\": 0, \"Insulin\": 0, \"BMI\": 28.9, \"DiabetesPedigreeFunction\": 0.126, \"Age\": 24, \"Outcome\": 0}, {\"Pregnancies\": 2, \"Glucose\": 142, \"BloodPressure\": 82, \"SkinThickness\": 18, \"Insulin\": 64, \"BMI\": 24.7, \"DiabetesPedigreeFunction\": 0.761, \"Age\": 21, \"Outcome\": 0}, {\"Pregnancies\": 2, \"Glucose\": 119, \"BloodPressure\": 0, \"SkinThickness\": 0, \"Insulin\": 0, \"BMI\": 19.6, \"DiabetesPedigreeFunction\": 0.832, \"Age\": 72, \"Outcome\": 0}, {\"Pregnancies\": 4, \"Glucose\": 117, \"BloodPressure\": 62, \"SkinThickness\": 12, \"Insulin\": 0, \"BMI\": 29.7, \"DiabetesPedigreeFunction\": 0.38, \"Age\": 30, \"Outcome\": 1}, {\"Pregnancies\": 1, \"Glucose\": 77, \"BloodPressure\": 56, \"SkinThickness\": 30, \"Insulin\": 56, \"BMI\": 33.3, \"DiabetesPedigreeFunction\": 1.251, \"Age\": 24, \"Outcome\": 0}, {\"Pregnancies\": 2, \"Glucose\": 85, \"BloodPressure\": 65, \"SkinThickness\": 0, \"Insulin\": 0, \"BMI\": 39.6, \"DiabetesPedigreeFunction\": 0.93, \"Age\": 27, \"Outcome\": 0}, {\"Pregnancies\": 7, \"Glucose\": 168, \"BloodPressure\": 88, \"SkinThickness\": 42, \"Insulin\": 321, \"BMI\": 38.2, \"DiabetesPedigreeFunction\": 0.787, \"Age\": 40, \"Outcome\": 1}, {\"Pregnancies\": 1, \"Glucose\": 93, \"BloodPressure\": 56, \"SkinThickness\": 11, \"Insulin\": 0, \"BMI\": 22.5, \"DiabetesPedigreeFunction\": 0.417, \"Age\": 22, \"Outcome\": 0}, {\"Pregnancies\": 1, \"Glucose\": 90, \"BloodPressure\": 62, \"SkinThickness\": 12, \"Insulin\": 43, \"BMI\": 27.2, \"DiabetesPedigreeFunction\": 0.58, \"Age\": 24, \"Outcome\": 0}, {\"Pregnancies\": 8, \"Glucose\": 107, \"BloodPressure\": 80, \"SkinThickness\": 0, \"Insulin\": 0, \"BMI\": 24.6, \"DiabetesPedigreeFunction\": 0.856, \"Age\": 34, \"Outcome\": 0}, {\"Pregnancies\": 3, \"Glucose\": 187, \"BloodPressure\": 70, \"SkinThickness\": 22, \"Insulin\": 200, \"BMI\": 36.4, \"DiabetesPedigreeFunction\": 0.408, \"Age\": 36, \"Outcome\": 1}, {\"Pregnancies\": 8, \"Glucose\": 143, \"BloodPressure\": 66, \"SkinThickness\": 0, \"Insulin\": 0, \"BMI\": 34.9, \"DiabetesPedigreeFunction\": 0.129, \"Age\": 41, \"Outcome\": 1}, {\"Pregnancies\": 4, \"Glucose\": 91, \"BloodPressure\": 70, \"SkinThickness\": 32, \"Insulin\": 88, \"BMI\": 33.1, \"DiabetesPedigreeFunction\": 0.446, \"Age\": 22, \"Outcome\": 0}, {\"Pregnancies\": 12, \"Glucose\": 106, \"BloodPressure\": 80, \"SkinThickness\": 0, \"Insulin\": 0, \"BMI\": 23.6, \"DiabetesPedigreeFunction\": 0.137, \"Age\": 44, \"Outcome\": 0}, {\"Pregnancies\": 5, \"Glucose\": 139, \"BloodPressure\": 64, \"SkinThickness\": 35, \"Insulin\": 140, \"BMI\": 28.6, \"DiabetesPedigreeFunction\": 0.411, \"Age\": 26, \"Outcome\": 0}, {\"Pregnancies\": 1, \"Glucose\": 125, \"BloodPressure\": 50, \"SkinThickness\": 40, \"Insulin\": 167, \"BMI\": 33.3, \"DiabetesPedigreeFunction\": 0.962, \"Age\": 28, \"Outcome\": 1}, {\"Pregnancies\": 3, \"Glucose\": 78, \"BloodPressure\": 50, \"SkinThickness\": 32, \"Insulin\": 88, \"BMI\": 31.0, \"DiabetesPedigreeFunction\": 0.248, \"Age\": 26, \"Outcome\": 1}, {\"Pregnancies\": 4, \"Glucose\": 99, \"BloodPressure\": 68, \"SkinThickness\": 38, \"Insulin\": 0, \"BMI\": 32.8, \"DiabetesPedigreeFunction\": 0.145, \"Age\": 33, \"Outcome\": 0}, {\"Pregnancies\": 9, \"Glucose\": 72, \"BloodPressure\": 78, \"SkinThickness\": 25, \"Insulin\": 0, \"BMI\": 31.6, \"DiabetesPedigreeFunction\": 0.28, \"Age\": 38, \"Outcome\": 0}, {\"Pregnancies\": 2, \"Glucose\": 108, \"BloodPressure\": 64, \"SkinThickness\": 0, \"Insulin\": 0, \"BMI\": 30.8, \"DiabetesPedigreeFunction\": 0.158, \"Age\": 21, \"Outcome\": 0}, {\"Pregnancies\": 6, \"Glucose\": 154, \"BloodPressure\": 78, \"SkinThickness\": 41, \"Insulin\": 140, \"BMI\": 46.1, \"DiabetesPedigreeFunction\": 0.571, \"Age\": 27, \"Outcome\": 0}, {\"Pregnancies\": 0, \"Glucose\": 119, \"BloodPressure\": 0, \"SkinThickness\": 0, \"Insulin\": 0, \"BMI\": 32.4, \"DiabetesPedigreeFunction\": 0.141, \"Age\": 24, \"Outcome\": 1}, {\"Pregnancies\": 13, \"Glucose\": 76, \"BloodPressure\": 60, \"SkinThickness\": 0, \"Insulin\": 0, \"BMI\": 32.8, \"DiabetesPedigreeFunction\": 0.18, \"Age\": 41, \"Outcome\": 0}, {\"Pregnancies\": 2, \"Glucose\": 175, \"BloodPressure\": 88, \"SkinThickness\": 0, \"Insulin\": 0, \"BMI\": 22.9, \"DiabetesPedigreeFunction\": 0.326, \"Age\": 22, \"Outcome\": 0}, {\"Pregnancies\": 8, \"Glucose\": 133, \"BloodPressure\": 72, \"SkinThickness\": 0, \"Insulin\": 0, \"BMI\": 32.9, \"DiabetesPedigreeFunction\": 0.27, \"Age\": 39, \"Outcome\": 1}, {\"Pregnancies\": 0, \"Glucose\": 95, \"BloodPressure\": 64, \"SkinThickness\": 39, \"Insulin\": 105, \"BMI\": 44.6, \"DiabetesPedigreeFunction\": 0.366, \"Age\": 22, \"Outcome\": 0}, {\"Pregnancies\": 0, \"Glucose\": 180, \"BloodPressure\": 78, \"SkinThickness\": 63, \"Insulin\": 14, \"BMI\": 59.4, \"DiabetesPedigreeFunction\": 2.42, \"Age\": 25, \"Outcome\": 1}, {\"Pregnancies\": 5, \"Glucose\": 44, \"BloodPressure\": 62, \"SkinThickness\": 0, \"Insulin\": 0, \"BMI\": 25.0, \"DiabetesPedigreeFunction\": 0.587, \"Age\": 36, \"Outcome\": 0}, {\"Pregnancies\": 3, \"Glucose\": 89, \"BloodPressure\": 74, \"SkinThickness\": 16, \"Insulin\": 85, \"BMI\": 30.4, \"DiabetesPedigreeFunction\": 0.551, \"Age\": 38, \"Outcome\": 0}, {\"Pregnancies\": 9, \"Glucose\": 102, \"BloodPressure\": 76, \"SkinThickness\": 37, \"Insulin\": 0, \"BMI\": 32.9, \"DiabetesPedigreeFunction\": 0.665, \"Age\": 46, \"Outcome\": 1}, {\"Pregnancies\": 1, \"Glucose\": 124, \"BloodPressure\": 74, \"SkinThickness\": 36, \"Insulin\": 0, \"BMI\": 27.8, \"DiabetesPedigreeFunction\": 0.1, \"Age\": 30, \"Outcome\": 0}, {\"Pregnancies\": 1, \"Glucose\": 117, \"BloodPressure\": 88, \"SkinThickness\": 24, \"Insulin\": 145, \"BMI\": 34.5, \"DiabetesPedigreeFunction\": 0.403, \"Age\": 40, \"Outcome\": 1}, {\"Pregnancies\": 0, \"Glucose\": 181, \"BloodPressure\": 88, \"SkinThickness\": 44, \"Insulin\": 510, \"BMI\": 43.3, \"DiabetesPedigreeFunction\": 0.222, \"Age\": 26, \"Outcome\": 1}, {\"Pregnancies\": 0, \"Glucose\": 127, \"BloodPressure\": 80, \"SkinThickness\": 37, \"Insulin\": 210, \"BMI\": 36.3, \"DiabetesPedigreeFunction\": 0.804, \"Age\": 23, \"Outcome\": 0}, {\"Pregnancies\": 6, \"Glucose\": 104, \"BloodPressure\": 74, \"SkinThickness\": 18, \"Insulin\": 156, \"BMI\": 29.9, \"DiabetesPedigreeFunction\": 0.722, \"Age\": 41, \"Outcome\": 1}, {\"Pregnancies\": 3, \"Glucose\": 87, \"BloodPressure\": 60, \"SkinThickness\": 18, \"Insulin\": 0, \"BMI\": 21.8, \"DiabetesPedigreeFunction\": 0.444, \"Age\": 21, \"Outcome\": 0}, {\"Pregnancies\": 10, \"Glucose\": 115, \"BloodPressure\": 0, \"SkinThickness\": 0, \"Insulin\": 0, \"BMI\": 35.3, \"DiabetesPedigreeFunction\": 0.134, \"Age\": 29, \"Outcome\": 0}, {\"Pregnancies\": 2, \"Glucose\": 101, \"BloodPressure\": 58, \"SkinThickness\": 17, \"Insulin\": 265, \"BMI\": 24.2, \"DiabetesPedigreeFunction\": 0.614, \"Age\": 23, \"Outcome\": 0}, {\"Pregnancies\": 2, \"Glucose\": 90, \"BloodPressure\": 68, \"SkinThickness\": 42, \"Insulin\": 0, \"BMI\": 38.2, \"DiabetesPedigreeFunction\": 0.503, \"Age\": 27, \"Outcome\": 1}, {\"Pregnancies\": 6, \"Glucose\": 123, \"BloodPressure\": 72, \"SkinThickness\": 45, \"Insulin\": 230, \"BMI\": 33.6, \"DiabetesPedigreeFunction\": 0.733, \"Age\": 34, \"Outcome\": 0}, {\"Pregnancies\": 4, \"Glucose\": 95, \"BloodPressure\": 64, \"SkinThickness\": 0, \"Insulin\": 0, \"BMI\": 32.0, \"DiabetesPedigreeFunction\": 0.161, \"Age\": 31, \"Outcome\": 1}, {\"Pregnancies\": 1, \"Glucose\": 99, \"BloodPressure\": 58, \"SkinThickness\": 10, \"Insulin\": 0, \"BMI\": 25.4, \"DiabetesPedigreeFunction\": 0.551, \"Age\": 21, \"Outcome\": 0}, {\"Pregnancies\": 1, \"Glucose\": 80, \"BloodPressure\": 55, \"SkinThickness\": 0, \"Insulin\": 0, \"BMI\": 19.1, \"DiabetesPedigreeFunction\": 0.258, \"Age\": 21, \"Outcome\": 0}, {\"Pregnancies\": 10, \"Glucose\": 139, \"BloodPressure\": 80, \"SkinThickness\": 0, \"Insulin\": 0, \"BMI\": 27.1, \"DiabetesPedigreeFunction\": 1.441, \"Age\": 57, \"Outcome\": 0}, {\"Pregnancies\": 5, \"Glucose\": 126, \"BloodPressure\": 78, \"SkinThickness\": 27, \"Insulin\": 22, \"BMI\": 29.6, \"DiabetesPedigreeFunction\": 0.439, \"Age\": 40, \"Outcome\": 0}, {\"Pregnancies\": 1, \"Glucose\": 86, \"BloodPressure\": 66, \"SkinThickness\": 52, \"Insulin\": 65, \"BMI\": 41.3, \"DiabetesPedigreeFunction\": 0.917, \"Age\": 29, \"Outcome\": 0}, {\"Pregnancies\": 6, \"Glucose\": 107, \"BloodPressure\": 88, \"SkinThickness\": 0, \"Insulin\": 0, \"BMI\": 36.8, \"DiabetesPedigreeFunction\": 0.727, \"Age\": 31, \"Outcome\": 0}, {\"Pregnancies\": 5, \"Glucose\": 155, \"BloodPressure\": 84, \"SkinThickness\": 44, \"Insulin\": 545, \"BMI\": 38.7, \"DiabetesPedigreeFunction\": 0.619, \"Age\": 34, \"Outcome\": 0}, {\"Pregnancies\": 4, \"Glucose\": 154, \"BloodPressure\": 62, \"SkinThickness\": 31, \"Insulin\": 284, \"BMI\": 32.8, \"DiabetesPedigreeFunction\": 0.237, \"Age\": 23, \"Outcome\": 0}, {\"Pregnancies\": 8, \"Glucose\": 186, \"BloodPressure\": 90, \"SkinThickness\": 35, \"Insulin\": 225, \"BMI\": 34.5, \"DiabetesPedigreeFunction\": 0.423, \"Age\": 37, \"Outcome\": 1}, {\"Pregnancies\": 2, \"Glucose\": 117, \"BloodPressure\": 90, \"SkinThickness\": 19, \"Insulin\": 71, \"BMI\": 25.2, \"DiabetesPedigreeFunction\": 0.313, \"Age\": 21, \"Outcome\": 0}, {\"Pregnancies\": 1, \"Glucose\": 143, \"BloodPressure\": 74, \"SkinThickness\": 22, \"Insulin\": 61, \"BMI\": 26.2, \"DiabetesPedigreeFunction\": 0.256, \"Age\": 21, \"Outcome\": 0}, {\"Pregnancies\": 2, \"Glucose\": 112, \"BloodPressure\": 78, \"SkinThickness\": 50, \"Insulin\": 140, \"BMI\": 39.4, \"DiabetesPedigreeFunction\": 0.175, \"Age\": 24, \"Outcome\": 0}, {\"Pregnancies\": 2, \"Glucose\": 122, \"BloodPressure\": 76, \"SkinThickness\": 27, \"Insulin\": 200, \"BMI\": 35.9, \"DiabetesPedigreeFunction\": 0.483, \"Age\": 26, \"Outcome\": 0}, {\"Pregnancies\": 7, \"Glucose\": 114, \"BloodPressure\": 76, \"SkinThickness\": 17, \"Insulin\": 110, \"BMI\": 23.8, \"DiabetesPedigreeFunction\": 0.466, \"Age\": 31, \"Outcome\": 0}, {\"Pregnancies\": 5, \"Glucose\": 78, \"BloodPressure\": 48, \"SkinThickness\": 0, \"Insulin\": 0, \"BMI\": 33.7, \"DiabetesPedigreeFunction\": 0.654, \"Age\": 25, \"Outcome\": 0}, {\"Pregnancies\": 1, \"Glucose\": 71, \"BloodPressure\": 48, \"SkinThickness\": 18, \"Insulin\": 76, \"BMI\": 20.4, \"DiabetesPedigreeFunction\": 0.323, \"Age\": 22, \"Outcome\": 0}, {\"Pregnancies\": 10, \"Glucose\": 125, \"BloodPressure\": 70, \"SkinThickness\": 26, \"Insulin\": 115, \"BMI\": 31.1, \"DiabetesPedigreeFunction\": 0.205, \"Age\": 41, \"Outcome\": 1}, {\"Pregnancies\": 4, \"Glucose\": 94, \"BloodPressure\": 65, \"SkinThickness\": 22, \"Insulin\": 0, \"BMI\": 24.7, \"DiabetesPedigreeFunction\": 0.148, \"Age\": 21, \"Outcome\": 0}, {\"Pregnancies\": 2, \"Glucose\": 100, \"BloodPressure\": 64, \"SkinThickness\": 23, \"Insulin\": 0, \"BMI\": 29.7, \"DiabetesPedigreeFunction\": 0.368, \"Age\": 21, \"Outcome\": 0}, {\"Pregnancies\": 2, \"Glucose\": 74, \"BloodPressure\": 0, \"SkinThickness\": 0, \"Insulin\": 0, \"BMI\": 0.0, \"DiabetesPedigreeFunction\": 0.102, \"Age\": 22, \"Outcome\": 0}, {\"Pregnancies\": 5, \"Glucose\": 158, \"BloodPressure\": 70, \"SkinThickness\": 0, \"Insulin\": 0, \"BMI\": 29.8, \"DiabetesPedigreeFunction\": 0.207, \"Age\": 63, \"Outcome\": 0}, {\"Pregnancies\": 8, \"Glucose\": 84, \"BloodPressure\": 74, \"SkinThickness\": 31, \"Insulin\": 0, \"BMI\": 38.3, \"DiabetesPedigreeFunction\": 0.457, \"Age\": 39, \"Outcome\": 0}, {\"Pregnancies\": 1, \"Glucose\": 85, \"BloodPressure\": 66, \"SkinThickness\": 29, \"Insulin\": 0, \"BMI\": 26.6, \"DiabetesPedigreeFunction\": 0.351, \"Age\": 31, \"Outcome\": 0}, {\"Pregnancies\": 6, \"Glucose\": 92, \"BloodPressure\": 62, \"SkinThickness\": 32, \"Insulin\": 126, \"BMI\": 32.0, \"DiabetesPedigreeFunction\": 0.085, \"Age\": 46, \"Outcome\": 0}, {\"Pregnancies\": 1, \"Glucose\": 115, \"BloodPressure\": 70, \"SkinThickness\": 30, \"Insulin\": 96, \"BMI\": 34.6, \"DiabetesPedigreeFunction\": 0.529, \"Age\": 32, \"Outcome\": 1}, {\"Pregnancies\": 5, \"Glucose\": 117, \"BloodPressure\": 92, \"SkinThickness\": 0, \"Insulin\": 0, \"BMI\": 34.1, \"DiabetesPedigreeFunction\": 0.337, \"Age\": 38, \"Outcome\": 0}, {\"Pregnancies\": 1, \"Glucose\": 95, \"BloodPressure\": 60, \"SkinThickness\": 18, \"Insulin\": 58, \"BMI\": 23.9, \"DiabetesPedigreeFunction\": 0.26, \"Age\": 22, \"Outcome\": 0}, {\"Pregnancies\": 2, \"Glucose\": 122, \"BloodPressure\": 52, \"SkinThickness\": 43, \"Insulin\": 158, \"BMI\": 36.2, \"DiabetesPedigreeFunction\": 0.816, \"Age\": 28, \"Outcome\": 0}, {\"Pregnancies\": 4, \"Glucose\": 84, \"BloodPressure\": 90, \"SkinThickness\": 23, \"Insulin\": 56, \"BMI\": 39.5, \"DiabetesPedigreeFunction\": 0.159, \"Age\": 25, \"Outcome\": 0}, {\"Pregnancies\": 3, \"Glucose\": 84, \"BloodPressure\": 72, \"SkinThickness\": 32, \"Insulin\": 0, \"BMI\": 37.2, \"DiabetesPedigreeFunction\": 0.267, \"Age\": 28, \"Outcome\": 0}, {\"Pregnancies\": 5, \"Glucose\": 122, \"BloodPressure\": 86, \"SkinThickness\": 0, \"Insulin\": 0, \"BMI\": 34.7, \"DiabetesPedigreeFunction\": 0.29, \"Age\": 33, \"Outcome\": 0}, {\"Pregnancies\": 0, \"Glucose\": 126, \"BloodPressure\": 86, \"SkinThickness\": 27, \"Insulin\": 120, \"BMI\": 27.4, \"DiabetesPedigreeFunction\": 0.515, \"Age\": 21, \"Outcome\": 0}, {\"Pregnancies\": 4, \"Glucose\": 92, \"BloodPressure\": 80, \"SkinThickness\": 0, \"Insulin\": 0, \"BMI\": 42.2, \"DiabetesPedigreeFunction\": 0.237, \"Age\": 29, \"Outcome\": 0}, {\"Pregnancies\": 0, \"Glucose\": 101, \"BloodPressure\": 65, \"SkinThickness\": 28, \"Insulin\": 0, \"BMI\": 24.6, \"DiabetesPedigreeFunction\": 0.237, \"Age\": 22, \"Outcome\": 0}, {\"Pregnancies\": 6, \"Glucose\": 166, \"BloodPressure\": 74, \"SkinThickness\": 0, \"Insulin\": 0, \"BMI\": 26.6, \"DiabetesPedigreeFunction\": 0.304, \"Age\": 66, \"Outcome\": 0}, {\"Pregnancies\": 8, \"Glucose\": 118, \"BloodPressure\": 72, \"SkinThickness\": 19, \"Insulin\": 0, \"BMI\": 23.1, \"DiabetesPedigreeFunction\": 1.476, \"Age\": 46, \"Outcome\": 0}, {\"Pregnancies\": 8, \"Glucose\": 176, \"BloodPressure\": 90, \"SkinThickness\": 34, \"Insulin\": 300, \"BMI\": 33.7, \"DiabetesPedigreeFunction\": 0.467, \"Age\": 58, \"Outcome\": 1}, {\"Pregnancies\": 1, \"Glucose\": 93, \"BloodPressure\": 70, \"SkinThickness\": 31, \"Insulin\": 0, \"BMI\": 30.4, \"DiabetesPedigreeFunction\": 0.315, \"Age\": 23, \"Outcome\": 0}, {\"Pregnancies\": 1, \"Glucose\": 79, \"BloodPressure\": 60, \"SkinThickness\": 42, \"Insulin\": 48, \"BMI\": 43.5, \"DiabetesPedigreeFunction\": 0.678, \"Age\": 23, \"Outcome\": 0}, {\"Pregnancies\": 12, \"Glucose\": 140, \"BloodPressure\": 85, \"SkinThickness\": 33, \"Insulin\": 0, \"BMI\": 37.4, \"DiabetesPedigreeFunction\": 0.244, \"Age\": 41, \"Outcome\": 0}, {\"Pregnancies\": 4, \"Glucose\": 99, \"BloodPressure\": 72, \"SkinThickness\": 17, \"Insulin\": 0, \"BMI\": 25.6, \"DiabetesPedigreeFunction\": 0.294, \"Age\": 28, \"Outcome\": 0}, {\"Pregnancies\": 0, \"Glucose\": 107, \"BloodPressure\": 60, \"SkinThickness\": 25, \"Insulin\": 0, \"BMI\": 26.4, \"DiabetesPedigreeFunction\": 0.133, \"Age\": 23, \"Outcome\": 0}, {\"Pregnancies\": 1, \"Glucose\": 168, \"BloodPressure\": 88, \"SkinThickness\": 29, \"Insulin\": 0, \"BMI\": 35.0, \"DiabetesPedigreeFunction\": 0.905, \"Age\": 52, \"Outcome\": 1}, {\"Pregnancies\": 0, \"Glucose\": 74, \"BloodPressure\": 52, \"SkinThickness\": 10, \"Insulin\": 36, \"BMI\": 27.8, \"DiabetesPedigreeFunction\": 0.269, \"Age\": 22, \"Outcome\": 0}, {\"Pregnancies\": 5, \"Glucose\": 97, \"BloodPressure\": 76, \"SkinThickness\": 27, \"Insulin\": 0, \"BMI\": 35.6, \"DiabetesPedigreeFunction\": 0.378, \"Age\": 52, \"Outcome\": 1}, {\"Pregnancies\": 11, \"Glucose\": 136, \"BloodPressure\": 84, \"SkinThickness\": 35, \"Insulin\": 130, \"BMI\": 28.3, \"DiabetesPedigreeFunction\": 0.26, \"Age\": 42, \"Outcome\": 1}, {\"Pregnancies\": 2, \"Glucose\": 115, \"BloodPressure\": 64, \"SkinThickness\": 22, \"Insulin\": 0, \"BMI\": 30.8, \"DiabetesPedigreeFunction\": 0.421, \"Age\": 21, \"Outcome\": 0}, {\"Pregnancies\": 2, \"Glucose\": 90, \"BloodPressure\": 70, \"SkinThickness\": 17, \"Insulin\": 0, \"BMI\": 27.3, \"DiabetesPedigreeFunction\": 0.085, \"Age\": 22, \"Outcome\": 0}, {\"Pregnancies\": 9, \"Glucose\": 145, \"BloodPressure\": 88, \"SkinThickness\": 34, \"Insulin\": 165, \"BMI\": 30.3, \"DiabetesPedigreeFunction\": 0.771, \"Age\": 53, \"Outcome\": 1}, {\"Pregnancies\": 5, \"Glucose\": 85, \"BloodPressure\": 74, \"SkinThickness\": 22, \"Insulin\": 0, \"BMI\": 29.0, \"DiabetesPedigreeFunction\": 1.224, \"Age\": 32, \"Outcome\": 1}, {\"Pregnancies\": 3, \"Glucose\": 80, \"BloodPressure\": 0, \"SkinThickness\": 0, \"Insulin\": 0, \"BMI\": 0.0, \"DiabetesPedigreeFunction\": 0.174, \"Age\": 22, \"Outcome\": 0}, {\"Pregnancies\": 10, \"Glucose\": 115, \"BloodPressure\": 98, \"SkinThickness\": 0, \"Insulin\": 0, \"BMI\": 24.0, \"DiabetesPedigreeFunction\": 1.022, \"Age\": 34, \"Outcome\": 0}, {\"Pregnancies\": 10, \"Glucose\": 108, \"BloodPressure\": 66, \"SkinThickness\": 0, \"Insulin\": 0, \"BMI\": 32.4, \"DiabetesPedigreeFunction\": 0.272, \"Age\": 42, \"Outcome\": 1}, {\"Pregnancies\": 3, \"Glucose\": 120, \"BloodPressure\": 70, \"SkinThickness\": 30, \"Insulin\": 135, \"BMI\": 42.9, \"DiabetesPedigreeFunction\": 0.452, \"Age\": 30, \"Outcome\": 0}, {\"Pregnancies\": 9, \"Glucose\": 156, \"BloodPressure\": 86, \"SkinThickness\": 28, \"Insulin\": 155, \"BMI\": 34.3, \"DiabetesPedigreeFunction\": 1.189, \"Age\": 42, \"Outcome\": 1}, {\"Pregnancies\": 9, \"Glucose\": 164, \"BloodPressure\": 84, \"SkinThickness\": 21, \"Insulin\": 0, \"BMI\": 30.8, \"DiabetesPedigreeFunction\": 0.831, \"Age\": 32, \"Outcome\": 1}, {\"Pregnancies\": 4, \"Glucose\": 132, \"BloodPressure\": 0, \"SkinThickness\": 0, \"Insulin\": 0, \"BMI\": 32.9, \"DiabetesPedigreeFunction\": 0.302, \"Age\": 23, \"Outcome\": 1}, {\"Pregnancies\": 10, \"Glucose\": 68, \"BloodPressure\": 106, \"SkinThickness\": 23, \"Insulin\": 49, \"BMI\": 35.5, \"DiabetesPedigreeFunction\": 0.285, \"Age\": 47, \"Outcome\": 0}, {\"Pregnancies\": 0, \"Glucose\": 165, \"BloodPressure\": 90, \"SkinThickness\": 33, \"Insulin\": 680, \"BMI\": 52.3, \"DiabetesPedigreeFunction\": 0.427, \"Age\": 23, \"Outcome\": 0}, {\"Pregnancies\": 3, \"Glucose\": 83, \"BloodPressure\": 58, \"SkinThickness\": 31, \"Insulin\": 18, \"BMI\": 34.3, \"DiabetesPedigreeFunction\": 0.336, \"Age\": 25, \"Outcome\": 0}, {\"Pregnancies\": 1, \"Glucose\": 90, \"BloodPressure\": 62, \"SkinThickness\": 18, \"Insulin\": 59, \"BMI\": 25.1, \"DiabetesPedigreeFunction\": 1.268, \"Age\": 25, \"Outcome\": 0}, {\"Pregnancies\": 5, \"Glucose\": 115, \"BloodPressure\": 76, \"SkinThickness\": 0, \"Insulin\": 0, \"BMI\": 31.2, \"DiabetesPedigreeFunction\": 0.343, \"Age\": 44, \"Outcome\": 1}, {\"Pregnancies\": 12, \"Glucose\": 100, \"BloodPressure\": 84, \"SkinThickness\": 33, \"Insulin\": 105, \"BMI\": 30.0, \"DiabetesPedigreeFunction\": 0.488, \"Age\": 46, \"Outcome\": 0}, {\"Pregnancies\": 7, \"Glucose\": 159, \"BloodPressure\": 64, \"SkinThickness\": 0, \"Insulin\": 0, \"BMI\": 27.4, \"DiabetesPedigreeFunction\": 0.294, \"Age\": 40, \"Outcome\": 0}, {\"Pregnancies\": 2, \"Glucose\": 123, \"BloodPressure\": 48, \"SkinThickness\": 32, \"Insulin\": 165, \"BMI\": 42.1, \"DiabetesPedigreeFunction\": 0.52, \"Age\": 26, \"Outcome\": 0}, {\"Pregnancies\": 1, \"Glucose\": 181, \"BloodPressure\": 78, \"SkinThickness\": 42, \"Insulin\": 293, \"BMI\": 40.0, \"DiabetesPedigreeFunction\": 1.258, \"Age\": 22, \"Outcome\": 1}, {\"Pregnancies\": 0, \"Glucose\": 180, \"BloodPressure\": 90, \"SkinThickness\": 26, \"Insulin\": 90, \"BMI\": 36.5, \"DiabetesPedigreeFunction\": 0.314, \"Age\": 35, \"Outcome\": 1}, {\"Pregnancies\": 2, \"Glucose\": 112, \"BloodPressure\": 75, \"SkinThickness\": 32, \"Insulin\": 0, \"BMI\": 35.7, \"DiabetesPedigreeFunction\": 0.148, \"Age\": 21, \"Outcome\": 0}, {\"Pregnancies\": 4, \"Glucose\": 83, \"BloodPressure\": 86, \"SkinThickness\": 19, \"Insulin\": 0, \"BMI\": 29.3, \"DiabetesPedigreeFunction\": 0.317, \"Age\": 34, \"Outcome\": 0}, {\"Pregnancies\": 4, \"Glucose\": 110, \"BloodPressure\": 66, \"SkinThickness\": 0, \"Insulin\": 0, \"BMI\": 31.9, \"DiabetesPedigreeFunction\": 0.471, \"Age\": 29, \"Outcome\": 0}, {\"Pregnancies\": 0, \"Glucose\": 93, \"BloodPressure\": 60, \"SkinThickness\": 25, \"Insulin\": 92, \"BMI\": 28.7, \"DiabetesPedigreeFunction\": 0.532, \"Age\": 22, \"Outcome\": 0}, {\"Pregnancies\": 0, \"Glucose\": 102, \"BloodPressure\": 64, \"SkinThickness\": 46, \"Insulin\": 78, \"BMI\": 40.6, \"DiabetesPedigreeFunction\": 0.496, \"Age\": 21, \"Outcome\": 0}, {\"Pregnancies\": 0, \"Glucose\": 177, \"BloodPressure\": 60, \"SkinThickness\": 29, \"Insulin\": 478, \"BMI\": 34.6, \"DiabetesPedigreeFunction\": 1.072, \"Age\": 21, \"Outcome\": 1}, {\"Pregnancies\": 1, \"Glucose\": 87, \"BloodPressure\": 78, \"SkinThickness\": 27, \"Insulin\": 32, \"BMI\": 34.6, \"DiabetesPedigreeFunction\": 0.101, \"Age\": 22, \"Outcome\": 0}, {\"Pregnancies\": 2, \"Glucose\": 100, \"BloodPressure\": 54, \"SkinThickness\": 28, \"Insulin\": 105, \"BMI\": 37.8, \"DiabetesPedigreeFunction\": 0.498, \"Age\": 24, \"Outcome\": 0}, {\"Pregnancies\": 6, \"Glucose\": 129, \"BloodPressure\": 90, \"SkinThickness\": 7, \"Insulin\": 326, \"BMI\": 19.6, \"DiabetesPedigreeFunction\": 0.582, \"Age\": 60, \"Outcome\": 0}, {\"Pregnancies\": 10, \"Glucose\": 162, \"BloodPressure\": 84, \"SkinThickness\": 0, \"Insulin\": 0, \"BMI\": 27.7, \"DiabetesPedigreeFunction\": 0.182, \"Age\": 54, \"Outcome\": 0}, {\"Pregnancies\": 9, \"Glucose\": 165, \"BloodPressure\": 88, \"SkinThickness\": 0, \"Insulin\": 0, \"BMI\": 30.4, \"DiabetesPedigreeFunction\": 0.302, \"Age\": 49, \"Outcome\": 1}, {\"Pregnancies\": 1, \"Glucose\": 114, \"BloodPressure\": 66, \"SkinThickness\": 36, \"Insulin\": 200, \"BMI\": 38.1, \"DiabetesPedigreeFunction\": 0.289, \"Age\": 21, \"Outcome\": 0}, {\"Pregnancies\": 0, \"Glucose\": 100, \"BloodPressure\": 70, \"SkinThickness\": 26, \"Insulin\": 50, \"BMI\": 30.8, \"DiabetesPedigreeFunction\": 0.597, \"Age\": 21, \"Outcome\": 0}, {\"Pregnancies\": 0, \"Glucose\": 123, \"BloodPressure\": 72, \"SkinThickness\": 0, \"Insulin\": 0, \"BMI\": 36.3, \"DiabetesPedigreeFunction\": 0.258, \"Age\": 52, \"Outcome\": 1}, {\"Pregnancies\": 1, \"Glucose\": 117, \"BloodPressure\": 60, \"SkinThickness\": 23, \"Insulin\": 106, \"BMI\": 33.8, \"DiabetesPedigreeFunction\": 0.466, \"Age\": 27, \"Outcome\": 0}, {\"Pregnancies\": 1, \"Glucose\": 108, \"BloodPressure\": 60, \"SkinThickness\": 46, \"Insulin\": 178, \"BMI\": 35.5, \"DiabetesPedigreeFunction\": 0.415, \"Age\": 24, \"Outcome\": 0}, {\"Pregnancies\": 4, \"Glucose\": 118, \"BloodPressure\": 70, \"SkinThickness\": 0, \"Insulin\": 0, \"BMI\": 44.5, \"DiabetesPedigreeFunction\": 0.904, \"Age\": 26, \"Outcome\": 0}, {\"Pregnancies\": 4, \"Glucose\": 145, \"BloodPressure\": 82, \"SkinThickness\": 18, \"Insulin\": 0, \"BMI\": 32.5, \"DiabetesPedigreeFunction\": 0.235, \"Age\": 70, \"Outcome\": 1}, {\"Pregnancies\": 2, \"Glucose\": 90, \"BloodPressure\": 60, \"SkinThickness\": 0, \"Insulin\": 0, \"BMI\": 23.5, \"DiabetesPedigreeFunction\": 0.191, \"Age\": 25, \"Outcome\": 0}, {\"Pregnancies\": 1, \"Glucose\": 128, \"BloodPressure\": 48, \"SkinThickness\": 45, \"Insulin\": 194, \"BMI\": 40.5, \"DiabetesPedigreeFunction\": 0.613, \"Age\": 24, \"Outcome\": 1}, {\"Pregnancies\": 1, \"Glucose\": 149, \"BloodPressure\": 68, \"SkinThickness\": 29, \"Insulin\": 127, \"BMI\": 29.3, \"DiabetesPedigreeFunction\": 0.349, \"Age\": 42, \"Outcome\": 1}, {\"Pregnancies\": 4, \"Glucose\": 110, \"BloodPressure\": 92, \"SkinThickness\": 0, \"Insulin\": 0, \"BMI\": 37.6, \"DiabetesPedigreeFunction\": 0.191, \"Age\": 30, \"Outcome\": 0}, {\"Pregnancies\": 4, \"Glucose\": 95, \"BloodPressure\": 60, \"SkinThickness\": 32, \"Insulin\": 0, \"BMI\": 35.4, \"DiabetesPedigreeFunction\": 0.284, \"Age\": 28, \"Outcome\": 0}, {\"Pregnancies\": 8, \"Glucose\": 100, \"BloodPressure\": 74, \"SkinThickness\": 40, \"Insulin\": 215, \"BMI\": 39.4, \"DiabetesPedigreeFunction\": 0.661, \"Age\": 43, \"Outcome\": 1}, {\"Pregnancies\": 2, \"Glucose\": 129, \"BloodPressure\": 84, \"SkinThickness\": 0, \"Insulin\": 0, \"BMI\": 28.0, \"DiabetesPedigreeFunction\": 0.284, \"Age\": 27, \"Outcome\": 0}, {\"Pregnancies\": 5, \"Glucose\": 162, \"BloodPressure\": 104, \"SkinThickness\": 0, \"Insulin\": 0, \"BMI\": 37.7, \"DiabetesPedigreeFunction\": 0.151, \"Age\": 52, \"Outcome\": 1}, {\"Pregnancies\": 4, \"Glucose\": 116, \"BloodPressure\": 72, \"SkinThickness\": 12, \"Insulin\": 87, \"BMI\": 22.1, \"DiabetesPedigreeFunction\": 0.463, \"Age\": 37, \"Outcome\": 0}, {\"Pregnancies\": 4, \"Glucose\": 146, \"BloodPressure\": 85, \"SkinThickness\": 27, \"Insulin\": 100, \"BMI\": 28.9, \"DiabetesPedigreeFunction\": 0.189, \"Age\": 27, \"Outcome\": 0}, {\"Pregnancies\": 8, \"Glucose\": 85, \"BloodPressure\": 55, \"SkinThickness\": 20, \"Insulin\": 0, \"BMI\": 24.4, \"DiabetesPedigreeFunction\": 0.136, \"Age\": 42, \"Outcome\": 0}, {\"Pregnancies\": 3, \"Glucose\": 111, \"BloodPressure\": 58, \"SkinThickness\": 31, \"Insulin\": 44, \"BMI\": 29.5, \"DiabetesPedigreeFunction\": 0.43, \"Age\": 22, \"Outcome\": 0}, {\"Pregnancies\": 6, \"Glucose\": 109, \"BloodPressure\": 60, \"SkinThickness\": 27, \"Insulin\": 0, \"BMI\": 25.0, \"DiabetesPedigreeFunction\": 0.206, \"Age\": 27, \"Outcome\": 0}, {\"Pregnancies\": 1, \"Glucose\": 89, \"BloodPressure\": 76, \"SkinThickness\": 34, \"Insulin\": 37, \"BMI\": 31.2, \"DiabetesPedigreeFunction\": 0.192, \"Age\": 23, \"Outcome\": 0}, {\"Pregnancies\": 1, \"Glucose\": 157, \"BloodPressure\": 72, \"SkinThickness\": 21, \"Insulin\": 168, \"BMI\": 25.6, \"DiabetesPedigreeFunction\": 0.123, \"Age\": 24, \"Outcome\": 0}, {\"Pregnancies\": 2, \"Glucose\": 155, \"BloodPressure\": 74, \"SkinThickness\": 17, \"Insulin\": 96, \"BMI\": 26.6, \"DiabetesPedigreeFunction\": 0.433, \"Age\": 27, \"Outcome\": 1}, {\"Pregnancies\": 1, \"Glucose\": 80, \"BloodPressure\": 74, \"SkinThickness\": 11, \"Insulin\": 60, \"BMI\": 30.0, \"DiabetesPedigreeFunction\": 0.527, \"Age\": 22, \"Outcome\": 0}, {\"Pregnancies\": 6, \"Glucose\": 0, \"BloodPressure\": 68, \"SkinThickness\": 41, \"Insulin\": 0, \"BMI\": 39.0, \"DiabetesPedigreeFunction\": 0.727, \"Age\": 41, \"Outcome\": 1}, {\"Pregnancies\": 1, \"Glucose\": 95, \"BloodPressure\": 74, \"SkinThickness\": 21, \"Insulin\": 73, \"BMI\": 25.9, \"DiabetesPedigreeFunction\": 0.673, \"Age\": 36, \"Outcome\": 0}, {\"Pregnancies\": 0, \"Glucose\": 93, \"BloodPressure\": 60, \"SkinThickness\": 0, \"Insulin\": 0, \"BMI\": 35.3, \"DiabetesPedigreeFunction\": 0.263, \"Age\": 25, \"Outcome\": 0}, {\"Pregnancies\": 1, \"Glucose\": 130, \"BloodPressure\": 60, \"SkinThickness\": 23, \"Insulin\": 170, \"BMI\": 28.6, \"DiabetesPedigreeFunction\": 0.692, \"Age\": 21, \"Outcome\": 0}, {\"Pregnancies\": 2, \"Glucose\": 83, \"BloodPressure\": 66, \"SkinThickness\": 23, \"Insulin\": 50, \"BMI\": 32.2, \"DiabetesPedigreeFunction\": 0.497, \"Age\": 22, \"Outcome\": 0}, {\"Pregnancies\": 10, \"Glucose\": 129, \"BloodPressure\": 76, \"SkinThickness\": 28, \"Insulin\": 122, \"BMI\": 35.9, \"DiabetesPedigreeFunction\": 0.28, \"Age\": 39, \"Outcome\": 0}, {\"Pregnancies\": 0, \"Glucose\": 101, \"BloodPressure\": 62, \"SkinThickness\": 0, \"Insulin\": 0, \"BMI\": 21.9, \"DiabetesPedigreeFunction\": 0.336, \"Age\": 25, \"Outcome\": 0}, {\"Pregnancies\": 1, \"Glucose\": 128, \"BloodPressure\": 98, \"SkinThickness\": 41, \"Insulin\": 58, \"BMI\": 32.0, \"DiabetesPedigreeFunction\": 1.321, \"Age\": 33, \"Outcome\": 1}, {\"Pregnancies\": 4, \"Glucose\": 117, \"BloodPressure\": 64, \"SkinThickness\": 27, \"Insulin\": 120, \"BMI\": 33.2, \"DiabetesPedigreeFunction\": 0.23, \"Age\": 24, \"Outcome\": 0}, {\"Pregnancies\": 6, \"Glucose\": 96, \"BloodPressure\": 0, \"SkinThickness\": 0, \"Insulin\": 0, \"BMI\": 23.7, \"DiabetesPedigreeFunction\": 0.19, \"Age\": 28, \"Outcome\": 0}, {\"Pregnancies\": 9, \"Glucose\": 134, \"BloodPressure\": 74, \"SkinThickness\": 33, \"Insulin\": 60, \"BMI\": 25.9, \"DiabetesPedigreeFunction\": 0.46, \"Age\": 81, \"Outcome\": 0}, {\"Pregnancies\": 7, \"Glucose\": 81, \"BloodPressure\": 78, \"SkinThickness\": 40, \"Insulin\": 48, \"BMI\": 46.7, \"DiabetesPedigreeFunction\": 0.261, \"Age\": 42, \"Outcome\": 0}, {\"Pregnancies\": 6, \"Glucose\": 102, \"BloodPressure\": 90, \"SkinThickness\": 39, \"Insulin\": 0, \"BMI\": 35.7, \"DiabetesPedigreeFunction\": 0.674, \"Age\": 28, \"Outcome\": 0}, {\"Pregnancies\": 1, \"Glucose\": 143, \"BloodPressure\": 86, \"SkinThickness\": 30, \"Insulin\": 330, \"BMI\": 30.1, \"DiabetesPedigreeFunction\": 0.892, \"Age\": 23, \"Outcome\": 0}, {\"Pregnancies\": 4, \"Glucose\": 136, \"BloodPressure\": 70, \"SkinThickness\": 0, \"Insulin\": 0, \"BMI\": 31.2, \"DiabetesPedigreeFunction\": 1.182, \"Age\": 22, \"Outcome\": 1}, {\"Pregnancies\": 7, \"Glucose\": 94, \"BloodPressure\": 64, \"SkinThickness\": 25, \"Insulin\": 79, \"BMI\": 33.3, \"DiabetesPedigreeFunction\": 0.738, \"Age\": 41, \"Outcome\": 0}, {\"Pregnancies\": 0, \"Glucose\": 137, \"BloodPressure\": 84, \"SkinThickness\": 27, \"Insulin\": 0, \"BMI\": 27.3, \"DiabetesPedigreeFunction\": 0.231, \"Age\": 59, \"Outcome\": 0}, {\"Pregnancies\": 7, \"Glucose\": 129, \"BloodPressure\": 68, \"SkinThickness\": 49, \"Insulin\": 125, \"BMI\": 38.5, \"DiabetesPedigreeFunction\": 0.439, \"Age\": 43, \"Outcome\": 1}, {\"Pregnancies\": 8, \"Glucose\": 110, \"BloodPressure\": 76, \"SkinThickness\": 0, \"Insulin\": 0, \"BMI\": 27.8, \"DiabetesPedigreeFunction\": 0.237, \"Age\": 58, \"Outcome\": 0}, {\"Pregnancies\": 4, \"Glucose\": 173, \"BloodPressure\": 70, \"SkinThickness\": 14, \"Insulin\": 168, \"BMI\": 29.7, \"DiabetesPedigreeFunction\": 0.361, \"Age\": 33, \"Outcome\": 1}, {\"Pregnancies\": 4, \"Glucose\": 127, \"BloodPressure\": 88, \"SkinThickness\": 11, \"Insulin\": 155, \"BMI\": 34.5, \"DiabetesPedigreeFunction\": 0.598, \"Age\": 28, \"Outcome\": 0}, {\"Pregnancies\": 1, \"Glucose\": 87, \"BloodPressure\": 68, \"SkinThickness\": 34, \"Insulin\": 77, \"BMI\": 37.6, \"DiabetesPedigreeFunction\": 0.401, \"Age\": 24, \"Outcome\": 0}, {\"Pregnancies\": 3, \"Glucose\": 107, \"BloodPressure\": 62, \"SkinThickness\": 13, \"Insulin\": 48, \"BMI\": 22.9, \"DiabetesPedigreeFunction\": 0.678, \"Age\": 23, \"Outcome\": 1}, {\"Pregnancies\": 12, \"Glucose\": 151, \"BloodPressure\": 70, \"SkinThickness\": 40, \"Insulin\": 271, \"BMI\": 41.8, \"DiabetesPedigreeFunction\": 0.742, \"Age\": 38, \"Outcome\": 1}, {\"Pregnancies\": 4, \"Glucose\": 90, \"BloodPressure\": 0, \"SkinThickness\": 0, \"Insulin\": 0, \"BMI\": 28.0, \"DiabetesPedigreeFunction\": 0.61, \"Age\": 31, \"Outcome\": 0}, {\"Pregnancies\": 9, \"Glucose\": 170, \"BloodPressure\": 74, \"SkinThickness\": 31, \"Insulin\": 0, \"BMI\": 44.0, \"DiabetesPedigreeFunction\": 0.403, \"Age\": 43, \"Outcome\": 1}, {\"Pregnancies\": 3, \"Glucose\": 130, \"BloodPressure\": 64, \"SkinThickness\": 0, \"Insulin\": 0, \"BMI\": 23.1, \"DiabetesPedigreeFunction\": 0.314, \"Age\": 22, \"Outcome\": 0}, {\"Pregnancies\": 0, \"Glucose\": 123, \"BloodPressure\": 88, \"SkinThickness\": 37, \"Insulin\": 0, \"BMI\": 35.2, \"DiabetesPedigreeFunction\": 0.197, \"Age\": 29, \"Outcome\": 0}, {\"Pregnancies\": 1, \"Glucose\": 119, \"BloodPressure\": 44, \"SkinThickness\": 47, \"Insulin\": 63, \"BMI\": 35.5, \"DiabetesPedigreeFunction\": 0.28, \"Age\": 25, \"Outcome\": 0}, {\"Pregnancies\": 0, \"Glucose\": 137, \"BloodPressure\": 70, \"SkinThickness\": 38, \"Insulin\": 0, \"BMI\": 33.2, \"DiabetesPedigreeFunction\": 0.17, \"Age\": 22, \"Outcome\": 0}, {\"Pregnancies\": 0, \"Glucose\": 189, \"BloodPressure\": 104, \"SkinThickness\": 25, \"Insulin\": 0, \"BMI\": 34.3, \"DiabetesPedigreeFunction\": 0.435, \"Age\": 41, \"Outcome\": 1}, {\"Pregnancies\": 0, \"Glucose\": 132, \"BloodPressure\": 78, \"SkinThickness\": 0, \"Insulin\": 0, \"BMI\": 32.4, \"DiabetesPedigreeFunction\": 0.393, \"Age\": 21, \"Outcome\": 0}, {\"Pregnancies\": 2, \"Glucose\": 114, \"BloodPressure\": 68, \"SkinThickness\": 22, \"Insulin\": 0, \"BMI\": 28.7, \"DiabetesPedigreeFunction\": 0.092, \"Age\": 25, \"Outcome\": 0}, {\"Pregnancies\": 0, \"Glucose\": 135, \"BloodPressure\": 94, \"SkinThickness\": 46, \"Insulin\": 145, \"BMI\": 40.6, \"DiabetesPedigreeFunction\": 0.284, \"Age\": 26, \"Outcome\": 0}, {\"Pregnancies\": 3, \"Glucose\": 130, \"BloodPressure\": 78, \"SkinThickness\": 23, \"Insulin\": 79, \"BMI\": 28.4, \"DiabetesPedigreeFunction\": 0.323, \"Age\": 34, \"Outcome\": 1}, {\"Pregnancies\": 2, \"Glucose\": 81, \"BloodPressure\": 72, \"SkinThickness\": 15, \"Insulin\": 76, \"BMI\": 30.1, \"DiabetesPedigreeFunction\": 0.547, \"Age\": 25, \"Outcome\": 0}, {\"Pregnancies\": 2, \"Glucose\": 83, \"BloodPressure\": 65, \"SkinThickness\": 28, \"Insulin\": 66, \"BMI\": 36.8, \"DiabetesPedigreeFunction\": 0.629, \"Age\": 24, \"Outcome\": 0}, {\"Pregnancies\": 9, \"Glucose\": 120, \"BloodPressure\": 72, \"SkinThickness\": 22, \"Insulin\": 56, \"BMI\": 20.8, \"DiabetesPedigreeFunction\": 0.733, \"Age\": 48, \"Outcome\": 0}, {\"Pregnancies\": 7, \"Glucose\": 62, \"BloodPressure\": 78, \"SkinThickness\": 0, \"Insulin\": 0, \"BMI\": 32.6, \"DiabetesPedigreeFunction\": 0.391, \"Age\": 41, \"Outcome\": 0}, {\"Pregnancies\": 6, \"Glucose\": 114, \"BloodPressure\": 88, \"SkinThickness\": 0, \"Insulin\": 0, \"BMI\": 27.8, \"DiabetesPedigreeFunction\": 0.247, \"Age\": 66, \"Outcome\": 0}, {\"Pregnancies\": 6, \"Glucose\": 165, \"BloodPressure\": 68, \"SkinThickness\": 26, \"Insulin\": 168, \"BMI\": 33.6, \"DiabetesPedigreeFunction\": 0.631, \"Age\": 49, \"Outcome\": 0}, {\"Pregnancies\": 9, \"Glucose\": 156, \"BloodPressure\": 86, \"SkinThickness\": 0, \"Insulin\": 0, \"BMI\": 24.8, \"DiabetesPedigreeFunction\": 0.23, \"Age\": 53, \"Outcome\": 1}, {\"Pregnancies\": 5, \"Glucose\": 99, \"BloodPressure\": 74, \"SkinThickness\": 27, \"Insulin\": 0, \"BMI\": 29.0, \"DiabetesPedigreeFunction\": 0.203, \"Age\": 32, \"Outcome\": 0}, {\"Pregnancies\": 6, \"Glucose\": 80, \"BloodPressure\": 80, \"SkinThickness\": 36, \"Insulin\": 0, \"BMI\": 39.8, \"DiabetesPedigreeFunction\": 0.177, \"Age\": 28, \"Outcome\": 0}, {\"Pregnancies\": 8, \"Glucose\": 196, \"BloodPressure\": 76, \"SkinThickness\": 29, \"Insulin\": 280, \"BMI\": 37.5, \"DiabetesPedigreeFunction\": 0.605, \"Age\": 57, \"Outcome\": 1}, {\"Pregnancies\": 2, \"Glucose\": 197, \"BloodPressure\": 70, \"SkinThickness\": 45, \"Insulin\": 543, \"BMI\": 30.5, \"DiabetesPedigreeFunction\": 0.158, \"Age\": 53, \"Outcome\": 1}, {\"Pregnancies\": 5, \"Glucose\": 95, \"BloodPressure\": 72, \"SkinThickness\": 33, \"Insulin\": 0, \"BMI\": 37.7, \"DiabetesPedigreeFunction\": 0.37, \"Age\": 27, \"Outcome\": 0}, {\"Pregnancies\": 8, \"Glucose\": 167, \"BloodPressure\": 106, \"SkinThickness\": 46, \"Insulin\": 231, \"BMI\": 37.6, \"DiabetesPedigreeFunction\": 0.165, \"Age\": 43, \"Outcome\": 1}, {\"Pregnancies\": 0, \"Glucose\": 146, \"BloodPressure\": 82, \"SkinThickness\": 0, \"Insulin\": 0, \"BMI\": 40.5, \"DiabetesPedigreeFunction\": 1.781, \"Age\": 44, \"Outcome\": 0}, {\"Pregnancies\": 0, \"Glucose\": 119, \"BloodPressure\": 66, \"SkinThickness\": 27, \"Insulin\": 0, \"BMI\": 38.8, \"DiabetesPedigreeFunction\": 0.259, \"Age\": 22, \"Outcome\": 0}, {\"Pregnancies\": 8, \"Glucose\": 151, \"BloodPressure\": 78, \"SkinThickness\": 32, \"Insulin\": 210, \"BMI\": 42.9, \"DiabetesPedigreeFunction\": 0.516, \"Age\": 36, \"Outcome\": 1}, {\"Pregnancies\": 1, \"Glucose\": 87, \"BloodPressure\": 60, \"SkinThickness\": 37, \"Insulin\": 75, \"BMI\": 37.2, \"DiabetesPedigreeFunction\": 0.509, \"Age\": 22, \"Outcome\": 0}, {\"Pregnancies\": 3, \"Glucose\": 158, \"BloodPressure\": 70, \"SkinThickness\": 30, \"Insulin\": 328, \"BMI\": 35.5, \"DiabetesPedigreeFunction\": 0.344, \"Age\": 35, \"Outcome\": 1}, {\"Pregnancies\": 5, \"Glucose\": 110, \"BloodPressure\": 68, \"SkinThickness\": 0, \"Insulin\": 0, \"BMI\": 26.0, \"DiabetesPedigreeFunction\": 0.292, \"Age\": 30, \"Outcome\": 0}, {\"Pregnancies\": 0, \"Glucose\": 102, \"BloodPressure\": 78, \"SkinThickness\": 40, \"Insulin\": 90, \"BMI\": 34.5, \"DiabetesPedigreeFunction\": 0.238, \"Age\": 24, \"Outcome\": 0}, {\"Pregnancies\": 1, \"Glucose\": 128, \"BloodPressure\": 88, \"SkinThickness\": 39, \"Insulin\": 110, \"BMI\": 36.5, \"DiabetesPedigreeFunction\": 1.057, \"Age\": 37, \"Outcome\": 1}, {\"Pregnancies\": 6, \"Glucose\": 194, \"BloodPressure\": 78, \"SkinThickness\": 0, \"Insulin\": 0, \"BMI\": 23.5, \"DiabetesPedigreeFunction\": 0.129, \"Age\": 59, \"Outcome\": 1}, {\"Pregnancies\": 4, \"Glucose\": 147, \"BloodPressure\": 74, \"SkinThickness\": 25, \"Insulin\": 293, \"BMI\": 34.9, \"DiabetesPedigreeFunction\": 0.385, \"Age\": 30, \"Outcome\": 0}, {\"Pregnancies\": 1, \"Glucose\": 143, \"BloodPressure\": 84, \"SkinThickness\": 23, \"Insulin\": 310, \"BMI\": 42.4, \"DiabetesPedigreeFunction\": 1.076, \"Age\": 22, \"Outcome\": 0}, {\"Pregnancies\": 5, \"Glucose\": 106, \"BloodPressure\": 82, \"SkinThickness\": 30, \"Insulin\": 0, \"BMI\": 39.5, \"DiabetesPedigreeFunction\": 0.286, \"Age\": 38, \"Outcome\": 0}, {\"Pregnancies\": 15, \"Glucose\": 136, \"BloodPressure\": 70, \"SkinThickness\": 32, \"Insulin\": 110, \"BMI\": 37.1, \"DiabetesPedigreeFunction\": 0.153, \"Age\": 43, \"Outcome\": 1}, {\"Pregnancies\": 13, \"Glucose\": 152, \"BloodPressure\": 90, \"SkinThickness\": 33, \"Insulin\": 29, \"BMI\": 26.8, \"DiabetesPedigreeFunction\": 0.731, \"Age\": 43, \"Outcome\": 1}, {\"Pregnancies\": 3, \"Glucose\": 112, \"BloodPressure\": 74, \"SkinThickness\": 30, \"Insulin\": 0, \"BMI\": 31.6, \"DiabetesPedigreeFunction\": 0.197, \"Age\": 25, \"Outcome\": 1}, {\"Pregnancies\": 2, \"Glucose\": 84, \"BloodPressure\": 0, \"SkinThickness\": 0, \"Insulin\": 0, \"BMI\": 0.0, \"DiabetesPedigreeFunction\": 0.304, \"Age\": 21, \"Outcome\": 0}, {\"Pregnancies\": 1, \"Glucose\": 139, \"BloodPressure\": 62, \"SkinThickness\": 41, \"Insulin\": 480, \"BMI\": 40.7, \"DiabetesPedigreeFunction\": 0.536, \"Age\": 21, \"Outcome\": 0}, {\"Pregnancies\": 1, \"Glucose\": 119, \"BloodPressure\": 54, \"SkinThickness\": 13, \"Insulin\": 50, \"BMI\": 22.3, \"DiabetesPedigreeFunction\": 0.205, \"Age\": 24, \"Outcome\": 0}, {\"Pregnancies\": 3, \"Glucose\": 129, \"BloodPressure\": 64, \"SkinThickness\": 29, \"Insulin\": 115, \"BMI\": 26.4, \"DiabetesPedigreeFunction\": 0.219, \"Age\": 28, \"Outcome\": 1}, {\"Pregnancies\": 2, \"Glucose\": 139, \"BloodPressure\": 75, \"SkinThickness\": 0, \"Insulin\": 0, \"BMI\": 25.6, \"DiabetesPedigreeFunction\": 0.167, \"Age\": 29, \"Outcome\": 0}, {\"Pregnancies\": 2, \"Glucose\": 144, \"BloodPressure\": 58, \"SkinThickness\": 33, \"Insulin\": 135, \"BMI\": 31.6, \"DiabetesPedigreeFunction\": 0.422, \"Age\": 25, \"Outcome\": 1}, {\"Pregnancies\": 1, \"Glucose\": 147, \"BloodPressure\": 94, \"SkinThickness\": 41, \"Insulin\": 0, \"BMI\": 49.3, \"DiabetesPedigreeFunction\": 0.358, \"Age\": 27, \"Outcome\": 1}, {\"Pregnancies\": 2, \"Glucose\": 146, \"BloodPressure\": 70, \"SkinThickness\": 38, \"Insulin\": 360, \"BMI\": 28.0, \"DiabetesPedigreeFunction\": 0.337, \"Age\": 29, \"Outcome\": 1}, {\"Pregnancies\": 2, \"Glucose\": 112, \"BloodPressure\": 68, \"SkinThickness\": 22, \"Insulin\": 94, \"BMI\": 34.1, \"DiabetesPedigreeFunction\": 0.315, \"Age\": 26, \"Outcome\": 0}, {\"Pregnancies\": 0, \"Glucose\": 134, \"BloodPressure\": 58, \"SkinThickness\": 20, \"Insulin\": 291, \"BMI\": 26.4, \"DiabetesPedigreeFunction\": 0.352, \"Age\": 21, \"Outcome\": 0}, {\"Pregnancies\": 1, \"Glucose\": 146, \"BloodPressure\": 56, \"SkinThickness\": 0, \"Insulin\": 0, \"BMI\": 29.7, \"DiabetesPedigreeFunction\": 0.564, \"Age\": 29, \"Outcome\": 0}, {\"Pregnancies\": 13, \"Glucose\": 106, \"BloodPressure\": 72, \"SkinThickness\": 54, \"Insulin\": 0, \"BMI\": 36.6, \"DiabetesPedigreeFunction\": 0.178, \"Age\": 45, \"Outcome\": 0}, {\"Pregnancies\": 0, \"Glucose\": 95, \"BloodPressure\": 85, \"SkinThickness\": 25, \"Insulin\": 36, \"BMI\": 37.4, \"DiabetesPedigreeFunction\": 0.247, \"Age\": 24, \"Outcome\": 1}, {\"Pregnancies\": 5, \"Glucose\": 189, \"BloodPressure\": 64, \"SkinThickness\": 33, \"Insulin\": 325, \"BMI\": 31.2, \"DiabetesPedigreeFunction\": 0.583, \"Age\": 29, \"Outcome\": 1}, {\"Pregnancies\": 2, \"Glucose\": 157, \"BloodPressure\": 74, \"SkinThickness\": 35, \"Insulin\": 440, \"BMI\": 39.4, \"DiabetesPedigreeFunction\": 0.134, \"Age\": 30, \"Outcome\": 0}, {\"Pregnancies\": 0, \"Glucose\": 118, \"BloodPressure\": 84, \"SkinThickness\": 47, \"Insulin\": 230, \"BMI\": 45.8, \"DiabetesPedigreeFunction\": 0.551, \"Age\": 31, \"Outcome\": 1}, {\"Pregnancies\": 4, \"Glucose\": 125, \"BloodPressure\": 70, \"SkinThickness\": 18, \"Insulin\": 122, \"BMI\": 28.9, \"DiabetesPedigreeFunction\": 1.144, \"Age\": 45, \"Outcome\": 1}, {\"Pregnancies\": 11, \"Glucose\": 135, \"BloodPressure\": 0, \"SkinThickness\": 0, \"Insulin\": 0, \"BMI\": 52.3, \"DiabetesPedigreeFunction\": 0.578, \"Age\": 40, \"Outcome\": 1}, {\"Pregnancies\": 2, \"Glucose\": 92, \"BloodPressure\": 52, \"SkinThickness\": 0, \"Insulin\": 0, \"BMI\": 30.1, \"DiabetesPedigreeFunction\": 0.141, \"Age\": 22, \"Outcome\": 0}, {\"Pregnancies\": 5, \"Glucose\": 128, \"BloodPressure\": 80, \"SkinThickness\": 0, \"Insulin\": 0, \"BMI\": 34.6, \"DiabetesPedigreeFunction\": 0.144, \"Age\": 45, \"Outcome\": 0}, {\"Pregnancies\": 6, \"Glucose\": 137, \"BloodPressure\": 61, \"SkinThickness\": 0, \"Insulin\": 0, \"BMI\": 24.2, \"DiabetesPedigreeFunction\": 0.151, \"Age\": 55, \"Outcome\": 0}, {\"Pregnancies\": 3, \"Glucose\": 129, \"BloodPressure\": 92, \"SkinThickness\": 49, \"Insulin\": 155, \"BMI\": 36.4, \"DiabetesPedigreeFunction\": 0.968, \"Age\": 32, \"Outcome\": 1}, {\"Pregnancies\": 1, \"Glucose\": 97, \"BloodPressure\": 70, \"SkinThickness\": 15, \"Insulin\": 0, \"BMI\": 18.2, \"DiabetesPedigreeFunction\": 0.147, \"Age\": 21, \"Outcome\": 0}, {\"Pregnancies\": 3, \"Glucose\": 128, \"BloodPressure\": 78, \"SkinThickness\": 0, \"Insulin\": 0, \"BMI\": 21.1, \"DiabetesPedigreeFunction\": 0.268, \"Age\": 55, \"Outcome\": 0}, {\"Pregnancies\": 4, \"Glucose\": 109, \"BloodPressure\": 64, \"SkinThickness\": 44, \"Insulin\": 99, \"BMI\": 34.8, \"DiabetesPedigreeFunction\": 0.905, \"Age\": 26, \"Outcome\": 1}, {\"Pregnancies\": 0, \"Glucose\": 97, \"BloodPressure\": 64, \"SkinThickness\": 36, \"Insulin\": 100, \"BMI\": 36.8, \"DiabetesPedigreeFunction\": 0.6, \"Age\": 25, \"Outcome\": 0}, {\"Pregnancies\": 5, \"Glucose\": 166, \"BloodPressure\": 72, \"SkinThickness\": 19, \"Insulin\": 175, \"BMI\": 25.8, \"DiabetesPedigreeFunction\": 0.587, \"Age\": 51, \"Outcome\": 1}, {\"Pregnancies\": 2, \"Glucose\": 100, \"BloodPressure\": 68, \"SkinThickness\": 25, \"Insulin\": 71, \"BMI\": 38.5, \"DiabetesPedigreeFunction\": 0.324, \"Age\": 26, \"Outcome\": 0}, {\"Pregnancies\": 5, \"Glucose\": 96, \"BloodPressure\": 74, \"SkinThickness\": 18, \"Insulin\": 67, \"BMI\": 33.6, \"DiabetesPedigreeFunction\": 0.997, \"Age\": 43, \"Outcome\": 0}, {\"Pregnancies\": 4, \"Glucose\": 95, \"BloodPressure\": 70, \"SkinThickness\": 32, \"Insulin\": 0, \"BMI\": 32.1, \"DiabetesPedigreeFunction\": 0.612, \"Age\": 24, \"Outcome\": 0}, {\"Pregnancies\": 7, \"Glucose\": 119, \"BloodPressure\": 0, \"SkinThickness\": 0, \"Insulin\": 0, \"BMI\": 25.2, \"DiabetesPedigreeFunction\": 0.209, \"Age\": 37, \"Outcome\": 0}, {\"Pregnancies\": 11, \"Glucose\": 155, \"BloodPressure\": 76, \"SkinThickness\": 28, \"Insulin\": 150, \"BMI\": 33.3, \"DiabetesPedigreeFunction\": 1.353, \"Age\": 51, \"Outcome\": 1}, {\"Pregnancies\": 1, \"Glucose\": 89, \"BloodPressure\": 66, \"SkinThickness\": 23, \"Insulin\": 94, \"BMI\": 28.1, \"DiabetesPedigreeFunction\": 0.167, \"Age\": 21, \"Outcome\": 0}, {\"Pregnancies\": 3, \"Glucose\": 90, \"BloodPressure\": 78, \"SkinThickness\": 0, \"Insulin\": 0, \"BMI\": 42.7, \"DiabetesPedigreeFunction\": 0.559, \"Age\": 21, \"Outcome\": 0}, {\"Pregnancies\": 8, \"Glucose\": 194, \"BloodPressure\": 80, \"SkinThickness\": 0, \"Insulin\": 0, \"BMI\": 26.1, \"DiabetesPedigreeFunction\": 0.551, \"Age\": 67, \"Outcome\": 0}, {\"Pregnancies\": 3, \"Glucose\": 106, \"BloodPressure\": 72, \"SkinThickness\": 0, \"Insulin\": 0, \"BMI\": 25.8, \"DiabetesPedigreeFunction\": 0.207, \"Age\": 27, \"Outcome\": 0}, {\"Pregnancies\": 7, \"Glucose\": 136, \"BloodPressure\": 90, \"SkinThickness\": 0, \"Insulin\": 0, \"BMI\": 29.9, \"DiabetesPedigreeFunction\": 0.21, \"Age\": 50, \"Outcome\": 0}, {\"Pregnancies\": 1, \"Glucose\": 199, \"BloodPressure\": 76, \"SkinThickness\": 43, \"Insulin\": 0, \"BMI\": 42.9, \"DiabetesPedigreeFunction\": 1.394, \"Age\": 22, \"Outcome\": 1}, {\"Pregnancies\": 5, \"Glucose\": 105, \"BloodPressure\": 72, \"SkinThickness\": 29, \"Insulin\": 325, \"BMI\": 36.9, \"DiabetesPedigreeFunction\": 0.159, \"Age\": 28, \"Outcome\": 0}, {\"Pregnancies\": 2, \"Glucose\": 109, \"BloodPressure\": 92, \"SkinThickness\": 0, \"Insulin\": 0, \"BMI\": 42.7, \"DiabetesPedigreeFunction\": 0.845, \"Age\": 54, \"Outcome\": 0}, {\"Pregnancies\": 3, \"Glucose\": 163, \"BloodPressure\": 70, \"SkinThickness\": 18, \"Insulin\": 105, \"BMI\": 31.6, \"DiabetesPedigreeFunction\": 0.268, \"Age\": 28, \"Outcome\": 1}, {\"Pregnancies\": 1, \"Glucose\": 0, \"BloodPressure\": 68, \"SkinThickness\": 35, \"Insulin\": 0, \"BMI\": 32.0, \"DiabetesPedigreeFunction\": 0.389, \"Age\": 22, \"Outcome\": 0}, {\"Pregnancies\": 7, \"Glucose\": 187, \"BloodPressure\": 68, \"SkinThickness\": 39, \"Insulin\": 304, \"BMI\": 37.7, \"DiabetesPedigreeFunction\": 0.254, \"Age\": 41, \"Outcome\": 1}, {\"Pregnancies\": 3, \"Glucose\": 150, \"BloodPressure\": 76, \"SkinThickness\": 0, \"Insulin\": 0, \"BMI\": 21.0, \"DiabetesPedigreeFunction\": 0.207, \"Age\": 37, \"Outcome\": 0}, {\"Pregnancies\": 1, \"Glucose\": 101, \"BloodPressure\": 50, \"SkinThickness\": 15, \"Insulin\": 36, \"BMI\": 24.2, \"DiabetesPedigreeFunction\": 0.526, \"Age\": 26, \"Outcome\": 0}, {\"Pregnancies\": 2, \"Glucose\": 91, \"BloodPressure\": 62, \"SkinThickness\": 0, \"Insulin\": 0, \"BMI\": 27.3, \"DiabetesPedigreeFunction\": 0.525, \"Age\": 22, \"Outcome\": 0}, {\"Pregnancies\": 0, \"Glucose\": 124, \"BloodPressure\": 56, \"SkinThickness\": 13, \"Insulin\": 105, \"BMI\": 21.8, \"DiabetesPedigreeFunction\": 0.452, \"Age\": 21, \"Outcome\": 0}, {\"Pregnancies\": 2, \"Glucose\": 122, \"BloodPressure\": 60, \"SkinThickness\": 18, \"Insulin\": 106, \"BMI\": 29.8, \"DiabetesPedigreeFunction\": 0.717, \"Age\": 22, \"Outcome\": 0}, {\"Pregnancies\": 2, \"Glucose\": 120, \"BloodPressure\": 76, \"SkinThickness\": 37, \"Insulin\": 105, \"BMI\": 39.7, \"DiabetesPedigreeFunction\": 0.215, \"Age\": 29, \"Outcome\": 0}, {\"Pregnancies\": 1, \"Glucose\": 90, \"BloodPressure\": 68, \"SkinThickness\": 8, \"Insulin\": 0, \"BMI\": 24.5, \"DiabetesPedigreeFunction\": 1.138, \"Age\": 36, \"Outcome\": 0}, {\"Pregnancies\": 0, \"Glucose\": 57, \"BloodPressure\": 60, \"SkinThickness\": 0, \"Insulin\": 0, \"BMI\": 21.7, \"DiabetesPedigreeFunction\": 0.735, \"Age\": 67, \"Outcome\": 0}, {\"Pregnancies\": 7, \"Glucose\": 142, \"BloodPressure\": 90, \"SkinThickness\": 24, \"Insulin\": 480, \"BMI\": 30.4, \"DiabetesPedigreeFunction\": 0.128, \"Age\": 43, \"Outcome\": 1}, {\"Pregnancies\": 13, \"Glucose\": 129, \"BloodPressure\": 0, \"SkinThickness\": 30, \"Insulin\": 0, \"BMI\": 39.9, \"DiabetesPedigreeFunction\": 0.569, \"Age\": 44, \"Outcome\": 1}, {\"Pregnancies\": 8, \"Glucose\": 181, \"BloodPressure\": 68, \"SkinThickness\": 36, \"Insulin\": 495, \"BMI\": 30.1, \"DiabetesPedigreeFunction\": 0.615, \"Age\": 60, \"Outcome\": 1}, {\"Pregnancies\": 7, \"Glucose\": 124, \"BloodPressure\": 70, \"SkinThickness\": 33, \"Insulin\": 215, \"BMI\": 25.5, \"DiabetesPedigreeFunction\": 0.161, \"Age\": 37, \"Outcome\": 0}, {\"Pregnancies\": 0, \"Glucose\": 105, \"BloodPressure\": 84, \"SkinThickness\": 0, \"Insulin\": 0, \"BMI\": 27.9, \"DiabetesPedigreeFunction\": 0.741, \"Age\": 62, \"Outcome\": 1}, {\"Pregnancies\": 1, \"Glucose\": 196, \"BloodPressure\": 76, \"SkinThickness\": 36, \"Insulin\": 249, \"BMI\": 36.5, \"DiabetesPedigreeFunction\": 0.875, \"Age\": 29, \"Outcome\": 1}, {\"Pregnancies\": 2, \"Glucose\": 146, \"BloodPressure\": 76, \"SkinThickness\": 35, \"Insulin\": 194, \"BMI\": 38.2, \"DiabetesPedigreeFunction\": 0.329, \"Age\": 29, \"Outcome\": 0}, {\"Pregnancies\": 1, \"Glucose\": 113, \"BloodPressure\": 64, \"SkinThickness\": 35, \"Insulin\": 0, \"BMI\": 33.6, \"DiabetesPedigreeFunction\": 0.543, \"Age\": 21, \"Outcome\": 1}, {\"Pregnancies\": 1, \"Glucose\": 100, \"BloodPressure\": 66, \"SkinThickness\": 29, \"Insulin\": 196, \"BMI\": 32.0, \"DiabetesPedigreeFunction\": 0.444, \"Age\": 42, \"Outcome\": 0}, {\"Pregnancies\": 8, \"Glucose\": 188, \"BloodPressure\": 78, \"SkinThickness\": 0, \"Insulin\": 0, \"BMI\": 47.9, \"DiabetesPedigreeFunction\": 0.137, \"Age\": 43, \"Outcome\": 1}, {\"Pregnancies\": 0, \"Glucose\": 118, \"BloodPressure\": 64, \"SkinThickness\": 23, \"Insulin\": 89, \"BMI\": 0.0, \"DiabetesPedigreeFunction\": 1.731, \"Age\": 21, \"Outcome\": 0}, {\"Pregnancies\": 1, \"Glucose\": 126, \"BloodPressure\": 60, \"SkinThickness\": 0, \"Insulin\": 0, \"BMI\": 30.1, \"DiabetesPedigreeFunction\": 0.349, \"Age\": 47, \"Outcome\": 1}, {\"Pregnancies\": 12, \"Glucose\": 121, \"BloodPressure\": 78, \"SkinThickness\": 17, \"Insulin\": 0, \"BMI\": 26.5, \"DiabetesPedigreeFunction\": 0.259, \"Age\": 62, \"Outcome\": 0}, {\"Pregnancies\": 0, \"Glucose\": 141, \"BloodPressure\": 84, \"SkinThickness\": 26, \"Insulin\": 0, \"BMI\": 32.4, \"DiabetesPedigreeFunction\": 0.433, \"Age\": 22, \"Outcome\": 0}, {\"Pregnancies\": 2, \"Glucose\": 88, \"BloodPressure\": 74, \"SkinThickness\": 19, \"Insulin\": 53, \"BMI\": 29.0, \"DiabetesPedigreeFunction\": 0.229, \"Age\": 22, \"Outcome\": 0}, {\"Pregnancies\": 5, \"Glucose\": 117, \"BloodPressure\": 86, \"SkinThickness\": 30, \"Insulin\": 105, \"BMI\": 39.1, \"DiabetesPedigreeFunction\": 0.251, \"Age\": 42, \"Outcome\": 0}, {\"Pregnancies\": 2, \"Glucose\": 108, \"BloodPressure\": 62, \"SkinThickness\": 32, \"Insulin\": 56, \"BMI\": 25.2, \"DiabetesPedigreeFunction\": 0.128, \"Age\": 21, \"Outcome\": 0}, {\"Pregnancies\": 0, \"Glucose\": 145, \"BloodPressure\": 0, \"SkinThickness\": 0, \"Insulin\": 0, \"BMI\": 44.2, \"DiabetesPedigreeFunction\": 0.63, \"Age\": 31, \"Outcome\": 1}, {\"Pregnancies\": 9, \"Glucose\": 57, \"BloodPressure\": 80, \"SkinThickness\": 37, \"Insulin\": 0, \"BMI\": 32.8, \"DiabetesPedigreeFunction\": 0.096, \"Age\": 41, \"Outcome\": 0}, {\"Pregnancies\": 4, \"Glucose\": 158, \"BloodPressure\": 78, \"SkinThickness\": 0, \"Insulin\": 0, \"BMI\": 32.9, \"DiabetesPedigreeFunction\": 0.803, \"Age\": 31, \"Outcome\": 1}, {\"Pregnancies\": 1, \"Glucose\": 83, \"BloodPressure\": 68, \"SkinThickness\": 0, \"Insulin\": 0, \"BMI\": 18.2, \"DiabetesPedigreeFunction\": 0.624, \"Age\": 27, \"Outcome\": 0}, {\"Pregnancies\": 6, \"Glucose\": 108, \"BloodPressure\": 44, \"SkinThickness\": 20, \"Insulin\": 130, \"BMI\": 24.0, \"DiabetesPedigreeFunction\": 0.813, \"Age\": 35, \"Outcome\": 0}, {\"Pregnancies\": 6, \"Glucose\": 190, \"BloodPressure\": 92, \"SkinThickness\": 0, \"Insulin\": 0, \"BMI\": 35.5, \"DiabetesPedigreeFunction\": 0.278, \"Age\": 66, \"Outcome\": 1}, {\"Pregnancies\": 2, \"Glucose\": 56, \"BloodPressure\": 56, \"SkinThickness\": 28, \"Insulin\": 45, \"BMI\": 24.2, \"DiabetesPedigreeFunction\": 0.332, \"Age\": 22, \"Outcome\": 0}, {\"Pregnancies\": 3, \"Glucose\": 176, \"BloodPressure\": 86, \"SkinThickness\": 27, \"Insulin\": 156, \"BMI\": 33.3, \"DiabetesPedigreeFunction\": 1.154, \"Age\": 52, \"Outcome\": 1}, {\"Pregnancies\": 0, \"Glucose\": 78, \"BloodPressure\": 88, \"SkinThickness\": 29, \"Insulin\": 40, \"BMI\": 36.9, \"DiabetesPedigreeFunction\": 0.434, \"Age\": 21, \"Outcome\": 0}, {\"Pregnancies\": 1, \"Glucose\": 112, \"BloodPressure\": 72, \"SkinThickness\": 30, \"Insulin\": 176, \"BMI\": 34.4, \"DiabetesPedigreeFunction\": 0.528, \"Age\": 25, \"Outcome\": 0}, {\"Pregnancies\": 7, \"Glucose\": 114, \"BloodPressure\": 64, \"SkinThickness\": 0, \"Insulin\": 0, \"BMI\": 27.4, \"DiabetesPedigreeFunction\": 0.732, \"Age\": 34, \"Outcome\": 1}, {\"Pregnancies\": 0, \"Glucose\": 140, \"BloodPressure\": 65, \"SkinThickness\": 26, \"Insulin\": 130, \"BMI\": 42.6, \"DiabetesPedigreeFunction\": 0.431, \"Age\": 24, \"Outcome\": 1}, {\"Pregnancies\": 12, \"Glucose\": 88, \"BloodPressure\": 74, \"SkinThickness\": 40, \"Insulin\": 54, \"BMI\": 35.3, \"DiabetesPedigreeFunction\": 0.378, \"Age\": 48, \"Outcome\": 0}, {\"Pregnancies\": 6, \"Glucose\": 87, \"BloodPressure\": 80, \"SkinThickness\": 0, \"Insulin\": 0, \"BMI\": 23.2, \"DiabetesPedigreeFunction\": 0.084, \"Age\": 32, \"Outcome\": 0}, {\"Pregnancies\": 1, \"Glucose\": 107, \"BloodPressure\": 72, \"SkinThickness\": 30, \"Insulin\": 82, \"BMI\": 30.8, \"DiabetesPedigreeFunction\": 0.821, \"Age\": 24, \"Outcome\": 0}, {\"Pregnancies\": 1, \"Glucose\": 122, \"BloodPressure\": 90, \"SkinThickness\": 51, \"Insulin\": 220, \"BMI\": 49.7, \"DiabetesPedigreeFunction\": 0.325, \"Age\": 31, \"Outcome\": 1}, {\"Pregnancies\": 2, \"Glucose\": 125, \"BloodPressure\": 60, \"SkinThickness\": 20, \"Insulin\": 140, \"BMI\": 33.8, \"DiabetesPedigreeFunction\": 0.088, \"Age\": 31, \"Outcome\": 0}, {\"Pregnancies\": 6, \"Glucose\": 85, \"BloodPressure\": 78, \"SkinThickness\": 0, \"Insulin\": 0, \"BMI\": 31.2, \"DiabetesPedigreeFunction\": 0.382, \"Age\": 42, \"Outcome\": 0}, {\"Pregnancies\": 3, \"Glucose\": 96, \"BloodPressure\": 78, \"SkinThickness\": 39, \"Insulin\": 0, \"BMI\": 37.3, \"DiabetesPedigreeFunction\": 0.238, \"Age\": 40, \"Outcome\": 0}, {\"Pregnancies\": 11, \"Glucose\": 85, \"BloodPressure\": 74, \"SkinThickness\": 0, \"Insulin\": 0, \"BMI\": 30.1, \"DiabetesPedigreeFunction\": 0.3, \"Age\": 35, \"Outcome\": 0}, {\"Pregnancies\": 0, \"Glucose\": 67, \"BloodPressure\": 76, \"SkinThickness\": 0, \"Insulin\": 0, \"BMI\": 45.3, \"DiabetesPedigreeFunction\": 0.194, \"Age\": 46, \"Outcome\": 0}, {\"Pregnancies\": 2, \"Glucose\": 122, \"BloodPressure\": 70, \"SkinThickness\": 27, \"Insulin\": 0, \"BMI\": 36.8, \"DiabetesPedigreeFunction\": 0.34, \"Age\": 27, \"Outcome\": 0}, {\"Pregnancies\": 4, \"Glucose\": 111, \"BloodPressure\": 72, \"SkinThickness\": 47, \"Insulin\": 207, \"BMI\": 37.1, \"DiabetesPedigreeFunction\": 1.39, \"Age\": 56, \"Outcome\": 1}, {\"Pregnancies\": 1, \"Glucose\": 130, \"BloodPressure\": 70, \"SkinThickness\": 13, \"Insulin\": 105, \"BMI\": 25.9, \"DiabetesPedigreeFunction\": 0.472, \"Age\": 22, \"Outcome\": 0}, {\"Pregnancies\": 8, \"Glucose\": 183, \"BloodPressure\": 64, \"SkinThickness\": 0, \"Insulin\": 0, \"BMI\": 23.3, \"DiabetesPedigreeFunction\": 0.672, \"Age\": 32, \"Outcome\": 1}, {\"Pregnancies\": 2, \"Glucose\": 134, \"BloodPressure\": 70, \"SkinThickness\": 0, \"Insulin\": 0, \"BMI\": 28.9, \"DiabetesPedigreeFunction\": 0.542, \"Age\": 23, \"Outcome\": 1}, {\"Pregnancies\": 1, \"Glucose\": 95, \"BloodPressure\": 66, \"SkinThickness\": 13, \"Insulin\": 38, \"BMI\": 19.6, \"DiabetesPedigreeFunction\": 0.334, \"Age\": 25, \"Outcome\": 0}, {\"Pregnancies\": 1, \"Glucose\": 96, \"BloodPressure\": 64, \"SkinThickness\": 27, \"Insulin\": 87, \"BMI\": 33.2, \"DiabetesPedigreeFunction\": 0.289, \"Age\": 21, \"Outcome\": 0}, {\"Pregnancies\": 0, \"Glucose\": 152, \"BloodPressure\": 82, \"SkinThickness\": 39, \"Insulin\": 272, \"BMI\": 41.5, \"DiabetesPedigreeFunction\": 0.27, \"Age\": 27, \"Outcome\": 0}, {\"Pregnancies\": 1, \"Glucose\": 119, \"BloodPressure\": 88, \"SkinThickness\": 41, \"Insulin\": 170, \"BMI\": 45.3, \"DiabetesPedigreeFunction\": 0.507, \"Age\": 26, \"Outcome\": 0}, {\"Pregnancies\": 0, \"Glucose\": 86, \"BloodPressure\": 68, \"SkinThickness\": 32, \"Insulin\": 0, \"BMI\": 35.8, \"DiabetesPedigreeFunction\": 0.238, \"Age\": 25, \"Outcome\": 0}, {\"Pregnancies\": 7, \"Glucose\": 178, \"BloodPressure\": 84, \"SkinThickness\": 0, \"Insulin\": 0, \"BMI\": 39.9, \"DiabetesPedigreeFunction\": 0.331, \"Age\": 41, \"Outcome\": 1}, {\"Pregnancies\": 1, \"Glucose\": 172, \"BloodPressure\": 68, \"SkinThickness\": 49, \"Insulin\": 579, \"BMI\": 42.4, \"DiabetesPedigreeFunction\": 0.702, \"Age\": 28, \"Outcome\": 1}, {\"Pregnancies\": 8, \"Glucose\": 155, \"BloodPressure\": 62, \"SkinThickness\": 26, \"Insulin\": 495, \"BMI\": 34.0, \"DiabetesPedigreeFunction\": 0.543, \"Age\": 46, \"Outcome\": 1}, {\"Pregnancies\": 1, \"Glucose\": 100, \"BloodPressure\": 66, \"SkinThickness\": 15, \"Insulin\": 56, \"BMI\": 23.6, \"DiabetesPedigreeFunction\": 0.666, \"Age\": 26, \"Outcome\": 0}, {\"Pregnancies\": 1, \"Glucose\": 88, \"BloodPressure\": 78, \"SkinThickness\": 29, \"Insulin\": 76, \"BMI\": 32.0, \"DiabetesPedigreeFunction\": 0.365, \"Age\": 29, \"Outcome\": 0}, {\"Pregnancies\": 4, \"Glucose\": 129, \"BloodPressure\": 86, \"SkinThickness\": 20, \"Insulin\": 270, \"BMI\": 35.1, \"DiabetesPedigreeFunction\": 0.231, \"Age\": 23, \"Outcome\": 0}, {\"Pregnancies\": 2, \"Glucose\": 71, \"BloodPressure\": 70, \"SkinThickness\": 27, \"Insulin\": 0, \"BMI\": 28.0, \"DiabetesPedigreeFunction\": 0.586, \"Age\": 22, \"Outcome\": 0}, {\"Pregnancies\": 7, \"Glucose\": 97, \"BloodPressure\": 76, \"SkinThickness\": 32, \"Insulin\": 91, \"BMI\": 40.9, \"DiabetesPedigreeFunction\": 0.871, \"Age\": 32, \"Outcome\": 1}, {\"Pregnancies\": 4, \"Glucose\": 76, \"BloodPressure\": 62, \"SkinThickness\": 0, \"Insulin\": 0, \"BMI\": 34.0, \"DiabetesPedigreeFunction\": 0.391, \"Age\": 25, \"Outcome\": 0}, {\"Pregnancies\": 2, \"Glucose\": 92, \"BloodPressure\": 62, \"SkinThickness\": 28, \"Insulin\": 0, \"BMI\": 31.6, \"DiabetesPedigreeFunction\": 0.13, \"Age\": 24, \"Outcome\": 0}, {\"Pregnancies\": 8, \"Glucose\": 65, \"BloodPressure\": 72, \"SkinThickness\": 23, \"Insulin\": 0, \"BMI\": 32.0, \"DiabetesPedigreeFunction\": 0.6, \"Age\": 42, \"Outcome\": 0}, {\"Pregnancies\": 9, \"Glucose\": 112, \"BloodPressure\": 82, \"SkinThickness\": 32, \"Insulin\": 175, \"BMI\": 34.2, \"DiabetesPedigreeFunction\": 0.26, \"Age\": 36, \"Outcome\": 1}, {\"Pregnancies\": 0, \"Glucose\": 121, \"BloodPressure\": 66, \"SkinThickness\": 30, \"Insulin\": 165, \"BMI\": 34.3, \"DiabetesPedigreeFunction\": 0.203, \"Age\": 33, \"Outcome\": 1}, {\"Pregnancies\": 5, \"Glucose\": 132, \"BloodPressure\": 80, \"SkinThickness\": 0, \"Insulin\": 0, \"BMI\": 26.8, \"DiabetesPedigreeFunction\": 0.186, \"Age\": 69, \"Outcome\": 0}, {\"Pregnancies\": 1, \"Glucose\": 96, \"BloodPressure\": 122, \"SkinThickness\": 0, \"Insulin\": 0, \"BMI\": 22.4, \"DiabetesPedigreeFunction\": 0.207, \"Age\": 27, \"Outcome\": 0}, {\"Pregnancies\": 0, \"Glucose\": 188, \"BloodPressure\": 82, \"SkinThickness\": 14, \"Insulin\": 185, \"BMI\": 32.0, \"DiabetesPedigreeFunction\": 0.682, \"Age\": 22, \"Outcome\": 1}, {\"Pregnancies\": 7, \"Glucose\": 107, \"BloodPressure\": 74, \"SkinThickness\": 0, \"Insulin\": 0, \"BMI\": 29.6, \"DiabetesPedigreeFunction\": 0.254, \"Age\": 31, \"Outcome\": 1}, {\"Pregnancies\": 1, \"Glucose\": 109, \"BloodPressure\": 58, \"SkinThickness\": 18, \"Insulin\": 116, \"BMI\": 28.5, \"DiabetesPedigreeFunction\": 0.219, \"Age\": 22, \"Outcome\": 0}, {\"Pregnancies\": 6, \"Glucose\": 93, \"BloodPressure\": 50, \"SkinThickness\": 30, \"Insulin\": 64, \"BMI\": 28.7, \"DiabetesPedigreeFunction\": 0.356, \"Age\": 23, \"Outcome\": 0}, {\"Pregnancies\": 0, \"Glucose\": 124, \"BloodPressure\": 70, \"SkinThickness\": 20, \"Insulin\": 0, \"BMI\": 27.4, \"DiabetesPedigreeFunction\": 0.254, \"Age\": 36, \"Outcome\": 1}, {\"Pregnancies\": 1, \"Glucose\": 109, \"BloodPressure\": 60, \"SkinThickness\": 8, \"Insulin\": 182, \"BMI\": 25.4, \"DiabetesPedigreeFunction\": 0.947, \"Age\": 21, \"Outcome\": 0}, {\"Pregnancies\": 5, \"Glucose\": 99, \"BloodPressure\": 54, \"SkinThickness\": 28, \"Insulin\": 83, \"BMI\": 34.0, \"DiabetesPedigreeFunction\": 0.499, \"Age\": 30, \"Outcome\": 0}, {\"Pregnancies\": 12, \"Glucose\": 84, \"BloodPressure\": 72, \"SkinThickness\": 31, \"Insulin\": 0, \"BMI\": 29.7, \"DiabetesPedigreeFunction\": 0.297, \"Age\": 46, \"Outcome\": 1}]}}, {\"mode\": \"vega-lite\"});\n",
       "</script>"
      ],
      "text/plain": [
       "alt.RepeatChart(...)"
      ]
     },
     "execution_count": 8,
     "metadata": {},
     "output_type": "execute_result"
    }
   ],
   "source": [
    "feature_histograms = alt.Chart(train_df).transform_calculate(\n",
    ").mark_bar(opacity=0.5).encode( x = alt.X(alt.repeat()).type(\n",
    "'quantitative').bin(maxbins=30), y= alt.Y('count()').stack(False),\n",
    "                               color = 'Outcome:N'\n",
    ").properties( height=250,\n",
    "width=250 ).repeat(\n",
    "features, columns=2\n",
    ")\n",
    "\n",
    "feature_histograms "
   ]
  },
  {
   "cell_type": "markdown",
   "id": "6995241a-3405-46c1-a32c-51096604f88e",
   "metadata": {},
   "source": [
    "Figure 1. Comparison of the empirical distributions of training data predictors between those non-diabetic and diabetic"
   ]
  },
  {
   "cell_type": "markdown",
   "id": "fe80c9bb-631f-4ba8-b5ae-1256e15a3d92",
   "metadata": {},
   "source": [
    "Figure 1 above shows us the respective distribution of each of the features. We have categorized the results to show the how distribution of each feature is when the Outcome is 0 (Non-Diabetic) and when the Outcome is 1 (Diabetic). This helps give us an indication on certain relationships between the features and the target.\n",
    "\n",
    "For the Glucose levels, we see for the Non-Diabetic class that glucose levels are a somewhat normal distribution; but for the Diabetic class, the glucose levels lean heavily towards the middle to higher range. BMI for the Diabetic class looks like a normal distribution, but it also skews slighty to higher values. But for the Non-Diabetic class interestingly the BMI distribution seems more bimodal.\n",
    "\n",
    "For the distribution of Age we see that Ages 20 to 32 are dominated by Non-Diabetics, but after the age of 32 we see that the count levels are close between the Diabetic and Non-Diabetic classes, where for some bins the Diabetic class even overtakes the Non-Diabetic even with a lower total count of observations in the data set. The Non-Diabetic class in the Age Distribution leans more towards lower ages meanwhile the Diabetic class' distribution is somewhat consistent across its age range.\n",
    "\n",
    "For Pregnancies the lower range of pregnancies is dominated by the Non-Diabetic class, meanwhile for higher range of pregnancies the Diabetic class has more observations.\n",
    "\n",
    "For Skin Thickness both the Diabetic and Non-Diabetic class are close to a normal distribution but the Non-Diabetic distribution skews slighty towards lower values and the Diabetic class skews more towards higher values."
   ]
  },
  {
   "cell_type": "code",
   "execution_count": 9,
   "id": "93f62fb0-c9e4-4847-9476-49b8cc16c6ea",
   "metadata": {},
   "outputs": [],
   "source": [
    "# validate training data for class imbalance for target variable \n",
    "# Do these on training data as part of EDA! \n",
    "train_df_ds = Dataset(train_df, label = 'Outcome', cat_features=[])\n",
    "\n",
    "check_lab_cls_imb = ClassImbalance().add_condition_class_ratio_less_than(0.5)\n",
    "check_lab_cls_imb_result = check_lab_cls_imb.run(dataset = train_df_ds)\n",
    "\n",
    "if check_lab_cls_imb_result.passed_conditions():\n",
    "    raise ValueError(\"Class imbalance exceeds the maximum acceptable threshold.\")"
   ]
  },
  {
   "cell_type": "code",
   "execution_count": 10,
   "id": "7d395ab0-be41-49dc-b53b-8f9ebfcd4cc9",
   "metadata": {},
   "outputs": [],
   "source": [
    "# validate training data for percent of nulls\n",
    "check_pct_nulls = PercentOfNulls().add_condition_percent_of_nulls_not_greater_than(0.05)\n",
    "check_pct_nulls_result = check_pct_nulls.run(dataset = train_df_ds)\n",
    "\n",
    "if not check_pct_nulls_result.passed_conditions():\n",
    "    raise ValueError(\"Percent of nulls exceeds the maximum acceptable threshold for at least one column.\")"
   ]
  },
  {
   "cell_type": "code",
   "execution_count": 11,
   "id": "6287276b-c645-4044-9d9a-d4849bab9f67",
   "metadata": {},
   "outputs": [],
   "source": [
    "# validate training data for percent of outlier samples using loOP algo\n",
    "check_out_sample = (\n",
    "    OutlierSampleDetection(nearest_neighbors_percent = 0.01, extent_parameter = 3)\n",
    "    .add_condition_outlier_ratio_less_or_equal(max_outliers_ratio = 0.001, outlier_score_threshold = 0.9)\n",
    ")\n",
    "check_out_sample_result = check_out_sample.run(dataset = train_df_ds)\n",
    "\n",
    "if not check_out_sample_result.passed_conditions():\n",
    "    raise ValueError(\"Number of outlier samples exceeds the maximum acceptable threshold.\")"
   ]
  },
  {
   "cell_type": "code",
   "execution_count": 12,
   "id": "4fb0abd7-a03a-4918-b9e9-a98963f99567",
   "metadata": {},
   "outputs": [],
   "source": [
    "# validate training data for data duplicates\n",
    "# set duplicate condition to 0 as would not expect any two patient with the exact same situation\n",
    "check_data_dup = DataDuplicates().add_condition_ratio_less_or_equal(0)\n",
    "check_data_dup_result = check_data_dup.run(dataset = train_df_ds)\n",
    "\n",
    "if not check_data_dup_result.passed_conditions():\n",
    "    raise ValueError(\"Data duplicates exceed the maximum acceptable threshold.\")"
   ]
  },
  {
   "cell_type": "code",
   "execution_count": 13,
   "id": "d226cde9-402e-413d-9515-d2ff0b42e38b",
   "metadata": {},
   "outputs": [],
   "source": [
    "# validate training data for mixed data types across all columns\n",
    "check_mix_dtype = MixedDataTypes().add_condition_rare_type_ratio_not_in_range((0.01, 0.2))\n",
    "check_mix_dtype_result = check_mix_dtype.run(dataset = train_df_ds)\n",
    "\n",
    "if not check_mix_dtype_result.passed_conditions():\n",
    "    # raise a warning instead of an error in this case\n",
    "    warnings.warn(\"Percentage of rare data type in dangerous zone for at least one column\")"
   ]
  },
  {
   "cell_type": "code",
   "execution_count": 14,
   "id": "4b9f6883-e835-4c89-9886-74402cecee80",
   "metadata": {},
   "outputs": [
    {
     "data": {
      "text/html": [
       "\n",
       "<style>\n",
       "  #altair-viz-69cded63ecc64a0d81ca7ddd3b954dd5.vega-embed {\n",
       "    width: 100%;\n",
       "    display: flex;\n",
       "  }\n",
       "\n",
       "  #altair-viz-69cded63ecc64a0d81ca7ddd3b954dd5.vega-embed details,\n",
       "  #altair-viz-69cded63ecc64a0d81ca7ddd3b954dd5.vega-embed details summary {\n",
       "    position: relative;\n",
       "  }\n",
       "</style>\n",
       "<div id=\"altair-viz-69cded63ecc64a0d81ca7ddd3b954dd5\"></div>\n",
       "<script type=\"text/javascript\">\n",
       "  var VEGA_DEBUG = (typeof VEGA_DEBUG == \"undefined\") ? {} : VEGA_DEBUG;\n",
       "  (function(spec, embedOpt){\n",
       "    let outputDiv = document.currentScript.previousElementSibling;\n",
       "    if (outputDiv.id !== \"altair-viz-69cded63ecc64a0d81ca7ddd3b954dd5\") {\n",
       "      outputDiv = document.getElementById(\"altair-viz-69cded63ecc64a0d81ca7ddd3b954dd5\");\n",
       "    }\n",
       "\n",
       "    const paths = {\n",
       "      \"vega\": \"https://cdn.jsdelivr.net/npm/vega@5?noext\",\n",
       "      \"vega-lib\": \"https://cdn.jsdelivr.net/npm/vega-lib?noext\",\n",
       "      \"vega-lite\": \"https://cdn.jsdelivr.net/npm/vega-lite@5.20.1?noext\",\n",
       "      \"vega-embed\": \"https://cdn.jsdelivr.net/npm/vega-embed@6?noext\",\n",
       "    };\n",
       "\n",
       "    function maybeLoadScript(lib, version) {\n",
       "      var key = `${lib.replace(\"-\", \"\")}_version`;\n",
       "      return (VEGA_DEBUG[key] == version) ?\n",
       "        Promise.resolve(paths[lib]) :\n",
       "        new Promise(function(resolve, reject) {\n",
       "          var s = document.createElement('script');\n",
       "          document.getElementsByTagName(\"head\")[0].appendChild(s);\n",
       "          s.async = true;\n",
       "          s.onload = () => {\n",
       "            VEGA_DEBUG[key] = version;\n",
       "            return resolve(paths[lib]);\n",
       "          };\n",
       "          s.onerror = () => reject(`Error loading script: ${paths[lib]}`);\n",
       "          s.src = paths[lib];\n",
       "        });\n",
       "    }\n",
       "\n",
       "    function showError(err) {\n",
       "      outputDiv.innerHTML = `<div class=\"error\" style=\"color:red;\">${err}</div>`;\n",
       "      throw err;\n",
       "    }\n",
       "\n",
       "    function displayChart(vegaEmbed) {\n",
       "      vegaEmbed(outputDiv, spec, embedOpt)\n",
       "        .catch(err => showError(`Javascript Error: ${err.message}<br>This usually means there's a typo in your chart specification. See the javascript console for the full traceback.`));\n",
       "    }\n",
       "\n",
       "    if(typeof define === \"function\" && define.amd) {\n",
       "      requirejs.config({paths});\n",
       "      let deps = [\"vega-embed\"];\n",
       "      require(deps, displayChart, err => showError(`Error loading script: ${err.message}`));\n",
       "    } else {\n",
       "      maybeLoadScript(\"vega\", \"5\")\n",
       "        .then(() => maybeLoadScript(\"vega-lite\", \"5.20.1\"))\n",
       "        .then(() => maybeLoadScript(\"vega-embed\", \"6\"))\n",
       "        .catch(showError)\n",
       "        .then(() => displayChart(vegaEmbed));\n",
       "    }\n",
       "  })({\"config\": {\"view\": {\"continuousWidth\": 300, \"continuousHeight\": 300, \"strokeWidth\": 0}}, \"concat\": [{\"data\": {\"name\": \"data-4b292b92fec0785e6a6cb8960015b933\"}, \"mark\": {\"type\": \"circle\"}, \"encoding\": {\"color\": {\"field\": \"value\", \"scale\": {\"domain\": [-1, 1], \"scheme\": \"blueorange\"}, \"title\": \"\", \"type\": \"quantitative\"}, \"size\": {\"field\": \"abs_value\", \"legend\": null, \"scale\": {\"domain\": [0, 1]}, \"type\": \"quantitative\"}, \"tooltip\": [{\"field\": \"value\", \"format\": \".2f\", \"title\": \"corr\", \"type\": \"quantitative\"}, {\"field\": \"index\", \"title\": \"x\", \"type\": \"nominal\"}, {\"field\": \"variable\", \"title\": \"y\", \"type\": \"nominal\"}], \"x\": {\"field\": \"index\", \"sort\": [\"Outcome\", \"Age\", \"DiabetesPedigreeFunction\", \"BMI\", \"Insulin\", \"SkinThickness\", \"BloodPressure\", \"Glucose\"], \"title\": \"\", \"type\": \"nominal\"}, \"y\": {\"axis\": {}, \"field\": \"variable\", \"sort\": [\"Age\", \"DiabetesPedigreeFunction\", \"BMI\", \"Insulin\", \"SkinThickness\", \"BloodPressure\", \"Glucose\", \"Pregnancies\"], \"title\": \"\", \"type\": \"nominal\"}}, \"title\": \"Pearson correlations\", \"transform\": [{\"calculate\": \"abs(datum.value)\", \"as\": \"abs_value\"}]}, {\"data\": {\"name\": \"data-f86ab29755c717363e8fe5d452be7a35\"}, \"mark\": {\"type\": \"circle\"}, \"encoding\": {\"color\": {\"field\": \"value\", \"scale\": {\"domain\": [-1, 1], \"scheme\": \"blueorange\"}, \"title\": \"\", \"type\": \"quantitative\"}, \"size\": {\"field\": \"abs_value\", \"legend\": null, \"scale\": {\"domain\": [0, 1]}, \"type\": \"quantitative\"}, \"tooltip\": [{\"field\": \"value\", \"format\": \".2f\", \"title\": \"corr\", \"type\": \"quantitative\"}, {\"field\": \"index\", \"title\": \"x\", \"type\": \"nominal\"}, {\"field\": \"variable\", \"title\": \"y\", \"type\": \"nominal\"}], \"x\": {\"field\": \"index\", \"sort\": [\"Outcome\", \"Age\", \"DiabetesPedigreeFunction\", \"BMI\", \"Insulin\", \"SkinThickness\", \"BloodPressure\", \"Glucose\"], \"title\": \"\", \"type\": \"nominal\"}, \"y\": {\"axis\": {\"labels\": false}, \"field\": \"variable\", \"sort\": [\"Age\", \"DiabetesPedigreeFunction\", \"BMI\", \"Insulin\", \"SkinThickness\", \"BloodPressure\", \"Glucose\", \"Pregnancies\"], \"title\": \"\", \"type\": \"nominal\"}}, \"title\": \"Spearman correlations\", \"transform\": [{\"calculate\": \"abs(datum.value)\", \"as\": \"abs_value\"}]}], \"resolve\": {\"axis\": {\"y\": \"shared\"}}, \"$schema\": \"https://vega.github.io/schema/vega-lite/v5.20.1.json\", \"datasets\": {\"data-4b292b92fec0785e6a6cb8960015b933\": [{\"index\": \"Outcome\", \"variable\": \"SkinThickness\", \"value\": 0.08956824707588897}, {\"index\": \"Age\", \"variable\": \"SkinThickness\", \"value\": -0.13840931730508432}, {\"index\": \"DiabetesPedigreeFunction\", \"variable\": \"SkinThickness\", \"value\": 0.1730230910466916}, {\"index\": \"BMI\", \"variable\": \"SkinThickness\", \"value\": 0.40566734188636616}, {\"index\": \"Insulin\", \"variable\": \"SkinThickness\", \"value\": 0.4558785990131137}, {\"index\": \"Outcome\", \"variable\": \"Pregnancies\", \"value\": 0.19298256937339148}, {\"index\": \"BloodPressure\", \"variable\": \"Pregnancies\", \"value\": 0.11477287469892888}, {\"index\": \"Glucose\", \"variable\": \"Pregnancies\", \"value\": 0.09511101725270395}, {\"index\": \"Age\", \"variable\": \"Pregnancies\", \"value\": 0.5279058658232033}, {\"index\": \"SkinThickness\", \"variable\": \"Pregnancies\", \"value\": -0.06431165891763457}, {\"index\": \"Insulin\", \"variable\": \"Pregnancies\", \"value\": -0.08112409121349724}, {\"index\": \"BMI\", \"variable\": \"Pregnancies\", \"value\": 0.006331573054308251}, {\"index\": \"DiabetesPedigreeFunction\", \"variable\": \"Pregnancies\", \"value\": -0.06895247676600766}, {\"index\": \"Outcome\", \"variable\": \"Insulin\", \"value\": 0.13322821511218877}, {\"index\": \"BMI\", \"variable\": \"Insulin\", \"value\": 0.20395273419989912}, {\"index\": \"DiabetesPedigreeFunction\", \"variable\": \"Insulin\", \"value\": 0.16109582609694756}, {\"index\": \"Age\", \"variable\": \"Insulin\", \"value\": -0.07997623653946488}, {\"index\": \"BloodPressure\", \"variable\": \"Glucose\", \"value\": 0.1750547435539572}, {\"index\": \"SkinThickness\", \"variable\": \"Glucose\", \"value\": 0.0719381305986791}, {\"index\": \"Outcome\", \"variable\": \"Glucose\", \"value\": 0.4356344725755913}, {\"index\": \"DiabetesPedigreeFunction\", \"variable\": \"Glucose\", \"value\": 0.14063734736486275}, {\"index\": \"BMI\", \"variable\": \"Glucose\", \"value\": 0.21436195971500205}, {\"index\": \"Insulin\", \"variable\": \"Glucose\", \"value\": 0.38597381690130084}, {\"index\": \"Age\", \"variable\": \"Glucose\", \"value\": 0.2454649646458762}, {\"index\": \"Age\", \"variable\": \"DiabetesPedigreeFunction\", \"value\": 0.023651193076649493}, {\"index\": \"Outcome\", \"variable\": \"DiabetesPedigreeFunction\", \"value\": 0.16340287932095252}, {\"index\": \"DiabetesPedigreeFunction\", \"variable\": \"BloodPressure\", \"value\": 0.06151668421633347}, {\"index\": \"Outcome\", \"variable\": \"BloodPressure\", \"value\": 0.07644360825293232}, {\"index\": \"Age\", \"variable\": \"BloodPressure\", \"value\": 0.2397562682077794}, {\"index\": \"BMI\", \"variable\": \"BloodPressure\", \"value\": 0.2801423642378659}, {\"index\": \"Insulin\", \"variable\": \"BloodPressure\", \"value\": 0.10480536097636563}, {\"index\": \"SkinThickness\", \"variable\": \"BloodPressure\", \"value\": 0.21528730894330975}, {\"index\": \"DiabetesPedigreeFunction\", \"variable\": \"BMI\", \"value\": 0.1501953469600122}, {\"index\": \"Age\", \"variable\": \"BMI\", \"value\": 0.03199094332054845}, {\"index\": \"Outcome\", \"variable\": \"BMI\", \"value\": 0.2911888819823663}, {\"index\": \"Outcome\", \"variable\": \"Age\", \"value\": 0.2095637953491584}], \"data-f86ab29755c717363e8fe5d452be7a35\": [{\"index\": \"Outcome\", \"variable\": \"SkinThickness\", \"value\": 0.10538899817162493}, {\"index\": \"Age\", \"variable\": \"SkinThickness\", \"value\": -0.07443058444014422}, {\"index\": \"DiabetesPedigreeFunction\", \"variable\": \"SkinThickness\", \"value\": 0.1821559176839838}, {\"index\": \"BMI\", \"variable\": \"SkinThickness\", \"value\": 0.4558608569968749}, {\"index\": \"Insulin\", \"variable\": \"SkinThickness\", \"value\": 0.5352275448780136}, {\"index\": \"Outcome\", \"variable\": \"Pregnancies\", \"value\": 0.1708192300959346}, {\"index\": \"BloodPressure\", \"variable\": \"Pregnancies\", \"value\": 0.19015812989546316}, {\"index\": \"Glucose\", \"variable\": \"Pregnancies\", \"value\": 0.09303473613261688}, {\"index\": \"Age\", \"variable\": \"Pregnancies\", \"value\": 0.5893378759768497}, {\"index\": \"SkinThickness\", \"variable\": \"Pregnancies\", \"value\": -0.08647651655795946}, {\"index\": \"Insulin\", \"variable\": \"Pregnancies\", \"value\": -0.139309188221985}, {\"index\": \"BMI\", \"variable\": \"Pregnancies\", \"value\": -0.02667382765562677}, {\"index\": \"DiabetesPedigreeFunction\", \"variable\": \"Pregnancies\", \"value\": -0.09615238951795298}, {\"index\": \"Outcome\", \"variable\": \"Insulin\", \"value\": 0.09808904317753232}, {\"index\": \"BMI\", \"variable\": \"Insulin\", \"value\": 0.18812046888691036}, {\"index\": \"DiabetesPedigreeFunction\", \"variable\": \"Insulin\", \"value\": 0.2282629567604419}, {\"index\": \"Age\", \"variable\": \"Insulin\", \"value\": -0.1357344914664876}, {\"index\": \"BloodPressure\", \"variable\": \"Glucose\", \"value\": 0.2633692758479217}, {\"index\": \"SkinThickness\", \"variable\": \"Glucose\", \"value\": 0.08416826802290348}, {\"index\": \"Outcome\", \"variable\": \"Glucose\", \"value\": 0.4339026425003644}, {\"index\": \"DiabetesPedigreeFunction\", \"variable\": \"Glucose\", \"value\": 0.07782501295489322}, {\"index\": \"BMI\", \"variable\": \"Glucose\", \"value\": 0.18879721542432565}, {\"index\": \"Insulin\", \"variable\": \"Glucose\", \"value\": 0.2767302534647976}, {\"index\": \"Age\", \"variable\": \"Glucose\", \"value\": 0.24718345258154154}, {\"index\": \"Age\", \"variable\": \"DiabetesPedigreeFunction\", \"value\": 0.011080340273497892}, {\"index\": \"Outcome\", \"variable\": \"DiabetesPedigreeFunction\", \"value\": 0.16426499032979658}, {\"index\": \"DiabetesPedigreeFunction\", \"variable\": \"BloodPressure\", \"value\": 0.010149394217550565}, {\"index\": \"Outcome\", \"variable\": \"BloodPressure\", \"value\": 0.14156727856816959}, {\"index\": \"Age\", \"variable\": \"BloodPressure\", \"value\": 0.38191594855037764}, {\"index\": \"BMI\", \"variable\": \"BloodPressure\", \"value\": 0.28302365862080503}, {\"index\": \"Insulin\", \"variable\": \"BloodPressure\", \"value\": 0.0016581224215304676}, {\"index\": \"SkinThickness\", \"variable\": \"BloodPressure\", \"value\": 0.1346500007719621}, {\"index\": \"DiabetesPedigreeFunction\", \"variable\": \"BMI\", \"value\": 0.16115841887854276}, {\"index\": \"Age\", \"variable\": \"BMI\", \"value\": 0.10184521841654001}, {\"index\": \"Outcome\", \"variable\": \"BMI\", \"value\": 0.29013672768447124}, {\"index\": \"Outcome\", \"variable\": \"Age\", \"value\": 0.2841740171714637}]}}, {\"mode\": \"vega-lite\"});\n",
       "</script>"
      ],
      "text/plain": [
       "alt.ConcatChart(...)"
      ]
     },
     "execution_count": 14,
     "metadata": {},
     "output_type": "execute_result"
    }
   ],
   "source": [
    "aly.corr(train_df)"
   ]
  },
  {
   "cell_type": "markdown",
   "id": "bb988de9-549c-4594-ace9-9fa6436bbd27",
   "metadata": {},
   "source": [
    "Figure 2: Pearson and Spearman correlations across all features"
   ]
  },
  {
   "cell_type": "markdown",
   "id": "d43927d3-04dc-433f-8c90-d7c662826730",
   "metadata": {},
   "source": [
    "Figure 2 shows the correlation between all of the respective features. The main reasoning to analyze thi is to see if there is any multicollinearity between any of the features which is problamatic when conducting a Logistic Regression. We see that highest level of correlation is between Age and Pregnancies (0.53 by Pearson, and 0.59 via Spearman). Since this is below the threshold of 0.7 we can conclude that all feature coefficients are suitable and will not cause any multicollinearity in our model. "
   ]
  },
  {
   "cell_type": "code",
   "execution_count": 15,
   "id": "fd50b563-9985-4d2c-8a3f-e9a97f2a6fb1",
   "metadata": {},
   "outputs": [
    {
     "data": {
      "text/html": [
       "\n",
       "<style>\n",
       "  #altair-viz-6b0d40eb617c40d3b35acd5cafac034b.vega-embed {\n",
       "    width: 100%;\n",
       "    display: flex;\n",
       "  }\n",
       "\n",
       "  #altair-viz-6b0d40eb617c40d3b35acd5cafac034b.vega-embed details,\n",
       "  #altair-viz-6b0d40eb617c40d3b35acd5cafac034b.vega-embed details summary {\n",
       "    position: relative;\n",
       "  }\n",
       "</style>\n",
       "<div id=\"altair-viz-6b0d40eb617c40d3b35acd5cafac034b\"></div>\n",
       "<script type=\"text/javascript\">\n",
       "  var VEGA_DEBUG = (typeof VEGA_DEBUG == \"undefined\") ? {} : VEGA_DEBUG;\n",
       "  (function(spec, embedOpt){\n",
       "    let outputDiv = document.currentScript.previousElementSibling;\n",
       "    if (outputDiv.id !== \"altair-viz-6b0d40eb617c40d3b35acd5cafac034b\") {\n",
       "      outputDiv = document.getElementById(\"altair-viz-6b0d40eb617c40d3b35acd5cafac034b\");\n",
       "    }\n",
       "\n",
       "    const paths = {\n",
       "      \"vega\": \"https://cdn.jsdelivr.net/npm/vega@5?noext\",\n",
       "      \"vega-lib\": \"https://cdn.jsdelivr.net/npm/vega-lib?noext\",\n",
       "      \"vega-lite\": \"https://cdn.jsdelivr.net/npm/vega-lite@5.20.1?noext\",\n",
       "      \"vega-embed\": \"https://cdn.jsdelivr.net/npm/vega-embed@6?noext\",\n",
       "    };\n",
       "\n",
       "    function maybeLoadScript(lib, version) {\n",
       "      var key = `${lib.replace(\"-\", \"\")}_version`;\n",
       "      return (VEGA_DEBUG[key] == version) ?\n",
       "        Promise.resolve(paths[lib]) :\n",
       "        new Promise(function(resolve, reject) {\n",
       "          var s = document.createElement('script');\n",
       "          document.getElementsByTagName(\"head\")[0].appendChild(s);\n",
       "          s.async = true;\n",
       "          s.onload = () => {\n",
       "            VEGA_DEBUG[key] = version;\n",
       "            return resolve(paths[lib]);\n",
       "          };\n",
       "          s.onerror = () => reject(`Error loading script: ${paths[lib]}`);\n",
       "          s.src = paths[lib];\n",
       "        });\n",
       "    }\n",
       "\n",
       "    function showError(err) {\n",
       "      outputDiv.innerHTML = `<div class=\"error\" style=\"color:red;\">${err}</div>`;\n",
       "      throw err;\n",
       "    }\n",
       "\n",
       "    function displayChart(vegaEmbed) {\n",
       "      vegaEmbed(outputDiv, spec, embedOpt)\n",
       "        .catch(err => showError(`Javascript Error: ${err.message}<br>This usually means there's a typo in your chart specification. See the javascript console for the full traceback.`));\n",
       "    }\n",
       "\n",
       "    if(typeof define === \"function\" && define.amd) {\n",
       "      requirejs.config({paths});\n",
       "      let deps = [\"vega-embed\"];\n",
       "      require(deps, displayChart, err => showError(`Error loading script: ${err.message}`));\n",
       "    } else {\n",
       "      maybeLoadScript(\"vega\", \"5\")\n",
       "        .then(() => maybeLoadScript(\"vega-lite\", \"5.20.1\"))\n",
       "        .then(() => maybeLoadScript(\"vega-embed\", \"6\"))\n",
       "        .catch(showError)\n",
       "        .then(() => displayChart(vegaEmbed));\n",
       "    }\n",
       "  })({\"config\": {\"view\": {\"continuousWidth\": 300, \"continuousHeight\": 300}}, \"vconcat\": [{\"hconcat\": [{\"mark\": {\"type\": \"point\"}, \"encoding\": {\"color\": {\"condition\": {\"param\": \"param_2\", \"field\": \"Outcome\", \"legend\": {\"orient\": \"top\"}, \"type\": \"nominal\"}, \"value\": \"lightgrey\"}, \"opacity\": {\"condition\": {\"param\": \"param_3\", \"value\": 0.6}, \"value\": 0.1}, \"tooltip\": {\"field\": \"\", \"type\": \"quantitative\"}, \"x\": {\"axis\": {\"domain\": false, \"labels\": false, \"ticks\": false, \"title\": \"\"}, \"bin\": false, \"field\": \"Outcome\", \"scale\": {\"zero\": false}, \"type\": \"quantitative\"}, \"y\": {\"bin\": false, \"field\": \"Age\", \"scale\": {\"zero\": false}, \"type\": \"quantitative\"}}, \"height\": 150, \"name\": \"view_1\", \"width\": 150}]}, {\"hconcat\": [{\"mark\": {\"type\": \"point\"}, \"encoding\": {\"color\": {\"condition\": {\"param\": \"param_2\", \"field\": \"Outcome\", \"legend\": {\"orient\": \"top\"}, \"type\": \"nominal\"}, \"value\": \"lightgrey\"}, \"opacity\": {\"condition\": {\"param\": \"param_3\", \"value\": 0.6}, \"value\": 0.1}, \"tooltip\": {\"field\": \"\", \"type\": \"quantitative\"}, \"x\": {\"axis\": {\"domain\": false, \"labels\": false, \"ticks\": false, \"title\": \"\"}, \"bin\": false, \"field\": \"Outcome\", \"scale\": {\"zero\": false}, \"type\": \"quantitative\"}, \"y\": {\"bin\": false, \"field\": \"DiabetesPedigreeFunction\", \"scale\": {\"zero\": false}, \"type\": \"quantitative\"}}, \"height\": 150, \"name\": \"view_2\", \"width\": 150}, {\"mark\": {\"type\": \"point\"}, \"encoding\": {\"color\": {\"condition\": {\"param\": \"param_2\", \"field\": \"Outcome\", \"legend\": {\"orient\": \"top\"}, \"type\": \"nominal\"}, \"value\": \"lightgrey\"}, \"opacity\": {\"condition\": {\"param\": \"param_3\", \"value\": 0.6}, \"value\": 0.1}, \"tooltip\": {\"field\": \"\", \"type\": \"quantitative\"}, \"x\": {\"axis\": {\"domain\": false, \"labels\": false, \"ticks\": false, \"title\": \"\"}, \"bin\": false, \"field\": \"Age\", \"scale\": {\"zero\": false}, \"type\": \"quantitative\"}, \"y\": {\"axis\": {\"domain\": false, \"labels\": false, \"ticks\": false, \"title\": \"\"}, \"bin\": false, \"field\": \"DiabetesPedigreeFunction\", \"scale\": {\"zero\": false}, \"type\": \"quantitative\"}}, \"height\": 150, \"name\": \"view_3\", \"width\": 150}]}, {\"hconcat\": [{\"mark\": {\"type\": \"point\"}, \"encoding\": {\"color\": {\"condition\": {\"param\": \"param_2\", \"field\": \"Outcome\", \"legend\": {\"orient\": \"top\"}, \"type\": \"nominal\"}, \"value\": \"lightgrey\"}, \"opacity\": {\"condition\": {\"param\": \"param_3\", \"value\": 0.6}, \"value\": 0.1}, \"tooltip\": {\"field\": \"\", \"type\": \"quantitative\"}, \"x\": {\"axis\": {\"domain\": false, \"labels\": false, \"ticks\": false, \"title\": \"\"}, \"bin\": false, \"field\": \"Outcome\", \"scale\": {\"zero\": false}, \"type\": \"quantitative\"}, \"y\": {\"bin\": false, \"field\": \"BMI\", \"scale\": {\"zero\": false}, \"type\": \"quantitative\"}}, \"height\": 150, \"name\": \"view_4\", \"width\": 150}, {\"mark\": {\"type\": \"point\"}, \"encoding\": {\"color\": {\"condition\": {\"param\": \"param_2\", \"field\": \"Outcome\", \"legend\": {\"orient\": \"top\"}, \"type\": \"nominal\"}, \"value\": \"lightgrey\"}, \"opacity\": {\"condition\": {\"param\": \"param_3\", \"value\": 0.6}, \"value\": 0.1}, \"tooltip\": {\"field\": \"\", \"type\": \"quantitative\"}, \"x\": {\"axis\": {\"domain\": false, \"labels\": false, \"ticks\": false, \"title\": \"\"}, \"bin\": false, \"field\": \"Age\", \"scale\": {\"zero\": false}, \"type\": \"quantitative\"}, \"y\": {\"axis\": {\"domain\": false, \"labels\": false, \"ticks\": false, \"title\": \"\"}, \"bin\": false, \"field\": \"BMI\", \"scale\": {\"zero\": false}, \"type\": \"quantitative\"}}, \"height\": 150, \"name\": \"view_5\", \"width\": 150}, {\"mark\": {\"type\": \"point\"}, \"encoding\": {\"color\": {\"condition\": {\"param\": \"param_2\", \"field\": \"Outcome\", \"legend\": {\"orient\": \"top\"}, \"type\": \"nominal\"}, \"value\": \"lightgrey\"}, \"opacity\": {\"condition\": {\"param\": \"param_3\", \"value\": 0.6}, \"value\": 0.1}, \"tooltip\": {\"field\": \"\", \"type\": \"quantitative\"}, \"x\": {\"axis\": {\"domain\": false, \"labels\": false, \"ticks\": false, \"title\": \"\"}, \"bin\": false, \"field\": \"DiabetesPedigreeFunction\", \"scale\": {\"zero\": false}, \"type\": \"quantitative\"}, \"y\": {\"axis\": {\"domain\": false, \"labels\": false, \"ticks\": false, \"title\": \"\"}, \"bin\": false, \"field\": \"BMI\", \"scale\": {\"zero\": false}, \"type\": \"quantitative\"}}, \"height\": 150, \"name\": \"view_6\", \"width\": 150}]}, {\"hconcat\": [{\"mark\": {\"type\": \"point\"}, \"encoding\": {\"color\": {\"condition\": {\"param\": \"param_2\", \"field\": \"Outcome\", \"legend\": {\"orient\": \"top\"}, \"type\": \"nominal\"}, \"value\": \"lightgrey\"}, \"opacity\": {\"condition\": {\"param\": \"param_3\", \"value\": 0.6}, \"value\": 0.1}, \"tooltip\": {\"field\": \"\", \"type\": \"quantitative\"}, \"x\": {\"axis\": {\"domain\": false, \"labels\": false, \"ticks\": false, \"title\": \"\"}, \"bin\": false, \"field\": \"Outcome\", \"scale\": {\"zero\": false}, \"type\": \"quantitative\"}, \"y\": {\"bin\": false, \"field\": \"Insulin\", \"scale\": {\"zero\": false}, \"type\": \"quantitative\"}}, \"height\": 150, \"name\": \"view_7\", \"width\": 150}, {\"mark\": {\"type\": \"point\"}, \"encoding\": {\"color\": {\"condition\": {\"param\": \"param_2\", \"field\": \"Outcome\", \"legend\": {\"orient\": \"top\"}, \"type\": \"nominal\"}, \"value\": \"lightgrey\"}, \"opacity\": {\"condition\": {\"param\": \"param_3\", \"value\": 0.6}, \"value\": 0.1}, \"tooltip\": {\"field\": \"\", \"type\": \"quantitative\"}, \"x\": {\"axis\": {\"domain\": false, \"labels\": false, \"ticks\": false, \"title\": \"\"}, \"bin\": false, \"field\": \"Age\", \"scale\": {\"zero\": false}, \"type\": \"quantitative\"}, \"y\": {\"axis\": {\"domain\": false, \"labels\": false, \"ticks\": false, \"title\": \"\"}, \"bin\": false, \"field\": \"Insulin\", \"scale\": {\"zero\": false}, \"type\": \"quantitative\"}}, \"height\": 150, \"name\": \"view_8\", \"width\": 150}, {\"mark\": {\"type\": \"point\"}, \"encoding\": {\"color\": {\"condition\": {\"param\": \"param_2\", \"field\": \"Outcome\", \"legend\": {\"orient\": \"top\"}, \"type\": \"nominal\"}, \"value\": \"lightgrey\"}, \"opacity\": {\"condition\": {\"param\": \"param_3\", \"value\": 0.6}, \"value\": 0.1}, \"tooltip\": {\"field\": \"\", \"type\": \"quantitative\"}, \"x\": {\"axis\": {\"domain\": false, \"labels\": false, \"ticks\": false, \"title\": \"\"}, \"bin\": false, \"field\": \"DiabetesPedigreeFunction\", \"scale\": {\"zero\": false}, \"type\": \"quantitative\"}, \"y\": {\"axis\": {\"domain\": false, \"labels\": false, \"ticks\": false, \"title\": \"\"}, \"bin\": false, \"field\": \"Insulin\", \"scale\": {\"zero\": false}, \"type\": \"quantitative\"}}, \"height\": 150, \"name\": \"view_9\", \"width\": 150}, {\"mark\": {\"type\": \"point\"}, \"encoding\": {\"color\": {\"condition\": {\"param\": \"param_2\", \"field\": \"Outcome\", \"legend\": {\"orient\": \"top\"}, \"type\": \"nominal\"}, \"value\": \"lightgrey\"}, \"opacity\": {\"condition\": {\"param\": \"param_3\", \"value\": 0.6}, \"value\": 0.1}, \"tooltip\": {\"field\": \"\", \"type\": \"quantitative\"}, \"x\": {\"axis\": {\"domain\": false, \"labels\": false, \"ticks\": false, \"title\": \"\"}, \"bin\": false, \"field\": \"BMI\", \"scale\": {\"zero\": false}, \"type\": \"quantitative\"}, \"y\": {\"axis\": {\"domain\": false, \"labels\": false, \"ticks\": false, \"title\": \"\"}, \"bin\": false, \"field\": \"Insulin\", \"scale\": {\"zero\": false}, \"type\": \"quantitative\"}}, \"height\": 150, \"name\": \"view_10\", \"width\": 150}]}, {\"hconcat\": [{\"mark\": {\"type\": \"point\"}, \"encoding\": {\"color\": {\"condition\": {\"param\": \"param_2\", \"field\": \"Outcome\", \"legend\": {\"orient\": \"top\"}, \"type\": \"nominal\"}, \"value\": \"lightgrey\"}, \"opacity\": {\"condition\": {\"param\": \"param_3\", \"value\": 0.6}, \"value\": 0.1}, \"tooltip\": {\"field\": \"\", \"type\": \"quantitative\"}, \"x\": {\"axis\": {\"domain\": false, \"labels\": false, \"ticks\": false, \"title\": \"\"}, \"bin\": false, \"field\": \"Outcome\", \"scale\": {\"zero\": false}, \"type\": \"quantitative\"}, \"y\": {\"bin\": false, \"field\": \"SkinThickness\", \"scale\": {\"zero\": false}, \"type\": \"quantitative\"}}, \"height\": 150, \"name\": \"view_11\", \"width\": 150}, {\"mark\": {\"type\": \"point\"}, \"encoding\": {\"color\": {\"condition\": {\"param\": \"param_2\", \"field\": \"Outcome\", \"legend\": {\"orient\": \"top\"}, \"type\": \"nominal\"}, \"value\": \"lightgrey\"}, \"opacity\": {\"condition\": {\"param\": \"param_3\", \"value\": 0.6}, \"value\": 0.1}, \"tooltip\": {\"field\": \"\", \"type\": \"quantitative\"}, \"x\": {\"axis\": {\"domain\": false, \"labels\": false, \"ticks\": false, \"title\": \"\"}, \"bin\": false, \"field\": \"Age\", \"scale\": {\"zero\": false}, \"type\": \"quantitative\"}, \"y\": {\"axis\": {\"domain\": false, \"labels\": false, \"ticks\": false, \"title\": \"\"}, \"bin\": false, \"field\": \"SkinThickness\", \"scale\": {\"zero\": false}, \"type\": \"quantitative\"}}, \"height\": 150, \"name\": \"view_12\", \"width\": 150}, {\"mark\": {\"type\": \"point\"}, \"encoding\": {\"color\": {\"condition\": {\"param\": \"param_2\", \"field\": \"Outcome\", \"legend\": {\"orient\": \"top\"}, \"type\": \"nominal\"}, \"value\": \"lightgrey\"}, \"opacity\": {\"condition\": {\"param\": \"param_3\", \"value\": 0.6}, \"value\": 0.1}, \"tooltip\": {\"field\": \"\", \"type\": \"quantitative\"}, \"x\": {\"axis\": {\"domain\": false, \"labels\": false, \"ticks\": false, \"title\": \"\"}, \"bin\": false, \"field\": \"DiabetesPedigreeFunction\", \"scale\": {\"zero\": false}, \"type\": \"quantitative\"}, \"y\": {\"axis\": {\"domain\": false, \"labels\": false, \"ticks\": false, \"title\": \"\"}, \"bin\": false, \"field\": \"SkinThickness\", \"scale\": {\"zero\": false}, \"type\": \"quantitative\"}}, \"height\": 150, \"name\": \"view_13\", \"width\": 150}, {\"mark\": {\"type\": \"point\"}, \"encoding\": {\"color\": {\"condition\": {\"param\": \"param_2\", \"field\": \"Outcome\", \"legend\": {\"orient\": \"top\"}, \"type\": \"nominal\"}, \"value\": \"lightgrey\"}, \"opacity\": {\"condition\": {\"param\": \"param_3\", \"value\": 0.6}, \"value\": 0.1}, \"tooltip\": {\"field\": \"\", \"type\": \"quantitative\"}, \"x\": {\"axis\": {\"domain\": false, \"labels\": false, \"ticks\": false, \"title\": \"\"}, \"bin\": false, \"field\": \"BMI\", \"scale\": {\"zero\": false}, \"type\": \"quantitative\"}, \"y\": {\"axis\": {\"domain\": false, \"labels\": false, \"ticks\": false, \"title\": \"\"}, \"bin\": false, \"field\": \"SkinThickness\", \"scale\": {\"zero\": false}, \"type\": \"quantitative\"}}, \"height\": 150, \"name\": \"view_14\", \"width\": 150}, {\"mark\": {\"type\": \"point\"}, \"encoding\": {\"color\": {\"condition\": {\"param\": \"param_2\", \"field\": \"Outcome\", \"legend\": {\"orient\": \"top\"}, \"type\": \"nominal\"}, \"value\": \"lightgrey\"}, \"opacity\": {\"condition\": {\"param\": \"param_3\", \"value\": 0.6}, \"value\": 0.1}, \"tooltip\": {\"field\": \"\", \"type\": \"quantitative\"}, \"x\": {\"axis\": {\"domain\": false, \"labels\": false, \"ticks\": false, \"title\": \"\"}, \"bin\": false, \"field\": \"Insulin\", \"scale\": {\"zero\": false}, \"type\": \"quantitative\"}, \"y\": {\"axis\": {\"domain\": false, \"labels\": false, \"ticks\": false, \"title\": \"\"}, \"bin\": false, \"field\": \"SkinThickness\", \"scale\": {\"zero\": false}, \"type\": \"quantitative\"}}, \"height\": 150, \"name\": \"view_15\", \"width\": 150}]}, {\"hconcat\": [{\"mark\": {\"type\": \"point\"}, \"encoding\": {\"color\": {\"condition\": {\"param\": \"param_2\", \"field\": \"Outcome\", \"legend\": {\"orient\": \"top\"}, \"type\": \"nominal\"}, \"value\": \"lightgrey\"}, \"opacity\": {\"condition\": {\"param\": \"param_3\", \"value\": 0.6}, \"value\": 0.1}, \"tooltip\": {\"field\": \"\", \"type\": \"quantitative\"}, \"x\": {\"axis\": {\"domain\": false, \"labels\": false, \"ticks\": false, \"title\": \"\"}, \"bin\": false, \"field\": \"Outcome\", \"scale\": {\"zero\": false}, \"type\": \"quantitative\"}, \"y\": {\"bin\": false, \"field\": \"BloodPressure\", \"scale\": {\"zero\": false}, \"type\": \"quantitative\"}}, \"height\": 150, \"name\": \"view_16\", \"width\": 150}, {\"mark\": {\"type\": \"point\"}, \"encoding\": {\"color\": {\"condition\": {\"param\": \"param_2\", \"field\": \"Outcome\", \"legend\": {\"orient\": \"top\"}, \"type\": \"nominal\"}, \"value\": \"lightgrey\"}, \"opacity\": {\"condition\": {\"param\": \"param_3\", \"value\": 0.6}, \"value\": 0.1}, \"tooltip\": {\"field\": \"\", \"type\": \"quantitative\"}, \"x\": {\"axis\": {\"domain\": false, \"labels\": false, \"ticks\": false, \"title\": \"\"}, \"bin\": false, \"field\": \"Age\", \"scale\": {\"zero\": false}, \"type\": \"quantitative\"}, \"y\": {\"axis\": {\"domain\": false, \"labels\": false, \"ticks\": false, \"title\": \"\"}, \"bin\": false, \"field\": \"BloodPressure\", \"scale\": {\"zero\": false}, \"type\": \"quantitative\"}}, \"height\": 150, \"name\": \"view_17\", \"width\": 150}, {\"mark\": {\"type\": \"point\"}, \"encoding\": {\"color\": {\"condition\": {\"param\": \"param_2\", \"field\": \"Outcome\", \"legend\": {\"orient\": \"top\"}, \"type\": \"nominal\"}, \"value\": \"lightgrey\"}, \"opacity\": {\"condition\": {\"param\": \"param_3\", \"value\": 0.6}, \"value\": 0.1}, \"tooltip\": {\"field\": \"\", \"type\": \"quantitative\"}, \"x\": {\"axis\": {\"domain\": false, \"labels\": false, \"ticks\": false, \"title\": \"\"}, \"bin\": false, \"field\": \"DiabetesPedigreeFunction\", \"scale\": {\"zero\": false}, \"type\": \"quantitative\"}, \"y\": {\"axis\": {\"domain\": false, \"labels\": false, \"ticks\": false, \"title\": \"\"}, \"bin\": false, \"field\": \"BloodPressure\", \"scale\": {\"zero\": false}, \"type\": \"quantitative\"}}, \"height\": 150, \"name\": \"view_18\", \"width\": 150}, {\"mark\": {\"type\": \"point\"}, \"encoding\": {\"color\": {\"condition\": {\"param\": \"param_2\", \"field\": \"Outcome\", \"legend\": {\"orient\": \"top\"}, \"type\": \"nominal\"}, \"value\": \"lightgrey\"}, \"opacity\": {\"condition\": {\"param\": \"param_3\", \"value\": 0.6}, \"value\": 0.1}, \"tooltip\": {\"field\": \"\", \"type\": \"quantitative\"}, \"x\": {\"axis\": {\"domain\": false, \"labels\": false, \"ticks\": false, \"title\": \"\"}, \"bin\": false, \"field\": \"BMI\", \"scale\": {\"zero\": false}, \"type\": \"quantitative\"}, \"y\": {\"axis\": {\"domain\": false, \"labels\": false, \"ticks\": false, \"title\": \"\"}, \"bin\": false, \"field\": \"BloodPressure\", \"scale\": {\"zero\": false}, \"type\": \"quantitative\"}}, \"height\": 150, \"name\": \"view_19\", \"width\": 150}, {\"mark\": {\"type\": \"point\"}, \"encoding\": {\"color\": {\"condition\": {\"param\": \"param_2\", \"field\": \"Outcome\", \"legend\": {\"orient\": \"top\"}, \"type\": \"nominal\"}, \"value\": \"lightgrey\"}, \"opacity\": {\"condition\": {\"param\": \"param_3\", \"value\": 0.6}, \"value\": 0.1}, \"tooltip\": {\"field\": \"\", \"type\": \"quantitative\"}, \"x\": {\"axis\": {\"domain\": false, \"labels\": false, \"ticks\": false, \"title\": \"\"}, \"bin\": false, \"field\": \"Insulin\", \"scale\": {\"zero\": false}, \"type\": \"quantitative\"}, \"y\": {\"axis\": {\"domain\": false, \"labels\": false, \"ticks\": false, \"title\": \"\"}, \"bin\": false, \"field\": \"BloodPressure\", \"scale\": {\"zero\": false}, \"type\": \"quantitative\"}}, \"height\": 150, \"name\": \"view_20\", \"width\": 150}, {\"mark\": {\"type\": \"point\"}, \"encoding\": {\"color\": {\"condition\": {\"param\": \"param_2\", \"field\": \"Outcome\", \"legend\": {\"orient\": \"top\"}, \"type\": \"nominal\"}, \"value\": \"lightgrey\"}, \"opacity\": {\"condition\": {\"param\": \"param_3\", \"value\": 0.6}, \"value\": 0.1}, \"tooltip\": {\"field\": \"\", \"type\": \"quantitative\"}, \"x\": {\"axis\": {\"domain\": false, \"labels\": false, \"ticks\": false, \"title\": \"\"}, \"bin\": false, \"field\": \"SkinThickness\", \"scale\": {\"zero\": false}, \"type\": \"quantitative\"}, \"y\": {\"axis\": {\"domain\": false, \"labels\": false, \"ticks\": false, \"title\": \"\"}, \"bin\": false, \"field\": \"BloodPressure\", \"scale\": {\"zero\": false}, \"type\": \"quantitative\"}}, \"height\": 150, \"name\": \"view_21\", \"width\": 150}]}, {\"hconcat\": [{\"mark\": {\"type\": \"point\"}, \"encoding\": {\"color\": {\"condition\": {\"param\": \"param_2\", \"field\": \"Outcome\", \"legend\": {\"orient\": \"top\"}, \"type\": \"nominal\"}, \"value\": \"lightgrey\"}, \"opacity\": {\"condition\": {\"param\": \"param_3\", \"value\": 0.6}, \"value\": 0.1}, \"tooltip\": {\"field\": \"\", \"type\": \"quantitative\"}, \"x\": {\"axis\": {\"domain\": false, \"labels\": false, \"ticks\": false, \"title\": \"\"}, \"bin\": false, \"field\": \"Outcome\", \"scale\": {\"zero\": false}, \"type\": \"quantitative\"}, \"y\": {\"bin\": false, \"field\": \"Glucose\", \"scale\": {\"zero\": false}, \"type\": \"quantitative\"}}, \"height\": 150, \"name\": \"view_22\", \"width\": 150}, {\"mark\": {\"type\": \"point\"}, \"encoding\": {\"color\": {\"condition\": {\"param\": \"param_2\", \"field\": \"Outcome\", \"legend\": {\"orient\": \"top\"}, \"type\": \"nominal\"}, \"value\": \"lightgrey\"}, \"opacity\": {\"condition\": {\"param\": \"param_3\", \"value\": 0.6}, \"value\": 0.1}, \"tooltip\": {\"field\": \"\", \"type\": \"quantitative\"}, \"x\": {\"axis\": {\"domain\": false, \"labels\": false, \"ticks\": false, \"title\": \"\"}, \"bin\": false, \"field\": \"Age\", \"scale\": {\"zero\": false}, \"type\": \"quantitative\"}, \"y\": {\"axis\": {\"domain\": false, \"labels\": false, \"ticks\": false, \"title\": \"\"}, \"bin\": false, \"field\": \"Glucose\", \"scale\": {\"zero\": false}, \"type\": \"quantitative\"}}, \"height\": 150, \"name\": \"view_23\", \"width\": 150}, {\"mark\": {\"type\": \"point\"}, \"encoding\": {\"color\": {\"condition\": {\"param\": \"param_2\", \"field\": \"Outcome\", \"legend\": {\"orient\": \"top\"}, \"type\": \"nominal\"}, \"value\": \"lightgrey\"}, \"opacity\": {\"condition\": {\"param\": \"param_3\", \"value\": 0.6}, \"value\": 0.1}, \"tooltip\": {\"field\": \"\", \"type\": \"quantitative\"}, \"x\": {\"axis\": {\"domain\": false, \"labels\": false, \"ticks\": false, \"title\": \"\"}, \"bin\": false, \"field\": \"DiabetesPedigreeFunction\", \"scale\": {\"zero\": false}, \"type\": \"quantitative\"}, \"y\": {\"axis\": {\"domain\": false, \"labels\": false, \"ticks\": false, \"title\": \"\"}, \"bin\": false, \"field\": \"Glucose\", \"scale\": {\"zero\": false}, \"type\": \"quantitative\"}}, \"height\": 150, \"name\": \"view_24\", \"width\": 150}, {\"mark\": {\"type\": \"point\"}, \"encoding\": {\"color\": {\"condition\": {\"param\": \"param_2\", \"field\": \"Outcome\", \"legend\": {\"orient\": \"top\"}, \"type\": \"nominal\"}, \"value\": \"lightgrey\"}, \"opacity\": {\"condition\": {\"param\": \"param_3\", \"value\": 0.6}, \"value\": 0.1}, \"tooltip\": {\"field\": \"\", \"type\": \"quantitative\"}, \"x\": {\"axis\": {\"domain\": false, \"labels\": false, \"ticks\": false, \"title\": \"\"}, \"bin\": false, \"field\": \"BMI\", \"scale\": {\"zero\": false}, \"type\": \"quantitative\"}, \"y\": {\"axis\": {\"domain\": false, \"labels\": false, \"ticks\": false, \"title\": \"\"}, \"bin\": false, \"field\": \"Glucose\", \"scale\": {\"zero\": false}, \"type\": \"quantitative\"}}, \"height\": 150, \"name\": \"view_25\", \"width\": 150}, {\"mark\": {\"type\": \"point\"}, \"encoding\": {\"color\": {\"condition\": {\"param\": \"param_2\", \"field\": \"Outcome\", \"legend\": {\"orient\": \"top\"}, \"type\": \"nominal\"}, \"value\": \"lightgrey\"}, \"opacity\": {\"condition\": {\"param\": \"param_3\", \"value\": 0.6}, \"value\": 0.1}, \"tooltip\": {\"field\": \"\", \"type\": \"quantitative\"}, \"x\": {\"axis\": {\"domain\": false, \"labels\": false, \"ticks\": false, \"title\": \"\"}, \"bin\": false, \"field\": \"Insulin\", \"scale\": {\"zero\": false}, \"type\": \"quantitative\"}, \"y\": {\"axis\": {\"domain\": false, \"labels\": false, \"ticks\": false, \"title\": \"\"}, \"bin\": false, \"field\": \"Glucose\", \"scale\": {\"zero\": false}, \"type\": \"quantitative\"}}, \"height\": 150, \"name\": \"view_26\", \"width\": 150}, {\"mark\": {\"type\": \"point\"}, \"encoding\": {\"color\": {\"condition\": {\"param\": \"param_2\", \"field\": \"Outcome\", \"legend\": {\"orient\": \"top\"}, \"type\": \"nominal\"}, \"value\": \"lightgrey\"}, \"opacity\": {\"condition\": {\"param\": \"param_3\", \"value\": 0.6}, \"value\": 0.1}, \"tooltip\": {\"field\": \"\", \"type\": \"quantitative\"}, \"x\": {\"axis\": {\"domain\": false, \"labels\": false, \"ticks\": false, \"title\": \"\"}, \"bin\": false, \"field\": \"SkinThickness\", \"scale\": {\"zero\": false}, \"type\": \"quantitative\"}, \"y\": {\"axis\": {\"domain\": false, \"labels\": false, \"ticks\": false, \"title\": \"\"}, \"bin\": false, \"field\": \"Glucose\", \"scale\": {\"zero\": false}, \"type\": \"quantitative\"}}, \"height\": 150, \"name\": \"view_27\", \"width\": 150}, {\"mark\": {\"type\": \"point\"}, \"encoding\": {\"color\": {\"condition\": {\"param\": \"param_2\", \"field\": \"Outcome\", \"legend\": {\"orient\": \"top\"}, \"type\": \"nominal\"}, \"value\": \"lightgrey\"}, \"opacity\": {\"condition\": {\"param\": \"param_3\", \"value\": 0.6}, \"value\": 0.1}, \"tooltip\": {\"field\": \"\", \"type\": \"quantitative\"}, \"x\": {\"axis\": {\"domain\": false, \"labels\": false, \"ticks\": false, \"title\": \"\"}, \"bin\": false, \"field\": \"BloodPressure\", \"scale\": {\"zero\": false}, \"type\": \"quantitative\"}, \"y\": {\"axis\": {\"domain\": false, \"labels\": false, \"ticks\": false, \"title\": \"\"}, \"bin\": false, \"field\": \"Glucose\", \"scale\": {\"zero\": false}, \"type\": \"quantitative\"}}, \"height\": 150, \"name\": \"view_28\", \"width\": 150}]}, {\"hconcat\": [{\"mark\": {\"type\": \"point\"}, \"encoding\": {\"color\": {\"condition\": {\"param\": \"param_2\", \"field\": \"Outcome\", \"legend\": {\"orient\": \"top\"}, \"type\": \"nominal\"}, \"value\": \"lightgrey\"}, \"opacity\": {\"condition\": {\"param\": \"param_3\", \"value\": 0.6}, \"value\": 0.1}, \"tooltip\": {\"field\": \"\", \"type\": \"quantitative\"}, \"x\": {\"bin\": false, \"field\": \"Outcome\", \"scale\": {\"zero\": false}, \"type\": \"quantitative\"}, \"y\": {\"bin\": false, \"field\": \"Pregnancies\", \"scale\": {\"zero\": false}, \"type\": \"quantitative\"}}, \"height\": 150, \"name\": \"view_29\", \"width\": 150}, {\"mark\": {\"type\": \"point\"}, \"encoding\": {\"color\": {\"condition\": {\"param\": \"param_2\", \"field\": \"Outcome\", \"legend\": {\"orient\": \"top\"}, \"type\": \"nominal\"}, \"value\": \"lightgrey\"}, \"opacity\": {\"condition\": {\"param\": \"param_3\", \"value\": 0.6}, \"value\": 0.1}, \"tooltip\": {\"field\": \"\", \"type\": \"quantitative\"}, \"x\": {\"bin\": false, \"field\": \"Age\", \"scale\": {\"zero\": false}, \"type\": \"quantitative\"}, \"y\": {\"axis\": {\"domain\": false, \"labels\": false, \"ticks\": false, \"title\": \"\"}, \"bin\": false, \"field\": \"Pregnancies\", \"scale\": {\"zero\": false}, \"type\": \"quantitative\"}}, \"height\": 150, \"name\": \"view_30\", \"width\": 150}, {\"mark\": {\"type\": \"point\"}, \"encoding\": {\"color\": {\"condition\": {\"param\": \"param_2\", \"field\": \"Outcome\", \"legend\": {\"orient\": \"top\"}, \"type\": \"nominal\"}, \"value\": \"lightgrey\"}, \"opacity\": {\"condition\": {\"param\": \"param_3\", \"value\": 0.6}, \"value\": 0.1}, \"tooltip\": {\"field\": \"\", \"type\": \"quantitative\"}, \"x\": {\"bin\": false, \"field\": \"DiabetesPedigreeFunction\", \"scale\": {\"zero\": false}, \"type\": \"quantitative\"}, \"y\": {\"axis\": {\"domain\": false, \"labels\": false, \"ticks\": false, \"title\": \"\"}, \"bin\": false, \"field\": \"Pregnancies\", \"scale\": {\"zero\": false}, \"type\": \"quantitative\"}}, \"height\": 150, \"name\": \"view_31\", \"width\": 150}, {\"mark\": {\"type\": \"point\"}, \"encoding\": {\"color\": {\"condition\": {\"param\": \"param_2\", \"field\": \"Outcome\", \"legend\": {\"orient\": \"top\"}, \"type\": \"nominal\"}, \"value\": \"lightgrey\"}, \"opacity\": {\"condition\": {\"param\": \"param_3\", \"value\": 0.6}, \"value\": 0.1}, \"tooltip\": {\"field\": \"\", \"type\": \"quantitative\"}, \"x\": {\"bin\": false, \"field\": \"BMI\", \"scale\": {\"zero\": false}, \"type\": \"quantitative\"}, \"y\": {\"axis\": {\"domain\": false, \"labels\": false, \"ticks\": false, \"title\": \"\"}, \"bin\": false, \"field\": \"Pregnancies\", \"scale\": {\"zero\": false}, \"type\": \"quantitative\"}}, \"height\": 150, \"name\": \"view_32\", \"width\": 150}, {\"mark\": {\"type\": \"point\"}, \"encoding\": {\"color\": {\"condition\": {\"param\": \"param_2\", \"field\": \"Outcome\", \"legend\": {\"orient\": \"top\"}, \"type\": \"nominal\"}, \"value\": \"lightgrey\"}, \"opacity\": {\"condition\": {\"param\": \"param_3\", \"value\": 0.6}, \"value\": 0.1}, \"tooltip\": {\"field\": \"\", \"type\": \"quantitative\"}, \"x\": {\"bin\": false, \"field\": \"Insulin\", \"scale\": {\"zero\": false}, \"type\": \"quantitative\"}, \"y\": {\"axis\": {\"domain\": false, \"labels\": false, \"ticks\": false, \"title\": \"\"}, \"bin\": false, \"field\": \"Pregnancies\", \"scale\": {\"zero\": false}, \"type\": \"quantitative\"}}, \"height\": 150, \"name\": \"view_33\", \"width\": 150}, {\"mark\": {\"type\": \"point\"}, \"encoding\": {\"color\": {\"condition\": {\"param\": \"param_2\", \"field\": \"Outcome\", \"legend\": {\"orient\": \"top\"}, \"type\": \"nominal\"}, \"value\": \"lightgrey\"}, \"opacity\": {\"condition\": {\"param\": \"param_3\", \"value\": 0.6}, \"value\": 0.1}, \"tooltip\": {\"field\": \"\", \"type\": \"quantitative\"}, \"x\": {\"bin\": false, \"field\": \"SkinThickness\", \"scale\": {\"zero\": false}, \"type\": \"quantitative\"}, \"y\": {\"axis\": {\"domain\": false, \"labels\": false, \"ticks\": false, \"title\": \"\"}, \"bin\": false, \"field\": \"Pregnancies\", \"scale\": {\"zero\": false}, \"type\": \"quantitative\"}}, \"height\": 150, \"name\": \"view_34\", \"width\": 150}, {\"mark\": {\"type\": \"point\"}, \"encoding\": {\"color\": {\"condition\": {\"param\": \"param_2\", \"field\": \"Outcome\", \"legend\": {\"orient\": \"top\"}, \"type\": \"nominal\"}, \"value\": \"lightgrey\"}, \"opacity\": {\"condition\": {\"param\": \"param_3\", \"value\": 0.6}, \"value\": 0.1}, \"tooltip\": {\"field\": \"\", \"type\": \"quantitative\"}, \"x\": {\"bin\": false, \"field\": \"BloodPressure\", \"scale\": {\"zero\": false}, \"type\": \"quantitative\"}, \"y\": {\"axis\": {\"domain\": false, \"labels\": false, \"ticks\": false, \"title\": \"\"}, \"bin\": false, \"field\": \"Pregnancies\", \"scale\": {\"zero\": false}, \"type\": \"quantitative\"}}, \"height\": 150, \"name\": \"view_35\", \"width\": 150}, {\"mark\": {\"type\": \"point\"}, \"encoding\": {\"color\": {\"condition\": {\"param\": \"param_2\", \"field\": \"Outcome\", \"legend\": {\"orient\": \"top\"}, \"type\": \"nominal\"}, \"value\": \"lightgrey\"}, \"opacity\": {\"condition\": {\"param\": \"param_3\", \"value\": 0.6}, \"value\": 0.1}, \"tooltip\": {\"field\": \"\", \"type\": \"quantitative\"}, \"x\": {\"bin\": false, \"field\": \"Glucose\", \"scale\": {\"zero\": false}, \"type\": \"quantitative\"}, \"y\": {\"axis\": {\"domain\": false, \"labels\": false, \"ticks\": false, \"title\": \"\"}, \"bin\": false, \"field\": \"Pregnancies\", \"scale\": {\"zero\": false}, \"type\": \"quantitative\"}}, \"height\": 150, \"name\": \"view_36\", \"width\": 150}]}], \"data\": {\"name\": \"data-44771d10ed647013ae379290f8f4ca29\"}, \"params\": [{\"name\": \"param_2\", \"select\": {\"type\": \"interval\"}, \"views\": [\"view_1\", \"view_2\", \"view_3\", \"view_4\", \"view_5\", \"view_6\", \"view_7\", \"view_8\", \"view_9\", \"view_10\", \"view_11\", \"view_12\", \"view_13\", \"view_14\", \"view_15\", \"view_16\", \"view_17\", \"view_18\", \"view_19\", \"view_20\", \"view_21\", \"view_22\", \"view_23\", \"view_24\", \"view_25\", \"view_26\", \"view_27\", \"view_28\", \"view_29\", \"view_30\", \"view_31\", \"view_32\", \"view_33\", \"view_34\", \"view_35\", \"view_36\"]}, {\"name\": \"param_3\", \"select\": {\"type\": \"point\", \"fields\": [\"Outcome\"]}, \"bind\": \"legend\", \"views\": [\"view_1\", \"view_2\", \"view_3\", \"view_4\", \"view_5\", \"view_6\", \"view_7\", \"view_8\", \"view_9\", \"view_10\", \"view_11\", \"view_12\", \"view_13\", \"view_14\", \"view_15\", \"view_16\", \"view_17\", \"view_18\", \"view_19\", \"view_20\", \"view_21\", \"view_22\", \"view_23\", \"view_24\", \"view_25\", \"view_26\", \"view_27\", \"view_28\", \"view_29\", \"view_30\", \"view_31\", \"view_32\", \"view_33\", \"view_34\", \"view_35\", \"view_36\"]}], \"$schema\": \"https://vega.github.io/schema/vega-lite/v5.20.1.json\", \"datasets\": {\"data-44771d10ed647013ae379290f8f4ca29\": [{\"Pregnancies\": 9, \"Glucose\": 72, \"BloodPressure\": 78, \"SkinThickness\": 25, \"Insulin\": 0, \"BMI\": 31.6, \"DiabetesPedigreeFunction\": 0.28, \"Age\": 38, \"Outcome\": 0}, {\"Pregnancies\": 0, \"Glucose\": 125, \"BloodPressure\": 68, \"SkinThickness\": 0, \"Insulin\": 0, \"BMI\": 24.7, \"DiabetesPedigreeFunction\": 0.206, \"Age\": 21, \"Outcome\": 0}, {\"Pregnancies\": 1, \"Glucose\": 157, \"BloodPressure\": 72, \"SkinThickness\": 21, \"Insulin\": 168, \"BMI\": 25.6, \"DiabetesPedigreeFunction\": 0.123, \"Age\": 24, \"Outcome\": 0}, {\"Pregnancies\": 2, \"Glucose\": 109, \"BloodPressure\": 92, \"SkinThickness\": 0, \"Insulin\": 0, \"BMI\": 42.7, \"DiabetesPedigreeFunction\": 0.845, \"Age\": 54, \"Outcome\": 0}, {\"Pregnancies\": 1, \"Glucose\": 143, \"BloodPressure\": 74, \"SkinThickness\": 22, \"Insulin\": 61, \"BMI\": 26.2, \"DiabetesPedigreeFunction\": 0.256, \"Age\": 21, \"Outcome\": 0}, {\"Pregnancies\": 1, \"Glucose\": 143, \"BloodPressure\": 86, \"SkinThickness\": 30, \"Insulin\": 330, \"BMI\": 30.1, \"DiabetesPedigreeFunction\": 0.892, \"Age\": 23, \"Outcome\": 0}, {\"Pregnancies\": 11, \"Glucose\": 85, \"BloodPressure\": 74, \"SkinThickness\": 0, \"Insulin\": 0, \"BMI\": 30.1, \"DiabetesPedigreeFunction\": 0.3, \"Age\": 35, \"Outcome\": 0}, {\"Pregnancies\": 8, \"Glucose\": 151, \"BloodPressure\": 78, \"SkinThickness\": 32, \"Insulin\": 210, \"BMI\": 42.9, \"DiabetesPedigreeFunction\": 0.516, \"Age\": 36, \"Outcome\": 1}, {\"Pregnancies\": 4, \"Glucose\": 118, \"BloodPressure\": 70, \"SkinThickness\": 0, \"Insulin\": 0, \"BMI\": 44.5, \"DiabetesPedigreeFunction\": 0.904, \"Age\": 26, \"Outcome\": 0}, {\"Pregnancies\": 4, \"Glucose\": 99, \"BloodPressure\": 72, \"SkinThickness\": 17, \"Insulin\": 0, \"BMI\": 25.6, \"DiabetesPedigreeFunction\": 0.294, \"Age\": 28, \"Outcome\": 0}, {\"Pregnancies\": 3, \"Glucose\": 74, \"BloodPressure\": 68, \"SkinThickness\": 28, \"Insulin\": 45, \"BMI\": 29.7, \"DiabetesPedigreeFunction\": 0.293, \"Age\": 23, \"Outcome\": 0}, {\"Pregnancies\": 7, \"Glucose\": 100, \"BloodPressure\": 0, \"SkinThickness\": 0, \"Insulin\": 0, \"BMI\": 30.0, \"DiabetesPedigreeFunction\": 0.484, \"Age\": 32, \"Outcome\": 1}, {\"Pregnancies\": 1, \"Glucose\": 109, \"BloodPressure\": 56, \"SkinThickness\": 21, \"Insulin\": 135, \"BMI\": 25.2, \"DiabetesPedigreeFunction\": 0.833, \"Age\": 23, \"Outcome\": 0}, {\"Pregnancies\": 8, \"Glucose\": 120, \"BloodPressure\": 78, \"SkinThickness\": 0, \"Insulin\": 0, \"BMI\": 25.0, \"DiabetesPedigreeFunction\": 0.409, \"Age\": 64, \"Outcome\": 0}, {\"Pregnancies\": 1, \"Glucose\": 71, \"BloodPressure\": 48, \"SkinThickness\": 18, \"Insulin\": 76, \"BMI\": 20.4, \"DiabetesPedigreeFunction\": 0.323, \"Age\": 22, \"Outcome\": 0}, {\"Pregnancies\": 11, \"Glucose\": 155, \"BloodPressure\": 76, \"SkinThickness\": 28, \"Insulin\": 150, \"BMI\": 33.3, \"DiabetesPedigreeFunction\": 1.353, \"Age\": 51, \"Outcome\": 1}, {\"Pregnancies\": 6, \"Glucose\": 0, \"BloodPressure\": 68, \"SkinThickness\": 41, \"Insulin\": 0, \"BMI\": 39.0, \"DiabetesPedigreeFunction\": 0.727, \"Age\": 41, \"Outcome\": 1}, {\"Pregnancies\": 0, \"Glucose\": 117, \"BloodPressure\": 66, \"SkinThickness\": 31, \"Insulin\": 188, \"BMI\": 30.8, \"DiabetesPedigreeFunction\": 0.493, \"Age\": 22, \"Outcome\": 0}, {\"Pregnancies\": 2, \"Glucose\": 120, \"BloodPressure\": 54, \"SkinThickness\": 0, \"Insulin\": 0, \"BMI\": 26.8, \"DiabetesPedigreeFunction\": 0.455, \"Age\": 27, \"Outcome\": 0}, {\"Pregnancies\": 1, \"Glucose\": 115, \"BloodPressure\": 70, \"SkinThickness\": 30, \"Insulin\": 96, \"BMI\": 34.6, \"DiabetesPedigreeFunction\": 0.529, \"Age\": 32, \"Outcome\": 1}, {\"Pregnancies\": 0, \"Glucose\": 107, \"BloodPressure\": 62, \"SkinThickness\": 30, \"Insulin\": 74, \"BMI\": 36.6, \"DiabetesPedigreeFunction\": 0.757, \"Age\": 25, \"Outcome\": 1}, {\"Pregnancies\": 13, \"Glucose\": 76, \"BloodPressure\": 60, \"SkinThickness\": 0, \"Insulin\": 0, \"BMI\": 32.8, \"DiabetesPedigreeFunction\": 0.18, \"Age\": 41, \"Outcome\": 0}, {\"Pregnancies\": 0, \"Glucose\": 165, \"BloodPressure\": 76, \"SkinThickness\": 43, \"Insulin\": 255, \"BMI\": 47.9, \"DiabetesPedigreeFunction\": 0.259, \"Age\": 26, \"Outcome\": 0}, {\"Pregnancies\": 11, \"Glucose\": 135, \"BloodPressure\": 0, \"SkinThickness\": 0, \"Insulin\": 0, \"BMI\": 52.3, \"DiabetesPedigreeFunction\": 0.578, \"Age\": 40, \"Outcome\": 1}, {\"Pregnancies\": 1, \"Glucose\": 128, \"BloodPressure\": 88, \"SkinThickness\": 39, \"Insulin\": 110, \"BMI\": 36.5, \"DiabetesPedigreeFunction\": 1.057, \"Age\": 37, \"Outcome\": 1}, {\"Pregnancies\": 6, \"Glucose\": 104, \"BloodPressure\": 74, \"SkinThickness\": 18, \"Insulin\": 156, \"BMI\": 29.9, \"DiabetesPedigreeFunction\": 0.722, \"Age\": 41, \"Outcome\": 1}, {\"Pregnancies\": 2, \"Glucose\": 144, \"BloodPressure\": 58, \"SkinThickness\": 33, \"Insulin\": 135, \"BMI\": 31.6, \"DiabetesPedigreeFunction\": 0.422, \"Age\": 25, \"Outcome\": 1}, {\"Pregnancies\": 6, \"Glucose\": 114, \"BloodPressure\": 88, \"SkinThickness\": 0, \"Insulin\": 0, \"BMI\": 27.8, \"DiabetesPedigreeFunction\": 0.247, \"Age\": 66, \"Outcome\": 0}, {\"Pregnancies\": 5, \"Glucose\": 86, \"BloodPressure\": 68, \"SkinThickness\": 28, \"Insulin\": 71, \"BMI\": 30.2, \"DiabetesPedigreeFunction\": 0.364, \"Age\": 24, \"Outcome\": 0}, {\"Pregnancies\": 0, \"Glucose\": 145, \"BloodPressure\": 0, \"SkinThickness\": 0, \"Insulin\": 0, \"BMI\": 44.2, \"DiabetesPedigreeFunction\": 0.63, \"Age\": 31, \"Outcome\": 1}, {\"Pregnancies\": 0, \"Glucose\": 101, \"BloodPressure\": 62, \"SkinThickness\": 0, \"Insulin\": 0, \"BMI\": 21.9, \"DiabetesPedigreeFunction\": 0.336, \"Age\": 25, \"Outcome\": 0}, {\"Pregnancies\": 6, \"Glucose\": 124, \"BloodPressure\": 72, \"SkinThickness\": 0, \"Insulin\": 0, \"BMI\": 27.6, \"DiabetesPedigreeFunction\": 0.368, \"Age\": 29, \"Outcome\": 1}, {\"Pregnancies\": 1, \"Glucose\": 199, \"BloodPressure\": 76, \"SkinThickness\": 43, \"Insulin\": 0, \"BMI\": 42.9, \"DiabetesPedigreeFunction\": 1.394, \"Age\": 22, \"Outcome\": 1}, {\"Pregnancies\": 10, \"Glucose\": 125, \"BloodPressure\": 70, \"SkinThickness\": 26, \"Insulin\": 115, \"BMI\": 31.1, \"DiabetesPedigreeFunction\": 0.205, \"Age\": 41, \"Outcome\": 1}, {\"Pregnancies\": 9, \"Glucose\": 91, \"BloodPressure\": 68, \"SkinThickness\": 0, \"Insulin\": 0, \"BMI\": 24.2, \"DiabetesPedigreeFunction\": 0.2, \"Age\": 58, \"Outcome\": 0}, {\"Pregnancies\": 2, \"Glucose\": 74, \"BloodPressure\": 0, \"SkinThickness\": 0, \"Insulin\": 0, \"BMI\": 0.0, \"DiabetesPedigreeFunction\": 0.102, \"Age\": 22, \"Outcome\": 0}, {\"Pregnancies\": 2, \"Glucose\": 81, \"BloodPressure\": 72, \"SkinThickness\": 15, \"Insulin\": 76, \"BMI\": 30.1, \"DiabetesPedigreeFunction\": 0.547, \"Age\": 25, \"Outcome\": 0}, {\"Pregnancies\": 0, \"Glucose\": 141, \"BloodPressure\": 84, \"SkinThickness\": 26, \"Insulin\": 0, \"BMI\": 32.4, \"DiabetesPedigreeFunction\": 0.433, \"Age\": 22, \"Outcome\": 0}, {\"Pregnancies\": 1, \"Glucose\": 0, \"BloodPressure\": 68, \"SkinThickness\": 35, \"Insulin\": 0, \"BMI\": 32.0, \"DiabetesPedigreeFunction\": 0.389, \"Age\": 22, \"Outcome\": 0}, {\"Pregnancies\": 4, \"Glucose\": 114, \"BloodPressure\": 64, \"SkinThickness\": 0, \"Insulin\": 0, \"BMI\": 28.9, \"DiabetesPedigreeFunction\": 0.126, \"Age\": 24, \"Outcome\": 0}, {\"Pregnancies\": 4, \"Glucose\": 127, \"BloodPressure\": 88, \"SkinThickness\": 11, \"Insulin\": 155, \"BMI\": 34.5, \"DiabetesPedigreeFunction\": 0.598, \"Age\": 28, \"Outcome\": 0}, {\"Pregnancies\": 1, \"Glucose\": 83, \"BloodPressure\": 68, \"SkinThickness\": 0, \"Insulin\": 0, \"BMI\": 18.2, \"DiabetesPedigreeFunction\": 0.624, \"Age\": 27, \"Outcome\": 0}, {\"Pregnancies\": 3, \"Glucose\": 111, \"BloodPressure\": 58, \"SkinThickness\": 31, \"Insulin\": 44, \"BMI\": 29.5, \"DiabetesPedigreeFunction\": 0.43, \"Age\": 22, \"Outcome\": 0}, {\"Pregnancies\": 0, \"Glucose\": 147, \"BloodPressure\": 85, \"SkinThickness\": 54, \"Insulin\": 0, \"BMI\": 42.8, \"DiabetesPedigreeFunction\": 0.375, \"Age\": 24, \"Outcome\": 0}, {\"Pregnancies\": 5, \"Glucose\": 158, \"BloodPressure\": 70, \"SkinThickness\": 0, \"Insulin\": 0, \"BMI\": 29.8, \"DiabetesPedigreeFunction\": 0.207, \"Age\": 63, \"Outcome\": 0}, {\"Pregnancies\": 5, \"Glucose\": 109, \"BloodPressure\": 75, \"SkinThickness\": 26, \"Insulin\": 0, \"BMI\": 36.0, \"DiabetesPedigreeFunction\": 0.546, \"Age\": 60, \"Outcome\": 0}, {\"Pregnancies\": 5, \"Glucose\": 132, \"BloodPressure\": 80, \"SkinThickness\": 0, \"Insulin\": 0, \"BMI\": 26.8, \"DiabetesPedigreeFunction\": 0.186, \"Age\": 69, \"Outcome\": 0}, {\"Pregnancies\": 3, \"Glucose\": 129, \"BloodPressure\": 92, \"SkinThickness\": 49, \"Insulin\": 155, \"BMI\": 36.4, \"DiabetesPedigreeFunction\": 0.968, \"Age\": 32, \"Outcome\": 1}, {\"Pregnancies\": 7, \"Glucose\": 160, \"BloodPressure\": 54, \"SkinThickness\": 32, \"Insulin\": 175, \"BMI\": 30.5, \"DiabetesPedigreeFunction\": 0.588, \"Age\": 39, \"Outcome\": 1}, {\"Pregnancies\": 1, \"Glucose\": 164, \"BloodPressure\": 82, \"SkinThickness\": 43, \"Insulin\": 67, \"BMI\": 32.8, \"DiabetesPedigreeFunction\": 0.341, \"Age\": 50, \"Outcome\": 0}, {\"Pregnancies\": 8, \"Glucose\": 167, \"BloodPressure\": 106, \"SkinThickness\": 46, \"Insulin\": 231, \"BMI\": 37.6, \"DiabetesPedigreeFunction\": 0.165, \"Age\": 43, \"Outcome\": 1}, {\"Pregnancies\": 1, \"Glucose\": 128, \"BloodPressure\": 48, \"SkinThickness\": 45, \"Insulin\": 194, \"BMI\": 40.5, \"DiabetesPedigreeFunction\": 0.613, \"Age\": 24, \"Outcome\": 1}, {\"Pregnancies\": 7, \"Glucose\": 152, \"BloodPressure\": 88, \"SkinThickness\": 44, \"Insulin\": 0, \"BMI\": 50.0, \"DiabetesPedigreeFunction\": 0.337, \"Age\": 36, \"Outcome\": 1}, {\"Pregnancies\": 13, \"Glucose\": 152, \"BloodPressure\": 90, \"SkinThickness\": 33, \"Insulin\": 29, \"BMI\": 26.8, \"DiabetesPedigreeFunction\": 0.731, \"Age\": 43, \"Outcome\": 1}, {\"Pregnancies\": 2, \"Glucose\": 122, \"BloodPressure\": 52, \"SkinThickness\": 43, \"Insulin\": 158, \"BMI\": 36.2, \"DiabetesPedigreeFunction\": 0.816, \"Age\": 28, \"Outcome\": 0}, {\"Pregnancies\": 0, \"Glucose\": 93, \"BloodPressure\": 60, \"SkinThickness\": 25, \"Insulin\": 92, \"BMI\": 28.7, \"DiabetesPedigreeFunction\": 0.532, \"Age\": 22, \"Outcome\": 0}, {\"Pregnancies\": 8, \"Glucose\": 84, \"BloodPressure\": 74, \"SkinThickness\": 31, \"Insulin\": 0, \"BMI\": 38.3, \"DiabetesPedigreeFunction\": 0.457, \"Age\": 39, \"Outcome\": 0}, {\"Pregnancies\": 1, \"Glucose\": 124, \"BloodPressure\": 60, \"SkinThickness\": 32, \"Insulin\": 0, \"BMI\": 35.8, \"DiabetesPedigreeFunction\": 0.514, \"Age\": 21, \"Outcome\": 0}, {\"Pregnancies\": 2, \"Glucose\": 106, \"BloodPressure\": 64, \"SkinThickness\": 35, \"Insulin\": 119, \"BMI\": 30.5, \"DiabetesPedigreeFunction\": 1.4, \"Age\": 34, \"Outcome\": 0}, {\"Pregnancies\": 8, \"Glucose\": 181, \"BloodPressure\": 68, \"SkinThickness\": 36, \"Insulin\": 495, \"BMI\": 30.1, \"DiabetesPedigreeFunction\": 0.615, \"Age\": 60, \"Outcome\": 1}, {\"Pregnancies\": 1, \"Glucose\": 124, \"BloodPressure\": 74, \"SkinThickness\": 36, \"Insulin\": 0, \"BMI\": 27.8, \"DiabetesPedigreeFunction\": 0.1, \"Age\": 30, \"Outcome\": 0}, {\"Pregnancies\": 1, \"Glucose\": 107, \"BloodPressure\": 50, \"SkinThickness\": 19, \"Insulin\": 0, \"BMI\": 28.3, \"DiabetesPedigreeFunction\": 0.181, \"Age\": 29, \"Outcome\": 0}, {\"Pregnancies\": 4, \"Glucose\": 158, \"BloodPressure\": 78, \"SkinThickness\": 0, \"Insulin\": 0, \"BMI\": 32.9, \"DiabetesPedigreeFunction\": 0.803, \"Age\": 31, \"Outcome\": 1}, {\"Pregnancies\": 9, \"Glucose\": 164, \"BloodPressure\": 78, \"SkinThickness\": 0, \"Insulin\": 0, \"BMI\": 32.8, \"DiabetesPedigreeFunction\": 0.148, \"Age\": 45, \"Outcome\": 1}, {\"Pregnancies\": 0, \"Glucose\": 101, \"BloodPressure\": 65, \"SkinThickness\": 28, \"Insulin\": 0, \"BMI\": 24.6, \"DiabetesPedigreeFunction\": 0.237, \"Age\": 22, \"Outcome\": 0}, {\"Pregnancies\": 5, \"Glucose\": 121, \"BloodPressure\": 72, \"SkinThickness\": 23, \"Insulin\": 112, \"BMI\": 26.2, \"DiabetesPedigreeFunction\": 0.245, \"Age\": 30, \"Outcome\": 0}, {\"Pregnancies\": 7, \"Glucose\": 97, \"BloodPressure\": 76, \"SkinThickness\": 32, \"Insulin\": 91, \"BMI\": 40.9, \"DiabetesPedigreeFunction\": 0.871, \"Age\": 32, \"Outcome\": 1}, {\"Pregnancies\": 1, \"Glucose\": 97, \"BloodPressure\": 70, \"SkinThickness\": 15, \"Insulin\": 0, \"BMI\": 18.2, \"DiabetesPedigreeFunction\": 0.147, \"Age\": 21, \"Outcome\": 0}, {\"Pregnancies\": 4, \"Glucose\": 173, \"BloodPressure\": 70, \"SkinThickness\": 14, \"Insulin\": 168, \"BMI\": 29.7, \"DiabetesPedigreeFunction\": 0.361, \"Age\": 33, \"Outcome\": 1}, {\"Pregnancies\": 5, \"Glucose\": 114, \"BloodPressure\": 74, \"SkinThickness\": 0, \"Insulin\": 0, \"BMI\": 24.9, \"DiabetesPedigreeFunction\": 0.744, \"Age\": 57, \"Outcome\": 0}, {\"Pregnancies\": 3, \"Glucose\": 173, \"BloodPressure\": 84, \"SkinThickness\": 33, \"Insulin\": 474, \"BMI\": 35.7, \"DiabetesPedigreeFunction\": 0.258, \"Age\": 22, \"Outcome\": 1}, {\"Pregnancies\": 3, \"Glucose\": 125, \"BloodPressure\": 58, \"SkinThickness\": 0, \"Insulin\": 0, \"BMI\": 31.6, \"DiabetesPedigreeFunction\": 0.151, \"Age\": 24, \"Outcome\": 0}, {\"Pregnancies\": 2, \"Glucose\": 122, \"BloodPressure\": 60, \"SkinThickness\": 18, \"Insulin\": 106, \"BMI\": 29.8, \"DiabetesPedigreeFunction\": 0.717, \"Age\": 22, \"Outcome\": 0}, {\"Pregnancies\": 0, \"Glucose\": 107, \"BloodPressure\": 76, \"SkinThickness\": 0, \"Insulin\": 0, \"BMI\": 45.3, \"DiabetesPedigreeFunction\": 0.686, \"Age\": 24, \"Outcome\": 0}, {\"Pregnancies\": 9, \"Glucose\": 134, \"BloodPressure\": 74, \"SkinThickness\": 33, \"Insulin\": 60, \"BMI\": 25.9, \"DiabetesPedigreeFunction\": 0.46, \"Age\": 81, \"Outcome\": 0}, {\"Pregnancies\": 10, \"Glucose\": 92, \"BloodPressure\": 62, \"SkinThickness\": 0, \"Insulin\": 0, \"BMI\": 25.9, \"DiabetesPedigreeFunction\": 0.167, \"Age\": 31, \"Outcome\": 0}, {\"Pregnancies\": 4, \"Glucose\": 90, \"BloodPressure\": 0, \"SkinThickness\": 0, \"Insulin\": 0, \"BMI\": 28.0, \"DiabetesPedigreeFunction\": 0.61, \"Age\": 31, \"Outcome\": 0}, {\"Pregnancies\": 2, \"Glucose\": 99, \"BloodPressure\": 60, \"SkinThickness\": 17, \"Insulin\": 160, \"BMI\": 36.6, \"DiabetesPedigreeFunction\": 0.453, \"Age\": 21, \"Outcome\": 0}, {\"Pregnancies\": 2, \"Glucose\": 68, \"BloodPressure\": 62, \"SkinThickness\": 13, \"Insulin\": 15, \"BMI\": 20.1, \"DiabetesPedigreeFunction\": 0.257, \"Age\": 23, \"Outcome\": 0}, {\"Pregnancies\": 2, \"Glucose\": 100, \"BloodPressure\": 66, \"SkinThickness\": 20, \"Insulin\": 90, \"BMI\": 32.9, \"DiabetesPedigreeFunction\": 0.867, \"Age\": 28, \"Outcome\": 1}, {\"Pregnancies\": 2, \"Glucose\": 115, \"BloodPressure\": 64, \"SkinThickness\": 22, \"Insulin\": 0, \"BMI\": 30.8, \"DiabetesPedigreeFunction\": 0.421, \"Age\": 21, \"Outcome\": 0}, {\"Pregnancies\": 8, \"Glucose\": 126, \"BloodPressure\": 74, \"SkinThickness\": 38, \"Insulin\": 75, \"BMI\": 25.9, \"DiabetesPedigreeFunction\": 0.162, \"Age\": 39, \"Outcome\": 0}, {\"Pregnancies\": 3, \"Glucose\": 132, \"BloodPressure\": 80, \"SkinThickness\": 0, \"Insulin\": 0, \"BMI\": 34.4, \"DiabetesPedigreeFunction\": 0.402, \"Age\": 44, \"Outcome\": 1}, {\"Pregnancies\": 2, \"Glucose\": 112, \"BloodPressure\": 68, \"SkinThickness\": 22, \"Insulin\": 94, \"BMI\": 34.1, \"DiabetesPedigreeFunction\": 0.315, \"Age\": 26, \"Outcome\": 0}, {\"Pregnancies\": 0, \"Glucose\": 102, \"BloodPressure\": 86, \"SkinThickness\": 17, \"Insulin\": 105, \"BMI\": 29.3, \"DiabetesPedigreeFunction\": 0.695, \"Age\": 27, \"Outcome\": 0}, {\"Pregnancies\": 3, \"Glucose\": 130, \"BloodPressure\": 64, \"SkinThickness\": 0, \"Insulin\": 0, \"BMI\": 23.1, \"DiabetesPedigreeFunction\": 0.314, \"Age\": 22, \"Outcome\": 0}, {\"Pregnancies\": 1, \"Glucose\": 119, \"BloodPressure\": 54, \"SkinThickness\": 13, \"Insulin\": 50, \"BMI\": 22.3, \"DiabetesPedigreeFunction\": 0.205, \"Age\": 24, \"Outcome\": 0}, {\"Pregnancies\": 2, \"Glucose\": 83, \"BloodPressure\": 65, \"SkinThickness\": 28, \"Insulin\": 66, \"BMI\": 36.8, \"DiabetesPedigreeFunction\": 0.629, \"Age\": 24, \"Outcome\": 0}, {\"Pregnancies\": 1, \"Glucose\": 108, \"BloodPressure\": 88, \"SkinThickness\": 19, \"Insulin\": 0, \"BMI\": 27.1, \"DiabetesPedigreeFunction\": 0.4, \"Age\": 24, \"Outcome\": 0}, {\"Pregnancies\": 4, \"Glucose\": 131, \"BloodPressure\": 68, \"SkinThickness\": 21, \"Insulin\": 166, \"BMI\": 33.1, \"DiabetesPedigreeFunction\": 0.16, \"Age\": 28, \"Outcome\": 0}, {\"Pregnancies\": 4, \"Glucose\": 154, \"BloodPressure\": 72, \"SkinThickness\": 29, \"Insulin\": 126, \"BMI\": 31.3, \"DiabetesPedigreeFunction\": 0.338, \"Age\": 37, \"Outcome\": 0}, {\"Pregnancies\": 1, \"Glucose\": 111, \"BloodPressure\": 94, \"SkinThickness\": 0, \"Insulin\": 0, \"BMI\": 32.8, \"DiabetesPedigreeFunction\": 0.265, \"Age\": 45, \"Outcome\": 0}, {\"Pregnancies\": 3, \"Glucose\": 116, \"BloodPressure\": 0, \"SkinThickness\": 0, \"Insulin\": 0, \"BMI\": 23.5, \"DiabetesPedigreeFunction\": 0.187, \"Age\": 23, \"Outcome\": 0}, {\"Pregnancies\": 1, \"Glucose\": 90, \"BloodPressure\": 62, \"SkinThickness\": 12, \"Insulin\": 43, \"BMI\": 27.2, \"DiabetesPedigreeFunction\": 0.58, \"Age\": 24, \"Outcome\": 0}, {\"Pregnancies\": 0, \"Glucose\": 95, \"BloodPressure\": 80, \"SkinThickness\": 45, \"Insulin\": 92, \"BMI\": 36.5, \"DiabetesPedigreeFunction\": 0.33, \"Age\": 26, \"Outcome\": 0}, {\"Pregnancies\": 0, \"Glucose\": 57, \"BloodPressure\": 60, \"SkinThickness\": 0, \"Insulin\": 0, \"BMI\": 21.7, \"DiabetesPedigreeFunction\": 0.735, \"Age\": 67, \"Outcome\": 0}, {\"Pregnancies\": 5, \"Glucose\": 110, \"BloodPressure\": 68, \"SkinThickness\": 0, \"Insulin\": 0, \"BMI\": 26.0, \"DiabetesPedigreeFunction\": 0.292, \"Age\": 30, \"Outcome\": 0}, {\"Pregnancies\": 0, \"Glucose\": 102, \"BloodPressure\": 52, \"SkinThickness\": 0, \"Insulin\": 0, \"BMI\": 25.1, \"DiabetesPedigreeFunction\": 0.078, \"Age\": 21, \"Outcome\": 0}, {\"Pregnancies\": 5, \"Glucose\": 117, \"BloodPressure\": 92, \"SkinThickness\": 0, \"Insulin\": 0, \"BMI\": 34.1, \"DiabetesPedigreeFunction\": 0.337, \"Age\": 38, \"Outcome\": 0}, {\"Pregnancies\": 3, \"Glucose\": 158, \"BloodPressure\": 70, \"SkinThickness\": 30, \"Insulin\": 328, \"BMI\": 35.5, \"DiabetesPedigreeFunction\": 0.344, \"Age\": 35, \"Outcome\": 1}, {\"Pregnancies\": 2, \"Glucose\": 155, \"BloodPressure\": 74, \"SkinThickness\": 17, \"Insulin\": 96, \"BMI\": 26.6, \"DiabetesPedigreeFunction\": 0.433, \"Age\": 27, \"Outcome\": 1}, {\"Pregnancies\": 2, \"Glucose\": 108, \"BloodPressure\": 52, \"SkinThickness\": 26, \"Insulin\": 63, \"BMI\": 32.5, \"DiabetesPedigreeFunction\": 0.318, \"Age\": 22, \"Outcome\": 0}, {\"Pregnancies\": 0, \"Glucose\": 123, \"BloodPressure\": 72, \"SkinThickness\": 0, \"Insulin\": 0, \"BMI\": 36.3, \"DiabetesPedigreeFunction\": 0.258, \"Age\": 52, \"Outcome\": 1}, {\"Pregnancies\": 7, \"Glucose\": 142, \"BloodPressure\": 60, \"SkinThickness\": 33, \"Insulin\": 190, \"BMI\": 28.8, \"DiabetesPedigreeFunction\": 0.687, \"Age\": 61, \"Outcome\": 0}, {\"Pregnancies\": 9, \"Glucose\": 156, \"BloodPressure\": 86, \"SkinThickness\": 28, \"Insulin\": 155, \"BMI\": 34.3, \"DiabetesPedigreeFunction\": 1.189, \"Age\": 42, \"Outcome\": 1}, {\"Pregnancies\": 1, \"Glucose\": 95, \"BloodPressure\": 60, \"SkinThickness\": 18, \"Insulin\": 58, \"BMI\": 23.9, \"DiabetesPedigreeFunction\": 0.26, \"Age\": 22, \"Outcome\": 0}, {\"Pregnancies\": 2, \"Glucose\": 119, \"BloodPressure\": 0, \"SkinThickness\": 0, \"Insulin\": 0, \"BMI\": 19.6, \"DiabetesPedigreeFunction\": 0.832, \"Age\": 72, \"Outcome\": 0}, {\"Pregnancies\": 4, \"Glucose\": 110, \"BloodPressure\": 66, \"SkinThickness\": 0, \"Insulin\": 0, \"BMI\": 31.9, \"DiabetesPedigreeFunction\": 0.471, \"Age\": 29, \"Outcome\": 0}, {\"Pregnancies\": 3, \"Glucose\": 87, \"BloodPressure\": 60, \"SkinThickness\": 18, \"Insulin\": 0, \"BMI\": 21.8, \"DiabetesPedigreeFunction\": 0.444, \"Age\": 21, \"Outcome\": 0}, {\"Pregnancies\": 0, \"Glucose\": 105, \"BloodPressure\": 84, \"SkinThickness\": 0, \"Insulin\": 0, \"BMI\": 27.9, \"DiabetesPedigreeFunction\": 0.741, \"Age\": 62, \"Outcome\": 1}, {\"Pregnancies\": 2, \"Glucose\": 90, \"BloodPressure\": 70, \"SkinThickness\": 17, \"Insulin\": 0, \"BMI\": 27.3, \"DiabetesPedigreeFunction\": 0.085, \"Age\": 22, \"Outcome\": 0}, {\"Pregnancies\": 6, \"Glucose\": 137, \"BloodPressure\": 61, \"SkinThickness\": 0, \"Insulin\": 0, \"BMI\": 24.2, \"DiabetesPedigreeFunction\": 0.151, \"Age\": 55, \"Outcome\": 0}, {\"Pregnancies\": 5, \"Glucose\": 88, \"BloodPressure\": 66, \"SkinThickness\": 21, \"Insulin\": 23, \"BMI\": 24.4, \"DiabetesPedigreeFunction\": 0.342, \"Age\": 30, \"Outcome\": 0}, {\"Pregnancies\": 1, \"Glucose\": 82, \"BloodPressure\": 64, \"SkinThickness\": 13, \"Insulin\": 95, \"BMI\": 21.2, \"DiabetesPedigreeFunction\": 0.415, \"Age\": 23, \"Outcome\": 0}, {\"Pregnancies\": 6, \"Glucose\": 123, \"BloodPressure\": 72, \"SkinThickness\": 45, \"Insulin\": 230, \"BMI\": 33.6, \"DiabetesPedigreeFunction\": 0.733, \"Age\": 34, \"Outcome\": 0}, {\"Pregnancies\": 5, \"Glucose\": 96, \"BloodPressure\": 74, \"SkinThickness\": 18, \"Insulin\": 67, \"BMI\": 33.6, \"DiabetesPedigreeFunction\": 0.997, \"Age\": 43, \"Outcome\": 0}, {\"Pregnancies\": 13, \"Glucose\": 129, \"BloodPressure\": 0, \"SkinThickness\": 30, \"Insulin\": 0, \"BMI\": 39.9, \"DiabetesPedigreeFunction\": 0.569, \"Age\": 44, \"Outcome\": 1}, {\"Pregnancies\": 2, \"Glucose\": 121, \"BloodPressure\": 70, \"SkinThickness\": 32, \"Insulin\": 95, \"BMI\": 39.1, \"DiabetesPedigreeFunction\": 0.886, \"Age\": 23, \"Outcome\": 0}, {\"Pregnancies\": 1, \"Glucose\": 88, \"BloodPressure\": 78, \"SkinThickness\": 29, \"Insulin\": 76, \"BMI\": 32.0, \"DiabetesPedigreeFunction\": 0.365, \"Age\": 29, \"Outcome\": 0}, {\"Pregnancies\": 6, \"Glucose\": 154, \"BloodPressure\": 78, \"SkinThickness\": 41, \"Insulin\": 140, \"BMI\": 46.1, \"DiabetesPedigreeFunction\": 0.571, \"Age\": 27, \"Outcome\": 0}, {\"Pregnancies\": 3, \"Glucose\": 81, \"BloodPressure\": 86, \"SkinThickness\": 16, \"Insulin\": 66, \"BMI\": 27.5, \"DiabetesPedigreeFunction\": 0.306, \"Age\": 22, \"Outcome\": 0}, {\"Pregnancies\": 7, \"Glucose\": 81, \"BloodPressure\": 78, \"SkinThickness\": 40, \"Insulin\": 48, \"BMI\": 46.7, \"DiabetesPedigreeFunction\": 0.261, \"Age\": 42, \"Outcome\": 0}, {\"Pregnancies\": 1, \"Glucose\": 108, \"BloodPressure\": 60, \"SkinThickness\": 46, \"Insulin\": 178, \"BMI\": 35.5, \"DiabetesPedigreeFunction\": 0.415, \"Age\": 24, \"Outcome\": 0}, {\"Pregnancies\": 4, \"Glucose\": 92, \"BloodPressure\": 80, \"SkinThickness\": 0, \"Insulin\": 0, \"BMI\": 42.2, \"DiabetesPedigreeFunction\": 0.237, \"Age\": 29, \"Outcome\": 0}, {\"Pregnancies\": 7, \"Glucose\": 124, \"BloodPressure\": 70, \"SkinThickness\": 33, \"Insulin\": 215, \"BMI\": 25.5, \"DiabetesPedigreeFunction\": 0.161, \"Age\": 37, \"Outcome\": 0}, {\"Pregnancies\": 7, \"Glucose\": 129, \"BloodPressure\": 68, \"SkinThickness\": 49, \"Insulin\": 125, \"BMI\": 38.5, \"DiabetesPedigreeFunction\": 0.439, \"Age\": 43, \"Outcome\": 1}, {\"Pregnancies\": 9, \"Glucose\": 57, \"BloodPressure\": 80, \"SkinThickness\": 37, \"Insulin\": 0, \"BMI\": 32.8, \"DiabetesPedigreeFunction\": 0.096, \"Age\": 41, \"Outcome\": 0}, {\"Pregnancies\": 5, \"Glucose\": 139, \"BloodPressure\": 80, \"SkinThickness\": 35, \"Insulin\": 160, \"BMI\": 31.6, \"DiabetesPedigreeFunction\": 0.361, \"Age\": 25, \"Outcome\": 1}, {\"Pregnancies\": 1, \"Glucose\": 100, \"BloodPressure\": 66, \"SkinThickness\": 29, \"Insulin\": 196, \"BMI\": 32.0, \"DiabetesPedigreeFunction\": 0.444, \"Age\": 42, \"Outcome\": 0}, {\"Pregnancies\": 12, \"Glucose\": 121, \"BloodPressure\": 78, \"SkinThickness\": 17, \"Insulin\": 0, \"BMI\": 26.5, \"DiabetesPedigreeFunction\": 0.259, \"Age\": 62, \"Outcome\": 0}, {\"Pregnancies\": 5, \"Glucose\": 122, \"BloodPressure\": 86, \"SkinThickness\": 0, \"Insulin\": 0, \"BMI\": 34.7, \"DiabetesPedigreeFunction\": 0.29, \"Age\": 33, \"Outcome\": 0}, {\"Pregnancies\": 4, \"Glucose\": 117, \"BloodPressure\": 64, \"SkinThickness\": 27, \"Insulin\": 120, \"BMI\": 33.2, \"DiabetesPedigreeFunction\": 0.23, \"Age\": 24, \"Outcome\": 0}, {\"Pregnancies\": 9, \"Glucose\": 154, \"BloodPressure\": 78, \"SkinThickness\": 30, \"Insulin\": 100, \"BMI\": 30.9, \"DiabetesPedigreeFunction\": 0.164, \"Age\": 45, \"Outcome\": 0}, {\"Pregnancies\": 7, \"Glucose\": 187, \"BloodPressure\": 68, \"SkinThickness\": 39, \"Insulin\": 304, \"BMI\": 37.7, \"DiabetesPedigreeFunction\": 0.254, \"Age\": 41, \"Outcome\": 1}, {\"Pregnancies\": 4, \"Glucose\": 125, \"BloodPressure\": 70, \"SkinThickness\": 18, \"Insulin\": 122, \"BMI\": 28.9, \"DiabetesPedigreeFunction\": 1.144, \"Age\": 45, \"Outcome\": 1}, {\"Pregnancies\": 3, \"Glucose\": 112, \"BloodPressure\": 74, \"SkinThickness\": 30, \"Insulin\": 0, \"BMI\": 31.6, \"DiabetesPedigreeFunction\": 0.197, \"Age\": 25, \"Outcome\": 1}, {\"Pregnancies\": 1, \"Glucose\": 131, \"BloodPressure\": 64, \"SkinThickness\": 14, \"Insulin\": 415, \"BMI\": 23.7, \"DiabetesPedigreeFunction\": 0.389, \"Age\": 21, \"Outcome\": 0}, {\"Pregnancies\": 3, \"Glucose\": 150, \"BloodPressure\": 76, \"SkinThickness\": 0, \"Insulin\": 0, \"BMI\": 21.0, \"DiabetesPedigreeFunction\": 0.207, \"Age\": 37, \"Outcome\": 0}, {\"Pregnancies\": 1, \"Glucose\": 130, \"BloodPressure\": 70, \"SkinThickness\": 13, \"Insulin\": 105, \"BMI\": 25.9, \"DiabetesPedigreeFunction\": 0.472, \"Age\": 22, \"Outcome\": 0}, {\"Pregnancies\": 8, \"Glucose\": 176, \"BloodPressure\": 90, \"SkinThickness\": 34, \"Insulin\": 300, \"BMI\": 33.7, \"DiabetesPedigreeFunction\": 0.467, \"Age\": 58, \"Outcome\": 1}, {\"Pregnancies\": 5, \"Glucose\": 103, \"BloodPressure\": 108, \"SkinThickness\": 37, \"Insulin\": 0, \"BMI\": 39.2, \"DiabetesPedigreeFunction\": 0.305, \"Age\": 65, \"Outcome\": 0}, {\"Pregnancies\": 1, \"Glucose\": 96, \"BloodPressure\": 64, \"SkinThickness\": 27, \"Insulin\": 87, \"BMI\": 33.2, \"DiabetesPedigreeFunction\": 0.289, \"Age\": 21, \"Outcome\": 0}, {\"Pregnancies\": 1, \"Glucose\": 181, \"BloodPressure\": 78, \"SkinThickness\": 42, \"Insulin\": 293, \"BMI\": 40.0, \"DiabetesPedigreeFunction\": 1.258, \"Age\": 22, \"Outcome\": 1}, {\"Pregnancies\": 8, \"Glucose\": 107, \"BloodPressure\": 80, \"SkinThickness\": 0, \"Insulin\": 0, \"BMI\": 24.6, \"DiabetesPedigreeFunction\": 0.856, \"Age\": 34, \"Outcome\": 0}, {\"Pregnancies\": 5, \"Glucose\": 166, \"BloodPressure\": 76, \"SkinThickness\": 0, \"Insulin\": 0, \"BMI\": 45.7, \"DiabetesPedigreeFunction\": 0.34, \"Age\": 27, \"Outcome\": 1}, {\"Pregnancies\": 2, \"Glucose\": 112, \"BloodPressure\": 75, \"SkinThickness\": 32, \"Insulin\": 0, \"BMI\": 35.7, \"DiabetesPedigreeFunction\": 0.148, \"Age\": 21, \"Outcome\": 0}, {\"Pregnancies\": 2, \"Glucose\": 129, \"BloodPressure\": 84, \"SkinThickness\": 0, \"Insulin\": 0, \"BMI\": 28.0, \"DiabetesPedigreeFunction\": 0.284, \"Age\": 27, \"Outcome\": 0}, {\"Pregnancies\": 3, \"Glucose\": 142, \"BloodPressure\": 80, \"SkinThickness\": 15, \"Insulin\": 0, \"BMI\": 32.4, \"DiabetesPedigreeFunction\": 0.2, \"Age\": 63, \"Outcome\": 0}, {\"Pregnancies\": 1, \"Glucose\": 130, \"BloodPressure\": 60, \"SkinThickness\": 23, \"Insulin\": 170, \"BMI\": 28.6, \"DiabetesPedigreeFunction\": 0.692, \"Age\": 21, \"Outcome\": 0}, {\"Pregnancies\": 7, \"Glucose\": 105, \"BloodPressure\": 0, \"SkinThickness\": 0, \"Insulin\": 0, \"BMI\": 0.0, \"DiabetesPedigreeFunction\": 0.305, \"Age\": 24, \"Outcome\": 0}, {\"Pregnancies\": 2, \"Glucose\": 142, \"BloodPressure\": 82, \"SkinThickness\": 18, \"Insulin\": 64, \"BMI\": 24.7, \"DiabetesPedigreeFunction\": 0.761, \"Age\": 21, \"Outcome\": 0}, {\"Pregnancies\": 2, \"Glucose\": 108, \"BloodPressure\": 64, \"SkinThickness\": 0, \"Insulin\": 0, \"BMI\": 30.8, \"DiabetesPedigreeFunction\": 0.158, \"Age\": 21, \"Outcome\": 0}, {\"Pregnancies\": 9, \"Glucose\": 156, \"BloodPressure\": 86, \"SkinThickness\": 0, \"Insulin\": 0, \"BMI\": 24.8, \"DiabetesPedigreeFunction\": 0.23, \"Age\": 53, \"Outcome\": 1}, {\"Pregnancies\": 2, \"Glucose\": 56, \"BloodPressure\": 56, \"SkinThickness\": 28, \"Insulin\": 45, \"BMI\": 24.2, \"DiabetesPedigreeFunction\": 0.332, \"Age\": 22, \"Outcome\": 0}, {\"Pregnancies\": 4, \"Glucose\": 125, \"BloodPressure\": 80, \"SkinThickness\": 0, \"Insulin\": 0, \"BMI\": 32.3, \"DiabetesPedigreeFunction\": 0.536, \"Age\": 27, \"Outcome\": 1}, {\"Pregnancies\": 7, \"Glucose\": 107, \"BloodPressure\": 74, \"SkinThickness\": 0, \"Insulin\": 0, \"BMI\": 29.6, \"DiabetesPedigreeFunction\": 0.254, \"Age\": 31, \"Outcome\": 1}, {\"Pregnancies\": 5, \"Glucose\": 124, \"BloodPressure\": 74, \"SkinThickness\": 0, \"Insulin\": 0, \"BMI\": 34.0, \"DiabetesPedigreeFunction\": 0.22, \"Age\": 38, \"Outcome\": 1}, {\"Pregnancies\": 3, \"Glucose\": 106, \"BloodPressure\": 72, \"SkinThickness\": 0, \"Insulin\": 0, \"BMI\": 25.8, \"DiabetesPedigreeFunction\": 0.207, \"Age\": 27, \"Outcome\": 0}, {\"Pregnancies\": 1, \"Glucose\": 0, \"BloodPressure\": 48, \"SkinThickness\": 20, \"Insulin\": 0, \"BMI\": 24.7, \"DiabetesPedigreeFunction\": 0.14, \"Age\": 22, \"Outcome\": 0}, {\"Pregnancies\": 0, \"Glucose\": 121, \"BloodPressure\": 66, \"SkinThickness\": 30, \"Insulin\": 165, \"BMI\": 34.3, \"DiabetesPedigreeFunction\": 0.203, \"Age\": 33, \"Outcome\": 1}, {\"Pregnancies\": 3, \"Glucose\": 80, \"BloodPressure\": 0, \"SkinThickness\": 0, \"Insulin\": 0, \"BMI\": 0.0, \"DiabetesPedigreeFunction\": 0.174, \"Age\": 22, \"Outcome\": 0}, {\"Pregnancies\": 0, \"Glucose\": 180, \"BloodPressure\": 66, \"SkinThickness\": 39, \"Insulin\": 0, \"BMI\": 42.0, \"DiabetesPedigreeFunction\": 1.893, \"Age\": 25, \"Outcome\": 1}, {\"Pregnancies\": 9, \"Glucose\": 123, \"BloodPressure\": 70, \"SkinThickness\": 44, \"Insulin\": 94, \"BMI\": 33.1, \"DiabetesPedigreeFunction\": 0.374, \"Age\": 40, \"Outcome\": 0}, {\"Pregnancies\": 3, \"Glucose\": 129, \"BloodPressure\": 64, \"SkinThickness\": 29, \"Insulin\": 115, \"BMI\": 26.4, \"DiabetesPedigreeFunction\": 0.219, \"Age\": 28, \"Outcome\": 1}, {\"Pregnancies\": 3, \"Glucose\": 158, \"BloodPressure\": 64, \"SkinThickness\": 13, \"Insulin\": 387, \"BMI\": 31.2, \"DiabetesPedigreeFunction\": 0.295, \"Age\": 24, \"Outcome\": 0}, {\"Pregnancies\": 4, \"Glucose\": 146, \"BloodPressure\": 92, \"SkinThickness\": 0, \"Insulin\": 0, \"BMI\": 31.2, \"DiabetesPedigreeFunction\": 0.539, \"Age\": 61, \"Outcome\": 1}, {\"Pregnancies\": 6, \"Glucose\": 102, \"BloodPressure\": 90, \"SkinThickness\": 39, \"Insulin\": 0, \"BMI\": 35.7, \"DiabetesPedigreeFunction\": 0.674, \"Age\": 28, \"Outcome\": 0}, {\"Pregnancies\": 4, \"Glucose\": 156, \"BloodPressure\": 75, \"SkinThickness\": 0, \"Insulin\": 0, \"BMI\": 48.3, \"DiabetesPedigreeFunction\": 0.238, \"Age\": 32, \"Outcome\": 1}, {\"Pregnancies\": 0, \"Glucose\": 141, \"BloodPressure\": 0, \"SkinThickness\": 0, \"Insulin\": 0, \"BMI\": 42.4, \"DiabetesPedigreeFunction\": 0.205, \"Age\": 29, \"Outcome\": 1}, {\"Pregnancies\": 2, \"Glucose\": 124, \"BloodPressure\": 68, \"SkinThickness\": 28, \"Insulin\": 205, \"BMI\": 32.9, \"DiabetesPedigreeFunction\": 0.875, \"Age\": 30, \"Outcome\": 1}, {\"Pregnancies\": 2, \"Glucose\": 122, \"BloodPressure\": 70, \"SkinThickness\": 27, \"Insulin\": 0, \"BMI\": 36.8, \"DiabetesPedigreeFunction\": 0.34, \"Age\": 27, \"Outcome\": 0}, {\"Pregnancies\": 1, \"Glucose\": 163, \"BloodPressure\": 72, \"SkinThickness\": 0, \"Insulin\": 0, \"BMI\": 39.0, \"DiabetesPedigreeFunction\": 1.222, \"Age\": 33, \"Outcome\": 1}, {\"Pregnancies\": 0, \"Glucose\": 118, \"BloodPressure\": 84, \"SkinThickness\": 47, \"Insulin\": 230, \"BMI\": 45.8, \"DiabetesPedigreeFunction\": 0.551, \"Age\": 31, \"Outcome\": 1}, {\"Pregnancies\": 1, \"Glucose\": 77, \"BloodPressure\": 56, \"SkinThickness\": 30, \"Insulin\": 56, \"BMI\": 33.3, \"DiabetesPedigreeFunction\": 1.251, \"Age\": 24, \"Outcome\": 0}, {\"Pregnancies\": 7, \"Glucose\": 94, \"BloodPressure\": 64, \"SkinThickness\": 25, \"Insulin\": 79, \"BMI\": 33.3, \"DiabetesPedigreeFunction\": 0.738, \"Age\": 41, \"Outcome\": 0}, {\"Pregnancies\": 5, \"Glucose\": 147, \"BloodPressure\": 78, \"SkinThickness\": 0, \"Insulin\": 0, \"BMI\": 33.7, \"DiabetesPedigreeFunction\": 0.218, \"Age\": 65, \"Outcome\": 0}, {\"Pregnancies\": 2, \"Glucose\": 175, \"BloodPressure\": 88, \"SkinThickness\": 0, \"Insulin\": 0, \"BMI\": 22.9, \"DiabetesPedigreeFunction\": 0.326, \"Age\": 22, \"Outcome\": 0}, {\"Pregnancies\": 0, \"Glucose\": 109, \"BloodPressure\": 88, \"SkinThickness\": 30, \"Insulin\": 0, \"BMI\": 32.5, \"DiabetesPedigreeFunction\": 0.855, \"Age\": 38, \"Outcome\": 1}, {\"Pregnancies\": 2, \"Glucose\": 157, \"BloodPressure\": 74, \"SkinThickness\": 35, \"Insulin\": 440, \"BMI\": 39.4, \"DiabetesPedigreeFunction\": 0.134, \"Age\": 30, \"Outcome\": 0}, {\"Pregnancies\": 0, \"Glucose\": 97, \"BloodPressure\": 64, \"SkinThickness\": 36, \"Insulin\": 100, \"BMI\": 36.8, \"DiabetesPedigreeFunction\": 0.6, \"Age\": 25, \"Outcome\": 0}, {\"Pregnancies\": 1, \"Glucose\": 88, \"BloodPressure\": 30, \"SkinThickness\": 42, \"Insulin\": 99, \"BMI\": 55.0, \"DiabetesPedigreeFunction\": 0.496, \"Age\": 26, \"Outcome\": 1}, {\"Pregnancies\": 1, \"Glucose\": 125, \"BloodPressure\": 50, \"SkinThickness\": 40, \"Insulin\": 167, \"BMI\": 33.3, \"DiabetesPedigreeFunction\": 0.962, \"Age\": 28, \"Outcome\": 1}, {\"Pregnancies\": 2, \"Glucose\": 91, \"BloodPressure\": 62, \"SkinThickness\": 0, \"Insulin\": 0, \"BMI\": 27.3, \"DiabetesPedigreeFunction\": 0.525, \"Age\": 22, \"Outcome\": 0}, {\"Pregnancies\": 8, \"Glucose\": 99, \"BloodPressure\": 84, \"SkinThickness\": 0, \"Insulin\": 0, \"BMI\": 35.4, \"DiabetesPedigreeFunction\": 0.388, \"Age\": 50, \"Outcome\": 0}, {\"Pregnancies\": 0, \"Glucose\": 123, \"BloodPressure\": 88, \"SkinThickness\": 37, \"Insulin\": 0, \"BMI\": 35.2, \"DiabetesPedigreeFunction\": 0.197, \"Age\": 29, \"Outcome\": 0}, {\"Pregnancies\": 6, \"Glucose\": 148, \"BloodPressure\": 72, \"SkinThickness\": 35, \"Insulin\": 0, \"BMI\": 33.6, \"DiabetesPedigreeFunction\": 0.627, \"Age\": 50, \"Outcome\": 1}, {\"Pregnancies\": 1, \"Glucose\": 71, \"BloodPressure\": 62, \"SkinThickness\": 0, \"Insulin\": 0, \"BMI\": 21.8, \"DiabetesPedigreeFunction\": 0.416, \"Age\": 26, \"Outcome\": 0}, {\"Pregnancies\": 8, \"Glucose\": 95, \"BloodPressure\": 72, \"SkinThickness\": 0, \"Insulin\": 0, \"BMI\": 36.8, \"DiabetesPedigreeFunction\": 0.485, \"Age\": 57, \"Outcome\": 0}, {\"Pregnancies\": 0, \"Glucose\": 134, \"BloodPressure\": 58, \"SkinThickness\": 20, \"Insulin\": 291, \"BMI\": 26.4, \"DiabetesPedigreeFunction\": 0.352, \"Age\": 21, \"Outcome\": 0}, {\"Pregnancies\": 0, \"Glucose\": 98, \"BloodPressure\": 82, \"SkinThickness\": 15, \"Insulin\": 84, \"BMI\": 25.2, \"DiabetesPedigreeFunction\": 0.299, \"Age\": 22, \"Outcome\": 0}, {\"Pregnancies\": 0, \"Glucose\": 152, \"BloodPressure\": 82, \"SkinThickness\": 39, \"Insulin\": 272, \"BMI\": 41.5, \"DiabetesPedigreeFunction\": 0.27, \"Age\": 27, \"Outcome\": 0}, {\"Pregnancies\": 6, \"Glucose\": 103, \"BloodPressure\": 66, \"SkinThickness\": 0, \"Insulin\": 0, \"BMI\": 24.3, \"DiabetesPedigreeFunction\": 0.249, \"Age\": 29, \"Outcome\": 0}, {\"Pregnancies\": 7, \"Glucose\": 136, \"BloodPressure\": 74, \"SkinThickness\": 26, \"Insulin\": 135, \"BMI\": 26.0, \"DiabetesPedigreeFunction\": 0.647, \"Age\": 51, \"Outcome\": 0}, {\"Pregnancies\": 1, \"Glucose\": 90, \"BloodPressure\": 62, \"SkinThickness\": 18, \"Insulin\": 59, \"BMI\": 25.1, \"DiabetesPedigreeFunction\": 1.268, \"Age\": 25, \"Outcome\": 0}, {\"Pregnancies\": 0, \"Glucose\": 102, \"BloodPressure\": 78, \"SkinThickness\": 40, \"Insulin\": 90, \"BMI\": 34.5, \"DiabetesPedigreeFunction\": 0.238, \"Age\": 24, \"Outcome\": 0}, {\"Pregnancies\": 3, \"Glucose\": 108, \"BloodPressure\": 62, \"SkinThickness\": 24, \"Insulin\": 0, \"BMI\": 26.0, \"DiabetesPedigreeFunction\": 0.223, \"Age\": 25, \"Outcome\": 0}, {\"Pregnancies\": 3, \"Glucose\": 78, \"BloodPressure\": 50, \"SkinThickness\": 32, \"Insulin\": 88, \"BMI\": 31.0, \"DiabetesPedigreeFunction\": 0.248, \"Age\": 26, \"Outcome\": 1}, {\"Pregnancies\": 0, \"Glucose\": 100, \"BloodPressure\": 70, \"SkinThickness\": 26, \"Insulin\": 50, \"BMI\": 30.8, \"DiabetesPedigreeFunction\": 0.597, \"Age\": 21, \"Outcome\": 0}, {\"Pregnancies\": 4, \"Glucose\": 132, \"BloodPressure\": 0, \"SkinThickness\": 0, \"Insulin\": 0, \"BMI\": 32.9, \"DiabetesPedigreeFunction\": 0.302, \"Age\": 23, \"Outcome\": 1}, {\"Pregnancies\": 3, \"Glucose\": 176, \"BloodPressure\": 86, \"SkinThickness\": 27, \"Insulin\": 156, \"BMI\": 33.3, \"DiabetesPedigreeFunction\": 1.154, \"Age\": 52, \"Outcome\": 1}, {\"Pregnancies\": 5, \"Glucose\": 168, \"BloodPressure\": 64, \"SkinThickness\": 0, \"Insulin\": 0, \"BMI\": 32.9, \"DiabetesPedigreeFunction\": 0.135, \"Age\": 41, \"Outcome\": 1}, {\"Pregnancies\": 9, \"Glucose\": 119, \"BloodPressure\": 80, \"SkinThickness\": 35, \"Insulin\": 0, \"BMI\": 29.0, \"DiabetesPedigreeFunction\": 0.263, \"Age\": 29, \"Outcome\": 1}, {\"Pregnancies\": 1, \"Glucose\": 85, \"BloodPressure\": 66, \"SkinThickness\": 29, \"Insulin\": 0, \"BMI\": 26.6, \"DiabetesPedigreeFunction\": 0.351, \"Age\": 31, \"Outcome\": 0}, {\"Pregnancies\": 2, \"Glucose\": 141, \"BloodPressure\": 58, \"SkinThickness\": 34, \"Insulin\": 128, \"BMI\": 25.4, \"DiabetesPedigreeFunction\": 0.699, \"Age\": 24, \"Outcome\": 0}, {\"Pregnancies\": 14, \"Glucose\": 100, \"BloodPressure\": 78, \"SkinThickness\": 25, \"Insulin\": 184, \"BMI\": 36.6, \"DiabetesPedigreeFunction\": 0.412, \"Age\": 46, \"Outcome\": 1}, {\"Pregnancies\": 8, \"Glucose\": 105, \"BloodPressure\": 100, \"SkinThickness\": 36, \"Insulin\": 0, \"BMI\": 43.3, \"DiabetesPedigreeFunction\": 0.239, \"Age\": 45, \"Outcome\": 1}, {\"Pregnancies\": 0, \"Glucose\": 104, \"BloodPressure\": 64, \"SkinThickness\": 23, \"Insulin\": 116, \"BMI\": 27.8, \"DiabetesPedigreeFunction\": 0.454, \"Age\": 23, \"Outcome\": 0}, {\"Pregnancies\": 4, \"Glucose\": 145, \"BloodPressure\": 82, \"SkinThickness\": 18, \"Insulin\": 0, \"BMI\": 32.5, \"DiabetesPedigreeFunction\": 0.235, \"Age\": 70, \"Outcome\": 1}, {\"Pregnancies\": 4, \"Glucose\": 99, \"BloodPressure\": 68, \"SkinThickness\": 38, \"Insulin\": 0, \"BMI\": 32.8, \"DiabetesPedigreeFunction\": 0.145, \"Age\": 33, \"Outcome\": 0}, {\"Pregnancies\": 0, \"Glucose\": 181, \"BloodPressure\": 88, \"SkinThickness\": 44, \"Insulin\": 510, \"BMI\": 43.3, \"DiabetesPedigreeFunction\": 0.222, \"Age\": 26, \"Outcome\": 1}, {\"Pregnancies\": 3, \"Glucose\": 90, \"BloodPressure\": 78, \"SkinThickness\": 0, \"Insulin\": 0, \"BMI\": 42.7, \"DiabetesPedigreeFunction\": 0.559, \"Age\": 21, \"Outcome\": 0}, {\"Pregnancies\": 8, \"Glucose\": 143, \"BloodPressure\": 66, \"SkinThickness\": 0, \"Insulin\": 0, \"BMI\": 34.9, \"DiabetesPedigreeFunction\": 0.129, \"Age\": 41, \"Outcome\": 1}, {\"Pregnancies\": 0, \"Glucose\": 165, \"BloodPressure\": 90, \"SkinThickness\": 33, \"Insulin\": 680, \"BMI\": 52.3, \"DiabetesPedigreeFunction\": 0.427, \"Age\": 23, \"Outcome\": 0}, {\"Pregnancies\": 1, \"Glucose\": 107, \"BloodPressure\": 68, \"SkinThickness\": 19, \"Insulin\": 0, \"BMI\": 26.5, \"DiabetesPedigreeFunction\": 0.165, \"Age\": 24, \"Outcome\": 0}, {\"Pregnancies\": 0, \"Glucose\": 86, \"BloodPressure\": 68, \"SkinThickness\": 32, \"Insulin\": 0, \"BMI\": 35.8, \"DiabetesPedigreeFunction\": 0.238, \"Age\": 25, \"Outcome\": 0}, {\"Pregnancies\": 0, \"Glucose\": 105, \"BloodPressure\": 90, \"SkinThickness\": 0, \"Insulin\": 0, \"BMI\": 29.6, \"DiabetesPedigreeFunction\": 0.197, \"Age\": 46, \"Outcome\": 0}, {\"Pregnancies\": 0, \"Glucose\": 93, \"BloodPressure\": 60, \"SkinThickness\": 0, \"Insulin\": 0, \"BMI\": 35.3, \"DiabetesPedigreeFunction\": 0.263, \"Age\": 25, \"Outcome\": 0}, {\"Pregnancies\": 0, \"Glucose\": 151, \"BloodPressure\": 90, \"SkinThickness\": 46, \"Insulin\": 0, \"BMI\": 42.1, \"DiabetesPedigreeFunction\": 0.371, \"Age\": 21, \"Outcome\": 1}, {\"Pregnancies\": 5, \"Glucose\": 117, \"BloodPressure\": 86, \"SkinThickness\": 30, \"Insulin\": 105, \"BMI\": 39.1, \"DiabetesPedigreeFunction\": 0.251, \"Age\": 42, \"Outcome\": 0}, {\"Pregnancies\": 1, \"Glucose\": 101, \"BloodPressure\": 50, \"SkinThickness\": 15, \"Insulin\": 36, \"BMI\": 24.2, \"DiabetesPedigreeFunction\": 0.526, \"Age\": 26, \"Outcome\": 0}, {\"Pregnancies\": 4, \"Glucose\": 95, \"BloodPressure\": 64, \"SkinThickness\": 0, \"Insulin\": 0, \"BMI\": 32.0, \"DiabetesPedigreeFunction\": 0.161, \"Age\": 31, \"Outcome\": 1}, {\"Pregnancies\": 5, \"Glucose\": 116, \"BloodPressure\": 74, \"SkinThickness\": 29, \"Insulin\": 0, \"BMI\": 32.3, \"DiabetesPedigreeFunction\": 0.66, \"Age\": 35, \"Outcome\": 1}, {\"Pregnancies\": 3, \"Glucose\": 102, \"BloodPressure\": 74, \"SkinThickness\": 0, \"Insulin\": 0, \"BMI\": 29.5, \"DiabetesPedigreeFunction\": 0.121, \"Age\": 32, \"Outcome\": 0}, {\"Pregnancies\": 2, \"Glucose\": 92, \"BloodPressure\": 62, \"SkinThickness\": 28, \"Insulin\": 0, \"BMI\": 31.6, \"DiabetesPedigreeFunction\": 0.13, \"Age\": 24, \"Outcome\": 0}, {\"Pregnancies\": 8, \"Glucose\": 110, \"BloodPressure\": 76, \"SkinThickness\": 0, \"Insulin\": 0, \"BMI\": 27.8, \"DiabetesPedigreeFunction\": 0.237, \"Age\": 58, \"Outcome\": 0}, {\"Pregnancies\": 7, \"Glucose\": 133, \"BloodPressure\": 88, \"SkinThickness\": 15, \"Insulin\": 155, \"BMI\": 32.4, \"DiabetesPedigreeFunction\": 0.262, \"Age\": 37, \"Outcome\": 0}, {\"Pregnancies\": 6, \"Glucose\": 87, \"BloodPressure\": 80, \"SkinThickness\": 0, \"Insulin\": 0, \"BMI\": 23.2, \"DiabetesPedigreeFunction\": 0.084, \"Age\": 32, \"Outcome\": 0}, {\"Pregnancies\": 0, \"Glucose\": 189, \"BloodPressure\": 104, \"SkinThickness\": 25, \"Insulin\": 0, \"BMI\": 34.3, \"DiabetesPedigreeFunction\": 0.435, \"Age\": 41, \"Outcome\": 1}, {\"Pregnancies\": 1, \"Glucose\": 106, \"BloodPressure\": 76, \"SkinThickness\": 0, \"Insulin\": 0, \"BMI\": 37.5, \"DiabetesPedigreeFunction\": 0.197, \"Age\": 26, \"Outcome\": 0}, {\"Pregnancies\": 2, \"Glucose\": 108, \"BloodPressure\": 62, \"SkinThickness\": 32, \"Insulin\": 56, \"BMI\": 25.2, \"DiabetesPedigreeFunction\": 0.128, \"Age\": 21, \"Outcome\": 0}, {\"Pregnancies\": 2, \"Glucose\": 134, \"BloodPressure\": 70, \"SkinThickness\": 0, \"Insulin\": 0, \"BMI\": 28.9, \"DiabetesPedigreeFunction\": 0.542, \"Age\": 23, \"Outcome\": 1}, {\"Pregnancies\": 1, \"Glucose\": 95, \"BloodPressure\": 74, \"SkinThickness\": 21, \"Insulin\": 73, \"BMI\": 25.9, \"DiabetesPedigreeFunction\": 0.673, \"Age\": 36, \"Outcome\": 0}, {\"Pregnancies\": 4, \"Glucose\": 171, \"BloodPressure\": 72, \"SkinThickness\": 0, \"Insulin\": 0, \"BMI\": 43.6, \"DiabetesPedigreeFunction\": 0.479, \"Age\": 26, \"Outcome\": 1}, {\"Pregnancies\": 10, \"Glucose\": 129, \"BloodPressure\": 62, \"SkinThickness\": 36, \"Insulin\": 0, \"BMI\": 41.2, \"DiabetesPedigreeFunction\": 0.441, \"Age\": 38, \"Outcome\": 1}, {\"Pregnancies\": 4, \"Glucose\": 154, \"BloodPressure\": 62, \"SkinThickness\": 31, \"Insulin\": 284, \"BMI\": 32.8, \"DiabetesPedigreeFunction\": 0.237, \"Age\": 23, \"Outcome\": 0}, {\"Pregnancies\": 11, \"Glucose\": 111, \"BloodPressure\": 84, \"SkinThickness\": 40, \"Insulin\": 0, \"BMI\": 46.8, \"DiabetesPedigreeFunction\": 0.925, \"Age\": 45, \"Outcome\": 1}, {\"Pregnancies\": 4, \"Glucose\": 110, \"BloodPressure\": 76, \"SkinThickness\": 20, \"Insulin\": 100, \"BMI\": 28.4, \"DiabetesPedigreeFunction\": 0.118, \"Age\": 27, \"Outcome\": 0}, {\"Pregnancies\": 0, \"Glucose\": 180, \"BloodPressure\": 78, \"SkinThickness\": 63, \"Insulin\": 14, \"BMI\": 59.4, \"DiabetesPedigreeFunction\": 2.42, \"Age\": 25, \"Outcome\": 1}, {\"Pregnancies\": 4, \"Glucose\": 109, \"BloodPressure\": 64, \"SkinThickness\": 44, \"Insulin\": 99, \"BMI\": 34.8, \"DiabetesPedigreeFunction\": 0.905, \"Age\": 26, \"Outcome\": 1}, {\"Pregnancies\": 0, \"Glucose\": 137, \"BloodPressure\": 70, \"SkinThickness\": 38, \"Insulin\": 0, \"BMI\": 33.2, \"DiabetesPedigreeFunction\": 0.17, \"Age\": 22, \"Outcome\": 0}, {\"Pregnancies\": 13, \"Glucose\": 106, \"BloodPressure\": 72, \"SkinThickness\": 54, \"Insulin\": 0, \"BMI\": 36.6, \"DiabetesPedigreeFunction\": 0.178, \"Age\": 45, \"Outcome\": 0}, {\"Pregnancies\": 8, \"Glucose\": 100, \"BloodPressure\": 74, \"SkinThickness\": 40, \"Insulin\": 215, \"BMI\": 39.4, \"DiabetesPedigreeFunction\": 0.661, \"Age\": 43, \"Outcome\": 1}, {\"Pregnancies\": 2, \"Glucose\": 75, \"BloodPressure\": 64, \"SkinThickness\": 24, \"Insulin\": 55, \"BMI\": 29.7, \"DiabetesPedigreeFunction\": 0.37, \"Age\": 33, \"Outcome\": 0}, {\"Pregnancies\": 10, \"Glucose\": 139, \"BloodPressure\": 80, \"SkinThickness\": 0, \"Insulin\": 0, \"BMI\": 27.1, \"DiabetesPedigreeFunction\": 1.441, \"Age\": 57, \"Outcome\": 0}, {\"Pregnancies\": 1, \"Glucose\": 97, \"BloodPressure\": 64, \"SkinThickness\": 19, \"Insulin\": 82, \"BMI\": 18.2, \"DiabetesPedigreeFunction\": 0.299, \"Age\": 21, \"Outcome\": 0}, {\"Pregnancies\": 1, \"Glucose\": 128, \"BloodPressure\": 82, \"SkinThickness\": 17, \"Insulin\": 183, \"BMI\": 27.5, \"DiabetesPedigreeFunction\": 0.115, \"Age\": 22, \"Outcome\": 0}, {\"Pregnancies\": 0, \"Glucose\": 128, \"BloodPressure\": 68, \"SkinThickness\": 19, \"Insulin\": 180, \"BMI\": 30.5, \"DiabetesPedigreeFunction\": 1.391, \"Age\": 25, \"Outcome\": 1}, {\"Pregnancies\": 0, \"Glucose\": 188, \"BloodPressure\": 82, \"SkinThickness\": 14, \"Insulin\": 185, \"BMI\": 32.0, \"DiabetesPedigreeFunction\": 0.682, \"Age\": 22, \"Outcome\": 1}, {\"Pregnancies\": 1, \"Glucose\": 125, \"BloodPressure\": 70, \"SkinThickness\": 24, \"Insulin\": 110, \"BMI\": 24.3, \"DiabetesPedigreeFunction\": 0.221, \"Age\": 25, \"Outcome\": 0}, {\"Pregnancies\": 0, \"Glucose\": 95, \"BloodPressure\": 85, \"SkinThickness\": 25, \"Insulin\": 36, \"BMI\": 37.4, \"DiabetesPedigreeFunction\": 0.247, \"Age\": 24, \"Outcome\": 1}, {\"Pregnancies\": 0, \"Glucose\": 95, \"BloodPressure\": 64, \"SkinThickness\": 39, \"Insulin\": 105, \"BMI\": 44.6, \"DiabetesPedigreeFunction\": 0.366, \"Age\": 22, \"Outcome\": 0}, {\"Pregnancies\": 3, \"Glucose\": 163, \"BloodPressure\": 70, \"SkinThickness\": 18, \"Insulin\": 105, \"BMI\": 31.6, \"DiabetesPedigreeFunction\": 0.268, \"Age\": 28, \"Outcome\": 1}, {\"Pregnancies\": 4, \"Glucose\": 76, \"BloodPressure\": 62, \"SkinThickness\": 0, \"Insulin\": 0, \"BMI\": 34.0, \"DiabetesPedigreeFunction\": 0.391, \"Age\": 25, \"Outcome\": 0}, {\"Pregnancies\": 3, \"Glucose\": 83, \"BloodPressure\": 58, \"SkinThickness\": 31, \"Insulin\": 18, \"BMI\": 34.3, \"DiabetesPedigreeFunction\": 0.336, \"Age\": 25, \"Outcome\": 0}, {\"Pregnancies\": 11, \"Glucose\": 136, \"BloodPressure\": 84, \"SkinThickness\": 35, \"Insulin\": 130, \"BMI\": 28.3, \"DiabetesPedigreeFunction\": 0.26, \"Age\": 42, \"Outcome\": 1}, {\"Pregnancies\": 6, \"Glucose\": 144, \"BloodPressure\": 72, \"SkinThickness\": 27, \"Insulin\": 228, \"BMI\": 33.9, \"DiabetesPedigreeFunction\": 0.255, \"Age\": 40, \"Outcome\": 0}, {\"Pregnancies\": 0, \"Glucose\": 138, \"BloodPressure\": 60, \"SkinThickness\": 35, \"Insulin\": 167, \"BMI\": 34.6, \"DiabetesPedigreeFunction\": 0.534, \"Age\": 21, \"Outcome\": 1}, {\"Pregnancies\": 1, \"Glucose\": 113, \"BloodPressure\": 64, \"SkinThickness\": 35, \"Insulin\": 0, \"BMI\": 33.6, \"DiabetesPedigreeFunction\": 0.543, \"Age\": 21, \"Outcome\": 1}, {\"Pregnancies\": 10, \"Glucose\": 162, \"BloodPressure\": 84, \"SkinThickness\": 0, \"Insulin\": 0, \"BMI\": 27.7, \"DiabetesPedigreeFunction\": 0.182, \"Age\": 54, \"Outcome\": 0}, {\"Pregnancies\": 5, \"Glucose\": 128, \"BloodPressure\": 80, \"SkinThickness\": 0, \"Insulin\": 0, \"BMI\": 34.6, \"DiabetesPedigreeFunction\": 0.144, \"Age\": 45, \"Outcome\": 0}, {\"Pregnancies\": 5, \"Glucose\": 166, \"BloodPressure\": 72, \"SkinThickness\": 19, \"Insulin\": 175, \"BMI\": 25.8, \"DiabetesPedigreeFunction\": 0.587, \"Age\": 51, \"Outcome\": 1}, {\"Pregnancies\": 4, \"Glucose\": 148, \"BloodPressure\": 60, \"SkinThickness\": 27, \"Insulin\": 318, \"BMI\": 30.9, \"DiabetesPedigreeFunction\": 0.15, \"Age\": 29, \"Outcome\": 1}, {\"Pregnancies\": 12, \"Glucose\": 151, \"BloodPressure\": 70, \"SkinThickness\": 40, \"Insulin\": 271, \"BMI\": 41.8, \"DiabetesPedigreeFunction\": 0.742, \"Age\": 38, \"Outcome\": 1}, {\"Pregnancies\": 8, \"Glucose\": 194, \"BloodPressure\": 80, \"SkinThickness\": 0, \"Insulin\": 0, \"BMI\": 26.1, \"DiabetesPedigreeFunction\": 0.551, \"Age\": 67, \"Outcome\": 0}, {\"Pregnancies\": 7, \"Glucose\": 106, \"BloodPressure\": 60, \"SkinThickness\": 24, \"Insulin\": 0, \"BMI\": 26.5, \"DiabetesPedigreeFunction\": 0.296, \"Age\": 29, \"Outcome\": 1}, {\"Pregnancies\": 5, \"Glucose\": 106, \"BloodPressure\": 82, \"SkinThickness\": 30, \"Insulin\": 0, \"BMI\": 39.5, \"DiabetesPedigreeFunction\": 0.286, \"Age\": 38, \"Outcome\": 0}, {\"Pregnancies\": 0, \"Glucose\": 107, \"BloodPressure\": 60, \"SkinThickness\": 25, \"Insulin\": 0, \"BMI\": 26.4, \"DiabetesPedigreeFunction\": 0.133, \"Age\": 23, \"Outcome\": 0}, {\"Pregnancies\": 6, \"Glucose\": 183, \"BloodPressure\": 94, \"SkinThickness\": 0, \"Insulin\": 0, \"BMI\": 40.8, \"DiabetesPedigreeFunction\": 1.461, \"Age\": 45, \"Outcome\": 0}, {\"Pregnancies\": 0, \"Glucose\": 119, \"BloodPressure\": 0, \"SkinThickness\": 0, \"Insulin\": 0, \"BMI\": 32.4, \"DiabetesPedigreeFunction\": 0.141, \"Age\": 24, \"Outcome\": 1}, {\"Pregnancies\": 3, \"Glucose\": 111, \"BloodPressure\": 62, \"SkinThickness\": 0, \"Insulin\": 0, \"BMI\": 22.6, \"DiabetesPedigreeFunction\": 0.142, \"Age\": 21, \"Outcome\": 0}, {\"Pregnancies\": 7, \"Glucose\": 178, \"BloodPressure\": 84, \"SkinThickness\": 0, \"Insulin\": 0, \"BMI\": 39.9, \"DiabetesPedigreeFunction\": 0.331, \"Age\": 41, \"Outcome\": 1}, {\"Pregnancies\": 2, \"Glucose\": 123, \"BloodPressure\": 48, \"SkinThickness\": 32, \"Insulin\": 165, \"BMI\": 42.1, \"DiabetesPedigreeFunction\": 0.52, \"Age\": 26, \"Outcome\": 0}, {\"Pregnancies\": 1, \"Glucose\": 122, \"BloodPressure\": 90, \"SkinThickness\": 51, \"Insulin\": 220, \"BMI\": 49.7, \"DiabetesPedigreeFunction\": 0.325, \"Age\": 31, \"Outcome\": 1}, {\"Pregnancies\": 0, \"Glucose\": 93, \"BloodPressure\": 100, \"SkinThickness\": 39, \"Insulin\": 72, \"BMI\": 43.4, \"DiabetesPedigreeFunction\": 1.021, \"Age\": 35, \"Outcome\": 0}, {\"Pregnancies\": 4, \"Glucose\": 117, \"BloodPressure\": 62, \"SkinThickness\": 12, \"Insulin\": 0, \"BMI\": 29.7, \"DiabetesPedigreeFunction\": 0.38, \"Age\": 30, \"Outcome\": 1}, {\"Pregnancies\": 1, \"Glucose\": 151, \"BloodPressure\": 60, \"SkinThickness\": 0, \"Insulin\": 0, \"BMI\": 26.1, \"DiabetesPedigreeFunction\": 0.179, \"Age\": 22, \"Outcome\": 0}, {\"Pregnancies\": 6, \"Glucose\": 194, \"BloodPressure\": 78, \"SkinThickness\": 0, \"Insulin\": 0, \"BMI\": 23.5, \"DiabetesPedigreeFunction\": 0.129, \"Age\": 59, \"Outcome\": 1}, {\"Pregnancies\": 0, \"Glucose\": 111, \"BloodPressure\": 65, \"SkinThickness\": 0, \"Insulin\": 0, \"BMI\": 24.6, \"DiabetesPedigreeFunction\": 0.66, \"Age\": 31, \"Outcome\": 0}, {\"Pregnancies\": 0, \"Glucose\": 67, \"BloodPressure\": 76, \"SkinThickness\": 0, \"Insulin\": 0, \"BMI\": 45.3, \"DiabetesPedigreeFunction\": 0.194, \"Age\": 46, \"Outcome\": 0}, {\"Pregnancies\": 5, \"Glucose\": 78, \"BloodPressure\": 48, \"SkinThickness\": 0, \"Insulin\": 0, \"BMI\": 33.7, \"DiabetesPedigreeFunction\": 0.654, \"Age\": 25, \"Outcome\": 0}, {\"Pregnancies\": 3, \"Glucose\": 120, \"BloodPressure\": 70, \"SkinThickness\": 30, \"Insulin\": 135, \"BMI\": 42.9, \"DiabetesPedigreeFunction\": 0.452, \"Age\": 30, \"Outcome\": 0}, {\"Pregnancies\": 0, \"Glucose\": 146, \"BloodPressure\": 82, \"SkinThickness\": 0, \"Insulin\": 0, \"BMI\": 40.5, \"DiabetesPedigreeFunction\": 1.781, \"Age\": 44, \"Outcome\": 0}, {\"Pregnancies\": 5, \"Glucose\": 99, \"BloodPressure\": 54, \"SkinThickness\": 28, \"Insulin\": 83, \"BMI\": 34.0, \"DiabetesPedigreeFunction\": 0.499, \"Age\": 30, \"Outcome\": 0}, {\"Pregnancies\": 6, \"Glucose\": 134, \"BloodPressure\": 80, \"SkinThickness\": 37, \"Insulin\": 370, \"BMI\": 46.2, \"DiabetesPedigreeFunction\": 0.238, \"Age\": 46, \"Outcome\": 1}, {\"Pregnancies\": 1, \"Glucose\": 80, \"BloodPressure\": 74, \"SkinThickness\": 11, \"Insulin\": 60, \"BMI\": 30.0, \"DiabetesPedigreeFunction\": 0.527, \"Age\": 22, \"Outcome\": 0}, {\"Pregnancies\": 7, \"Glucose\": 109, \"BloodPressure\": 80, \"SkinThickness\": 31, \"Insulin\": 0, \"BMI\": 35.9, \"DiabetesPedigreeFunction\": 1.127, \"Age\": 43, \"Outcome\": 1}, {\"Pregnancies\": 4, \"Glucose\": 146, \"BloodPressure\": 85, \"SkinThickness\": 27, \"Insulin\": 100, \"BMI\": 28.9, \"DiabetesPedigreeFunction\": 0.189, \"Age\": 27, \"Outcome\": 0}, {\"Pregnancies\": 1, \"Glucose\": 153, \"BloodPressure\": 82, \"SkinThickness\": 42, \"Insulin\": 485, \"BMI\": 40.6, \"DiabetesPedigreeFunction\": 0.687, \"Age\": 23, \"Outcome\": 0}, {\"Pregnancies\": 1, \"Glucose\": 126, \"BloodPressure\": 56, \"SkinThickness\": 29, \"Insulin\": 152, \"BMI\": 28.7, \"DiabetesPedigreeFunction\": 0.801, \"Age\": 21, \"Outcome\": 0}, {\"Pregnancies\": 9, \"Glucose\": 102, \"BloodPressure\": 76, \"SkinThickness\": 37, \"Insulin\": 0, \"BMI\": 32.9, \"DiabetesPedigreeFunction\": 0.665, \"Age\": 46, \"Outcome\": 1}, {\"Pregnancies\": 9, \"Glucose\": 164, \"BloodPressure\": 84, \"SkinThickness\": 21, \"Insulin\": 0, \"BMI\": 30.8, \"DiabetesPedigreeFunction\": 0.831, \"Age\": 32, \"Outcome\": 1}, {\"Pregnancies\": 3, \"Glucose\": 111, \"BloodPressure\": 56, \"SkinThickness\": 39, \"Insulin\": 0, \"BMI\": 30.1, \"DiabetesPedigreeFunction\": 0.557, \"Age\": 30, \"Outcome\": 0}, {\"Pregnancies\": 9, \"Glucose\": 120, \"BloodPressure\": 72, \"SkinThickness\": 22, \"Insulin\": 56, \"BMI\": 20.8, \"DiabetesPedigreeFunction\": 0.733, \"Age\": 48, \"Outcome\": 0}, {\"Pregnancies\": 1, \"Glucose\": 139, \"BloodPressure\": 62, \"SkinThickness\": 41, \"Insulin\": 480, \"BMI\": 40.7, \"DiabetesPedigreeFunction\": 0.536, \"Age\": 21, \"Outcome\": 0}, {\"Pregnancies\": 1, \"Glucose\": 107, \"BloodPressure\": 72, \"SkinThickness\": 30, \"Insulin\": 82, \"BMI\": 30.8, \"DiabetesPedigreeFunction\": 0.821, \"Age\": 24, \"Outcome\": 0}, {\"Pregnancies\": 4, \"Glucose\": 90, \"BloodPressure\": 88, \"SkinThickness\": 47, \"Insulin\": 54, \"BMI\": 37.7, \"DiabetesPedigreeFunction\": 0.362, \"Age\": 29, \"Outcome\": 0}, {\"Pregnancies\": 2, \"Glucose\": 111, \"BloodPressure\": 60, \"SkinThickness\": 0, \"Insulin\": 0, \"BMI\": 26.2, \"DiabetesPedigreeFunction\": 0.343, \"Age\": 23, \"Outcome\": 0}, {\"Pregnancies\": 3, \"Glucose\": 96, \"BloodPressure\": 78, \"SkinThickness\": 39, \"Insulin\": 0, \"BMI\": 37.3, \"DiabetesPedigreeFunction\": 0.238, \"Age\": 40, \"Outcome\": 0}, {\"Pregnancies\": 0, \"Glucose\": 102, \"BloodPressure\": 64, \"SkinThickness\": 46, \"Insulin\": 78, \"BMI\": 40.6, \"DiabetesPedigreeFunction\": 0.496, \"Age\": 21, \"Outcome\": 0}, {\"Pregnancies\": 2, \"Glucose\": 146, \"BloodPressure\": 76, \"SkinThickness\": 35, \"Insulin\": 194, \"BMI\": 38.2, \"DiabetesPedigreeFunction\": 0.329, \"Age\": 29, \"Outcome\": 0}]}}, {\"mode\": \"vega-lite\"});\n",
       "</script>"
      ],
      "text/plain": [
       "alt.VConcatChart(...)"
      ]
     },
     "execution_count": 15,
     "metadata": {},
     "output_type": "execute_result"
    }
   ],
   "source": [
    "aly.pair(train_df[features].sample(300), color='Outcome:N')"
   ]
  },
  {
   "cell_type": "markdown",
   "id": "79c2d626-c338-4ff2-8de3-8dee97a2e1a7",
   "metadata": {},
   "source": [
    "Figure 3: Pairwise scatterplots between each of features in dataset to visualize relationship"
   ]
  },
  {
   "cell_type": "markdown",
   "id": "567fa9f0-a7b0-4408-8b17-39259c51688c",
   "metadata": {},
   "source": [
    "Figure 3 above gives us a visualization between the relationship between each of our features. We see for the most part that the features do not show and trends. The two features that do show somewhat of a relationship visually is Skin thickness and BMI. This would makes sense as the higher the body mass the higher the thickness of skin would be for the most part. \n",
    "\n",
    "Looking back at our previous at the correlation graph from before we see that Skin Thickness and BMI have a Pearson correlation of 0.41, meaning they do not cause multicollinearity in our model. "
   ]
  },
  {
   "cell_type": "code",
   "execution_count": 16,
   "id": "cfdff989-3503-4bf1-9684-af7d1b2d1c6c",
   "metadata": {},
   "outputs": [],
   "source": [
    "# validate training data for anomalous correlations between target/response variable \n",
    "# and features/explanatory variables, \n",
    "# as well as anomalous correlations between features/explanatory variables\n",
    "\n",
    "check_feat_lab_corr = FeatureLabelCorrelation().add_condition_feature_pps_less_than(0.7)\n",
    "check_feat_lab_corr_result = check_feat_lab_corr.run(dataset = train_df_ds)\n",
    "\n",
    "check_feat_feat_corr = FeatureFeatureCorrelation().add_condition_max_number_of_pairs_above_threshold(threshold = 0.7, n_pairs = 0)\n",
    "check_feat_feat_corr_result = check_feat_feat_corr.run(dataset = train_df_ds)\n",
    "\n",
    "if not check_feat_lab_corr_result.passed_conditions():\n",
    "    raise ValueError(\"Feature-Label correlation exceeds the maximum acceptable threshold.\")\n",
    "\n",
    "if not check_feat_feat_corr_result.passed_conditions():\n",
    "    raise ValueError(\"Feature-feature correlation exceeds the maximum acceptable threshold.\")"
   ]
  },
  {
   "cell_type": "markdown",
   "id": "02e9d502-d7de-4947-9aef-7237844abf57",
   "metadata": {},
   "source": [
    "Here we further split our data set into our X and y for both the training and test"
   ]
  },
  {
   "cell_type": "code",
   "execution_count": 17,
   "id": "3c3c1217-fed7-4e33-a18f-4d510e6af191",
   "metadata": {},
   "outputs": [],
   "source": [
    "X_train = train_df.drop(columns = ['Outcome'])\n",
    "y_train = train_df['Outcome']\n",
    "X_test = test_df.drop(columns = ['Outcome'])\n",
    "y_test = test_df['Outcome']"
   ]
  },
  {
   "cell_type": "markdown",
   "id": "14944f93-65c4-439c-b61d-a515fc5e2e31",
   "metadata": {},
   "source": [
    "We have created a Dummy Classifier to act as our base line for conductin our analysis.\n",
    "The Dummy Baseline gives us a score of around 0.6648"
   ]
  },
  {
   "cell_type": "code",
   "execution_count": 18,
   "id": "a11f6174-f5d6-4e45-b857-2bfb65a80e9a",
   "metadata": {},
   "outputs": [
    {
     "data": {
      "text/plain": [
       "0.6647975077881619"
      ]
     },
     "execution_count": 18,
     "metadata": {},
     "output_type": "execute_result"
    }
   ],
   "source": [
    "dummy_clf = DummyClassifier()\n",
    "mean_cv_score = cross_val_score(dummy_clf, \n",
    "                                X_train,\n",
    "                                y_train).mean()\n",
    "mean_cv_score"
   ]
  },
  {
   "cell_type": "markdown",
   "id": "a4249d6d-92b8-4ab5-9843-b0bfeebf5475",
   "metadata": {},
   "source": [
    "We will be using a Logistic Regression model to do our classification. Since our features have outliers it would be best to use a StandardScaler() to normalize the feature values before fitting the model to them."
   ]
  },
  {
   "cell_type": "code",
   "execution_count": 19,
   "id": "6f54d5b3-b4b3-4a69-9080-976088f33aaf",
   "metadata": {},
   "outputs": [],
   "source": [
    "log_pipe=make_pipeline(StandardScaler(), LogisticRegression(max_iter=2000,\n",
    "random_state=123))"
   ]
  },
  {
   "cell_type": "markdown",
   "id": "7c0644fd-9d0d-4e6b-b732-11d735a769d8",
   "metadata": {},
   "source": [
    "We optimze the hyperparamter 'C' for our logistic regression using a random search"
   ]
  },
  {
   "cell_type": "code",
   "execution_count": 20,
   "id": "d10857b9-e68b-4427-90d0-65638136b431",
   "metadata": {},
   "outputs": [],
   "source": [
    "np.random.seed(123)\n",
    "param_dist = {\n",
    "    \"logisticregression__C\": [10**i for i in range(-5,15)] \n",
    "}"
   ]
  },
  {
   "cell_type": "code",
   "execution_count": 21,
   "id": "51de2544-ffac-4b1b-970a-e1920e03b508",
   "metadata": {},
   "outputs": [
    {
     "data": {
      "text/html": [
       "<style>#sk-container-id-1 {color: black;}#sk-container-id-1 pre{padding: 0;}#sk-container-id-1 div.sk-toggleable {background-color: white;}#sk-container-id-1 label.sk-toggleable__label {cursor: pointer;display: block;width: 100%;margin-bottom: 0;padding: 0.3em;box-sizing: border-box;text-align: center;}#sk-container-id-1 label.sk-toggleable__label-arrow:before {content: \"▸\";float: left;margin-right: 0.25em;color: #696969;}#sk-container-id-1 label.sk-toggleable__label-arrow:hover:before {color: black;}#sk-container-id-1 div.sk-estimator:hover label.sk-toggleable__label-arrow:before {color: black;}#sk-container-id-1 div.sk-toggleable__content {max-height: 0;max-width: 0;overflow: hidden;text-align: left;background-color: #f0f8ff;}#sk-container-id-1 div.sk-toggleable__content pre {margin: 0.2em;color: black;border-radius: 0.25em;background-color: #f0f8ff;}#sk-container-id-1 input.sk-toggleable__control:checked~div.sk-toggleable__content {max-height: 200px;max-width: 100%;overflow: auto;}#sk-container-id-1 input.sk-toggleable__control:checked~label.sk-toggleable__label-arrow:before {content: \"▾\";}#sk-container-id-1 div.sk-estimator input.sk-toggleable__control:checked~label.sk-toggleable__label {background-color: #d4ebff;}#sk-container-id-1 div.sk-label input.sk-toggleable__control:checked~label.sk-toggleable__label {background-color: #d4ebff;}#sk-container-id-1 input.sk-hidden--visually {border: 0;clip: rect(1px 1px 1px 1px);clip: rect(1px, 1px, 1px, 1px);height: 1px;margin: -1px;overflow: hidden;padding: 0;position: absolute;width: 1px;}#sk-container-id-1 div.sk-estimator {font-family: monospace;background-color: #f0f8ff;border: 1px dotted black;border-radius: 0.25em;box-sizing: border-box;margin-bottom: 0.5em;}#sk-container-id-1 div.sk-estimator:hover {background-color: #d4ebff;}#sk-container-id-1 div.sk-parallel-item::after {content: \"\";width: 100%;border-bottom: 1px solid gray;flex-grow: 1;}#sk-container-id-1 div.sk-label:hover label.sk-toggleable__label {background-color: #d4ebff;}#sk-container-id-1 div.sk-serial::before {content: \"\";position: absolute;border-left: 1px solid gray;box-sizing: border-box;top: 0;bottom: 0;left: 50%;z-index: 0;}#sk-container-id-1 div.sk-serial {display: flex;flex-direction: column;align-items: center;background-color: white;padding-right: 0.2em;padding-left: 0.2em;position: relative;}#sk-container-id-1 div.sk-item {position: relative;z-index: 1;}#sk-container-id-1 div.sk-parallel {display: flex;align-items: stretch;justify-content: center;background-color: white;position: relative;}#sk-container-id-1 div.sk-item::before, #sk-container-id-1 div.sk-parallel-item::before {content: \"\";position: absolute;border-left: 1px solid gray;box-sizing: border-box;top: 0;bottom: 0;left: 50%;z-index: -1;}#sk-container-id-1 div.sk-parallel-item {display: flex;flex-direction: column;z-index: 1;position: relative;background-color: white;}#sk-container-id-1 div.sk-parallel-item:first-child::after {align-self: flex-end;width: 50%;}#sk-container-id-1 div.sk-parallel-item:last-child::after {align-self: flex-start;width: 50%;}#sk-container-id-1 div.sk-parallel-item:only-child::after {width: 0;}#sk-container-id-1 div.sk-dashed-wrapped {border: 1px dashed gray;margin: 0 0.4em 0.5em 0.4em;box-sizing: border-box;padding-bottom: 0.4em;background-color: white;}#sk-container-id-1 div.sk-label label {font-family: monospace;font-weight: bold;display: inline-block;line-height: 1.2em;}#sk-container-id-1 div.sk-label-container {text-align: center;}#sk-container-id-1 div.sk-container {/* jupyter's `normalize.less` sets `[hidden] { display: none; }` but bootstrap.min.css set `[hidden] { display: none !important; }` so we also need the `!important` here to be able to override the default hidden behavior on the sphinx rendered scikit-learn.org. See: https://github.com/scikit-learn/scikit-learn/issues/21755 */display: inline-block !important;position: relative;}#sk-container-id-1 div.sk-text-repr-fallback {display: none;}</style><div id=\"sk-container-id-1\" class=\"sk-top-container\"><div class=\"sk-text-repr-fallback\"><pre>RandomizedSearchCV(estimator=Pipeline(steps=[(&#x27;standardscaler&#x27;,\n",
       "                                              StandardScaler()),\n",
       "                                             (&#x27;logisticregression&#x27;,\n",
       "                                              LogisticRegression(max_iter=2000,\n",
       "                                                                 random_state=123))]),\n",
       "                   n_iter=20, n_jobs=-1,\n",
       "                   param_distributions={&#x27;logisticregression__C&#x27;: [1e-05, 0.0001,\n",
       "                                                                  0.001, 0.01,\n",
       "                                                                  0.1, 1, 10,\n",
       "                                                                  100, 1000,\n",
       "                                                                  10000, 100000,\n",
       "                                                                  1000000,\n",
       "                                                                  10000000,\n",
       "                                                                  100000000,\n",
       "                                                                  1000000000,\n",
       "                                                                  10000000000,\n",
       "                                                                  100000000000,\n",
       "                                                                  1000000000000,\n",
       "                                                                  10000000000000,\n",
       "                                                                  100000000000000]},\n",
       "                   random_state=123, return_train_score=True)</pre><b>In a Jupyter environment, please rerun this cell to show the HTML representation or trust the notebook. <br />On GitHub, the HTML representation is unable to render, please try loading this page with nbviewer.org.</b></div><div class=\"sk-container\" hidden><div class=\"sk-item sk-dashed-wrapped\"><div class=\"sk-label-container\"><div class=\"sk-label sk-toggleable\"><input class=\"sk-toggleable__control sk-hidden--visually\" id=\"sk-estimator-id-1\" type=\"checkbox\" ><label for=\"sk-estimator-id-1\" class=\"sk-toggleable__label sk-toggleable__label-arrow\">RandomizedSearchCV</label><div class=\"sk-toggleable__content\"><pre>RandomizedSearchCV(estimator=Pipeline(steps=[(&#x27;standardscaler&#x27;,\n",
       "                                              StandardScaler()),\n",
       "                                             (&#x27;logisticregression&#x27;,\n",
       "                                              LogisticRegression(max_iter=2000,\n",
       "                                                                 random_state=123))]),\n",
       "                   n_iter=20, n_jobs=-1,\n",
       "                   param_distributions={&#x27;logisticregression__C&#x27;: [1e-05, 0.0001,\n",
       "                                                                  0.001, 0.01,\n",
       "                                                                  0.1, 1, 10,\n",
       "                                                                  100, 1000,\n",
       "                                                                  10000, 100000,\n",
       "                                                                  1000000,\n",
       "                                                                  10000000,\n",
       "                                                                  100000000,\n",
       "                                                                  1000000000,\n",
       "                                                                  10000000000,\n",
       "                                                                  100000000000,\n",
       "                                                                  1000000000000,\n",
       "                                                                  10000000000000,\n",
       "                                                                  100000000000000]},\n",
       "                   random_state=123, return_train_score=True)</pre></div></div></div><div class=\"sk-parallel\"><div class=\"sk-parallel-item\"><div class=\"sk-item\"><div class=\"sk-label-container\"><div class=\"sk-label sk-toggleable\"><input class=\"sk-toggleable__control sk-hidden--visually\" id=\"sk-estimator-id-2\" type=\"checkbox\" ><label for=\"sk-estimator-id-2\" class=\"sk-toggleable__label sk-toggleable__label-arrow\">estimator: Pipeline</label><div class=\"sk-toggleable__content\"><pre>Pipeline(steps=[(&#x27;standardscaler&#x27;, StandardScaler()),\n",
       "                (&#x27;logisticregression&#x27;,\n",
       "                 LogisticRegression(max_iter=2000, random_state=123))])</pre></div></div></div><div class=\"sk-serial\"><div class=\"sk-item\"><div class=\"sk-serial\"><div class=\"sk-item\"><div class=\"sk-estimator sk-toggleable\"><input class=\"sk-toggleable__control sk-hidden--visually\" id=\"sk-estimator-id-3\" type=\"checkbox\" ><label for=\"sk-estimator-id-3\" class=\"sk-toggleable__label sk-toggleable__label-arrow\">StandardScaler</label><div class=\"sk-toggleable__content\"><pre>StandardScaler()</pre></div></div></div><div class=\"sk-item\"><div class=\"sk-estimator sk-toggleable\"><input class=\"sk-toggleable__control sk-hidden--visually\" id=\"sk-estimator-id-4\" type=\"checkbox\" ><label for=\"sk-estimator-id-4\" class=\"sk-toggleable__label sk-toggleable__label-arrow\">LogisticRegression</label><div class=\"sk-toggleable__content\"><pre>LogisticRegression(max_iter=2000, random_state=123)</pre></div></div></div></div></div></div></div></div></div></div></div></div>"
      ],
      "text/plain": [
       "RandomizedSearchCV(estimator=Pipeline(steps=[('standardscaler',\n",
       "                                              StandardScaler()),\n",
       "                                             ('logisticregression',\n",
       "                                              LogisticRegression(max_iter=2000,\n",
       "                                                                 random_state=123))]),\n",
       "                   n_iter=20, n_jobs=-1,\n",
       "                   param_distributions={'logisticregression__C': [1e-05, 0.0001,\n",
       "                                                                  0.001, 0.01,\n",
       "                                                                  0.1, 1, 10,\n",
       "                                                                  100, 1000,\n",
       "                                                                  10000, 100000,\n",
       "                                                                  1000000,\n",
       "                                                                  10000000,\n",
       "                                                                  100000000,\n",
       "                                                                  1000000000,\n",
       "                                                                  10000000000,\n",
       "                                                                  100000000000,\n",
       "                                                                  1000000000000,\n",
       "                                                                  10000000000000,\n",
       "                                                                  100000000000000]},\n",
       "                   random_state=123, return_train_score=True)"
      ]
     },
     "execution_count": 21,
     "metadata": {},
     "output_type": "execute_result"
    }
   ],
   "source": [
    "random_search = RandomizedSearchCV(log_pipe,param_dist,\n",
    "                                   n_iter=20,\n",
    "                                   n_jobs=-1,\n",
    "                                   return_train_score=True,\n",
    "                                   random_state=123)\n",
    "\n",
    "random_search.fit(X_train,y_train)"
   ]
  },
  {
   "cell_type": "markdown",
   "id": "bcc4ce0d-dbf8-4473-8a0d-a5b9229e363d",
   "metadata": {},
   "source": [
    "We find out best parameter value for our hyperparameter `C` that we will use in our model"
   ]
  },
  {
   "cell_type": "code",
   "execution_count": 22,
   "id": "64337e46-03eb-4182-bde3-4b7efb3f33e6",
   "metadata": {},
   "outputs": [
    {
     "data": {
      "text/plain": [
       "{'logisticregression__C': 10}"
      ]
     },
     "execution_count": 22,
     "metadata": {},
     "output_type": "execute_result"
    }
   ],
   "source": [
    "best_params = random_search.best_params_ \n",
    "best_params"
   ]
  },
  {
   "cell_type": "code",
   "execution_count": 23,
   "id": "b463a207-970a-4b87-b183-165a270216cf",
   "metadata": {},
   "outputs": [
    {
     "data": {
      "text/html": [
       "<div>\n",
       "<style scoped>\n",
       "    .dataframe tbody tr th:only-of-type {\n",
       "        vertical-align: middle;\n",
       "    }\n",
       "\n",
       "    .dataframe tbody tr th {\n",
       "        vertical-align: top;\n",
       "    }\n",
       "\n",
       "    .dataframe thead th {\n",
       "        text-align: right;\n",
       "    }\n",
       "</style>\n",
       "<table border=\"1\" class=\"dataframe\">\n",
       "  <thead>\n",
       "    <tr style=\"text-align: right;\">\n",
       "      <th></th>\n",
       "      <th>mean_test_score</th>\n",
       "      <th>mean_train_score</th>\n",
       "    </tr>\n",
       "  </thead>\n",
       "  <tbody>\n",
       "    <tr>\n",
       "      <th>9</th>\n",
       "      <td>0.761717</td>\n",
       "      <td>0.771416</td>\n",
       "    </tr>\n",
       "    <tr>\n",
       "      <th>17</th>\n",
       "      <td>0.761717</td>\n",
       "      <td>0.771416</td>\n",
       "    </tr>\n",
       "    <tr>\n",
       "      <th>16</th>\n",
       "      <td>0.761717</td>\n",
       "      <td>0.771416</td>\n",
       "    </tr>\n",
       "  </tbody>\n",
       "</table>\n",
       "</div>"
      ],
      "text/plain": [
       "    mean_test_score  mean_train_score\n",
       "9          0.761717          0.771416\n",
       "17         0.761717          0.771416\n",
       "16         0.761717          0.771416"
      ]
     },
     "execution_count": 23,
     "metadata": {},
     "output_type": "execute_result"
    }
   ],
   "source": [
    "pd.DataFrame(random_search.cv_results_).sort_values(\n",
    "    \"rank_test_score\").head(3)[[\"mean_test_score\",\n",
    "                                \"mean_train_score\"]]"
   ]
  },
  {
   "cell_type": "markdown",
   "id": "897f9bdd-d070-4595-8bba-525bcce98875",
   "metadata": {},
   "source": [
    "Having determined the best Logistic Regression model for our analysis, we further explore feature importance with coefficients."
   ]
  },
  {
   "cell_type": "code",
   "execution_count": 24,
   "id": "bb8c81cf-262e-4ac9-95eb-7b89a0e15385",
   "metadata": {},
   "outputs": [
    {
     "data": {
      "text/html": [
       "<style type=\"text/css\">\n",
       "#T_1a2e4_row0_col1 {\n",
       "  background-color: #67001f;\n",
       "  color: #f1f1f1;\n",
       "}\n",
       "#T_1a2e4_row1_col1 {\n",
       "  background-color: #ef9979;\n",
       "  color: #000000;\n",
       "}\n",
       "#T_1a2e4_row2_col1 {\n",
       "  background-color: #e9f0f4;\n",
       "  color: #000000;\n",
       "}\n",
       "#T_1a2e4_row3_col1 {\n",
       "  background-color: #cae1ee;\n",
       "  color: #000000;\n",
       "}\n",
       "#T_1a2e4_row4_col1 {\n",
       "  background-color: #6bacd1;\n",
       "  color: #f1f1f1;\n",
       "}\n",
       "#T_1a2e4_row5_col1 {\n",
       "  background-color: #408fc1;\n",
       "  color: #f1f1f1;\n",
       "}\n",
       "#T_1a2e4_row6_col1, #T_1a2e4_row7_col1 {\n",
       "  background-color: #053061;\n",
       "  color: #f1f1f1;\n",
       "}\n",
       "</style>\n",
       "<table id=\"T_1a2e4\">\n",
       "  <thead>\n",
       "    <tr>\n",
       "      <th class=\"blank level0\" >&nbsp;</th>\n",
       "      <th id=\"T_1a2e4_level0_col0\" class=\"col_heading level0 col0\" >Features</th>\n",
       "      <th id=\"T_1a2e4_level0_col1\" class=\"col_heading level0 col1\" >Coefficients</th>\n",
       "    </tr>\n",
       "  </thead>\n",
       "  <tbody>\n",
       "    <tr>\n",
       "      <th id=\"T_1a2e4_level0_row0\" class=\"row_heading level0 row0\" >1</th>\n",
       "      <td id=\"T_1a2e4_row0_col0\" class=\"data row0 col0\" >Glucose</td>\n",
       "      <td id=\"T_1a2e4_row0_col1\" class=\"data row0 col1\" >1.08</td>\n",
       "    </tr>\n",
       "    <tr>\n",
       "      <th id=\"T_1a2e4_level0_row1\" class=\"row_heading level0 row1\" >5</th>\n",
       "      <td id=\"T_1a2e4_row1_col0\" class=\"data row1 col0\" >BMI</td>\n",
       "      <td id=\"T_1a2e4_row1_col1\" class=\"data row1 col1\" >0.72</td>\n",
       "    </tr>\n",
       "    <tr>\n",
       "      <th id=\"T_1a2e4_level0_row2\" class=\"row_heading level0 row2\" >0</th>\n",
       "      <td id=\"T_1a2e4_row2_col0\" class=\"data row2 col0\" >Pregnancies</td>\n",
       "      <td id=\"T_1a2e4_row2_col1\" class=\"data row2 col1\" >0.39</td>\n",
       "    </tr>\n",
       "    <tr>\n",
       "      <th id=\"T_1a2e4_level0_row3\" class=\"row_heading level0 row3\" >6</th>\n",
       "      <td id=\"T_1a2e4_row3_col0\" class=\"data row3 col0\" >DiabetesPedigreeFunction</td>\n",
       "      <td id=\"T_1a2e4_row3_col1\" class=\"data row3 col1\" >0.29</td>\n",
       "    </tr>\n",
       "    <tr>\n",
       "      <th id=\"T_1a2e4_level0_row4\" class=\"row_heading level0 row4\" >7</th>\n",
       "      <td id=\"T_1a2e4_row4_col0\" class=\"data row4 col0\" >Age</td>\n",
       "      <td id=\"T_1a2e4_row4_col1\" class=\"data row4 col1\" >0.12</td>\n",
       "    </tr>\n",
       "    <tr>\n",
       "      <th id=\"T_1a2e4_level0_row5\" class=\"row_heading level0 row5\" >3</th>\n",
       "      <td id=\"T_1a2e4_row5_col0\" class=\"data row5 col0\" >SkinThickness</td>\n",
       "      <td id=\"T_1a2e4_row5_col1\" class=\"data row5 col1\" >0.04</td>\n",
       "    </tr>\n",
       "    <tr>\n",
       "      <th id=\"T_1a2e4_level0_row6\" class=\"row_heading level0 row6\" >4</th>\n",
       "      <td id=\"T_1a2e4_row6_col0\" class=\"data row6 col0\" >Insulin</td>\n",
       "      <td id=\"T_1a2e4_row6_col1\" class=\"data row6 col1\" >-0.20</td>\n",
       "    </tr>\n",
       "    <tr>\n",
       "      <th id=\"T_1a2e4_level0_row7\" class=\"row_heading level0 row7\" >2</th>\n",
       "      <td id=\"T_1a2e4_row7_col0\" class=\"data row7 col0\" >BloodPressure</td>\n",
       "      <td id=\"T_1a2e4_row7_col1\" class=\"data row7 col1\" >-0.21</td>\n",
       "    </tr>\n",
       "  </tbody>\n",
       "</table>\n"
      ],
      "text/plain": [
       "<pandas.io.formats.style.Styler at 0x205aff81610>"
      ]
     },
     "execution_count": 24,
     "metadata": {},
     "output_type": "execute_result"
    }
   ],
   "source": [
    "# Best model from the search\n",
    "best_model = random_search.best_estimator_\n",
    "\n",
    "# Retrieve the coefficients and feature names\n",
    "coefficients = best_model.named_steps['logisticregression'].coef_.flatten()\n",
    "features = X_train.columns  \n",
    "\n",
    "# Create a DataFrame to display the feature names and corresponding coefficients\n",
    "coeff_df = pd.DataFrame({\n",
    "    'Features': features,\n",
    "    'Coefficients': coefficients\n",
    "})\n",
    "\n",
    "# Sort by 'Coefficients' in descending order to see the most important features first\n",
    "coeff_df_sorted = coeff_df.sort_values(by = 'Coefficients', ascending = False)\n",
    "\n",
    "# Create a heatmap for the coefficients (we will visualize them as a single column)\n",
    "coeff_df_sorted.style.format(\n",
    "    precision = 2\n",
    ").background_gradient(\n",
    "    axis = None,\n",
    "    cmap = 'RdBu_r',\n",
    "    low = 0\n",
    ")"
   ]
  },
  {
   "cell_type": "markdown",
   "id": "da25f622-c18d-4042-88c5-c68544ce2fae",
   "metadata": {},
   "source": [
    "Table 1: Logistic regression feature importance measured by coefficients"
   ]
  },
  {
   "cell_type": "markdown",
   "id": "70be6981-1268-4215-81f1-acfee385e7d6",
   "metadata": {},
   "source": [
    "Based on the heatmap and table 1 above, the feature importance coefficients for the logistic regression model predicting diabetes reveal that `Glucose` (1.08) is the strongest positive influence, followed by `BMI` (0.72) and `Pregnancies` (0.39). The negative influences `BloodPressure` (-0.21) and `Insulin` (-0.20) along with the remaining postive features `DiabetesPedigreeFunction` (0.29), `Age` (0.12), and `SkinThickness` (0.04), have a moderate to weak impact on the prediction, with their effects being less pronounced. "
   ]
  },
  {
   "cell_type": "markdown",
   "id": "60168556-9d5e-494a-a77f-b83ca2c2f991",
   "metadata": {},
   "source": [
    "We then perform best Logistic Regression model from hyperparameter search on the test set."
   ]
  },
  {
   "cell_type": "code",
   "execution_count": 25,
   "id": "569ec32e-1d4f-413a-84ba-38359e62a0ed",
   "metadata": {},
   "outputs": [],
   "source": [
    "# Make predictions using the best model\n",
    "y_pred = best_model.predict(X_test)"
   ]
  },
  {
   "cell_type": "markdown",
   "id": "97066ce3-28e9-4462-984b-6d045389fa50",
   "metadata": {},
   "source": [
    "In addition, to enhance the model's practical use in a clinical setting, we are providing and reporting probability estimates for the predictions of diabetes. Offering probability estimates would allow clinicians to gauge the model's confidence in its predictions. This would give clinicians the opportunity to conduct additional diagnostic tests if the predicted probability for the outcome (i.e. diagnosis of prediction) is not sufficiently high."
   ]
  },
  {
   "cell_type": "code",
   "execution_count": 26,
   "id": "b3f712d3-c220-4f1d-9f4e-75eced342c8f",
   "metadata": {},
   "outputs": [
    {
     "data": {
      "text/html": [
       "<div>\n",
       "<style scoped>\n",
       "    .dataframe tbody tr th:only-of-type {\n",
       "        vertical-align: middle;\n",
       "    }\n",
       "\n",
       "    .dataframe tbody tr th {\n",
       "        vertical-align: top;\n",
       "    }\n",
       "\n",
       "    .dataframe thead th {\n",
       "        text-align: right;\n",
       "    }\n",
       "</style>\n",
       "<table border=\"1\" class=\"dataframe\">\n",
       "  <thead>\n",
       "    <tr style=\"text-align: right;\">\n",
       "      <th></th>\n",
       "      <th>y_test</th>\n",
       "      <th>y_pred</th>\n",
       "      <th>pred_bool</th>\n",
       "      <th>y_pred_prob_1</th>\n",
       "    </tr>\n",
       "  </thead>\n",
       "  <tbody>\n",
       "    <tr>\n",
       "      <th>0</th>\n",
       "      <td>1.0</td>\n",
       "      <td>1.0</td>\n",
       "      <td>True</td>\n",
       "      <td>0.860446</td>\n",
       "    </tr>\n",
       "    <tr>\n",
       "      <th>1</th>\n",
       "      <td>0.0</td>\n",
       "      <td>0.0</td>\n",
       "      <td>True</td>\n",
       "      <td>0.353960</td>\n",
       "    </tr>\n",
       "    <tr>\n",
       "      <th>2</th>\n",
       "      <td>0.0</td>\n",
       "      <td>1.0</td>\n",
       "      <td>False</td>\n",
       "      <td>0.652235</td>\n",
       "    </tr>\n",
       "    <tr>\n",
       "      <th>3</th>\n",
       "      <td>0.0</td>\n",
       "      <td>0.0</td>\n",
       "      <td>True</td>\n",
       "      <td>0.053024</td>\n",
       "    </tr>\n",
       "    <tr>\n",
       "      <th>4</th>\n",
       "      <td>0.0</td>\n",
       "      <td>0.0</td>\n",
       "      <td>True</td>\n",
       "      <td>0.073861</td>\n",
       "    </tr>\n",
       "  </tbody>\n",
       "</table>\n",
       "</div>"
      ],
      "text/plain": [
       "   y_test  y_pred  pred_bool  y_pred_prob_1\n",
       "0     1.0     1.0       True       0.860446\n",
       "1     0.0     0.0       True       0.353960\n",
       "2     0.0     1.0      False       0.652235\n",
       "3     0.0     0.0       True       0.053024\n",
       "4     0.0     0.0       True       0.073861"
      ]
     },
     "execution_count": 26,
     "metadata": {},
     "output_type": "execute_result"
    }
   ],
   "source": [
    "y_pred_prob = best_model.predict_proba(X_test)\n",
    "pred_bool = (y_test == y_pred)\n",
    "pred_results_1 = np.vstack([y_test, y_pred, pred_bool, y_pred_prob[:, 1]])\n",
    "pred_results_1_df = pd.DataFrame(pred_results_1.T, \n",
    "                                 columns = ['y_test', 'y_pred', 'pred_bool', 'y_pred_prob_1'])\n",
    "pred_results_1_df['pred_bool'] = pred_results_1_df['pred_bool'] == 1\n",
    "pred_results_1_df.head()"
   ]
  },
  {
   "cell_type": "markdown",
   "id": "aae4aa67-7176-4eed-9170-2962f09aa935",
   "metadata": {},
   "source": [
    "Our prediction model performed decent on test data, with a final overall accuracy of 0.80. In addition, looking through the prediction results dataframe, there are a total of 46 mistakes. Of which, 31 mistakes were predicting diabetic as non-diabetic (false negatives) and 15 mistakes were made predicting diabetic as non-diabetic (false positives). Considering implementation in clinic, there is room for improvement in the algorithm as false negatives are more harmful than false positives, and we should aim to lower false positives even further."
   ]
  },
  {
   "cell_type": "code",
   "execution_count": 27,
   "id": "30250d8d-40d4-41e3-8560-48d2b8a56673",
   "metadata": {},
   "outputs": [
    {
     "data": {
      "text/html": [
       "<div>\n",
       "<style scoped>\n",
       "    .dataframe tbody tr th:only-of-type {\n",
       "        vertical-align: middle;\n",
       "    }\n",
       "\n",
       "    .dataframe tbody tr th {\n",
       "        vertical-align: top;\n",
       "    }\n",
       "\n",
       "    .dataframe thead th {\n",
       "        text-align: right;\n",
       "    }\n",
       "</style>\n",
       "<table border=\"1\" class=\"dataframe\">\n",
       "  <thead>\n",
       "    <tr style=\"text-align: right;\">\n",
       "      <th></th>\n",
       "      <th>accuracy</th>\n",
       "    </tr>\n",
       "  </thead>\n",
       "  <tbody>\n",
       "    <tr>\n",
       "      <th>0</th>\n",
       "      <td>0.800866</td>\n",
       "    </tr>\n",
       "  </tbody>\n",
       "</table>\n",
       "</div>"
      ],
      "text/plain": [
       "   accuracy\n",
       "0  0.800866"
      ]
     },
     "execution_count": 27,
     "metadata": {},
     "output_type": "execute_result"
    }
   ],
   "source": [
    "# Compute accuracy\n",
    "accuracy = best_model.score(X_test, y_test)\n",
    "\n",
    "pd.DataFrame({'accuracy': [accuracy]})"
   ]
  },
  {
   "cell_type": "code",
   "execution_count": 28,
   "id": "b7e43428-628a-4495-b078-60568d4276e9",
   "metadata": {},
   "outputs": [
    {
     "data": {
      "text/html": [
       "<div>\n",
       "<style scoped>\n",
       "    .dataframe tbody tr th:only-of-type {\n",
       "        vertical-align: middle;\n",
       "    }\n",
       "\n",
       "    .dataframe tbody tr th {\n",
       "        vertical-align: top;\n",
       "    }\n",
       "\n",
       "    .dataframe thead th {\n",
       "        text-align: right;\n",
       "    }\n",
       "</style>\n",
       "<table border=\"1\" class=\"dataframe\">\n",
       "  <thead>\n",
       "    <tr style=\"text-align: right;\">\n",
       "      <th></th>\n",
       "      <th>correct predictions</th>\n",
       "      <th>misclassifications</th>\n",
       "    </tr>\n",
       "  </thead>\n",
       "  <tbody>\n",
       "    <tr>\n",
       "      <th>0</th>\n",
       "      <td>185</td>\n",
       "      <td>46</td>\n",
       "    </tr>\n",
       "  </tbody>\n",
       "</table>\n",
       "</div>"
      ],
      "text/plain": [
       "   correct predictions  misclassifications\n",
       "0                  185                  46"
      ]
     },
     "execution_count": 28,
     "metadata": {},
     "output_type": "execute_result"
    }
   ],
   "source": [
    "# Calculate the number of correct predictions and misclassifications\n",
    "value_counts = pred_results_1_df['pred_bool'].value_counts()\n",
    "\n",
    "pd.DataFrame({\n",
    "    'correct predictions': [value_counts.get(True, 0)], \n",
    "    'misclassifications': [value_counts.get(False, 0)]\n",
    "})"
   ]
  },
  {
   "cell_type": "code",
   "execution_count": 29,
   "id": "056f09d2-a81b-42a4-bcaa-3837aeee29b4",
   "metadata": {},
   "outputs": [
    {
     "data": {
      "text/html": [
       "<div>\n",
       "<style scoped>\n",
       "    .dataframe tbody tr th:only-of-type {\n",
       "        vertical-align: middle;\n",
       "    }\n",
       "\n",
       "    .dataframe tbody tr th {\n",
       "        vertical-align: top;\n",
       "    }\n",
       "\n",
       "    .dataframe thead th {\n",
       "        text-align: right;\n",
       "    }\n",
       "</style>\n",
       "<table border=\"1\" class=\"dataframe\">\n",
       "  <thead>\n",
       "    <tr style=\"text-align: right;\">\n",
       "      <th></th>\n",
       "      <th>false positives</th>\n",
       "      <th>false negatives</th>\n",
       "    </tr>\n",
       "  </thead>\n",
       "  <tbody>\n",
       "    <tr>\n",
       "      <th>0</th>\n",
       "      <td>15</td>\n",
       "      <td>31</td>\n",
       "    </tr>\n",
       "  </tbody>\n",
       "</table>\n",
       "</div>"
      ],
      "text/plain": [
       "   false positives  false negatives\n",
       "0               15               31"
      ]
     },
     "execution_count": 29,
     "metadata": {},
     "output_type": "execute_result"
    }
   ],
   "source": [
    "# Calculate the number of false positives (FPs) and false negatives (FNs)\n",
    "fp = len(pred_results_1_df[(pred_results_1_df['y_test'] == 0) & (pred_results_1_df['y_pred'] == 1)])\n",
    "fn = len(pred_results_1_df[(pred_results_1_df['y_test'] == 1) & (pred_results_1_df['y_pred'] == 0)])\n",
    "\n",
    "pd.DataFrame({\n",
    "    'false positives': [fp], \n",
    "    'false negatives': [fn]\n",
    "})"
   ]
  },
  {
   "cell_type": "markdown",
   "id": "1f77a691-b4fc-41fb-850a-670064fcbc83",
   "metadata": {},
   "source": [
    "Moreover, visualizing prediction probabilities alongside the prediction accuracy for each test sample provides a clearer understanding of the model's performance. This approach allows us to easily assess how well the model predicts, while also highlighting patients who were misdiagnosed. Particularly, it helps us focus on false negatives, as the consequences of these errors are more critical in a clinical context."
   ]
  },
  {
   "cell_type": "code",
   "execution_count": 30,
   "id": "35218b3b-5536-40f5-909b-5e9f1374d49b",
   "metadata": {},
   "outputs": [
    {
     "data": {
      "text/html": [
       "\n",
       "<style>\n",
       "  #altair-viz-75fd2f0fdb124032b4a82d2d6c8f7fe6.vega-embed {\n",
       "    width: 100%;\n",
       "    display: flex;\n",
       "  }\n",
       "\n",
       "  #altair-viz-75fd2f0fdb124032b4a82d2d6c8f7fe6.vega-embed details,\n",
       "  #altair-viz-75fd2f0fdb124032b4a82d2d6c8f7fe6.vega-embed details summary {\n",
       "    position: relative;\n",
       "  }\n",
       "</style>\n",
       "<div id=\"altair-viz-75fd2f0fdb124032b4a82d2d6c8f7fe6\"></div>\n",
       "<script type=\"text/javascript\">\n",
       "  var VEGA_DEBUG = (typeof VEGA_DEBUG == \"undefined\") ? {} : VEGA_DEBUG;\n",
       "  (function(spec, embedOpt){\n",
       "    let outputDiv = document.currentScript.previousElementSibling;\n",
       "    if (outputDiv.id !== \"altair-viz-75fd2f0fdb124032b4a82d2d6c8f7fe6\") {\n",
       "      outputDiv = document.getElementById(\"altair-viz-75fd2f0fdb124032b4a82d2d6c8f7fe6\");\n",
       "    }\n",
       "\n",
       "    const paths = {\n",
       "      \"vega\": \"https://cdn.jsdelivr.net/npm/vega@5?noext\",\n",
       "      \"vega-lib\": \"https://cdn.jsdelivr.net/npm/vega-lib?noext\",\n",
       "      \"vega-lite\": \"https://cdn.jsdelivr.net/npm/vega-lite@5.20.1?noext\",\n",
       "      \"vega-embed\": \"https://cdn.jsdelivr.net/npm/vega-embed@6?noext\",\n",
       "    };\n",
       "\n",
       "    function maybeLoadScript(lib, version) {\n",
       "      var key = `${lib.replace(\"-\", \"\")}_version`;\n",
       "      return (VEGA_DEBUG[key] == version) ?\n",
       "        Promise.resolve(paths[lib]) :\n",
       "        new Promise(function(resolve, reject) {\n",
       "          var s = document.createElement('script');\n",
       "          document.getElementsByTagName(\"head\")[0].appendChild(s);\n",
       "          s.async = true;\n",
       "          s.onload = () => {\n",
       "            VEGA_DEBUG[key] = version;\n",
       "            return resolve(paths[lib]);\n",
       "          };\n",
       "          s.onerror = () => reject(`Error loading script: ${paths[lib]}`);\n",
       "          s.src = paths[lib];\n",
       "        });\n",
       "    }\n",
       "\n",
       "    function showError(err) {\n",
       "      outputDiv.innerHTML = `<div class=\"error\" style=\"color:red;\">${err}</div>`;\n",
       "      throw err;\n",
       "    }\n",
       "\n",
       "    function displayChart(vegaEmbed) {\n",
       "      vegaEmbed(outputDiv, spec, embedOpt)\n",
       "        .catch(err => showError(`Javascript Error: ${err.message}<br>This usually means there's a typo in your chart specification. See the javascript console for the full traceback.`));\n",
       "    }\n",
       "\n",
       "    if(typeof define === \"function\" && define.amd) {\n",
       "      requirejs.config({paths});\n",
       "      let deps = [\"vega-embed\"];\n",
       "      require(deps, displayChart, err => showError(`Error loading script: ${err.message}`));\n",
       "    } else {\n",
       "      maybeLoadScript(\"vega\", \"5\")\n",
       "        .then(() => maybeLoadScript(\"vega-lite\", \"5.20.1\"))\n",
       "        .then(() => maybeLoadScript(\"vega-embed\", \"6\"))\n",
       "        .catch(showError)\n",
       "        .then(() => displayChart(vegaEmbed));\n",
       "    }\n",
       "  })({\"config\": {\"view\": {\"continuousWidth\": 300, \"continuousHeight\": 300}}, \"data\": {\"name\": \"data-38a13ab2366770ff87120cd89d37e562\"}, \"mark\": {\"type\": \"tick\"}, \"encoding\": {\"color\": {\"field\": \"y_test\", \"title\": \"Outcome\", \"type\": \"nominal\"}, \"x\": {\"field\": \"y_pred_prob_1\", \"title\": \"Positive Class Prediction Prob\", \"type\": \"quantitative\"}, \"y\": {\"field\": \"pred_bool\", \"title\": \"Pred. Accuracy\", \"type\": \"nominal\"}}, \"title\": \"Test Set Prediction Accuracy\", \"$schema\": \"https://vega.github.io/schema/vega-lite/v5.20.1.json\", \"datasets\": {\"data-38a13ab2366770ff87120cd89d37e562\": [{\"y_test\": 1.0, \"y_pred\": 1.0, \"pred_bool\": true, \"y_pred_prob_1\": 0.8604463118065638}, {\"y_test\": 0.0, \"y_pred\": 0.0, \"pred_bool\": true, \"y_pred_prob_1\": 0.3539600815241192}, {\"y_test\": 0.0, \"y_pred\": 1.0, \"pred_bool\": false, \"y_pred_prob_1\": 0.652234543281263}, {\"y_test\": 0.0, \"y_pred\": 0.0, \"pred_bool\": true, \"y_pred_prob_1\": 0.05302419633473764}, {\"y_test\": 0.0, \"y_pred\": 0.0, \"pred_bool\": true, \"y_pred_prob_1\": 0.07386064797209661}, {\"y_test\": 1.0, \"y_pred\": 1.0, \"pred_bool\": true, \"y_pred_prob_1\": 0.6445829207737888}, {\"y_test\": 1.0, \"y_pred\": 1.0, \"pred_bool\": true, \"y_pred_prob_1\": 0.9123887479922315}, {\"y_test\": 1.0, \"y_pred\": 1.0, \"pred_bool\": true, \"y_pred_prob_1\": 0.5034802449885337}, {\"y_test\": 1.0, \"y_pred\": 1.0, \"pred_bool\": true, \"y_pred_prob_1\": 0.6131394426658867}, {\"y_test\": 0.0, \"y_pred\": 0.0, \"pred_bool\": true, \"y_pred_prob_1\": 0.30636423759222825}, {\"y_test\": 1.0, \"y_pred\": 1.0, \"pred_bool\": true, \"y_pred_prob_1\": 0.8735112530721754}, {\"y_test\": 0.0, \"y_pred\": 0.0, \"pred_bool\": true, \"y_pred_prob_1\": 0.186634344294775}, {\"y_test\": 0.0, \"y_pred\": 0.0, \"pred_bool\": true, \"y_pred_prob_1\": 0.12924655807424232}, {\"y_test\": 0.0, \"y_pred\": 0.0, \"pred_bool\": true, \"y_pred_prob_1\": 0.2451817460272949}, {\"y_test\": 1.0, \"y_pred\": 1.0, \"pred_bool\": true, \"y_pred_prob_1\": 0.8468069902509511}, {\"y_test\": 0.0, \"y_pred\": 0.0, \"pred_bool\": true, \"y_pred_prob_1\": 0.03909611255004487}, {\"y_test\": 1.0, \"y_pred\": 0.0, \"pred_bool\": false, \"y_pred_prob_1\": 0.2514472329216925}, {\"y_test\": 0.0, \"y_pred\": 0.0, \"pred_bool\": true, \"y_pred_prob_1\": 0.0724509561008087}, {\"y_test\": 0.0, \"y_pred\": 0.0, \"pred_bool\": true, \"y_pred_prob_1\": 0.05375627915393992}, {\"y_test\": 0.0, \"y_pred\": 0.0, \"pred_bool\": true, \"y_pred_prob_1\": 0.39984532402692513}, {\"y_test\": 0.0, \"y_pred\": 1.0, \"pred_bool\": false, \"y_pred_prob_1\": 0.6957811426541638}, {\"y_test\": 0.0, \"y_pred\": 0.0, \"pred_bool\": true, \"y_pred_prob_1\": 0.193354541778868}, {\"y_test\": 1.0, \"y_pred\": 0.0, \"pred_bool\": false, \"y_pred_prob_1\": 0.28471732426675395}, {\"y_test\": 1.0, \"y_pred\": 1.0, \"pred_bool\": true, \"y_pred_prob_1\": 0.9443609004683844}, {\"y_test\": 1.0, \"y_pred\": 1.0, \"pred_bool\": true, \"y_pred_prob_1\": 0.9531526053081482}, {\"y_test\": 0.0, \"y_pred\": 0.0, \"pred_bool\": true, \"y_pred_prob_1\": 0.12110092855313118}, {\"y_test\": 0.0, \"y_pred\": 0.0, \"pred_bool\": true, \"y_pred_prob_1\": 0.060541322284801885}, {\"y_test\": 1.0, \"y_pred\": 0.0, \"pred_bool\": false, \"y_pred_prob_1\": 0.2490201282238716}, {\"y_test\": 1.0, \"y_pred\": 0.0, \"pred_bool\": false, \"y_pred_prob_1\": 0.39839144393035075}, {\"y_test\": 1.0, \"y_pred\": 1.0, \"pred_bool\": true, \"y_pred_prob_1\": 0.8740212642412055}, {\"y_test\": 0.0, \"y_pred\": 0.0, \"pred_bool\": true, \"y_pred_prob_1\": 0.18772585945912046}, {\"y_test\": 1.0, \"y_pred\": 1.0, \"pred_bool\": true, \"y_pred_prob_1\": 0.8282256818431881}, {\"y_test\": 1.0, \"y_pred\": 1.0, \"pred_bool\": true, \"y_pred_prob_1\": 0.8331075062310365}, {\"y_test\": 0.0, \"y_pred\": 0.0, \"pred_bool\": true, \"y_pred_prob_1\": 0.12251552139013852}, {\"y_test\": 0.0, \"y_pred\": 0.0, \"pred_bool\": true, \"y_pred_prob_1\": 0.23069720349110018}, {\"y_test\": 0.0, \"y_pred\": 0.0, \"pred_bool\": true, \"y_pred_prob_1\": 0.2946008754263612}, {\"y_test\": 1.0, \"y_pred\": 1.0, \"pred_bool\": true, \"y_pred_prob_1\": 0.8876982790170147}, {\"y_test\": 0.0, \"y_pred\": 0.0, \"pred_bool\": true, \"y_pred_prob_1\": 0.13325322942268117}, {\"y_test\": 0.0, \"y_pred\": 0.0, \"pred_bool\": true, \"y_pred_prob_1\": 0.09787002669835107}, {\"y_test\": 1.0, \"y_pred\": 0.0, \"pred_bool\": false, \"y_pred_prob_1\": 0.28470493484016146}, {\"y_test\": 0.0, \"y_pred\": 0.0, \"pred_bool\": true, \"y_pred_prob_1\": 0.03443670060372912}, {\"y_test\": 1.0, \"y_pred\": 0.0, \"pred_bool\": false, \"y_pred_prob_1\": 0.2879309650923892}, {\"y_test\": 1.0, \"y_pred\": 0.0, \"pred_bool\": false, \"y_pred_prob_1\": 0.05867122290128794}, {\"y_test\": 0.0, \"y_pred\": 0.0, \"pred_bool\": true, \"y_pred_prob_1\": 0.3742206587390708}, {\"y_test\": 0.0, \"y_pred\": 0.0, \"pred_bool\": true, \"y_pred_prob_1\": 0.1837942654530453}, {\"y_test\": 0.0, \"y_pred\": 0.0, \"pred_bool\": true, \"y_pred_prob_1\": 0.44523965134766413}, {\"y_test\": 0.0, \"y_pred\": 1.0, \"pred_bool\": false, \"y_pred_prob_1\": 0.7413873271528229}, {\"y_test\": 0.0, \"y_pred\": 0.0, \"pred_bool\": true, \"y_pred_prob_1\": 0.02373551229062725}, {\"y_test\": 0.0, \"y_pred\": 0.0, \"pred_bool\": true, \"y_pred_prob_1\": 0.13840383189855127}, {\"y_test\": 0.0, \"y_pred\": 0.0, \"pred_bool\": true, \"y_pred_prob_1\": 0.05388998206573453}, {\"y_test\": 0.0, \"y_pred\": 0.0, \"pred_bool\": true, \"y_pred_prob_1\": 0.03932893147802442}, {\"y_test\": 0.0, \"y_pred\": 0.0, \"pred_bool\": true, \"y_pred_prob_1\": 0.07096779602700391}, {\"y_test\": 0.0, \"y_pred\": 0.0, \"pred_bool\": true, \"y_pred_prob_1\": 0.13986993918967536}, {\"y_test\": 0.0, \"y_pred\": 0.0, \"pred_bool\": true, \"y_pred_prob_1\": 0.03657767295472364}, {\"y_test\": 0.0, \"y_pred\": 0.0, \"pred_bool\": true, \"y_pred_prob_1\": 0.20936184809974015}, {\"y_test\": 0.0, \"y_pred\": 0.0, \"pred_bool\": true, \"y_pred_prob_1\": 0.1002823563379362}, {\"y_test\": 1.0, \"y_pred\": 1.0, \"pred_bool\": true, \"y_pred_prob_1\": 0.6577554363301037}, {\"y_test\": 1.0, \"y_pred\": 1.0, \"pred_bool\": true, \"y_pred_prob_1\": 0.5142627918261005}, {\"y_test\": 1.0, \"y_pred\": 1.0, \"pred_bool\": true, \"y_pred_prob_1\": 0.6994435772659848}, {\"y_test\": 0.0, \"y_pred\": 1.0, \"pred_bool\": false, \"y_pred_prob_1\": 0.5539955171973623}, {\"y_test\": 0.0, \"y_pred\": 0.0, \"pred_bool\": true, \"y_pred_prob_1\": 0.30797725836351403}, {\"y_test\": 1.0, \"y_pred\": 0.0, \"pred_bool\": false, \"y_pred_prob_1\": 0.017028680059074333}, {\"y_test\": 1.0, \"y_pred\": 1.0, \"pred_bool\": true, \"y_pred_prob_1\": 0.6622275962225118}, {\"y_test\": 0.0, \"y_pred\": 0.0, \"pred_bool\": true, \"y_pred_prob_1\": 0.11441545494874134}, {\"y_test\": 1.0, \"y_pred\": 0.0, \"pred_bool\": false, \"y_pred_prob_1\": 0.2354392726393832}, {\"y_test\": 0.0, \"y_pred\": 0.0, \"pred_bool\": true, \"y_pred_prob_1\": 0.0024844391448251976}, {\"y_test\": 1.0, \"y_pred\": 1.0, \"pred_bool\": true, \"y_pred_prob_1\": 0.8914071508171817}, {\"y_test\": 0.0, \"y_pred\": 0.0, \"pred_bool\": true, \"y_pred_prob_1\": 0.32728971095169673}, {\"y_test\": 0.0, \"y_pred\": 0.0, \"pred_bool\": true, \"y_pred_prob_1\": 0.03692356462649019}, {\"y_test\": 0.0, \"y_pred\": 0.0, \"pred_bool\": true, \"y_pred_prob_1\": 0.2773561330385545}, {\"y_test\": 0.0, \"y_pred\": 0.0, \"pred_bool\": true, \"y_pred_prob_1\": 0.3348334405857192}, {\"y_test\": 1.0, \"y_pred\": 0.0, \"pred_bool\": false, \"y_pred_prob_1\": 0.4500707013305544}, {\"y_test\": 1.0, \"y_pred\": 1.0, \"pred_bool\": true, \"y_pred_prob_1\": 0.7624993589272959}, {\"y_test\": 0.0, \"y_pred\": 0.0, \"pred_bool\": true, \"y_pred_prob_1\": 0.14931317654937193}, {\"y_test\": 1.0, \"y_pred\": 1.0, \"pred_bool\": true, \"y_pred_prob_1\": 0.632614650533688}, {\"y_test\": 0.0, \"y_pred\": 0.0, \"pred_bool\": true, \"y_pred_prob_1\": 0.05494356277287973}, {\"y_test\": 0.0, \"y_pred\": 0.0, \"pred_bool\": true, \"y_pred_prob_1\": 0.0744881468696627}, {\"y_test\": 1.0, \"y_pred\": 0.0, \"pred_bool\": false, \"y_pred_prob_1\": 0.35235262300712017}, {\"y_test\": 1.0, \"y_pred\": 0.0, \"pred_bool\": false, \"y_pred_prob_1\": 0.4694013213055917}, {\"y_test\": 1.0, \"y_pred\": 0.0, \"pred_bool\": false, \"y_pred_prob_1\": 0.15635949953705924}, {\"y_test\": 0.0, \"y_pred\": 0.0, \"pred_bool\": true, \"y_pred_prob_1\": 0.322202121497915}, {\"y_test\": 0.0, \"y_pred\": 1.0, \"pred_bool\": false, \"y_pred_prob_1\": 0.8787257557512762}, {\"y_test\": 0.0, \"y_pred\": 0.0, \"pred_bool\": true, \"y_pred_prob_1\": 0.05614513502925242}, {\"y_test\": 0.0, \"y_pred\": 1.0, \"pred_bool\": false, \"y_pred_prob_1\": 0.6602449729615795}, {\"y_test\": 0.0, \"y_pred\": 0.0, \"pred_bool\": true, \"y_pred_prob_1\": 0.32960030239111077}, {\"y_test\": 0.0, \"y_pred\": 0.0, \"pred_bool\": true, \"y_pred_prob_1\": 0.03125157538347724}, {\"y_test\": 1.0, \"y_pred\": 1.0, \"pred_bool\": true, \"y_pred_prob_1\": 0.6954077403335587}, {\"y_test\": 0.0, \"y_pred\": 0.0, \"pred_bool\": true, \"y_pred_prob_1\": 0.08273802594724303}, {\"y_test\": 1.0, \"y_pred\": 1.0, \"pred_bool\": true, \"y_pred_prob_1\": 0.916980299689296}, {\"y_test\": 1.0, \"y_pred\": 0.0, \"pred_bool\": false, \"y_pred_prob_1\": 0.4859394183649734}, {\"y_test\": 0.0, \"y_pred\": 0.0, \"pred_bool\": true, \"y_pred_prob_1\": 0.08410838844180256}, {\"y_test\": 0.0, \"y_pred\": 0.0, \"pred_bool\": true, \"y_pred_prob_1\": 0.39758215980966655}, {\"y_test\": 0.0, \"y_pred\": 0.0, \"pred_bool\": true, \"y_pred_prob_1\": 0.09018992561225161}, {\"y_test\": 0.0, \"y_pred\": 0.0, \"pred_bool\": true, \"y_pred_prob_1\": 0.22979524468646711}, {\"y_test\": 0.0, \"y_pred\": 0.0, \"pred_bool\": true, \"y_pred_prob_1\": 0.456220412814624}, {\"y_test\": 0.0, \"y_pred\": 0.0, \"pred_bool\": true, \"y_pred_prob_1\": 0.14524179016008798}, {\"y_test\": 0.0, \"y_pred\": 0.0, \"pred_bool\": true, \"y_pred_prob_1\": 0.2654226225203456}, {\"y_test\": 1.0, \"y_pred\": 1.0, \"pred_bool\": true, \"y_pred_prob_1\": 0.8851623143999613}, {\"y_test\": 0.0, \"y_pred\": 0.0, \"pred_bool\": true, \"y_pred_prob_1\": 0.2240796208290421}, {\"y_test\": 0.0, \"y_pred\": 0.0, \"pred_bool\": true, \"y_pred_prob_1\": 0.20459259246038078}, {\"y_test\": 1.0, \"y_pred\": 0.0, \"pred_bool\": false, \"y_pred_prob_1\": 0.40270749016630447}, {\"y_test\": 1.0, \"y_pred\": 1.0, \"pred_bool\": true, \"y_pred_prob_1\": 0.7161197591121115}, {\"y_test\": 0.0, \"y_pred\": 0.0, \"pred_bool\": true, \"y_pred_prob_1\": 0.006829488240765974}, {\"y_test\": 0.0, \"y_pred\": 0.0, \"pred_bool\": true, \"y_pred_prob_1\": 0.09808676622930158}, {\"y_test\": 0.0, \"y_pred\": 0.0, \"pred_bool\": true, \"y_pred_prob_1\": 0.039503172486708864}, {\"y_test\": 1.0, \"y_pred\": 0.0, \"pred_bool\": false, \"y_pred_prob_1\": 0.28208070310071615}, {\"y_test\": 0.0, \"y_pred\": 0.0, \"pred_bool\": true, \"y_pred_prob_1\": 0.03496970577454596}, {\"y_test\": 1.0, \"y_pred\": 1.0, \"pred_bool\": true, \"y_pred_prob_1\": 0.7575140350148234}, {\"y_test\": 0.0, \"y_pred\": 0.0, \"pred_bool\": true, \"y_pred_prob_1\": 0.4887152259196243}, {\"y_test\": 0.0, \"y_pred\": 0.0, \"pred_bool\": true, \"y_pred_prob_1\": 0.10152306705440162}, {\"y_test\": 1.0, \"y_pred\": 1.0, \"pred_bool\": true, \"y_pred_prob_1\": 0.6774292305642712}, {\"y_test\": 0.0, \"y_pred\": 0.0, \"pred_bool\": true, \"y_pred_prob_1\": 0.06721197404462573}, {\"y_test\": 1.0, \"y_pred\": 1.0, \"pred_bool\": true, \"y_pred_prob_1\": 0.6428288921115178}, {\"y_test\": 1.0, \"y_pred\": 1.0, \"pred_bool\": true, \"y_pred_prob_1\": 0.7453643063637398}, {\"y_test\": 0.0, \"y_pred\": 1.0, \"pred_bool\": false, \"y_pred_prob_1\": 0.6058253107314024}, {\"y_test\": 0.0, \"y_pred\": 0.0, \"pred_bool\": true, \"y_pred_prob_1\": 0.049791034444999986}, {\"y_test\": 0.0, \"y_pred\": 0.0, \"pred_bool\": true, \"y_pred_prob_1\": 0.07571174728302117}, {\"y_test\": 1.0, \"y_pred\": 1.0, \"pred_bool\": true, \"y_pred_prob_1\": 0.7336804235627248}, {\"y_test\": 0.0, \"y_pred\": 0.0, \"pred_bool\": true, \"y_pred_prob_1\": 0.3441736169507693}, {\"y_test\": 1.0, \"y_pred\": 0.0, \"pred_bool\": false, \"y_pred_prob_1\": 0.2187106432646941}, {\"y_test\": 0.0, \"y_pred\": 0.0, \"pred_bool\": true, \"y_pred_prob_1\": 0.364310762472645}, {\"y_test\": 1.0, \"y_pred\": 1.0, \"pred_bool\": true, \"y_pred_prob_1\": 0.6603024414857899}, {\"y_test\": 0.0, \"y_pred\": 0.0, \"pred_bool\": true, \"y_pred_prob_1\": 0.35683760578659685}, {\"y_test\": 0.0, \"y_pred\": 0.0, \"pred_bool\": true, \"y_pred_prob_1\": 0.4643499783355288}, {\"y_test\": 0.0, \"y_pred\": 0.0, \"pred_bool\": true, \"y_pred_prob_1\": 0.11185916310529778}, {\"y_test\": 1.0, \"y_pred\": 1.0, \"pred_bool\": true, \"y_pred_prob_1\": 0.8573312397187705}, {\"y_test\": 1.0, \"y_pred\": 0.0, \"pred_bool\": false, \"y_pred_prob_1\": 0.2304757436554636}, {\"y_test\": 0.0, \"y_pred\": 0.0, \"pred_bool\": true, \"y_pred_prob_1\": 0.2867686003697025}, {\"y_test\": 0.0, \"y_pred\": 0.0, \"pred_bool\": true, \"y_pred_prob_1\": 0.23652223307209858}, {\"y_test\": 0.0, \"y_pred\": 0.0, \"pred_bool\": true, \"y_pred_prob_1\": 0.16689310339594116}, {\"y_test\": 0.0, \"y_pred\": 0.0, \"pred_bool\": true, \"y_pred_prob_1\": 0.10509109422647472}, {\"y_test\": 1.0, \"y_pred\": 1.0, \"pred_bool\": true, \"y_pred_prob_1\": 0.5260950698271345}, {\"y_test\": 1.0, \"y_pred\": 1.0, \"pred_bool\": true, \"y_pred_prob_1\": 0.9136000436536841}, {\"y_test\": 0.0, \"y_pred\": 0.0, \"pred_bool\": true, \"y_pred_prob_1\": 0.03629181594989688}, {\"y_test\": 1.0, \"y_pred\": 0.0, \"pred_bool\": false, \"y_pred_prob_1\": 0.17142652057970909}, {\"y_test\": 0.0, \"y_pred\": 0.0, \"pred_bool\": true, \"y_pred_prob_1\": 0.06395848653040954}, {\"y_test\": 0.0, \"y_pred\": 0.0, \"pred_bool\": true, \"y_pred_prob_1\": 0.04040404349101727}, {\"y_test\": 1.0, \"y_pred\": 1.0, \"pred_bool\": true, \"y_pred_prob_1\": 0.7246076237777073}, {\"y_test\": 0.0, \"y_pred\": 0.0, \"pred_bool\": true, \"y_pred_prob_1\": 0.0843306657793908}, {\"y_test\": 0.0, \"y_pred\": 0.0, \"pred_bool\": true, \"y_pred_prob_1\": 0.194759801748526}, {\"y_test\": 1.0, \"y_pred\": 1.0, \"pred_bool\": true, \"y_pred_prob_1\": 0.6517781963582039}, {\"y_test\": 0.0, \"y_pred\": 1.0, \"pred_bool\": false, \"y_pred_prob_1\": 0.7580446575145353}, {\"y_test\": 1.0, \"y_pred\": 0.0, \"pred_bool\": false, \"y_pred_prob_1\": 0.02900053867147529}, {\"y_test\": 0.0, \"y_pred\": 0.0, \"pred_bool\": true, \"y_pred_prob_1\": 0.046911814168086916}, {\"y_test\": 0.0, \"y_pred\": 0.0, \"pred_bool\": true, \"y_pred_prob_1\": 0.18682711388884152}, {\"y_test\": 0.0, \"y_pred\": 0.0, \"pred_bool\": true, \"y_pred_prob_1\": 0.2084834722234496}, {\"y_test\": 0.0, \"y_pred\": 0.0, \"pred_bool\": true, \"y_pred_prob_1\": 0.13584417956725683}, {\"y_test\": 1.0, \"y_pred\": 0.0, \"pred_bool\": false, \"y_pred_prob_1\": 0.3400850982724688}, {\"y_test\": 1.0, \"y_pred\": 0.0, \"pred_bool\": false, \"y_pred_prob_1\": 0.2384605632617639}, {\"y_test\": 0.0, \"y_pred\": 0.0, \"pred_bool\": true, \"y_pred_prob_1\": 0.04449842651552453}, {\"y_test\": 1.0, \"y_pred\": 1.0, \"pred_bool\": true, \"y_pred_prob_1\": 0.920483400733339}, {\"y_test\": 0.0, \"y_pred\": 0.0, \"pred_bool\": true, \"y_pred_prob_1\": 0.05511482038745942}, {\"y_test\": 0.0, \"y_pred\": 0.0, \"pred_bool\": true, \"y_pred_prob_1\": 0.16339310873739205}, {\"y_test\": 0.0, \"y_pred\": 0.0, \"pred_bool\": true, \"y_pred_prob_1\": 0.079338141505367}, {\"y_test\": 0.0, \"y_pred\": 0.0, \"pred_bool\": true, \"y_pred_prob_1\": 0.27286396031514853}, {\"y_test\": 0.0, \"y_pred\": 0.0, \"pred_bool\": true, \"y_pred_prob_1\": 0.21885588886543347}, {\"y_test\": 1.0, \"y_pred\": 1.0, \"pred_bool\": true, \"y_pred_prob_1\": 0.6810292505125253}, {\"y_test\": 0.0, \"y_pred\": 0.0, \"pred_bool\": true, \"y_pred_prob_1\": 0.0790918411166949}, {\"y_test\": 0.0, \"y_pred\": 0.0, \"pred_bool\": true, \"y_pred_prob_1\": 0.12116190882921116}, {\"y_test\": 1.0, \"y_pred\": 1.0, \"pred_bool\": true, \"y_pred_prob_1\": 0.6567729963045342}, {\"y_test\": 0.0, \"y_pred\": 0.0, \"pred_bool\": true, \"y_pred_prob_1\": 0.30811784045401175}, {\"y_test\": 0.0, \"y_pred\": 0.0, \"pred_bool\": true, \"y_pred_prob_1\": 0.1167705793437001}, {\"y_test\": 0.0, \"y_pred\": 0.0, \"pred_bool\": true, \"y_pred_prob_1\": 0.3009762448358145}, {\"y_test\": 0.0, \"y_pred\": 1.0, \"pred_bool\": false, \"y_pred_prob_1\": 0.7511282836742229}, {\"y_test\": 1.0, \"y_pred\": 1.0, \"pred_bool\": true, \"y_pred_prob_1\": 0.8396588490377752}, {\"y_test\": 1.0, \"y_pred\": 0.0, \"pred_bool\": false, \"y_pred_prob_1\": 0.49229260184196166}, {\"y_test\": 0.0, \"y_pred\": 0.0, \"pred_bool\": true, \"y_pred_prob_1\": 0.1262502805307859}, {\"y_test\": 0.0, \"y_pred\": 0.0, \"pred_bool\": true, \"y_pred_prob_1\": 0.2085569523078518}, {\"y_test\": 0.0, \"y_pred\": 0.0, \"pred_bool\": true, \"y_pred_prob_1\": 0.20275190072518995}, {\"y_test\": 1.0, \"y_pred\": 1.0, \"pred_bool\": true, \"y_pred_prob_1\": 0.7923626813324908}, {\"y_test\": 1.0, \"y_pred\": 0.0, \"pred_bool\": false, \"y_pred_prob_1\": 0.3709490862853987}, {\"y_test\": 1.0, \"y_pred\": 1.0, \"pred_bool\": true, \"y_pred_prob_1\": 0.8273418235363534}, {\"y_test\": 0.0, \"y_pred\": 0.0, \"pred_bool\": true, \"y_pred_prob_1\": 0.4671798515064242}, {\"y_test\": 0.0, \"y_pred\": 0.0, \"pred_bool\": true, \"y_pred_prob_1\": 0.14295067321560637}, {\"y_test\": 0.0, \"y_pred\": 0.0, \"pred_bool\": true, \"y_pred_prob_1\": 0.34663334357261344}, {\"y_test\": 1.0, \"y_pred\": 0.0, \"pred_bool\": false, \"y_pred_prob_1\": 0.15099120345237793}, {\"y_test\": 0.0, \"y_pred\": 0.0, \"pred_bool\": true, \"y_pred_prob_1\": 0.15187889261315196}, {\"y_test\": 1.0, \"y_pred\": 0.0, \"pred_bool\": false, \"y_pred_prob_1\": 0.14695454953637177}, {\"y_test\": 1.0, \"y_pred\": 1.0, \"pred_bool\": true, \"y_pred_prob_1\": 0.6484509596728292}, {\"y_test\": 1.0, \"y_pred\": 1.0, \"pred_bool\": true, \"y_pred_prob_1\": 0.7541331181270295}, {\"y_test\": 0.0, \"y_pred\": 0.0, \"pred_bool\": true, \"y_pred_prob_1\": 0.1020859089260601}, {\"y_test\": 1.0, \"y_pred\": 1.0, \"pred_bool\": true, \"y_pred_prob_1\": 0.7155296761085055}, {\"y_test\": 1.0, \"y_pred\": 1.0, \"pred_bool\": true, \"y_pred_prob_1\": 0.8012445267939536}, {\"y_test\": 0.0, \"y_pred\": 0.0, \"pred_bool\": true, \"y_pred_prob_1\": 0.1252115712430592}, {\"y_test\": 1.0, \"y_pred\": 1.0, \"pred_bool\": true, \"y_pred_prob_1\": 0.6452008762644053}, {\"y_test\": 0.0, \"y_pred\": 0.0, \"pred_bool\": true, \"y_pred_prob_1\": 0.4190536074450921}, {\"y_test\": 0.0, \"y_pred\": 0.0, \"pred_bool\": true, \"y_pred_prob_1\": 0.029765413555230665}, {\"y_test\": 0.0, \"y_pred\": 1.0, \"pred_bool\": false, \"y_pred_prob_1\": 0.5196319675032555}, {\"y_test\": 1.0, \"y_pred\": 0.0, \"pred_bool\": false, \"y_pred_prob_1\": 0.4440547676316324}, {\"y_test\": 0.0, \"y_pred\": 0.0, \"pred_bool\": true, \"y_pred_prob_1\": 0.10002292765537694}, {\"y_test\": 0.0, \"y_pred\": 1.0, \"pred_bool\": false, \"y_pred_prob_1\": 0.597410540029517}, {\"y_test\": 0.0, \"y_pred\": 0.0, \"pred_bool\": true, \"y_pred_prob_1\": 0.10108381584683761}, {\"y_test\": 1.0, \"y_pred\": 0.0, \"pred_bool\": false, \"y_pred_prob_1\": 0.4766025204152058}, {\"y_test\": 1.0, \"y_pred\": 1.0, \"pred_bool\": true, \"y_pred_prob_1\": 0.5480494138630032}, {\"y_test\": 0.0, \"y_pred\": 0.0, \"pred_bool\": true, \"y_pred_prob_1\": 0.050108597922710434}, {\"y_test\": 0.0, \"y_pred\": 0.0, \"pred_bool\": true, \"y_pred_prob_1\": 0.1772201793996915}, {\"y_test\": 0.0, \"y_pred\": 0.0, \"pred_bool\": true, \"y_pred_prob_1\": 0.03337483886241898}, {\"y_test\": 0.0, \"y_pred\": 0.0, \"pred_bool\": true, \"y_pred_prob_1\": 0.00878540571961185}, {\"y_test\": 0.0, \"y_pred\": 1.0, \"pred_bool\": false, \"y_pred_prob_1\": 0.6465132208714214}, {\"y_test\": 0.0, \"y_pred\": 0.0, \"pred_bool\": true, \"y_pred_prob_1\": 0.0969976130609253}, {\"y_test\": 0.0, \"y_pred\": 0.0, \"pred_bool\": true, \"y_pred_prob_1\": 0.09216378013210519}, {\"y_test\": 0.0, \"y_pred\": 0.0, \"pred_bool\": true, \"y_pred_prob_1\": 0.03445800246987697}, {\"y_test\": 0.0, \"y_pred\": 0.0, \"pred_bool\": true, \"y_pred_prob_1\": 0.09541107224646342}, {\"y_test\": 1.0, \"y_pred\": 1.0, \"pred_bool\": true, \"y_pred_prob_1\": 0.6269962808010202}, {\"y_test\": 1.0, \"y_pred\": 1.0, \"pred_bool\": true, \"y_pred_prob_1\": 0.6936180819156477}, {\"y_test\": 0.0, \"y_pred\": 0.0, \"pred_bool\": true, \"y_pred_prob_1\": 0.06479640186152975}, {\"y_test\": 1.0, \"y_pred\": 1.0, \"pred_bool\": true, \"y_pred_prob_1\": 0.9015163679145148}, {\"y_test\": 1.0, \"y_pred\": 1.0, \"pred_bool\": true, \"y_pred_prob_1\": 0.8746435002436491}, {\"y_test\": 0.0, \"y_pred\": 0.0, \"pred_bool\": true, \"y_pred_prob_1\": 0.20429202188393453}, {\"y_test\": 0.0, \"y_pred\": 1.0, \"pred_bool\": false, \"y_pred_prob_1\": 0.6356765210939096}, {\"y_test\": 0.0, \"y_pred\": 0.0, \"pred_bool\": true, \"y_pred_prob_1\": 0.17551923739111858}, {\"y_test\": 1.0, \"y_pred\": 1.0, \"pred_bool\": true, \"y_pred_prob_1\": 0.7240496151730363}, {\"y_test\": 0.0, \"y_pred\": 0.0, \"pred_bool\": true, \"y_pred_prob_1\": 0.10106665443736129}, {\"y_test\": 1.0, \"y_pred\": 1.0, \"pred_bool\": true, \"y_pred_prob_1\": 0.6233333840873896}, {\"y_test\": 0.0, \"y_pred\": 0.0, \"pred_bool\": true, \"y_pred_prob_1\": 0.3584389542793578}, {\"y_test\": 0.0, \"y_pred\": 0.0, \"pred_bool\": true, \"y_pred_prob_1\": 0.42443228074582257}, {\"y_test\": 0.0, \"y_pred\": 1.0, \"pred_bool\": false, \"y_pred_prob_1\": 0.7421974774330293}, {\"y_test\": 0.0, \"y_pred\": 0.0, \"pred_bool\": true, \"y_pred_prob_1\": 0.09919803468171111}, {\"y_test\": 1.0, \"y_pred\": 1.0, \"pred_bool\": true, \"y_pred_prob_1\": 0.965839060247099}, {\"y_test\": 1.0, \"y_pred\": 1.0, \"pred_bool\": true, \"y_pred_prob_1\": 0.7561444884462043}, {\"y_test\": 1.0, \"y_pred\": 1.0, \"pred_bool\": true, \"y_pred_prob_1\": 0.6671718358975464}, {\"y_test\": 1.0, \"y_pred\": 1.0, \"pred_bool\": true, \"y_pred_prob_1\": 0.936737660338911}, {\"y_test\": 0.0, \"y_pred\": 0.0, \"pred_bool\": true, \"y_pred_prob_1\": 0.2713376233759363}, {\"y_test\": 1.0, \"y_pred\": 0.0, \"pred_bool\": false, \"y_pred_prob_1\": 0.31356047905910145}, {\"y_test\": 1.0, \"y_pred\": 0.0, \"pred_bool\": false, \"y_pred_prob_1\": 0.2170846076370655}, {\"y_test\": 1.0, \"y_pred\": 0.0, \"pred_bool\": false, \"y_pred_prob_1\": 0.39607668404096347}, {\"y_test\": 0.0, \"y_pred\": 0.0, \"pred_bool\": true, \"y_pred_prob_1\": 0.15931695109092586}, {\"y_test\": 0.0, \"y_pred\": 1.0, \"pred_bool\": false, \"y_pred_prob_1\": 0.7397298977935012}, {\"y_test\": 0.0, \"y_pred\": 0.0, \"pred_bool\": true, \"y_pred_prob_1\": 0.06739479850605458}, {\"y_test\": 0.0, \"y_pred\": 0.0, \"pred_bool\": true, \"y_pred_prob_1\": 0.30059550688851655}, {\"y_test\": 0.0, \"y_pred\": 0.0, \"pred_bool\": true, \"y_pred_prob_1\": 0.2759727363952057}]}}, {\"mode\": \"vega-lite\"});\n",
       "</script>"
      ],
      "text/plain": [
       "alt.Chart(...)"
      ]
     },
     "execution_count": 30,
     "metadata": {},
     "output_type": "execute_result"
    }
   ],
   "source": [
    "alt.Chart(pred_results_1_df, title = 'Test Set Prediction Accuracy').mark_tick().encode(\n",
    "    x = alt.X('y_pred_prob_1').title('Positive Class Prediction Prob'),\n",
    "    y = alt.Y('pred_bool').title('Pred. Accuracy'),\n",
    "    color = alt.Color('y_test:N').title('Outcome')\n",
    ")"
   ]
  },
  {
   "cell_type": "markdown",
   "id": "355be816-f4fe-4416-920c-7f8d922daac3",
   "metadata": {},
   "source": [
    "Figure 4: Test Set Prediction Accuracy by Prediction Probability"
   ]
  },
  {
   "cell_type": "markdown",
   "id": "7c5157e9-de23-4f0f-bdcd-7e3e508f3572",
   "metadata": {},
   "source": [
    "While the performance of this model may be valuable as a screening tool in a clinical context, especially given its improvements over the baseline, there are several opportunities for further enhancement. One potential approach is to closely examine the 46 misclassified observations, comparing them with correctly classified examples from both classes. The objective would be to identify which features may be contributing to the misclassifications and investigate whether feature engineering could help the model improve its predictions on the observations it is currently struggling with. Additionally, we would try seeing whether we can get improved predictions using other classifiers. Other classifiers we might try are 1) random forest because it automatically allows for feature interaction, 2) k-nearest neighbours (k-NN) which usually provides easily interpretable and decent predictions, and 3) support vector classifier (SVC) as it allows for non-linear prediction using the rbf kernel. Finally, there runs the possibility that the features offered from this dataset alone are not sufficient to predict with high accuracy. In this case, conducting additional conversations with data collectors for additional useable information or explore additional datasets that can be joined so our set of features can be expanded for more complicated analysis might be beneficial. \n",
    "\n",
    "At last, we recognize the limitation with this dataset, as it focuses solely on Pima Indian women aged 21 and older, which limits its generalizability to other populations. To improve the analysis, it would be valuable to combine this data with other datasets representing different age groups, genders, and ethnicities, enabling more comprehensive insights and broader applicability of the findings."
   ]
  },
  {
   "cell_type": "markdown",
   "id": "973fcb4d-ee7e-4367-a0d6-8e674bf4eb85",
   "metadata": {},
   "source": [
    "# References"
   ]
  },
  {
   "cell_type": "markdown",
   "id": "13a22e58-2428-4858-bef1-c90c600813d1",
   "metadata": {},
   "source": [
    "Agarwal, N., & Vadiwala, R. (2022). Machine Learning and Data Mining Methods in Diabetes Research. Asian Journal of Organic & Medicinal Chemistry.\n",
    " \n",
    "Battineni, G., Sagaro, G. G., Chinatalapudi, N., & Amenta, F. (2020). Applications of machine learning predictive models in the chronic disease diagnosis. Journal of personalized medicine, 10(2), 21.\n",
    " \n",
    "Bini, S. A. (2018). Artificial intelligence, machine learning, deep learning, and cognitive computing: what do these terms mean and how will they impact health care?. The Journal of arthroplasty, 33(8), 2358-2361.\n",
    " \n",
    "Dua, D., & Graff, C. (2017). Pima Indians Diabetes Database. UCI Machine Learning Repository. Retrieved from https://www.kaggle.com/datasets/uciml/pima-indians-diabetes-database/data\n",
    " \n",
    "Marshall, S. M., & Flyvbjerg, A. (2006). Prevention and early detection of vascular complications of diabetes. Bmj, 333(7566), 475-480.\n",
    "  \n",
    "World Health Organization. (n.d.). Diabetes. Retrieved November 22, 2024, from https://www.who.int/news-room/fact-sheets/detail/diabetes"
   ]
  }
 ],
 "metadata": {
  "kernelspec": {
   "display_name": "Python [conda env:diabetes_predictor]",
   "language": "python",
   "name": "conda-env-diabetes_predictor-py"
  },
  "language_info": {
   "codemirror_mode": {
    "name": "ipython",
    "version": 3
   },
   "file_extension": ".py",
   "mimetype": "text/x-python",
   "name": "python",
   "nbconvert_exporter": "python",
   "pygments_lexer": "ipython3",
   "version": "3.11.10"
  }
 },
 "nbformat": 4,
 "nbformat_minor": 5
}
