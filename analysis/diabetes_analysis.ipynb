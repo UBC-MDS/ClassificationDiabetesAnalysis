{
 "cells": [
  {
   "cell_type": "markdown",
   "id": "c1ccc1e2-a61b-46f8-93bd-858632081bbd",
   "metadata": {},
   "source": [
    "# Predicting Diabetes in Pima Indian Women Using Logistic Regression"
   ]
  },
  {
   "cell_type": "markdown",
   "id": "fe8be4d5-b89d-4d82-8764-eff066fd63ce",
   "metadata": {},
   "source": [
    "By Inder Khera, Javier Martinez, Jenny Zhang & Jessica Kuo (alphabetically ordered), 2024/11/23"
   ]
  },
  {
   "cell_type": "code",
   "execution_count": 1,
   "id": "56ae3098-c2d3-49f8-8019-b8ed4ddd78df",
   "metadata": {},
   "outputs": [],
   "source": [
    "import numpy as np\n",
    "import pandas as pd\n",
    "from scipy.stats import loguniform\n",
    "\n",
    "import altair as alt\n",
    "import altair_ally as aly\n",
    "\n",
    "from sklearn.pipeline import Pipeline, make_pipeline\n",
    "from sklearn.model_selection import (\n",
    "    RandomizedSearchCV,\n",
    "    cross_validate,\n",
    "    cross_val_score,\n",
    "    train_test_split,\n",
    ")\n",
    "from sklearn.preprocessing import StandardScaler\n",
    "from sklearn.pipeline import Pipeline, make_pipeline\n",
    "from sklearn.compose import make_column_transformer\n",
    "from sklearn.dummy import DummyClassifier\n",
    "from sklearn.linear_model import LogisticRegression\n",
    "\n",
    "import pandera as pa\n",
    "from deepchecks.tabular import Dataset\n",
    "from deepchecks.tabular.checks import (\n",
    "    ClassImbalance, \n",
    "    PercentOfNulls,\n",
    "    OutlierSampleDetection,\n",
    "    DataDuplicates,\n",
    "    MixedDataTypes,\n",
    "    FeatureLabelCorrelation, \n",
    "    FeatureFeatureCorrelation\n",
    ")\n",
    "from deepchecks.tabular.checks.data_integrity import PercentOfNulls\n",
    "\n",
    "import warnings\n",
    "import json\n",
    "import logging"
   ]
  },
  {
   "cell_type": "markdown",
   "id": "0f464a8d-35d0-4b26-8013-3f6481017712",
   "metadata": {},
   "source": [
    "# Summary\n",
    "\n",
    "This study evaluated logistic regression for predicting diabetes in Pima Indian women using features such as glucose levels, BMI, and pregnancies. The model achieved 75% accuracy on the test set, outperforming the baseline dummy classifier's 67.20%. Glucose was the most significant predictor, followed by BMI and pregnancies, while blood pressure and insulin had weaker impacts. The model misclassified 54 cases, with 35 false negatives and 19 false positives, highlighting areas for improvement.\n",
    "\n",
    "The results indicate that logistic regression is a promising tool for diabetes screening, providing an efficient way to identify potential cases. However, the high number of false negatives is concerning, as they could lead to delayed diagnoses and treatments. Future improvements could include feature engineering to address misclassifications, testing alternative machine learning models, and incorporating additional data, such as lifestyle or genetic factors. Adding probability estimates for predictions could also enhance its clinical usability by helping prioritize further diagnostic tests. These steps could make the model more reliable and practical for real-world healthcare applications."
   ]
  },
  {
   "cell_type": "markdown",
   "id": "8377f0b6-b44c-4a63-94aa-d4f7ed1496dc",
   "metadata": {
    "jp-MarkdownHeadingCollapsed": true
   },
   "source": [
    "# Introduction\n",
    "\n",
    "Diabetes is a serious chronic disease characterized by high levels of glucose in the blood, caused by either insufficient insulin production by the pancreas or the body’s inability to effectively use insulin. It has become a significant global health issue, with its prevalence nearly doubling since 1980, and in 2022, 14% of adults aged 18 and older were diagnosed with diabetes, doubling from 7% in 1990 (World Health Organization). Diabetes can lead to severe complications, including blindness, kidney failure, heart attacks, strokes, and lower limb amputations. Early detection enables timely interventions, reduces complications, lowers healthcare costs, and improves quality of life and long-term outcomes (Marshall & Flyvbjerg, 2006).\n",
    "\n",
    "Artificial intelligence (AI) leverages computer systems and big data to simulate intelligent behavior with minimal human intervention, and within it, machine learning (ML) is a subset of AI methodologies. Since the rise of AI, Machine learning has increasingly been applied in various areas of disease detection and prevention in the healthcare field (Bini, 2018). Numerous machine learning techniques have been deployed to develop more efficient and effective methods for diagnosing chronic diseases (Battineni, Chinatalapudi, & Amenta, 2020). Utilizing machine learning methods in diabetes research has been proven to be a critical strategy for harnessing large volumes of diabetes-related data to extract valuable insights (Agarwal & Vadiwala, 2022). Therefore, The goal of this report is to leverage a supervised machine learning model, logistic regression (LR), to evaluate its predictive performance in diagnosing diabetes using a real-world dataset focused specifically on Pima Indian women aged 21 and older."
   ]
  },
  {
   "cell_type": "markdown",
   "id": "d5224d78-2cb5-42aa-868c-9c62b55ea98c",
   "metadata": {},
   "source": [
    "# Methods and Results"
   ]
  },
  {
   "cell_type": "markdown",
   "id": "4e615259-0219-4e20-b64a-017acd79182e",
   "metadata": {},
   "source": [
    "### Data\n",
    "\n",
    "The dataset that was used for the analysis of this project was created by Jack W Smith, JE Everhart, WC Dickson, WC Knowler, RS Johannes and sourced from the National Librabry of Medicine database from the National Institues of Health. Access to their respective analysis can be found [here](https://pmc.ncbi.nlm.nih.gov/articles/PMC2245318/) and access to the dataset can be found via [kaggle](https://www.kaggle.com/datasets/uciml/pima-indians-diabetes-database/data) (Dua & Graff, 2017). The primary objective of the dataset is to enable diagnostic prediction of whether a patient has diabetes based on specific diagnostic measurements. To ensure consistency and relevance, several constraints were applied to the selection of data instances. Specifically, the dataset includes only female patients who are at least 21 years old and of Pima Indian heritage.\n",
    "\n",
    "Each row/obersvation from the dataset is an individual that identifies to be a part of the Pima (also known as The Akimel O'odham) Indeginous group, located mainly in the Central and Southern regions of the United States. Each observation recorded has summary statistics regarding features that include the Age, BMI, Blood Pressure, Number of Pregnancies, as well as The Diabetes Pedigree Function (which is a score that gives an idea about how much correlation is between person with diabetes and their family history). The dataset offers comprehensive feastures for machine learning analysis."
   ]
  },
  {
   "cell_type": "markdown",
   "id": "eec82c1f-10ea-4e5e-8728-81d6c77b8053",
   "metadata": {},
   "source": [
    "### Analysis\n",
    "\n",
    "Logistic Regression was employed to develop a classification model for predicting whether the patient is diabetic or not (as indicated in the `outcome` column of the dataset). All variables from the original dataset were used to train the model. The data was split into 70% for the training set and 30% for the testing set. Hyperparameter tuning was performed using `RandomizedSearchCV`, with the accuracy score serving as the classification metric. All variables were standardized just before model fitting. The analysis was conducted using the Python programming language (Van Rossum and Drake, 2009) and several Python packages: numpy (Harris et al., 2020), Pandas (McKinney, 2010), altair (VanderPlas, 2018), altair_ally (Ostblom, 2021) and scikit-learn (Pedregosa et al., 2011). The code used for this analysis and report is available at: https://github.com/UBC-MDS/diabetes_predictor_py"
   ]
  },
  {
   "cell_type": "code",
   "execution_count": 2,
   "id": "4e4c56b9-31ae-4b44-aba4-d4be1e4349b1",
   "metadata": {},
   "outputs": [
    {
     "data": {
      "text/html": [
       "<div>\n",
       "<style scoped>\n",
       "    .dataframe tbody tr th:only-of-type {\n",
       "        vertical-align: middle;\n",
       "    }\n",
       "\n",
       "    .dataframe tbody tr th {\n",
       "        vertical-align: top;\n",
       "    }\n",
       "\n",
       "    .dataframe thead th {\n",
       "        text-align: right;\n",
       "    }\n",
       "</style>\n",
       "<table border=\"1\" class=\"dataframe\">\n",
       "  <thead>\n",
       "    <tr style=\"text-align: right;\">\n",
       "      <th></th>\n",
       "      <th>Pregnancies</th>\n",
       "      <th>Glucose</th>\n",
       "      <th>BloodPressure</th>\n",
       "      <th>SkinThickness</th>\n",
       "      <th>Insulin</th>\n",
       "      <th>BMI</th>\n",
       "      <th>DiabetesPedigreeFunction</th>\n",
       "      <th>Age</th>\n",
       "      <th>Outcome</th>\n",
       "    </tr>\n",
       "  </thead>\n",
       "  <tbody>\n",
       "    <tr>\n",
       "      <th>0</th>\n",
       "      <td>6</td>\n",
       "      <td>148</td>\n",
       "      <td>72</td>\n",
       "      <td>35</td>\n",
       "      <td>0</td>\n",
       "      <td>33.6</td>\n",
       "      <td>0.627</td>\n",
       "      <td>50</td>\n",
       "      <td>1</td>\n",
       "    </tr>\n",
       "    <tr>\n",
       "      <th>1</th>\n",
       "      <td>1</td>\n",
       "      <td>85</td>\n",
       "      <td>66</td>\n",
       "      <td>29</td>\n",
       "      <td>0</td>\n",
       "      <td>26.6</td>\n",
       "      <td>0.351</td>\n",
       "      <td>31</td>\n",
       "      <td>0</td>\n",
       "    </tr>\n",
       "    <tr>\n",
       "      <th>2</th>\n",
       "      <td>8</td>\n",
       "      <td>183</td>\n",
       "      <td>64</td>\n",
       "      <td>0</td>\n",
       "      <td>0</td>\n",
       "      <td>23.3</td>\n",
       "      <td>0.672</td>\n",
       "      <td>32</td>\n",
       "      <td>1</td>\n",
       "    </tr>\n",
       "    <tr>\n",
       "      <th>3</th>\n",
       "      <td>1</td>\n",
       "      <td>89</td>\n",
       "      <td>66</td>\n",
       "      <td>23</td>\n",
       "      <td>94</td>\n",
       "      <td>28.1</td>\n",
       "      <td>0.167</td>\n",
       "      <td>21</td>\n",
       "      <td>0</td>\n",
       "    </tr>\n",
       "    <tr>\n",
       "      <th>4</th>\n",
       "      <td>0</td>\n",
       "      <td>137</td>\n",
       "      <td>40</td>\n",
       "      <td>35</td>\n",
       "      <td>168</td>\n",
       "      <td>43.1</td>\n",
       "      <td>2.288</td>\n",
       "      <td>33</td>\n",
       "      <td>1</td>\n",
       "    </tr>\n",
       "    <tr>\n",
       "      <th>...</th>\n",
       "      <td>...</td>\n",
       "      <td>...</td>\n",
       "      <td>...</td>\n",
       "      <td>...</td>\n",
       "      <td>...</td>\n",
       "      <td>...</td>\n",
       "      <td>...</td>\n",
       "      <td>...</td>\n",
       "      <td>...</td>\n",
       "    </tr>\n",
       "    <tr>\n",
       "      <th>763</th>\n",
       "      <td>10</td>\n",
       "      <td>101</td>\n",
       "      <td>76</td>\n",
       "      <td>48</td>\n",
       "      <td>180</td>\n",
       "      <td>32.9</td>\n",
       "      <td>0.171</td>\n",
       "      <td>63</td>\n",
       "      <td>0</td>\n",
       "    </tr>\n",
       "    <tr>\n",
       "      <th>764</th>\n",
       "      <td>2</td>\n",
       "      <td>122</td>\n",
       "      <td>70</td>\n",
       "      <td>27</td>\n",
       "      <td>0</td>\n",
       "      <td>36.8</td>\n",
       "      <td>0.340</td>\n",
       "      <td>27</td>\n",
       "      <td>0</td>\n",
       "    </tr>\n",
       "    <tr>\n",
       "      <th>765</th>\n",
       "      <td>5</td>\n",
       "      <td>121</td>\n",
       "      <td>72</td>\n",
       "      <td>23</td>\n",
       "      <td>112</td>\n",
       "      <td>26.2</td>\n",
       "      <td>0.245</td>\n",
       "      <td>30</td>\n",
       "      <td>0</td>\n",
       "    </tr>\n",
       "    <tr>\n",
       "      <th>766</th>\n",
       "      <td>1</td>\n",
       "      <td>126</td>\n",
       "      <td>60</td>\n",
       "      <td>0</td>\n",
       "      <td>0</td>\n",
       "      <td>30.1</td>\n",
       "      <td>0.349</td>\n",
       "      <td>47</td>\n",
       "      <td>1</td>\n",
       "    </tr>\n",
       "    <tr>\n",
       "      <th>767</th>\n",
       "      <td>1</td>\n",
       "      <td>93</td>\n",
       "      <td>70</td>\n",
       "      <td>31</td>\n",
       "      <td>0</td>\n",
       "      <td>30.4</td>\n",
       "      <td>0.315</td>\n",
       "      <td>23</td>\n",
       "      <td>0</td>\n",
       "    </tr>\n",
       "  </tbody>\n",
       "</table>\n",
       "<p>768 rows × 9 columns</p>\n",
       "</div>"
      ],
      "text/plain": [
       "     Pregnancies  Glucose  BloodPressure  SkinThickness  Insulin   BMI  \\\n",
       "0              6      148             72             35        0  33.6   \n",
       "1              1       85             66             29        0  26.6   \n",
       "2              8      183             64              0        0  23.3   \n",
       "3              1       89             66             23       94  28.1   \n",
       "4              0      137             40             35      168  43.1   \n",
       "..           ...      ...            ...            ...      ...   ...   \n",
       "763           10      101             76             48      180  32.9   \n",
       "764            2      122             70             27        0  36.8   \n",
       "765            5      121             72             23      112  26.2   \n",
       "766            1      126             60              0        0  30.1   \n",
       "767            1       93             70             31        0  30.4   \n",
       "\n",
       "     DiabetesPedigreeFunction  Age  Outcome  \n",
       "0                       0.627   50        1  \n",
       "1                       0.351   31        0  \n",
       "2                       0.672   32        1  \n",
       "3                       0.167   21        0  \n",
       "4                       2.288   33        1  \n",
       "..                        ...  ...      ...  \n",
       "763                     0.171   63        0  \n",
       "764                     0.340   27        0  \n",
       "765                     0.245   30        0  \n",
       "766                     0.349   47        1  \n",
       "767                     0.315   23        0  \n",
       "\n",
       "[768 rows x 9 columns]"
      ]
     },
     "execution_count": 2,
     "metadata": {},
     "output_type": "execute_result"
    }
   ],
   "source": [
    "# load data\n",
    "df_original = pd.read_csv('../data/raw/diabetes.csv')\n",
    "df_original"
   ]
  },
  {
   "cell_type": "markdown",
   "id": "d13b0c2c-57b0-4d6c-8ed7-86eb5b0d4257",
   "metadata": {},
   "source": [
    "## Validation Ranges\n",
    "- For `Outcome` each observation must have a value of either 0 or 1\n",
    "- For `Pregnancies` we have chosen the range of 0-15; although having 15 pregnancies is very unlikely there has been rare historic cases for this upper limit. Anything beyond 15 is too high of an outlier to keep within the dataset.\n",
    "- For `Glucose`, we chose the range of 50-240 as any glucose level below 50 and above 240 would require immediate medical attention, therefore these values are outliers that are not sustainable and in turn not fit for our model.\n",
    "- For `BloodPressure` the acceptable range of 40-180 was chosen as any blood pressure level below 40 will cause dizziness, fainting, shock-like symptoms, cold/clammy skin, or rapid breathing. Meanwhile anything above 180 is a dangerourly high level and a Hypertensive Crisis. In both cases immediate medical attention is required therefore these values are not suitable for our classification model.\n",
    "- For `SkinThickness` (in terms of the Triceps' skin fold) the thickness of skin cannot be below 0 mm and any level of thickness above 80 mm is a very extreme and unlikely level of obesity. Meaning any value below 0 mm would be an error and any value above 80 mm is a very high outlier\n",
    "- For `Insulin` the acceptable range is 0-800. Although having a insulin level of 0 is unlikely there are instances where the insulin level is so low that it is not detected during a test giving the value of 0. Regarding the upper limit of 700 anything above this range considered severe hyperglycemia and needs immediate emergency treatment, thus not suitable when looking at ranges that do not include outliers\n",
    "- For `BMI` the range of 0-65 was chosen as your BMI cannot be lower than 0 and going over 65 is an extreme case of obesity.\n",
    "- For `DiabetesPedigreeFunction` repersents the genetic risk of diabetes based on family history. Therefore this value cannot be smaller than 0 (which repersents having no familial diabetic history), meanwhile the upper limit of 2.5 repersents having both parents and other close family members having diabetic history, which is an unlikely value to encounter.\n",
    "- For `Age` we have chosen the range 18-90 as this test was conducted on adults, we have chosen the upper limit of 90 as it is unlikely for someone to be above 90. "
   ]
  },
  {
   "cell_type": "markdown",
   "id": "c3b40784",
   "metadata": {},
   "source": [
    "The approach to data validation in this analysis was inspired by concepts presented in Tiffany A. Timbers' [breast-cancer-predictor GitHub repository](https://github.com/ttimbers/breast-cancer-predictor/tree/1.0.0), which uses libraries such as deepchecks and pandera for validating data quality and structure."
   ]
  },
  {
   "cell_type": "code",
   "execution_count": 3,
   "id": "e3a4e73f-527e-44cc-964c-81df22faba27",
   "metadata": {},
   "outputs": [],
   "source": [
    "\n",
    "# Configure logging\n",
    "logging.basicConfig(\n",
    "    filename=\"validation_errors.log\",\n",
    "    filemode=\"w\",\n",
    "    format=\"%(asctime)s - %(message)s\",\n",
    "    level=logging.INFO,\n",
    ")\n",
    "\n",
    "# Define schema\n",
    "schema = pa.DataFrameSchema(\n",
    "    { \n",
    "        \"Outcome\": pa.Column(int, pa.Check.isin([0, 1])),\n",
    "        \"Pregnancies\": pa.Column(int, pa.Check.between(0, 15), nullable=True),\n",
    "        \"Glucose\": pa.Column(int, pa.Check.between(50, 240), nullable=True),\n",
    "        \"BloodPressure\": pa.Column(int, pa.Check.between(40, 180), nullable=True),\n",
    "        \"SkinThickness\": pa.Column(int, pa.Check.between(0, 80), nullable=True),\n",
    "        \"Insulin\": pa.Column(int, pa.Check.between(0, 800), nullable=True),\n",
    "        \"BMI\": pa.Column(float, pa.Check.between(0, 65), nullable=True),\n",
    "        \"DiabetesPedigreeFunction\": pa.Column(float, pa.Check.between(0, 2.5), nullable=True),\n",
    "        \"Age\": pa.Column(int, pa.Check.between(18, 90), nullable=True),\n",
    "    },\n",
    "    checks=[\n",
    "        pa.Check(lambda df: ~df.duplicated().any(), error=\"Duplicate rows found.\"),\n",
    "        pa.Check(lambda df: ~(df.isna().all(axis=1)).any(), error=\"Empty rows found.\")\n",
    "    ],\n",
    "    drop_invalid_rows=False,  # Ensure this is properly closed\n",
    ")\n",
    "\n",
    "# Initialize error cases DataFrame\n",
    "error_cases = pd.DataFrame()\n",
    "data = df_original.copy()\n",
    "\n",
    "# Validate data and handle errors\n",
    "try:\n",
    "    validated_data = schema.validate(data, lazy=True)\n",
    "except pa.errors.SchemaErrors as e:\n",
    "    error_cases = e.failure_cases\n",
    "\n",
    "    # Convert the error message to a JSON string\n",
    "    error_message = json.dumps(e.message, indent=2)\n",
    "    logging.error(\"\\n\" + error_message)\n",
    "\n",
    "# Filter out invalid rows based on the error cases\n",
    "if not error_cases.empty:\n",
    "    invalid_indices = error_cases[\"index\"].dropna().unique()\n",
    "    df = (\n",
    "        data.drop(index=invalid_indices)\n",
    "        .reset_index(drop=True)\n",
    "        \n",
    "        .drop_duplicates()\n",
    "        .dropna(how=\"all\")\n",
    "    )\n",
    "else:\n",
    "    df = data\n"
   ]
  },
  {
   "cell_type": "code",
   "execution_count": 4,
   "id": "f5f07bf1-1ec7-43f8-b70e-8552eadb8474",
   "metadata": {},
   "outputs": [],
   "source": [
    "df\n",
    "\n",
    "df.to_csv('../data/processed/df.csv')"
   ]
  },
  {
   "cell_type": "markdown",
   "id": "86c19426-8ff5-4c00-aeb9-21335e7904fe",
   "metadata": {},
   "source": [
    "The `shape` attribute shows us the number of observations and the number of features in the dataset"
   ]
  },
  {
   "cell_type": "code",
   "execution_count": 5,
   "id": "e97143fb-aad8-4ee4-9e0c-43e27912a360",
   "metadata": {},
   "outputs": [
    {
     "name": "stdout",
     "output_type": "stream",
     "text": [
      "(768, 9)\n",
      "(719, 9)\n"
     ]
    }
   ],
   "source": [
    "# EDA\n",
    "print(df_original.shape)\n",
    "print(df.shape)"
   ]
  },
  {
   "cell_type": "markdown",
   "id": "e7210497-6dcb-4383-8c56-cba0f6f2f243",
   "metadata": {},
   "source": [
    "We do see 49 observations being dropped post our preliminary data validation as the rows dropped contain meaningless and / or invalid data entries that would unlikely provide useful information but instead introduce noise or spurious relationships into our model. Details of the observations dropped can be found at https://github.com/UBC-MDS/diabetes_predictor_py under `validation_errors.log`. It is clearly shown from the log that majority of data points that are dropped contained values of 0 where levels cannot possibly be, hence, we suspect that the values recorded at 0 are likely missing values recorded in such way, a critical point we will confirm with data collectors if we have access. "
   ]
  },
  {
   "cell_type": "markdown",
   "id": "b84b7f2f-44ac-4f95-9324-91a326914a16",
   "metadata": {},
   "source": [
    "The `info()` method shows that the dataset does not have any features with missing values, and all features are numeric."
   ]
  },
  {
   "cell_type": "code",
   "execution_count": 6,
   "id": "6aa0c09d-0057-4303-8ab1-d2848f7906f6",
   "metadata": {},
   "outputs": [
    {
     "name": "stdout",
     "output_type": "stream",
     "text": [
      "<class 'pandas.core.frame.DataFrame'>\n",
      "RangeIndex: 719 entries, 0 to 718\n",
      "Data columns (total 9 columns):\n",
      " #   Column                    Non-Null Count  Dtype  \n",
      "---  ------                    --------------  -----  \n",
      " 0   Pregnancies               719 non-null    int64  \n",
      " 1   Glucose                   719 non-null    int64  \n",
      " 2   BloodPressure             719 non-null    int64  \n",
      " 3   SkinThickness             719 non-null    int64  \n",
      " 4   Insulin                   719 non-null    int64  \n",
      " 5   BMI                       719 non-null    float64\n",
      " 6   DiabetesPedigreeFunction  719 non-null    float64\n",
      " 7   Age                       719 non-null    int64  \n",
      " 8   Outcome                   719 non-null    int64  \n",
      "dtypes: float64(2), int64(7)\n",
      "memory usage: 50.7 KB\n"
     ]
    }
   ],
   "source": [
    "# EDA\n",
    "df.info()"
   ]
  },
  {
   "cell_type": "markdown",
   "id": "5b986adf-e01d-4e37-97f2-e0f5eb32060b",
   "metadata": {},
   "source": [
    "Using the `train_test_split()` function we will split our data set with 70% going to train the model and 30% going towards testing the model."
   ]
  },
  {
   "cell_type": "code",
   "execution_count": 7,
   "id": "0894088b-5714-4a20-bdb0-f4ffdf786dd4",
   "metadata": {},
   "outputs": [],
   "source": [
    "# Create the split\n",
    "train_df, test_df = train_test_split(df,\n",
    "                                     train_size = 0.7, \n",
    "                                     random_state=123)\n",
    "\n",
    "df.to_csv('../data/processed/train_df.csv')\n",
    "df.to_csv('../data/processed/test_df.csv')"
   ]
  },
  {
   "cell_type": "markdown",
   "id": "96bcc2ba-a8de-4a68-9f29-308309a5025f",
   "metadata": {},
   "source": [
    "The `describe()` shows us the summary statistics of each of our features as well as our target value. We can see the mean as well as the spread (standard deviation). Using this information and the visualization tools we will see next we can determine how skewed each of our features are for their respective values."
   ]
  },
  {
   "cell_type": "code",
   "execution_count": 8,
   "id": "05ceec33-f14b-4070-a225-186f75860095",
   "metadata": {},
   "outputs": [
    {
     "data": {
      "text/html": [
       "<div>\n",
       "<style scoped>\n",
       "    .dataframe tbody tr th:only-of-type {\n",
       "        vertical-align: middle;\n",
       "    }\n",
       "\n",
       "    .dataframe tbody tr th {\n",
       "        vertical-align: top;\n",
       "    }\n",
       "\n",
       "    .dataframe thead th {\n",
       "        text-align: right;\n",
       "    }\n",
       "</style>\n",
       "<table border=\"1\" class=\"dataframe\">\n",
       "  <thead>\n",
       "    <tr style=\"text-align: right;\">\n",
       "      <th></th>\n",
       "      <th>Pregnancies</th>\n",
       "      <th>Glucose</th>\n",
       "      <th>BloodPressure</th>\n",
       "      <th>SkinThickness</th>\n",
       "      <th>Insulin</th>\n",
       "      <th>BMI</th>\n",
       "      <th>DiabetesPedigreeFunction</th>\n",
       "      <th>Age</th>\n",
       "      <th>Outcome</th>\n",
       "    </tr>\n",
       "  </thead>\n",
       "  <tbody>\n",
       "    <tr>\n",
       "      <th>count</th>\n",
       "      <td>503.000000</td>\n",
       "      <td>503.000000</td>\n",
       "      <td>503.000000</td>\n",
       "      <td>503.000000</td>\n",
       "      <td>503.000000</td>\n",
       "      <td>503.000000</td>\n",
       "      <td>503.000000</td>\n",
       "      <td>503.000000</td>\n",
       "      <td>503.000000</td>\n",
       "    </tr>\n",
       "    <tr>\n",
       "      <th>mean</th>\n",
       "      <td>3.813121</td>\n",
       "      <td>121.524851</td>\n",
       "      <td>73.025845</td>\n",
       "      <td>21.045726</td>\n",
       "      <td>81.982107</td>\n",
       "      <td>31.940954</td>\n",
       "      <td>0.482628</td>\n",
       "      <td>33.087475</td>\n",
       "      <td>0.328032</td>\n",
       "    </tr>\n",
       "    <tr>\n",
       "      <th>std</th>\n",
       "      <td>3.360905</td>\n",
       "      <td>30.469809</td>\n",
       "      <td>12.250267</td>\n",
       "      <td>15.366826</td>\n",
       "      <td>113.203347</td>\n",
       "      <td>7.218791</td>\n",
       "      <td>0.349740</td>\n",
       "      <td>11.842942</td>\n",
       "      <td>0.469964</td>\n",
       "    </tr>\n",
       "    <tr>\n",
       "      <th>min</th>\n",
       "      <td>0.000000</td>\n",
       "      <td>56.000000</td>\n",
       "      <td>40.000000</td>\n",
       "      <td>0.000000</td>\n",
       "      <td>0.000000</td>\n",
       "      <td>0.000000</td>\n",
       "      <td>0.085000</td>\n",
       "      <td>21.000000</td>\n",
       "      <td>0.000000</td>\n",
       "    </tr>\n",
       "    <tr>\n",
       "      <th>25%</th>\n",
       "      <td>1.000000</td>\n",
       "      <td>99.500000</td>\n",
       "      <td>64.000000</td>\n",
       "      <td>0.000000</td>\n",
       "      <td>0.000000</td>\n",
       "      <td>26.800000</td>\n",
       "      <td>0.246500</td>\n",
       "      <td>24.000000</td>\n",
       "      <td>0.000000</td>\n",
       "    </tr>\n",
       "    <tr>\n",
       "      <th>50%</th>\n",
       "      <td>3.000000</td>\n",
       "      <td>117.000000</td>\n",
       "      <td>72.000000</td>\n",
       "      <td>23.000000</td>\n",
       "      <td>44.000000</td>\n",
       "      <td>31.600000</td>\n",
       "      <td>0.381000</td>\n",
       "      <td>29.000000</td>\n",
       "      <td>0.000000</td>\n",
       "    </tr>\n",
       "    <tr>\n",
       "      <th>75%</th>\n",
       "      <td>6.000000</td>\n",
       "      <td>139.000000</td>\n",
       "      <td>80.000000</td>\n",
       "      <td>32.000000</td>\n",
       "      <td>130.000000</td>\n",
       "      <td>36.450000</td>\n",
       "      <td>0.646500</td>\n",
       "      <td>41.000000</td>\n",
       "      <td>1.000000</td>\n",
       "    </tr>\n",
       "    <tr>\n",
       "      <th>max</th>\n",
       "      <td>14.000000</td>\n",
       "      <td>199.000000</td>\n",
       "      <td>122.000000</td>\n",
       "      <td>63.000000</td>\n",
       "      <td>744.000000</td>\n",
       "      <td>59.400000</td>\n",
       "      <td>2.420000</td>\n",
       "      <td>81.000000</td>\n",
       "      <td>1.000000</td>\n",
       "    </tr>\n",
       "  </tbody>\n",
       "</table>\n",
       "</div>"
      ],
      "text/plain": [
       "       Pregnancies     Glucose  BloodPressure  SkinThickness     Insulin  \\\n",
       "count   503.000000  503.000000     503.000000     503.000000  503.000000   \n",
       "mean      3.813121  121.524851      73.025845      21.045726   81.982107   \n",
       "std       3.360905   30.469809      12.250267      15.366826  113.203347   \n",
       "min       0.000000   56.000000      40.000000       0.000000    0.000000   \n",
       "25%       1.000000   99.500000      64.000000       0.000000    0.000000   \n",
       "50%       3.000000  117.000000      72.000000      23.000000   44.000000   \n",
       "75%       6.000000  139.000000      80.000000      32.000000  130.000000   \n",
       "max      14.000000  199.000000     122.000000      63.000000  744.000000   \n",
       "\n",
       "              BMI  DiabetesPedigreeFunction         Age     Outcome  \n",
       "count  503.000000                503.000000  503.000000  503.000000  \n",
       "mean    31.940954                  0.482628   33.087475    0.328032  \n",
       "std      7.218791                  0.349740   11.842942    0.469964  \n",
       "min      0.000000                  0.085000   21.000000    0.000000  \n",
       "25%     26.800000                  0.246500   24.000000    0.000000  \n",
       "50%     31.600000                  0.381000   29.000000    0.000000  \n",
       "75%     36.450000                  0.646500   41.000000    1.000000  \n",
       "max     59.400000                  2.420000   81.000000    1.000000  "
      ]
     },
     "execution_count": 8,
     "metadata": {},
     "output_type": "execute_result"
    }
   ],
   "source": [
    "# Explore training data\n",
    "census_summary = train_df.describe()\n",
    "census_summary"
   ]
  },
  {
   "cell_type": "code",
   "execution_count": 9,
   "id": "35771738-ed67-4c0a-ade6-de3ff59304a4",
   "metadata": {},
   "outputs": [
    {
     "data": {
      "text/plain": [
       "['Pregnancies',\n",
       " 'Glucose',\n",
       " 'BloodPressure',\n",
       " 'SkinThickness',\n",
       " 'Insulin',\n",
       " 'BMI',\n",
       " 'DiabetesPedigreeFunction',\n",
       " 'Age',\n",
       " 'Outcome']"
      ]
     },
     "execution_count": 9,
     "metadata": {},
     "output_type": "execute_result"
    }
   ],
   "source": [
    "# List features\n",
    "features = census_summary.columns.tolist()\n",
    "features"
   ]
  },
  {
   "cell_type": "code",
   "execution_count": 10,
   "id": "9dec8686-3519-49a2-8b6d-dfb254fb648e",
   "metadata": {},
   "outputs": [
    {
     "data": {
      "text/html": [
       "\n",
       "<style>\n",
       "  #altair-viz-dc00e267908b477298c8e116d434d054.vega-embed {\n",
       "    width: 100%;\n",
       "    display: flex;\n",
       "  }\n",
       "\n",
       "  #altair-viz-dc00e267908b477298c8e116d434d054.vega-embed details,\n",
       "  #altair-viz-dc00e267908b477298c8e116d434d054.vega-embed details summary {\n",
       "    position: relative;\n",
       "  }\n",
       "</style>\n",
       "<div id=\"altair-viz-dc00e267908b477298c8e116d434d054\"></div>\n",
       "<script type=\"text/javascript\">\n",
       "  var VEGA_DEBUG = (typeof VEGA_DEBUG == \"undefined\") ? {} : VEGA_DEBUG;\n",
       "  (function(spec, embedOpt){\n",
       "    let outputDiv = document.currentScript.previousElementSibling;\n",
       "    if (outputDiv.id !== \"altair-viz-dc00e267908b477298c8e116d434d054\") {\n",
       "      outputDiv = document.getElementById(\"altair-viz-dc00e267908b477298c8e116d434d054\");\n",
       "    }\n",
       "\n",
       "    const paths = {\n",
       "      \"vega\": \"https://cdn.jsdelivr.net/npm/vega@5?noext\",\n",
       "      \"vega-lib\": \"https://cdn.jsdelivr.net/npm/vega-lib?noext\",\n",
       "      \"vega-lite\": \"https://cdn.jsdelivr.net/npm/vega-lite@5.20.1?noext\",\n",
       "      \"vega-embed\": \"https://cdn.jsdelivr.net/npm/vega-embed@6?noext\",\n",
       "    };\n",
       "\n",
       "    function maybeLoadScript(lib, version) {\n",
       "      var key = `${lib.replace(\"-\", \"\")}_version`;\n",
       "      return (VEGA_DEBUG[key] == version) ?\n",
       "        Promise.resolve(paths[lib]) :\n",
       "        new Promise(function(resolve, reject) {\n",
       "          var s = document.createElement('script');\n",
       "          document.getElementsByTagName(\"head\")[0].appendChild(s);\n",
       "          s.async = true;\n",
       "          s.onload = () => {\n",
       "            VEGA_DEBUG[key] = version;\n",
       "            return resolve(paths[lib]);\n",
       "          };\n",
       "          s.onerror = () => reject(`Error loading script: ${paths[lib]}`);\n",
       "          s.src = paths[lib];\n",
       "        });\n",
       "    }\n",
       "\n",
       "    function showError(err) {\n",
       "      outputDiv.innerHTML = `<div class=\"error\" style=\"color:red;\">${err}</div>`;\n",
       "      throw err;\n",
       "    }\n",
       "\n",
       "    function displayChart(vegaEmbed) {\n",
       "      vegaEmbed(outputDiv, spec, embedOpt)\n",
       "        .catch(err => showError(`Javascript Error: ${err.message}<br>This usually means there's a typo in your chart specification. See the javascript console for the full traceback.`));\n",
       "    }\n",
       "\n",
       "    if(typeof define === \"function\" && define.amd) {\n",
       "      requirejs.config({paths});\n",
       "      let deps = [\"vega-embed\"];\n",
       "      require(deps, displayChart, err => showError(`Error loading script: ${err.message}`));\n",
       "    } else {\n",
       "      maybeLoadScript(\"vega\", \"5\")\n",
       "        .then(() => maybeLoadScript(\"vega-lite\", \"5.20.1\"))\n",
       "        .then(() => maybeLoadScript(\"vega-embed\", \"6\"))\n",
       "        .catch(showError)\n",
       "        .then(() => displayChart(vegaEmbed));\n",
       "    }\n",
       "  })({\"config\": {\"view\": {\"continuousWidth\": 300, \"continuousHeight\": 300}}, \"repeat\": [\"Pregnancies\", \"Glucose\", \"BloodPressure\", \"SkinThickness\", \"Insulin\", \"BMI\", \"DiabetesPedigreeFunction\", \"Age\", \"Outcome\"], \"spec\": {\"data\": {\"name\": \"data-2d42a39a9d33e1240f0a553ff69c6a12\"}, \"mark\": {\"type\": \"bar\", \"opacity\": 0.5}, \"encoding\": {\"color\": {\"field\": \"Outcome\", \"type\": \"nominal\"}, \"x\": {\"bin\": {\"maxbins\": 30}, \"field\": {\"repeat\": \"repeat\"}, \"type\": \"quantitative\"}, \"y\": {\"aggregate\": \"count\", \"stack\": false, \"type\": \"quantitative\"}}, \"height\": 250, \"width\": 250}, \"columns\": 2, \"$schema\": \"https://vega.github.io/schema/vega-lite/v5.20.1.json\", \"datasets\": {\"data-2d42a39a9d33e1240f0a553ff69c6a12\": [{\"Pregnancies\": 7, \"Glucose\": 179, \"BloodPressure\": 95, \"SkinThickness\": 31, \"Insulin\": 0, \"BMI\": 34.2, \"DiabetesPedigreeFunction\": 0.164, \"Age\": 60, \"Outcome\": 0}, {\"Pregnancies\": 1, \"Glucose\": 103, \"BloodPressure\": 80, \"SkinThickness\": 11, \"Insulin\": 82, \"BMI\": 19.4, \"DiabetesPedigreeFunction\": 0.491, \"Age\": 22, \"Outcome\": 0}, {\"Pregnancies\": 3, \"Glucose\": 78, \"BloodPressure\": 70, \"SkinThickness\": 0, \"Insulin\": 0, \"BMI\": 32.5, \"DiabetesPedigreeFunction\": 0.27, \"Age\": 39, \"Outcome\": 0}, {\"Pregnancies\": 11, \"Glucose\": 138, \"BloodPressure\": 74, \"SkinThickness\": 26, \"Insulin\": 144, \"BMI\": 36.1, \"DiabetesPedigreeFunction\": 0.557, \"Age\": 50, \"Outcome\": 1}, {\"Pregnancies\": 4, \"Glucose\": 110, \"BloodPressure\": 66, \"SkinThickness\": 0, \"Insulin\": 0, \"BMI\": 31.9, \"DiabetesPedigreeFunction\": 0.471, \"Age\": 29, \"Outcome\": 0}, {\"Pregnancies\": 0, \"Glucose\": 180, \"BloodPressure\": 66, \"SkinThickness\": 39, \"Insulin\": 0, \"BMI\": 42.0, \"DiabetesPedigreeFunction\": 1.893, \"Age\": 25, \"Outcome\": 1}, {\"Pregnancies\": 6, \"Glucose\": 114, \"BloodPressure\": 88, \"SkinThickness\": 0, \"Insulin\": 0, \"BMI\": 27.8, \"DiabetesPedigreeFunction\": 0.247, \"Age\": 66, \"Outcome\": 0}, {\"Pregnancies\": 2, \"Glucose\": 127, \"BloodPressure\": 58, \"SkinThickness\": 24, \"Insulin\": 275, \"BMI\": 27.7, \"DiabetesPedigreeFunction\": 1.6, \"Age\": 25, \"Outcome\": 0}, {\"Pregnancies\": 5, \"Glucose\": 109, \"BloodPressure\": 75, \"SkinThickness\": 26, \"Insulin\": 0, \"BMI\": 36.0, \"DiabetesPedigreeFunction\": 0.546, \"Age\": 60, \"Outcome\": 0}, {\"Pregnancies\": 9, \"Glucose\": 72, \"BloodPressure\": 78, \"SkinThickness\": 25, \"Insulin\": 0, \"BMI\": 31.6, \"DiabetesPedigreeFunction\": 0.28, \"Age\": 38, \"Outcome\": 0}, {\"Pregnancies\": 3, \"Glucose\": 96, \"BloodPressure\": 78, \"SkinThickness\": 39, \"Insulin\": 0, \"BMI\": 37.3, \"DiabetesPedigreeFunction\": 0.238, \"Age\": 40, \"Outcome\": 0}, {\"Pregnancies\": 2, \"Glucose\": 100, \"BloodPressure\": 66, \"SkinThickness\": 20, \"Insulin\": 90, \"BMI\": 32.9, \"DiabetesPedigreeFunction\": 0.867, \"Age\": 28, \"Outcome\": 1}, {\"Pregnancies\": 2, \"Glucose\": 90, \"BloodPressure\": 68, \"SkinThickness\": 42, \"Insulin\": 0, \"BMI\": 38.2, \"DiabetesPedigreeFunction\": 0.503, \"Age\": 27, \"Outcome\": 1}, {\"Pregnancies\": 9, \"Glucose\": 102, \"BloodPressure\": 76, \"SkinThickness\": 37, \"Insulin\": 0, \"BMI\": 32.9, \"DiabetesPedigreeFunction\": 0.665, \"Age\": 46, \"Outcome\": 1}, {\"Pregnancies\": 0, \"Glucose\": 91, \"BloodPressure\": 80, \"SkinThickness\": 0, \"Insulin\": 0, \"BMI\": 32.4, \"DiabetesPedigreeFunction\": 0.601, \"Age\": 27, \"Outcome\": 0}, {\"Pregnancies\": 9, \"Glucose\": 91, \"BloodPressure\": 68, \"SkinThickness\": 0, \"Insulin\": 0, \"BMI\": 24.2, \"DiabetesPedigreeFunction\": 0.2, \"Age\": 58, \"Outcome\": 0}, {\"Pregnancies\": 10, \"Glucose\": 133, \"BloodPressure\": 68, \"SkinThickness\": 0, \"Insulin\": 0, \"BMI\": 27.0, \"DiabetesPedigreeFunction\": 0.245, \"Age\": 36, \"Outcome\": 0}, {\"Pregnancies\": 0, \"Glucose\": 105, \"BloodPressure\": 84, \"SkinThickness\": 0, \"Insulin\": 0, \"BMI\": 27.9, \"DiabetesPedigreeFunction\": 0.741, \"Age\": 62, \"Outcome\": 1}, {\"Pregnancies\": 1, \"Glucose\": 115, \"BloodPressure\": 70, \"SkinThickness\": 30, \"Insulin\": 96, \"BMI\": 34.6, \"DiabetesPedigreeFunction\": 0.529, \"Age\": 32, \"Outcome\": 1}, {\"Pregnancies\": 0, \"Glucose\": 165, \"BloodPressure\": 76, \"SkinThickness\": 43, \"Insulin\": 255, \"BMI\": 47.9, \"DiabetesPedigreeFunction\": 0.259, \"Age\": 26, \"Outcome\": 0}, {\"Pregnancies\": 1, \"Glucose\": 146, \"BloodPressure\": 56, \"SkinThickness\": 0, \"Insulin\": 0, \"BMI\": 29.7, \"DiabetesPedigreeFunction\": 0.564, \"Age\": 29, \"Outcome\": 0}, {\"Pregnancies\": 2, \"Glucose\": 102, \"BloodPressure\": 86, \"SkinThickness\": 36, \"Insulin\": 120, \"BMI\": 45.5, \"DiabetesPedigreeFunction\": 0.127, \"Age\": 23, \"Outcome\": 1}, {\"Pregnancies\": 12, \"Glucose\": 106, \"BloodPressure\": 80, \"SkinThickness\": 0, \"Insulin\": 0, \"BMI\": 23.6, \"DiabetesPedigreeFunction\": 0.137, \"Age\": 44, \"Outcome\": 0}, {\"Pregnancies\": 8, \"Glucose\": 181, \"BloodPressure\": 68, \"SkinThickness\": 36, \"Insulin\": 495, \"BMI\": 30.1, \"DiabetesPedigreeFunction\": 0.615, \"Age\": 60, \"Outcome\": 1}, {\"Pregnancies\": 5, \"Glucose\": 139, \"BloodPressure\": 80, \"SkinThickness\": 35, \"Insulin\": 160, \"BMI\": 31.6, \"DiabetesPedigreeFunction\": 0.361, \"Age\": 25, \"Outcome\": 1}, {\"Pregnancies\": 1, \"Glucose\": 90, \"BloodPressure\": 62, \"SkinThickness\": 12, \"Insulin\": 43, \"BMI\": 27.2, \"DiabetesPedigreeFunction\": 0.58, \"Age\": 24, \"Outcome\": 0}, {\"Pregnancies\": 5, \"Glucose\": 86, \"BloodPressure\": 68, \"SkinThickness\": 28, \"Insulin\": 71, \"BMI\": 30.2, \"DiabetesPedigreeFunction\": 0.364, \"Age\": 24, \"Outcome\": 0}, {\"Pregnancies\": 7, \"Glucose\": 114, \"BloodPressure\": 76, \"SkinThickness\": 17, \"Insulin\": 110, \"BMI\": 23.8, \"DiabetesPedigreeFunction\": 0.466, \"Age\": 31, \"Outcome\": 0}, {\"Pregnancies\": 8, \"Glucose\": 107, \"BloodPressure\": 80, \"SkinThickness\": 0, \"Insulin\": 0, \"BMI\": 24.6, \"DiabetesPedigreeFunction\": 0.856, \"Age\": 34, \"Outcome\": 0}, {\"Pregnancies\": 6, \"Glucose\": 99, \"BloodPressure\": 60, \"SkinThickness\": 19, \"Insulin\": 54, \"BMI\": 26.9, \"DiabetesPedigreeFunction\": 0.497, \"Age\": 32, \"Outcome\": 0}, {\"Pregnancies\": 1, \"Glucose\": 81, \"BloodPressure\": 72, \"SkinThickness\": 18, \"Insulin\": 40, \"BMI\": 26.6, \"DiabetesPedigreeFunction\": 0.283, \"Age\": 24, \"Outcome\": 0}, {\"Pregnancies\": 6, \"Glucose\": 80, \"BloodPressure\": 80, \"SkinThickness\": 36, \"Insulin\": 0, \"BMI\": 39.8, \"DiabetesPedigreeFunction\": 0.177, \"Age\": 28, \"Outcome\": 0}, {\"Pregnancies\": 2, \"Glucose\": 112, \"BloodPressure\": 68, \"SkinThickness\": 22, \"Insulin\": 94, \"BMI\": 34.1, \"DiabetesPedigreeFunction\": 0.315, \"Age\": 26, \"Outcome\": 0}, {\"Pregnancies\": 4, \"Glucose\": 95, \"BloodPressure\": 60, \"SkinThickness\": 32, \"Insulin\": 0, \"BMI\": 35.4, \"DiabetesPedigreeFunction\": 0.284, \"Age\": 28, \"Outcome\": 0}, {\"Pregnancies\": 8, \"Glucose\": 133, \"BloodPressure\": 72, \"SkinThickness\": 0, \"Insulin\": 0, \"BMI\": 32.9, \"DiabetesPedigreeFunction\": 0.27, \"Age\": 39, \"Outcome\": 1}, {\"Pregnancies\": 6, \"Glucose\": 105, \"BloodPressure\": 70, \"SkinThickness\": 32, \"Insulin\": 68, \"BMI\": 30.8, \"DiabetesPedigreeFunction\": 0.122, \"Age\": 37, \"Outcome\": 0}, {\"Pregnancies\": 2, \"Glucose\": 95, \"BloodPressure\": 54, \"SkinThickness\": 14, \"Insulin\": 88, \"BMI\": 26.1, \"DiabetesPedigreeFunction\": 0.748, \"Age\": 22, \"Outcome\": 0}, {\"Pregnancies\": 2, \"Glucose\": 83, \"BloodPressure\": 65, \"SkinThickness\": 28, \"Insulin\": 66, \"BMI\": 36.8, \"DiabetesPedigreeFunction\": 0.629, \"Age\": 24, \"Outcome\": 0}, {\"Pregnancies\": 1, \"Glucose\": 93, \"BloodPressure\": 56, \"SkinThickness\": 11, \"Insulin\": 0, \"BMI\": 22.5, \"DiabetesPedigreeFunction\": 0.417, \"Age\": 22, \"Outcome\": 0}, {\"Pregnancies\": 6, \"Glucose\": 104, \"BloodPressure\": 74, \"SkinThickness\": 18, \"Insulin\": 156, \"BMI\": 29.9, \"DiabetesPedigreeFunction\": 0.722, \"Age\": 41, \"Outcome\": 1}, {\"Pregnancies\": 1, \"Glucose\": 118, \"BloodPressure\": 58, \"SkinThickness\": 36, \"Insulin\": 94, \"BMI\": 33.3, \"DiabetesPedigreeFunction\": 0.261, \"Age\": 23, \"Outcome\": 0}, {\"Pregnancies\": 6, \"Glucose\": 117, \"BloodPressure\": 96, \"SkinThickness\": 0, \"Insulin\": 0, \"BMI\": 28.7, \"DiabetesPedigreeFunction\": 0.157, \"Age\": 30, \"Outcome\": 0}, {\"Pregnancies\": 6, \"Glucose\": 190, \"BloodPressure\": 92, \"SkinThickness\": 0, \"Insulin\": 0, \"BMI\": 35.5, \"DiabetesPedigreeFunction\": 0.278, \"Age\": 66, \"Outcome\": 1}, {\"Pregnancies\": 0, \"Glucose\": 78, \"BloodPressure\": 88, \"SkinThickness\": 29, \"Insulin\": 40, \"BMI\": 36.9, \"DiabetesPedigreeFunction\": 0.434, \"Age\": 21, \"Outcome\": 0}, {\"Pregnancies\": 1, \"Glucose\": 91, \"BloodPressure\": 54, \"SkinThickness\": 25, \"Insulin\": 100, \"BMI\": 25.2, \"DiabetesPedigreeFunction\": 0.234, \"Age\": 23, \"Outcome\": 0}, {\"Pregnancies\": 7, \"Glucose\": 196, \"BloodPressure\": 90, \"SkinThickness\": 0, \"Insulin\": 0, \"BMI\": 39.8, \"DiabetesPedigreeFunction\": 0.451, \"Age\": 41, \"Outcome\": 1}, {\"Pregnancies\": 0, \"Glucose\": 94, \"BloodPressure\": 70, \"SkinThickness\": 27, \"Insulin\": 115, \"BMI\": 43.5, \"DiabetesPedigreeFunction\": 0.347, \"Age\": 21, \"Outcome\": 0}, {\"Pregnancies\": 10, \"Glucose\": 122, \"BloodPressure\": 78, \"SkinThickness\": 31, \"Insulin\": 0, \"BMI\": 27.6, \"DiabetesPedigreeFunction\": 0.512, \"Age\": 45, \"Outcome\": 0}, {\"Pregnancies\": 1, \"Glucose\": 97, \"BloodPressure\": 70, \"SkinThickness\": 40, \"Insulin\": 0, \"BMI\": 38.1, \"DiabetesPedigreeFunction\": 0.218, \"Age\": 30, \"Outcome\": 0}, {\"Pregnancies\": 6, \"Glucose\": 148, \"BloodPressure\": 72, \"SkinThickness\": 35, \"Insulin\": 0, \"BMI\": 33.6, \"DiabetesPedigreeFunction\": 0.627, \"Age\": 50, \"Outcome\": 1}, {\"Pregnancies\": 7, \"Glucose\": 83, \"BloodPressure\": 78, \"SkinThickness\": 26, \"Insulin\": 71, \"BMI\": 29.3, \"DiabetesPedigreeFunction\": 0.767, \"Age\": 36, \"Outcome\": 0}, {\"Pregnancies\": 5, \"Glucose\": 99, \"BloodPressure\": 54, \"SkinThickness\": 28, \"Insulin\": 83, \"BMI\": 34.0, \"DiabetesPedigreeFunction\": 0.499, \"Age\": 30, \"Outcome\": 0}, {\"Pregnancies\": 4, \"Glucose\": 189, \"BloodPressure\": 110, \"SkinThickness\": 31, \"Insulin\": 0, \"BMI\": 28.5, \"DiabetesPedigreeFunction\": 0.68, \"Age\": 37, \"Outcome\": 0}, {\"Pregnancies\": 2, \"Glucose\": 144, \"BloodPressure\": 58, \"SkinThickness\": 33, \"Insulin\": 135, \"BMI\": 31.6, \"DiabetesPedigreeFunction\": 0.422, \"Age\": 25, \"Outcome\": 1}, {\"Pregnancies\": 1, \"Glucose\": 100, \"BloodPressure\": 66, \"SkinThickness\": 29, \"Insulin\": 196, \"BMI\": 32.0, \"DiabetesPedigreeFunction\": 0.444, \"Age\": 42, \"Outcome\": 0}, {\"Pregnancies\": 3, \"Glucose\": 120, \"BloodPressure\": 70, \"SkinThickness\": 30, \"Insulin\": 135, \"BMI\": 42.9, \"DiabetesPedigreeFunction\": 0.452, \"Age\": 30, \"Outcome\": 0}, {\"Pregnancies\": 1, \"Glucose\": 130, \"BloodPressure\": 70, \"SkinThickness\": 13, \"Insulin\": 105, \"BMI\": 25.9, \"DiabetesPedigreeFunction\": 0.472, \"Age\": 22, \"Outcome\": 0}, {\"Pregnancies\": 8, \"Glucose\": 124, \"BloodPressure\": 76, \"SkinThickness\": 24, \"Insulin\": 600, \"BMI\": 28.7, \"DiabetesPedigreeFunction\": 0.687, \"Age\": 52, \"Outcome\": 1}, {\"Pregnancies\": 2, \"Glucose\": 175, \"BloodPressure\": 88, \"SkinThickness\": 0, \"Insulin\": 0, \"BMI\": 22.9, \"DiabetesPedigreeFunction\": 0.326, \"Age\": 22, \"Outcome\": 0}, {\"Pregnancies\": 3, \"Glucose\": 116, \"BloodPressure\": 74, \"SkinThickness\": 15, \"Insulin\": 105, \"BMI\": 26.3, \"DiabetesPedigreeFunction\": 0.107, \"Age\": 24, \"Outcome\": 0}, {\"Pregnancies\": 13, \"Glucose\": 145, \"BloodPressure\": 82, \"SkinThickness\": 19, \"Insulin\": 110, \"BMI\": 22.2, \"DiabetesPedigreeFunction\": 0.245, \"Age\": 57, \"Outcome\": 0}, {\"Pregnancies\": 3, \"Glucose\": 176, \"BloodPressure\": 86, \"SkinThickness\": 27, \"Insulin\": 156, \"BMI\": 33.3, \"DiabetesPedigreeFunction\": 1.154, \"Age\": 52, \"Outcome\": 1}, {\"Pregnancies\": 12, \"Glucose\": 151, \"BloodPressure\": 70, \"SkinThickness\": 40, \"Insulin\": 271, \"BMI\": 41.8, \"DiabetesPedigreeFunction\": 0.742, \"Age\": 38, \"Outcome\": 1}, {\"Pregnancies\": 2, \"Glucose\": 158, \"BloodPressure\": 90, \"SkinThickness\": 0, \"Insulin\": 0, \"BMI\": 31.6, \"DiabetesPedigreeFunction\": 0.805, \"Age\": 66, \"Outcome\": 1}, {\"Pregnancies\": 7, \"Glucose\": 150, \"BloodPressure\": 78, \"SkinThickness\": 29, \"Insulin\": 126, \"BMI\": 35.2, \"DiabetesPedigreeFunction\": 0.692, \"Age\": 54, \"Outcome\": 1}, {\"Pregnancies\": 3, \"Glucose\": 193, \"BloodPressure\": 70, \"SkinThickness\": 31, \"Insulin\": 0, \"BMI\": 34.9, \"DiabetesPedigreeFunction\": 0.241, \"Age\": 25, \"Outcome\": 1}, {\"Pregnancies\": 0, \"Glucose\": 134, \"BloodPressure\": 58, \"SkinThickness\": 20, \"Insulin\": 291, \"BMI\": 26.4, \"DiabetesPedigreeFunction\": 0.352, \"Age\": 21, \"Outcome\": 0}, {\"Pregnancies\": 8, \"Glucose\": 197, \"BloodPressure\": 74, \"SkinThickness\": 0, \"Insulin\": 0, \"BMI\": 25.9, \"DiabetesPedigreeFunction\": 1.191, \"Age\": 39, \"Outcome\": 1}, {\"Pregnancies\": 9, \"Glucose\": 140, \"BloodPressure\": 94, \"SkinThickness\": 0, \"Insulin\": 0, \"BMI\": 32.7, \"DiabetesPedigreeFunction\": 0.734, \"Age\": 45, \"Outcome\": 1}, {\"Pregnancies\": 2, \"Glucose\": 108, \"BloodPressure\": 80, \"SkinThickness\": 0, \"Insulin\": 0, \"BMI\": 27.0, \"DiabetesPedigreeFunction\": 0.259, \"Age\": 52, \"Outcome\": 1}, {\"Pregnancies\": 3, \"Glucose\": 173, \"BloodPressure\": 84, \"SkinThickness\": 33, \"Insulin\": 474, \"BMI\": 35.7, \"DiabetesPedigreeFunction\": 0.258, \"Age\": 22, \"Outcome\": 1}, {\"Pregnancies\": 1, \"Glucose\": 143, \"BloodPressure\": 86, \"SkinThickness\": 30, \"Insulin\": 330, \"BMI\": 30.1, \"DiabetesPedigreeFunction\": 0.892, \"Age\": 23, \"Outcome\": 0}, {\"Pregnancies\": 2, \"Glucose\": 112, \"BloodPressure\": 78, \"SkinThickness\": 50, \"Insulin\": 140, \"BMI\": 39.4, \"DiabetesPedigreeFunction\": 0.175, \"Age\": 24, \"Outcome\": 0}, {\"Pregnancies\": 5, \"Glucose\": 136, \"BloodPressure\": 84, \"SkinThickness\": 41, \"Insulin\": 88, \"BMI\": 35.0, \"DiabetesPedigreeFunction\": 0.286, \"Age\": 35, \"Outcome\": 1}, {\"Pregnancies\": 5, \"Glucose\": 115, \"BloodPressure\": 98, \"SkinThickness\": 0, \"Insulin\": 0, \"BMI\": 52.9, \"DiabetesPedigreeFunction\": 0.209, \"Age\": 28, \"Outcome\": 1}, {\"Pregnancies\": 1, \"Glucose\": 99, \"BloodPressure\": 58, \"SkinThickness\": 10, \"Insulin\": 0, \"BMI\": 25.4, \"DiabetesPedigreeFunction\": 0.551, \"Age\": 21, \"Outcome\": 0}, {\"Pregnancies\": 4, \"Glucose\": 151, \"BloodPressure\": 90, \"SkinThickness\": 38, \"Insulin\": 0, \"BMI\": 29.7, \"DiabetesPedigreeFunction\": 0.294, \"Age\": 36, \"Outcome\": 0}, {\"Pregnancies\": 2, \"Glucose\": 139, \"BloodPressure\": 75, \"SkinThickness\": 0, \"Insulin\": 0, \"BMI\": 25.6, \"DiabetesPedigreeFunction\": 0.167, \"Age\": 29, \"Outcome\": 0}, {\"Pregnancies\": 9, \"Glucose\": 165, \"BloodPressure\": 88, \"SkinThickness\": 0, \"Insulin\": 0, \"BMI\": 30.4, \"DiabetesPedigreeFunction\": 0.302, \"Age\": 49, \"Outcome\": 1}, {\"Pregnancies\": 4, \"Glucose\": 146, \"BloodPressure\": 92, \"SkinThickness\": 0, \"Insulin\": 0, \"BMI\": 31.2, \"DiabetesPedigreeFunction\": 0.539, \"Age\": 61, \"Outcome\": 1}, {\"Pregnancies\": 1, \"Glucose\": 181, \"BloodPressure\": 64, \"SkinThickness\": 30, \"Insulin\": 180, \"BMI\": 34.1, \"DiabetesPedigreeFunction\": 0.328, \"Age\": 38, \"Outcome\": 1}, {\"Pregnancies\": 0, \"Glucose\": 113, \"BloodPressure\": 76, \"SkinThickness\": 0, \"Insulin\": 0, \"BMI\": 33.3, \"DiabetesPedigreeFunction\": 0.278, \"Age\": 23, \"Outcome\": 1}, {\"Pregnancies\": 2, \"Glucose\": 129, \"BloodPressure\": 84, \"SkinThickness\": 0, \"Insulin\": 0, \"BMI\": 28.0, \"DiabetesPedigreeFunction\": 0.284, \"Age\": 27, \"Outcome\": 0}, {\"Pregnancies\": 11, \"Glucose\": 127, \"BloodPressure\": 106, \"SkinThickness\": 0, \"Insulin\": 0, \"BMI\": 39.0, \"DiabetesPedigreeFunction\": 0.19, \"Age\": 51, \"Outcome\": 0}, {\"Pregnancies\": 1, \"Glucose\": 139, \"BloodPressure\": 62, \"SkinThickness\": 41, \"Insulin\": 480, \"BMI\": 40.7, \"DiabetesPedigreeFunction\": 0.536, \"Age\": 21, \"Outcome\": 0}, {\"Pregnancies\": 7, \"Glucose\": 150, \"BloodPressure\": 66, \"SkinThickness\": 42, \"Insulin\": 342, \"BMI\": 34.7, \"DiabetesPedigreeFunction\": 0.718, \"Age\": 42, \"Outcome\": 0}, {\"Pregnancies\": 3, \"Glucose\": 191, \"BloodPressure\": 68, \"SkinThickness\": 15, \"Insulin\": 130, \"BMI\": 30.9, \"DiabetesPedigreeFunction\": 0.299, \"Age\": 34, \"Outcome\": 0}, {\"Pregnancies\": 13, \"Glucose\": 152, \"BloodPressure\": 90, \"SkinThickness\": 33, \"Insulin\": 29, \"BMI\": 26.8, \"DiabetesPedigreeFunction\": 0.731, \"Age\": 43, \"Outcome\": 1}, {\"Pregnancies\": 4, \"Glucose\": 99, \"BloodPressure\": 72, \"SkinThickness\": 17, \"Insulin\": 0, \"BMI\": 25.6, \"DiabetesPedigreeFunction\": 0.294, \"Age\": 28, \"Outcome\": 0}, {\"Pregnancies\": 5, \"Glucose\": 158, \"BloodPressure\": 84, \"SkinThickness\": 41, \"Insulin\": 210, \"BMI\": 39.4, \"DiabetesPedigreeFunction\": 0.395, \"Age\": 29, \"Outcome\": 1}, {\"Pregnancies\": 6, \"Glucose\": 125, \"BloodPressure\": 68, \"SkinThickness\": 30, \"Insulin\": 120, \"BMI\": 30.0, \"DiabetesPedigreeFunction\": 0.464, \"Age\": 32, \"Outcome\": 0}, {\"Pregnancies\": 3, \"Glucose\": 111, \"BloodPressure\": 90, \"SkinThickness\": 12, \"Insulin\": 78, \"BMI\": 28.4, \"DiabetesPedigreeFunction\": 0.495, \"Age\": 29, \"Outcome\": 0}, {\"Pregnancies\": 9, \"Glucose\": 124, \"BloodPressure\": 70, \"SkinThickness\": 33, \"Insulin\": 402, \"BMI\": 35.4, \"DiabetesPedigreeFunction\": 0.282, \"Age\": 34, \"Outcome\": 0}, {\"Pregnancies\": 8, \"Glucose\": 120, \"BloodPressure\": 78, \"SkinThickness\": 0, \"Insulin\": 0, \"BMI\": 25.0, \"DiabetesPedigreeFunction\": 0.409, \"Age\": 64, \"Outcome\": 0}, {\"Pregnancies\": 1, \"Glucose\": 111, \"BloodPressure\": 62, \"SkinThickness\": 13, \"Insulin\": 182, \"BMI\": 24.0, \"DiabetesPedigreeFunction\": 0.138, \"Age\": 23, \"Outcome\": 0}, {\"Pregnancies\": 0, \"Glucose\": 118, \"BloodPressure\": 64, \"SkinThickness\": 23, \"Insulin\": 89, \"BMI\": 0.0, \"DiabetesPedigreeFunction\": 1.731, \"Age\": 21, \"Outcome\": 0}, {\"Pregnancies\": 2, \"Glucose\": 56, \"BloodPressure\": 56, \"SkinThickness\": 28, \"Insulin\": 45, \"BMI\": 24.2, \"DiabetesPedigreeFunction\": 0.332, \"Age\": 22, \"Outcome\": 0}, {\"Pregnancies\": 6, \"Glucose\": 194, \"BloodPressure\": 78, \"SkinThickness\": 0, \"Insulin\": 0, \"BMI\": 23.5, \"DiabetesPedigreeFunction\": 0.129, \"Age\": 59, \"Outcome\": 1}, {\"Pregnancies\": 4, \"Glucose\": 90, \"BloodPressure\": 88, \"SkinThickness\": 47, \"Insulin\": 54, \"BMI\": 37.7, \"DiabetesPedigreeFunction\": 0.362, \"Age\": 29, \"Outcome\": 0}, {\"Pregnancies\": 0, \"Glucose\": 131, \"BloodPressure\": 66, \"SkinThickness\": 40, \"Insulin\": 0, \"BMI\": 34.3, \"DiabetesPedigreeFunction\": 0.196, \"Age\": 22, \"Outcome\": 1}, {\"Pregnancies\": 3, \"Glucose\": 115, \"BloodPressure\": 66, \"SkinThickness\": 39, \"Insulin\": 140, \"BMI\": 38.1, \"DiabetesPedigreeFunction\": 0.15, \"Age\": 28, \"Outcome\": 0}, {\"Pregnancies\": 10, \"Glucose\": 75, \"BloodPressure\": 82, \"SkinThickness\": 0, \"Insulin\": 0, \"BMI\": 33.3, \"DiabetesPedigreeFunction\": 0.263, \"Age\": 38, \"Outcome\": 0}, {\"Pregnancies\": 4, \"Glucose\": 156, \"BloodPressure\": 75, \"SkinThickness\": 0, \"Insulin\": 0, \"BMI\": 48.3, \"DiabetesPedigreeFunction\": 0.238, \"Age\": 32, \"Outcome\": 1}, {\"Pregnancies\": 0, \"Glucose\": 177, \"BloodPressure\": 60, \"SkinThickness\": 29, \"Insulin\": 478, \"BMI\": 34.6, \"DiabetesPedigreeFunction\": 1.072, \"Age\": 21, \"Outcome\": 1}, {\"Pregnancies\": 0, \"Glucose\": 100, \"BloodPressure\": 70, \"SkinThickness\": 26, \"Insulin\": 50, \"BMI\": 30.8, \"DiabetesPedigreeFunction\": 0.597, \"Age\": 21, \"Outcome\": 0}, {\"Pregnancies\": 3, \"Glucose\": 111, \"BloodPressure\": 62, \"SkinThickness\": 0, \"Insulin\": 0, \"BMI\": 22.6, \"DiabetesPedigreeFunction\": 0.142, \"Age\": 21, \"Outcome\": 0}, {\"Pregnancies\": 0, \"Glucose\": 198, \"BloodPressure\": 66, \"SkinThickness\": 32, \"Insulin\": 274, \"BMI\": 41.3, \"DiabetesPedigreeFunction\": 0.502, \"Age\": 28, \"Outcome\": 1}, {\"Pregnancies\": 8, \"Glucose\": 126, \"BloodPressure\": 74, \"SkinThickness\": 38, \"Insulin\": 75, \"BMI\": 25.9, \"DiabetesPedigreeFunction\": 0.162, \"Age\": 39, \"Outcome\": 0}, {\"Pregnancies\": 0, \"Glucose\": 139, \"BloodPressure\": 62, \"SkinThickness\": 17, \"Insulin\": 210, \"BMI\": 22.1, \"DiabetesPedigreeFunction\": 0.207, \"Age\": 21, \"Outcome\": 0}, {\"Pregnancies\": 0, \"Glucose\": 162, \"BloodPressure\": 76, \"SkinThickness\": 56, \"Insulin\": 100, \"BMI\": 53.2, \"DiabetesPedigreeFunction\": 0.759, \"Age\": 25, \"Outcome\": 1}, {\"Pregnancies\": 1, \"Glucose\": 126, \"BloodPressure\": 56, \"SkinThickness\": 29, \"Insulin\": 152, \"BMI\": 28.7, \"DiabetesPedigreeFunction\": 0.801, \"Age\": 21, \"Outcome\": 0}, {\"Pregnancies\": 4, \"Glucose\": 127, \"BloodPressure\": 88, \"SkinThickness\": 11, \"Insulin\": 155, \"BMI\": 34.5, \"DiabetesPedigreeFunction\": 0.598, \"Age\": 28, \"Outcome\": 0}, {\"Pregnancies\": 11, \"Glucose\": 143, \"BloodPressure\": 94, \"SkinThickness\": 33, \"Insulin\": 146, \"BMI\": 36.6, \"DiabetesPedigreeFunction\": 0.254, \"Age\": 51, \"Outcome\": 1}, {\"Pregnancies\": 1, \"Glucose\": 120, \"BloodPressure\": 80, \"SkinThickness\": 48, \"Insulin\": 200, \"BMI\": 38.9, \"DiabetesPedigreeFunction\": 1.162, \"Age\": 41, \"Outcome\": 0}, {\"Pregnancies\": 2, \"Glucose\": 111, \"BloodPressure\": 60, \"SkinThickness\": 0, \"Insulin\": 0, \"BMI\": 26.2, \"DiabetesPedigreeFunction\": 0.343, \"Age\": 23, \"Outcome\": 0}, {\"Pregnancies\": 3, \"Glucose\": 88, \"BloodPressure\": 58, \"SkinThickness\": 11, \"Insulin\": 54, \"BMI\": 24.8, \"DiabetesPedigreeFunction\": 0.267, \"Age\": 22, \"Outcome\": 0}, {\"Pregnancies\": 0, \"Glucose\": 126, \"BloodPressure\": 84, \"SkinThickness\": 29, \"Insulin\": 215, \"BMI\": 30.7, \"DiabetesPedigreeFunction\": 0.52, \"Age\": 24, \"Outcome\": 0}, {\"Pregnancies\": 4, \"Glucose\": 94, \"BloodPressure\": 65, \"SkinThickness\": 22, \"Insulin\": 0, \"BMI\": 24.7, \"DiabetesPedigreeFunction\": 0.148, \"Age\": 21, \"Outcome\": 0}, {\"Pregnancies\": 2, \"Glucose\": 120, \"BloodPressure\": 76, \"SkinThickness\": 37, \"Insulin\": 105, \"BMI\": 39.7, \"DiabetesPedigreeFunction\": 0.215, \"Age\": 29, \"Outcome\": 0}, {\"Pregnancies\": 1, \"Glucose\": 140, \"BloodPressure\": 74, \"SkinThickness\": 26, \"Insulin\": 180, \"BMI\": 24.1, \"DiabetesPedigreeFunction\": 0.828, \"Age\": 23, \"Outcome\": 0}, {\"Pregnancies\": 7, \"Glucose\": 106, \"BloodPressure\": 60, \"SkinThickness\": 24, \"Insulin\": 0, \"BMI\": 26.5, \"DiabetesPedigreeFunction\": 0.296, \"Age\": 29, \"Outcome\": 1}, {\"Pregnancies\": 0, \"Glucose\": 113, \"BloodPressure\": 80, \"SkinThickness\": 16, \"Insulin\": 0, \"BMI\": 31.0, \"DiabetesPedigreeFunction\": 0.874, \"Age\": 21, \"Outcome\": 0}, {\"Pregnancies\": 0, \"Glucose\": 135, \"BloodPressure\": 68, \"SkinThickness\": 42, \"Insulin\": 250, \"BMI\": 42.3, \"DiabetesPedigreeFunction\": 0.365, \"Age\": 24, \"Outcome\": 1}, {\"Pregnancies\": 6, \"Glucose\": 109, \"BloodPressure\": 60, \"SkinThickness\": 27, \"Insulin\": 0, \"BMI\": 25.0, \"DiabetesPedigreeFunction\": 0.206, \"Age\": 27, \"Outcome\": 0}, {\"Pregnancies\": 4, \"Glucose\": 197, \"BloodPressure\": 70, \"SkinThickness\": 39, \"Insulin\": 744, \"BMI\": 36.7, \"DiabetesPedigreeFunction\": 2.329, \"Age\": 31, \"Outcome\": 0}, {\"Pregnancies\": 1, \"Glucose\": 135, \"BloodPressure\": 54, \"SkinThickness\": 0, \"Insulin\": 0, \"BMI\": 26.7, \"DiabetesPedigreeFunction\": 0.687, \"Age\": 62, \"Outcome\": 0}, {\"Pregnancies\": 6, \"Glucose\": 103, \"BloodPressure\": 66, \"SkinThickness\": 0, \"Insulin\": 0, \"BMI\": 24.3, \"DiabetesPedigreeFunction\": 0.249, \"Age\": 29, \"Outcome\": 0}, {\"Pregnancies\": 9, \"Glucose\": 184, \"BloodPressure\": 85, \"SkinThickness\": 15, \"Insulin\": 0, \"BMI\": 30.0, \"DiabetesPedigreeFunction\": 1.213, \"Age\": 49, \"Outcome\": 1}, {\"Pregnancies\": 5, \"Glucose\": 162, \"BloodPressure\": 104, \"SkinThickness\": 0, \"Insulin\": 0, \"BMI\": 37.7, \"DiabetesPedigreeFunction\": 0.151, \"Age\": 52, \"Outcome\": 1}, {\"Pregnancies\": 2, \"Glucose\": 127, \"BloodPressure\": 46, \"SkinThickness\": 21, \"Insulin\": 335, \"BMI\": 34.4, \"DiabetesPedigreeFunction\": 0.176, \"Age\": 22, \"Outcome\": 0}, {\"Pregnancies\": 0, \"Glucose\": 137, \"BloodPressure\": 70, \"SkinThickness\": 38, \"Insulin\": 0, \"BMI\": 33.2, \"DiabetesPedigreeFunction\": 0.17, \"Age\": 22, \"Outcome\": 0}, {\"Pregnancies\": 1, \"Glucose\": 114, \"BloodPressure\": 66, \"SkinThickness\": 36, \"Insulin\": 200, \"BMI\": 38.1, \"DiabetesPedigreeFunction\": 0.289, \"Age\": 21, \"Outcome\": 0}, {\"Pregnancies\": 6, \"Glucose\": 115, \"BloodPressure\": 60, \"SkinThickness\": 39, \"Insulin\": 0, \"BMI\": 33.7, \"DiabetesPedigreeFunction\": 0.245, \"Age\": 40, \"Outcome\": 1}, {\"Pregnancies\": 11, \"Glucose\": 85, \"BloodPressure\": 74, \"SkinThickness\": 0, \"Insulin\": 0, \"BMI\": 30.1, \"DiabetesPedigreeFunction\": 0.3, \"Age\": 35, \"Outcome\": 0}, {\"Pregnancies\": 3, \"Glucose\": 158, \"BloodPressure\": 76, \"SkinThickness\": 36, \"Insulin\": 245, \"BMI\": 31.6, \"DiabetesPedigreeFunction\": 0.851, \"Age\": 28, \"Outcome\": 1}, {\"Pregnancies\": 3, \"Glucose\": 158, \"BloodPressure\": 64, \"SkinThickness\": 13, \"Insulin\": 387, \"BMI\": 31.2, \"DiabetesPedigreeFunction\": 0.295, \"Age\": 24, \"Outcome\": 0}, {\"Pregnancies\": 4, \"Glucose\": 122, \"BloodPressure\": 68, \"SkinThickness\": 0, \"Insulin\": 0, \"BMI\": 35.0, \"DiabetesPedigreeFunction\": 0.394, \"Age\": 29, \"Outcome\": 0}, {\"Pregnancies\": 2, \"Glucose\": 128, \"BloodPressure\": 64, \"SkinThickness\": 42, \"Insulin\": 0, \"BMI\": 40.0, \"DiabetesPedigreeFunction\": 1.101, \"Age\": 24, \"Outcome\": 0}, {\"Pregnancies\": 5, \"Glucose\": 111, \"BloodPressure\": 72, \"SkinThickness\": 28, \"Insulin\": 0, \"BMI\": 23.9, \"DiabetesPedigreeFunction\": 0.407, \"Age\": 27, \"Outcome\": 0}, {\"Pregnancies\": 1, \"Glucose\": 100, \"BloodPressure\": 74, \"SkinThickness\": 12, \"Insulin\": 46, \"BMI\": 19.5, \"DiabetesPedigreeFunction\": 0.149, \"Age\": 28, \"Outcome\": 0}, {\"Pregnancies\": 12, \"Glucose\": 140, \"BloodPressure\": 85, \"SkinThickness\": 33, \"Insulin\": 0, \"BMI\": 37.4, \"DiabetesPedigreeFunction\": 0.244, \"Age\": 41, \"Outcome\": 0}, {\"Pregnancies\": 2, \"Glucose\": 112, \"BloodPressure\": 66, \"SkinThickness\": 22, \"Insulin\": 0, \"BMI\": 25.0, \"DiabetesPedigreeFunction\": 0.307, \"Age\": 24, \"Outcome\": 0}, {\"Pregnancies\": 0, \"Glucose\": 128, \"BloodPressure\": 68, \"SkinThickness\": 19, \"Insulin\": 180, \"BMI\": 30.5, \"DiabetesPedigreeFunction\": 1.391, \"Age\": 25, \"Outcome\": 1}, {\"Pregnancies\": 0, \"Glucose\": 126, \"BloodPressure\": 86, \"SkinThickness\": 27, \"Insulin\": 120, \"BMI\": 27.4, \"DiabetesPedigreeFunction\": 0.515, \"Age\": 21, \"Outcome\": 0}, {\"Pregnancies\": 0, \"Glucose\": 125, \"BloodPressure\": 68, \"SkinThickness\": 0, \"Insulin\": 0, \"BMI\": 24.7, \"DiabetesPedigreeFunction\": 0.206, \"Age\": 21, \"Outcome\": 0}, {\"Pregnancies\": 2, \"Glucose\": 94, \"BloodPressure\": 76, \"SkinThickness\": 18, \"Insulin\": 66, \"BMI\": 31.6, \"DiabetesPedigreeFunction\": 0.649, \"Age\": 23, \"Outcome\": 0}, {\"Pregnancies\": 10, \"Glucose\": 125, \"BloodPressure\": 70, \"SkinThickness\": 26, \"Insulin\": 115, \"BMI\": 31.1, \"DiabetesPedigreeFunction\": 0.205, \"Age\": 41, \"Outcome\": 1}, {\"Pregnancies\": 6, \"Glucose\": 162, \"BloodPressure\": 62, \"SkinThickness\": 0, \"Insulin\": 0, \"BMI\": 24.3, \"DiabetesPedigreeFunction\": 0.178, \"Age\": 50, \"Outcome\": 1}, {\"Pregnancies\": 2, \"Glucose\": 115, \"BloodPressure\": 64, \"SkinThickness\": 22, \"Insulin\": 0, \"BMI\": 30.8, \"DiabetesPedigreeFunction\": 0.421, \"Age\": 21, \"Outcome\": 0}, {\"Pregnancies\": 4, \"Glucose\": 85, \"BloodPressure\": 58, \"SkinThickness\": 22, \"Insulin\": 49, \"BMI\": 27.8, \"DiabetesPedigreeFunction\": 0.306, \"Age\": 28, \"Outcome\": 0}, {\"Pregnancies\": 1, \"Glucose\": 100, \"BloodPressure\": 72, \"SkinThickness\": 12, \"Insulin\": 70, \"BMI\": 25.3, \"DiabetesPedigreeFunction\": 0.658, \"Age\": 28, \"Outcome\": 0}, {\"Pregnancies\": 5, \"Glucose\": 103, \"BloodPressure\": 108, \"SkinThickness\": 37, \"Insulin\": 0, \"BMI\": 39.2, \"DiabetesPedigreeFunction\": 0.305, \"Age\": 65, \"Outcome\": 0}, {\"Pregnancies\": 10, \"Glucose\": 92, \"BloodPressure\": 62, \"SkinThickness\": 0, \"Insulin\": 0, \"BMI\": 25.9, \"DiabetesPedigreeFunction\": 0.167, \"Age\": 31, \"Outcome\": 0}, {\"Pregnancies\": 7, \"Glucose\": 181, \"BloodPressure\": 84, \"SkinThickness\": 21, \"Insulin\": 192, \"BMI\": 35.9, \"DiabetesPedigreeFunction\": 0.586, \"Age\": 51, \"Outcome\": 1}, {\"Pregnancies\": 9, \"Glucose\": 106, \"BloodPressure\": 52, \"SkinThickness\": 0, \"Insulin\": 0, \"BMI\": 31.2, \"DiabetesPedigreeFunction\": 0.38, \"Age\": 42, \"Outcome\": 0}, {\"Pregnancies\": 1, \"Glucose\": 91, \"BloodPressure\": 64, \"SkinThickness\": 24, \"Insulin\": 0, \"BMI\": 29.2, \"DiabetesPedigreeFunction\": 0.192, \"Age\": 21, \"Outcome\": 0}, {\"Pregnancies\": 3, \"Glucose\": 129, \"BloodPressure\": 64, \"SkinThickness\": 29, \"Insulin\": 115, \"BMI\": 26.4, \"DiabetesPedigreeFunction\": 0.219, \"Age\": 28, \"Outcome\": 1}, {\"Pregnancies\": 2, \"Glucose\": 124, \"BloodPressure\": 68, \"SkinThickness\": 28, \"Insulin\": 205, \"BMI\": 32.9, \"DiabetesPedigreeFunction\": 0.875, \"Age\": 30, \"Outcome\": 1}, {\"Pregnancies\": 1, \"Glucose\": 79, \"BloodPressure\": 60, \"SkinThickness\": 42, \"Insulin\": 48, \"BMI\": 43.5, \"DiabetesPedigreeFunction\": 0.678, \"Age\": 23, \"Outcome\": 0}, {\"Pregnancies\": 10, \"Glucose\": 94, \"BloodPressure\": 72, \"SkinThickness\": 18, \"Insulin\": 0, \"BMI\": 23.1, \"DiabetesPedigreeFunction\": 0.595, \"Age\": 56, \"Outcome\": 0}, {\"Pregnancies\": 4, \"Glucose\": 116, \"BloodPressure\": 72, \"SkinThickness\": 12, \"Insulin\": 87, \"BMI\": 22.1, \"DiabetesPedigreeFunction\": 0.463, \"Age\": 37, \"Outcome\": 0}, {\"Pregnancies\": 2, \"Glucose\": 122, \"BloodPressure\": 52, \"SkinThickness\": 43, \"Insulin\": 158, \"BMI\": 36.2, \"DiabetesPedigreeFunction\": 0.816, \"Age\": 28, \"Outcome\": 0}, {\"Pregnancies\": 11, \"Glucose\": 120, \"BloodPressure\": 80, \"SkinThickness\": 37, \"Insulin\": 150, \"BMI\": 42.3, \"DiabetesPedigreeFunction\": 0.785, \"Age\": 48, \"Outcome\": 1}, {\"Pregnancies\": 1, \"Glucose\": 97, \"BloodPressure\": 70, \"SkinThickness\": 15, \"Insulin\": 0, \"BMI\": 18.2, \"DiabetesPedigreeFunction\": 0.147, \"Age\": 21, \"Outcome\": 0}, {\"Pregnancies\": 0, \"Glucose\": 102, \"BloodPressure\": 64, \"SkinThickness\": 46, \"Insulin\": 78, \"BMI\": 40.6, \"DiabetesPedigreeFunction\": 0.496, \"Age\": 21, \"Outcome\": 0}, {\"Pregnancies\": 5, \"Glucose\": 114, \"BloodPressure\": 74, \"SkinThickness\": 0, \"Insulin\": 0, \"BMI\": 24.9, \"DiabetesPedigreeFunction\": 0.744, \"Age\": 57, \"Outcome\": 0}, {\"Pregnancies\": 2, \"Glucose\": 105, \"BloodPressure\": 80, \"SkinThickness\": 45, \"Insulin\": 191, \"BMI\": 33.7, \"DiabetesPedigreeFunction\": 0.711, \"Age\": 29, \"Outcome\": 1}, {\"Pregnancies\": 0, \"Glucose\": 100, \"BloodPressure\": 88, \"SkinThickness\": 60, \"Insulin\": 110, \"BMI\": 46.8, \"DiabetesPedigreeFunction\": 0.962, \"Age\": 31, \"Outcome\": 0}, {\"Pregnancies\": 9, \"Glucose\": 120, \"BloodPressure\": 72, \"SkinThickness\": 22, \"Insulin\": 56, \"BMI\": 20.8, \"DiabetesPedigreeFunction\": 0.733, \"Age\": 48, \"Outcome\": 0}, {\"Pregnancies\": 0, \"Glucose\": 180, \"BloodPressure\": 78, \"SkinThickness\": 63, \"Insulin\": 14, \"BMI\": 59.4, \"DiabetesPedigreeFunction\": 2.42, \"Age\": 25, \"Outcome\": 1}, {\"Pregnancies\": 2, \"Glucose\": 85, \"BloodPressure\": 65, \"SkinThickness\": 0, \"Insulin\": 0, \"BMI\": 39.6, \"DiabetesPedigreeFunction\": 0.93, \"Age\": 27, \"Outcome\": 0}, {\"Pregnancies\": 4, \"Glucose\": 184, \"BloodPressure\": 78, \"SkinThickness\": 39, \"Insulin\": 277, \"BMI\": 37.0, \"DiabetesPedigreeFunction\": 0.264, \"Age\": 31, \"Outcome\": 1}, {\"Pregnancies\": 1, \"Glucose\": 97, \"BloodPressure\": 68, \"SkinThickness\": 21, \"Insulin\": 0, \"BMI\": 27.2, \"DiabetesPedigreeFunction\": 1.095, \"Age\": 22, \"Outcome\": 0}, {\"Pregnancies\": 7, \"Glucose\": 125, \"BloodPressure\": 86, \"SkinThickness\": 0, \"Insulin\": 0, \"BMI\": 37.6, \"DiabetesPedigreeFunction\": 0.304, \"Age\": 51, \"Outcome\": 0}, {\"Pregnancies\": 7, \"Glucose\": 160, \"BloodPressure\": 54, \"SkinThickness\": 32, \"Insulin\": 175, \"BMI\": 30.5, \"DiabetesPedigreeFunction\": 0.588, \"Age\": 39, \"Outcome\": 1}, {\"Pregnancies\": 3, \"Glucose\": 125, \"BloodPressure\": 58, \"SkinThickness\": 0, \"Insulin\": 0, \"BMI\": 31.6, \"DiabetesPedigreeFunction\": 0.151, \"Age\": 24, \"Outcome\": 0}, {\"Pregnancies\": 8, \"Glucose\": 143, \"BloodPressure\": 66, \"SkinThickness\": 0, \"Insulin\": 0, \"BMI\": 34.9, \"DiabetesPedigreeFunction\": 0.129, \"Age\": 41, \"Outcome\": 1}, {\"Pregnancies\": 1, \"Glucose\": 107, \"BloodPressure\": 72, \"SkinThickness\": 30, \"Insulin\": 82, \"BMI\": 30.8, \"DiabetesPedigreeFunction\": 0.821, \"Age\": 24, \"Outcome\": 0}, {\"Pregnancies\": 13, \"Glucose\": 158, \"BloodPressure\": 114, \"SkinThickness\": 0, \"Insulin\": 0, \"BMI\": 42.3, \"DiabetesPedigreeFunction\": 0.257, \"Age\": 44, \"Outcome\": 1}, {\"Pregnancies\": 4, \"Glucose\": 136, \"BloodPressure\": 70, \"SkinThickness\": 0, \"Insulin\": 0, \"BMI\": 31.2, \"DiabetesPedigreeFunction\": 1.182, \"Age\": 22, \"Outcome\": 1}, {\"Pregnancies\": 2, \"Glucose\": 82, \"BloodPressure\": 52, \"SkinThickness\": 22, \"Insulin\": 115, \"BMI\": 28.5, \"DiabetesPedigreeFunction\": 1.699, \"Age\": 25, \"Outcome\": 0}, {\"Pregnancies\": 1, \"Glucose\": 193, \"BloodPressure\": 50, \"SkinThickness\": 16, \"Insulin\": 375, \"BMI\": 25.9, \"DiabetesPedigreeFunction\": 0.655, \"Age\": 24, \"Outcome\": 0}, {\"Pregnancies\": 5, \"Glucose\": 189, \"BloodPressure\": 64, \"SkinThickness\": 33, \"Insulin\": 325, \"BMI\": 31.2, \"DiabetesPedigreeFunction\": 0.583, \"Age\": 29, \"Outcome\": 1}, {\"Pregnancies\": 4, \"Glucose\": 132, \"BloodPressure\": 86, \"SkinThickness\": 31, \"Insulin\": 0, \"BMI\": 28.0, \"DiabetesPedigreeFunction\": 0.419, \"Age\": 63, \"Outcome\": 0}, {\"Pregnancies\": 1, \"Glucose\": 90, \"BloodPressure\": 62, \"SkinThickness\": 18, \"Insulin\": 59, \"BMI\": 25.1, \"DiabetesPedigreeFunction\": 1.268, \"Age\": 25, \"Outcome\": 0}, {\"Pregnancies\": 3, \"Glucose\": 78, \"BloodPressure\": 50, \"SkinThickness\": 32, \"Insulin\": 88, \"BMI\": 31.0, \"DiabetesPedigreeFunction\": 0.248, \"Age\": 26, \"Outcome\": 1}, {\"Pregnancies\": 5, \"Glucose\": 128, \"BloodPressure\": 80, \"SkinThickness\": 0, \"Insulin\": 0, \"BMI\": 34.6, \"DiabetesPedigreeFunction\": 0.144, \"Age\": 45, \"Outcome\": 0}, {\"Pregnancies\": 0, \"Glucose\": 67, \"BloodPressure\": 76, \"SkinThickness\": 0, \"Insulin\": 0, \"BMI\": 45.3, \"DiabetesPedigreeFunction\": 0.194, \"Age\": 46, \"Outcome\": 0}, {\"Pregnancies\": 2, \"Glucose\": 112, \"BloodPressure\": 86, \"SkinThickness\": 42, \"Insulin\": 160, \"BMI\": 38.4, \"DiabetesPedigreeFunction\": 0.246, \"Age\": 28, \"Outcome\": 0}, {\"Pregnancies\": 2, \"Glucose\": 89, \"BloodPressure\": 90, \"SkinThickness\": 30, \"Insulin\": 0, \"BMI\": 33.5, \"DiabetesPedigreeFunction\": 0.292, \"Age\": 42, \"Outcome\": 0}, {\"Pregnancies\": 3, \"Glucose\": 130, \"BloodPressure\": 78, \"SkinThickness\": 23, \"Insulin\": 79, \"BMI\": 28.4, \"DiabetesPedigreeFunction\": 0.323, \"Age\": 34, \"Outcome\": 1}, {\"Pregnancies\": 9, \"Glucose\": 170, \"BloodPressure\": 74, \"SkinThickness\": 31, \"Insulin\": 0, \"BMI\": 44.0, \"DiabetesPedigreeFunction\": 0.403, \"Age\": 43, \"Outcome\": 1}, {\"Pregnancies\": 4, \"Glucose\": 117, \"BloodPressure\": 62, \"SkinThickness\": 12, \"Insulin\": 0, \"BMI\": 29.7, \"DiabetesPedigreeFunction\": 0.38, \"Age\": 30, \"Outcome\": 1}, {\"Pregnancies\": 4, \"Glucose\": 146, \"BloodPressure\": 85, \"SkinThickness\": 27, \"Insulin\": 100, \"BMI\": 28.9, \"DiabetesPedigreeFunction\": 0.189, \"Age\": 27, \"Outcome\": 0}, {\"Pregnancies\": 7, \"Glucose\": 133, \"BloodPressure\": 84, \"SkinThickness\": 0, \"Insulin\": 0, \"BMI\": 40.2, \"DiabetesPedigreeFunction\": 0.696, \"Age\": 37, \"Outcome\": 0}, {\"Pregnancies\": 0, \"Glucose\": 152, \"BloodPressure\": 82, \"SkinThickness\": 39, \"Insulin\": 272, \"BMI\": 41.5, \"DiabetesPedigreeFunction\": 0.27, \"Age\": 27, \"Outcome\": 0}, {\"Pregnancies\": 5, \"Glucose\": 105, \"BloodPressure\": 72, \"SkinThickness\": 29, \"Insulin\": 325, \"BMI\": 36.9, \"DiabetesPedigreeFunction\": 0.159, \"Age\": 28, \"Outcome\": 0}, {\"Pregnancies\": 1, \"Glucose\": 128, \"BloodPressure\": 88, \"SkinThickness\": 39, \"Insulin\": 110, \"BMI\": 36.5, \"DiabetesPedigreeFunction\": 1.057, \"Age\": 37, \"Outcome\": 1}, {\"Pregnancies\": 0, \"Glucose\": 117, \"BloodPressure\": 66, \"SkinThickness\": 31, \"Insulin\": 188, \"BMI\": 30.8, \"DiabetesPedigreeFunction\": 0.493, \"Age\": 22, \"Outcome\": 0}, {\"Pregnancies\": 5, \"Glucose\": 130, \"BloodPressure\": 82, \"SkinThickness\": 0, \"Insulin\": 0, \"BMI\": 39.1, \"DiabetesPedigreeFunction\": 0.956, \"Age\": 37, \"Outcome\": 1}, {\"Pregnancies\": 2, \"Glucose\": 117, \"BloodPressure\": 90, \"SkinThickness\": 19, \"Insulin\": 71, \"BMI\": 25.2, \"DiabetesPedigreeFunction\": 0.313, \"Age\": 21, \"Outcome\": 0}, {\"Pregnancies\": 2, \"Glucose\": 197, \"BloodPressure\": 70, \"SkinThickness\": 45, \"Insulin\": 543, \"BMI\": 30.5, \"DiabetesPedigreeFunction\": 0.158, \"Age\": 53, \"Outcome\": 1}, {\"Pregnancies\": 3, \"Glucose\": 123, \"BloodPressure\": 100, \"SkinThickness\": 35, \"Insulin\": 240, \"BMI\": 57.3, \"DiabetesPedigreeFunction\": 0.88, \"Age\": 22, \"Outcome\": 0}, {\"Pregnancies\": 7, \"Glucose\": 106, \"BloodPressure\": 92, \"SkinThickness\": 18, \"Insulin\": 0, \"BMI\": 22.7, \"DiabetesPedigreeFunction\": 0.235, \"Age\": 48, \"Outcome\": 0}, {\"Pregnancies\": 1, \"Glucose\": 108, \"BloodPressure\": 88, \"SkinThickness\": 19, \"Insulin\": 0, \"BMI\": 27.1, \"DiabetesPedigreeFunction\": 0.4, \"Age\": 24, \"Outcome\": 0}, {\"Pregnancies\": 0, \"Glucose\": 135, \"BloodPressure\": 94, \"SkinThickness\": 46, \"Insulin\": 145, \"BMI\": 40.6, \"DiabetesPedigreeFunction\": 0.284, \"Age\": 26, \"Outcome\": 0}, {\"Pregnancies\": 1, \"Glucose\": 163, \"BloodPressure\": 72, \"SkinThickness\": 0, \"Insulin\": 0, \"BMI\": 39.0, \"DiabetesPedigreeFunction\": 1.222, \"Age\": 33, \"Outcome\": 1}, {\"Pregnancies\": 5, \"Glucose\": 166, \"BloodPressure\": 72, \"SkinThickness\": 19, \"Insulin\": 175, \"BMI\": 25.8, \"DiabetesPedigreeFunction\": 0.587, \"Age\": 51, \"Outcome\": 1}, {\"Pregnancies\": 3, \"Glucose\": 102, \"BloodPressure\": 74, \"SkinThickness\": 0, \"Insulin\": 0, \"BMI\": 29.5, \"DiabetesPedigreeFunction\": 0.121, \"Age\": 32, \"Outcome\": 0}, {\"Pregnancies\": 0, \"Glucose\": 137, \"BloodPressure\": 68, \"SkinThickness\": 14, \"Insulin\": 148, \"BMI\": 24.8, \"DiabetesPedigreeFunction\": 0.143, \"Age\": 21, \"Outcome\": 0}, {\"Pregnancies\": 7, \"Glucose\": 152, \"BloodPressure\": 88, \"SkinThickness\": 44, \"Insulin\": 0, \"BMI\": 50.0, \"DiabetesPedigreeFunction\": 0.337, \"Age\": 36, \"Outcome\": 1}, {\"Pregnancies\": 5, \"Glucose\": 187, \"BloodPressure\": 76, \"SkinThickness\": 27, \"Insulin\": 207, \"BMI\": 43.6, \"DiabetesPedigreeFunction\": 1.034, \"Age\": 53, \"Outcome\": 1}, {\"Pregnancies\": 0, \"Glucose\": 74, \"BloodPressure\": 52, \"SkinThickness\": 10, \"Insulin\": 36, \"BMI\": 27.8, \"DiabetesPedigreeFunction\": 0.269, \"Age\": 22, \"Outcome\": 0}, {\"Pregnancies\": 8, \"Glucose\": 108, \"BloodPressure\": 70, \"SkinThickness\": 0, \"Insulin\": 0, \"BMI\": 30.5, \"DiabetesPedigreeFunction\": 0.955, \"Age\": 33, \"Outcome\": 1}, {\"Pregnancies\": 0, \"Glucose\": 57, \"BloodPressure\": 60, \"SkinThickness\": 0, \"Insulin\": 0, \"BMI\": 21.7, \"DiabetesPedigreeFunction\": 0.735, \"Age\": 67, \"Outcome\": 0}, {\"Pregnancies\": 4, \"Glucose\": 144, \"BloodPressure\": 58, \"SkinThickness\": 28, \"Insulin\": 140, \"BMI\": 29.5, \"DiabetesPedigreeFunction\": 0.287, \"Age\": 37, \"Outcome\": 0}, {\"Pregnancies\": 5, \"Glucose\": 117, \"BloodPressure\": 92, \"SkinThickness\": 0, \"Insulin\": 0, \"BMI\": 34.1, \"DiabetesPedigreeFunction\": 0.337, \"Age\": 38, \"Outcome\": 0}, {\"Pregnancies\": 5, \"Glucose\": 117, \"BloodPressure\": 86, \"SkinThickness\": 30, \"Insulin\": 105, \"BMI\": 39.1, \"DiabetesPedigreeFunction\": 0.251, \"Age\": 42, \"Outcome\": 0}, {\"Pregnancies\": 6, \"Glucose\": 85, \"BloodPressure\": 78, \"SkinThickness\": 0, \"Insulin\": 0, \"BMI\": 31.2, \"DiabetesPedigreeFunction\": 0.382, \"Age\": 42, \"Outcome\": 0}, {\"Pregnancies\": 4, \"Glucose\": 123, \"BloodPressure\": 80, \"SkinThickness\": 15, \"Insulin\": 176, \"BMI\": 32.0, \"DiabetesPedigreeFunction\": 0.443, \"Age\": 34, \"Outcome\": 0}, {\"Pregnancies\": 5, \"Glucose\": 144, \"BloodPressure\": 82, \"SkinThickness\": 26, \"Insulin\": 285, \"BMI\": 32.0, \"DiabetesPedigreeFunction\": 0.452, \"Age\": 58, \"Outcome\": 1}, {\"Pregnancies\": 4, \"Glucose\": 154, \"BloodPressure\": 62, \"SkinThickness\": 31, \"Insulin\": 284, \"BMI\": 32.8, \"DiabetesPedigreeFunction\": 0.237, \"Age\": 23, \"Outcome\": 0}, {\"Pregnancies\": 1, \"Glucose\": 85, \"BloodPressure\": 66, \"SkinThickness\": 29, \"Insulin\": 0, \"BMI\": 26.6, \"DiabetesPedigreeFunction\": 0.351, \"Age\": 31, \"Outcome\": 0}, {\"Pregnancies\": 0, \"Glucose\": 121, \"BloodPressure\": 66, \"SkinThickness\": 30, \"Insulin\": 165, \"BMI\": 34.3, \"DiabetesPedigreeFunction\": 0.203, \"Age\": 33, \"Outcome\": 1}, {\"Pregnancies\": 9, \"Glucose\": 119, \"BloodPressure\": 80, \"SkinThickness\": 35, \"Insulin\": 0, \"BMI\": 29.0, \"DiabetesPedigreeFunction\": 0.263, \"Age\": 29, \"Outcome\": 1}, {\"Pregnancies\": 6, \"Glucose\": 92, \"BloodPressure\": 92, \"SkinThickness\": 0, \"Insulin\": 0, \"BMI\": 19.9, \"DiabetesPedigreeFunction\": 0.188, \"Age\": 28, \"Outcome\": 0}, {\"Pregnancies\": 5, \"Glucose\": 158, \"BloodPressure\": 70, \"SkinThickness\": 0, \"Insulin\": 0, \"BMI\": 29.8, \"DiabetesPedigreeFunction\": 0.207, \"Age\": 63, \"Outcome\": 0}, {\"Pregnancies\": 6, \"Glucose\": 137, \"BloodPressure\": 61, \"SkinThickness\": 0, \"Insulin\": 0, \"BMI\": 24.2, \"DiabetesPedigreeFunction\": 0.151, \"Age\": 55, \"Outcome\": 0}, {\"Pregnancies\": 3, \"Glucose\": 129, \"BloodPressure\": 92, \"SkinThickness\": 49, \"Insulin\": 155, \"BMI\": 36.4, \"DiabetesPedigreeFunction\": 0.968, \"Age\": 32, \"Outcome\": 1}, {\"Pregnancies\": 3, \"Glucose\": 173, \"BloodPressure\": 82, \"SkinThickness\": 48, \"Insulin\": 465, \"BMI\": 38.4, \"DiabetesPedigreeFunction\": 2.137, \"Age\": 25, \"Outcome\": 1}, {\"Pregnancies\": 2, \"Glucose\": 99, \"BloodPressure\": 60, \"SkinThickness\": 17, \"Insulin\": 160, \"BMI\": 36.6, \"DiabetesPedigreeFunction\": 0.453, \"Age\": 21, \"Outcome\": 0}, {\"Pregnancies\": 3, \"Glucose\": 113, \"BloodPressure\": 44, \"SkinThickness\": 13, \"Insulin\": 0, \"BMI\": 22.4, \"DiabetesPedigreeFunction\": 0.14, \"Age\": 22, \"Outcome\": 0}, {\"Pregnancies\": 1, \"Glucose\": 87, \"BloodPressure\": 60, \"SkinThickness\": 37, \"Insulin\": 75, \"BMI\": 37.2, \"DiabetesPedigreeFunction\": 0.509, \"Age\": 22, \"Outcome\": 0}, {\"Pregnancies\": 4, \"Glucose\": 134, \"BloodPressure\": 72, \"SkinThickness\": 0, \"Insulin\": 0, \"BMI\": 23.8, \"DiabetesPedigreeFunction\": 0.277, \"Age\": 60, \"Outcome\": 1}, {\"Pregnancies\": 3, \"Glucose\": 96, \"BloodPressure\": 56, \"SkinThickness\": 34, \"Insulin\": 115, \"BMI\": 24.7, \"DiabetesPedigreeFunction\": 0.944, \"Age\": 39, \"Outcome\": 0}, {\"Pregnancies\": 2, \"Glucose\": 155, \"BloodPressure\": 74, \"SkinThickness\": 17, \"Insulin\": 96, \"BMI\": 26.6, \"DiabetesPedigreeFunction\": 0.433, \"Age\": 27, \"Outcome\": 1}, {\"Pregnancies\": 1, \"Glucose\": 112, \"BloodPressure\": 72, \"SkinThickness\": 30, \"Insulin\": 176, \"BMI\": 34.4, \"DiabetesPedigreeFunction\": 0.528, \"Age\": 25, \"Outcome\": 0}, {\"Pregnancies\": 1, \"Glucose\": 125, \"BloodPressure\": 50, \"SkinThickness\": 40, \"Insulin\": 167, \"BMI\": 33.3, \"DiabetesPedigreeFunction\": 0.962, \"Age\": 28, \"Outcome\": 1}, {\"Pregnancies\": 0, \"Glucose\": 146, \"BloodPressure\": 82, \"SkinThickness\": 0, \"Insulin\": 0, \"BMI\": 40.5, \"DiabetesPedigreeFunction\": 1.781, \"Age\": 44, \"Outcome\": 0}, {\"Pregnancies\": 14, \"Glucose\": 100, \"BloodPressure\": 78, \"SkinThickness\": 25, \"Insulin\": 184, \"BMI\": 36.6, \"DiabetesPedigreeFunction\": 0.412, \"Age\": 46, \"Outcome\": 1}, {\"Pregnancies\": 8, \"Glucose\": 109, \"BloodPressure\": 76, \"SkinThickness\": 39, \"Insulin\": 114, \"BMI\": 27.9, \"DiabetesPedigreeFunction\": 0.64, \"Age\": 31, \"Outcome\": 1}, {\"Pregnancies\": 6, \"Glucose\": 92, \"BloodPressure\": 62, \"SkinThickness\": 32, \"Insulin\": 126, \"BMI\": 32.0, \"DiabetesPedigreeFunction\": 0.085, \"Age\": 46, \"Outcome\": 0}, {\"Pregnancies\": 0, \"Glucose\": 97, \"BloodPressure\": 64, \"SkinThickness\": 36, \"Insulin\": 100, \"BMI\": 36.8, \"DiabetesPedigreeFunction\": 0.6, \"Age\": 25, \"Outcome\": 0}, {\"Pregnancies\": 9, \"Glucose\": 112, \"BloodPressure\": 82, \"SkinThickness\": 24, \"Insulin\": 0, \"BMI\": 28.2, \"DiabetesPedigreeFunction\": 1.282, \"Age\": 50, \"Outcome\": 1}, {\"Pregnancies\": 1, \"Glucose\": 84, \"BloodPressure\": 64, \"SkinThickness\": 23, \"Insulin\": 115, \"BMI\": 36.9, \"DiabetesPedigreeFunction\": 0.471, \"Age\": 28, \"Outcome\": 0}, {\"Pregnancies\": 13, \"Glucose\": 104, \"BloodPressure\": 72, \"SkinThickness\": 0, \"Insulin\": 0, \"BMI\": 31.2, \"DiabetesPedigreeFunction\": 0.465, \"Age\": 38, \"Outcome\": 1}, {\"Pregnancies\": 2, \"Glucose\": 120, \"BloodPressure\": 54, \"SkinThickness\": 0, \"Insulin\": 0, \"BMI\": 26.8, \"DiabetesPedigreeFunction\": 0.455, \"Age\": 27, \"Outcome\": 0}, {\"Pregnancies\": 4, \"Glucose\": 110, \"BloodPressure\": 76, \"SkinThickness\": 20, \"Insulin\": 100, \"BMI\": 28.4, \"DiabetesPedigreeFunction\": 0.118, \"Age\": 27, \"Outcome\": 0}, {\"Pregnancies\": 2, \"Glucose\": 105, \"BloodPressure\": 58, \"SkinThickness\": 40, \"Insulin\": 94, \"BMI\": 34.9, \"DiabetesPedigreeFunction\": 0.225, \"Age\": 25, \"Outcome\": 0}, {\"Pregnancies\": 4, \"Glucose\": 76, \"BloodPressure\": 62, \"SkinThickness\": 0, \"Insulin\": 0, \"BMI\": 34.0, \"DiabetesPedigreeFunction\": 0.391, \"Age\": 25, \"Outcome\": 0}, {\"Pregnancies\": 1, \"Glucose\": 149, \"BloodPressure\": 68, \"SkinThickness\": 29, \"Insulin\": 127, \"BMI\": 29.3, \"DiabetesPedigreeFunction\": 0.349, \"Age\": 42, \"Outcome\": 1}, {\"Pregnancies\": 0, \"Glucose\": 162, \"BloodPressure\": 76, \"SkinThickness\": 36, \"Insulin\": 0, \"BMI\": 49.6, \"DiabetesPedigreeFunction\": 0.364, \"Age\": 26, \"Outcome\": 1}, {\"Pregnancies\": 5, \"Glucose\": 123, \"BloodPressure\": 74, \"SkinThickness\": 40, \"Insulin\": 77, \"BMI\": 34.1, \"DiabetesPedigreeFunction\": 0.269, \"Age\": 28, \"Outcome\": 0}, {\"Pregnancies\": 2, \"Glucose\": 100, \"BloodPressure\": 54, \"SkinThickness\": 28, \"Insulin\": 105, \"BMI\": 37.8, \"DiabetesPedigreeFunction\": 0.498, \"Age\": 24, \"Outcome\": 0}, {\"Pregnancies\": 11, \"Glucose\": 138, \"BloodPressure\": 76, \"SkinThickness\": 0, \"Insulin\": 0, \"BMI\": 33.2, \"DiabetesPedigreeFunction\": 0.42, \"Age\": 35, \"Outcome\": 0}, {\"Pregnancies\": 7, \"Glucose\": 102, \"BloodPressure\": 74, \"SkinThickness\": 40, \"Insulin\": 105, \"BMI\": 37.2, \"DiabetesPedigreeFunction\": 0.204, \"Age\": 45, \"Outcome\": 0}, {\"Pregnancies\": 0, \"Glucose\": 137, \"BloodPressure\": 40, \"SkinThickness\": 35, \"Insulin\": 168, \"BMI\": 43.1, \"DiabetesPedigreeFunction\": 2.288, \"Age\": 33, \"Outcome\": 1}, {\"Pregnancies\": 4, \"Glucose\": 95, \"BloodPressure\": 64, \"SkinThickness\": 0, \"Insulin\": 0, \"BMI\": 32.0, \"DiabetesPedigreeFunction\": 0.161, \"Age\": 31, \"Outcome\": 1}, {\"Pregnancies\": 4, \"Glucose\": 171, \"BloodPressure\": 72, \"SkinThickness\": 0, \"Insulin\": 0, \"BMI\": 43.6, \"DiabetesPedigreeFunction\": 0.479, \"Age\": 26, \"Outcome\": 1}, {\"Pregnancies\": 3, \"Glucose\": 111, \"BloodPressure\": 56, \"SkinThickness\": 39, \"Insulin\": 0, \"BMI\": 30.1, \"DiabetesPedigreeFunction\": 0.557, \"Age\": 30, \"Outcome\": 0}, {\"Pregnancies\": 2, \"Glucose\": 90, \"BloodPressure\": 80, \"SkinThickness\": 14, \"Insulin\": 55, \"BMI\": 24.4, \"DiabetesPedigreeFunction\": 0.249, \"Age\": 24, \"Outcome\": 0}, {\"Pregnancies\": 2, \"Glucose\": 142, \"BloodPressure\": 82, \"SkinThickness\": 18, \"Insulin\": 64, \"BMI\": 24.7, \"DiabetesPedigreeFunction\": 0.761, \"Age\": 21, \"Outcome\": 0}, {\"Pregnancies\": 0, \"Glucose\": 129, \"BloodPressure\": 80, \"SkinThickness\": 0, \"Insulin\": 0, \"BMI\": 31.2, \"DiabetesPedigreeFunction\": 0.703, \"Age\": 29, \"Outcome\": 0}, {\"Pregnancies\": 7, \"Glucose\": 195, \"BloodPressure\": 70, \"SkinThickness\": 33, \"Insulin\": 145, \"BMI\": 25.1, \"DiabetesPedigreeFunction\": 0.163, \"Age\": 55, \"Outcome\": 1}, {\"Pregnancies\": 13, \"Glucose\": 153, \"BloodPressure\": 88, \"SkinThickness\": 37, \"Insulin\": 140, \"BMI\": 40.6, \"DiabetesPedigreeFunction\": 1.174, \"Age\": 39, \"Outcome\": 0}, {\"Pregnancies\": 8, \"Glucose\": 188, \"BloodPressure\": 78, \"SkinThickness\": 0, \"Insulin\": 0, \"BMI\": 47.9, \"DiabetesPedigreeFunction\": 0.137, \"Age\": 43, \"Outcome\": 1}, {\"Pregnancies\": 0, \"Glucose\": 93, \"BloodPressure\": 60, \"SkinThickness\": 25, \"Insulin\": 92, \"BMI\": 28.7, \"DiabetesPedigreeFunction\": 0.532, \"Age\": 22, \"Outcome\": 0}, {\"Pregnancies\": 0, \"Glucose\": 131, \"BloodPressure\": 88, \"SkinThickness\": 0, \"Insulin\": 0, \"BMI\": 31.6, \"DiabetesPedigreeFunction\": 0.743, \"Age\": 32, \"Outcome\": 1}, {\"Pregnancies\": 1, \"Glucose\": 113, \"BloodPressure\": 64, \"SkinThickness\": 35, \"Insulin\": 0, \"BMI\": 33.6, \"DiabetesPedigreeFunction\": 0.543, \"Age\": 21, \"Outcome\": 1}, {\"Pregnancies\": 2, \"Glucose\": 114, \"BloodPressure\": 68, \"SkinThickness\": 22, \"Insulin\": 0, \"BMI\": 28.7, \"DiabetesPedigreeFunction\": 0.092, \"Age\": 25, \"Outcome\": 0}, {\"Pregnancies\": 1, \"Glucose\": 80, \"BloodPressure\": 55, \"SkinThickness\": 0, \"Insulin\": 0, \"BMI\": 19.1, \"DiabetesPedigreeFunction\": 0.258, \"Age\": 21, \"Outcome\": 0}, {\"Pregnancies\": 1, \"Glucose\": 117, \"BloodPressure\": 88, \"SkinThickness\": 24, \"Insulin\": 145, \"BMI\": 34.5, \"DiabetesPedigreeFunction\": 0.403, \"Age\": 40, \"Outcome\": 1}, {\"Pregnancies\": 2, \"Glucose\": 157, \"BloodPressure\": 74, \"SkinThickness\": 35, \"Insulin\": 440, \"BMI\": 39.4, \"DiabetesPedigreeFunction\": 0.134, \"Age\": 30, \"Outcome\": 0}, {\"Pregnancies\": 1, \"Glucose\": 95, \"BloodPressure\": 74, \"SkinThickness\": 21, \"Insulin\": 73, \"BMI\": 25.9, \"DiabetesPedigreeFunction\": 0.673, \"Age\": 36, \"Outcome\": 0}, {\"Pregnancies\": 1, \"Glucose\": 97, \"BloodPressure\": 66, \"SkinThickness\": 15, \"Insulin\": 140, \"BMI\": 23.2, \"DiabetesPedigreeFunction\": 0.487, \"Age\": 22, \"Outcome\": 0}, {\"Pregnancies\": 5, \"Glucose\": 110, \"BloodPressure\": 68, \"SkinThickness\": 0, \"Insulin\": 0, \"BMI\": 26.0, \"DiabetesPedigreeFunction\": 0.292, \"Age\": 30, \"Outcome\": 0}, {\"Pregnancies\": 8, \"Glucose\": 91, \"BloodPressure\": 82, \"SkinThickness\": 0, \"Insulin\": 0, \"BMI\": 35.6, \"DiabetesPedigreeFunction\": 0.587, \"Age\": 68, \"Outcome\": 0}, {\"Pregnancies\": 2, \"Glucose\": 122, \"BloodPressure\": 60, \"SkinThickness\": 18, \"Insulin\": 106, \"BMI\": 29.8, \"DiabetesPedigreeFunction\": 0.717, \"Age\": 22, \"Outcome\": 0}, {\"Pregnancies\": 5, \"Glucose\": 96, \"BloodPressure\": 74, \"SkinThickness\": 18, \"Insulin\": 67, \"BMI\": 33.6, \"DiabetesPedigreeFunction\": 0.997, \"Age\": 43, \"Outcome\": 0}, {\"Pregnancies\": 9, \"Glucose\": 145, \"BloodPressure\": 80, \"SkinThickness\": 46, \"Insulin\": 130, \"BMI\": 37.9, \"DiabetesPedigreeFunction\": 0.637, \"Age\": 40, \"Outcome\": 1}, {\"Pregnancies\": 1, \"Glucose\": 95, \"BloodPressure\": 66, \"SkinThickness\": 13, \"Insulin\": 38, \"BMI\": 19.6, \"DiabetesPedigreeFunction\": 0.334, \"Age\": 25, \"Outcome\": 0}, {\"Pregnancies\": 4, \"Glucose\": 97, \"BloodPressure\": 60, \"SkinThickness\": 23, \"Insulin\": 0, \"BMI\": 28.2, \"DiabetesPedigreeFunction\": 0.443, \"Age\": 22, \"Outcome\": 0}, {\"Pregnancies\": 6, \"Glucose\": 102, \"BloodPressure\": 90, \"SkinThickness\": 39, \"Insulin\": 0, \"BMI\": 35.7, \"DiabetesPedigreeFunction\": 0.674, \"Age\": 28, \"Outcome\": 0}, {\"Pregnancies\": 9, \"Glucose\": 130, \"BloodPressure\": 70, \"SkinThickness\": 0, \"Insulin\": 0, \"BMI\": 34.2, \"DiabetesPedigreeFunction\": 0.652, \"Age\": 45, \"Outcome\": 1}, {\"Pregnancies\": 4, \"Glucose\": 147, \"BloodPressure\": 74, \"SkinThickness\": 25, \"Insulin\": 293, \"BMI\": 34.9, \"DiabetesPedigreeFunction\": 0.385, \"Age\": 30, \"Outcome\": 0}, {\"Pregnancies\": 1, \"Glucose\": 81, \"BloodPressure\": 74, \"SkinThickness\": 41, \"Insulin\": 57, \"BMI\": 46.3, \"DiabetesPedigreeFunction\": 1.096, \"Age\": 32, \"Outcome\": 0}, {\"Pregnancies\": 13, \"Glucose\": 76, \"BloodPressure\": 60, \"SkinThickness\": 0, \"Insulin\": 0, \"BMI\": 32.8, \"DiabetesPedigreeFunction\": 0.18, \"Age\": 41, \"Outcome\": 0}, {\"Pregnancies\": 6, \"Glucose\": 125, \"BloodPressure\": 78, \"SkinThickness\": 31, \"Insulin\": 0, \"BMI\": 27.6, \"DiabetesPedigreeFunction\": 0.565, \"Age\": 49, \"Outcome\": 1}, {\"Pregnancies\": 7, \"Glucose\": 103, \"BloodPressure\": 66, \"SkinThickness\": 32, \"Insulin\": 0, \"BMI\": 39.1, \"DiabetesPedigreeFunction\": 0.344, \"Age\": 31, \"Outcome\": 1}, {\"Pregnancies\": 12, \"Glucose\": 100, \"BloodPressure\": 84, \"SkinThickness\": 33, \"Insulin\": 105, \"BMI\": 30.0, \"DiabetesPedigreeFunction\": 0.488, \"Age\": 46, \"Outcome\": 0}, {\"Pregnancies\": 10, \"Glucose\": 179, \"BloodPressure\": 70, \"SkinThickness\": 0, \"Insulin\": 0, \"BMI\": 35.1, \"DiabetesPedigreeFunction\": 0.2, \"Age\": 37, \"Outcome\": 0}, {\"Pregnancies\": 1, \"Glucose\": 122, \"BloodPressure\": 90, \"SkinThickness\": 51, \"Insulin\": 220, \"BMI\": 49.7, \"DiabetesPedigreeFunction\": 0.325, \"Age\": 31, \"Outcome\": 1}, {\"Pregnancies\": 1, \"Glucose\": 90, \"BloodPressure\": 68, \"SkinThickness\": 8, \"Insulin\": 0, \"BMI\": 24.5, \"DiabetesPedigreeFunction\": 1.138, \"Age\": 36, \"Outcome\": 0}, {\"Pregnancies\": 1, \"Glucose\": 111, \"BloodPressure\": 86, \"SkinThickness\": 19, \"Insulin\": 0, \"BMI\": 30.1, \"DiabetesPedigreeFunction\": 0.143, \"Age\": 23, \"Outcome\": 0}, {\"Pregnancies\": 3, \"Glucose\": 106, \"BloodPressure\": 54, \"SkinThickness\": 21, \"Insulin\": 158, \"BMI\": 30.9, \"DiabetesPedigreeFunction\": 0.292, \"Age\": 24, \"Outcome\": 0}, {\"Pregnancies\": 1, \"Glucose\": 88, \"BloodPressure\": 78, \"SkinThickness\": 29, \"Insulin\": 76, \"BMI\": 32.0, \"DiabetesPedigreeFunction\": 0.365, \"Age\": 29, \"Outcome\": 0}, {\"Pregnancies\": 4, \"Glucose\": 92, \"BloodPressure\": 80, \"SkinThickness\": 0, \"Insulin\": 0, \"BMI\": 42.2, \"DiabetesPedigreeFunction\": 0.237, \"Age\": 29, \"Outcome\": 0}, {\"Pregnancies\": 0, \"Glucose\": 95, \"BloodPressure\": 64, \"SkinThickness\": 39, \"Insulin\": 105, \"BMI\": 44.6, \"DiabetesPedigreeFunction\": 0.366, \"Age\": 22, \"Outcome\": 0}, {\"Pregnancies\": 5, \"Glucose\": 73, \"BloodPressure\": 60, \"SkinThickness\": 0, \"Insulin\": 0, \"BMI\": 26.8, \"DiabetesPedigreeFunction\": 0.268, \"Age\": 27, \"Outcome\": 0}, {\"Pregnancies\": 5, \"Glucose\": 147, \"BloodPressure\": 78, \"SkinThickness\": 0, \"Insulin\": 0, \"BMI\": 33.7, \"DiabetesPedigreeFunction\": 0.218, \"Age\": 65, \"Outcome\": 0}, {\"Pregnancies\": 0, \"Glucose\": 91, \"BloodPressure\": 68, \"SkinThickness\": 32, \"Insulin\": 210, \"BMI\": 39.9, \"DiabetesPedigreeFunction\": 0.381, \"Age\": 25, \"Outcome\": 0}, {\"Pregnancies\": 0, \"Glucose\": 179, \"BloodPressure\": 90, \"SkinThickness\": 27, \"Insulin\": 0, \"BMI\": 44.1, \"DiabetesPedigreeFunction\": 0.686, \"Age\": 23, \"Outcome\": 1}, {\"Pregnancies\": 3, \"Glucose\": 139, \"BloodPressure\": 54, \"SkinThickness\": 0, \"Insulin\": 0, \"BMI\": 25.6, \"DiabetesPedigreeFunction\": 0.402, \"Age\": 22, \"Outcome\": 1}, {\"Pregnancies\": 0, \"Glucose\": 173, \"BloodPressure\": 78, \"SkinThickness\": 32, \"Insulin\": 265, \"BMI\": 46.5, \"DiabetesPedigreeFunction\": 1.159, \"Age\": 58, \"Outcome\": 0}, {\"Pregnancies\": 8, \"Glucose\": 110, \"BloodPressure\": 76, \"SkinThickness\": 0, \"Insulin\": 0, \"BMI\": 27.8, \"DiabetesPedigreeFunction\": 0.237, \"Age\": 58, \"Outcome\": 0}, {\"Pregnancies\": 0, \"Glucose\": 107, \"BloodPressure\": 60, \"SkinThickness\": 25, \"Insulin\": 0, \"BMI\": 26.4, \"DiabetesPedigreeFunction\": 0.133, \"Age\": 23, \"Outcome\": 0}, {\"Pregnancies\": 1, \"Glucose\": 109, \"BloodPressure\": 60, \"SkinThickness\": 8, \"Insulin\": 182, \"BMI\": 25.4, \"DiabetesPedigreeFunction\": 0.947, \"Age\": 21, \"Outcome\": 0}, {\"Pregnancies\": 11, \"Glucose\": 111, \"BloodPressure\": 84, \"SkinThickness\": 40, \"Insulin\": 0, \"BMI\": 46.8, \"DiabetesPedigreeFunction\": 0.925, \"Age\": 45, \"Outcome\": 1}, {\"Pregnancies\": 2, \"Glucose\": 106, \"BloodPressure\": 64, \"SkinThickness\": 35, \"Insulin\": 119, \"BMI\": 30.5, \"DiabetesPedigreeFunction\": 1.4, \"Age\": 34, \"Outcome\": 0}, {\"Pregnancies\": 2, \"Glucose\": 130, \"BloodPressure\": 96, \"SkinThickness\": 0, \"Insulin\": 0, \"BMI\": 22.6, \"DiabetesPedigreeFunction\": 0.268, \"Age\": 21, \"Outcome\": 0}, {\"Pregnancies\": 2, \"Glucose\": 155, \"BloodPressure\": 52, \"SkinThickness\": 27, \"Insulin\": 540, \"BMI\": 38.7, \"DiabetesPedigreeFunction\": 0.24, \"Age\": 25, \"Outcome\": 1}, {\"Pregnancies\": 9, \"Glucose\": 154, \"BloodPressure\": 78, \"SkinThickness\": 30, \"Insulin\": 100, \"BMI\": 30.9, \"DiabetesPedigreeFunction\": 0.164, \"Age\": 45, \"Outcome\": 0}, {\"Pregnancies\": 2, \"Glucose\": 122, \"BloodPressure\": 76, \"SkinThickness\": 27, \"Insulin\": 200, \"BMI\": 35.9, \"DiabetesPedigreeFunction\": 0.483, \"Age\": 26, \"Outcome\": 0}, {\"Pregnancies\": 6, \"Glucose\": 98, \"BloodPressure\": 58, \"SkinThickness\": 33, \"Insulin\": 190, \"BMI\": 34.0, \"DiabetesPedigreeFunction\": 0.43, \"Age\": 43, \"Outcome\": 0}, {\"Pregnancies\": 7, \"Glucose\": 142, \"BloodPressure\": 90, \"SkinThickness\": 24, \"Insulin\": 480, \"BMI\": 30.4, \"DiabetesPedigreeFunction\": 0.128, \"Age\": 43, \"Outcome\": 1}, {\"Pregnancies\": 7, \"Glucose\": 109, \"BloodPressure\": 80, \"SkinThickness\": 31, \"Insulin\": 0, \"BMI\": 35.9, \"DiabetesPedigreeFunction\": 1.127, \"Age\": 43, \"Outcome\": 1}, {\"Pregnancies\": 1, \"Glucose\": 111, \"BloodPressure\": 94, \"SkinThickness\": 0, \"Insulin\": 0, \"BMI\": 32.8, \"DiabetesPedigreeFunction\": 0.265, \"Age\": 45, \"Outcome\": 0}, {\"Pregnancies\": 10, \"Glucose\": 168, \"BloodPressure\": 74, \"SkinThickness\": 0, \"Insulin\": 0, \"BMI\": 38.0, \"DiabetesPedigreeFunction\": 0.537, \"Age\": 34, \"Outcome\": 1}, {\"Pregnancies\": 8, \"Glucose\": 65, \"BloodPressure\": 72, \"SkinThickness\": 23, \"Insulin\": 0, \"BMI\": 32.0, \"DiabetesPedigreeFunction\": 0.6, \"Age\": 42, \"Outcome\": 0}, {\"Pregnancies\": 2, \"Glucose\": 108, \"BloodPressure\": 62, \"SkinThickness\": 32, \"Insulin\": 56, \"BMI\": 25.2, \"DiabetesPedigreeFunction\": 0.128, \"Age\": 21, \"Outcome\": 0}, {\"Pregnancies\": 1, \"Glucose\": 100, \"BloodPressure\": 66, \"SkinThickness\": 15, \"Insulin\": 56, \"BMI\": 23.6, \"DiabetesPedigreeFunction\": 0.666, \"Age\": 26, \"Outcome\": 0}, {\"Pregnancies\": 1, \"Glucose\": 119, \"BloodPressure\": 88, \"SkinThickness\": 41, \"Insulin\": 170, \"BMI\": 45.3, \"DiabetesPedigreeFunction\": 0.507, \"Age\": 26, \"Outcome\": 0}, {\"Pregnancies\": 5, \"Glucose\": 95, \"BloodPressure\": 72, \"SkinThickness\": 33, \"Insulin\": 0, \"BMI\": 37.7, \"DiabetesPedigreeFunction\": 0.37, \"Age\": 27, \"Outcome\": 0}, {\"Pregnancies\": 2, \"Glucose\": 81, \"BloodPressure\": 60, \"SkinThickness\": 22, \"Insulin\": 0, \"BMI\": 27.7, \"DiabetesPedigreeFunction\": 0.29, \"Age\": 25, \"Outcome\": 0}, {\"Pregnancies\": 12, \"Glucose\": 121, \"BloodPressure\": 78, \"SkinThickness\": 17, \"Insulin\": 0, \"BMI\": 26.5, \"DiabetesPedigreeFunction\": 0.259, \"Age\": 62, \"Outcome\": 0}, {\"Pregnancies\": 2, \"Glucose\": 107, \"BloodPressure\": 74, \"SkinThickness\": 30, \"Insulin\": 100, \"BMI\": 33.6, \"DiabetesPedigreeFunction\": 0.404, \"Age\": 23, \"Outcome\": 0}, {\"Pregnancies\": 4, \"Glucose\": 137, \"BloodPressure\": 84, \"SkinThickness\": 0, \"Insulin\": 0, \"BMI\": 31.2, \"DiabetesPedigreeFunction\": 0.252, \"Age\": 30, \"Outcome\": 0}, {\"Pregnancies\": 1, \"Glucose\": 95, \"BloodPressure\": 60, \"SkinThickness\": 18, \"Insulin\": 58, \"BMI\": 23.9, \"DiabetesPedigreeFunction\": 0.26, \"Age\": 22, \"Outcome\": 0}, {\"Pregnancies\": 5, \"Glucose\": 88, \"BloodPressure\": 78, \"SkinThickness\": 30, \"Insulin\": 0, \"BMI\": 27.6, \"DiabetesPedigreeFunction\": 0.258, \"Age\": 37, \"Outcome\": 0}, {\"Pregnancies\": 8, \"Glucose\": 100, \"BloodPressure\": 74, \"SkinThickness\": 40, \"Insulin\": 215, \"BMI\": 39.4, \"DiabetesPedigreeFunction\": 0.661, \"Age\": 43, \"Outcome\": 1}, {\"Pregnancies\": 3, \"Glucose\": 81, \"BloodPressure\": 86, \"SkinThickness\": 16, \"Insulin\": 66, \"BMI\": 27.5, \"DiabetesPedigreeFunction\": 0.306, \"Age\": 22, \"Outcome\": 0}, {\"Pregnancies\": 2, \"Glucose\": 101, \"BloodPressure\": 58, \"SkinThickness\": 17, \"Insulin\": 265, \"BMI\": 24.2, \"DiabetesPedigreeFunction\": 0.614, \"Age\": 23, \"Outcome\": 0}, {\"Pregnancies\": 8, \"Glucose\": 186, \"BloodPressure\": 90, \"SkinThickness\": 35, \"Insulin\": 225, \"BMI\": 34.5, \"DiabetesPedigreeFunction\": 0.423, \"Age\": 37, \"Outcome\": 1}, {\"Pregnancies\": 7, \"Glucose\": 136, \"BloodPressure\": 90, \"SkinThickness\": 0, \"Insulin\": 0, \"BMI\": 29.9, \"DiabetesPedigreeFunction\": 0.21, \"Age\": 50, \"Outcome\": 0}, {\"Pregnancies\": 5, \"Glucose\": 77, \"BloodPressure\": 82, \"SkinThickness\": 41, \"Insulin\": 42, \"BMI\": 35.8, \"DiabetesPedigreeFunction\": 0.156, \"Age\": 35, \"Outcome\": 0}, {\"Pregnancies\": 5, \"Glucose\": 147, \"BloodPressure\": 75, \"SkinThickness\": 0, \"Insulin\": 0, \"BMI\": 29.9, \"DiabetesPedigreeFunction\": 0.434, \"Age\": 28, \"Outcome\": 0}, {\"Pregnancies\": 2, \"Glucose\": 99, \"BloodPressure\": 70, \"SkinThickness\": 16, \"Insulin\": 44, \"BMI\": 20.4, \"DiabetesPedigreeFunction\": 0.235, \"Age\": 27, \"Outcome\": 0}, {\"Pregnancies\": 4, \"Glucose\": 114, \"BloodPressure\": 64, \"SkinThickness\": 0, \"Insulin\": 0, \"BMI\": 28.9, \"DiabetesPedigreeFunction\": 0.126, \"Age\": 24, \"Outcome\": 0}, {\"Pregnancies\": 4, \"Glucose\": 99, \"BloodPressure\": 68, \"SkinThickness\": 38, \"Insulin\": 0, \"BMI\": 32.8, \"DiabetesPedigreeFunction\": 0.145, \"Age\": 33, \"Outcome\": 0}, {\"Pregnancies\": 0, \"Glucose\": 125, \"BloodPressure\": 96, \"SkinThickness\": 0, \"Insulin\": 0, \"BMI\": 22.5, \"DiabetesPedigreeFunction\": 0.262, \"Age\": 21, \"Outcome\": 0}, {\"Pregnancies\": 0, \"Glucose\": 189, \"BloodPressure\": 104, \"SkinThickness\": 25, \"Insulin\": 0, \"BMI\": 34.3, \"DiabetesPedigreeFunction\": 0.435, \"Age\": 41, \"Outcome\": 1}, {\"Pregnancies\": 3, \"Glucose\": 108, \"BloodPressure\": 62, \"SkinThickness\": 24, \"Insulin\": 0, \"BMI\": 26.0, \"DiabetesPedigreeFunction\": 0.223, \"Age\": 25, \"Outcome\": 0}, {\"Pregnancies\": 3, \"Glucose\": 128, \"BloodPressure\": 72, \"SkinThickness\": 25, \"Insulin\": 190, \"BMI\": 32.4, \"DiabetesPedigreeFunction\": 0.549, \"Age\": 27, \"Outcome\": 1}, {\"Pregnancies\": 12, \"Glucose\": 84, \"BloodPressure\": 72, \"SkinThickness\": 31, \"Insulin\": 0, \"BMI\": 29.7, \"DiabetesPedigreeFunction\": 0.297, \"Age\": 46, \"Outcome\": 1}, {\"Pregnancies\": 2, \"Glucose\": 90, \"BloodPressure\": 60, \"SkinThickness\": 0, \"Insulin\": 0, \"BMI\": 23.5, \"DiabetesPedigreeFunction\": 0.191, \"Age\": 25, \"Outcome\": 0}, {\"Pregnancies\": 1, \"Glucose\": 173, \"BloodPressure\": 74, \"SkinThickness\": 0, \"Insulin\": 0, \"BMI\": 36.8, \"DiabetesPedigreeFunction\": 0.088, \"Age\": 38, \"Outcome\": 1}, {\"Pregnancies\": 5, \"Glucose\": 106, \"BloodPressure\": 82, \"SkinThickness\": 30, \"Insulin\": 0, \"BMI\": 39.5, \"DiabetesPedigreeFunction\": 0.286, \"Age\": 38, \"Outcome\": 0}, {\"Pregnancies\": 4, \"Glucose\": 118, \"BloodPressure\": 70, \"SkinThickness\": 0, \"Insulin\": 0, \"BMI\": 44.5, \"DiabetesPedigreeFunction\": 0.904, \"Age\": 26, \"Outcome\": 0}, {\"Pregnancies\": 1, \"Glucose\": 181, \"BloodPressure\": 78, \"SkinThickness\": 42, \"Insulin\": 293, \"BMI\": 40.0, \"DiabetesPedigreeFunction\": 1.258, \"Age\": 22, \"Outcome\": 1}, {\"Pregnancies\": 0, \"Glucose\": 140, \"BloodPressure\": 65, \"SkinThickness\": 26, \"Insulin\": 130, \"BMI\": 42.6, \"DiabetesPedigreeFunction\": 0.431, \"Age\": 24, \"Outcome\": 1}, {\"Pregnancies\": 1, \"Glucose\": 79, \"BloodPressure\": 80, \"SkinThickness\": 25, \"Insulin\": 37, \"BMI\": 25.4, \"DiabetesPedigreeFunction\": 0.583, \"Age\": 22, \"Outcome\": 0}, {\"Pregnancies\": 0, \"Glucose\": 179, \"BloodPressure\": 50, \"SkinThickness\": 36, \"Insulin\": 159, \"BMI\": 37.8, \"DiabetesPedigreeFunction\": 0.455, \"Age\": 22, \"Outcome\": 1}, {\"Pregnancies\": 9, \"Glucose\": 89, \"BloodPressure\": 62, \"SkinThickness\": 0, \"Insulin\": 0, \"BMI\": 22.5, \"DiabetesPedigreeFunction\": 0.142, \"Age\": 33, \"Outcome\": 0}, {\"Pregnancies\": 1, \"Glucose\": 107, \"BloodPressure\": 50, \"SkinThickness\": 19, \"Insulin\": 0, \"BMI\": 28.3, \"DiabetesPedigreeFunction\": 0.181, \"Age\": 29, \"Outcome\": 0}, {\"Pregnancies\": 9, \"Glucose\": 145, \"BloodPressure\": 88, \"SkinThickness\": 34, \"Insulin\": 165, \"BMI\": 30.3, \"DiabetesPedigreeFunction\": 0.771, \"Age\": 53, \"Outcome\": 1}, {\"Pregnancies\": 0, \"Glucose\": 180, \"BloodPressure\": 90, \"SkinThickness\": 26, \"Insulin\": 90, \"BMI\": 36.5, \"DiabetesPedigreeFunction\": 0.314, \"Age\": 35, \"Outcome\": 1}, {\"Pregnancies\": 0, \"Glucose\": 119, \"BloodPressure\": 66, \"SkinThickness\": 27, \"Insulin\": 0, \"BMI\": 38.8, \"DiabetesPedigreeFunction\": 0.259, \"Age\": 22, \"Outcome\": 0}, {\"Pregnancies\": 0, \"Glucose\": 102, \"BloodPressure\": 78, \"SkinThickness\": 40, \"Insulin\": 90, \"BMI\": 34.5, \"DiabetesPedigreeFunction\": 0.238, \"Age\": 24, \"Outcome\": 0}, {\"Pregnancies\": 0, \"Glucose\": 104, \"BloodPressure\": 64, \"SkinThickness\": 23, \"Insulin\": 116, \"BMI\": 27.8, \"DiabetesPedigreeFunction\": 0.454, \"Age\": 23, \"Outcome\": 0}, {\"Pregnancies\": 9, \"Glucose\": 134, \"BloodPressure\": 74, \"SkinThickness\": 33, \"Insulin\": 60, \"BMI\": 25.9, \"DiabetesPedigreeFunction\": 0.46, \"Age\": 81, \"Outcome\": 0}, {\"Pregnancies\": 2, \"Glucose\": 174, \"BloodPressure\": 88, \"SkinThickness\": 37, \"Insulin\": 120, \"BMI\": 44.5, \"DiabetesPedigreeFunction\": 0.646, \"Age\": 24, \"Outcome\": 1}, {\"Pregnancies\": 1, \"Glucose\": 77, \"BloodPressure\": 56, \"SkinThickness\": 30, \"Insulin\": 56, \"BMI\": 33.3, \"DiabetesPedigreeFunction\": 1.251, \"Age\": 24, \"Outcome\": 0}, {\"Pregnancies\": 1, \"Glucose\": 97, \"BloodPressure\": 64, \"SkinThickness\": 19, \"Insulin\": 82, \"BMI\": 18.2, \"DiabetesPedigreeFunction\": 0.299, \"Age\": 21, \"Outcome\": 0}, {\"Pregnancies\": 4, \"Glucose\": 125, \"BloodPressure\": 70, \"SkinThickness\": 18, \"Insulin\": 122, \"BMI\": 28.9, \"DiabetesPedigreeFunction\": 1.144, \"Age\": 45, \"Outcome\": 1}, {\"Pregnancies\": 13, \"Glucose\": 106, \"BloodPressure\": 72, \"SkinThickness\": 54, \"Insulin\": 0, \"BMI\": 36.6, \"DiabetesPedigreeFunction\": 0.178, \"Age\": 45, \"Outcome\": 0}, {\"Pregnancies\": 3, \"Glucose\": 132, \"BloodPressure\": 80, \"SkinThickness\": 0, \"Insulin\": 0, \"BMI\": 34.4, \"DiabetesPedigreeFunction\": 0.402, \"Age\": 44, \"Outcome\": 1}, {\"Pregnancies\": 10, \"Glucose\": 68, \"BloodPressure\": 106, \"SkinThickness\": 23, \"Insulin\": 49, \"BMI\": 35.5, \"DiabetesPedigreeFunction\": 0.285, \"Age\": 47, \"Outcome\": 0}, {\"Pregnancies\": 3, \"Glucose\": 121, \"BloodPressure\": 52, \"SkinThickness\": 0, \"Insulin\": 0, \"BMI\": 36.0, \"DiabetesPedigreeFunction\": 0.127, \"Age\": 25, \"Outcome\": 1}, {\"Pregnancies\": 13, \"Glucose\": 126, \"BloodPressure\": 90, \"SkinThickness\": 0, \"Insulin\": 0, \"BMI\": 43.4, \"DiabetesPedigreeFunction\": 0.583, \"Age\": 42, \"Outcome\": 1}, {\"Pregnancies\": 9, \"Glucose\": 164, \"BloodPressure\": 78, \"SkinThickness\": 0, \"Insulin\": 0, \"BMI\": 32.8, \"DiabetesPedigreeFunction\": 0.148, \"Age\": 45, \"Outcome\": 1}, {\"Pregnancies\": 7, \"Glucose\": 142, \"BloodPressure\": 60, \"SkinThickness\": 33, \"Insulin\": 190, \"BMI\": 28.8, \"DiabetesPedigreeFunction\": 0.687, \"Age\": 61, \"Outcome\": 0}, {\"Pregnancies\": 8, \"Glucose\": 125, \"BloodPressure\": 96, \"SkinThickness\": 0, \"Insulin\": 0, \"BMI\": 0.0, \"DiabetesPedigreeFunction\": 0.232, \"Age\": 54, \"Outcome\": 1}, {\"Pregnancies\": 2, \"Glucose\": 100, \"BloodPressure\": 68, \"SkinThickness\": 25, \"Insulin\": 71, \"BMI\": 38.5, \"DiabetesPedigreeFunction\": 0.324, \"Age\": 26, \"Outcome\": 0}, {\"Pregnancies\": 1, \"Glucose\": 112, \"BloodPressure\": 80, \"SkinThickness\": 45, \"Insulin\": 132, \"BMI\": 34.8, \"DiabetesPedigreeFunction\": 0.217, \"Age\": 24, \"Outcome\": 0}, {\"Pregnancies\": 5, \"Glucose\": 99, \"BloodPressure\": 74, \"SkinThickness\": 27, \"Insulin\": 0, \"BMI\": 29.0, \"DiabetesPedigreeFunction\": 0.203, \"Age\": 32, \"Outcome\": 0}, {\"Pregnancies\": 1, \"Glucose\": 130, \"BloodPressure\": 60, \"SkinThickness\": 23, \"Insulin\": 170, \"BMI\": 28.6, \"DiabetesPedigreeFunction\": 0.692, \"Age\": 21, \"Outcome\": 0}, {\"Pregnancies\": 14, \"Glucose\": 175, \"BloodPressure\": 62, \"SkinThickness\": 30, \"Insulin\": 0, \"BMI\": 33.6, \"DiabetesPedigreeFunction\": 0.212, \"Age\": 38, \"Outcome\": 1}, {\"Pregnancies\": 5, \"Glucose\": 168, \"BloodPressure\": 64, \"SkinThickness\": 0, \"Insulin\": 0, \"BMI\": 32.9, \"DiabetesPedigreeFunction\": 0.135, \"Age\": 41, \"Outcome\": 1}, {\"Pregnancies\": 3, \"Glucose\": 163, \"BloodPressure\": 70, \"SkinThickness\": 18, \"Insulin\": 105, \"BMI\": 31.6, \"DiabetesPedigreeFunction\": 0.268, \"Age\": 28, \"Outcome\": 1}, {\"Pregnancies\": 1, \"Glucose\": 86, \"BloodPressure\": 66, \"SkinThickness\": 52, \"Insulin\": 65, \"BMI\": 41.3, \"DiabetesPedigreeFunction\": 0.917, \"Age\": 29, \"Outcome\": 0}, {\"Pregnancies\": 1, \"Glucose\": 102, \"BloodPressure\": 74, \"SkinThickness\": 0, \"Insulin\": 0, \"BMI\": 39.5, \"DiabetesPedigreeFunction\": 0.293, \"Age\": 42, \"Outcome\": 1}, {\"Pregnancies\": 5, \"Glucose\": 122, \"BloodPressure\": 86, \"SkinThickness\": 0, \"Insulin\": 0, \"BMI\": 34.7, \"DiabetesPedigreeFunction\": 0.29, \"Age\": 33, \"Outcome\": 0}, {\"Pregnancies\": 5, \"Glucose\": 166, \"BloodPressure\": 76, \"SkinThickness\": 0, \"Insulin\": 0, \"BMI\": 45.7, \"DiabetesPedigreeFunction\": 0.34, \"Age\": 27, \"Outcome\": 1}, {\"Pregnancies\": 4, \"Glucose\": 117, \"BloodPressure\": 64, \"SkinThickness\": 27, \"Insulin\": 120, \"BMI\": 33.2, \"DiabetesPedigreeFunction\": 0.23, \"Age\": 24, \"Outcome\": 0}, {\"Pregnancies\": 9, \"Glucose\": 156, \"BloodPressure\": 86, \"SkinThickness\": 28, \"Insulin\": 155, \"BMI\": 34.3, \"DiabetesPedigreeFunction\": 1.189, \"Age\": 42, \"Outcome\": 1}, {\"Pregnancies\": 6, \"Glucose\": 93, \"BloodPressure\": 50, \"SkinThickness\": 30, \"Insulin\": 64, \"BMI\": 28.7, \"DiabetesPedigreeFunction\": 0.356, \"Age\": 23, \"Outcome\": 0}, {\"Pregnancies\": 3, \"Glucose\": 99, \"BloodPressure\": 62, \"SkinThickness\": 19, \"Insulin\": 74, \"BMI\": 21.8, \"DiabetesPedigreeFunction\": 0.279, \"Age\": 26, \"Outcome\": 0}, {\"Pregnancies\": 8, \"Glucose\": 126, \"BloodPressure\": 88, \"SkinThickness\": 36, \"Insulin\": 108, \"BMI\": 38.5, \"DiabetesPedigreeFunction\": 0.349, \"Age\": 49, \"Outcome\": 0}, {\"Pregnancies\": 2, \"Glucose\": 109, \"BloodPressure\": 92, \"SkinThickness\": 0, \"Insulin\": 0, \"BMI\": 42.7, \"DiabetesPedigreeFunction\": 0.845, \"Age\": 54, \"Outcome\": 0}, {\"Pregnancies\": 3, \"Glucose\": 124, \"BloodPressure\": 80, \"SkinThickness\": 33, \"Insulin\": 130, \"BMI\": 33.2, \"DiabetesPedigreeFunction\": 0.305, \"Age\": 26, \"Outcome\": 0}, {\"Pregnancies\": 1, \"Glucose\": 143, \"BloodPressure\": 84, \"SkinThickness\": 23, \"Insulin\": 310, \"BMI\": 42.4, \"DiabetesPedigreeFunction\": 1.076, \"Age\": 22, \"Outcome\": 0}, {\"Pregnancies\": 0, \"Glucose\": 120, \"BloodPressure\": 74, \"SkinThickness\": 18, \"Insulin\": 63, \"BMI\": 30.5, \"DiabetesPedigreeFunction\": 0.285, \"Age\": 26, \"Outcome\": 0}, {\"Pregnancies\": 10, \"Glucose\": 115, \"BloodPressure\": 98, \"SkinThickness\": 0, \"Insulin\": 0, \"BMI\": 24.0, \"DiabetesPedigreeFunction\": 1.022, \"Age\": 34, \"Outcome\": 0}, {\"Pregnancies\": 0, \"Glucose\": 124, \"BloodPressure\": 70, \"SkinThickness\": 20, \"Insulin\": 0, \"BMI\": 27.4, \"DiabetesPedigreeFunction\": 0.254, \"Age\": 36, \"Outcome\": 1}, {\"Pregnancies\": 3, \"Glucose\": 187, \"BloodPressure\": 70, \"SkinThickness\": 22, \"Insulin\": 200, \"BMI\": 36.4, \"DiabetesPedigreeFunction\": 0.408, \"Age\": 36, \"Outcome\": 1}, {\"Pregnancies\": 3, \"Glucose\": 182, \"BloodPressure\": 74, \"SkinThickness\": 0, \"Insulin\": 0, \"BMI\": 30.5, \"DiabetesPedigreeFunction\": 0.345, \"Age\": 29, \"Outcome\": 1}, {\"Pregnancies\": 9, \"Glucose\": 152, \"BloodPressure\": 78, \"SkinThickness\": 34, \"Insulin\": 171, \"BMI\": 34.2, \"DiabetesPedigreeFunction\": 0.893, \"Age\": 33, \"Outcome\": 1}, {\"Pregnancies\": 3, \"Glucose\": 173, \"BloodPressure\": 78, \"SkinThickness\": 39, \"Insulin\": 185, \"BMI\": 33.8, \"DiabetesPedigreeFunction\": 0.97, \"Age\": 31, \"Outcome\": 1}, {\"Pregnancies\": 1, \"Glucose\": 101, \"BloodPressure\": 50, \"SkinThickness\": 15, \"Insulin\": 36, \"BMI\": 24.2, \"DiabetesPedigreeFunction\": 0.526, \"Age\": 26, \"Outcome\": 0}, {\"Pregnancies\": 2, \"Glucose\": 92, \"BloodPressure\": 62, \"SkinThickness\": 28, \"Insulin\": 0, \"BMI\": 31.6, \"DiabetesPedigreeFunction\": 0.13, \"Age\": 24, \"Outcome\": 0}, {\"Pregnancies\": 4, \"Glucose\": 99, \"BloodPressure\": 76, \"SkinThickness\": 15, \"Insulin\": 51, \"BMI\": 23.2, \"DiabetesPedigreeFunction\": 0.223, \"Age\": 21, \"Outcome\": 0}, {\"Pregnancies\": 8, \"Glucose\": 105, \"BloodPressure\": 100, \"SkinThickness\": 36, \"Insulin\": 0, \"BMI\": 43.3, \"DiabetesPedigreeFunction\": 0.239, \"Age\": 45, \"Outcome\": 1}, {\"Pregnancies\": 3, \"Glucose\": 126, \"BloodPressure\": 88, \"SkinThickness\": 41, \"Insulin\": 235, \"BMI\": 39.3, \"DiabetesPedigreeFunction\": 0.704, \"Age\": 27, \"Outcome\": 0}, {\"Pregnancies\": 0, \"Glucose\": 111, \"BloodPressure\": 65, \"SkinThickness\": 0, \"Insulin\": 0, \"BMI\": 24.6, \"DiabetesPedigreeFunction\": 0.66, \"Age\": 31, \"Outcome\": 0}, {\"Pregnancies\": 7, \"Glucose\": 184, \"BloodPressure\": 84, \"SkinThickness\": 33, \"Insulin\": 0, \"BMI\": 35.5, \"DiabetesPedigreeFunction\": 0.355, \"Age\": 41, \"Outcome\": 1}, {\"Pregnancies\": 8, \"Glucose\": 120, \"BloodPressure\": 86, \"SkinThickness\": 0, \"Insulin\": 0, \"BMI\": 28.4, \"DiabetesPedigreeFunction\": 0.259, \"Age\": 22, \"Outcome\": 1}, {\"Pregnancies\": 1, \"Glucose\": 95, \"BloodPressure\": 82, \"SkinThickness\": 25, \"Insulin\": 180, \"BMI\": 35.0, \"DiabetesPedigreeFunction\": 0.233, \"Age\": 43, \"Outcome\": 1}, {\"Pregnancies\": 2, \"Glucose\": 118, \"BloodPressure\": 80, \"SkinThickness\": 0, \"Insulin\": 0, \"BMI\": 42.9, \"DiabetesPedigreeFunction\": 0.693, \"Age\": 21, \"Outcome\": 1}, {\"Pregnancies\": 1, \"Glucose\": 144, \"BloodPressure\": 82, \"SkinThickness\": 40, \"Insulin\": 0, \"BMI\": 41.3, \"DiabetesPedigreeFunction\": 0.607, \"Age\": 28, \"Outcome\": 0}, {\"Pregnancies\": 4, \"Glucose\": 114, \"BloodPressure\": 65, \"SkinThickness\": 0, \"Insulin\": 0, \"BMI\": 21.9, \"DiabetesPedigreeFunction\": 0.432, \"Age\": 37, \"Outcome\": 0}, {\"Pregnancies\": 9, \"Glucose\": 112, \"BloodPressure\": 82, \"SkinThickness\": 32, \"Insulin\": 175, \"BMI\": 34.2, \"DiabetesPedigreeFunction\": 0.26, \"Age\": 36, \"Outcome\": 1}, {\"Pregnancies\": 3, \"Glucose\": 84, \"BloodPressure\": 72, \"SkinThickness\": 32, \"Insulin\": 0, \"BMI\": 37.2, \"DiabetesPedigreeFunction\": 0.267, \"Age\": 28, \"Outcome\": 0}, {\"Pregnancies\": 7, \"Glucose\": 107, \"BloodPressure\": 74, \"SkinThickness\": 0, \"Insulin\": 0, \"BMI\": 29.6, \"DiabetesPedigreeFunction\": 0.254, \"Age\": 31, \"Outcome\": 1}, {\"Pregnancies\": 1, \"Glucose\": 71, \"BloodPressure\": 48, \"SkinThickness\": 18, \"Insulin\": 76, \"BMI\": 20.4, \"DiabetesPedigreeFunction\": 0.323, \"Age\": 22, \"Outcome\": 0}, {\"Pregnancies\": 7, \"Glucose\": 136, \"BloodPressure\": 74, \"SkinThickness\": 26, \"Insulin\": 135, \"BMI\": 26.0, \"DiabetesPedigreeFunction\": 0.647, \"Age\": 51, \"Outcome\": 0}, {\"Pregnancies\": 7, \"Glucose\": 133, \"BloodPressure\": 88, \"SkinThickness\": 15, \"Insulin\": 155, \"BMI\": 32.4, \"DiabetesPedigreeFunction\": 0.262, \"Age\": 37, \"Outcome\": 0}, {\"Pregnancies\": 0, \"Glucose\": 104, \"BloodPressure\": 76, \"SkinThickness\": 0, \"Insulin\": 0, \"BMI\": 18.4, \"DiabetesPedigreeFunction\": 0.582, \"Age\": 27, \"Outcome\": 0}, {\"Pregnancies\": 2, \"Glucose\": 108, \"BloodPressure\": 62, \"SkinThickness\": 10, \"Insulin\": 278, \"BMI\": 25.3, \"DiabetesPedigreeFunction\": 0.881, \"Age\": 22, \"Outcome\": 0}, {\"Pregnancies\": 1, \"Glucose\": 89, \"BloodPressure\": 66, \"SkinThickness\": 23, \"Insulin\": 94, \"BMI\": 28.1, \"DiabetesPedigreeFunction\": 0.167, \"Age\": 21, \"Outcome\": 0}, {\"Pregnancies\": 0, \"Glucose\": 105, \"BloodPressure\": 68, \"SkinThickness\": 22, \"Insulin\": 0, \"BMI\": 20.0, \"DiabetesPedigreeFunction\": 0.236, \"Age\": 22, \"Outcome\": 0}, {\"Pregnancies\": 3, \"Glucose\": 87, \"BloodPressure\": 60, \"SkinThickness\": 18, \"Insulin\": 0, \"BMI\": 21.8, \"DiabetesPedigreeFunction\": 0.444, \"Age\": 21, \"Outcome\": 0}, {\"Pregnancies\": 1, \"Glucose\": 199, \"BloodPressure\": 76, \"SkinThickness\": 43, \"Insulin\": 0, \"BMI\": 42.9, \"DiabetesPedigreeFunction\": 1.394, \"Age\": 22, \"Outcome\": 1}, {\"Pregnancies\": 2, \"Glucose\": 84, \"BloodPressure\": 50, \"SkinThickness\": 23, \"Insulin\": 76, \"BMI\": 30.4, \"DiabetesPedigreeFunction\": 0.968, \"Age\": 21, \"Outcome\": 0}, {\"Pregnancies\": 1, \"Glucose\": 136, \"BloodPressure\": 74, \"SkinThickness\": 50, \"Insulin\": 204, \"BMI\": 37.4, \"DiabetesPedigreeFunction\": 0.399, \"Age\": 24, \"Outcome\": 0}, {\"Pregnancies\": 1, \"Glucose\": 79, \"BloodPressure\": 75, \"SkinThickness\": 30, \"Insulin\": 0, \"BMI\": 32.0, \"DiabetesPedigreeFunction\": 0.396, \"Age\": 22, \"Outcome\": 0}, {\"Pregnancies\": 1, \"Glucose\": 88, \"BloodPressure\": 62, \"SkinThickness\": 24, \"Insulin\": 44, \"BMI\": 29.9, \"DiabetesPedigreeFunction\": 0.422, \"Age\": 23, \"Outcome\": 0}, {\"Pregnancies\": 1, \"Glucose\": 133, \"BloodPressure\": 102, \"SkinThickness\": 28, \"Insulin\": 140, \"BMI\": 32.8, \"DiabetesPedigreeFunction\": 0.234, \"Age\": 45, \"Outcome\": 1}, {\"Pregnancies\": 2, \"Glucose\": 141, \"BloodPressure\": 58, \"SkinThickness\": 34, \"Insulin\": 128, \"BMI\": 25.4, \"DiabetesPedigreeFunction\": 0.699, \"Age\": 24, \"Outcome\": 0}, {\"Pregnancies\": 1, \"Glucose\": 157, \"BloodPressure\": 72, \"SkinThickness\": 21, \"Insulin\": 168, \"BMI\": 25.6, \"DiabetesPedigreeFunction\": 0.123, \"Age\": 24, \"Outcome\": 0}, {\"Pregnancies\": 7, \"Glucose\": 187, \"BloodPressure\": 68, \"SkinThickness\": 39, \"Insulin\": 304, \"BMI\": 37.7, \"DiabetesPedigreeFunction\": 0.254, \"Age\": 41, \"Outcome\": 1}, {\"Pregnancies\": 3, \"Glucose\": 84, \"BloodPressure\": 68, \"SkinThickness\": 30, \"Insulin\": 106, \"BMI\": 31.9, \"DiabetesPedigreeFunction\": 0.591, \"Age\": 25, \"Outcome\": 0}, {\"Pregnancies\": 6, \"Glucose\": 154, \"BloodPressure\": 74, \"SkinThickness\": 32, \"Insulin\": 193, \"BMI\": 29.3, \"DiabetesPedigreeFunction\": 0.839, \"Age\": 39, \"Outcome\": 0}, {\"Pregnancies\": 4, \"Glucose\": 154, \"BloodPressure\": 72, \"SkinThickness\": 29, \"Insulin\": 126, \"BMI\": 31.3, \"DiabetesPedigreeFunction\": 0.338, \"Age\": 37, \"Outcome\": 0}, {\"Pregnancies\": 1, \"Glucose\": 122, \"BloodPressure\": 64, \"SkinThickness\": 32, \"Insulin\": 156, \"BMI\": 35.1, \"DiabetesPedigreeFunction\": 0.692, \"Age\": 30, \"Outcome\": 1}, {\"Pregnancies\": 0, \"Glucose\": 124, \"BloodPressure\": 56, \"SkinThickness\": 13, \"Insulin\": 105, \"BMI\": 21.8, \"DiabetesPedigreeFunction\": 0.452, \"Age\": 21, \"Outcome\": 0}, {\"Pregnancies\": 1, \"Glucose\": 119, \"BloodPressure\": 44, \"SkinThickness\": 47, \"Insulin\": 63, \"BMI\": 35.5, \"DiabetesPedigreeFunction\": 0.28, \"Age\": 25, \"Outcome\": 0}, {\"Pregnancies\": 1, \"Glucose\": 125, \"BloodPressure\": 70, \"SkinThickness\": 24, \"Insulin\": 110, \"BMI\": 24.3, \"DiabetesPedigreeFunction\": 0.221, \"Age\": 25, \"Outcome\": 0}, {\"Pregnancies\": 0, \"Glucose\": 108, \"BloodPressure\": 68, \"SkinThickness\": 20, \"Insulin\": 0, \"BMI\": 27.3, \"DiabetesPedigreeFunction\": 0.787, \"Age\": 32, \"Outcome\": 0}, {\"Pregnancies\": 0, \"Glucose\": 188, \"BloodPressure\": 82, \"SkinThickness\": 14, \"Insulin\": 185, \"BMI\": 32.0, \"DiabetesPedigreeFunction\": 0.682, \"Age\": 22, \"Outcome\": 1}, {\"Pregnancies\": 3, \"Glucose\": 128, \"BloodPressure\": 78, \"SkinThickness\": 0, \"Insulin\": 0, \"BMI\": 21.1, \"DiabetesPedigreeFunction\": 0.268, \"Age\": 55, \"Outcome\": 0}, {\"Pregnancies\": 5, \"Glucose\": 116, \"BloodPressure\": 74, \"SkinThickness\": 29, \"Insulin\": 0, \"BMI\": 32.3, \"DiabetesPedigreeFunction\": 0.66, \"Age\": 35, \"Outcome\": 1}, {\"Pregnancies\": 4, \"Glucose\": 95, \"BloodPressure\": 70, \"SkinThickness\": 32, \"Insulin\": 0, \"BMI\": 32.1, \"DiabetesPedigreeFunction\": 0.612, \"Age\": 24, \"Outcome\": 0}, {\"Pregnancies\": 2, \"Glucose\": 100, \"BloodPressure\": 70, \"SkinThickness\": 52, \"Insulin\": 57, \"BMI\": 40.5, \"DiabetesPedigreeFunction\": 0.677, \"Age\": 25, \"Outcome\": 0}, {\"Pregnancies\": 4, \"Glucose\": 144, \"BloodPressure\": 82, \"SkinThickness\": 32, \"Insulin\": 0, \"BMI\": 38.5, \"DiabetesPedigreeFunction\": 0.554, \"Age\": 37, \"Outcome\": 1}, {\"Pregnancies\": 3, \"Glucose\": 148, \"BloodPressure\": 66, \"SkinThickness\": 25, \"Insulin\": 0, \"BMI\": 32.5, \"DiabetesPedigreeFunction\": 0.256, \"Age\": 22, \"Outcome\": 0}, {\"Pregnancies\": 3, \"Glucose\": 82, \"BloodPressure\": 70, \"SkinThickness\": 0, \"Insulin\": 0, \"BMI\": 21.1, \"DiabetesPedigreeFunction\": 0.389, \"Age\": 25, \"Outcome\": 0}, {\"Pregnancies\": 1, \"Glucose\": 126, \"BloodPressure\": 60, \"SkinThickness\": 0, \"Insulin\": 0, \"BMI\": 30.1, \"DiabetesPedigreeFunction\": 0.349, \"Age\": 47, \"Outcome\": 1}, {\"Pregnancies\": 0, \"Glucose\": 132, \"BloodPressure\": 78, \"SkinThickness\": 0, \"Insulin\": 0, \"BMI\": 32.4, \"DiabetesPedigreeFunction\": 0.393, \"Age\": 21, \"Outcome\": 0}, {\"Pregnancies\": 2, \"Glucose\": 92, \"BloodPressure\": 52, \"SkinThickness\": 0, \"Insulin\": 0, \"BMI\": 30.1, \"DiabetesPedigreeFunction\": 0.141, \"Age\": 22, \"Outcome\": 0}, {\"Pregnancies\": 6, \"Glucose\": 102, \"BloodPressure\": 82, \"SkinThickness\": 0, \"Insulin\": 0, \"BMI\": 30.8, \"DiabetesPedigreeFunction\": 0.18, \"Age\": 36, \"Outcome\": 1}, {\"Pregnancies\": 4, \"Glucose\": 112, \"BloodPressure\": 78, \"SkinThickness\": 40, \"Insulin\": 0, \"BMI\": 39.4, \"DiabetesPedigreeFunction\": 0.236, \"Age\": 38, \"Outcome\": 0}, {\"Pregnancies\": 0, \"Glucose\": 107, \"BloodPressure\": 62, \"SkinThickness\": 30, \"Insulin\": 74, \"BMI\": 36.6, \"DiabetesPedigreeFunction\": 0.757, \"Age\": 25, \"Outcome\": 1}, {\"Pregnancies\": 6, \"Glucose\": 129, \"BloodPressure\": 90, \"SkinThickness\": 7, \"Insulin\": 326, \"BMI\": 19.6, \"DiabetesPedigreeFunction\": 0.582, \"Age\": 60, \"Outcome\": 0}, {\"Pregnancies\": 1, \"Glucose\": 109, \"BloodPressure\": 56, \"SkinThickness\": 21, \"Insulin\": 135, \"BMI\": 25.2, \"DiabetesPedigreeFunction\": 0.833, \"Age\": 23, \"Outcome\": 0}, {\"Pregnancies\": 2, \"Glucose\": 94, \"BloodPressure\": 68, \"SkinThickness\": 18, \"Insulin\": 76, \"BMI\": 26.0, \"DiabetesPedigreeFunction\": 0.561, \"Age\": 21, \"Outcome\": 0}, {\"Pregnancies\": 0, \"Glucose\": 104, \"BloodPressure\": 64, \"SkinThickness\": 37, \"Insulin\": 64, \"BMI\": 33.6, \"DiabetesPedigreeFunction\": 0.51, \"Age\": 22, \"Outcome\": 1}, {\"Pregnancies\": 2, \"Glucose\": 92, \"BloodPressure\": 76, \"SkinThickness\": 20, \"Insulin\": 0, \"BMI\": 24.2, \"DiabetesPedigreeFunction\": 1.698, \"Age\": 28, \"Outcome\": 0}, {\"Pregnancies\": 2, \"Glucose\": 88, \"BloodPressure\": 58, \"SkinThickness\": 26, \"Insulin\": 16, \"BMI\": 28.4, \"DiabetesPedigreeFunction\": 0.766, \"Age\": 22, \"Outcome\": 0}, {\"Pregnancies\": 1, \"Glucose\": 128, \"BloodPressure\": 82, \"SkinThickness\": 17, \"Insulin\": 183, \"BMI\": 27.5, \"DiabetesPedigreeFunction\": 0.115, \"Age\": 22, \"Outcome\": 0}, {\"Pregnancies\": 0, \"Glucose\": 106, \"BloodPressure\": 70, \"SkinThickness\": 37, \"Insulin\": 148, \"BMI\": 39.4, \"DiabetesPedigreeFunction\": 0.605, \"Age\": 22, \"Outcome\": 0}, {\"Pregnancies\": 2, \"Glucose\": 83, \"BloodPressure\": 66, \"SkinThickness\": 23, \"Insulin\": 50, \"BMI\": 32.2, \"DiabetesPedigreeFunction\": 0.497, \"Age\": 22, \"Outcome\": 0}, {\"Pregnancies\": 9, \"Glucose\": 156, \"BloodPressure\": 86, \"SkinThickness\": 0, \"Insulin\": 0, \"BMI\": 24.8, \"DiabetesPedigreeFunction\": 0.23, \"Age\": 53, \"Outcome\": 1}, {\"Pregnancies\": 4, \"Glucose\": 142, \"BloodPressure\": 86, \"SkinThickness\": 0, \"Insulin\": 0, \"BMI\": 44.0, \"DiabetesPedigreeFunction\": 0.645, \"Age\": 22, \"Outcome\": 1}, {\"Pregnancies\": 1, \"Glucose\": 119, \"BloodPressure\": 54, \"SkinThickness\": 13, \"Insulin\": 50, \"BMI\": 22.3, \"DiabetesPedigreeFunction\": 0.205, \"Age\": 24, \"Outcome\": 0}, {\"Pregnancies\": 1, \"Glucose\": 105, \"BloodPressure\": 58, \"SkinThickness\": 0, \"Insulin\": 0, \"BMI\": 24.3, \"DiabetesPedigreeFunction\": 0.187, \"Age\": 21, \"Outcome\": 0}, {\"Pregnancies\": 0, \"Glucose\": 101, \"BloodPressure\": 62, \"SkinThickness\": 0, \"Insulin\": 0, \"BMI\": 21.9, \"DiabetesPedigreeFunction\": 0.336, \"Age\": 25, \"Outcome\": 0}, {\"Pregnancies\": 0, \"Glucose\": 95, \"BloodPressure\": 85, \"SkinThickness\": 25, \"Insulin\": 36, \"BMI\": 37.4, \"DiabetesPedigreeFunction\": 0.247, \"Age\": 24, \"Outcome\": 1}, {\"Pregnancies\": 9, \"Glucose\": 57, \"BloodPressure\": 80, \"SkinThickness\": 37, \"Insulin\": 0, \"BMI\": 32.8, \"DiabetesPedigreeFunction\": 0.096, \"Age\": 41, \"Outcome\": 0}, {\"Pregnancies\": 9, \"Glucose\": 123, \"BloodPressure\": 70, \"SkinThickness\": 44, \"Insulin\": 94, \"BMI\": 33.1, \"DiabetesPedigreeFunction\": 0.374, \"Age\": 40, \"Outcome\": 0}, {\"Pregnancies\": 10, \"Glucose\": 90, \"BloodPressure\": 85, \"SkinThickness\": 32, \"Insulin\": 0, \"BMI\": 34.9, \"DiabetesPedigreeFunction\": 0.825, \"Age\": 56, \"Outcome\": 1}, {\"Pregnancies\": 1, \"Glucose\": 124, \"BloodPressure\": 74, \"SkinThickness\": 36, \"Insulin\": 0, \"BMI\": 27.8, \"DiabetesPedigreeFunction\": 0.1, \"Age\": 30, \"Outcome\": 0}, {\"Pregnancies\": 4, \"Glucose\": 128, \"BloodPressure\": 70, \"SkinThickness\": 0, \"Insulin\": 0, \"BMI\": 34.3, \"DiabetesPedigreeFunction\": 0.303, \"Age\": 24, \"Outcome\": 0}, {\"Pregnancies\": 2, \"Glucose\": 122, \"BloodPressure\": 70, \"SkinThickness\": 27, \"Insulin\": 0, \"BMI\": 36.8, \"DiabetesPedigreeFunction\": 0.34, \"Age\": 27, \"Outcome\": 0}, {\"Pregnancies\": 9, \"Glucose\": 171, \"BloodPressure\": 110, \"SkinThickness\": 24, \"Insulin\": 240, \"BMI\": 45.4, \"DiabetesPedigreeFunction\": 0.721, \"Age\": 54, \"Outcome\": 1}, {\"Pregnancies\": 0, \"Glucose\": 101, \"BloodPressure\": 64, \"SkinThickness\": 17, \"Insulin\": 0, \"BMI\": 21.0, \"DiabetesPedigreeFunction\": 0.252, \"Age\": 21, \"Outcome\": 0}, {\"Pregnancies\": 8, \"Glucose\": 183, \"BloodPressure\": 64, \"SkinThickness\": 0, \"Insulin\": 0, \"BMI\": 23.3, \"DiabetesPedigreeFunction\": 0.672, \"Age\": 32, \"Outcome\": 1}, {\"Pregnancies\": 0, \"Glucose\": 84, \"BloodPressure\": 82, \"SkinThickness\": 31, \"Insulin\": 125, \"BMI\": 38.2, \"DiabetesPedigreeFunction\": 0.233, \"Age\": 23, \"Outcome\": 0}, {\"Pregnancies\": 7, \"Glucose\": 62, \"BloodPressure\": 78, \"SkinThickness\": 0, \"Insulin\": 0, \"BMI\": 32.6, \"DiabetesPedigreeFunction\": 0.391, \"Age\": 41, \"Outcome\": 0}, {\"Pregnancies\": 1, \"Glucose\": 87, \"BloodPressure\": 78, \"SkinThickness\": 27, \"Insulin\": 32, \"BMI\": 34.6, \"DiabetesPedigreeFunction\": 0.101, \"Age\": 22, \"Outcome\": 0}, {\"Pregnancies\": 1, \"Glucose\": 106, \"BloodPressure\": 70, \"SkinThickness\": 28, \"Insulin\": 135, \"BMI\": 34.2, \"DiabetesPedigreeFunction\": 0.142, \"Age\": 22, \"Outcome\": 0}, {\"Pregnancies\": 1, \"Glucose\": 82, \"BloodPressure\": 64, \"SkinThickness\": 13, \"Insulin\": 95, \"BMI\": 21.2, \"DiabetesPedigreeFunction\": 0.415, \"Age\": 23, \"Outcome\": 0}, {\"Pregnancies\": 1, \"Glucose\": 71, \"BloodPressure\": 78, \"SkinThickness\": 50, \"Insulin\": 45, \"BMI\": 33.2, \"DiabetesPedigreeFunction\": 0.422, \"Age\": 21, \"Outcome\": 0}, {\"Pregnancies\": 6, \"Glucose\": 124, \"BloodPressure\": 72, \"SkinThickness\": 0, \"Insulin\": 0, \"BMI\": 27.6, \"DiabetesPedigreeFunction\": 0.368, \"Age\": 29, \"Outcome\": 1}, {\"Pregnancies\": 6, \"Glucose\": 107, \"BloodPressure\": 88, \"SkinThickness\": 0, \"Insulin\": 0, \"BMI\": 36.8, \"DiabetesPedigreeFunction\": 0.727, \"Age\": 31, \"Outcome\": 0}, {\"Pregnancies\": 6, \"Glucose\": 111, \"BloodPressure\": 64, \"SkinThickness\": 39, \"Insulin\": 0, \"BMI\": 34.2, \"DiabetesPedigreeFunction\": 0.26, \"Age\": 24, \"Outcome\": 0}, {\"Pregnancies\": 4, \"Glucose\": 91, \"BloodPressure\": 70, \"SkinThickness\": 32, \"Insulin\": 88, \"BMI\": 33.1, \"DiabetesPedigreeFunction\": 0.446, \"Age\": 22, \"Outcome\": 0}, {\"Pregnancies\": 8, \"Glucose\": 100, \"BloodPressure\": 76, \"SkinThickness\": 0, \"Insulin\": 0, \"BMI\": 38.7, \"DiabetesPedigreeFunction\": 0.19, \"Age\": 42, \"Outcome\": 0}, {\"Pregnancies\": 0, \"Glucose\": 101, \"BloodPressure\": 65, \"SkinThickness\": 28, \"Insulin\": 0, \"BMI\": 24.6, \"DiabetesPedigreeFunction\": 0.237, \"Age\": 22, \"Outcome\": 0}, {\"Pregnancies\": 5, \"Glucose\": 88, \"BloodPressure\": 66, \"SkinThickness\": 21, \"Insulin\": 23, \"BMI\": 24.4, \"DiabetesPedigreeFunction\": 0.342, \"Age\": 30, \"Outcome\": 0}, {\"Pregnancies\": 5, \"Glucose\": 136, \"BloodPressure\": 82, \"SkinThickness\": 0, \"Insulin\": 0, \"BMI\": 0.0, \"DiabetesPedigreeFunction\": 0.64, \"Age\": 69, \"Outcome\": 0}, {\"Pregnancies\": 5, \"Glucose\": 132, \"BloodPressure\": 80, \"SkinThickness\": 0, \"Insulin\": 0, \"BMI\": 26.8, \"DiabetesPedigreeFunction\": 0.186, \"Age\": 69, \"Outcome\": 0}, {\"Pregnancies\": 1, \"Glucose\": 96, \"BloodPressure\": 122, \"SkinThickness\": 0, \"Insulin\": 0, \"BMI\": 22.4, \"DiabetesPedigreeFunction\": 0.207, \"Age\": 27, \"Outcome\": 0}, {\"Pregnancies\": 6, \"Glucose\": 134, \"BloodPressure\": 80, \"SkinThickness\": 37, \"Insulin\": 370, \"BMI\": 46.2, \"DiabetesPedigreeFunction\": 0.238, \"Age\": 46, \"Outcome\": 1}, {\"Pregnancies\": 6, \"Glucose\": 105, \"BloodPressure\": 80, \"SkinThickness\": 28, \"Insulin\": 0, \"BMI\": 32.5, \"DiabetesPedigreeFunction\": 0.878, \"Age\": 26, \"Outcome\": 0}, {\"Pregnancies\": 2, \"Glucose\": 96, \"BloodPressure\": 68, \"SkinThickness\": 13, \"Insulin\": 49, \"BMI\": 21.1, \"DiabetesPedigreeFunction\": 0.647, \"Age\": 26, \"Outcome\": 0}, {\"Pregnancies\": 5, \"Glucose\": 124, \"BloodPressure\": 74, \"SkinThickness\": 0, \"Insulin\": 0, \"BMI\": 34.0, \"DiabetesPedigreeFunction\": 0.22, \"Age\": 38, \"Outcome\": 1}, {\"Pregnancies\": 0, \"Glucose\": 102, \"BloodPressure\": 86, \"SkinThickness\": 17, \"Insulin\": 105, \"BMI\": 29.3, \"DiabetesPedigreeFunction\": 0.695, \"Age\": 27, \"Outcome\": 0}, {\"Pregnancies\": 8, \"Glucose\": 99, \"BloodPressure\": 84, \"SkinThickness\": 0, \"Insulin\": 0, \"BMI\": 35.4, \"DiabetesPedigreeFunction\": 0.388, \"Age\": 50, \"Outcome\": 0}, {\"Pregnancies\": 3, \"Glucose\": 83, \"BloodPressure\": 58, \"SkinThickness\": 31, \"Insulin\": 18, \"BMI\": 34.3, \"DiabetesPedigreeFunction\": 0.336, \"Age\": 25, \"Outcome\": 0}, {\"Pregnancies\": 1, \"Glucose\": 139, \"BloodPressure\": 46, \"SkinThickness\": 19, \"Insulin\": 83, \"BMI\": 28.7, \"DiabetesPedigreeFunction\": 0.654, \"Age\": 22, \"Outcome\": 0}, {\"Pregnancies\": 1, \"Glucose\": 172, \"BloodPressure\": 68, \"SkinThickness\": 49, \"Insulin\": 579, \"BMI\": 42.4, \"DiabetesPedigreeFunction\": 0.702, \"Age\": 28, \"Outcome\": 1}, {\"Pregnancies\": 1, \"Glucose\": 131, \"BloodPressure\": 64, \"SkinThickness\": 14, \"Insulin\": 415, \"BMI\": 23.7, \"DiabetesPedigreeFunction\": 0.389, \"Age\": 21, \"Outcome\": 0}, {\"Pregnancies\": 1, \"Glucose\": 164, \"BloodPressure\": 82, \"SkinThickness\": 43, \"Insulin\": 67, \"BMI\": 32.8, \"DiabetesPedigreeFunction\": 0.341, \"Age\": 50, \"Outcome\": 0}]}}, {\"mode\": \"vega-lite\"});\n",
       "</script>"
      ],
      "text/plain": [
       "alt.RepeatChart(...)"
      ]
     },
     "execution_count": 10,
     "metadata": {},
     "output_type": "execute_result"
    }
   ],
   "source": [
    "# Visualize feature distributions\n",
    "feature_histograms = alt.Chart(train_df).transform_calculate(\n",
    ").mark_bar(opacity=0.5).encode( x = alt.X(alt.repeat()).type(\n",
    "'quantitative').bin(maxbins=30), y= alt.Y('count()').stack(False),\n",
    "                               color = 'Outcome:N'\n",
    ").properties( height=250,\n",
    "width=250 ).repeat(\n",
    "features, columns=2\n",
    ")\n",
    "\n",
    "feature_histograms "
   ]
  },
  {
   "cell_type": "markdown",
   "id": "6995241a-3405-46c1-a32c-51096604f88e",
   "metadata": {},
   "source": [
    "<i>Figure 1. Comparison of the empirical distributions of training data predictors between those non-diabetic and diabetic<i>"
   ]
  },
  {
   "cell_type": "markdown",
   "id": "fe80c9bb-631f-4ba8-b5ae-1256e15a3d92",
   "metadata": {},
   "source": [
    "Figure 1 above illustrates the distribution of each feature, categorized based on the Outcome variable: 0 (Non-Diabetic) and 1 (Diabetic). This visualization provides insights into the relationships between individual features and the target variable.\n",
    "\n",
    "For the `Glucose` levels, Non-Diabetic class exhibits a roughly normal distribution, whereas the Diabetic class shows a pronounced shift toward the middle-to-higher range of glucose levels. \n",
    "\n",
    "The `BMI` distribution resembles a normal distribution but skews slightly toward higher values. Similar to Glucose levels, the Diabetic class displays a decent shit towards the middle-to-higher ranges when compared to Non-Diabetic class, suggesting the potential for distinct differences between target groups within this category.\n",
    "\n",
    "The `Age` distribution reveals that individuals aged 20 to 32 are predominantly Non-Diabetic. Beyond age 32, the counts of Diabetic and Non-Diabetic individuals become comparable, with some bins showing a higher count for the Diabetic class, despite fewer overall observations in this group. The Non-Diabetic class leans toward younger ages, while the Diabetic class has a more even distribution across its age range.\n",
    "\n",
    "For `Pregnancies`, `Insulin`, and `DiabetesPedigreeFunction` -genetic risk of diabetes based on family history ranging from 0 to 2.5, the lower range of pregnancies is dominated by the Non-Diabetic class, whereas whereas higher numbers are more common in the Diabetic class.\n",
    "\n",
    "For `Blood Pressure` and `Skin Thickness`, both the Diabetic and Non-Diabetic classes approximates a normal distribution; however, the Non-Diabetic distribution skews slightly towards lower values, while the Diabetic class skews more towards higher values."
   ]
  },
  {
   "cell_type": "code",
   "execution_count": 11,
   "id": "93f62fb0-c9e4-4847-9476-49b8cc16c6ea",
   "metadata": {},
   "outputs": [],
   "source": [
    "# validate training data for class imbalance for target variable \n",
    "# Do these on training data as part of EDA! \n",
    "train_df_ds = Dataset(train_df, label = 'Outcome', cat_features=[])\n",
    "\n",
    "check_lab_cls_imb = ClassImbalance().add_condition_class_ratio_less_than(0.4)\n",
    "check_lab_cls_imb_result = check_lab_cls_imb.run(dataset = train_df_ds)\n",
    "\n",
    "if check_lab_cls_imb_result.passed_conditions():\n",
    "    raise ValueError(\"Class imbalance exceeds the maximum acceptable threshold.\")"
   ]
  },
  {
   "cell_type": "code",
   "execution_count": 12,
   "id": "7d395ab0-be41-49dc-b53b-8f9ebfcd4cc9",
   "metadata": {},
   "outputs": [],
   "source": [
    "# validate training data for percent of nulls\n",
    "check_pct_nulls = PercentOfNulls().add_condition_percent_of_nulls_not_greater_than(0.05)\n",
    "check_pct_nulls_result = check_pct_nulls.run(dataset = train_df_ds)\n",
    "\n",
    "if not check_pct_nulls_result.passed_conditions():\n",
    "    raise ValueError(\"Percent of nulls exceeds the maximum acceptable threshold for at least one column.\")"
   ]
  },
  {
   "cell_type": "code",
   "execution_count": 13,
   "id": "6287276b-c645-4044-9d9a-d4849bab9f67",
   "metadata": {},
   "outputs": [],
   "source": [
    "# validate training data for percent of outlier samples using loOP algo\n",
    "check_out_sample = (\n",
    "    OutlierSampleDetection(nearest_neighbors_percent = 0.01, extent_parameter = 3)\n",
    "    .add_condition_outlier_ratio_less_or_equal(max_outliers_ratio = 0.001, outlier_score_threshold = 0.9)\n",
    ")\n",
    "check_out_sample_result = check_out_sample.run(dataset = train_df_ds)\n",
    "\n",
    "if not check_out_sample_result.passed_conditions():\n",
    "    raise ValueError(\"Number of outlier samples exceeds the maximum acceptable threshold.\")"
   ]
  },
  {
   "cell_type": "code",
   "execution_count": 14,
   "id": "4fb0abd7-a03a-4918-b9e9-a98963f99567",
   "metadata": {},
   "outputs": [],
   "source": [
    "# validate training data for data duplicates\n",
    "# set duplicate condition to 0 as would not expect any two patient with the exact same situation\n",
    "check_data_dup = DataDuplicates().add_condition_ratio_less_or_equal(0)\n",
    "check_data_dup_result = check_data_dup.run(dataset = train_df_ds)\n",
    "\n",
    "if not check_data_dup_result.passed_conditions():\n",
    "    raise ValueError(\"Data duplicates exceed the maximum acceptable threshold.\")"
   ]
  },
  {
   "cell_type": "code",
   "execution_count": 15,
   "id": "d226cde9-402e-413d-9515-d2ff0b42e38b",
   "metadata": {},
   "outputs": [],
   "source": [
    "# validate training data for mixed data types across all columns\n",
    "check_mix_dtype = MixedDataTypes().add_condition_rare_type_ratio_not_in_range((0.01, 0.2))\n",
    "check_mix_dtype_result = check_mix_dtype.run(dataset = train_df_ds)\n",
    "\n",
    "if not check_mix_dtype_result.passed_conditions():\n",
    "    # raise a warning instead of an error in this case\n",
    "    warnings.warn(\"Percentage of rare data type in dangerous zone for at least one column\")"
   ]
  },
  {
   "cell_type": "code",
   "execution_count": 16,
   "id": "4b9f6883-e835-4c89-9886-74402cecee80",
   "metadata": {},
   "outputs": [
    {
     "data": {
      "text/html": [
       "\n",
       "<style>\n",
       "  #altair-viz-a95c48691ff142e3acda66a68f98e26b.vega-embed {\n",
       "    width: 100%;\n",
       "    display: flex;\n",
       "  }\n",
       "\n",
       "  #altair-viz-a95c48691ff142e3acda66a68f98e26b.vega-embed details,\n",
       "  #altair-viz-a95c48691ff142e3acda66a68f98e26b.vega-embed details summary {\n",
       "    position: relative;\n",
       "  }\n",
       "</style>\n",
       "<div id=\"altair-viz-a95c48691ff142e3acda66a68f98e26b\"></div>\n",
       "<script type=\"text/javascript\">\n",
       "  var VEGA_DEBUG = (typeof VEGA_DEBUG == \"undefined\") ? {} : VEGA_DEBUG;\n",
       "  (function(spec, embedOpt){\n",
       "    let outputDiv = document.currentScript.previousElementSibling;\n",
       "    if (outputDiv.id !== \"altair-viz-a95c48691ff142e3acda66a68f98e26b\") {\n",
       "      outputDiv = document.getElementById(\"altair-viz-a95c48691ff142e3acda66a68f98e26b\");\n",
       "    }\n",
       "\n",
       "    const paths = {\n",
       "      \"vega\": \"https://cdn.jsdelivr.net/npm/vega@5?noext\",\n",
       "      \"vega-lib\": \"https://cdn.jsdelivr.net/npm/vega-lib?noext\",\n",
       "      \"vega-lite\": \"https://cdn.jsdelivr.net/npm/vega-lite@5.20.1?noext\",\n",
       "      \"vega-embed\": \"https://cdn.jsdelivr.net/npm/vega-embed@6?noext\",\n",
       "    };\n",
       "\n",
       "    function maybeLoadScript(lib, version) {\n",
       "      var key = `${lib.replace(\"-\", \"\")}_version`;\n",
       "      return (VEGA_DEBUG[key] == version) ?\n",
       "        Promise.resolve(paths[lib]) :\n",
       "        new Promise(function(resolve, reject) {\n",
       "          var s = document.createElement('script');\n",
       "          document.getElementsByTagName(\"head\")[0].appendChild(s);\n",
       "          s.async = true;\n",
       "          s.onload = () => {\n",
       "            VEGA_DEBUG[key] = version;\n",
       "            return resolve(paths[lib]);\n",
       "          };\n",
       "          s.onerror = () => reject(`Error loading script: ${paths[lib]}`);\n",
       "          s.src = paths[lib];\n",
       "        });\n",
       "    }\n",
       "\n",
       "    function showError(err) {\n",
       "      outputDiv.innerHTML = `<div class=\"error\" style=\"color:red;\">${err}</div>`;\n",
       "      throw err;\n",
       "    }\n",
       "\n",
       "    function displayChart(vegaEmbed) {\n",
       "      vegaEmbed(outputDiv, spec, embedOpt)\n",
       "        .catch(err => showError(`Javascript Error: ${err.message}<br>This usually means there's a typo in your chart specification. See the javascript console for the full traceback.`));\n",
       "    }\n",
       "\n",
       "    if(typeof define === \"function\" && define.amd) {\n",
       "      requirejs.config({paths});\n",
       "      let deps = [\"vega-embed\"];\n",
       "      require(deps, displayChart, err => showError(`Error loading script: ${err.message}`));\n",
       "    } else {\n",
       "      maybeLoadScript(\"vega\", \"5\")\n",
       "        .then(() => maybeLoadScript(\"vega-lite\", \"5.20.1\"))\n",
       "        .then(() => maybeLoadScript(\"vega-embed\", \"6\"))\n",
       "        .catch(showError)\n",
       "        .then(() => displayChart(vegaEmbed));\n",
       "    }\n",
       "  })({\"config\": {\"view\": {\"continuousWidth\": 300, \"continuousHeight\": 300, \"strokeWidth\": 0}}, \"concat\": [{\"data\": {\"name\": \"data-4dfae0c8e23f5321a20c69ab94dbfc46\"}, \"mark\": {\"type\": \"circle\"}, \"encoding\": {\"color\": {\"field\": \"value\", \"scale\": {\"domain\": [-1, 1], \"scheme\": \"blueorange\"}, \"title\": \"\", \"type\": \"quantitative\"}, \"size\": {\"field\": \"abs_value\", \"legend\": null, \"scale\": {\"domain\": [0, 1]}, \"type\": \"quantitative\"}, \"tooltip\": [{\"field\": \"value\", \"format\": \".2f\", \"title\": \"corr\", \"type\": \"quantitative\"}, {\"field\": \"index\", \"title\": \"x\", \"type\": \"nominal\"}, {\"field\": \"variable\", \"title\": \"y\", \"type\": \"nominal\"}], \"x\": {\"field\": \"index\", \"sort\": [\"Outcome\", \"Age\", \"DiabetesPedigreeFunction\", \"BMI\", \"Insulin\", \"SkinThickness\", \"BloodPressure\", \"Glucose\"], \"title\": \"\", \"type\": \"nominal\"}, \"y\": {\"axis\": {}, \"field\": \"variable\", \"sort\": [\"Age\", \"DiabetesPedigreeFunction\", \"BMI\", \"Insulin\", \"SkinThickness\", \"BloodPressure\", \"Glucose\", \"Pregnancies\"], \"title\": \"\", \"type\": \"nominal\"}}, \"title\": \"Pearson correlations\", \"transform\": [{\"calculate\": \"abs(datum.value)\", \"as\": \"abs_value\"}]}, {\"data\": {\"name\": \"data-6e3da3c3e57dcdd3475707af15cdaedc\"}, \"mark\": {\"type\": \"circle\"}, \"encoding\": {\"color\": {\"field\": \"value\", \"scale\": {\"domain\": [-1, 1], \"scheme\": \"blueorange\"}, \"title\": \"\", \"type\": \"quantitative\"}, \"size\": {\"field\": \"abs_value\", \"legend\": null, \"scale\": {\"domain\": [0, 1]}, \"type\": \"quantitative\"}, \"tooltip\": [{\"field\": \"value\", \"format\": \".2f\", \"title\": \"corr\", \"type\": \"quantitative\"}, {\"field\": \"index\", \"title\": \"x\", \"type\": \"nominal\"}, {\"field\": \"variable\", \"title\": \"y\", \"type\": \"nominal\"}], \"x\": {\"field\": \"index\", \"sort\": [\"Outcome\", \"Age\", \"DiabetesPedigreeFunction\", \"BMI\", \"Insulin\", \"SkinThickness\", \"BloodPressure\", \"Glucose\"], \"title\": \"\", \"type\": \"nominal\"}, \"y\": {\"axis\": {\"labels\": false}, \"field\": \"variable\", \"sort\": [\"Age\", \"DiabetesPedigreeFunction\", \"BMI\", \"Insulin\", \"SkinThickness\", \"BloodPressure\", \"Glucose\", \"Pregnancies\"], \"title\": \"\", \"type\": \"nominal\"}}, \"title\": \"Spearman correlations\", \"transform\": [{\"calculate\": \"abs(datum.value)\", \"as\": \"abs_value\"}]}], \"resolve\": {\"axis\": {\"y\": \"shared\"}}, \"$schema\": \"https://vega.github.io/schema/vega-lite/v5.20.1.json\", \"datasets\": {\"data-4dfae0c8e23f5321a20c69ab94dbfc46\": [{\"index\": \"Outcome\", \"variable\": \"SkinThickness\", \"value\": 0.05805069744463521}, {\"index\": \"Age\", \"variable\": \"SkinThickness\", \"value\": -0.1611569960307984}, {\"index\": \"DiabetesPedigreeFunction\", \"variable\": \"SkinThickness\", \"value\": 0.18297819194178278}, {\"index\": \"BMI\", \"variable\": \"SkinThickness\", \"value\": 0.3899856371408073}, {\"index\": \"Insulin\", \"variable\": \"SkinThickness\", \"value\": 0.4194883374037009}, {\"index\": \"Outcome\", \"variable\": \"Pregnancies\", \"value\": 0.2078858595757552}, {\"index\": \"BloodPressure\", \"variable\": \"Pregnancies\", \"value\": 0.27919174866299756}, {\"index\": \"Glucose\", \"variable\": \"Pregnancies\", \"value\": 0.10919212665727918}, {\"index\": \"Age\", \"variable\": \"Pregnancies\", \"value\": 0.559239352449185}, {\"index\": \"SkinThickness\", \"variable\": \"Pregnancies\", \"value\": -0.1270013221667227}, {\"index\": \"Insulin\", \"variable\": \"Pregnancies\", \"value\": -0.1187980072830642}, {\"index\": \"BMI\", \"variable\": \"Pregnancies\", \"value\": 0.02270642269667084}, {\"index\": \"DiabetesPedigreeFunction\", \"variable\": \"Pregnancies\", \"value\": -0.10679520841038742}, {\"index\": \"Outcome\", \"variable\": \"Insulin\", \"value\": 0.12172594116104965}, {\"index\": \"BMI\", \"variable\": \"Insulin\", \"value\": 0.17102517954558089}, {\"index\": \"DiabetesPedigreeFunction\", \"variable\": \"Insulin\", \"value\": 0.20677106723471742}, {\"index\": \"Age\", \"variable\": \"Insulin\", \"value\": -0.08122921964103326}, {\"index\": \"BloodPressure\", \"variable\": \"Glucose\", \"value\": 0.21763567757828783}, {\"index\": \"SkinThickness\", \"variable\": \"Glucose\", \"value\": 0.054537359394061694}, {\"index\": \"Outcome\", \"variable\": \"Glucose\", \"value\": 0.49988211614501893}, {\"index\": \"DiabetesPedigreeFunction\", \"variable\": \"Glucose\", \"value\": 0.15707894581055598}, {\"index\": \"BMI\", \"variable\": \"Glucose\", \"value\": 0.22448150541223022}, {\"index\": \"Insulin\", \"variable\": \"Glucose\", \"value\": 0.3322103343988112}, {\"index\": \"Age\", \"variable\": \"Glucose\", \"value\": 0.22874640111758435}, {\"index\": \"Age\", \"variable\": \"DiabetesPedigreeFunction\", \"value\": -0.009615746045916196}, {\"index\": \"Outcome\", \"variable\": \"DiabetesPedigreeFunction\", \"value\": 0.1517286914286649}, {\"index\": \"DiabetesPedigreeFunction\", \"variable\": \"BloodPressure\", \"value\": -0.023342831142368896}, {\"index\": \"Outcome\", \"variable\": \"BloodPressure\", \"value\": 0.18121674547744515}, {\"index\": \"Age\", \"variable\": \"BloodPressure\", \"value\": 0.37137101148814655}, {\"index\": \"BMI\", \"variable\": \"BloodPressure\", \"value\": 0.23702351688576817}, {\"index\": \"Insulin\", \"variable\": \"BloodPressure\", \"value\": -0.07735122825125906}, {\"index\": \"SkinThickness\", \"variable\": \"BloodPressure\", \"value\": -0.03634477657436439}, {\"index\": \"DiabetesPedigreeFunction\", \"variable\": \"BMI\", \"value\": 0.14856186872771288}, {\"index\": \"Age\", \"variable\": \"BMI\", \"value\": -0.00010257016217029588}, {\"index\": \"Outcome\", \"variable\": \"BMI\", \"value\": 0.29449308407871766}, {\"index\": \"Outcome\", \"variable\": \"Age\", \"value\": 0.23642250327335712}], \"data-6e3da3c3e57dcdd3475707af15cdaedc\": [{\"index\": \"Outcome\", \"variable\": \"SkinThickness\", \"value\": 0.08132172806397184}, {\"index\": \"Age\", \"variable\": \"SkinThickness\", \"value\": -0.07659450754051844}, {\"index\": \"DiabetesPedigreeFunction\", \"variable\": \"SkinThickness\", \"value\": 0.1525815746759683}, {\"index\": \"BMI\", \"variable\": \"SkinThickness\", \"value\": 0.4414799642799951}, {\"index\": \"Insulin\", \"variable\": \"SkinThickness\", \"value\": 0.4927851862507308}, {\"index\": \"Outcome\", \"variable\": \"Pregnancies\", \"value\": 0.18545120028098006}, {\"index\": \"BloodPressure\", \"variable\": \"Pregnancies\", \"value\": 0.265248682769195}, {\"index\": \"Glucose\", \"variable\": \"Pregnancies\", \"value\": 0.11673377259116267}, {\"index\": \"Age\", \"variable\": \"Pregnancies\", \"value\": 0.6180232071523708}, {\"index\": \"SkinThickness\", \"variable\": \"Pregnancies\", \"value\": -0.11025132607839705}, {\"index\": \"Insulin\", \"variable\": \"Pregnancies\", \"value\": -0.1944173781357371}, {\"index\": \"BMI\", \"variable\": \"Pregnancies\", \"value\": 0.022478913652883833}, {\"index\": \"DiabetesPedigreeFunction\", \"variable\": \"Pregnancies\", \"value\": -0.1112385508707281}, {\"index\": \"Outcome\", \"variable\": \"Insulin\", \"value\": 0.06385630686666353}, {\"index\": \"BMI\", \"variable\": \"Insulin\", \"value\": 0.1682175518307966}, {\"index\": \"DiabetesPedigreeFunction\", \"variable\": \"Insulin\", \"value\": 0.21909131294912265}, {\"index\": \"Age\", \"variable\": \"Insulin\", \"value\": -0.15152831589089014}, {\"index\": \"BloodPressure\", \"variable\": \"Glucose\", \"value\": 0.24997573638224507}, {\"index\": \"SkinThickness\", \"variable\": \"Glucose\", \"value\": 0.05667209619594617}, {\"index\": \"Outcome\", \"variable\": \"Glucose\", \"value\": 0.4771537436664333}, {\"index\": \"DiabetesPedigreeFunction\", \"variable\": \"Glucose\", \"value\": 0.08834696983095447}, {\"index\": \"BMI\", \"variable\": \"Glucose\", \"value\": 0.20903852430120973}, {\"index\": \"Insulin\", \"variable\": \"Glucose\", \"value\": 0.2232945638188597}, {\"index\": \"Age\", \"variable\": \"Glucose\", \"value\": 0.2445426248743941}, {\"index\": \"Age\", \"variable\": \"DiabetesPedigreeFunction\", \"value\": 0.0020535833192315608}, {\"index\": \"Outcome\", \"variable\": \"DiabetesPedigreeFunction\", \"value\": 0.14436906815764458}, {\"index\": \"DiabetesPedigreeFunction\", \"variable\": \"BloodPressure\", \"value\": 0.015703772774554845}, {\"index\": \"Outcome\", \"variable\": \"BloodPressure\", \"value\": 0.19627959208842127}, {\"index\": \"Age\", \"variable\": \"BloodPressure\", \"value\": 0.40284277687456577}, {\"index\": \"BMI\", \"variable\": \"BloodPressure\", \"value\": 0.2732226652160213}, {\"index\": \"Insulin\", \"variable\": \"BloodPressure\", \"value\": -0.08945257357036006}, {\"index\": \"SkinThickness\", \"variable\": \"BloodPressure\", \"value\": 0.0008390166269795231}, {\"index\": \"DiabetesPedigreeFunction\", \"variable\": \"BMI\", \"value\": 0.1269808498615565}, {\"index\": \"Age\", \"variable\": \"BMI\", \"value\": 0.13053162196459703}, {\"index\": \"Outcome\", \"variable\": \"BMI\", \"value\": 0.30485960746538754}, {\"index\": \"Outcome\", \"variable\": \"Age\", \"value\": 0.298609461871612}]}}, {\"mode\": \"vega-lite\"});\n",
       "</script>"
      ],
      "text/plain": [
       "alt.ConcatChart(...)"
      ]
     },
     "execution_count": 16,
     "metadata": {},
     "output_type": "execute_result"
    }
   ],
   "source": [
    "# Visualize correlations across features\n",
    "aly.corr(train_df)"
   ]
  },
  {
   "cell_type": "markdown",
   "id": "bb988de9-549c-4594-ace9-9fa6436bbd27",
   "metadata": {},
   "source": [
    "<i>Figure 2. Pearson and Spearman correlations across all features<i>"
   ]
  },
  {
   "cell_type": "markdown",
   "id": "d43927d3-04dc-433f-8c90-d7c662826730",
   "metadata": {},
   "source": [
    "Figure 2 shows the correlation between all of the respective features. The main reasoning to analyze this is to see if there is any multicollinearity between any of the features which cou;d be problamatic when conducting a Logistic Regression. We see that highest level of correlation is between Age and Pregnancies (0.62 via Spearman, and 0.56 by Pearson). Since this is below the threshold of 0.7, we can conclude that all features' coefficients are suitable and will not cause any multicollinearity in our model. "
   ]
  },
  {
   "cell_type": "code",
   "execution_count": 17,
   "id": "fd50b563-9985-4d2c-8a3f-e9a97f2a6fb1",
   "metadata": {},
   "outputs": [
    {
     "data": {
      "text/html": [
       "\n",
       "<style>\n",
       "  #altair-viz-e09b054c1bb9412eb8a51a04c92af25c.vega-embed {\n",
       "    width: 100%;\n",
       "    display: flex;\n",
       "  }\n",
       "\n",
       "  #altair-viz-e09b054c1bb9412eb8a51a04c92af25c.vega-embed details,\n",
       "  #altair-viz-e09b054c1bb9412eb8a51a04c92af25c.vega-embed details summary {\n",
       "    position: relative;\n",
       "  }\n",
       "</style>\n",
       "<div id=\"altair-viz-e09b054c1bb9412eb8a51a04c92af25c\"></div>\n",
       "<script type=\"text/javascript\">\n",
       "  var VEGA_DEBUG = (typeof VEGA_DEBUG == \"undefined\") ? {} : VEGA_DEBUG;\n",
       "  (function(spec, embedOpt){\n",
       "    let outputDiv = document.currentScript.previousElementSibling;\n",
       "    if (outputDiv.id !== \"altair-viz-e09b054c1bb9412eb8a51a04c92af25c\") {\n",
       "      outputDiv = document.getElementById(\"altair-viz-e09b054c1bb9412eb8a51a04c92af25c\");\n",
       "    }\n",
       "\n",
       "    const paths = {\n",
       "      \"vega\": \"https://cdn.jsdelivr.net/npm/vega@5?noext\",\n",
       "      \"vega-lib\": \"https://cdn.jsdelivr.net/npm/vega-lib?noext\",\n",
       "      \"vega-lite\": \"https://cdn.jsdelivr.net/npm/vega-lite@5.20.1?noext\",\n",
       "      \"vega-embed\": \"https://cdn.jsdelivr.net/npm/vega-embed@6?noext\",\n",
       "    };\n",
       "\n",
       "    function maybeLoadScript(lib, version) {\n",
       "      var key = `${lib.replace(\"-\", \"\")}_version`;\n",
       "      return (VEGA_DEBUG[key] == version) ?\n",
       "        Promise.resolve(paths[lib]) :\n",
       "        new Promise(function(resolve, reject) {\n",
       "          var s = document.createElement('script');\n",
       "          document.getElementsByTagName(\"head\")[0].appendChild(s);\n",
       "          s.async = true;\n",
       "          s.onload = () => {\n",
       "            VEGA_DEBUG[key] = version;\n",
       "            return resolve(paths[lib]);\n",
       "          };\n",
       "          s.onerror = () => reject(`Error loading script: ${paths[lib]}`);\n",
       "          s.src = paths[lib];\n",
       "        });\n",
       "    }\n",
       "\n",
       "    function showError(err) {\n",
       "      outputDiv.innerHTML = `<div class=\"error\" style=\"color:red;\">${err}</div>`;\n",
       "      throw err;\n",
       "    }\n",
       "\n",
       "    function displayChart(vegaEmbed) {\n",
       "      vegaEmbed(outputDiv, spec, embedOpt)\n",
       "        .catch(err => showError(`Javascript Error: ${err.message}<br>This usually means there's a typo in your chart specification. See the javascript console for the full traceback.`));\n",
       "    }\n",
       "\n",
       "    if(typeof define === \"function\" && define.amd) {\n",
       "      requirejs.config({paths});\n",
       "      let deps = [\"vega-embed\"];\n",
       "      require(deps, displayChart, err => showError(`Error loading script: ${err.message}`));\n",
       "    } else {\n",
       "      maybeLoadScript(\"vega\", \"5\")\n",
       "        .then(() => maybeLoadScript(\"vega-lite\", \"5.20.1\"))\n",
       "        .then(() => maybeLoadScript(\"vega-embed\", \"6\"))\n",
       "        .catch(showError)\n",
       "        .then(() => displayChart(vegaEmbed));\n",
       "    }\n",
       "  })({\"config\": {\"view\": {\"continuousWidth\": 300, \"continuousHeight\": 300}}, \"vconcat\": [{\"hconcat\": [{\"mark\": {\"type\": \"point\"}, \"encoding\": {\"color\": {\"condition\": {\"param\": \"param_2\", \"field\": \"Outcome\", \"legend\": {\"orient\": \"top\"}, \"type\": \"nominal\"}, \"value\": \"lightgrey\"}, \"opacity\": {\"condition\": {\"param\": \"param_3\", \"value\": 0.6}, \"value\": 0.1}, \"tooltip\": {\"field\": \"\", \"type\": \"quantitative\"}, \"x\": {\"axis\": {\"domain\": false, \"labels\": false, \"ticks\": false, \"title\": \"\"}, \"bin\": false, \"field\": \"Outcome\", \"scale\": {\"zero\": false}, \"type\": \"quantitative\"}, \"y\": {\"bin\": false, \"field\": \"Age\", \"scale\": {\"zero\": false}, \"type\": \"quantitative\"}}, \"height\": 150, \"name\": \"view_1\", \"width\": 150}]}, {\"hconcat\": [{\"mark\": {\"type\": \"point\"}, \"encoding\": {\"color\": {\"condition\": {\"param\": \"param_2\", \"field\": \"Outcome\", \"legend\": {\"orient\": \"top\"}, \"type\": \"nominal\"}, \"value\": \"lightgrey\"}, \"opacity\": {\"condition\": {\"param\": \"param_3\", \"value\": 0.6}, \"value\": 0.1}, \"tooltip\": {\"field\": \"\", \"type\": \"quantitative\"}, \"x\": {\"axis\": {\"domain\": false, \"labels\": false, \"ticks\": false, \"title\": \"\"}, \"bin\": false, \"field\": \"Outcome\", \"scale\": {\"zero\": false}, \"type\": \"quantitative\"}, \"y\": {\"bin\": false, \"field\": \"DiabetesPedigreeFunction\", \"scale\": {\"zero\": false}, \"type\": \"quantitative\"}}, \"height\": 150, \"name\": \"view_2\", \"width\": 150}, {\"mark\": {\"type\": \"point\"}, \"encoding\": {\"color\": {\"condition\": {\"param\": \"param_2\", \"field\": \"Outcome\", \"legend\": {\"orient\": \"top\"}, \"type\": \"nominal\"}, \"value\": \"lightgrey\"}, \"opacity\": {\"condition\": {\"param\": \"param_3\", \"value\": 0.6}, \"value\": 0.1}, \"tooltip\": {\"field\": \"\", \"type\": \"quantitative\"}, \"x\": {\"axis\": {\"domain\": false, \"labels\": false, \"ticks\": false, \"title\": \"\"}, \"bin\": false, \"field\": \"Age\", \"scale\": {\"zero\": false}, \"type\": \"quantitative\"}, \"y\": {\"axis\": {\"domain\": false, \"labels\": false, \"ticks\": false, \"title\": \"\"}, \"bin\": false, \"field\": \"DiabetesPedigreeFunction\", \"scale\": {\"zero\": false}, \"type\": \"quantitative\"}}, \"height\": 150, \"name\": \"view_3\", \"width\": 150}]}, {\"hconcat\": [{\"mark\": {\"type\": \"point\"}, \"encoding\": {\"color\": {\"condition\": {\"param\": \"param_2\", \"field\": \"Outcome\", \"legend\": {\"orient\": \"top\"}, \"type\": \"nominal\"}, \"value\": \"lightgrey\"}, \"opacity\": {\"condition\": {\"param\": \"param_3\", \"value\": 0.6}, \"value\": 0.1}, \"tooltip\": {\"field\": \"\", \"type\": \"quantitative\"}, \"x\": {\"axis\": {\"domain\": false, \"labels\": false, \"ticks\": false, \"title\": \"\"}, \"bin\": false, \"field\": \"Outcome\", \"scale\": {\"zero\": false}, \"type\": \"quantitative\"}, \"y\": {\"bin\": false, \"field\": \"BMI\", \"scale\": {\"zero\": false}, \"type\": \"quantitative\"}}, \"height\": 150, \"name\": \"view_4\", \"width\": 150}, {\"mark\": {\"type\": \"point\"}, \"encoding\": {\"color\": {\"condition\": {\"param\": \"param_2\", \"field\": \"Outcome\", \"legend\": {\"orient\": \"top\"}, \"type\": \"nominal\"}, \"value\": \"lightgrey\"}, \"opacity\": {\"condition\": {\"param\": \"param_3\", \"value\": 0.6}, \"value\": 0.1}, \"tooltip\": {\"field\": \"\", \"type\": \"quantitative\"}, \"x\": {\"axis\": {\"domain\": false, \"labels\": false, \"ticks\": false, \"title\": \"\"}, \"bin\": false, \"field\": \"Age\", \"scale\": {\"zero\": false}, \"type\": \"quantitative\"}, \"y\": {\"axis\": {\"domain\": false, \"labels\": false, \"ticks\": false, \"title\": \"\"}, \"bin\": false, \"field\": \"BMI\", \"scale\": {\"zero\": false}, \"type\": \"quantitative\"}}, \"height\": 150, \"name\": \"view_5\", \"width\": 150}, {\"mark\": {\"type\": \"point\"}, \"encoding\": {\"color\": {\"condition\": {\"param\": \"param_2\", \"field\": \"Outcome\", \"legend\": {\"orient\": \"top\"}, \"type\": \"nominal\"}, \"value\": \"lightgrey\"}, \"opacity\": {\"condition\": {\"param\": \"param_3\", \"value\": 0.6}, \"value\": 0.1}, \"tooltip\": {\"field\": \"\", \"type\": \"quantitative\"}, \"x\": {\"axis\": {\"domain\": false, \"labels\": false, \"ticks\": false, \"title\": \"\"}, \"bin\": false, \"field\": \"DiabetesPedigreeFunction\", \"scale\": {\"zero\": false}, \"type\": \"quantitative\"}, \"y\": {\"axis\": {\"domain\": false, \"labels\": false, \"ticks\": false, \"title\": \"\"}, \"bin\": false, \"field\": \"BMI\", \"scale\": {\"zero\": false}, \"type\": \"quantitative\"}}, \"height\": 150, \"name\": \"view_6\", \"width\": 150}]}, {\"hconcat\": [{\"mark\": {\"type\": \"point\"}, \"encoding\": {\"color\": {\"condition\": {\"param\": \"param_2\", \"field\": \"Outcome\", \"legend\": {\"orient\": \"top\"}, \"type\": \"nominal\"}, \"value\": \"lightgrey\"}, \"opacity\": {\"condition\": {\"param\": \"param_3\", \"value\": 0.6}, \"value\": 0.1}, \"tooltip\": {\"field\": \"\", \"type\": \"quantitative\"}, \"x\": {\"axis\": {\"domain\": false, \"labels\": false, \"ticks\": false, \"title\": \"\"}, \"bin\": false, \"field\": \"Outcome\", \"scale\": {\"zero\": false}, \"type\": \"quantitative\"}, \"y\": {\"bin\": false, \"field\": \"Insulin\", \"scale\": {\"zero\": false}, \"type\": \"quantitative\"}}, \"height\": 150, \"name\": \"view_7\", \"width\": 150}, {\"mark\": {\"type\": \"point\"}, \"encoding\": {\"color\": {\"condition\": {\"param\": \"param_2\", \"field\": \"Outcome\", \"legend\": {\"orient\": \"top\"}, \"type\": \"nominal\"}, \"value\": \"lightgrey\"}, \"opacity\": {\"condition\": {\"param\": \"param_3\", \"value\": 0.6}, \"value\": 0.1}, \"tooltip\": {\"field\": \"\", \"type\": \"quantitative\"}, \"x\": {\"axis\": {\"domain\": false, \"labels\": false, \"ticks\": false, \"title\": \"\"}, \"bin\": false, \"field\": \"Age\", \"scale\": {\"zero\": false}, \"type\": \"quantitative\"}, \"y\": {\"axis\": {\"domain\": false, \"labels\": false, \"ticks\": false, \"title\": \"\"}, \"bin\": false, \"field\": \"Insulin\", \"scale\": {\"zero\": false}, \"type\": \"quantitative\"}}, \"height\": 150, \"name\": \"view_8\", \"width\": 150}, {\"mark\": {\"type\": \"point\"}, \"encoding\": {\"color\": {\"condition\": {\"param\": \"param_2\", \"field\": \"Outcome\", \"legend\": {\"orient\": \"top\"}, \"type\": \"nominal\"}, \"value\": \"lightgrey\"}, \"opacity\": {\"condition\": {\"param\": \"param_3\", \"value\": 0.6}, \"value\": 0.1}, \"tooltip\": {\"field\": \"\", \"type\": \"quantitative\"}, \"x\": {\"axis\": {\"domain\": false, \"labels\": false, \"ticks\": false, \"title\": \"\"}, \"bin\": false, \"field\": \"DiabetesPedigreeFunction\", \"scale\": {\"zero\": false}, \"type\": \"quantitative\"}, \"y\": {\"axis\": {\"domain\": false, \"labels\": false, \"ticks\": false, \"title\": \"\"}, \"bin\": false, \"field\": \"Insulin\", \"scale\": {\"zero\": false}, \"type\": \"quantitative\"}}, \"height\": 150, \"name\": \"view_9\", \"width\": 150}, {\"mark\": {\"type\": \"point\"}, \"encoding\": {\"color\": {\"condition\": {\"param\": \"param_2\", \"field\": \"Outcome\", \"legend\": {\"orient\": \"top\"}, \"type\": \"nominal\"}, \"value\": \"lightgrey\"}, \"opacity\": {\"condition\": {\"param\": \"param_3\", \"value\": 0.6}, \"value\": 0.1}, \"tooltip\": {\"field\": \"\", \"type\": \"quantitative\"}, \"x\": {\"axis\": {\"domain\": false, \"labels\": false, \"ticks\": false, \"title\": \"\"}, \"bin\": false, \"field\": \"BMI\", \"scale\": {\"zero\": false}, \"type\": \"quantitative\"}, \"y\": {\"axis\": {\"domain\": false, \"labels\": false, \"ticks\": false, \"title\": \"\"}, \"bin\": false, \"field\": \"Insulin\", \"scale\": {\"zero\": false}, \"type\": \"quantitative\"}}, \"height\": 150, \"name\": \"view_10\", \"width\": 150}]}, {\"hconcat\": [{\"mark\": {\"type\": \"point\"}, \"encoding\": {\"color\": {\"condition\": {\"param\": \"param_2\", \"field\": \"Outcome\", \"legend\": {\"orient\": \"top\"}, \"type\": \"nominal\"}, \"value\": \"lightgrey\"}, \"opacity\": {\"condition\": {\"param\": \"param_3\", \"value\": 0.6}, \"value\": 0.1}, \"tooltip\": {\"field\": \"\", \"type\": \"quantitative\"}, \"x\": {\"axis\": {\"domain\": false, \"labels\": false, \"ticks\": false, \"title\": \"\"}, \"bin\": false, \"field\": \"Outcome\", \"scale\": {\"zero\": false}, \"type\": \"quantitative\"}, \"y\": {\"bin\": false, \"field\": \"SkinThickness\", \"scale\": {\"zero\": false}, \"type\": \"quantitative\"}}, \"height\": 150, \"name\": \"view_11\", \"width\": 150}, {\"mark\": {\"type\": \"point\"}, \"encoding\": {\"color\": {\"condition\": {\"param\": \"param_2\", \"field\": \"Outcome\", \"legend\": {\"orient\": \"top\"}, \"type\": \"nominal\"}, \"value\": \"lightgrey\"}, \"opacity\": {\"condition\": {\"param\": \"param_3\", \"value\": 0.6}, \"value\": 0.1}, \"tooltip\": {\"field\": \"\", \"type\": \"quantitative\"}, \"x\": {\"axis\": {\"domain\": false, \"labels\": false, \"ticks\": false, \"title\": \"\"}, \"bin\": false, \"field\": \"Age\", \"scale\": {\"zero\": false}, \"type\": \"quantitative\"}, \"y\": {\"axis\": {\"domain\": false, \"labels\": false, \"ticks\": false, \"title\": \"\"}, \"bin\": false, \"field\": \"SkinThickness\", \"scale\": {\"zero\": false}, \"type\": \"quantitative\"}}, \"height\": 150, \"name\": \"view_12\", \"width\": 150}, {\"mark\": {\"type\": \"point\"}, \"encoding\": {\"color\": {\"condition\": {\"param\": \"param_2\", \"field\": \"Outcome\", \"legend\": {\"orient\": \"top\"}, \"type\": \"nominal\"}, \"value\": \"lightgrey\"}, \"opacity\": {\"condition\": {\"param\": \"param_3\", \"value\": 0.6}, \"value\": 0.1}, \"tooltip\": {\"field\": \"\", \"type\": \"quantitative\"}, \"x\": {\"axis\": {\"domain\": false, \"labels\": false, \"ticks\": false, \"title\": \"\"}, \"bin\": false, \"field\": \"DiabetesPedigreeFunction\", \"scale\": {\"zero\": false}, \"type\": \"quantitative\"}, \"y\": {\"axis\": {\"domain\": false, \"labels\": false, \"ticks\": false, \"title\": \"\"}, \"bin\": false, \"field\": \"SkinThickness\", \"scale\": {\"zero\": false}, \"type\": \"quantitative\"}}, \"height\": 150, \"name\": \"view_13\", \"width\": 150}, {\"mark\": {\"type\": \"point\"}, \"encoding\": {\"color\": {\"condition\": {\"param\": \"param_2\", \"field\": \"Outcome\", \"legend\": {\"orient\": \"top\"}, \"type\": \"nominal\"}, \"value\": \"lightgrey\"}, \"opacity\": {\"condition\": {\"param\": \"param_3\", \"value\": 0.6}, \"value\": 0.1}, \"tooltip\": {\"field\": \"\", \"type\": \"quantitative\"}, \"x\": {\"axis\": {\"domain\": false, \"labels\": false, \"ticks\": false, \"title\": \"\"}, \"bin\": false, \"field\": \"BMI\", \"scale\": {\"zero\": false}, \"type\": \"quantitative\"}, \"y\": {\"axis\": {\"domain\": false, \"labels\": false, \"ticks\": false, \"title\": \"\"}, \"bin\": false, \"field\": \"SkinThickness\", \"scale\": {\"zero\": false}, \"type\": \"quantitative\"}}, \"height\": 150, \"name\": \"view_14\", \"width\": 150}, {\"mark\": {\"type\": \"point\"}, \"encoding\": {\"color\": {\"condition\": {\"param\": \"param_2\", \"field\": \"Outcome\", \"legend\": {\"orient\": \"top\"}, \"type\": \"nominal\"}, \"value\": \"lightgrey\"}, \"opacity\": {\"condition\": {\"param\": \"param_3\", \"value\": 0.6}, \"value\": 0.1}, \"tooltip\": {\"field\": \"\", \"type\": \"quantitative\"}, \"x\": {\"axis\": {\"domain\": false, \"labels\": false, \"ticks\": false, \"title\": \"\"}, \"bin\": false, \"field\": \"Insulin\", \"scale\": {\"zero\": false}, \"type\": \"quantitative\"}, \"y\": {\"axis\": {\"domain\": false, \"labels\": false, \"ticks\": false, \"title\": \"\"}, \"bin\": false, \"field\": \"SkinThickness\", \"scale\": {\"zero\": false}, \"type\": \"quantitative\"}}, \"height\": 150, \"name\": \"view_15\", \"width\": 150}]}, {\"hconcat\": [{\"mark\": {\"type\": \"point\"}, \"encoding\": {\"color\": {\"condition\": {\"param\": \"param_2\", \"field\": \"Outcome\", \"legend\": {\"orient\": \"top\"}, \"type\": \"nominal\"}, \"value\": \"lightgrey\"}, \"opacity\": {\"condition\": {\"param\": \"param_3\", \"value\": 0.6}, \"value\": 0.1}, \"tooltip\": {\"field\": \"\", \"type\": \"quantitative\"}, \"x\": {\"axis\": {\"domain\": false, \"labels\": false, \"ticks\": false, \"title\": \"\"}, \"bin\": false, \"field\": \"Outcome\", \"scale\": {\"zero\": false}, \"type\": \"quantitative\"}, \"y\": {\"bin\": false, \"field\": \"BloodPressure\", \"scale\": {\"zero\": false}, \"type\": \"quantitative\"}}, \"height\": 150, \"name\": \"view_16\", \"width\": 150}, {\"mark\": {\"type\": \"point\"}, \"encoding\": {\"color\": {\"condition\": {\"param\": \"param_2\", \"field\": \"Outcome\", \"legend\": {\"orient\": \"top\"}, \"type\": \"nominal\"}, \"value\": \"lightgrey\"}, \"opacity\": {\"condition\": {\"param\": \"param_3\", \"value\": 0.6}, \"value\": 0.1}, \"tooltip\": {\"field\": \"\", \"type\": \"quantitative\"}, \"x\": {\"axis\": {\"domain\": false, \"labels\": false, \"ticks\": false, \"title\": \"\"}, \"bin\": false, \"field\": \"Age\", \"scale\": {\"zero\": false}, \"type\": \"quantitative\"}, \"y\": {\"axis\": {\"domain\": false, \"labels\": false, \"ticks\": false, \"title\": \"\"}, \"bin\": false, \"field\": \"BloodPressure\", \"scale\": {\"zero\": false}, \"type\": \"quantitative\"}}, \"height\": 150, \"name\": \"view_17\", \"width\": 150}, {\"mark\": {\"type\": \"point\"}, \"encoding\": {\"color\": {\"condition\": {\"param\": \"param_2\", \"field\": \"Outcome\", \"legend\": {\"orient\": \"top\"}, \"type\": \"nominal\"}, \"value\": \"lightgrey\"}, \"opacity\": {\"condition\": {\"param\": \"param_3\", \"value\": 0.6}, \"value\": 0.1}, \"tooltip\": {\"field\": \"\", \"type\": \"quantitative\"}, \"x\": {\"axis\": {\"domain\": false, \"labels\": false, \"ticks\": false, \"title\": \"\"}, \"bin\": false, \"field\": \"DiabetesPedigreeFunction\", \"scale\": {\"zero\": false}, \"type\": \"quantitative\"}, \"y\": {\"axis\": {\"domain\": false, \"labels\": false, \"ticks\": false, \"title\": \"\"}, \"bin\": false, \"field\": \"BloodPressure\", \"scale\": {\"zero\": false}, \"type\": \"quantitative\"}}, \"height\": 150, \"name\": \"view_18\", \"width\": 150}, {\"mark\": {\"type\": \"point\"}, \"encoding\": {\"color\": {\"condition\": {\"param\": \"param_2\", \"field\": \"Outcome\", \"legend\": {\"orient\": \"top\"}, \"type\": \"nominal\"}, \"value\": \"lightgrey\"}, \"opacity\": {\"condition\": {\"param\": \"param_3\", \"value\": 0.6}, \"value\": 0.1}, \"tooltip\": {\"field\": \"\", \"type\": \"quantitative\"}, \"x\": {\"axis\": {\"domain\": false, \"labels\": false, \"ticks\": false, \"title\": \"\"}, \"bin\": false, \"field\": \"BMI\", \"scale\": {\"zero\": false}, \"type\": \"quantitative\"}, \"y\": {\"axis\": {\"domain\": false, \"labels\": false, \"ticks\": false, \"title\": \"\"}, \"bin\": false, \"field\": \"BloodPressure\", \"scale\": {\"zero\": false}, \"type\": \"quantitative\"}}, \"height\": 150, \"name\": \"view_19\", \"width\": 150}, {\"mark\": {\"type\": \"point\"}, \"encoding\": {\"color\": {\"condition\": {\"param\": \"param_2\", \"field\": \"Outcome\", \"legend\": {\"orient\": \"top\"}, \"type\": \"nominal\"}, \"value\": \"lightgrey\"}, \"opacity\": {\"condition\": {\"param\": \"param_3\", \"value\": 0.6}, \"value\": 0.1}, \"tooltip\": {\"field\": \"\", \"type\": \"quantitative\"}, \"x\": {\"axis\": {\"domain\": false, \"labels\": false, \"ticks\": false, \"title\": \"\"}, \"bin\": false, \"field\": \"Insulin\", \"scale\": {\"zero\": false}, \"type\": \"quantitative\"}, \"y\": {\"axis\": {\"domain\": false, \"labels\": false, \"ticks\": false, \"title\": \"\"}, \"bin\": false, \"field\": \"BloodPressure\", \"scale\": {\"zero\": false}, \"type\": \"quantitative\"}}, \"height\": 150, \"name\": \"view_20\", \"width\": 150}, {\"mark\": {\"type\": \"point\"}, \"encoding\": {\"color\": {\"condition\": {\"param\": \"param_2\", \"field\": \"Outcome\", \"legend\": {\"orient\": \"top\"}, \"type\": \"nominal\"}, \"value\": \"lightgrey\"}, \"opacity\": {\"condition\": {\"param\": \"param_3\", \"value\": 0.6}, \"value\": 0.1}, \"tooltip\": {\"field\": \"\", \"type\": \"quantitative\"}, \"x\": {\"axis\": {\"domain\": false, \"labels\": false, \"ticks\": false, \"title\": \"\"}, \"bin\": false, \"field\": \"SkinThickness\", \"scale\": {\"zero\": false}, \"type\": \"quantitative\"}, \"y\": {\"axis\": {\"domain\": false, \"labels\": false, \"ticks\": false, \"title\": \"\"}, \"bin\": false, \"field\": \"BloodPressure\", \"scale\": {\"zero\": false}, \"type\": \"quantitative\"}}, \"height\": 150, \"name\": \"view_21\", \"width\": 150}]}, {\"hconcat\": [{\"mark\": {\"type\": \"point\"}, \"encoding\": {\"color\": {\"condition\": {\"param\": \"param_2\", \"field\": \"Outcome\", \"legend\": {\"orient\": \"top\"}, \"type\": \"nominal\"}, \"value\": \"lightgrey\"}, \"opacity\": {\"condition\": {\"param\": \"param_3\", \"value\": 0.6}, \"value\": 0.1}, \"tooltip\": {\"field\": \"\", \"type\": \"quantitative\"}, \"x\": {\"axis\": {\"domain\": false, \"labels\": false, \"ticks\": false, \"title\": \"\"}, \"bin\": false, \"field\": \"Outcome\", \"scale\": {\"zero\": false}, \"type\": \"quantitative\"}, \"y\": {\"bin\": false, \"field\": \"Glucose\", \"scale\": {\"zero\": false}, \"type\": \"quantitative\"}}, \"height\": 150, \"name\": \"view_22\", \"width\": 150}, {\"mark\": {\"type\": \"point\"}, \"encoding\": {\"color\": {\"condition\": {\"param\": \"param_2\", \"field\": \"Outcome\", \"legend\": {\"orient\": \"top\"}, \"type\": \"nominal\"}, \"value\": \"lightgrey\"}, \"opacity\": {\"condition\": {\"param\": \"param_3\", \"value\": 0.6}, \"value\": 0.1}, \"tooltip\": {\"field\": \"\", \"type\": \"quantitative\"}, \"x\": {\"axis\": {\"domain\": false, \"labels\": false, \"ticks\": false, \"title\": \"\"}, \"bin\": false, \"field\": \"Age\", \"scale\": {\"zero\": false}, \"type\": \"quantitative\"}, \"y\": {\"axis\": {\"domain\": false, \"labels\": false, \"ticks\": false, \"title\": \"\"}, \"bin\": false, \"field\": \"Glucose\", \"scale\": {\"zero\": false}, \"type\": \"quantitative\"}}, \"height\": 150, \"name\": \"view_23\", \"width\": 150}, {\"mark\": {\"type\": \"point\"}, \"encoding\": {\"color\": {\"condition\": {\"param\": \"param_2\", \"field\": \"Outcome\", \"legend\": {\"orient\": \"top\"}, \"type\": \"nominal\"}, \"value\": \"lightgrey\"}, \"opacity\": {\"condition\": {\"param\": \"param_3\", \"value\": 0.6}, \"value\": 0.1}, \"tooltip\": {\"field\": \"\", \"type\": \"quantitative\"}, \"x\": {\"axis\": {\"domain\": false, \"labels\": false, \"ticks\": false, \"title\": \"\"}, \"bin\": false, \"field\": \"DiabetesPedigreeFunction\", \"scale\": {\"zero\": false}, \"type\": \"quantitative\"}, \"y\": {\"axis\": {\"domain\": false, \"labels\": false, \"ticks\": false, \"title\": \"\"}, \"bin\": false, \"field\": \"Glucose\", \"scale\": {\"zero\": false}, \"type\": \"quantitative\"}}, \"height\": 150, \"name\": \"view_24\", \"width\": 150}, {\"mark\": {\"type\": \"point\"}, \"encoding\": {\"color\": {\"condition\": {\"param\": \"param_2\", \"field\": \"Outcome\", \"legend\": {\"orient\": \"top\"}, \"type\": \"nominal\"}, \"value\": \"lightgrey\"}, \"opacity\": {\"condition\": {\"param\": \"param_3\", \"value\": 0.6}, \"value\": 0.1}, \"tooltip\": {\"field\": \"\", \"type\": \"quantitative\"}, \"x\": {\"axis\": {\"domain\": false, \"labels\": false, \"ticks\": false, \"title\": \"\"}, \"bin\": false, \"field\": \"BMI\", \"scale\": {\"zero\": false}, \"type\": \"quantitative\"}, \"y\": {\"axis\": {\"domain\": false, \"labels\": false, \"ticks\": false, \"title\": \"\"}, \"bin\": false, \"field\": \"Glucose\", \"scale\": {\"zero\": false}, \"type\": \"quantitative\"}}, \"height\": 150, \"name\": \"view_25\", \"width\": 150}, {\"mark\": {\"type\": \"point\"}, \"encoding\": {\"color\": {\"condition\": {\"param\": \"param_2\", \"field\": \"Outcome\", \"legend\": {\"orient\": \"top\"}, \"type\": \"nominal\"}, \"value\": \"lightgrey\"}, \"opacity\": {\"condition\": {\"param\": \"param_3\", \"value\": 0.6}, \"value\": 0.1}, \"tooltip\": {\"field\": \"\", \"type\": \"quantitative\"}, \"x\": {\"axis\": {\"domain\": false, \"labels\": false, \"ticks\": false, \"title\": \"\"}, \"bin\": false, \"field\": \"Insulin\", \"scale\": {\"zero\": false}, \"type\": \"quantitative\"}, \"y\": {\"axis\": {\"domain\": false, \"labels\": false, \"ticks\": false, \"title\": \"\"}, \"bin\": false, \"field\": \"Glucose\", \"scale\": {\"zero\": false}, \"type\": \"quantitative\"}}, \"height\": 150, \"name\": \"view_26\", \"width\": 150}, {\"mark\": {\"type\": \"point\"}, \"encoding\": {\"color\": {\"condition\": {\"param\": \"param_2\", \"field\": \"Outcome\", \"legend\": {\"orient\": \"top\"}, \"type\": \"nominal\"}, \"value\": \"lightgrey\"}, \"opacity\": {\"condition\": {\"param\": \"param_3\", \"value\": 0.6}, \"value\": 0.1}, \"tooltip\": {\"field\": \"\", \"type\": \"quantitative\"}, \"x\": {\"axis\": {\"domain\": false, \"labels\": false, \"ticks\": false, \"title\": \"\"}, \"bin\": false, \"field\": \"SkinThickness\", \"scale\": {\"zero\": false}, \"type\": \"quantitative\"}, \"y\": {\"axis\": {\"domain\": false, \"labels\": false, \"ticks\": false, \"title\": \"\"}, \"bin\": false, \"field\": \"Glucose\", \"scale\": {\"zero\": false}, \"type\": \"quantitative\"}}, \"height\": 150, \"name\": \"view_27\", \"width\": 150}, {\"mark\": {\"type\": \"point\"}, \"encoding\": {\"color\": {\"condition\": {\"param\": \"param_2\", \"field\": \"Outcome\", \"legend\": {\"orient\": \"top\"}, \"type\": \"nominal\"}, \"value\": \"lightgrey\"}, \"opacity\": {\"condition\": {\"param\": \"param_3\", \"value\": 0.6}, \"value\": 0.1}, \"tooltip\": {\"field\": \"\", \"type\": \"quantitative\"}, \"x\": {\"axis\": {\"domain\": false, \"labels\": false, \"ticks\": false, \"title\": \"\"}, \"bin\": false, \"field\": \"BloodPressure\", \"scale\": {\"zero\": false}, \"type\": \"quantitative\"}, \"y\": {\"axis\": {\"domain\": false, \"labels\": false, \"ticks\": false, \"title\": \"\"}, \"bin\": false, \"field\": \"Glucose\", \"scale\": {\"zero\": false}, \"type\": \"quantitative\"}}, \"height\": 150, \"name\": \"view_28\", \"width\": 150}]}, {\"hconcat\": [{\"mark\": {\"type\": \"point\"}, \"encoding\": {\"color\": {\"condition\": {\"param\": \"param_2\", \"field\": \"Outcome\", \"legend\": {\"orient\": \"top\"}, \"type\": \"nominal\"}, \"value\": \"lightgrey\"}, \"opacity\": {\"condition\": {\"param\": \"param_3\", \"value\": 0.6}, \"value\": 0.1}, \"tooltip\": {\"field\": \"\", \"type\": \"quantitative\"}, \"x\": {\"bin\": false, \"field\": \"Outcome\", \"scale\": {\"zero\": false}, \"type\": \"quantitative\"}, \"y\": {\"bin\": false, \"field\": \"Pregnancies\", \"scale\": {\"zero\": false}, \"type\": \"quantitative\"}}, \"height\": 150, \"name\": \"view_29\", \"width\": 150}, {\"mark\": {\"type\": \"point\"}, \"encoding\": {\"color\": {\"condition\": {\"param\": \"param_2\", \"field\": \"Outcome\", \"legend\": {\"orient\": \"top\"}, \"type\": \"nominal\"}, \"value\": \"lightgrey\"}, \"opacity\": {\"condition\": {\"param\": \"param_3\", \"value\": 0.6}, \"value\": 0.1}, \"tooltip\": {\"field\": \"\", \"type\": \"quantitative\"}, \"x\": {\"bin\": false, \"field\": \"Age\", \"scale\": {\"zero\": false}, \"type\": \"quantitative\"}, \"y\": {\"axis\": {\"domain\": false, \"labels\": false, \"ticks\": false, \"title\": \"\"}, \"bin\": false, \"field\": \"Pregnancies\", \"scale\": {\"zero\": false}, \"type\": \"quantitative\"}}, \"height\": 150, \"name\": \"view_30\", \"width\": 150}, {\"mark\": {\"type\": \"point\"}, \"encoding\": {\"color\": {\"condition\": {\"param\": \"param_2\", \"field\": \"Outcome\", \"legend\": {\"orient\": \"top\"}, \"type\": \"nominal\"}, \"value\": \"lightgrey\"}, \"opacity\": {\"condition\": {\"param\": \"param_3\", \"value\": 0.6}, \"value\": 0.1}, \"tooltip\": {\"field\": \"\", \"type\": \"quantitative\"}, \"x\": {\"bin\": false, \"field\": \"DiabetesPedigreeFunction\", \"scale\": {\"zero\": false}, \"type\": \"quantitative\"}, \"y\": {\"axis\": {\"domain\": false, \"labels\": false, \"ticks\": false, \"title\": \"\"}, \"bin\": false, \"field\": \"Pregnancies\", \"scale\": {\"zero\": false}, \"type\": \"quantitative\"}}, \"height\": 150, \"name\": \"view_31\", \"width\": 150}, {\"mark\": {\"type\": \"point\"}, \"encoding\": {\"color\": {\"condition\": {\"param\": \"param_2\", \"field\": \"Outcome\", \"legend\": {\"orient\": \"top\"}, \"type\": \"nominal\"}, \"value\": \"lightgrey\"}, \"opacity\": {\"condition\": {\"param\": \"param_3\", \"value\": 0.6}, \"value\": 0.1}, \"tooltip\": {\"field\": \"\", \"type\": \"quantitative\"}, \"x\": {\"bin\": false, \"field\": \"BMI\", \"scale\": {\"zero\": false}, \"type\": \"quantitative\"}, \"y\": {\"axis\": {\"domain\": false, \"labels\": false, \"ticks\": false, \"title\": \"\"}, \"bin\": false, \"field\": \"Pregnancies\", \"scale\": {\"zero\": false}, \"type\": \"quantitative\"}}, \"height\": 150, \"name\": \"view_32\", \"width\": 150}, {\"mark\": {\"type\": \"point\"}, \"encoding\": {\"color\": {\"condition\": {\"param\": \"param_2\", \"field\": \"Outcome\", \"legend\": {\"orient\": \"top\"}, \"type\": \"nominal\"}, \"value\": \"lightgrey\"}, \"opacity\": {\"condition\": {\"param\": \"param_3\", \"value\": 0.6}, \"value\": 0.1}, \"tooltip\": {\"field\": \"\", \"type\": \"quantitative\"}, \"x\": {\"bin\": false, \"field\": \"Insulin\", \"scale\": {\"zero\": false}, \"type\": \"quantitative\"}, \"y\": {\"axis\": {\"domain\": false, \"labels\": false, \"ticks\": false, \"title\": \"\"}, \"bin\": false, \"field\": \"Pregnancies\", \"scale\": {\"zero\": false}, \"type\": \"quantitative\"}}, \"height\": 150, \"name\": \"view_33\", \"width\": 150}, {\"mark\": {\"type\": \"point\"}, \"encoding\": {\"color\": {\"condition\": {\"param\": \"param_2\", \"field\": \"Outcome\", \"legend\": {\"orient\": \"top\"}, \"type\": \"nominal\"}, \"value\": \"lightgrey\"}, \"opacity\": {\"condition\": {\"param\": \"param_3\", \"value\": 0.6}, \"value\": 0.1}, \"tooltip\": {\"field\": \"\", \"type\": \"quantitative\"}, \"x\": {\"bin\": false, \"field\": \"SkinThickness\", \"scale\": {\"zero\": false}, \"type\": \"quantitative\"}, \"y\": {\"axis\": {\"domain\": false, \"labels\": false, \"ticks\": false, \"title\": \"\"}, \"bin\": false, \"field\": \"Pregnancies\", \"scale\": {\"zero\": false}, \"type\": \"quantitative\"}}, \"height\": 150, \"name\": \"view_34\", \"width\": 150}, {\"mark\": {\"type\": \"point\"}, \"encoding\": {\"color\": {\"condition\": {\"param\": \"param_2\", \"field\": \"Outcome\", \"legend\": {\"orient\": \"top\"}, \"type\": \"nominal\"}, \"value\": \"lightgrey\"}, \"opacity\": {\"condition\": {\"param\": \"param_3\", \"value\": 0.6}, \"value\": 0.1}, \"tooltip\": {\"field\": \"\", \"type\": \"quantitative\"}, \"x\": {\"bin\": false, \"field\": \"BloodPressure\", \"scale\": {\"zero\": false}, \"type\": \"quantitative\"}, \"y\": {\"axis\": {\"domain\": false, \"labels\": false, \"ticks\": false, \"title\": \"\"}, \"bin\": false, \"field\": \"Pregnancies\", \"scale\": {\"zero\": false}, \"type\": \"quantitative\"}}, \"height\": 150, \"name\": \"view_35\", \"width\": 150}, {\"mark\": {\"type\": \"point\"}, \"encoding\": {\"color\": {\"condition\": {\"param\": \"param_2\", \"field\": \"Outcome\", \"legend\": {\"orient\": \"top\"}, \"type\": \"nominal\"}, \"value\": \"lightgrey\"}, \"opacity\": {\"condition\": {\"param\": \"param_3\", \"value\": 0.6}, \"value\": 0.1}, \"tooltip\": {\"field\": \"\", \"type\": \"quantitative\"}, \"x\": {\"bin\": false, \"field\": \"Glucose\", \"scale\": {\"zero\": false}, \"type\": \"quantitative\"}, \"y\": {\"axis\": {\"domain\": false, \"labels\": false, \"ticks\": false, \"title\": \"\"}, \"bin\": false, \"field\": \"Pregnancies\", \"scale\": {\"zero\": false}, \"type\": \"quantitative\"}}, \"height\": 150, \"name\": \"view_36\", \"width\": 150}]}], \"data\": {\"name\": \"data-cd1664943d6c894dc5b171553592a382\"}, \"params\": [{\"name\": \"param_2\", \"select\": {\"type\": \"interval\"}, \"views\": [\"view_1\", \"view_2\", \"view_3\", \"view_4\", \"view_5\", \"view_6\", \"view_7\", \"view_8\", \"view_9\", \"view_10\", \"view_11\", \"view_12\", \"view_13\", \"view_14\", \"view_15\", \"view_16\", \"view_17\", \"view_18\", \"view_19\", \"view_20\", \"view_21\", \"view_22\", \"view_23\", \"view_24\", \"view_25\", \"view_26\", \"view_27\", \"view_28\", \"view_29\", \"view_30\", \"view_31\", \"view_32\", \"view_33\", \"view_34\", \"view_35\", \"view_36\"]}, {\"name\": \"param_3\", \"select\": {\"type\": \"point\", \"fields\": [\"Outcome\"]}, \"bind\": \"legend\", \"views\": [\"view_1\", \"view_2\", \"view_3\", \"view_4\", \"view_5\", \"view_6\", \"view_7\", \"view_8\", \"view_9\", \"view_10\", \"view_11\", \"view_12\", \"view_13\", \"view_14\", \"view_15\", \"view_16\", \"view_17\", \"view_18\", \"view_19\", \"view_20\", \"view_21\", \"view_22\", \"view_23\", \"view_24\", \"view_25\", \"view_26\", \"view_27\", \"view_28\", \"view_29\", \"view_30\", \"view_31\", \"view_32\", \"view_33\", \"view_34\", \"view_35\", \"view_36\"]}], \"$schema\": \"https://vega.github.io/schema/vega-lite/v5.20.1.json\", \"datasets\": {\"data-cd1664943d6c894dc5b171553592a382\": [{\"Pregnancies\": 4, \"Glucose\": 142, \"BloodPressure\": 86, \"SkinThickness\": 0, \"Insulin\": 0, \"BMI\": 44.0, \"DiabetesPedigreeFunction\": 0.645, \"Age\": 22, \"Outcome\": 1}, {\"Pregnancies\": 1, \"Glucose\": 181, \"BloodPressure\": 64, \"SkinThickness\": 30, \"Insulin\": 180, \"BMI\": 34.1, \"DiabetesPedigreeFunction\": 0.328, \"Age\": 38, \"Outcome\": 1}, {\"Pregnancies\": 1, \"Glucose\": 111, \"BloodPressure\": 62, \"SkinThickness\": 13, \"Insulin\": 182, \"BMI\": 24.0, \"DiabetesPedigreeFunction\": 0.138, \"Age\": 23, \"Outcome\": 0}, {\"Pregnancies\": 3, \"Glucose\": 84, \"BloodPressure\": 72, \"SkinThickness\": 32, \"Insulin\": 0, \"BMI\": 37.2, \"DiabetesPedigreeFunction\": 0.267, \"Age\": 28, \"Outcome\": 0}, {\"Pregnancies\": 0, \"Glucose\": 135, \"BloodPressure\": 68, \"SkinThickness\": 42, \"Insulin\": 250, \"BMI\": 42.3, \"DiabetesPedigreeFunction\": 0.365, \"Age\": 24, \"Outcome\": 1}, {\"Pregnancies\": 2, \"Glucose\": 112, \"BloodPressure\": 86, \"SkinThickness\": 42, \"Insulin\": 160, \"BMI\": 38.4, \"DiabetesPedigreeFunction\": 0.246, \"Age\": 28, \"Outcome\": 0}, {\"Pregnancies\": 1, \"Glucose\": 128, \"BloodPressure\": 88, \"SkinThickness\": 39, \"Insulin\": 110, \"BMI\": 36.5, \"DiabetesPedigreeFunction\": 1.057, \"Age\": 37, \"Outcome\": 1}, {\"Pregnancies\": 8, \"Glucose\": 109, \"BloodPressure\": 76, \"SkinThickness\": 39, \"Insulin\": 114, \"BMI\": 27.9, \"DiabetesPedigreeFunction\": 0.64, \"Age\": 31, \"Outcome\": 1}, {\"Pregnancies\": 1, \"Glucose\": 172, \"BloodPressure\": 68, \"SkinThickness\": 49, \"Insulin\": 579, \"BMI\": 42.4, \"DiabetesPedigreeFunction\": 0.702, \"Age\": 28, \"Outcome\": 1}, {\"Pregnancies\": 0, \"Glucose\": 162, \"BloodPressure\": 76, \"SkinThickness\": 56, \"Insulin\": 100, \"BMI\": 53.2, \"DiabetesPedigreeFunction\": 0.759, \"Age\": 25, \"Outcome\": 1}, {\"Pregnancies\": 1, \"Glucose\": 126, \"BloodPressure\": 56, \"SkinThickness\": 29, \"Insulin\": 152, \"BMI\": 28.7, \"DiabetesPedigreeFunction\": 0.801, \"Age\": 21, \"Outcome\": 0}, {\"Pregnancies\": 4, \"Glucose\": 95, \"BloodPressure\": 60, \"SkinThickness\": 32, \"Insulin\": 0, \"BMI\": 35.4, \"DiabetesPedigreeFunction\": 0.284, \"Age\": 28, \"Outcome\": 0}, {\"Pregnancies\": 1, \"Glucose\": 95, \"BloodPressure\": 82, \"SkinThickness\": 25, \"Insulin\": 180, \"BMI\": 35.0, \"DiabetesPedigreeFunction\": 0.233, \"Age\": 43, \"Outcome\": 1}, {\"Pregnancies\": 0, \"Glucose\": 57, \"BloodPressure\": 60, \"SkinThickness\": 0, \"Insulin\": 0, \"BMI\": 21.7, \"DiabetesPedigreeFunction\": 0.735, \"Age\": 67, \"Outcome\": 0}, {\"Pregnancies\": 2, \"Glucose\": 111, \"BloodPressure\": 60, \"SkinThickness\": 0, \"Insulin\": 0, \"BMI\": 26.2, \"DiabetesPedigreeFunction\": 0.343, \"Age\": 23, \"Outcome\": 0}, {\"Pregnancies\": 1, \"Glucose\": 87, \"BloodPressure\": 60, \"SkinThickness\": 37, \"Insulin\": 75, \"BMI\": 37.2, \"DiabetesPedigreeFunction\": 0.509, \"Age\": 22, \"Outcome\": 0}, {\"Pregnancies\": 7, \"Glucose\": 150, \"BloodPressure\": 78, \"SkinThickness\": 29, \"Insulin\": 126, \"BMI\": 35.2, \"DiabetesPedigreeFunction\": 0.692, \"Age\": 54, \"Outcome\": 1}, {\"Pregnancies\": 1, \"Glucose\": 100, \"BloodPressure\": 66, \"SkinThickness\": 15, \"Insulin\": 56, \"BMI\": 23.6, \"DiabetesPedigreeFunction\": 0.666, \"Age\": 26, \"Outcome\": 0}, {\"Pregnancies\": 5, \"Glucose\": 106, \"BloodPressure\": 82, \"SkinThickness\": 30, \"Insulin\": 0, \"BMI\": 39.5, \"DiabetesPedigreeFunction\": 0.286, \"Age\": 38, \"Outcome\": 0}, {\"Pregnancies\": 2, \"Glucose\": 85, \"BloodPressure\": 65, \"SkinThickness\": 0, \"Insulin\": 0, \"BMI\": 39.6, \"DiabetesPedigreeFunction\": 0.93, \"Age\": 27, \"Outcome\": 0}, {\"Pregnancies\": 2, \"Glucose\": 175, \"BloodPressure\": 88, \"SkinThickness\": 0, \"Insulin\": 0, \"BMI\": 22.9, \"DiabetesPedigreeFunction\": 0.326, \"Age\": 22, \"Outcome\": 0}, {\"Pregnancies\": 2, \"Glucose\": 83, \"BloodPressure\": 66, \"SkinThickness\": 23, \"Insulin\": 50, \"BMI\": 32.2, \"DiabetesPedigreeFunction\": 0.497, \"Age\": 22, \"Outcome\": 0}, {\"Pregnancies\": 0, \"Glucose\": 198, \"BloodPressure\": 66, \"SkinThickness\": 32, \"Insulin\": 274, \"BMI\": 41.3, \"DiabetesPedigreeFunction\": 0.502, \"Age\": 28, \"Outcome\": 1}, {\"Pregnancies\": 2, \"Glucose\": 102, \"BloodPressure\": 86, \"SkinThickness\": 36, \"Insulin\": 120, \"BMI\": 45.5, \"DiabetesPedigreeFunction\": 0.127, \"Age\": 23, \"Outcome\": 1}, {\"Pregnancies\": 4, \"Glucose\": 197, \"BloodPressure\": 70, \"SkinThickness\": 39, \"Insulin\": 744, \"BMI\": 36.7, \"DiabetesPedigreeFunction\": 2.329, \"Age\": 31, \"Outcome\": 0}, {\"Pregnancies\": 5, \"Glucose\": 189, \"BloodPressure\": 64, \"SkinThickness\": 33, \"Insulin\": 325, \"BMI\": 31.2, \"DiabetesPedigreeFunction\": 0.583, \"Age\": 29, \"Outcome\": 1}, {\"Pregnancies\": 6, \"Glucose\": 109, \"BloodPressure\": 60, \"SkinThickness\": 27, \"Insulin\": 0, \"BMI\": 25.0, \"DiabetesPedigreeFunction\": 0.206, \"Age\": 27, \"Outcome\": 0}, {\"Pregnancies\": 6, \"Glucose\": 137, \"BloodPressure\": 61, \"SkinThickness\": 0, \"Insulin\": 0, \"BMI\": 24.2, \"DiabetesPedigreeFunction\": 0.151, \"Age\": 55, \"Outcome\": 0}, {\"Pregnancies\": 8, \"Glucose\": 110, \"BloodPressure\": 76, \"SkinThickness\": 0, \"Insulin\": 0, \"BMI\": 27.8, \"DiabetesPedigreeFunction\": 0.237, \"Age\": 58, \"Outcome\": 0}, {\"Pregnancies\": 2, \"Glucose\": 99, \"BloodPressure\": 60, \"SkinThickness\": 17, \"Insulin\": 160, \"BMI\": 36.6, \"DiabetesPedigreeFunction\": 0.453, \"Age\": 21, \"Outcome\": 0}, {\"Pregnancies\": 5, \"Glucose\": 95, \"BloodPressure\": 72, \"SkinThickness\": 33, \"Insulin\": 0, \"BMI\": 37.7, \"DiabetesPedigreeFunction\": 0.37, \"Age\": 27, \"Outcome\": 0}, {\"Pregnancies\": 1, \"Glucose\": 139, \"BloodPressure\": 62, \"SkinThickness\": 41, \"Insulin\": 480, \"BMI\": 40.7, \"DiabetesPedigreeFunction\": 0.536, \"Age\": 21, \"Outcome\": 0}, {\"Pregnancies\": 2, \"Glucose\": 84, \"BloodPressure\": 50, \"SkinThickness\": 23, \"Insulin\": 76, \"BMI\": 30.4, \"DiabetesPedigreeFunction\": 0.968, \"Age\": 21, \"Outcome\": 0}, {\"Pregnancies\": 2, \"Glucose\": 90, \"BloodPressure\": 60, \"SkinThickness\": 0, \"Insulin\": 0, \"BMI\": 23.5, \"DiabetesPedigreeFunction\": 0.191, \"Age\": 25, \"Outcome\": 0}, {\"Pregnancies\": 5, \"Glucose\": 114, \"BloodPressure\": 74, \"SkinThickness\": 0, \"Insulin\": 0, \"BMI\": 24.9, \"DiabetesPedigreeFunction\": 0.744, \"Age\": 57, \"Outcome\": 0}, {\"Pregnancies\": 3, \"Glucose\": 111, \"BloodPressure\": 62, \"SkinThickness\": 0, \"Insulin\": 0, \"BMI\": 22.6, \"DiabetesPedigreeFunction\": 0.142, \"Age\": 21, \"Outcome\": 0}, {\"Pregnancies\": 9, \"Glucose\": 170, \"BloodPressure\": 74, \"SkinThickness\": 31, \"Insulin\": 0, \"BMI\": 44.0, \"DiabetesPedigreeFunction\": 0.403, \"Age\": 43, \"Outcome\": 1}, {\"Pregnancies\": 4, \"Glucose\": 90, \"BloodPressure\": 88, \"SkinThickness\": 47, \"Insulin\": 54, \"BMI\": 37.7, \"DiabetesPedigreeFunction\": 0.362, \"Age\": 29, \"Outcome\": 0}, {\"Pregnancies\": 1, \"Glucose\": 173, \"BloodPressure\": 74, \"SkinThickness\": 0, \"Insulin\": 0, \"BMI\": 36.8, \"DiabetesPedigreeFunction\": 0.088, \"Age\": 38, \"Outcome\": 1}, {\"Pregnancies\": 10, \"Glucose\": 90, \"BloodPressure\": 85, \"SkinThickness\": 32, \"Insulin\": 0, \"BMI\": 34.9, \"DiabetesPedigreeFunction\": 0.825, \"Age\": 56, \"Outcome\": 1}, {\"Pregnancies\": 5, \"Glucose\": 111, \"BloodPressure\": 72, \"SkinThickness\": 28, \"Insulin\": 0, \"BMI\": 23.9, \"DiabetesPedigreeFunction\": 0.407, \"Age\": 27, \"Outcome\": 0}, {\"Pregnancies\": 9, \"Glucose\": 112, \"BloodPressure\": 82, \"SkinThickness\": 32, \"Insulin\": 175, \"BMI\": 34.2, \"DiabetesPedigreeFunction\": 0.26, \"Age\": 36, \"Outcome\": 1}, {\"Pregnancies\": 3, \"Glucose\": 121, \"BloodPressure\": 52, \"SkinThickness\": 0, \"Insulin\": 0, \"BMI\": 36.0, \"DiabetesPedigreeFunction\": 0.127, \"Age\": 25, \"Outcome\": 1}, {\"Pregnancies\": 2, \"Glucose\": 82, \"BloodPressure\": 52, \"SkinThickness\": 22, \"Insulin\": 115, \"BMI\": 28.5, \"DiabetesPedigreeFunction\": 1.699, \"Age\": 25, \"Outcome\": 0}, {\"Pregnancies\": 5, \"Glucose\": 103, \"BloodPressure\": 108, \"SkinThickness\": 37, \"Insulin\": 0, \"BMI\": 39.2, \"DiabetesPedigreeFunction\": 0.305, \"Age\": 65, \"Outcome\": 0}, {\"Pregnancies\": 0, \"Glucose\": 118, \"BloodPressure\": 64, \"SkinThickness\": 23, \"Insulin\": 89, \"BMI\": 0.0, \"DiabetesPedigreeFunction\": 1.731, \"Age\": 21, \"Outcome\": 0}, {\"Pregnancies\": 2, \"Glucose\": 118, \"BloodPressure\": 80, \"SkinThickness\": 0, \"Insulin\": 0, \"BMI\": 42.9, \"DiabetesPedigreeFunction\": 0.693, \"Age\": 21, \"Outcome\": 1}, {\"Pregnancies\": 1, \"Glucose\": 120, \"BloodPressure\": 80, \"SkinThickness\": 48, \"Insulin\": 200, \"BMI\": 38.9, \"DiabetesPedigreeFunction\": 1.162, \"Age\": 41, \"Outcome\": 0}, {\"Pregnancies\": 5, \"Glucose\": 110, \"BloodPressure\": 68, \"SkinThickness\": 0, \"Insulin\": 0, \"BMI\": 26.0, \"DiabetesPedigreeFunction\": 0.292, \"Age\": 30, \"Outcome\": 0}, {\"Pregnancies\": 1, \"Glucose\": 119, \"BloodPressure\": 54, \"SkinThickness\": 13, \"Insulin\": 50, \"BMI\": 22.3, \"DiabetesPedigreeFunction\": 0.205, \"Age\": 24, \"Outcome\": 0}, {\"Pregnancies\": 0, \"Glucose\": 101, \"BloodPressure\": 64, \"SkinThickness\": 17, \"Insulin\": 0, \"BMI\": 21.0, \"DiabetesPedigreeFunction\": 0.252, \"Age\": 21, \"Outcome\": 0}, {\"Pregnancies\": 6, \"Glucose\": 80, \"BloodPressure\": 80, \"SkinThickness\": 36, \"Insulin\": 0, \"BMI\": 39.8, \"DiabetesPedigreeFunction\": 0.177, \"Age\": 28, \"Outcome\": 0}, {\"Pregnancies\": 6, \"Glucose\": 134, \"BloodPressure\": 80, \"SkinThickness\": 37, \"Insulin\": 370, \"BMI\": 46.2, \"DiabetesPedigreeFunction\": 0.238, \"Age\": 46, \"Outcome\": 1}, {\"Pregnancies\": 1, \"Glucose\": 90, \"BloodPressure\": 62, \"SkinThickness\": 18, \"Insulin\": 59, \"BMI\": 25.1, \"DiabetesPedigreeFunction\": 1.268, \"Age\": 25, \"Outcome\": 0}, {\"Pregnancies\": 11, \"Glucose\": 85, \"BloodPressure\": 74, \"SkinThickness\": 0, \"Insulin\": 0, \"BMI\": 30.1, \"DiabetesPedigreeFunction\": 0.3, \"Age\": 35, \"Outcome\": 0}, {\"Pregnancies\": 14, \"Glucose\": 100, \"BloodPressure\": 78, \"SkinThickness\": 25, \"Insulin\": 184, \"BMI\": 36.6, \"DiabetesPedigreeFunction\": 0.412, \"Age\": 46, \"Outcome\": 1}, {\"Pregnancies\": 2, \"Glucose\": 122, \"BloodPressure\": 70, \"SkinThickness\": 27, \"Insulin\": 0, \"BMI\": 36.8, \"DiabetesPedigreeFunction\": 0.34, \"Age\": 27, \"Outcome\": 0}, {\"Pregnancies\": 0, \"Glucose\": 119, \"BloodPressure\": 66, \"SkinThickness\": 27, \"Insulin\": 0, \"BMI\": 38.8, \"DiabetesPedigreeFunction\": 0.259, \"Age\": 22, \"Outcome\": 0}, {\"Pregnancies\": 2, \"Glucose\": 105, \"BloodPressure\": 80, \"SkinThickness\": 45, \"Insulin\": 191, \"BMI\": 33.7, \"DiabetesPedigreeFunction\": 0.711, \"Age\": 29, \"Outcome\": 1}, {\"Pregnancies\": 8, \"Glucose\": 65, \"BloodPressure\": 72, \"SkinThickness\": 23, \"Insulin\": 0, \"BMI\": 32.0, \"DiabetesPedigreeFunction\": 0.6, \"Age\": 42, \"Outcome\": 0}, {\"Pregnancies\": 6, \"Glucose\": 114, \"BloodPressure\": 88, \"SkinThickness\": 0, \"Insulin\": 0, \"BMI\": 27.8, \"DiabetesPedigreeFunction\": 0.247, \"Age\": 66, \"Outcome\": 0}, {\"Pregnancies\": 1, \"Glucose\": 112, \"BloodPressure\": 80, \"SkinThickness\": 45, \"Insulin\": 132, \"BMI\": 34.8, \"DiabetesPedigreeFunction\": 0.217, \"Age\": 24, \"Outcome\": 0}, {\"Pregnancies\": 0, \"Glucose\": 121, \"BloodPressure\": 66, \"SkinThickness\": 30, \"Insulin\": 165, \"BMI\": 34.3, \"DiabetesPedigreeFunction\": 0.203, \"Age\": 33, \"Outcome\": 1}, {\"Pregnancies\": 4, \"Glucose\": 99, \"BloodPressure\": 72, \"SkinThickness\": 17, \"Insulin\": 0, \"BMI\": 25.6, \"DiabetesPedigreeFunction\": 0.294, \"Age\": 28, \"Outcome\": 0}, {\"Pregnancies\": 1, \"Glucose\": 109, \"BloodPressure\": 56, \"SkinThickness\": 21, \"Insulin\": 135, \"BMI\": 25.2, \"DiabetesPedigreeFunction\": 0.833, \"Age\": 23, \"Outcome\": 0}, {\"Pregnancies\": 1, \"Glucose\": 118, \"BloodPressure\": 58, \"SkinThickness\": 36, \"Insulin\": 94, \"BMI\": 33.3, \"DiabetesPedigreeFunction\": 0.261, \"Age\": 23, \"Outcome\": 0}, {\"Pregnancies\": 3, \"Glucose\": 84, \"BloodPressure\": 68, \"SkinThickness\": 30, \"Insulin\": 106, \"BMI\": 31.9, \"DiabetesPedigreeFunction\": 0.591, \"Age\": 25, \"Outcome\": 0}, {\"Pregnancies\": 1, \"Glucose\": 128, \"BloodPressure\": 82, \"SkinThickness\": 17, \"Insulin\": 183, \"BMI\": 27.5, \"DiabetesPedigreeFunction\": 0.115, \"Age\": 22, \"Outcome\": 0}, {\"Pregnancies\": 7, \"Glucose\": 103, \"BloodPressure\": 66, \"SkinThickness\": 32, \"Insulin\": 0, \"BMI\": 39.1, \"DiabetesPedigreeFunction\": 0.344, \"Age\": 31, \"Outcome\": 1}, {\"Pregnancies\": 10, \"Glucose\": 168, \"BloodPressure\": 74, \"SkinThickness\": 0, \"Insulin\": 0, \"BMI\": 38.0, \"DiabetesPedigreeFunction\": 0.537, \"Age\": 34, \"Outcome\": 1}, {\"Pregnancies\": 3, \"Glucose\": 191, \"BloodPressure\": 68, \"SkinThickness\": 15, \"Insulin\": 130, \"BMI\": 30.9, \"DiabetesPedigreeFunction\": 0.299, \"Age\": 34, \"Outcome\": 0}, {\"Pregnancies\": 1, \"Glucose\": 95, \"BloodPressure\": 60, \"SkinThickness\": 18, \"Insulin\": 58, \"BMI\": 23.9, \"DiabetesPedigreeFunction\": 0.26, \"Age\": 22, \"Outcome\": 0}, {\"Pregnancies\": 4, \"Glucose\": 184, \"BloodPressure\": 78, \"SkinThickness\": 39, \"Insulin\": 277, \"BMI\": 37.0, \"DiabetesPedigreeFunction\": 0.264, \"Age\": 31, \"Outcome\": 1}, {\"Pregnancies\": 4, \"Glucose\": 122, \"BloodPressure\": 68, \"SkinThickness\": 0, \"Insulin\": 0, \"BMI\": 35.0, \"DiabetesPedigreeFunction\": 0.394, \"Age\": 29, \"Outcome\": 0}, {\"Pregnancies\": 10, \"Glucose\": 122, \"BloodPressure\": 78, \"SkinThickness\": 31, \"Insulin\": 0, \"BMI\": 27.6, \"DiabetesPedigreeFunction\": 0.512, \"Age\": 45, \"Outcome\": 0}, {\"Pregnancies\": 1, \"Glucose\": 117, \"BloodPressure\": 88, \"SkinThickness\": 24, \"Insulin\": 145, \"BMI\": 34.5, \"DiabetesPedigreeFunction\": 0.403, \"Age\": 40, \"Outcome\": 1}, {\"Pregnancies\": 9, \"Glucose\": 156, \"BloodPressure\": 86, \"SkinThickness\": 0, \"Insulin\": 0, \"BMI\": 24.8, \"DiabetesPedigreeFunction\": 0.23, \"Age\": 53, \"Outcome\": 1}, {\"Pregnancies\": 4, \"Glucose\": 94, \"BloodPressure\": 65, \"SkinThickness\": 22, \"Insulin\": 0, \"BMI\": 24.7, \"DiabetesPedigreeFunction\": 0.148, \"Age\": 21, \"Outcome\": 0}, {\"Pregnancies\": 3, \"Glucose\": 87, \"BloodPressure\": 60, \"SkinThickness\": 18, \"Insulin\": 0, \"BMI\": 21.8, \"DiabetesPedigreeFunction\": 0.444, \"Age\": 21, \"Outcome\": 0}, {\"Pregnancies\": 4, \"Glucose\": 97, \"BloodPressure\": 60, \"SkinThickness\": 23, \"Insulin\": 0, \"BMI\": 28.2, \"DiabetesPedigreeFunction\": 0.443, \"Age\": 22, \"Outcome\": 0}, {\"Pregnancies\": 3, \"Glucose\": 128, \"BloodPressure\": 72, \"SkinThickness\": 25, \"Insulin\": 190, \"BMI\": 32.4, \"DiabetesPedigreeFunction\": 0.549, \"Age\": 27, \"Outcome\": 1}, {\"Pregnancies\": 5, \"Glucose\": 166, \"BloodPressure\": 76, \"SkinThickness\": 0, \"Insulin\": 0, \"BMI\": 45.7, \"DiabetesPedigreeFunction\": 0.34, \"Age\": 27, \"Outcome\": 1}, {\"Pregnancies\": 3, \"Glucose\": 173, \"BloodPressure\": 82, \"SkinThickness\": 48, \"Insulin\": 465, \"BMI\": 38.4, \"DiabetesPedigreeFunction\": 2.137, \"Age\": 25, \"Outcome\": 1}, {\"Pregnancies\": 5, \"Glucose\": 73, \"BloodPressure\": 60, \"SkinThickness\": 0, \"Insulin\": 0, \"BMI\": 26.8, \"DiabetesPedigreeFunction\": 0.268, \"Age\": 27, \"Outcome\": 0}, {\"Pregnancies\": 8, \"Glucose\": 100, \"BloodPressure\": 76, \"SkinThickness\": 0, \"Insulin\": 0, \"BMI\": 38.7, \"DiabetesPedigreeFunction\": 0.19, \"Age\": 42, \"Outcome\": 0}, {\"Pregnancies\": 2, \"Glucose\": 108, \"BloodPressure\": 62, \"SkinThickness\": 32, \"Insulin\": 56, \"BMI\": 25.2, \"DiabetesPedigreeFunction\": 0.128, \"Age\": 21, \"Outcome\": 0}, {\"Pregnancies\": 8, \"Glucose\": 105, \"BloodPressure\": 100, \"SkinThickness\": 36, \"Insulin\": 0, \"BMI\": 43.3, \"DiabetesPedigreeFunction\": 0.239, \"Age\": 45, \"Outcome\": 1}, {\"Pregnancies\": 6, \"Glucose\": 104, \"BloodPressure\": 74, \"SkinThickness\": 18, \"Insulin\": 156, \"BMI\": 29.9, \"DiabetesPedigreeFunction\": 0.722, \"Age\": 41, \"Outcome\": 1}, {\"Pregnancies\": 6, \"Glucose\": 92, \"BloodPressure\": 62, \"SkinThickness\": 32, \"Insulin\": 126, \"BMI\": 32.0, \"DiabetesPedigreeFunction\": 0.085, \"Age\": 46, \"Outcome\": 0}, {\"Pregnancies\": 3, \"Glucose\": 128, \"BloodPressure\": 78, \"SkinThickness\": 0, \"Insulin\": 0, \"BMI\": 21.1, \"DiabetesPedigreeFunction\": 0.268, \"Age\": 55, \"Outcome\": 0}, {\"Pregnancies\": 2, \"Glucose\": 96, \"BloodPressure\": 68, \"SkinThickness\": 13, \"Insulin\": 49, \"BMI\": 21.1, \"DiabetesPedigreeFunction\": 0.647, \"Age\": 26, \"Outcome\": 0}, {\"Pregnancies\": 13, \"Glucose\": 145, \"BloodPressure\": 82, \"SkinThickness\": 19, \"Insulin\": 110, \"BMI\": 22.2, \"DiabetesPedigreeFunction\": 0.245, \"Age\": 57, \"Outcome\": 0}, {\"Pregnancies\": 7, \"Glucose\": 133, \"BloodPressure\": 84, \"SkinThickness\": 0, \"Insulin\": 0, \"BMI\": 40.2, \"DiabetesPedigreeFunction\": 0.696, \"Age\": 37, \"Outcome\": 0}, {\"Pregnancies\": 1, \"Glucose\": 112, \"BloodPressure\": 72, \"SkinThickness\": 30, \"Insulin\": 176, \"BMI\": 34.4, \"DiabetesPedigreeFunction\": 0.528, \"Age\": 25, \"Outcome\": 0}, {\"Pregnancies\": 7, \"Glucose\": 133, \"BloodPressure\": 88, \"SkinThickness\": 15, \"Insulin\": 155, \"BMI\": 32.4, \"DiabetesPedigreeFunction\": 0.262, \"Age\": 37, \"Outcome\": 0}, {\"Pregnancies\": 4, \"Glucose\": 144, \"BloodPressure\": 82, \"SkinThickness\": 32, \"Insulin\": 0, \"BMI\": 38.5, \"DiabetesPedigreeFunction\": 0.554, \"Age\": 37, \"Outcome\": 1}, {\"Pregnancies\": 0, \"Glucose\": 91, \"BloodPressure\": 80, \"SkinThickness\": 0, \"Insulin\": 0, \"BMI\": 32.4, \"DiabetesPedigreeFunction\": 0.601, \"Age\": 27, \"Outcome\": 0}, {\"Pregnancies\": 1, \"Glucose\": 97, \"BloodPressure\": 70, \"SkinThickness\": 40, \"Insulin\": 0, \"BMI\": 38.1, \"DiabetesPedigreeFunction\": 0.218, \"Age\": 30, \"Outcome\": 0}, {\"Pregnancies\": 0, \"Glucose\": 102, \"BloodPressure\": 78, \"SkinThickness\": 40, \"Insulin\": 90, \"BMI\": 34.5, \"DiabetesPedigreeFunction\": 0.238, \"Age\": 24, \"Outcome\": 0}, {\"Pregnancies\": 12, \"Glucose\": 84, \"BloodPressure\": 72, \"SkinThickness\": 31, \"Insulin\": 0, \"BMI\": 29.7, \"DiabetesPedigreeFunction\": 0.297, \"Age\": 46, \"Outcome\": 1}, {\"Pregnancies\": 1, \"Glucose\": 86, \"BloodPressure\": 66, \"SkinThickness\": 52, \"Insulin\": 65, \"BMI\": 41.3, \"DiabetesPedigreeFunction\": 0.917, \"Age\": 29, \"Outcome\": 0}, {\"Pregnancies\": 1, \"Glucose\": 100, \"BloodPressure\": 74, \"SkinThickness\": 12, \"Insulin\": 46, \"BMI\": 19.5, \"DiabetesPedigreeFunction\": 0.149, \"Age\": 28, \"Outcome\": 0}, {\"Pregnancies\": 4, \"Glucose\": 116, \"BloodPressure\": 72, \"SkinThickness\": 12, \"Insulin\": 87, \"BMI\": 22.1, \"DiabetesPedigreeFunction\": 0.463, \"Age\": 37, \"Outcome\": 0}, {\"Pregnancies\": 7, \"Glucose\": 142, \"BloodPressure\": 60, \"SkinThickness\": 33, \"Insulin\": 190, \"BMI\": 28.8, \"DiabetesPedigreeFunction\": 0.687, \"Age\": 61, \"Outcome\": 0}, {\"Pregnancies\": 9, \"Glucose\": 145, \"BloodPressure\": 88, \"SkinThickness\": 34, \"Insulin\": 165, \"BMI\": 30.3, \"DiabetesPedigreeFunction\": 0.771, \"Age\": 53, \"Outcome\": 1}, {\"Pregnancies\": 8, \"Glucose\": 133, \"BloodPressure\": 72, \"SkinThickness\": 0, \"Insulin\": 0, \"BMI\": 32.9, \"DiabetesPedigreeFunction\": 0.27, \"Age\": 39, \"Outcome\": 1}, {\"Pregnancies\": 7, \"Glucose\": 184, \"BloodPressure\": 84, \"SkinThickness\": 33, \"Insulin\": 0, \"BMI\": 35.5, \"DiabetesPedigreeFunction\": 0.355, \"Age\": 41, \"Outcome\": 1}, {\"Pregnancies\": 14, \"Glucose\": 175, \"BloodPressure\": 62, \"SkinThickness\": 30, \"Insulin\": 0, \"BMI\": 33.6, \"DiabetesPedigreeFunction\": 0.212, \"Age\": 38, \"Outcome\": 1}, {\"Pregnancies\": 1, \"Glucose\": 79, \"BloodPressure\": 75, \"SkinThickness\": 30, \"Insulin\": 0, \"BMI\": 32.0, \"DiabetesPedigreeFunction\": 0.396, \"Age\": 22, \"Outcome\": 0}, {\"Pregnancies\": 2, \"Glucose\": 157, \"BloodPressure\": 74, \"SkinThickness\": 35, \"Insulin\": 440, \"BMI\": 39.4, \"DiabetesPedigreeFunction\": 0.134, \"Age\": 30, \"Outcome\": 0}, {\"Pregnancies\": 6, \"Glucose\": 105, \"BloodPressure\": 80, \"SkinThickness\": 28, \"Insulin\": 0, \"BMI\": 32.5, \"DiabetesPedigreeFunction\": 0.878, \"Age\": 26, \"Outcome\": 0}, {\"Pregnancies\": 1, \"Glucose\": 102, \"BloodPressure\": 74, \"SkinThickness\": 0, \"Insulin\": 0, \"BMI\": 39.5, \"DiabetesPedigreeFunction\": 0.293, \"Age\": 42, \"Outcome\": 1}, {\"Pregnancies\": 4, \"Glucose\": 146, \"BloodPressure\": 92, \"SkinThickness\": 0, \"Insulin\": 0, \"BMI\": 31.2, \"DiabetesPedigreeFunction\": 0.539, \"Age\": 61, \"Outcome\": 1}, {\"Pregnancies\": 3, \"Glucose\": 193, \"BloodPressure\": 70, \"SkinThickness\": 31, \"Insulin\": 0, \"BMI\": 34.9, \"DiabetesPedigreeFunction\": 0.241, \"Age\": 25, \"Outcome\": 1}, {\"Pregnancies\": 4, \"Glucose\": 137, \"BloodPressure\": 84, \"SkinThickness\": 0, \"Insulin\": 0, \"BMI\": 31.2, \"DiabetesPedigreeFunction\": 0.252, \"Age\": 30, \"Outcome\": 0}, {\"Pregnancies\": 2, \"Glucose\": 112, \"BloodPressure\": 66, \"SkinThickness\": 22, \"Insulin\": 0, \"BMI\": 25.0, \"DiabetesPedigreeFunction\": 0.307, \"Age\": 24, \"Outcome\": 0}, {\"Pregnancies\": 0, \"Glucose\": 125, \"BloodPressure\": 68, \"SkinThickness\": 0, \"Insulin\": 0, \"BMI\": 24.7, \"DiabetesPedigreeFunction\": 0.206, \"Age\": 21, \"Outcome\": 0}, {\"Pregnancies\": 10, \"Glucose\": 94, \"BloodPressure\": 72, \"SkinThickness\": 18, \"Insulin\": 0, \"BMI\": 23.1, \"DiabetesPedigreeFunction\": 0.595, \"Age\": 56, \"Outcome\": 0}, {\"Pregnancies\": 0, \"Glucose\": 107, \"BloodPressure\": 62, \"SkinThickness\": 30, \"Insulin\": 74, \"BMI\": 36.6, \"DiabetesPedigreeFunction\": 0.757, \"Age\": 25, \"Outcome\": 1}, {\"Pregnancies\": 1, \"Glucose\": 124, \"BloodPressure\": 74, \"SkinThickness\": 36, \"Insulin\": 0, \"BMI\": 27.8, \"DiabetesPedigreeFunction\": 0.1, \"Age\": 30, \"Outcome\": 0}, {\"Pregnancies\": 1, \"Glucose\": 90, \"BloodPressure\": 68, \"SkinThickness\": 8, \"Insulin\": 0, \"BMI\": 24.5, \"DiabetesPedigreeFunction\": 1.138, \"Age\": 36, \"Outcome\": 0}, {\"Pregnancies\": 2, \"Glucose\": 117, \"BloodPressure\": 90, \"SkinThickness\": 19, \"Insulin\": 71, \"BMI\": 25.2, \"DiabetesPedigreeFunction\": 0.313, \"Age\": 21, \"Outcome\": 0}, {\"Pregnancies\": 6, \"Glucose\": 103, \"BloodPressure\": 66, \"SkinThickness\": 0, \"Insulin\": 0, \"BMI\": 24.3, \"DiabetesPedigreeFunction\": 0.249, \"Age\": 29, \"Outcome\": 0}, {\"Pregnancies\": 0, \"Glucose\": 137, \"BloodPressure\": 70, \"SkinThickness\": 38, \"Insulin\": 0, \"BMI\": 33.2, \"DiabetesPedigreeFunction\": 0.17, \"Age\": 22, \"Outcome\": 0}, {\"Pregnancies\": 4, \"Glucose\": 154, \"BloodPressure\": 72, \"SkinThickness\": 29, \"Insulin\": 126, \"BMI\": 31.3, \"DiabetesPedigreeFunction\": 0.338, \"Age\": 37, \"Outcome\": 0}, {\"Pregnancies\": 0, \"Glucose\": 108, \"BloodPressure\": 68, \"SkinThickness\": 20, \"Insulin\": 0, \"BMI\": 27.3, \"DiabetesPedigreeFunction\": 0.787, \"Age\": 32, \"Outcome\": 0}, {\"Pregnancies\": 1, \"Glucose\": 133, \"BloodPressure\": 102, \"SkinThickness\": 28, \"Insulin\": 140, \"BMI\": 32.8, \"DiabetesPedigreeFunction\": 0.234, \"Age\": 45, \"Outcome\": 1}, {\"Pregnancies\": 0, \"Glucose\": 94, \"BloodPressure\": 70, \"SkinThickness\": 27, \"Insulin\": 115, \"BMI\": 43.5, \"DiabetesPedigreeFunction\": 0.347, \"Age\": 21, \"Outcome\": 0}, {\"Pregnancies\": 13, \"Glucose\": 106, \"BloodPressure\": 72, \"SkinThickness\": 54, \"Insulin\": 0, \"BMI\": 36.6, \"DiabetesPedigreeFunction\": 0.178, \"Age\": 45, \"Outcome\": 0}, {\"Pregnancies\": 13, \"Glucose\": 126, \"BloodPressure\": 90, \"SkinThickness\": 0, \"Insulin\": 0, \"BMI\": 43.4, \"DiabetesPedigreeFunction\": 0.583, \"Age\": 42, \"Outcome\": 1}, {\"Pregnancies\": 0, \"Glucose\": 84, \"BloodPressure\": 82, \"SkinThickness\": 31, \"Insulin\": 125, \"BMI\": 38.2, \"DiabetesPedigreeFunction\": 0.233, \"Age\": 23, \"Outcome\": 0}, {\"Pregnancies\": 2, \"Glucose\": 109, \"BloodPressure\": 92, \"SkinThickness\": 0, \"Insulin\": 0, \"BMI\": 42.7, \"DiabetesPedigreeFunction\": 0.845, \"Age\": 54, \"Outcome\": 0}, {\"Pregnancies\": 5, \"Glucose\": 168, \"BloodPressure\": 64, \"SkinThickness\": 0, \"Insulin\": 0, \"BMI\": 32.9, \"DiabetesPedigreeFunction\": 0.135, \"Age\": 41, \"Outcome\": 1}, {\"Pregnancies\": 0, \"Glucose\": 162, \"BloodPressure\": 76, \"SkinThickness\": 36, \"Insulin\": 0, \"BMI\": 49.6, \"DiabetesPedigreeFunction\": 0.364, \"Age\": 26, \"Outcome\": 1}, {\"Pregnancies\": 6, \"Glucose\": 125, \"BloodPressure\": 78, \"SkinThickness\": 31, \"Insulin\": 0, \"BMI\": 27.6, \"DiabetesPedigreeFunction\": 0.565, \"Age\": 49, \"Outcome\": 1}, {\"Pregnancies\": 9, \"Glucose\": 130, \"BloodPressure\": 70, \"SkinThickness\": 0, \"Insulin\": 0, \"BMI\": 34.2, \"DiabetesPedigreeFunction\": 0.652, \"Age\": 45, \"Outcome\": 1}, {\"Pregnancies\": 2, \"Glucose\": 92, \"BloodPressure\": 52, \"SkinThickness\": 0, \"Insulin\": 0, \"BMI\": 30.1, \"DiabetesPedigreeFunction\": 0.141, \"Age\": 22, \"Outcome\": 0}, {\"Pregnancies\": 0, \"Glucose\": 101, \"BloodPressure\": 62, \"SkinThickness\": 0, \"Insulin\": 0, \"BMI\": 21.9, \"DiabetesPedigreeFunction\": 0.336, \"Age\": 25, \"Outcome\": 0}, {\"Pregnancies\": 12, \"Glucose\": 121, \"BloodPressure\": 78, \"SkinThickness\": 17, \"Insulin\": 0, \"BMI\": 26.5, \"DiabetesPedigreeFunction\": 0.259, \"Age\": 62, \"Outcome\": 0}, {\"Pregnancies\": 5, \"Glucose\": 96, \"BloodPressure\": 74, \"SkinThickness\": 18, \"Insulin\": 67, \"BMI\": 33.6, \"DiabetesPedigreeFunction\": 0.997, \"Age\": 43, \"Outcome\": 0}, {\"Pregnancies\": 1, \"Glucose\": 122, \"BloodPressure\": 90, \"SkinThickness\": 51, \"Insulin\": 220, \"BMI\": 49.7, \"DiabetesPedigreeFunction\": 0.325, \"Age\": 31, \"Outcome\": 1}, {\"Pregnancies\": 2, \"Glucose\": 124, \"BloodPressure\": 68, \"SkinThickness\": 28, \"Insulin\": 205, \"BMI\": 32.9, \"DiabetesPedigreeFunction\": 0.875, \"Age\": 30, \"Outcome\": 1}, {\"Pregnancies\": 1, \"Glucose\": 79, \"BloodPressure\": 80, \"SkinThickness\": 25, \"Insulin\": 37, \"BMI\": 25.4, \"DiabetesPedigreeFunction\": 0.583, \"Age\": 22, \"Outcome\": 0}, {\"Pregnancies\": 6, \"Glucose\": 92, \"BloodPressure\": 92, \"SkinThickness\": 0, \"Insulin\": 0, \"BMI\": 19.9, \"DiabetesPedigreeFunction\": 0.188, \"Age\": 28, \"Outcome\": 0}, {\"Pregnancies\": 0, \"Glucose\": 106, \"BloodPressure\": 70, \"SkinThickness\": 37, \"Insulin\": 148, \"BMI\": 39.4, \"DiabetesPedigreeFunction\": 0.605, \"Age\": 22, \"Outcome\": 0}, {\"Pregnancies\": 1, \"Glucose\": 143, \"BloodPressure\": 84, \"SkinThickness\": 23, \"Insulin\": 310, \"BMI\": 42.4, \"DiabetesPedigreeFunction\": 1.076, \"Age\": 22, \"Outcome\": 0}, {\"Pregnancies\": 1, \"Glucose\": 82, \"BloodPressure\": 64, \"SkinThickness\": 13, \"Insulin\": 95, \"BMI\": 21.2, \"DiabetesPedigreeFunction\": 0.415, \"Age\": 23, \"Outcome\": 0}, {\"Pregnancies\": 11, \"Glucose\": 120, \"BloodPressure\": 80, \"SkinThickness\": 37, \"Insulin\": 150, \"BMI\": 42.3, \"DiabetesPedigreeFunction\": 0.785, \"Age\": 48, \"Outcome\": 1}, {\"Pregnancies\": 9, \"Glucose\": 91, \"BloodPressure\": 68, \"SkinThickness\": 0, \"Insulin\": 0, \"BMI\": 24.2, \"DiabetesPedigreeFunction\": 0.2, \"Age\": 58, \"Outcome\": 0}, {\"Pregnancies\": 8, \"Glucose\": 181, \"BloodPressure\": 68, \"SkinThickness\": 36, \"Insulin\": 495, \"BMI\": 30.1, \"DiabetesPedigreeFunction\": 0.615, \"Age\": 60, \"Outcome\": 1}, {\"Pregnancies\": 6, \"Glucose\": 93, \"BloodPressure\": 50, \"SkinThickness\": 30, \"Insulin\": 64, \"BMI\": 28.7, \"DiabetesPedigreeFunction\": 0.356, \"Age\": 23, \"Outcome\": 0}, {\"Pregnancies\": 9, \"Glucose\": 106, \"BloodPressure\": 52, \"SkinThickness\": 0, \"Insulin\": 0, \"BMI\": 31.2, \"DiabetesPedigreeFunction\": 0.38, \"Age\": 42, \"Outcome\": 0}, {\"Pregnancies\": 1, \"Glucose\": 146, \"BloodPressure\": 56, \"SkinThickness\": 0, \"Insulin\": 0, \"BMI\": 29.7, \"DiabetesPedigreeFunction\": 0.564, \"Age\": 29, \"Outcome\": 0}, {\"Pregnancies\": 7, \"Glucose\": 136, \"BloodPressure\": 90, \"SkinThickness\": 0, \"Insulin\": 0, \"BMI\": 29.9, \"DiabetesPedigreeFunction\": 0.21, \"Age\": 50, \"Outcome\": 0}, {\"Pregnancies\": 4, \"Glucose\": 76, \"BloodPressure\": 62, \"SkinThickness\": 0, \"Insulin\": 0, \"BMI\": 34.0, \"DiabetesPedigreeFunction\": 0.391, \"Age\": 25, \"Outcome\": 0}, {\"Pregnancies\": 1, \"Glucose\": 164, \"BloodPressure\": 82, \"SkinThickness\": 43, \"Insulin\": 67, \"BMI\": 32.8, \"DiabetesPedigreeFunction\": 0.341, \"Age\": 50, \"Outcome\": 0}, {\"Pregnancies\": 0, \"Glucose\": 189, \"BloodPressure\": 104, \"SkinThickness\": 25, \"Insulin\": 0, \"BMI\": 34.3, \"DiabetesPedigreeFunction\": 0.435, \"Age\": 41, \"Outcome\": 1}, {\"Pregnancies\": 1, \"Glucose\": 113, \"BloodPressure\": 64, \"SkinThickness\": 35, \"Insulin\": 0, \"BMI\": 33.6, \"DiabetesPedigreeFunction\": 0.543, \"Age\": 21, \"Outcome\": 1}, {\"Pregnancies\": 1, \"Glucose\": 101, \"BloodPressure\": 50, \"SkinThickness\": 15, \"Insulin\": 36, \"BMI\": 24.2, \"DiabetesPedigreeFunction\": 0.526, \"Age\": 26, \"Outcome\": 0}, {\"Pregnancies\": 1, \"Glucose\": 181, \"BloodPressure\": 78, \"SkinThickness\": 42, \"Insulin\": 293, \"BMI\": 40.0, \"DiabetesPedigreeFunction\": 1.258, \"Age\": 22, \"Outcome\": 1}, {\"Pregnancies\": 0, \"Glucose\": 107, \"BloodPressure\": 60, \"SkinThickness\": 25, \"Insulin\": 0, \"BMI\": 26.4, \"DiabetesPedigreeFunction\": 0.133, \"Age\": 23, \"Outcome\": 0}, {\"Pregnancies\": 1, \"Glucose\": 80, \"BloodPressure\": 55, \"SkinThickness\": 0, \"Insulin\": 0, \"BMI\": 19.1, \"DiabetesPedigreeFunction\": 0.258, \"Age\": 21, \"Outcome\": 0}, {\"Pregnancies\": 7, \"Glucose\": 109, \"BloodPressure\": 80, \"SkinThickness\": 31, \"Insulin\": 0, \"BMI\": 35.9, \"DiabetesPedigreeFunction\": 1.127, \"Age\": 43, \"Outcome\": 1}, {\"Pregnancies\": 4, \"Glucose\": 146, \"BloodPressure\": 85, \"SkinThickness\": 27, \"Insulin\": 100, \"BMI\": 28.9, \"DiabetesPedigreeFunction\": 0.189, \"Age\": 27, \"Outcome\": 0}, {\"Pregnancies\": 13, \"Glucose\": 104, \"BloodPressure\": 72, \"SkinThickness\": 0, \"Insulin\": 0, \"BMI\": 31.2, \"DiabetesPedigreeFunction\": 0.465, \"Age\": 38, \"Outcome\": 1}, {\"Pregnancies\": 2, \"Glucose\": 130, \"BloodPressure\": 96, \"SkinThickness\": 0, \"Insulin\": 0, \"BMI\": 22.6, \"DiabetesPedigreeFunction\": 0.268, \"Age\": 21, \"Outcome\": 0}, {\"Pregnancies\": 0, \"Glucose\": 129, \"BloodPressure\": 80, \"SkinThickness\": 0, \"Insulin\": 0, \"BMI\": 31.2, \"DiabetesPedigreeFunction\": 0.703, \"Age\": 29, \"Outcome\": 0}, {\"Pregnancies\": 4, \"Glucose\": 123, \"BloodPressure\": 80, \"SkinThickness\": 15, \"Insulin\": 176, \"BMI\": 32.0, \"DiabetesPedigreeFunction\": 0.443, \"Age\": 34, \"Outcome\": 0}, {\"Pregnancies\": 2, \"Glucose\": 90, \"BloodPressure\": 80, \"SkinThickness\": 14, \"Insulin\": 55, \"BMI\": 24.4, \"DiabetesPedigreeFunction\": 0.249, \"Age\": 24, \"Outcome\": 0}, {\"Pregnancies\": 10, \"Glucose\": 115, \"BloodPressure\": 98, \"SkinThickness\": 0, \"Insulin\": 0, \"BMI\": 24.0, \"DiabetesPedigreeFunction\": 1.022, \"Age\": 34, \"Outcome\": 0}, {\"Pregnancies\": 8, \"Glucose\": 188, \"BloodPressure\": 78, \"SkinThickness\": 0, \"Insulin\": 0, \"BMI\": 47.9, \"DiabetesPedigreeFunction\": 0.137, \"Age\": 43, \"Outcome\": 1}, {\"Pregnancies\": 4, \"Glucose\": 154, \"BloodPressure\": 62, \"SkinThickness\": 31, \"Insulin\": 284, \"BMI\": 32.8, \"DiabetesPedigreeFunction\": 0.237, \"Age\": 23, \"Outcome\": 0}, {\"Pregnancies\": 1, \"Glucose\": 89, \"BloodPressure\": 66, \"SkinThickness\": 23, \"Insulin\": 94, \"BMI\": 28.1, \"DiabetesPedigreeFunction\": 0.167, \"Age\": 21, \"Outcome\": 0}, {\"Pregnancies\": 10, \"Glucose\": 179, \"BloodPressure\": 70, \"SkinThickness\": 0, \"Insulin\": 0, \"BMI\": 35.1, \"DiabetesPedigreeFunction\": 0.2, \"Age\": 37, \"Outcome\": 0}, {\"Pregnancies\": 12, \"Glucose\": 140, \"BloodPressure\": 85, \"SkinThickness\": 33, \"Insulin\": 0, \"BMI\": 37.4, \"DiabetesPedigreeFunction\": 0.244, \"Age\": 41, \"Outcome\": 0}, {\"Pregnancies\": 0, \"Glucose\": 126, \"BloodPressure\": 86, \"SkinThickness\": 27, \"Insulin\": 120, \"BMI\": 27.4, \"DiabetesPedigreeFunction\": 0.515, \"Age\": 21, \"Outcome\": 0}, {\"Pregnancies\": 9, \"Glucose\": 134, \"BloodPressure\": 74, \"SkinThickness\": 33, \"Insulin\": 60, \"BMI\": 25.9, \"DiabetesPedigreeFunction\": 0.46, \"Age\": 81, \"Outcome\": 0}, {\"Pregnancies\": 9, \"Glucose\": 145, \"BloodPressure\": 80, \"SkinThickness\": 46, \"Insulin\": 130, \"BMI\": 37.9, \"DiabetesPedigreeFunction\": 0.637, \"Age\": 40, \"Outcome\": 1}, {\"Pregnancies\": 2, \"Glucose\": 92, \"BloodPressure\": 76, \"SkinThickness\": 20, \"Insulin\": 0, \"BMI\": 24.2, \"DiabetesPedigreeFunction\": 1.698, \"Age\": 28, \"Outcome\": 0}, {\"Pregnancies\": 5, \"Glucose\": 123, \"BloodPressure\": 74, \"SkinThickness\": 40, \"Insulin\": 77, \"BMI\": 34.1, \"DiabetesPedigreeFunction\": 0.269, \"Age\": 28, \"Outcome\": 0}, {\"Pregnancies\": 5, \"Glucose\": 147, \"BloodPressure\": 75, \"SkinThickness\": 0, \"Insulin\": 0, \"BMI\": 29.9, \"DiabetesPedigreeFunction\": 0.434, \"Age\": 28, \"Outcome\": 0}, {\"Pregnancies\": 0, \"Glucose\": 102, \"BloodPressure\": 86, \"SkinThickness\": 17, \"Insulin\": 105, \"BMI\": 29.3, \"DiabetesPedigreeFunction\": 0.695, \"Age\": 27, \"Outcome\": 0}, {\"Pregnancies\": 3, \"Glucose\": 116, \"BloodPressure\": 74, \"SkinThickness\": 15, \"Insulin\": 105, \"BMI\": 26.3, \"DiabetesPedigreeFunction\": 0.107, \"Age\": 24, \"Outcome\": 0}, {\"Pregnancies\": 1, \"Glucose\": 95, \"BloodPressure\": 66, \"SkinThickness\": 13, \"Insulin\": 38, \"BMI\": 19.6, \"DiabetesPedigreeFunction\": 0.334, \"Age\": 25, \"Outcome\": 0}, {\"Pregnancies\": 1, \"Glucose\": 105, \"BloodPressure\": 58, \"SkinThickness\": 0, \"Insulin\": 0, \"BMI\": 24.3, \"DiabetesPedigreeFunction\": 0.187, \"Age\": 21, \"Outcome\": 0}, {\"Pregnancies\": 5, \"Glucose\": 130, \"BloodPressure\": 82, \"SkinThickness\": 0, \"Insulin\": 0, \"BMI\": 39.1, \"DiabetesPedigreeFunction\": 0.956, \"Age\": 37, \"Outcome\": 1}, {\"Pregnancies\": 1, \"Glucose\": 100, \"BloodPressure\": 66, \"SkinThickness\": 29, \"Insulin\": 196, \"BMI\": 32.0, \"DiabetesPedigreeFunction\": 0.444, \"Age\": 42, \"Outcome\": 0}, {\"Pregnancies\": 1, \"Glucose\": 87, \"BloodPressure\": 78, \"SkinThickness\": 27, \"Insulin\": 32, \"BMI\": 34.6, \"DiabetesPedigreeFunction\": 0.101, \"Age\": 22, \"Outcome\": 0}, {\"Pregnancies\": 9, \"Glucose\": 164, \"BloodPressure\": 78, \"SkinThickness\": 0, \"Insulin\": 0, \"BMI\": 32.8, \"DiabetesPedigreeFunction\": 0.148, \"Age\": 45, \"Outcome\": 1}, {\"Pregnancies\": 5, \"Glucose\": 124, \"BloodPressure\": 74, \"SkinThickness\": 0, \"Insulin\": 0, \"BMI\": 34.0, \"DiabetesPedigreeFunction\": 0.22, \"Age\": 38, \"Outcome\": 1}, {\"Pregnancies\": 1, \"Glucose\": 130, \"BloodPressure\": 70, \"SkinThickness\": 13, \"Insulin\": 105, \"BMI\": 25.9, \"DiabetesPedigreeFunction\": 0.472, \"Age\": 22, \"Outcome\": 0}, {\"Pregnancies\": 13, \"Glucose\": 158, \"BloodPressure\": 114, \"SkinThickness\": 0, \"Insulin\": 0, \"BMI\": 42.3, \"DiabetesPedigreeFunction\": 0.257, \"Age\": 44, \"Outcome\": 1}, {\"Pregnancies\": 8, \"Glucose\": 120, \"BloodPressure\": 78, \"SkinThickness\": 0, \"Insulin\": 0, \"BMI\": 25.0, \"DiabetesPedigreeFunction\": 0.409, \"Age\": 64, \"Outcome\": 0}, {\"Pregnancies\": 1, \"Glucose\": 111, \"BloodPressure\": 86, \"SkinThickness\": 19, \"Insulin\": 0, \"BMI\": 30.1, \"DiabetesPedigreeFunction\": 0.143, \"Age\": 23, \"Outcome\": 0}, {\"Pregnancies\": 0, \"Glucose\": 97, \"BloodPressure\": 64, \"SkinThickness\": 36, \"Insulin\": 100, \"BMI\": 36.8, \"DiabetesPedigreeFunction\": 0.6, \"Age\": 25, \"Outcome\": 0}, {\"Pregnancies\": 3, \"Glucose\": 83, \"BloodPressure\": 58, \"SkinThickness\": 31, \"Insulin\": 18, \"BMI\": 34.3, \"DiabetesPedigreeFunction\": 0.336, \"Age\": 25, \"Outcome\": 0}, {\"Pregnancies\": 5, \"Glucose\": 117, \"BloodPressure\": 92, \"SkinThickness\": 0, \"Insulin\": 0, \"BMI\": 34.1, \"DiabetesPedigreeFunction\": 0.337, \"Age\": 38, \"Outcome\": 0}, {\"Pregnancies\": 1, \"Glucose\": 193, \"BloodPressure\": 50, \"SkinThickness\": 16, \"Insulin\": 375, \"BMI\": 25.9, \"DiabetesPedigreeFunction\": 0.655, \"Age\": 24, \"Outcome\": 0}, {\"Pregnancies\": 6, \"Glucose\": 105, \"BloodPressure\": 70, \"SkinThickness\": 32, \"Insulin\": 68, \"BMI\": 30.8, \"DiabetesPedigreeFunction\": 0.122, \"Age\": 37, \"Outcome\": 0}, {\"Pregnancies\": 7, \"Glucose\": 107, \"BloodPressure\": 74, \"SkinThickness\": 0, \"Insulin\": 0, \"BMI\": 29.6, \"DiabetesPedigreeFunction\": 0.254, \"Age\": 31, \"Outcome\": 1}, {\"Pregnancies\": 0, \"Glucose\": 117, \"BloodPressure\": 66, \"SkinThickness\": 31, \"Insulin\": 188, \"BMI\": 30.8, \"DiabetesPedigreeFunction\": 0.493, \"Age\": 22, \"Outcome\": 0}, {\"Pregnancies\": 6, \"Glucose\": 111, \"BloodPressure\": 64, \"SkinThickness\": 39, \"Insulin\": 0, \"BMI\": 34.2, \"DiabetesPedigreeFunction\": 0.26, \"Age\": 24, \"Outcome\": 0}, {\"Pregnancies\": 6, \"Glucose\": 98, \"BloodPressure\": 58, \"SkinThickness\": 33, \"Insulin\": 190, \"BMI\": 34.0, \"DiabetesPedigreeFunction\": 0.43, \"Age\": 43, \"Outcome\": 0}, {\"Pregnancies\": 3, \"Glucose\": 163, \"BloodPressure\": 70, \"SkinThickness\": 18, \"Insulin\": 105, \"BMI\": 31.6, \"DiabetesPedigreeFunction\": 0.268, \"Age\": 28, \"Outcome\": 1}, {\"Pregnancies\": 5, \"Glucose\": 158, \"BloodPressure\": 84, \"SkinThickness\": 41, \"Insulin\": 210, \"BMI\": 39.4, \"DiabetesPedigreeFunction\": 0.395, \"Age\": 29, \"Outcome\": 1}, {\"Pregnancies\": 0, \"Glucose\": 180, \"BloodPressure\": 90, \"SkinThickness\": 26, \"Insulin\": 90, \"BMI\": 36.5, \"DiabetesPedigreeFunction\": 0.314, \"Age\": 35, \"Outcome\": 1}, {\"Pregnancies\": 3, \"Glucose\": 78, \"BloodPressure\": 70, \"SkinThickness\": 0, \"Insulin\": 0, \"BMI\": 32.5, \"DiabetesPedigreeFunction\": 0.27, \"Age\": 39, \"Outcome\": 0}, {\"Pregnancies\": 7, \"Glucose\": 152, \"BloodPressure\": 88, \"SkinThickness\": 44, \"Insulin\": 0, \"BMI\": 50.0, \"DiabetesPedigreeFunction\": 0.337, \"Age\": 36, \"Outcome\": 1}, {\"Pregnancies\": 4, \"Glucose\": 171, \"BloodPressure\": 72, \"SkinThickness\": 0, \"Insulin\": 0, \"BMI\": 43.6, \"DiabetesPedigreeFunction\": 0.479, \"Age\": 26, \"Outcome\": 1}, {\"Pregnancies\": 1, \"Glucose\": 85, \"BloodPressure\": 66, \"SkinThickness\": 29, \"Insulin\": 0, \"BMI\": 26.6, \"DiabetesPedigreeFunction\": 0.351, \"Age\": 31, \"Outcome\": 0}, {\"Pregnancies\": 4, \"Glucose\": 95, \"BloodPressure\": 70, \"SkinThickness\": 32, \"Insulin\": 0, \"BMI\": 32.1, \"DiabetesPedigreeFunction\": 0.612, \"Age\": 24, \"Outcome\": 0}, {\"Pregnancies\": 10, \"Glucose\": 75, \"BloodPressure\": 82, \"SkinThickness\": 0, \"Insulin\": 0, \"BMI\": 33.3, \"DiabetesPedigreeFunction\": 0.263, \"Age\": 38, \"Outcome\": 0}, {\"Pregnancies\": 0, \"Glucose\": 140, \"BloodPressure\": 65, \"SkinThickness\": 26, \"Insulin\": 130, \"BMI\": 42.6, \"DiabetesPedigreeFunction\": 0.431, \"Age\": 24, \"Outcome\": 1}, {\"Pregnancies\": 1, \"Glucose\": 115, \"BloodPressure\": 70, \"SkinThickness\": 30, \"Insulin\": 96, \"BMI\": 34.6, \"DiabetesPedigreeFunction\": 0.529, \"Age\": 32, \"Outcome\": 1}, {\"Pregnancies\": 1, \"Glucose\": 91, \"BloodPressure\": 64, \"SkinThickness\": 24, \"Insulin\": 0, \"BMI\": 29.2, \"DiabetesPedigreeFunction\": 0.192, \"Age\": 21, \"Outcome\": 0}, {\"Pregnancies\": 3, \"Glucose\": 125, \"BloodPressure\": 58, \"SkinThickness\": 0, \"Insulin\": 0, \"BMI\": 31.6, \"DiabetesPedigreeFunction\": 0.151, \"Age\": 24, \"Outcome\": 0}, {\"Pregnancies\": 0, \"Glucose\": 67, \"BloodPressure\": 76, \"SkinThickness\": 0, \"Insulin\": 0, \"BMI\": 45.3, \"DiabetesPedigreeFunction\": 0.194, \"Age\": 46, \"Outcome\": 0}, {\"Pregnancies\": 4, \"Glucose\": 92, \"BloodPressure\": 80, \"SkinThickness\": 0, \"Insulin\": 0, \"BMI\": 42.2, \"DiabetesPedigreeFunction\": 0.237, \"Age\": 29, \"Outcome\": 0}, {\"Pregnancies\": 1, \"Glucose\": 71, \"BloodPressure\": 48, \"SkinThickness\": 18, \"Insulin\": 76, \"BMI\": 20.4, \"DiabetesPedigreeFunction\": 0.323, \"Age\": 22, \"Outcome\": 0}, {\"Pregnancies\": 4, \"Glucose\": 144, \"BloodPressure\": 58, \"SkinThickness\": 28, \"Insulin\": 140, \"BMI\": 29.5, \"DiabetesPedigreeFunction\": 0.287, \"Age\": 37, \"Outcome\": 0}, {\"Pregnancies\": 0, \"Glucose\": 104, \"BloodPressure\": 64, \"SkinThickness\": 37, \"Insulin\": 64, \"BMI\": 33.6, \"DiabetesPedigreeFunction\": 0.51, \"Age\": 22, \"Outcome\": 1}, {\"Pregnancies\": 2, \"Glucose\": 56, \"BloodPressure\": 56, \"SkinThickness\": 28, \"Insulin\": 45, \"BMI\": 24.2, \"DiabetesPedigreeFunction\": 0.332, \"Age\": 22, \"Outcome\": 0}, {\"Pregnancies\": 3, \"Glucose\": 173, \"BloodPressure\": 78, \"SkinThickness\": 39, \"Insulin\": 185, \"BMI\": 33.8, \"DiabetesPedigreeFunction\": 0.97, \"Age\": 31, \"Outcome\": 1}, {\"Pregnancies\": 2, \"Glucose\": 106, \"BloodPressure\": 64, \"SkinThickness\": 35, \"Insulin\": 119, \"BMI\": 30.5, \"DiabetesPedigreeFunction\": 1.4, \"Age\": 34, \"Outcome\": 0}, {\"Pregnancies\": 0, \"Glucose\": 128, \"BloodPressure\": 68, \"SkinThickness\": 19, \"Insulin\": 180, \"BMI\": 30.5, \"DiabetesPedigreeFunction\": 1.391, \"Age\": 25, \"Outcome\": 1}, {\"Pregnancies\": 2, \"Glucose\": 122, \"BloodPressure\": 52, \"SkinThickness\": 43, \"Insulin\": 158, \"BMI\": 36.2, \"DiabetesPedigreeFunction\": 0.816, \"Age\": 28, \"Outcome\": 0}, {\"Pregnancies\": 0, \"Glucose\": 74, \"BloodPressure\": 52, \"SkinThickness\": 10, \"Insulin\": 36, \"BMI\": 27.8, \"DiabetesPedigreeFunction\": 0.269, \"Age\": 22, \"Outcome\": 0}, {\"Pregnancies\": 0, \"Glucose\": 177, \"BloodPressure\": 60, \"SkinThickness\": 29, \"Insulin\": 478, \"BMI\": 34.6, \"DiabetesPedigreeFunction\": 1.072, \"Age\": 21, \"Outcome\": 1}, {\"Pregnancies\": 6, \"Glucose\": 190, \"BloodPressure\": 92, \"SkinThickness\": 0, \"Insulin\": 0, \"BMI\": 35.5, \"DiabetesPedigreeFunction\": 0.278, \"Age\": 66, \"Outcome\": 1}, {\"Pregnancies\": 3, \"Glucose\": 111, \"BloodPressure\": 90, \"SkinThickness\": 12, \"Insulin\": 78, \"BMI\": 28.4, \"DiabetesPedigreeFunction\": 0.495, \"Age\": 29, \"Outcome\": 0}, {\"Pregnancies\": 3, \"Glucose\": 78, \"BloodPressure\": 50, \"SkinThickness\": 32, \"Insulin\": 88, \"BMI\": 31.0, \"DiabetesPedigreeFunction\": 0.248, \"Age\": 26, \"Outcome\": 1}, {\"Pregnancies\": 4, \"Glucose\": 91, \"BloodPressure\": 70, \"SkinThickness\": 32, \"Insulin\": 88, \"BMI\": 33.1, \"DiabetesPedigreeFunction\": 0.446, \"Age\": 22, \"Outcome\": 0}, {\"Pregnancies\": 4, \"Glucose\": 117, \"BloodPressure\": 64, \"SkinThickness\": 27, \"Insulin\": 120, \"BMI\": 33.2, \"DiabetesPedigreeFunction\": 0.23, \"Age\": 24, \"Outcome\": 0}, {\"Pregnancies\": 2, \"Glucose\": 120, \"BloodPressure\": 54, \"SkinThickness\": 0, \"Insulin\": 0, \"BMI\": 26.8, \"DiabetesPedigreeFunction\": 0.455, \"Age\": 27, \"Outcome\": 0}, {\"Pregnancies\": 2, \"Glucose\": 112, \"BloodPressure\": 78, \"SkinThickness\": 50, \"Insulin\": 140, \"BMI\": 39.4, \"DiabetesPedigreeFunction\": 0.175, \"Age\": 24, \"Outcome\": 0}, {\"Pregnancies\": 11, \"Glucose\": 138, \"BloodPressure\": 74, \"SkinThickness\": 26, \"Insulin\": 144, \"BMI\": 36.1, \"DiabetesPedigreeFunction\": 0.557, \"Age\": 50, \"Outcome\": 1}, {\"Pregnancies\": 1, \"Glucose\": 96, \"BloodPressure\": 122, \"SkinThickness\": 0, \"Insulin\": 0, \"BMI\": 22.4, \"DiabetesPedigreeFunction\": 0.207, \"Age\": 27, \"Outcome\": 0}, {\"Pregnancies\": 0, \"Glucose\": 131, \"BloodPressure\": 66, \"SkinThickness\": 40, \"Insulin\": 0, \"BMI\": 34.3, \"DiabetesPedigreeFunction\": 0.196, \"Age\": 22, \"Outcome\": 1}, {\"Pregnancies\": 5, \"Glucose\": 162, \"BloodPressure\": 104, \"SkinThickness\": 0, \"Insulin\": 0, \"BMI\": 37.7, \"DiabetesPedigreeFunction\": 0.151, \"Age\": 52, \"Outcome\": 1}, {\"Pregnancies\": 0, \"Glucose\": 101, \"BloodPressure\": 65, \"SkinThickness\": 28, \"Insulin\": 0, \"BMI\": 24.6, \"DiabetesPedigreeFunction\": 0.237, \"Age\": 22, \"Outcome\": 0}, {\"Pregnancies\": 5, \"Glucose\": 139, \"BloodPressure\": 80, \"SkinThickness\": 35, \"Insulin\": 160, \"BMI\": 31.6, \"DiabetesPedigreeFunction\": 0.361, \"Age\": 25, \"Outcome\": 1}, {\"Pregnancies\": 6, \"Glucose\": 117, \"BloodPressure\": 96, \"SkinThickness\": 0, \"Insulin\": 0, \"BMI\": 28.7, \"DiabetesPedigreeFunction\": 0.157, \"Age\": 30, \"Outcome\": 0}, {\"Pregnancies\": 3, \"Glucose\": 113, \"BloodPressure\": 44, \"SkinThickness\": 13, \"Insulin\": 0, \"BMI\": 22.4, \"DiabetesPedigreeFunction\": 0.14, \"Age\": 22, \"Outcome\": 0}, {\"Pregnancies\": 11, \"Glucose\": 143, \"BloodPressure\": 94, \"SkinThickness\": 33, \"Insulin\": 146, \"BMI\": 36.6, \"DiabetesPedigreeFunction\": 0.254, \"Age\": 51, \"Outcome\": 1}, {\"Pregnancies\": 1, \"Glucose\": 149, \"BloodPressure\": 68, \"SkinThickness\": 29, \"Insulin\": 127, \"BMI\": 29.3, \"DiabetesPedigreeFunction\": 0.349, \"Age\": 42, \"Outcome\": 1}, {\"Pregnancies\": 2, \"Glucose\": 100, \"BloodPressure\": 66, \"SkinThickness\": 20, \"Insulin\": 90, \"BMI\": 32.9, \"DiabetesPedigreeFunction\": 0.867, \"Age\": 28, \"Outcome\": 1}, {\"Pregnancies\": 2, \"Glucose\": 94, \"BloodPressure\": 76, \"SkinThickness\": 18, \"Insulin\": 66, \"BMI\": 31.6, \"DiabetesPedigreeFunction\": 0.649, \"Age\": 23, \"Outcome\": 0}, {\"Pregnancies\": 7, \"Glucose\": 195, \"BloodPressure\": 70, \"SkinThickness\": 33, \"Insulin\": 145, \"BMI\": 25.1, \"DiabetesPedigreeFunction\": 0.163, \"Age\": 55, \"Outcome\": 1}, {\"Pregnancies\": 4, \"Glucose\": 117, \"BloodPressure\": 62, \"SkinThickness\": 12, \"Insulin\": 0, \"BMI\": 29.7, \"DiabetesPedigreeFunction\": 0.38, \"Age\": 30, \"Outcome\": 1}, {\"Pregnancies\": 0, \"Glucose\": 180, \"BloodPressure\": 66, \"SkinThickness\": 39, \"Insulin\": 0, \"BMI\": 42.0, \"DiabetesPedigreeFunction\": 1.893, \"Age\": 25, \"Outcome\": 1}, {\"Pregnancies\": 2, \"Glucose\": 90, \"BloodPressure\": 68, \"SkinThickness\": 42, \"Insulin\": 0, \"BMI\": 38.2, \"DiabetesPedigreeFunction\": 0.503, \"Age\": 27, \"Outcome\": 1}, {\"Pregnancies\": 4, \"Glucose\": 95, \"BloodPressure\": 64, \"SkinThickness\": 0, \"Insulin\": 0, \"BMI\": 32.0, \"DiabetesPedigreeFunction\": 0.161, \"Age\": 31, \"Outcome\": 1}, {\"Pregnancies\": 4, \"Glucose\": 151, \"BloodPressure\": 90, \"SkinThickness\": 38, \"Insulin\": 0, \"BMI\": 29.7, \"DiabetesPedigreeFunction\": 0.294, \"Age\": 36, \"Outcome\": 0}, {\"Pregnancies\": 9, \"Glucose\": 112, \"BloodPressure\": 82, \"SkinThickness\": 24, \"Insulin\": 0, \"BMI\": 28.2, \"DiabetesPedigreeFunction\": 1.282, \"Age\": 50, \"Outcome\": 1}, {\"Pregnancies\": 2, \"Glucose\": 105, \"BloodPressure\": 58, \"SkinThickness\": 40, \"Insulin\": 94, \"BMI\": 34.9, \"DiabetesPedigreeFunction\": 0.225, \"Age\": 25, \"Outcome\": 0}, {\"Pregnancies\": 5, \"Glucose\": 116, \"BloodPressure\": 74, \"SkinThickness\": 29, \"Insulin\": 0, \"BMI\": 32.3, \"DiabetesPedigreeFunction\": 0.66, \"Age\": 35, \"Outcome\": 1}, {\"Pregnancies\": 9, \"Glucose\": 184, \"BloodPressure\": 85, \"SkinThickness\": 15, \"Insulin\": 0, \"BMI\": 30.0, \"DiabetesPedigreeFunction\": 1.213, \"Age\": 49, \"Outcome\": 1}, {\"Pregnancies\": 5, \"Glucose\": 88, \"BloodPressure\": 78, \"SkinThickness\": 30, \"Insulin\": 0, \"BMI\": 27.6, \"DiabetesPedigreeFunction\": 0.258, \"Age\": 37, \"Outcome\": 0}, {\"Pregnancies\": 7, \"Glucose\": 181, \"BloodPressure\": 84, \"SkinThickness\": 21, \"Insulin\": 192, \"BMI\": 35.9, \"DiabetesPedigreeFunction\": 0.586, \"Age\": 51, \"Outcome\": 1}, {\"Pregnancies\": 6, \"Glucose\": 129, \"BloodPressure\": 90, \"SkinThickness\": 7, \"Insulin\": 326, \"BMI\": 19.6, \"DiabetesPedigreeFunction\": 0.582, \"Age\": 60, \"Outcome\": 0}, {\"Pregnancies\": 2, \"Glucose\": 127, \"BloodPressure\": 58, \"SkinThickness\": 24, \"Insulin\": 275, \"BMI\": 27.7, \"DiabetesPedigreeFunction\": 1.6, \"Age\": 25, \"Outcome\": 0}, {\"Pregnancies\": 5, \"Glucose\": 117, \"BloodPressure\": 86, \"SkinThickness\": 30, \"Insulin\": 105, \"BMI\": 39.1, \"DiabetesPedigreeFunction\": 0.251, \"Age\": 42, \"Outcome\": 0}, {\"Pregnancies\": 2, \"Glucose\": 141, \"BloodPressure\": 58, \"SkinThickness\": 34, \"Insulin\": 128, \"BMI\": 25.4, \"DiabetesPedigreeFunction\": 0.699, \"Age\": 24, \"Outcome\": 0}, {\"Pregnancies\": 1, \"Glucose\": 125, \"BloodPressure\": 70, \"SkinThickness\": 24, \"Insulin\": 110, \"BMI\": 24.3, \"DiabetesPedigreeFunction\": 0.221, \"Age\": 25, \"Outcome\": 0}, {\"Pregnancies\": 5, \"Glucose\": 187, \"BloodPressure\": 76, \"SkinThickness\": 27, \"Insulin\": 207, \"BMI\": 43.6, \"DiabetesPedigreeFunction\": 1.034, \"Age\": 53, \"Outcome\": 1}, {\"Pregnancies\": 5, \"Glucose\": 109, \"BloodPressure\": 75, \"SkinThickness\": 26, \"Insulin\": 0, \"BMI\": 36.0, \"DiabetesPedigreeFunction\": 0.546, \"Age\": 60, \"Outcome\": 0}, {\"Pregnancies\": 2, \"Glucose\": 114, \"BloodPressure\": 68, \"SkinThickness\": 22, \"Insulin\": 0, \"BMI\": 28.7, \"DiabetesPedigreeFunction\": 0.092, \"Age\": 25, \"Outcome\": 0}, {\"Pregnancies\": 2, \"Glucose\": 108, \"BloodPressure\": 62, \"SkinThickness\": 10, \"Insulin\": 278, \"BMI\": 25.3, \"DiabetesPedigreeFunction\": 0.881, \"Age\": 22, \"Outcome\": 0}, {\"Pregnancies\": 2, \"Glucose\": 155, \"BloodPressure\": 74, \"SkinThickness\": 17, \"Insulin\": 96, \"BMI\": 26.6, \"DiabetesPedigreeFunction\": 0.433, \"Age\": 27, \"Outcome\": 1}, {\"Pregnancies\": 2, \"Glucose\": 122, \"BloodPressure\": 60, \"SkinThickness\": 18, \"Insulin\": 106, \"BMI\": 29.8, \"DiabetesPedigreeFunction\": 0.717, \"Age\": 22, \"Outcome\": 0}, {\"Pregnancies\": 5, \"Glucose\": 136, \"BloodPressure\": 82, \"SkinThickness\": 0, \"Insulin\": 0, \"BMI\": 0.0, \"DiabetesPedigreeFunction\": 0.64, \"Age\": 69, \"Outcome\": 0}, {\"Pregnancies\": 7, \"Glucose\": 83, \"BloodPressure\": 78, \"SkinThickness\": 26, \"Insulin\": 71, \"BMI\": 29.3, \"DiabetesPedigreeFunction\": 0.767, \"Age\": 36, \"Outcome\": 0}, {\"Pregnancies\": 0, \"Glucose\": 100, \"BloodPressure\": 88, \"SkinThickness\": 60, \"Insulin\": 110, \"BMI\": 46.8, \"DiabetesPedigreeFunction\": 0.962, \"Age\": 31, \"Outcome\": 0}, {\"Pregnancies\": 3, \"Glucose\": 132, \"BloodPressure\": 80, \"SkinThickness\": 0, \"Insulin\": 0, \"BMI\": 34.4, \"DiabetesPedigreeFunction\": 0.402, \"Age\": 44, \"Outcome\": 1}, {\"Pregnancies\": 13, \"Glucose\": 152, \"BloodPressure\": 90, \"SkinThickness\": 33, \"Insulin\": 29, \"BMI\": 26.8, \"DiabetesPedigreeFunction\": 0.731, \"Age\": 43, \"Outcome\": 1}, {\"Pregnancies\": 7, \"Glucose\": 106, \"BloodPressure\": 60, \"SkinThickness\": 24, \"Insulin\": 0, \"BMI\": 26.5, \"DiabetesPedigreeFunction\": 0.296, \"Age\": 29, \"Outcome\": 1}, {\"Pregnancies\": 2, \"Glucose\": 142, \"BloodPressure\": 82, \"SkinThickness\": 18, \"Insulin\": 64, \"BMI\": 24.7, \"DiabetesPedigreeFunction\": 0.761, \"Age\": 21, \"Outcome\": 0}, {\"Pregnancies\": 1, \"Glucose\": 111, \"BloodPressure\": 94, \"SkinThickness\": 0, \"Insulin\": 0, \"BMI\": 32.8, \"DiabetesPedigreeFunction\": 0.265, \"Age\": 45, \"Outcome\": 0}, {\"Pregnancies\": 12, \"Glucose\": 151, \"BloodPressure\": 70, \"SkinThickness\": 40, \"Insulin\": 271, \"BMI\": 41.8, \"DiabetesPedigreeFunction\": 0.742, \"Age\": 38, \"Outcome\": 1}, {\"Pregnancies\": 7, \"Glucose\": 160, \"BloodPressure\": 54, \"SkinThickness\": 32, \"Insulin\": 175, \"BMI\": 30.5, \"DiabetesPedigreeFunction\": 0.588, \"Age\": 39, \"Outcome\": 1}, {\"Pregnancies\": 4, \"Glucose\": 156, \"BloodPressure\": 75, \"SkinThickness\": 0, \"Insulin\": 0, \"BMI\": 48.3, \"DiabetesPedigreeFunction\": 0.238, \"Age\": 32, \"Outcome\": 1}, {\"Pregnancies\": 5, \"Glucose\": 77, \"BloodPressure\": 82, \"SkinThickness\": 41, \"Insulin\": 42, \"BMI\": 35.8, \"DiabetesPedigreeFunction\": 0.156, \"Age\": 35, \"Outcome\": 0}, {\"Pregnancies\": 5, \"Glucose\": 166, \"BloodPressure\": 72, \"SkinThickness\": 19, \"Insulin\": 175, \"BMI\": 25.8, \"DiabetesPedigreeFunction\": 0.587, \"Age\": 51, \"Outcome\": 1}, {\"Pregnancies\": 2, \"Glucose\": 88, \"BloodPressure\": 58, \"SkinThickness\": 26, \"Insulin\": 16, \"BMI\": 28.4, \"DiabetesPedigreeFunction\": 0.766, \"Age\": 22, \"Outcome\": 0}, {\"Pregnancies\": 1, \"Glucose\": 135, \"BloodPressure\": 54, \"SkinThickness\": 0, \"Insulin\": 0, \"BMI\": 26.7, \"DiabetesPedigreeFunction\": 0.687, \"Age\": 62, \"Outcome\": 0}, {\"Pregnancies\": 6, \"Glucose\": 107, \"BloodPressure\": 88, \"SkinThickness\": 0, \"Insulin\": 0, \"BMI\": 36.8, \"DiabetesPedigreeFunction\": 0.727, \"Age\": 31, \"Outcome\": 0}, {\"Pregnancies\": 2, \"Glucose\": 92, \"BloodPressure\": 62, \"SkinThickness\": 28, \"Insulin\": 0, \"BMI\": 31.6, \"DiabetesPedigreeFunction\": 0.13, \"Age\": 24, \"Outcome\": 0}, {\"Pregnancies\": 1, \"Glucose\": 140, \"BloodPressure\": 74, \"SkinThickness\": 26, \"Insulin\": 180, \"BMI\": 24.1, \"DiabetesPedigreeFunction\": 0.828, \"Age\": 23, \"Outcome\": 0}, {\"Pregnancies\": 1, \"Glucose\": 77, \"BloodPressure\": 56, \"SkinThickness\": 30, \"Insulin\": 56, \"BMI\": 33.3, \"DiabetesPedigreeFunction\": 1.251, \"Age\": 24, \"Outcome\": 0}, {\"Pregnancies\": 1, \"Glucose\": 136, \"BloodPressure\": 74, \"SkinThickness\": 50, \"Insulin\": 204, \"BMI\": 37.4, \"DiabetesPedigreeFunction\": 0.399, \"Age\": 24, \"Outcome\": 0}, {\"Pregnancies\": 1, \"Glucose\": 99, \"BloodPressure\": 58, \"SkinThickness\": 10, \"Insulin\": 0, \"BMI\": 25.4, \"DiabetesPedigreeFunction\": 0.551, \"Age\": 21, \"Outcome\": 0}, {\"Pregnancies\": 7, \"Glucose\": 125, \"BloodPressure\": 86, \"SkinThickness\": 0, \"Insulin\": 0, \"BMI\": 37.6, \"DiabetesPedigreeFunction\": 0.304, \"Age\": 51, \"Outcome\": 0}, {\"Pregnancies\": 4, \"Glucose\": 189, \"BloodPressure\": 110, \"SkinThickness\": 31, \"Insulin\": 0, \"BMI\": 28.5, \"DiabetesPedigreeFunction\": 0.68, \"Age\": 37, \"Outcome\": 0}, {\"Pregnancies\": 0, \"Glucose\": 104, \"BloodPressure\": 76, \"SkinThickness\": 0, \"Insulin\": 0, \"BMI\": 18.4, \"DiabetesPedigreeFunction\": 0.582, \"Age\": 27, \"Outcome\": 0}, {\"Pregnancies\": 1, \"Glucose\": 91, \"BloodPressure\": 54, \"SkinThickness\": 25, \"Insulin\": 100, \"BMI\": 25.2, \"DiabetesPedigreeFunction\": 0.234, \"Age\": 23, \"Outcome\": 0}, {\"Pregnancies\": 1, \"Glucose\": 199, \"BloodPressure\": 76, \"SkinThickness\": 43, \"Insulin\": 0, \"BMI\": 42.9, \"DiabetesPedigreeFunction\": 1.394, \"Age\": 22, \"Outcome\": 1}, {\"Pregnancies\": 6, \"Glucose\": 154, \"BloodPressure\": 74, \"SkinThickness\": 32, \"Insulin\": 193, \"BMI\": 29.3, \"DiabetesPedigreeFunction\": 0.839, \"Age\": 39, \"Outcome\": 0}, {\"Pregnancies\": 2, \"Glucose\": 83, \"BloodPressure\": 65, \"SkinThickness\": 28, \"Insulin\": 66, \"BMI\": 36.8, \"DiabetesPedigreeFunction\": 0.629, \"Age\": 24, \"Outcome\": 0}, {\"Pregnancies\": 2, \"Glucose\": 100, \"BloodPressure\": 70, \"SkinThickness\": 52, \"Insulin\": 57, \"BMI\": 40.5, \"DiabetesPedigreeFunction\": 0.677, \"Age\": 25, \"Outcome\": 0}, {\"Pregnancies\": 1, \"Glucose\": 122, \"BloodPressure\": 64, \"SkinThickness\": 32, \"Insulin\": 156, \"BMI\": 35.1, \"DiabetesPedigreeFunction\": 0.692, \"Age\": 30, \"Outcome\": 1}]}}, {\"mode\": \"vega-lite\"});\n",
       "</script>"
      ],
      "text/plain": [
       "alt.VConcatChart(...)"
      ]
     },
     "execution_count": 17,
     "metadata": {},
     "output_type": "execute_result"
    }
   ],
   "source": [
    "# Visualize relationships\n",
    "aly.pair(train_df[features].sample(300), color='Outcome:N')"
   ]
  },
  {
   "cell_type": "markdown",
   "id": "79c2d626-c338-4ff2-8de3-8dee97a2e1a7",
   "metadata": {},
   "source": [
    "<i>Figure 3. Pairwise scatterplots between each of features in dataset to visualize relationship<i>"
   ]
  },
  {
   "cell_type": "markdown",
   "id": "567fa9f0-a7b0-4408-8b17-39259c51688c",
   "metadata": {},
   "source": [
    "Figure 3 illustrates the relationships between the features. For the most part, the features do not display noticeable trends. However, Skin Thickness and BMI show a moderate visual relationship, which is intuitive since higher body mass is generally associated with increased skin thickness. \n",
    "\n",
    "Referring back to the correlation graph, Skin Thickness and BMI have a Spearman correlation of 0.44. This value is below the multicollinearity threshold of 0.7, indicating that these features do not pose a risk of multicollinearity in our model."
   ]
  },
  {
   "cell_type": "code",
   "execution_count": 18,
   "id": "cfdff989-3503-4bf1-9684-af7d1b2d1c6c",
   "metadata": {},
   "outputs": [],
   "source": [
    "# validate training data for anomalous correlations between target/response variable \n",
    "# and features/explanatory variables, \n",
    "# as well as anomalous correlations between features/explanatory variables\n",
    "\n",
    "check_feat_lab_corr = FeatureLabelCorrelation().add_condition_feature_pps_less_than(0.7)\n",
    "check_feat_lab_corr_result = check_feat_lab_corr.run(dataset = train_df_ds)\n",
    "\n",
    "check_feat_feat_corr = FeatureFeatureCorrelation().add_condition_max_number_of_pairs_above_threshold(threshold = 0.7, n_pairs = 0)\n",
    "check_feat_feat_corr_result = check_feat_feat_corr.run(dataset = train_df_ds)\n",
    "\n",
    "if not check_feat_lab_corr_result.passed_conditions():\n",
    "    raise ValueError(\"Feature-Label correlation exceeds the maximum acceptable threshold.\")\n",
    "\n",
    "if not check_feat_feat_corr_result.passed_conditions():\n",
    "    raise ValueError(\"Feature-feature correlation exceeds the maximum acceptable threshold.\")"
   ]
  },
  {
   "cell_type": "markdown",
   "id": "02e9d502-d7de-4947-9aef-7237844abf57",
   "metadata": {},
   "source": [
    "Here we further split our dataset into X and y for both the training and test:"
   ]
  },
  {
   "cell_type": "code",
   "execution_count": 19,
   "id": "3c3c1217-fed7-4e33-a18f-4d510e6af191",
   "metadata": {},
   "outputs": [],
   "source": [
    "X_train = train_df.drop(columns = ['Outcome'])\n",
    "y_train = train_df['Outcome']\n",
    "X_test = test_df.drop(columns = ['Outcome'])\n",
    "y_test = test_df['Outcome']"
   ]
  },
  {
   "cell_type": "markdown",
   "id": "14944f93-65c4-439c-b61d-a515fc5e2e31",
   "metadata": {},
   "source": [
    "The Dummy Classifier acts as our baseline for conductin our initial analysis.\n",
    "The Dummy Baseline gives us a score of around 0.6720."
   ]
  },
  {
   "cell_type": "code",
   "execution_count": 20,
   "id": "a11f6174-f5d6-4e45-b857-2bfb65a80e9a",
   "metadata": {},
   "outputs": [
    {
     "data": {
      "text/plain": [
       "0.6719603960396039"
      ]
     },
     "execution_count": 20,
     "metadata": {},
     "output_type": "execute_result"
    }
   ],
   "source": [
    "# Create Dummy Classifier and cross validation\n",
    "dummy_clf = DummyClassifier()\n",
    "mean_cv_score = cross_val_score(dummy_clf, \n",
    "                                X_train,\n",
    "                                y_train).mean()\n",
    "mean_cv_score"
   ]
  },
  {
   "cell_type": "markdown",
   "id": "a4249d6d-92b8-4ab5-9843-b0bfeebf5475",
   "metadata": {},
   "source": [
    "We will use a Logistic Regression model for classification. Given the presence of outliers in our features, it is advisable to apply StandardScaler() to normalize the feature values before fitting the model. This ensures that all features are on a similar scale, improving the model's performance and stability."
   ]
  },
  {
   "cell_type": "code",
   "execution_count": 21,
   "id": "6f54d5b3-b4b3-4a69-9080-976088f33aaf",
   "metadata": {},
   "outputs": [],
   "source": [
    "# Create Logistic Regression pipeline\n",
    "log_pipe=make_pipeline(\n",
    "    StandardScaler(), \n",
    "    LogisticRegression(max_iter=2000,random_state=123)\n",
    ")"
   ]
  },
  {
   "cell_type": "markdown",
   "id": "7c0644fd-9d0d-4e6b-b732-11d735a769d8",
   "metadata": {},
   "source": [
    "We optimize the hyperparameter `C` for our Logistic Regression model using a random search approach."
   ]
  },
  {
   "cell_type": "code",
   "execution_count": 22,
   "id": "d10857b9-e68b-4427-90d0-65638136b431",
   "metadata": {},
   "outputs": [],
   "source": [
    "# Hyperparameter optimization\n",
    "np.random.seed(123)\n",
    "param_dist = {\n",
    "    \"logisticregression__C\": loguniform(1e-5, 1e+5) \n",
    "}"
   ]
  },
  {
   "cell_type": "code",
   "execution_count": 23,
   "id": "51de2544-ffac-4b1b-970a-e1920e03b508",
   "metadata": {},
   "outputs": [
    {
     "data": {
      "text/html": [
       "<style>#sk-container-id-1 {color: black;}#sk-container-id-1 pre{padding: 0;}#sk-container-id-1 div.sk-toggleable {background-color: white;}#sk-container-id-1 label.sk-toggleable__label {cursor: pointer;display: block;width: 100%;margin-bottom: 0;padding: 0.3em;box-sizing: border-box;text-align: center;}#sk-container-id-1 label.sk-toggleable__label-arrow:before {content: \"▸\";float: left;margin-right: 0.25em;color: #696969;}#sk-container-id-1 label.sk-toggleable__label-arrow:hover:before {color: black;}#sk-container-id-1 div.sk-estimator:hover label.sk-toggleable__label-arrow:before {color: black;}#sk-container-id-1 div.sk-toggleable__content {max-height: 0;max-width: 0;overflow: hidden;text-align: left;background-color: #f0f8ff;}#sk-container-id-1 div.sk-toggleable__content pre {margin: 0.2em;color: black;border-radius: 0.25em;background-color: #f0f8ff;}#sk-container-id-1 input.sk-toggleable__control:checked~div.sk-toggleable__content {max-height: 200px;max-width: 100%;overflow: auto;}#sk-container-id-1 input.sk-toggleable__control:checked~label.sk-toggleable__label-arrow:before {content: \"▾\";}#sk-container-id-1 div.sk-estimator input.sk-toggleable__control:checked~label.sk-toggleable__label {background-color: #d4ebff;}#sk-container-id-1 div.sk-label input.sk-toggleable__control:checked~label.sk-toggleable__label {background-color: #d4ebff;}#sk-container-id-1 input.sk-hidden--visually {border: 0;clip: rect(1px 1px 1px 1px);clip: rect(1px, 1px, 1px, 1px);height: 1px;margin: -1px;overflow: hidden;padding: 0;position: absolute;width: 1px;}#sk-container-id-1 div.sk-estimator {font-family: monospace;background-color: #f0f8ff;border: 1px dotted black;border-radius: 0.25em;box-sizing: border-box;margin-bottom: 0.5em;}#sk-container-id-1 div.sk-estimator:hover {background-color: #d4ebff;}#sk-container-id-1 div.sk-parallel-item::after {content: \"\";width: 100%;border-bottom: 1px solid gray;flex-grow: 1;}#sk-container-id-1 div.sk-label:hover label.sk-toggleable__label {background-color: #d4ebff;}#sk-container-id-1 div.sk-serial::before {content: \"\";position: absolute;border-left: 1px solid gray;box-sizing: border-box;top: 0;bottom: 0;left: 50%;z-index: 0;}#sk-container-id-1 div.sk-serial {display: flex;flex-direction: column;align-items: center;background-color: white;padding-right: 0.2em;padding-left: 0.2em;position: relative;}#sk-container-id-1 div.sk-item {position: relative;z-index: 1;}#sk-container-id-1 div.sk-parallel {display: flex;align-items: stretch;justify-content: center;background-color: white;position: relative;}#sk-container-id-1 div.sk-item::before, #sk-container-id-1 div.sk-parallel-item::before {content: \"\";position: absolute;border-left: 1px solid gray;box-sizing: border-box;top: 0;bottom: 0;left: 50%;z-index: -1;}#sk-container-id-1 div.sk-parallel-item {display: flex;flex-direction: column;z-index: 1;position: relative;background-color: white;}#sk-container-id-1 div.sk-parallel-item:first-child::after {align-self: flex-end;width: 50%;}#sk-container-id-1 div.sk-parallel-item:last-child::after {align-self: flex-start;width: 50%;}#sk-container-id-1 div.sk-parallel-item:only-child::after {width: 0;}#sk-container-id-1 div.sk-dashed-wrapped {border: 1px dashed gray;margin: 0 0.4em 0.5em 0.4em;box-sizing: border-box;padding-bottom: 0.4em;background-color: white;}#sk-container-id-1 div.sk-label label {font-family: monospace;font-weight: bold;display: inline-block;line-height: 1.2em;}#sk-container-id-1 div.sk-label-container {text-align: center;}#sk-container-id-1 div.sk-container {/* jupyter's `normalize.less` sets `[hidden] { display: none; }` but bootstrap.min.css set `[hidden] { display: none !important; }` so we also need the `!important` here to be able to override the default hidden behavior on the sphinx rendered scikit-learn.org. See: https://github.com/scikit-learn/scikit-learn/issues/21755 */display: inline-block !important;position: relative;}#sk-container-id-1 div.sk-text-repr-fallback {display: none;}</style><div id=\"sk-container-id-1\" class=\"sk-top-container\"><div class=\"sk-text-repr-fallback\"><pre>RandomizedSearchCV(estimator=Pipeline(steps=[(&#x27;standardscaler&#x27;,\n",
       "                                              StandardScaler()),\n",
       "                                             (&#x27;logisticregression&#x27;,\n",
       "                                              LogisticRegression(max_iter=2000,\n",
       "                                                                 random_state=123))]),\n",
       "                   n_iter=20, n_jobs=-1,\n",
       "                   param_distributions={&#x27;logisticregression__C&#x27;: &lt;scipy.stats._distn_infrastructure.rv_continuous_frozen object at 0x000001CCAE4C67D0&gt;},\n",
       "                   random_state=123, return_train_score=True)</pre><b>In a Jupyter environment, please rerun this cell to show the HTML representation or trust the notebook. <br />On GitHub, the HTML representation is unable to render, please try loading this page with nbviewer.org.</b></div><div class=\"sk-container\" hidden><div class=\"sk-item sk-dashed-wrapped\"><div class=\"sk-label-container\"><div class=\"sk-label sk-toggleable\"><input class=\"sk-toggleable__control sk-hidden--visually\" id=\"sk-estimator-id-1\" type=\"checkbox\" ><label for=\"sk-estimator-id-1\" class=\"sk-toggleable__label sk-toggleable__label-arrow\">RandomizedSearchCV</label><div class=\"sk-toggleable__content\"><pre>RandomizedSearchCV(estimator=Pipeline(steps=[(&#x27;standardscaler&#x27;,\n",
       "                                              StandardScaler()),\n",
       "                                             (&#x27;logisticregression&#x27;,\n",
       "                                              LogisticRegression(max_iter=2000,\n",
       "                                                                 random_state=123))]),\n",
       "                   n_iter=20, n_jobs=-1,\n",
       "                   param_distributions={&#x27;logisticregression__C&#x27;: &lt;scipy.stats._distn_infrastructure.rv_continuous_frozen object at 0x000001CCAE4C67D0&gt;},\n",
       "                   random_state=123, return_train_score=True)</pre></div></div></div><div class=\"sk-parallel\"><div class=\"sk-parallel-item\"><div class=\"sk-item\"><div class=\"sk-label-container\"><div class=\"sk-label sk-toggleable\"><input class=\"sk-toggleable__control sk-hidden--visually\" id=\"sk-estimator-id-2\" type=\"checkbox\" ><label for=\"sk-estimator-id-2\" class=\"sk-toggleable__label sk-toggleable__label-arrow\">estimator: Pipeline</label><div class=\"sk-toggleable__content\"><pre>Pipeline(steps=[(&#x27;standardscaler&#x27;, StandardScaler()),\n",
       "                (&#x27;logisticregression&#x27;,\n",
       "                 LogisticRegression(max_iter=2000, random_state=123))])</pre></div></div></div><div class=\"sk-serial\"><div class=\"sk-item\"><div class=\"sk-serial\"><div class=\"sk-item\"><div class=\"sk-estimator sk-toggleable\"><input class=\"sk-toggleable__control sk-hidden--visually\" id=\"sk-estimator-id-3\" type=\"checkbox\" ><label for=\"sk-estimator-id-3\" class=\"sk-toggleable__label sk-toggleable__label-arrow\">StandardScaler</label><div class=\"sk-toggleable__content\"><pre>StandardScaler()</pre></div></div></div><div class=\"sk-item\"><div class=\"sk-estimator sk-toggleable\"><input class=\"sk-toggleable__control sk-hidden--visually\" id=\"sk-estimator-id-4\" type=\"checkbox\" ><label for=\"sk-estimator-id-4\" class=\"sk-toggleable__label sk-toggleable__label-arrow\">LogisticRegression</label><div class=\"sk-toggleable__content\"><pre>LogisticRegression(max_iter=2000, random_state=123)</pre></div></div></div></div></div></div></div></div></div></div></div></div>"
      ],
      "text/plain": [
       "RandomizedSearchCV(estimator=Pipeline(steps=[('standardscaler',\n",
       "                                              StandardScaler()),\n",
       "                                             ('logisticregression',\n",
       "                                              LogisticRegression(max_iter=2000,\n",
       "                                                                 random_state=123))]),\n",
       "                   n_iter=20, n_jobs=-1,\n",
       "                   param_distributions={'logisticregression__C': <scipy.stats._distn_infrastructure.rv_continuous_frozen object at 0x000001CCAE4C67D0>},\n",
       "                   random_state=123, return_train_score=True)"
      ]
     },
     "execution_count": 23,
     "metadata": {},
     "output_type": "execute_result"
    }
   ],
   "source": [
    "# Create Random Search\n",
    "random_search = RandomizedSearchCV(log_pipe,param_dist,\n",
    "                                   n_iter=20,\n",
    "                                   n_jobs=-1,\n",
    "                                   return_train_score=True,\n",
    "                                   random_state=123)\n",
    "\n",
    "random_search.fit(X_train,y_train)"
   ]
  },
  {
   "cell_type": "markdown",
   "id": "bcc4ce0d-dbf8-4473-8a0d-a5b9229e363d",
   "metadata": {},
   "source": [
    "Identify the optimal value for the hyperparameter C to be used in our Logistic Regression model."
   ]
  },
  {
   "cell_type": "code",
   "execution_count": 24,
   "id": "64337e46-03eb-4182-bde3-4b7efb3f33e6",
   "metadata": {},
   "outputs": [
    {
     "data": {
      "text/plain": [
       "{'logisticregression__C': 0.02702589975314766}"
      ]
     },
     "execution_count": 24,
     "metadata": {},
     "output_type": "execute_result"
    }
   ],
   "source": [
    "# Identify optiomized parameter C\n",
    "best_params = random_search.best_params_ \n",
    "best_params"
   ]
  },
  {
   "cell_type": "code",
   "execution_count": 25,
   "id": "b463a207-970a-4b87-b183-165a270216cf",
   "metadata": {},
   "outputs": [
    {
     "data": {
      "text/html": [
       "<div>\n",
       "<style scoped>\n",
       "    .dataframe tbody tr th:only-of-type {\n",
       "        vertical-align: middle;\n",
       "    }\n",
       "\n",
       "    .dataframe tbody tr th {\n",
       "        vertical-align: top;\n",
       "    }\n",
       "\n",
       "    .dataframe thead th {\n",
       "        text-align: right;\n",
       "    }\n",
       "</style>\n",
       "<table border=\"1\" class=\"dataframe\">\n",
       "  <thead>\n",
       "    <tr style=\"text-align: right;\">\n",
       "      <th></th>\n",
       "      <th>mean_test_score</th>\n",
       "      <th>mean_train_score</th>\n",
       "    </tr>\n",
       "  </thead>\n",
       "  <tbody>\n",
       "    <tr>\n",
       "      <th>10</th>\n",
       "      <td>0.781347</td>\n",
       "      <td>0.786284</td>\n",
       "    </tr>\n",
       "    <tr>\n",
       "      <th>0</th>\n",
       "      <td>0.775366</td>\n",
       "      <td>0.781808</td>\n",
       "    </tr>\n",
       "    <tr>\n",
       "      <th>15</th>\n",
       "      <td>0.775366</td>\n",
       "      <td>0.781808</td>\n",
       "    </tr>\n",
       "  </tbody>\n",
       "</table>\n",
       "</div>"
      ],
      "text/plain": [
       "    mean_test_score  mean_train_score\n",
       "10         0.781347          0.786284\n",
       "0          0.775366          0.781808\n",
       "15         0.775366          0.781808"
      ]
     },
     "execution_count": 25,
     "metadata": {},
     "output_type": "execute_result"
    }
   ],
   "source": [
    "# Display scores\n",
    "pd.DataFrame(random_search.cv_results_).sort_values(\n",
    "    \"rank_test_score\").head(3)[[\"mean_test_score\",\n",
    "                                \"mean_train_score\"]]"
   ]
  },
  {
   "cell_type": "markdown",
   "id": "897f9bdd-d070-4595-8bba-525bcce98875",
   "metadata": {},
   "source": [
    "Having determined the best Logistic Regression model for our analysis, we further explore feature importance with coefficients."
   ]
  },
  {
   "cell_type": "code",
   "execution_count": 26,
   "id": "bb8c81cf-262e-4ac9-95eb-7b89a0e15385",
   "metadata": {},
   "outputs": [
    {
     "data": {
      "text/html": [
       "<style type=\"text/css\">\n",
       "#T_6aba2_row0_col1 {\n",
       "  background-color: #023858;\n",
       "  color: #f1f1f1;\n",
       "}\n",
       "#T_6aba2_row1_col1 {\n",
       "  background-color: #60a1ca;\n",
       "  color: #f1f1f1;\n",
       "}\n",
       "#T_6aba2_row2_col1 {\n",
       "  background-color: #b8c6e0;\n",
       "  color: #000000;\n",
       "}\n",
       "#T_6aba2_row3_col1 {\n",
       "  background-color: #c8cde4;\n",
       "  color: #000000;\n",
       "}\n",
       "#T_6aba2_row4_col1 {\n",
       "  background-color: #d5d5e8;\n",
       "  color: #000000;\n",
       "}\n",
       "#T_6aba2_row5_col1 {\n",
       "  background-color: #f4edf6;\n",
       "  color: #000000;\n",
       "}\n",
       "#T_6aba2_row6_col1 {\n",
       "  background-color: #fef6fa;\n",
       "  color: #000000;\n",
       "}\n",
       "#T_6aba2_row7_col1 {\n",
       "  background-color: #fff7fb;\n",
       "  color: #000000;\n",
       "}\n",
       "</style>\n",
       "<table id=\"T_6aba2\">\n",
       "  <thead>\n",
       "    <tr>\n",
       "      <th class=\"blank level0\" >&nbsp;</th>\n",
       "      <th id=\"T_6aba2_level0_col0\" class=\"col_heading level0 col0\" >Features</th>\n",
       "      <th id=\"T_6aba2_level0_col1\" class=\"col_heading level0 col1\" >Coefficients</th>\n",
       "    </tr>\n",
       "  </thead>\n",
       "  <tbody>\n",
       "    <tr>\n",
       "      <th id=\"T_6aba2_level0_row0\" class=\"row_heading level0 row0\" >1</th>\n",
       "      <td id=\"T_6aba2_row0_col0\" class=\"data row0 col0\" >Glucose</td>\n",
       "      <td id=\"T_6aba2_row0_col1\" class=\"data row0 col1\" >0.724</td>\n",
       "    </tr>\n",
       "    <tr>\n",
       "      <th id=\"T_6aba2_level0_row1\" class=\"row_heading level0 row1\" >5</th>\n",
       "      <td id=\"T_6aba2_row1_col0\" class=\"data row1 col0\" >BMI</td>\n",
       "      <td id=\"T_6aba2_row1_col1\" class=\"data row1 col1\" >0.389</td>\n",
       "    </tr>\n",
       "    <tr>\n",
       "      <th id=\"T_6aba2_level0_row2\" class=\"row_heading level0 row2\" >0</th>\n",
       "      <td id=\"T_6aba2_row2_col0\" class=\"data row2 col0\" >Pregnancies</td>\n",
       "      <td id=\"T_6aba2_row2_col1\" class=\"data row2 col1\" >0.229</td>\n",
       "    </tr>\n",
       "    <tr>\n",
       "      <th id=\"T_6aba2_level0_row3\" class=\"row_heading level0 row3\" >7</th>\n",
       "      <td id=\"T_6aba2_row3_col0\" class=\"data row3 col0\" >Age</td>\n",
       "      <td id=\"T_6aba2_row3_col1\" class=\"data row3 col1\" >0.194</td>\n",
       "    </tr>\n",
       "    <tr>\n",
       "      <th id=\"T_6aba2_level0_row4\" class=\"row_heading level0 row4\" >6</th>\n",
       "      <td id=\"T_6aba2_row4_col0\" class=\"data row4 col0\" >DiabetesPedigreeFunction</td>\n",
       "      <td id=\"T_6aba2_row4_col1\" class=\"data row4 col1\" >0.161</td>\n",
       "    </tr>\n",
       "    <tr>\n",
       "      <th id=\"T_6aba2_level0_row5\" class=\"row_heading level0 row5\" >2</th>\n",
       "      <td id=\"T_6aba2_row5_col0\" class=\"data row5 col0\" >BloodPressure</td>\n",
       "      <td id=\"T_6aba2_row5_col1\" class=\"data row5 col1\" >0.048</td>\n",
       "    </tr>\n",
       "    <tr>\n",
       "      <th id=\"T_6aba2_level0_row6\" class=\"row_heading level0 row6\" >4</th>\n",
       "      <td id=\"T_6aba2_row6_col0\" class=\"data row6 col0\" >Insulin</td>\n",
       "      <td id=\"T_6aba2_row6_col1\" class=\"data row6 col1\" >0.002</td>\n",
       "    </tr>\n",
       "    <tr>\n",
       "      <th id=\"T_6aba2_level0_row7\" class=\"row_heading level0 row7\" >3</th>\n",
       "      <td id=\"T_6aba2_row7_col0\" class=\"data row7 col0\" >SkinThickness</td>\n",
       "      <td id=\"T_6aba2_row7_col1\" class=\"data row7 col1\" >-0.007</td>\n",
       "    </tr>\n",
       "  </tbody>\n",
       "</table>\n"
      ],
      "text/plain": [
       "<pandas.io.formats.style.Styler at 0x1cce1f38310>"
      ]
     },
     "execution_count": 26,
     "metadata": {},
     "output_type": "execute_result"
    }
   ],
   "source": [
    "# Best model from the search\n",
    "best_model = random_search.best_estimator_\n",
    "\n",
    "# Retrieve the coefficients and feature names\n",
    "coefficients = best_model.named_steps['logisticregression'].coef_.flatten()\n",
    "features = X_train.columns  \n",
    "\n",
    "# Create a DataFrame to display the feature names and corresponding coefficients\n",
    "coeff_df = pd.DataFrame({\n",
    "    'Features': features,\n",
    "    'Coefficients': coefficients\n",
    "})\n",
    "\n",
    "# Sort by 'Coefficients' in descending order to see the most important features first\n",
    "coeff_df_sorted = coeff_df.sort_values(by = 'Coefficients', ascending = False)\n",
    "\n",
    "# Create a heatmap for the coefficients (we will visualize them as a single column)\n",
    "coeff_df_sorted.style.format(\n",
    "    precision = 3\n",
    ").background_gradient(\n",
    "    axis = None\n",
    ")"
   ]
  },
  {
   "cell_type": "markdown",
   "id": "da25f622-c18d-4042-88c5-c68544ce2fae",
   "metadata": {},
   "source": [
    "Table 1: Logistic regression feature importance measured by coefficients"
   ]
  },
  {
   "cell_type": "markdown",
   "id": "70be6981-1268-4215-81f1-acfee385e7d6",
   "metadata": {},
   "source": [
    "Based on the heatmap and table 1 above, the feature importance coefficients for the logistic regression model predicting diabetes reveal that `Glucose` (0.72) is the strongest positive influence, followed by `BMI` (0.39), `Pregnancies` (0.23), `Age` (0.19), and `DiabetesPedigreeFunction` (0.16). The negative influence `SkinThickness` (-0.007) along with the remaining positive features `BloodPressure` (0.048) and `Insulin` (0.002), have weak impacts on the prediction, with their effects being less pronounced. "
   ]
  },
  {
   "cell_type": "markdown",
   "id": "60168556-9d5e-494a-a77f-b83ca2c2f991",
   "metadata": {},
   "source": [
    "We then evaluate the best Logistic Regression model, obtained from the hyperparameter search, on the test set."
   ]
  },
  {
   "cell_type": "code",
   "execution_count": 27,
   "id": "569ec32e-1d4f-413a-84ba-38359e62a0ed",
   "metadata": {},
   "outputs": [],
   "source": [
    "# Make predictions using the best model\n",
    "y_pred = best_model.predict(X_test)"
   ]
  },
  {
   "cell_type": "markdown",
   "id": "97066ce3-28e9-4462-984b-6d045389fa50",
   "metadata": {},
   "source": [
    "In addition, to enhance the model's practical use in a clinical setting, we are providing and reporting probability estimates for the predictions of diabetes. Offering probability estimates would allow clinicians to gauge the model's confidence in its predictions. This would give clinicians the opportunity to conduct additional diagnostic tests if the predicted probability for the outcome (i.e. diagnosis of prediction) is not sufficiently high."
   ]
  },
  {
   "cell_type": "code",
   "execution_count": 28,
   "id": "b3f712d3-c220-4f1d-9f4e-75eced342c8f",
   "metadata": {},
   "outputs": [
    {
     "data": {
      "text/html": [
       "<div>\n",
       "<style scoped>\n",
       "    .dataframe tbody tr th:only-of-type {\n",
       "        vertical-align: middle;\n",
       "    }\n",
       "\n",
       "    .dataframe tbody tr th {\n",
       "        vertical-align: top;\n",
       "    }\n",
       "\n",
       "    .dataframe thead th {\n",
       "        text-align: right;\n",
       "    }\n",
       "</style>\n",
       "<table border=\"1\" class=\"dataframe\">\n",
       "  <thead>\n",
       "    <tr style=\"text-align: right;\">\n",
       "      <th></th>\n",
       "      <th>y_test</th>\n",
       "      <th>y_pred</th>\n",
       "      <th>pred_bool</th>\n",
       "      <th>y_pred_prob_1</th>\n",
       "    </tr>\n",
       "  </thead>\n",
       "  <tbody>\n",
       "    <tr>\n",
       "      <th>0</th>\n",
       "      <td>0.0</td>\n",
       "      <td>0.0</td>\n",
       "      <td>True</td>\n",
       "      <td>0.125706</td>\n",
       "    </tr>\n",
       "    <tr>\n",
       "      <th>1</th>\n",
       "      <td>0.0</td>\n",
       "      <td>0.0</td>\n",
       "      <td>True</td>\n",
       "      <td>0.261988</td>\n",
       "    </tr>\n",
       "    <tr>\n",
       "      <th>2</th>\n",
       "      <td>0.0</td>\n",
       "      <td>0.0</td>\n",
       "      <td>True</td>\n",
       "      <td>0.152732</td>\n",
       "    </tr>\n",
       "    <tr>\n",
       "      <th>3</th>\n",
       "      <td>1.0</td>\n",
       "      <td>1.0</td>\n",
       "      <td>True</td>\n",
       "      <td>0.601420</td>\n",
       "    </tr>\n",
       "    <tr>\n",
       "      <th>4</th>\n",
       "      <td>1.0</td>\n",
       "      <td>0.0</td>\n",
       "      <td>False</td>\n",
       "      <td>0.416483</td>\n",
       "    </tr>\n",
       "  </tbody>\n",
       "</table>\n",
       "</div>"
      ],
      "text/plain": [
       "   y_test  y_pred  pred_bool  y_pred_prob_1\n",
       "0     0.0     0.0       True       0.125706\n",
       "1     0.0     0.0       True       0.261988\n",
       "2     0.0     0.0       True       0.152732\n",
       "3     1.0     1.0       True       0.601420\n",
       "4     1.0     0.0      False       0.416483"
      ]
     },
     "execution_count": 28,
     "metadata": {},
     "output_type": "execute_result"
    }
   ],
   "source": [
    "y_pred_prob = best_model.predict_proba(X_test)\n",
    "pred_bool = (y_test == y_pred)\n",
    "pred_results_1 = np.vstack([y_test, y_pred, pred_bool, y_pred_prob[:, 1]])\n",
    "pred_results_1_df = pd.DataFrame(pred_results_1.T, \n",
    "                                 columns = ['y_test', 'y_pred', 'pred_bool', 'y_pred_prob_1'])\n",
    "pred_results_1_df['pred_bool'] = pred_results_1_df['pred_bool'] == 1\n",
    "pred_results_1_df.head()"
   ]
  },
  {
   "cell_type": "markdown",
   "id": "aae4aa67-7176-4eed-9170-2962f09aa935",
   "metadata": {},
   "source": [
    "Our prediction model performed decent on test data, with a final overall accuracy of 0.75. In addition, looking through the prediction results dataframe, there are a total of 54 mistakes. Of which, 35 mistakes were predicting diabetic as non-diabetic (false negatives) and 19 mistakes were made predicting diabetic as non-diabetic (false positives). Considering implementation in clinic, there is room for improvement in the algorithm as false negatives are more harmful than false positives, and we should aim to lower false positives even further."
   ]
  },
  {
   "cell_type": "code",
   "execution_count": 29,
   "id": "30250d8d-40d4-41e3-8560-48d2b8a56673",
   "metadata": {},
   "outputs": [
    {
     "data": {
      "text/html": [
       "<div>\n",
       "<style scoped>\n",
       "    .dataframe tbody tr th:only-of-type {\n",
       "        vertical-align: middle;\n",
       "    }\n",
       "\n",
       "    .dataframe tbody tr th {\n",
       "        vertical-align: top;\n",
       "    }\n",
       "\n",
       "    .dataframe thead th {\n",
       "        text-align: right;\n",
       "    }\n",
       "</style>\n",
       "<table border=\"1\" class=\"dataframe\">\n",
       "  <thead>\n",
       "    <tr style=\"text-align: right;\">\n",
       "      <th></th>\n",
       "      <th>accuracy</th>\n",
       "    </tr>\n",
       "  </thead>\n",
       "  <tbody>\n",
       "    <tr>\n",
       "      <th>0</th>\n",
       "      <td>0.75</td>\n",
       "    </tr>\n",
       "  </tbody>\n",
       "</table>\n",
       "</div>"
      ],
      "text/plain": [
       "   accuracy\n",
       "0      0.75"
      ]
     },
     "execution_count": 29,
     "metadata": {},
     "output_type": "execute_result"
    }
   ],
   "source": [
    "# Compute accuracy\n",
    "accuracy = best_model.score(X_test, y_test)\n",
    "\n",
    "pd.DataFrame({'accuracy': [accuracy]})"
   ]
  },
  {
   "cell_type": "code",
   "execution_count": 30,
   "id": "b7e43428-628a-4495-b078-60568d4276e9",
   "metadata": {},
   "outputs": [
    {
     "data": {
      "text/html": [
       "<div>\n",
       "<style scoped>\n",
       "    .dataframe tbody tr th:only-of-type {\n",
       "        vertical-align: middle;\n",
       "    }\n",
       "\n",
       "    .dataframe tbody tr th {\n",
       "        vertical-align: top;\n",
       "    }\n",
       "\n",
       "    .dataframe thead th {\n",
       "        text-align: right;\n",
       "    }\n",
       "</style>\n",
       "<table border=\"1\" class=\"dataframe\">\n",
       "  <thead>\n",
       "    <tr style=\"text-align: right;\">\n",
       "      <th></th>\n",
       "      <th>correct predictions</th>\n",
       "      <th>misclassifications</th>\n",
       "    </tr>\n",
       "  </thead>\n",
       "  <tbody>\n",
       "    <tr>\n",
       "      <th>0</th>\n",
       "      <td>162</td>\n",
       "      <td>54</td>\n",
       "    </tr>\n",
       "  </tbody>\n",
       "</table>\n",
       "</div>"
      ],
      "text/plain": [
       "   correct predictions  misclassifications\n",
       "0                  162                  54"
      ]
     },
     "execution_count": 30,
     "metadata": {},
     "output_type": "execute_result"
    }
   ],
   "source": [
    "# Calculate the number of correct predictions and misclassifications\n",
    "value_counts = pred_results_1_df['pred_bool'].value_counts()\n",
    "\n",
    "pd.DataFrame({\n",
    "    'correct predictions': [value_counts.get(True, 0)], \n",
    "    'misclassifications': [value_counts.get(False, 0)]\n",
    "})"
   ]
  },
  {
   "cell_type": "code",
   "execution_count": 31,
   "id": "056f09d2-a81b-42a4-bcaa-3837aeee29b4",
   "metadata": {},
   "outputs": [
    {
     "data": {
      "text/html": [
       "<div>\n",
       "<style scoped>\n",
       "    .dataframe tbody tr th:only-of-type {\n",
       "        vertical-align: middle;\n",
       "    }\n",
       "\n",
       "    .dataframe tbody tr th {\n",
       "        vertical-align: top;\n",
       "    }\n",
       "\n",
       "    .dataframe thead th {\n",
       "        text-align: right;\n",
       "    }\n",
       "</style>\n",
       "<table border=\"1\" class=\"dataframe\">\n",
       "  <thead>\n",
       "    <tr style=\"text-align: right;\">\n",
       "      <th></th>\n",
       "      <th>false positives</th>\n",
       "      <th>false negatives</th>\n",
       "    </tr>\n",
       "  </thead>\n",
       "  <tbody>\n",
       "    <tr>\n",
       "      <th>0</th>\n",
       "      <td>13</td>\n",
       "      <td>41</td>\n",
       "    </tr>\n",
       "  </tbody>\n",
       "</table>\n",
       "</div>"
      ],
      "text/plain": [
       "   false positives  false negatives\n",
       "0               13               41"
      ]
     },
     "execution_count": 31,
     "metadata": {},
     "output_type": "execute_result"
    }
   ],
   "source": [
    "# Calculate the number of false positives (FPs) and false negatives (FNs)\n",
    "fp = len(pred_results_1_df[(pred_results_1_df['y_test'] == 0) & (pred_results_1_df['y_pred'] == 1)])\n",
    "fn = len(pred_results_1_df[(pred_results_1_df['y_test'] == 1) & (pred_results_1_df['y_pred'] == 0)])\n",
    "\n",
    "pd.DataFrame({\n",
    "    'false positives': [fp], \n",
    "    'false negatives': [fn]\n",
    "})"
   ]
  },
  {
   "cell_type": "markdown",
   "id": "1f77a691-b4fc-41fb-850a-670064fcbc83",
   "metadata": {},
   "source": [
    "Moreover, visualizing prediction probabilities alongside the prediction accuracy for each test sample provides a clearer understanding of the model's performance. This approach allows us to easily assess how well the model predicts, while also highlighting patients who were misdiagnosed. Particularly, it helps us focus on false negatives, as the consequences of these errors are more critical in a clinical context."
   ]
  },
  {
   "cell_type": "code",
   "execution_count": 32,
   "id": "35218b3b-5536-40f5-909b-5e9f1374d49b",
   "metadata": {},
   "outputs": [
    {
     "data": {
      "text/html": [
       "\n",
       "<style>\n",
       "  #altair-viz-a03df44bf9cf469781f88236529a9e62.vega-embed {\n",
       "    width: 100%;\n",
       "    display: flex;\n",
       "  }\n",
       "\n",
       "  #altair-viz-a03df44bf9cf469781f88236529a9e62.vega-embed details,\n",
       "  #altair-viz-a03df44bf9cf469781f88236529a9e62.vega-embed details summary {\n",
       "    position: relative;\n",
       "  }\n",
       "</style>\n",
       "<div id=\"altair-viz-a03df44bf9cf469781f88236529a9e62\"></div>\n",
       "<script type=\"text/javascript\">\n",
       "  var VEGA_DEBUG = (typeof VEGA_DEBUG == \"undefined\") ? {} : VEGA_DEBUG;\n",
       "  (function(spec, embedOpt){\n",
       "    let outputDiv = document.currentScript.previousElementSibling;\n",
       "    if (outputDiv.id !== \"altair-viz-a03df44bf9cf469781f88236529a9e62\") {\n",
       "      outputDiv = document.getElementById(\"altair-viz-a03df44bf9cf469781f88236529a9e62\");\n",
       "    }\n",
       "\n",
       "    const paths = {\n",
       "      \"vega\": \"https://cdn.jsdelivr.net/npm/vega@5?noext\",\n",
       "      \"vega-lib\": \"https://cdn.jsdelivr.net/npm/vega-lib?noext\",\n",
       "      \"vega-lite\": \"https://cdn.jsdelivr.net/npm/vega-lite@5.20.1?noext\",\n",
       "      \"vega-embed\": \"https://cdn.jsdelivr.net/npm/vega-embed@6?noext\",\n",
       "    };\n",
       "\n",
       "    function maybeLoadScript(lib, version) {\n",
       "      var key = `${lib.replace(\"-\", \"\")}_version`;\n",
       "      return (VEGA_DEBUG[key] == version) ?\n",
       "        Promise.resolve(paths[lib]) :\n",
       "        new Promise(function(resolve, reject) {\n",
       "          var s = document.createElement('script');\n",
       "          document.getElementsByTagName(\"head\")[0].appendChild(s);\n",
       "          s.async = true;\n",
       "          s.onload = () => {\n",
       "            VEGA_DEBUG[key] = version;\n",
       "            return resolve(paths[lib]);\n",
       "          };\n",
       "          s.onerror = () => reject(`Error loading script: ${paths[lib]}`);\n",
       "          s.src = paths[lib];\n",
       "        });\n",
       "    }\n",
       "\n",
       "    function showError(err) {\n",
       "      outputDiv.innerHTML = `<div class=\"error\" style=\"color:red;\">${err}</div>`;\n",
       "      throw err;\n",
       "    }\n",
       "\n",
       "    function displayChart(vegaEmbed) {\n",
       "      vegaEmbed(outputDiv, spec, embedOpt)\n",
       "        .catch(err => showError(`Javascript Error: ${err.message}<br>This usually means there's a typo in your chart specification. See the javascript console for the full traceback.`));\n",
       "    }\n",
       "\n",
       "    if(typeof define === \"function\" && define.amd) {\n",
       "      requirejs.config({paths});\n",
       "      let deps = [\"vega-embed\"];\n",
       "      require(deps, displayChart, err => showError(`Error loading script: ${err.message}`));\n",
       "    } else {\n",
       "      maybeLoadScript(\"vega\", \"5\")\n",
       "        .then(() => maybeLoadScript(\"vega-lite\", \"5.20.1\"))\n",
       "        .then(() => maybeLoadScript(\"vega-embed\", \"6\"))\n",
       "        .catch(showError)\n",
       "        .then(() => displayChart(vegaEmbed));\n",
       "    }\n",
       "  })({\"config\": {\"view\": {\"continuousWidth\": 300, \"continuousHeight\": 300}}, \"data\": {\"name\": \"data-a4ad49b15fbfdce4daea3bea0f7513fc\"}, \"mark\": {\"type\": \"tick\"}, \"encoding\": {\"color\": {\"field\": \"y_test\", \"title\": \"Outcome\", \"type\": \"nominal\"}, \"x\": {\"field\": \"y_pred_prob_1\", \"title\": \"Positive Class Prediction Prob\", \"type\": \"quantitative\"}, \"y\": {\"field\": \"pred_bool\", \"title\": \"Pred. Accuracy\", \"type\": \"nominal\"}}, \"title\": \"Test Set Prediction Accuracy\", \"$schema\": \"https://vega.github.io/schema/vega-lite/v5.20.1.json\", \"datasets\": {\"data-a4ad49b15fbfdce4daea3bea0f7513fc\": [{\"y_test\": 0.0, \"y_pred\": 0.0, \"pred_bool\": true, \"y_pred_prob_1\": 0.12570558585897446}, {\"y_test\": 0.0, \"y_pred\": 0.0, \"pred_bool\": true, \"y_pred_prob_1\": 0.2619877937328158}, {\"y_test\": 0.0, \"y_pred\": 0.0, \"pred_bool\": true, \"y_pred_prob_1\": 0.1527315587789401}, {\"y_test\": 1.0, \"y_pred\": 1.0, \"pred_bool\": true, \"y_pred_prob_1\": 0.6014203317391008}, {\"y_test\": 1.0, \"y_pred\": 0.0, \"pred_bool\": false, \"y_pred_prob_1\": 0.41648251223808397}, {\"y_test\": 0.0, \"y_pred\": 0.0, \"pred_bool\": true, \"y_pred_prob_1\": 0.14843621109080934}, {\"y_test\": 0.0, \"y_pred\": 0.0, \"pred_bool\": true, \"y_pred_prob_1\": 0.1087150888503808}, {\"y_test\": 1.0, \"y_pred\": 1.0, \"pred_bool\": true, \"y_pred_prob_1\": 0.6646254858467702}, {\"y_test\": 0.0, \"y_pred\": 0.0, \"pred_bool\": true, \"y_pred_prob_1\": 0.10966069933040684}, {\"y_test\": 0.0, \"y_pred\": 0.0, \"pred_bool\": true, \"y_pred_prob_1\": 0.4902576673800082}, {\"y_test\": 0.0, \"y_pred\": 0.0, \"pred_bool\": true, \"y_pred_prob_1\": 0.048024284920892994}, {\"y_test\": 0.0, \"y_pred\": 0.0, \"pred_bool\": true, \"y_pred_prob_1\": 0.4951160715596012}, {\"y_test\": 0.0, \"y_pred\": 0.0, \"pred_bool\": true, \"y_pred_prob_1\": 0.16981450773809445}, {\"y_test\": 1.0, \"y_pred\": 1.0, \"pred_bool\": true, \"y_pred_prob_1\": 0.7277534917988376}, {\"y_test\": 0.0, \"y_pred\": 0.0, \"pred_bool\": true, \"y_pred_prob_1\": 0.1719621992718972}, {\"y_test\": 1.0, \"y_pred\": 1.0, \"pred_bool\": true, \"y_pred_prob_1\": 0.6258380258040054}, {\"y_test\": 0.0, \"y_pred\": 0.0, \"pred_bool\": true, \"y_pred_prob_1\": 0.38343551376985474}, {\"y_test\": 1.0, \"y_pred\": 0.0, \"pred_bool\": false, \"y_pred_prob_1\": 0.3191876533127959}, {\"y_test\": 0.0, \"y_pred\": 0.0, \"pred_bool\": true, \"y_pred_prob_1\": 0.1840568629866925}, {\"y_test\": 1.0, \"y_pred\": 0.0, \"pred_bool\": false, \"y_pred_prob_1\": 0.3294004787642179}, {\"y_test\": 0.0, \"y_pred\": 0.0, \"pred_bool\": true, \"y_pred_prob_1\": 0.15999164669579805}, {\"y_test\": 0.0, \"y_pred\": 0.0, \"pred_bool\": true, \"y_pred_prob_1\": 0.33307390991506247}, {\"y_test\": 0.0, \"y_pred\": 0.0, \"pred_bool\": true, \"y_pred_prob_1\": 0.265328937062556}, {\"y_test\": 0.0, \"y_pred\": 0.0, \"pred_bool\": true, \"y_pred_prob_1\": 0.308424103438014}, {\"y_test\": 1.0, \"y_pred\": 0.0, \"pred_bool\": false, \"y_pred_prob_1\": 0.39429387636111823}, {\"y_test\": 1.0, \"y_pred\": 0.0, \"pred_bool\": false, \"y_pred_prob_1\": 0.18515925647294776}, {\"y_test\": 0.0, \"y_pred\": 0.0, \"pred_bool\": true, \"y_pred_prob_1\": 0.14287333948967734}, {\"y_test\": 1.0, \"y_pred\": 0.0, \"pred_bool\": false, \"y_pred_prob_1\": 0.13370518071024037}, {\"y_test\": 1.0, \"y_pred\": 1.0, \"pred_bool\": true, \"y_pred_prob_1\": 0.650532303329306}, {\"y_test\": 0.0, \"y_pred\": 1.0, \"pred_bool\": false, \"y_pred_prob_1\": 0.6410420406311548}, {\"y_test\": 1.0, \"y_pred\": 1.0, \"pred_bool\": true, \"y_pred_prob_1\": 0.7468818515859775}, {\"y_test\": 0.0, \"y_pred\": 0.0, \"pred_bool\": true, \"y_pred_prob_1\": 0.11128325529790035}, {\"y_test\": 1.0, \"y_pred\": 1.0, \"pred_bool\": true, \"y_pred_prob_1\": 0.7507134753216467}, {\"y_test\": 0.0, \"y_pred\": 0.0, \"pred_bool\": true, \"y_pred_prob_1\": 0.2968488773560334}, {\"y_test\": 0.0, \"y_pred\": 0.0, \"pred_bool\": true, \"y_pred_prob_1\": 0.29691758289578246}, {\"y_test\": 0.0, \"y_pred\": 0.0, \"pred_bool\": true, \"y_pred_prob_1\": 0.20272190924371827}, {\"y_test\": 1.0, \"y_pred\": 0.0, \"pred_bool\": false, \"y_pred_prob_1\": 0.3058611658285832}, {\"y_test\": 0.0, \"y_pred\": 0.0, \"pred_bool\": true, \"y_pred_prob_1\": 0.11587010750164108}, {\"y_test\": 0.0, \"y_pred\": 0.0, \"pred_bool\": true, \"y_pred_prob_1\": 0.08164201654295226}, {\"y_test\": 0.0, \"y_pred\": 0.0, \"pred_bool\": true, \"y_pred_prob_1\": 0.3365376263893239}, {\"y_test\": 0.0, \"y_pred\": 0.0, \"pred_bool\": true, \"y_pred_prob_1\": 0.1936847185336361}, {\"y_test\": 0.0, \"y_pred\": 0.0, \"pred_bool\": true, \"y_pred_prob_1\": 0.309644707164058}, {\"y_test\": 0.0, \"y_pred\": 0.0, \"pred_bool\": true, \"y_pred_prob_1\": 0.0931607155698674}, {\"y_test\": 0.0, \"y_pred\": 1.0, \"pred_bool\": false, \"y_pred_prob_1\": 0.634389585158224}, {\"y_test\": 1.0, \"y_pred\": 0.0, \"pred_bool\": false, \"y_pred_prob_1\": 0.48223605945664894}, {\"y_test\": 1.0, \"y_pred\": 1.0, \"pred_bool\": true, \"y_pred_prob_1\": 0.603587898163619}, {\"y_test\": 1.0, \"y_pred\": 0.0, \"pred_bool\": false, \"y_pred_prob_1\": 0.290301890913165}, {\"y_test\": 0.0, \"y_pred\": 0.0, \"pred_bool\": true, \"y_pred_prob_1\": 0.07230066340122655}, {\"y_test\": 1.0, \"y_pred\": 1.0, \"pred_bool\": true, \"y_pred_prob_1\": 0.5570823938058403}, {\"y_test\": 0.0, \"y_pred\": 0.0, \"pred_bool\": true, \"y_pred_prob_1\": 0.14489398089760738}, {\"y_test\": 0.0, \"y_pred\": 0.0, \"pred_bool\": true, \"y_pred_prob_1\": 0.059535252445791685}, {\"y_test\": 0.0, \"y_pred\": 0.0, \"pred_bool\": true, \"y_pred_prob_1\": 0.3199814668757749}, {\"y_test\": 0.0, \"y_pred\": 0.0, \"pred_bool\": true, \"y_pred_prob_1\": 0.164897686915271}, {\"y_test\": 0.0, \"y_pred\": 1.0, \"pred_bool\": false, \"y_pred_prob_1\": 0.7083701462587937}, {\"y_test\": 0.0, \"y_pred\": 0.0, \"pred_bool\": true, \"y_pred_prob_1\": 0.10209226229666203}, {\"y_test\": 1.0, \"y_pred\": 1.0, \"pred_bool\": true, \"y_pred_prob_1\": 0.5464398826460287}, {\"y_test\": 1.0, \"y_pred\": 0.0, \"pred_bool\": false, \"y_pred_prob_1\": 0.26799867592124227}, {\"y_test\": 0.0, \"y_pred\": 0.0, \"pred_bool\": true, \"y_pred_prob_1\": 0.20496484075944685}, {\"y_test\": 0.0, \"y_pred\": 0.0, \"pred_bool\": true, \"y_pred_prob_1\": 0.12779684401831393}, {\"y_test\": 0.0, \"y_pred\": 0.0, \"pred_bool\": true, \"y_pred_prob_1\": 0.18504886559020908}, {\"y_test\": 1.0, \"y_pred\": 1.0, \"pred_bool\": true, \"y_pred_prob_1\": 0.5861963278124374}, {\"y_test\": 1.0, \"y_pred\": 1.0, \"pred_bool\": true, \"y_pred_prob_1\": 0.6840156849339297}, {\"y_test\": 0.0, \"y_pred\": 0.0, \"pred_bool\": true, \"y_pred_prob_1\": 0.17465519202775295}, {\"y_test\": 0.0, \"y_pred\": 0.0, \"pred_bool\": true, \"y_pred_prob_1\": 0.06866337475166935}, {\"y_test\": 0.0, \"y_pred\": 0.0, \"pred_bool\": true, \"y_pred_prob_1\": 0.08592851129311607}, {\"y_test\": 0.0, \"y_pred\": 1.0, \"pred_bool\": false, \"y_pred_prob_1\": 0.6718124785077554}, {\"y_test\": 0.0, \"y_pred\": 0.0, \"pred_bool\": true, \"y_pred_prob_1\": 0.3069434230480309}, {\"y_test\": 0.0, \"y_pred\": 0.0, \"pred_bool\": true, \"y_pred_prob_1\": 0.45886924255698164}, {\"y_test\": 0.0, \"y_pred\": 0.0, \"pred_bool\": true, \"y_pred_prob_1\": 0.20597467079026766}, {\"y_test\": 1.0, \"y_pred\": 1.0, \"pred_bool\": true, \"y_pred_prob_1\": 0.5653280264807145}, {\"y_test\": 0.0, \"y_pred\": 1.0, \"pred_bool\": false, \"y_pred_prob_1\": 0.6277872917954618}, {\"y_test\": 1.0, \"y_pred\": 0.0, \"pred_bool\": false, \"y_pred_prob_1\": 0.27644718343045604}, {\"y_test\": 0.0, \"y_pred\": 0.0, \"pred_bool\": true, \"y_pred_prob_1\": 0.03041917238229927}, {\"y_test\": 0.0, \"y_pred\": 0.0, \"pred_bool\": true, \"y_pred_prob_1\": 0.11810424467731014}, {\"y_test\": 1.0, \"y_pred\": 1.0, \"pred_bool\": true, \"y_pred_prob_1\": 0.7819238326535523}, {\"y_test\": 0.0, \"y_pred\": 1.0, \"pred_bool\": false, \"y_pred_prob_1\": 0.8102240483274439}, {\"y_test\": 1.0, \"y_pred\": 1.0, \"pred_bool\": true, \"y_pred_prob_1\": 0.6420026684734369}, {\"y_test\": 0.0, \"y_pred\": 0.0, \"pred_bool\": true, \"y_pred_prob_1\": 0.18704904690818408}, {\"y_test\": 0.0, \"y_pred\": 0.0, \"pred_bool\": true, \"y_pred_prob_1\": 0.2473639867625946}, {\"y_test\": 0.0, \"y_pred\": 0.0, \"pred_bool\": true, \"y_pred_prob_1\": 0.04371603308836522}, {\"y_test\": 0.0, \"y_pred\": 0.0, \"pred_bool\": true, \"y_pred_prob_1\": 0.3518959971797292}, {\"y_test\": 1.0, \"y_pred\": 1.0, \"pred_bool\": true, \"y_pred_prob_1\": 0.6006155262605635}, {\"y_test\": 1.0, \"y_pred\": 0.0, \"pred_bool\": false, \"y_pred_prob_1\": 0.18911316191170952}, {\"y_test\": 0.0, \"y_pred\": 0.0, \"pred_bool\": true, \"y_pred_prob_1\": 0.15730101448753295}, {\"y_test\": 1.0, \"y_pred\": 1.0, \"pred_bool\": true, \"y_pred_prob_1\": 0.5706655984476504}, {\"y_test\": 1.0, \"y_pred\": 0.0, \"pred_bool\": false, \"y_pred_prob_1\": 0.36624581401033746}, {\"y_test\": 1.0, \"y_pred\": 1.0, \"pred_bool\": true, \"y_pred_prob_1\": 0.7682919639868414}, {\"y_test\": 1.0, \"y_pred\": 1.0, \"pred_bool\": true, \"y_pred_prob_1\": 0.7423506799710442}, {\"y_test\": 0.0, \"y_pred\": 0.0, \"pred_bool\": true, \"y_pred_prob_1\": 0.29393628174806236}, {\"y_test\": 0.0, \"y_pred\": 0.0, \"pred_bool\": true, \"y_pred_prob_1\": 0.09066477548191763}, {\"y_test\": 1.0, \"y_pred\": 0.0, \"pred_bool\": false, \"y_pred_prob_1\": 0.32247100113639426}, {\"y_test\": 0.0, \"y_pred\": 0.0, \"pred_bool\": true, \"y_pred_prob_1\": 0.220002456804802}, {\"y_test\": 1.0, \"y_pred\": 1.0, \"pred_bool\": true, \"y_pred_prob_1\": 0.6883275578705191}, {\"y_test\": 1.0, \"y_pred\": 1.0, \"pred_bool\": true, \"y_pred_prob_1\": 0.5516507083891606}, {\"y_test\": 1.0, \"y_pred\": 1.0, \"pred_bool\": true, \"y_pred_prob_1\": 0.7037641997316777}, {\"y_test\": 0.0, \"y_pred\": 0.0, \"pred_bool\": true, \"y_pred_prob_1\": 0.28417063507514656}, {\"y_test\": 0.0, \"y_pred\": 0.0, \"pred_bool\": true, \"y_pred_prob_1\": 0.3704191887087674}, {\"y_test\": 1.0, \"y_pred\": 1.0, \"pred_bool\": true, \"y_pred_prob_1\": 0.7200177940061021}, {\"y_test\": 0.0, \"y_pred\": 1.0, \"pred_bool\": false, \"y_pred_prob_1\": 0.6331306901357563}, {\"y_test\": 0.0, \"y_pred\": 0.0, \"pred_bool\": true, \"y_pred_prob_1\": 0.18654610620589032}, {\"y_test\": 0.0, \"y_pred\": 0.0, \"pred_bool\": true, \"y_pred_prob_1\": 0.1337441434306244}, {\"y_test\": 0.0, \"y_pred\": 0.0, \"pred_bool\": true, \"y_pred_prob_1\": 0.31853367396333704}, {\"y_test\": 0.0, \"y_pred\": 0.0, \"pred_bool\": true, \"y_pred_prob_1\": 0.3234522007347514}, {\"y_test\": 0.0, \"y_pred\": 0.0, \"pred_bool\": true, \"y_pred_prob_1\": 0.09096836531936127}, {\"y_test\": 1.0, \"y_pred\": 1.0, \"pred_bool\": true, \"y_pred_prob_1\": 0.8198740713357379}, {\"y_test\": 1.0, \"y_pred\": 0.0, \"pred_bool\": false, \"y_pred_prob_1\": 0.48920435481759866}, {\"y_test\": 0.0, \"y_pred\": 0.0, \"pred_bool\": true, \"y_pred_prob_1\": 0.3529736360240642}, {\"y_test\": 0.0, \"y_pred\": 0.0, \"pred_bool\": true, \"y_pred_prob_1\": 0.262223314451144}, {\"y_test\": 0.0, \"y_pred\": 0.0, \"pred_bool\": true, \"y_pred_prob_1\": 0.36554305274665316}, {\"y_test\": 0.0, \"y_pred\": 1.0, \"pred_bool\": false, \"y_pred_prob_1\": 0.6214253647230592}, {\"y_test\": 0.0, \"y_pred\": 0.0, \"pred_bool\": true, \"y_pred_prob_1\": 0.2569909212834239}, {\"y_test\": 0.0, \"y_pred\": 0.0, \"pred_bool\": true, \"y_pred_prob_1\": 0.10382476342158356}, {\"y_test\": 0.0, \"y_pred\": 0.0, \"pred_bool\": true, \"y_pred_prob_1\": 0.19373169578256602}, {\"y_test\": 1.0, \"y_pred\": 0.0, \"pred_bool\": false, \"y_pred_prob_1\": 0.3171276318389671}, {\"y_test\": 0.0, \"y_pred\": 0.0, \"pred_bool\": true, \"y_pred_prob_1\": 0.40633930370581534}, {\"y_test\": 0.0, \"y_pred\": 0.0, \"pred_bool\": true, \"y_pred_prob_1\": 0.3840299228365822}, {\"y_test\": 0.0, \"y_pred\": 0.0, \"pred_bool\": true, \"y_pred_prob_1\": 0.09554814919305807}, {\"y_test\": 1.0, \"y_pred\": 0.0, \"pred_bool\": false, \"y_pred_prob_1\": 0.48260999299370494}, {\"y_test\": 0.0, \"y_pred\": 0.0, \"pred_bool\": true, \"y_pred_prob_1\": 0.3525002877289556}, {\"y_test\": 0.0, \"y_pred\": 0.0, \"pred_bool\": true, \"y_pred_prob_1\": 0.4749132216328517}, {\"y_test\": 0.0, \"y_pred\": 0.0, \"pred_bool\": true, \"y_pred_prob_1\": 0.1290444396478537}, {\"y_test\": 0.0, \"y_pred\": 1.0, \"pred_bool\": false, \"y_pred_prob_1\": 0.5357154497158421}, {\"y_test\": 1.0, \"y_pred\": 0.0, \"pred_bool\": false, \"y_pred_prob_1\": 0.31210131621567694}, {\"y_test\": 0.0, \"y_pred\": 0.0, \"pred_bool\": true, \"y_pred_prob_1\": 0.1627446909512233}, {\"y_test\": 0.0, \"y_pred\": 0.0, \"pred_bool\": true, \"y_pred_prob_1\": 0.4504187956677329}, {\"y_test\": 1.0, \"y_pred\": 0.0, \"pred_bool\": false, \"y_pred_prob_1\": 0.3590492809833343}, {\"y_test\": 1.0, \"y_pred\": 0.0, \"pred_bool\": false, \"y_pred_prob_1\": 0.4636928348996324}, {\"y_test\": 0.0, \"y_pred\": 0.0, \"pred_bool\": true, \"y_pred_prob_1\": 0.48221028852661596}, {\"y_test\": 0.0, \"y_pred\": 0.0, \"pred_bool\": true, \"y_pred_prob_1\": 0.30546025076971384}, {\"y_test\": 1.0, \"y_pred\": 0.0, \"pred_bool\": false, \"y_pred_prob_1\": 0.26063271889756884}, {\"y_test\": 0.0, \"y_pred\": 0.0, \"pred_bool\": true, \"y_pred_prob_1\": 0.2744714368820292}, {\"y_test\": 0.0, \"y_pred\": 0.0, \"pred_bool\": true, \"y_pred_prob_1\": 0.038815351703795846}, {\"y_test\": 1.0, \"y_pred\": 0.0, \"pred_bool\": false, \"y_pred_prob_1\": 0.2522971200777817}, {\"y_test\": 0.0, \"y_pred\": 0.0, \"pred_bool\": true, \"y_pred_prob_1\": 0.12773548937899495}, {\"y_test\": 1.0, \"y_pred\": 0.0, \"pred_bool\": false, \"y_pred_prob_1\": 0.27040693102536156}, {\"y_test\": 0.0, \"y_pred\": 0.0, \"pred_bool\": true, \"y_pred_prob_1\": 0.10233894332157975}, {\"y_test\": 1.0, \"y_pred\": 0.0, \"pred_bool\": false, \"y_pred_prob_1\": 0.28906748288260986}, {\"y_test\": 0.0, \"y_pred\": 1.0, \"pred_bool\": false, \"y_pred_prob_1\": 0.6840731307803949}, {\"y_test\": 0.0, \"y_pred\": 0.0, \"pred_bool\": true, \"y_pred_prob_1\": 0.25521031759233176}, {\"y_test\": 0.0, \"y_pred\": 0.0, \"pred_bool\": true, \"y_pred_prob_1\": 0.4287355173511993}, {\"y_test\": 0.0, \"y_pred\": 0.0, \"pred_bool\": true, \"y_pred_prob_1\": 0.13011927132673431}, {\"y_test\": 0.0, \"y_pred\": 0.0, \"pred_bool\": true, \"y_pred_prob_1\": 0.2629991377841585}, {\"y_test\": 1.0, \"y_pred\": 1.0, \"pred_bool\": true, \"y_pred_prob_1\": 0.5354872438655099}, {\"y_test\": 0.0, \"y_pred\": 0.0, \"pred_bool\": true, \"y_pred_prob_1\": 0.13022325579881833}, {\"y_test\": 0.0, \"y_pred\": 0.0, \"pred_bool\": true, \"y_pred_prob_1\": 0.08188524446541783}, {\"y_test\": 0.0, \"y_pred\": 0.0, \"pred_bool\": true, \"y_pred_prob_1\": 0.20380250903197214}, {\"y_test\": 1.0, \"y_pred\": 0.0, \"pred_bool\": false, \"y_pred_prob_1\": 0.3460487862884333}, {\"y_test\": 0.0, \"y_pred\": 0.0, \"pred_bool\": true, \"y_pred_prob_1\": 0.4764697707505846}, {\"y_test\": 1.0, \"y_pred\": 0.0, \"pred_bool\": false, \"y_pred_prob_1\": 0.4927627539209881}, {\"y_test\": 1.0, \"y_pred\": 1.0, \"pred_bool\": true, \"y_pred_prob_1\": 0.774637268680088}, {\"y_test\": 0.0, \"y_pred\": 0.0, \"pred_bool\": true, \"y_pred_prob_1\": 0.1745909389245176}, {\"y_test\": 0.0, \"y_pred\": 0.0, \"pred_bool\": true, \"y_pred_prob_1\": 0.21923816468923932}, {\"y_test\": 1.0, \"y_pred\": 1.0, \"pred_bool\": true, \"y_pred_prob_1\": 0.5606913240022305}, {\"y_test\": 0.0, \"y_pred\": 0.0, \"pred_bool\": true, \"y_pred_prob_1\": 0.20761327698380577}, {\"y_test\": 0.0, \"y_pred\": 0.0, \"pred_bool\": true, \"y_pred_prob_1\": 0.07966985172948603}, {\"y_test\": 1.0, \"y_pred\": 1.0, \"pred_bool\": true, \"y_pred_prob_1\": 0.5237655975527673}, {\"y_test\": 1.0, \"y_pred\": 0.0, \"pred_bool\": false, \"y_pred_prob_1\": 0.3443015830916393}, {\"y_test\": 0.0, \"y_pred\": 0.0, \"pred_bool\": true, \"y_pred_prob_1\": 0.20515393827594364}, {\"y_test\": 1.0, \"y_pred\": 0.0, \"pred_bool\": false, \"y_pred_prob_1\": 0.43744451682194535}, {\"y_test\": 1.0, \"y_pred\": 0.0, \"pred_bool\": false, \"y_pred_prob_1\": 0.4509805009351976}, {\"y_test\": 1.0, \"y_pred\": 1.0, \"pred_bool\": true, \"y_pred_prob_1\": 0.72562993405084}, {\"y_test\": 0.0, \"y_pred\": 0.0, \"pred_bool\": true, \"y_pred_prob_1\": 0.103200548036161}, {\"y_test\": 0.0, \"y_pred\": 0.0, \"pred_bool\": true, \"y_pred_prob_1\": 0.3621285977463244}, {\"y_test\": 0.0, \"y_pred\": 0.0, \"pred_bool\": true, \"y_pred_prob_1\": 0.1987124573763203}, {\"y_test\": 0.0, \"y_pred\": 0.0, \"pred_bool\": true, \"y_pred_prob_1\": 0.2274608984506859}, {\"y_test\": 1.0, \"y_pred\": 0.0, \"pred_bool\": false, \"y_pred_prob_1\": 0.3952596458406784}, {\"y_test\": 1.0, \"y_pred\": 0.0, \"pred_bool\": false, \"y_pred_prob_1\": 0.18466554120430717}, {\"y_test\": 0.0, \"y_pred\": 0.0, \"pred_bool\": true, \"y_pred_prob_1\": 0.4032681833890268}, {\"y_test\": 0.0, \"y_pred\": 1.0, \"pred_bool\": false, \"y_pred_prob_1\": 0.8764552812637418}, {\"y_test\": 1.0, \"y_pred\": 0.0, \"pred_bool\": false, \"y_pred_prob_1\": 0.4294294178981332}, {\"y_test\": 1.0, \"y_pred\": 1.0, \"pred_bool\": true, \"y_pred_prob_1\": 0.540795379257238}, {\"y_test\": 1.0, \"y_pred\": 0.0, \"pred_bool\": false, \"y_pred_prob_1\": 0.3347385717957454}, {\"y_test\": 0.0, \"y_pred\": 0.0, \"pred_bool\": true, \"y_pred_prob_1\": 0.1438039979997998}, {\"y_test\": 0.0, \"y_pred\": 0.0, \"pred_bool\": true, \"y_pred_prob_1\": 0.2600952113778753}, {\"y_test\": 0.0, \"y_pred\": 0.0, \"pred_bool\": true, \"y_pred_prob_1\": 0.4993127931754751}, {\"y_test\": 0.0, \"y_pred\": 0.0, \"pred_bool\": true, \"y_pred_prob_1\": 0.10308505744372151}, {\"y_test\": 1.0, \"y_pred\": 1.0, \"pred_bool\": true, \"y_pred_prob_1\": 0.6730697767763943}, {\"y_test\": 1.0, \"y_pred\": 0.0, \"pred_bool\": false, \"y_pred_prob_1\": 0.28165347548911335}, {\"y_test\": 0.0, \"y_pred\": 0.0, \"pred_bool\": true, \"y_pred_prob_1\": 0.3411034486928796}, {\"y_test\": 1.0, \"y_pred\": 0.0, \"pred_bool\": false, \"y_pred_prob_1\": 0.2750192525022998}, {\"y_test\": 0.0, \"y_pred\": 0.0, \"pred_bool\": true, \"y_pred_prob_1\": 0.32506221237146965}, {\"y_test\": 0.0, \"y_pred\": 0.0, \"pred_bool\": true, \"y_pred_prob_1\": 0.09637123958565737}, {\"y_test\": 0.0, \"y_pred\": 0.0, \"pred_bool\": true, \"y_pred_prob_1\": 0.3249264791432638}, {\"y_test\": 0.0, \"y_pred\": 0.0, \"pred_bool\": true, \"y_pred_prob_1\": 0.1467326568242948}, {\"y_test\": 0.0, \"y_pred\": 0.0, \"pred_bool\": true, \"y_pred_prob_1\": 0.1366430393909586}, {\"y_test\": 1.0, \"y_pred\": 1.0, \"pred_bool\": true, \"y_pred_prob_1\": 0.7498484335093696}, {\"y_test\": 0.0, \"y_pred\": 0.0, \"pred_bool\": true, \"y_pred_prob_1\": 0.2875451404010715}, {\"y_test\": 0.0, \"y_pred\": 0.0, \"pred_bool\": true, \"y_pred_prob_1\": 0.22498356325792596}, {\"y_test\": 1.0, \"y_pred\": 1.0, \"pred_bool\": true, \"y_pred_prob_1\": 0.5987489620419112}, {\"y_test\": 0.0, \"y_pred\": 0.0, \"pred_bool\": true, \"y_pred_prob_1\": 0.30469896981139644}, {\"y_test\": 1.0, \"y_pred\": 1.0, \"pred_bool\": true, \"y_pred_prob_1\": 0.5104120489845229}, {\"y_test\": 1.0, \"y_pred\": 0.0, \"pred_bool\": false, \"y_pred_prob_1\": 0.39015350656391073}, {\"y_test\": 0.0, \"y_pred\": 0.0, \"pred_bool\": true, \"y_pred_prob_1\": 0.11988600810097588}, {\"y_test\": 0.0, \"y_pred\": 0.0, \"pred_bool\": true, \"y_pred_prob_1\": 0.2694894420800999}, {\"y_test\": 1.0, \"y_pred\": 1.0, \"pred_bool\": true, \"y_pred_prob_1\": 0.6292145359560943}, {\"y_test\": 1.0, \"y_pred\": 1.0, \"pred_bool\": true, \"y_pred_prob_1\": 0.8755778612506033}, {\"y_test\": 1.0, \"y_pred\": 0.0, \"pred_bool\": false, \"y_pred_prob_1\": 0.26934597717136477}, {\"y_test\": 1.0, \"y_pred\": 0.0, \"pred_bool\": false, \"y_pred_prob_1\": 0.406707634671114}, {\"y_test\": 0.0, \"y_pred\": 0.0, \"pred_bool\": true, \"y_pred_prob_1\": 0.22693707007499772}, {\"y_test\": 1.0, \"y_pred\": 1.0, \"pred_bool\": true, \"y_pred_prob_1\": 0.5552097295166774}, {\"y_test\": 0.0, \"y_pred\": 0.0, \"pred_bool\": true, \"y_pred_prob_1\": 0.23962981966903116}, {\"y_test\": 0.0, \"y_pred\": 0.0, \"pred_bool\": true, \"y_pred_prob_1\": 0.051152264302379256}, {\"y_test\": 1.0, \"y_pred\": 1.0, \"pred_bool\": true, \"y_pred_prob_1\": 0.5249250052238673}, {\"y_test\": 1.0, \"y_pred\": 1.0, \"pred_bool\": true, \"y_pred_prob_1\": 0.6077851179053863}, {\"y_test\": 0.0, \"y_pred\": 0.0, \"pred_bool\": true, \"y_pred_prob_1\": 0.2550068974032657}, {\"y_test\": 0.0, \"y_pred\": 0.0, \"pred_bool\": true, \"y_pred_prob_1\": 0.10656869282434119}, {\"y_test\": 1.0, \"y_pred\": 0.0, \"pred_bool\": false, \"y_pred_prob_1\": 0.3004813999177507}, {\"y_test\": 0.0, \"y_pred\": 0.0, \"pred_bool\": true, \"y_pred_prob_1\": 0.11771962750615535}, {\"y_test\": 1.0, \"y_pred\": 0.0, \"pred_bool\": false, \"y_pred_prob_1\": 0.1930267413159738}, {\"y_test\": 0.0, \"y_pred\": 0.0, \"pred_bool\": true, \"y_pred_prob_1\": 0.38752665785451895}, {\"y_test\": 0.0, \"y_pred\": 0.0, \"pred_bool\": true, \"y_pred_prob_1\": 0.19677943435121392}, {\"y_test\": 0.0, \"y_pred\": 1.0, \"pred_bool\": false, \"y_pred_prob_1\": 0.530168391367062}, {\"y_test\": 0.0, \"y_pred\": 0.0, \"pred_bool\": true, \"y_pred_prob_1\": 0.09055386782755805}, {\"y_test\": 0.0, \"y_pred\": 0.0, \"pred_bool\": true, \"y_pred_prob_1\": 0.3130507731778957}, {\"y_test\": 1.0, \"y_pred\": 0.0, \"pred_bool\": false, \"y_pred_prob_1\": 0.4988436762102726}, {\"y_test\": 0.0, \"y_pred\": 1.0, \"pred_bool\": false, \"y_pred_prob_1\": 0.5818028425606461}]}}, {\"mode\": \"vega-lite\"});\n",
       "</script>"
      ],
      "text/plain": [
       "alt.Chart(...)"
      ]
     },
     "execution_count": 32,
     "metadata": {},
     "output_type": "execute_result"
    }
   ],
   "source": [
    "alt.Chart(pred_results_1_df, title = 'Test Set Prediction Accuracy').mark_tick().encode(\n",
    "    x = alt.X('y_pred_prob_1').title('Positive Class Prediction Prob'),\n",
    "    y = alt.Y('pred_bool').title('Pred. Accuracy'),\n",
    "    color = alt.Color('y_test:N').title('Outcome')\n",
    ")"
   ]
  },
  {
   "cell_type": "markdown",
   "id": "355be816-f4fe-4416-920c-7f8d922daac3",
   "metadata": {},
   "source": [
    "<i>Figure 4. Test Set Prediction Accuracy by Prediction Probability<i>"
   ]
  },
  {
   "cell_type": "markdown",
   "id": "7c5157e9-de23-4f0f-bdcd-7e3e508f3572",
   "metadata": {},
   "source": [
    "# Discussion\n",
    "\n",
    "While the performance of this model may be valuable as a screening tool in a clinical context, especially given its improvements over the baseline, there are several opportunities for further enhancement. One potential approach is to closely examine the 54 misclassified observations, comparing them with correctly classified examples from both classes. The objective would be to identify which features may be contributing to the misclassifications and investigate whether feature engineering could help the model improve its predictions on the observations it is currently struggling with. Additionally, we would try seeing whether we can get improved predictions using other classifiers. Other classifiers we might try are 1) random forest because it automatically allows for feature interaction, 2) k-nearest neighbours (k-NN) which usually provides easily interpretable and decent predictions, and 3) support vector classifier (SVC) as it allows for non-linear prediction using the rbf kernel. Finally, there runs the possibility that the features offered from this dataset alone are not sufficient to predict with high accuracy. In this case, conducting additional conversations with data collectors for additional useable information or explore additional datasets that can be joined so our set of features can be expanded for more complicated analysis might be beneficial. \n",
    "\n",
    "At last, we recognize the limitation with this dataset, as it focuses solely on Pima Indian women aged 21 and older, which limits its generalizability to other populations. To improve the analysis, it would be valuable to combine this data with other datasets representing different age groups, genders, and ethnicities, enabling more comprehensive insights and broader applicability of the findings."
   ]
  },
  {
   "cell_type": "markdown",
   "id": "700e47a0-e251-4d4b-830e-f23525e120f9",
   "metadata": {},
   "source": [
    "# Conclusion\n",
    "\n",
    "In conclusion, this study demonstrated the effectiveness of logistic regression in predicting diabetes among Pima Indian women using diagnostic features such as glucose, BMI, and pregnancies. With an accuracy of 75% on the test set, the model outperformed the baseline Dummy Classifier's 67.20%. Glucose was identified as the most influential predictor, followed by BMI and pregnancies, while features like blood pressure, insulin, and skin thickness had weaker impacts. However, the model's 54 misclassifications, particularly the 35 false negatives, underscore the need for further refinement to minimize the risk of undiagnosed cases.\n",
    "\n",
    "These findings highlight logistic regression's potential as an initial screening tool in clinical settings, offering a data-driven approach to early diabetes detection. Nevertheless, improvements are essential to enhance its accuracy and practical utility. Strategies such as feature engineering, alternative machine learning models, and the incorporation of additional data, such as lifestyle or genetic factors, could further optimize performance. Additionally, providing probability estimates for predictions could enhance clinical decision-making by identifying cases requiring further diagnostics. With these refinements, the model could become a valuable tool for reducing complications and improving outcomes in diabetes care."
   ]
  },
  {
   "cell_type": "markdown",
   "id": "973fcb4d-ee7e-4367-a0d6-8e674bf4eb85",
   "metadata": {},
   "source": [
    "# References"
   ]
  },
  {
   "cell_type": "markdown",
   "id": "13a22e58-2428-4858-bef1-c90c600813d1",
   "metadata": {},
   "source": [
    "Agarwal, N., & Vadiwala, R. (2022). Machine Learning and Data Mining Methods in Diabetes Research. Asian Journal of Organic & Medicinal Chemistry.\n",
    " \n",
    "Battineni, G., Sagaro, G. G., Chinatalapudi, N., & Amenta, F. (2020). Applications of machine learning predictive models in the chronic disease diagnosis. Journal of personalized medicine, 10(2), 21.\n",
    " \n",
    "Bini, S. A. (2018). Artificial intelligence, machine learning, deep learning, and cognitive computing: what do these terms mean and how will they impact health care?. The Journal of arthroplasty, 33(8), 2358-2361.\n",
    " \n",
    "Dua, D., & Graff, C. (2017). Pima Indians Diabetes Database. UCI Machine Learning Repository. Retrieved from https://www.kaggle.com/datasets/uciml/pima-indians-diabetes-database/data\n",
    "\n",
    "Harris, C. R., Millman, K. J., van der Walt, S. J., Gommers, R., Virtanen, P., Cournapeau, D., ... & Oliphant, T. E. (2020). Array programming with NumPy. Nature, 585(7825), 357–362. https://doi.org/10.1038/s41586-020-2649-2\n",
    "\n",
    "McKinney, W. (2010). Data structures for statistical computing in Python. In S. van der Walt & J. Millman (Eds.), Proceedings of the 9th Python in Science Conference (pp. 51–56).\n",
    "\n",
    "Marshall, S. M., & Flyvbjerg, A. (2006). Prevention and early detection of vascular complications of diabetes. Bmj, 333(7566), 475-480.\n",
    "\n",
    "Ostblom, J. (2021). altair_ally: Enhancing Altair for statistical visualization. Retrieved from https://github.com/jostblom/altair_ally\n",
    "\n",
    "Pedregosa, F., Varoquaux, G., Gramfort, A., Michel, V., Thirion, B., Grisel, O., ... & Duchesnay, É. (2011). Scikit-learn: Machine learning in Python. Journal of Machine Learning Research, 12(October), 2825–2830.\n",
    "\n",
    "VanderPlas, J., Granger, B., Heer, J., Moritz, D., Wongsuphasawat, K., Satyanarayan, A., ... & Sievert, S. (2018). Altair: Interactive statistical visualizations for Python. Journal of Open Source Software, 3(32), 1057. https://doi.org/10.21105/joss.01057\n",
    "\n",
    "Van Rossum, G., & Drake, F. L. (2009). Python 3 reference manual. Scotts Valley, CA: CreateSpace.\n",
    "  \n",
    "World Health Organization. (n.d.). Diabetes. Retrieved November 22, 2024, from https://www.who.int/news-room/fact-sheets/detail/diabetes"
   ]
  }
 ],
 "metadata": {
  "kernelspec": {
   "display_name": "Python 3 (ipykernel)",
   "language": "python",
   "name": "python3"
  },
  "language_info": {
   "codemirror_mode": {
    "name": "ipython",
    "version": 3
   },
   "file_extension": ".py",
   "mimetype": "text/x-python",
   "name": "python",
   "nbconvert_exporter": "python",
   "pygments_lexer": "ipython3",
   "version": "3.11.10"
  }
 },
 "nbformat": 4,
 "nbformat_minor": 5
}
