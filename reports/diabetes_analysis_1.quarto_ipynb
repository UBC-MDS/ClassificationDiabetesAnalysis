{
  "cells": [
    {
      "cell_type": "markdown",
      "metadata": {},
      "source": [
        "---\n",
        "title: Predicting Diabetes in Pima Indian Women Using Logistic Regression\n",
        "author: \"Inder Khera, Jenny Zhang, Jessica Kuo, Javier Martinez (alphabetically ordered)\"\n",
        "date: \"2023/12/08\"\n",
        "jupyter: python3\n",
        "format: \n",
        "    html:\n",
        "        toc: true\n",
        "        toc-depth: 3\n",
        "    pdf:\n",
        "        toc: true\n",
        "        toc-depth: 3\n",
        "bibliography: references.bib\n",
        "execute:\n",
        "  echo: false\n",
        "  warning: false\n",
        "editor: source\n",
        "---"
      ],
      "id": "77d81b30"
    },
    {
      "cell_type": "code",
      "metadata": {},
      "source": [
        "import pandas as pd\n",
        "from IPython.display import Markdown, display\n",
        "from tabulate import tabulate\n",
        "import numpy as np\n",
        "from scipy.stats import loguniform\n",
        "\n",
        "import altair as alt\n",
        "import altair_ally as aly\n",
        "\n",
        "from sklearn.pipeline import Pipeline, make_pipeline\n",
        "from sklearn.model_selection import (\n",
        "    RandomizedSearchCV,\n",
        "    cross_validate,\n",
        "    cross_val_score,\n",
        "    train_test_split,\n",
        ")\n",
        "from sklearn.preprocessing import StandardScaler\n",
        "from sklearn.pipeline import Pipeline, make_pipeline\n",
        "from sklearn.compose import make_column_transformer\n",
        "from sklearn.dummy import DummyClassifier\n",
        "from sklearn.linear_model import LogisticRegression\n",
        "\n",
        "import pandera as pa\n",
        "from deepchecks.tabular import Dataset\n",
        "from deepchecks.tabular.checks import (\n",
        "    ClassImbalance, \n",
        "    PercentOfNulls,\n",
        "    OutlierSampleDetection,\n",
        "    DataDuplicates,\n",
        "    MixedDataTypes,\n",
        "    FeatureLabelCorrelation, \n",
        "    FeatureFeatureCorrelation\n",
        ")\n",
        "from deepchecks.tabular.checks.data_integrity import PercentOfNulls\n",
        "\n",
        "import warnings\n",
        "import json\n",
        "import logging\n",
        "import pickle"
      ],
      "id": "74f38feb",
      "execution_count": null,
      "outputs": []
    },
    {
      "cell_type": "code",
      "metadata": {},
      "source": [
        "import pandas as pd\n",
        "import numpy as np\n",
        "\n",
        "df_original = pd.read_csv(\"../data/raw/diabetes.csv\")\n",
        "df = pd.read_csv(\"../data/processed/df\")\n",
        "dropped_obs = df_original.shape[0] - df.shape[0]\n",
        "\n",
        "pearson_corr = df.corr(method = \"pearson\")\n",
        "spearman_corr = df.corr(method = \"spearman\")\n",
        "\n",
        "max_pearson_corr = pearson_corr.where(~np.eye(pearson_corr.shape[0], dtype = bool)).stack().max()\n",
        "max_spearman_corr = spearman_corr.where(~np.eye(spearman_corr.shape[0], dtype = bool)).stack().max()\n",
        "corr_skin_bmi = spearman_corr(\"SkinThickness\", \"BMI\")\n",
        "\n",
        "mean_cv_score = pd.read_csv(\"../results/tables/mean_cv_score.csv\")\n",
        "mean_scores = pd.read_csv(\"../results/tables/mean_scores.csv\")\n",
        "\n",
        "value_counts_df = pd.read_csv(\"../results/tables/value_counts_df.csv\")\n",
        "fp_fn_df = pd.read_csv(\"../results/tables/fp_fn_df.csv\")\n",
        "\n",
        "accuracy_df = pd.read_csv(\"../results/tables/accuracy_df.csv\")\n",
        "\n",
        "coeff_table = pd.read_csv(\"../results/tables/coeff_table.csv\")\n",
        "\n",
        "pred_results_1_df =  pd.read_csv(\"../results/tables/pred_results_1_df.csv\")\n",
        "\n",
        "with open('../results/models/log_pipe.pkl', 'rb') as f:\n",
        "    log_pipe = pickle.load(f)\n",
        "with open('../results/models/random_fit.pkl', 'rb') as s:\n",
        "    random_fit = pickle.load(s)"
      ],
      "id": "4bd43030",
      "execution_count": null,
      "outputs": []
    },
    {
      "cell_type": "markdown",
      "metadata": {},
      "source": [
        "# Summary\n",
        "\n",
        "This study evaluated logistic regression for predicting diabetes in Pima Indian women using features such as glucose levels, BMI, and pregnancies. \n",
        "The model achieved `{python} f\"{accuracy_df['accuracy'].values[0] * 100:.0f}%\"` accuracy on the test set, \n",
        "outperforming the baseline dummy classifier's `{python} f\"{round(mean_cv_score['mean_cv_score'].values[0],2) * 100:.0f}%\"`. \n",
        "Glucose was the most significant predictor, followed by BMI and pregnancies, while blood pressure and insulin had weaker impacts. \n",
        "The model misclassified `{python} f\"{value_counts_df['misclassifications'].values[0]:,}\"` cases, \n",
        "with `{python} f\"{fp_fn_df['false negatives'].values[0]:,}\"` false negatives and `{python} f\"{fp_fn_df['false positives'].values[0]:,}\"` false positives, \n",
        "highlighting areas for improvement.\n",
        "\n",
        "The results indicate that logistic regression is a promising tool for diabetes screening, providing an efficient way to identify potential cases. \n",
        "However, the high number of false negatives is concerning, as they could lead to delayed diagnoses and treatments. \n",
        "Future improvements could include feature engineering to address misclassifications, testing alternative machine learning models, \n",
        "and incorporating additional data, such as lifestyle or genetic factors. \n",
        "Adding probability estimates for predictions could also enhance its clinical usability by helping prioritize further diagnostic tests. \n",
        "These steps could make the model more reliable and practical for real-world healthcare applications.\n",
        "\n",
        "# Introduction\n",
        "\n",
        "Diabetes is a serious chronic disease characterized by high levels of glucose in the blood, \n",
        "caused by either insufficient insulin production by the pancreas or the body’s inability to effectively use insulin. \n",
        "It has become a significant global health issue, with its prevalence nearly doubling since 1980, and in 2022, \n",
        "14% of adults aged 18 and older were diagnosed with diabetes, doubling from 7% in 1990 [@who_diabetes]. \n",
        "Diabetes can lead to severe complications, including blindness, kidney failure, heart attacks, strokes, and lower limb amputations. \n",
        "Early detection enables timely interventions, reduces complications, lowers healthcare costs, \n",
        "and improves quality of life and long-term outcomes [@marshall2006prevention].\n",
        "\n",
        "Artificial intelligence (AI) leverages computer systems and big data to simulate intelligent behavior with minimal human intervention, \n",
        "and within it, machine learning (ML) is a subset of AI methodologies. Since the rise of AI, \n",
        "Machine learning has increasingly been applied in various areas of disease detection and prevention in the healthcare field [@bini2018artificial]. \n",
        "Numerous machine learning techniques have been deployed to develop more efficient \n",
        "and effective methods for diagnosing chronic diseases [@battineni2020applications]. \n",
        "Utilizing machine learning methods in diabetes research has been proven to be a critical strategy \n",
        "or harnessing large volumes of diabetes-related data to extract valuable insights [@agarwal2022machine]. \n",
        "Therefore, The goal of this report is to leverage a supervised machine learning model, logistic regression (LR), \n",
        "to evaluate its predictive performance in diagnosing diabetes using a real-world dataset focused specifically on Pima Indian women aged 21 and older.\n",
        "\n",
        "# Methods and Results\n",
        "\n",
        "### Data\n",
        "\n",
        "The dataset that was used for the analysis of this project was created by Jack W Smith, JE Everhart, WC Dickson, WC Knowler, RS Johannes \n",
        "and sourced from the National Librabry of Medicine database from the National Institues of Health. \n",
        "Access to their respective analysis can be found [here](https://pmc.ncbi.nlm.nih.gov/articles/PMC2245318/) \n",
        "and access to the dataset can be found via [kaggle](https://www.kaggle.com/datasets/uciml/pima-indians-diabetes-database/data) [@dua2017pima]. \n",
        "The primary objective of the dataset is to enable diagnostic prediction of whether a patient has diabetes based on specific diagnostic measurements. \n",
        "To ensure consistency and relevance, several constraints were applied to the selection of data instances. \n",
        "Specifically, the dataset includes only female patients who are at least 21 years old and of Pima Indian heritage.\n",
        "\n",
        "Each row/obersvation from the dataset is an individual that identifies to be a part of the Pima (also known as The Akimel O'odham) Indeginous group, \n",
        "located mainly in the Central and Southern regions of the United States. Each observation recorded has summary statistics regarding features \n",
        "that include the Age, BMI, Blood Pressure, Number of Pregnancies, as well as \n",
        "The Diabetes Pedigree Function (which is a score that gives an idea about how much correlation is between person with diabetes and their family history). \n",
        "The dataset offers comprehensive features for machine learning analysis.\n",
        "\n",
        "### Analysis\n",
        "\n",
        "Logistic Regression was employed to develop a classification model for predicting whether the patient is diabetic or not \n",
        "(as indicated in the `outcome` column of the dataset). All variables from the original dataset were used to train the model. \n",
        "The data was split into 70% for the training set and 30% for the testing set. Hyperparameter tuning was performed using `RandomizedSearchCV`, \n",
        "with the accuracy score serving as the classification metric. All variables were standardized just before model fitting. \n",
        "The analysis was conducted using the Python programming language [@Python] and several Python packages: numpy [@harris2020array], \n",
        "Pandas [@pandas], altair [@altair], altair_ally [@ostblom2021altair] and scikit-learn [@pedregosa2011scikit]. \n",
        "The code used for this analysis and report is available at: https://github.com/UBC-MDS/diabetes_predictor_py\n"
      ],
      "id": "688ab11c"
    },
    {
      "cell_type": "code",
      "metadata": {},
      "source": [
        "# load data\n",
        "df_original = pd.read_csv('../data/raw/diabetes.csv')\n",
        "df_original"
      ],
      "id": "489acc09",
      "execution_count": null,
      "outputs": []
    },
    {
      "cell_type": "code",
      "metadata": {},
      "source": [
        "# Configure logging\n",
        "logging.basicConfig(\n",
        "    filename=\"validation_errors.log\",\n",
        "    filemode=\"w\",\n",
        "    format=\"%(asctime)s - %(message)s\",\n",
        "    level=logging.INFO,\n",
        ")\n",
        "\n",
        "# Define schema\n",
        "schema = pa.DataFrameSchema(\n",
        "    { \n",
        "        \"Outcome\": pa.Column(int, pa.Check.isin([0, 1])),\n",
        "        \"Pregnancies\": pa.Column(int, pa.Check.between(0, 15), nullable=True),\n",
        "        \"Glucose\": pa.Column(int, pa.Check.between(50, 240), nullable=True),\n",
        "        \"BloodPressure\": pa.Column(int, pa.Check.between(40, 180), nullable=True),\n",
        "        \"SkinThickness\": pa.Column(int, pa.Check.between(0, 80), nullable=True),\n",
        "        \"Insulin\": pa.Column(int, pa.Check.between(0, 800), nullable=True),\n",
        "        \"BMI\": pa.Column(float, pa.Check.between(0, 65), nullable=True),\n",
        "        \"DiabetesPedigreeFunction\": pa.Column(float, pa.Check.between(0, 2.5), nullable=True),\n",
        "        \"Age\": pa.Column(int, pa.Check.between(18, 90), nullable=True),\n",
        "    },\n",
        "    checks=[\n",
        "        pa.Check(lambda df: ~df.duplicated().any(), error=\"Duplicate rows found.\"),\n",
        "        pa.Check(lambda df: ~(df.isna().all(axis=1)).any(), error=\"Empty rows found.\")\n",
        "    ],\n",
        "    drop_invalid_rows=False,  # Ensure this is properly closed\n",
        ")\n",
        "\n",
        "# Initialize error cases DataFrame\n",
        "error_cases = pd.DataFrame()\n",
        "data = df_original.copy()\n",
        "\n",
        "# Validate data and handle errors\n",
        "try:\n",
        "    validated_data = schema.validate(data, lazy=True)\n",
        "except pa.errors.SchemaErrors as e:\n",
        "    error_cases = e.failure_cases\n",
        "\n",
        "    # Convert the error message to a JSON string\n",
        "    error_message = json.dumps(e.message, indent=2)\n",
        "    logging.error(\"\\n\" + error_message)\n",
        "\n",
        "# Filter out invalid rows based on the error cases\n",
        "if not error_cases.empty:\n",
        "    invalid_indices = error_cases[\"index\"].dropna().unique()\n",
        "    df = (\n",
        "        data.drop(index=invalid_indices)\n",
        "        .reset_index(drop=True)\n",
        "        .drop_duplicates()\n",
        "        .dropna(how=\"all\")\n",
        "    )\n",
        "else:\n",
        "    df = data"
      ],
      "id": "8136b605",
      "execution_count": null,
      "outputs": []
    },
    {
      "cell_type": "code",
      "metadata": {},
      "source": [
        "df\n",
        "\n",
        "df.to_csv('../data/processed/df.csv')"
      ],
      "id": "0f52e200",
      "execution_count": null,
      "outputs": []
    },
    {
      "cell_type": "code",
      "metadata": {},
      "source": [
        "# EDA\n",
        "print(df_original.shape)\n",
        "print(df.shape)"
      ],
      "id": "d23bb047",
      "execution_count": null,
      "outputs": []
    },
    {
      "cell_type": "markdown",
      "metadata": {},
      "source": [
        "We do see `{python} f\"{dropped_obs:,}\"` observations being dropped post our preliminary data validation as the rows dropped contain meaningless \n",
        "and / or invalid data entries that would unlikely provide useful information but instead introduce noise or spurious relationships into our model. \n",
        "Details of the observations dropped can be found at https://github.com/UBC-MDS/diabetes_predictor_py under `validation_errors.log`. \n",
        "It is clearly shown from the log that majority of data points that are dropped contained values of 0 where levels cannot possibly be, \n",
        "hence, we suspect that the values recorded at 0 are likely missing values recorded in such way, \n",
        "a critical point we will confirm with data collectors if we have access. \n"
      ],
      "id": "c920111c"
    },
    {
      "cell_type": "code",
      "metadata": {},
      "source": [
        "# EDA\n",
        "df.info()"
      ],
      "id": "f1caf0e3",
      "execution_count": null,
      "outputs": []
    },
    {
      "cell_type": "code",
      "metadata": {},
      "source": [
        "# Create the split\n",
        "train_df, test_df = train_test_split(df,\n",
        "                                     train_size = 0.7, \n",
        "                                     random_state=123)\n",
        "\n",
        "df.to_csv('../data/processed/train_df.csv')\n",
        "df.to_csv('../data/processed/test_df.csv')"
      ],
      "id": "3634a601",
      "execution_count": null,
      "outputs": []
    },
    {
      "cell_type": "code",
      "metadata": {},
      "source": [
        "# Explore training data\n",
        "census_summary = train_df.describe()\n",
        "census_summary"
      ],
      "id": "d3ae866d",
      "execution_count": null,
      "outputs": []
    },
    {
      "cell_type": "code",
      "metadata": {},
      "source": [
        "# List features\n",
        "features = census_summary.columns.tolist()\n",
        "features"
      ],
      "id": "bba8606b",
      "execution_count": null,
      "outputs": []
    },
    {
      "cell_type": "markdown",
      "metadata": {},
      "source": [
        "![Comparison of the empirical distributions of training data predictors between those non-diabetic and diabetic.](../results/figures/feature_histograms.png){#fig-feature_histograms width=80%}\n",
        "\n",
        "@fig-feature_histograms above illustrates the distribution of each feature, categorized based on the Outcome variable: 0 (Non-Diabetic) and 1 (Diabetic). \n",
        "This visualization provides insights into the relationships between individual features and the target variable.\n",
        "\n",
        "For the `Glucose` levels, Non-Diabetic class exhibits a roughly normal distribution, \n",
        "whereas the Diabetic class shows a pronounced shift toward the middle-to-higher range of glucose levels. \n",
        "\n",
        "The `BMI` distribution resembles a normal distribution but skews slightly toward higher values. \n",
        "Similar to Glucose levels, the Diabetic class displays a decent shit towards the middle-to-higher ranges when compared to Non-Diabetic class, \n",
        "suggesting the potential for distinct differences between target groups within this category.\n",
        "\n",
        "The `Age` distribution reveals that individuals aged 20 to 32 are predominantly Non-Diabetic. \n",
        "Beyond age 32, the counts of Diabetic and Non-Diabetic individuals become comparable, \n",
        "with some bins showing a higher count for the Diabetic class, despite fewer overall observations in this group. \n",
        "The Non-Diabetic class leans toward younger ages, while the Diabetic class has a more even distribution across its age range.\n",
        "\n",
        "For `Pregnancies`, `Insulin`, and `DiabetesPedigreeFunction` -genetic risk of diabetes based on family history ranging from 0 to 2.5, \n",
        "the lower range of pregnancies is dominated by the Non-Diabetic class, whereas whereas higher numbers are more common in the Diabetic class.\n",
        "\n",
        "For `Blood Pressure` and `Skin Thickness`, both the Diabetic and Non-Diabetic classes approximates a normal distribution; \n",
        "however, the Non-Diabetic distribution skews slightly towards lower values, while the Diabetic class skews more towards higher values.\n"
      ],
      "id": "d0aac215"
    },
    {
      "cell_type": "code",
      "metadata": {},
      "source": [
        "# validate training data for class imbalance for target variable \n",
        "# Do these on training data as part of EDA! \n",
        "train_df_ds = Dataset(train_df, label = 'Outcome', cat_features=[])\n",
        "\n",
        "check_lab_cls_imb = ClassImbalance().add_condition_class_ratio_less_than(0.4)\n",
        "check_lab_cls_imb_result = check_lab_cls_imb.run(dataset = train_df_ds)\n",
        "\n",
        "if check_lab_cls_imb_result.passed_conditions():\n",
        "    raise ValueError(\"Class imbalance exceeds the maximum acceptable threshold.\")"
      ],
      "id": "97e3e73c",
      "execution_count": null,
      "outputs": []
    },
    {
      "cell_type": "code",
      "metadata": {},
      "source": [
        "# validate training data for percent of nulls\n",
        "check_pct_nulls = PercentOfNulls().add_condition_percent_of_nulls_not_greater_than(0.05)\n",
        "check_pct_nulls_result = check_pct_nulls.run(dataset = train_df_ds)\n",
        "\n",
        "if not check_pct_nulls_result.passed_conditions():\n",
        "    raise ValueError(\"Percent of nulls exceeds the maximum acceptable threshold for at least one column.\")"
      ],
      "id": "0b46a86a",
      "execution_count": null,
      "outputs": []
    },
    {
      "cell_type": "code",
      "metadata": {},
      "source": [
        "# validate training data for percent of outlier samples using loOP algo\n",
        "check_out_sample = (\n",
        "    OutlierSampleDetection(nearest_neighbors_percent = 0.01, extent_parameter = 3)\n",
        "    .add_condition_outlier_ratio_less_or_equal(max_outliers_ratio = 0.001, outlier_score_threshold = 0.9)\n",
        ")\n",
        "check_out_sample_result = check_out_sample.run(dataset = train_df_ds)\n",
        "\n",
        "if not check_out_sample_result.passed_conditions():\n",
        "    raise ValueError(\"Number of outlier samples exceeds the maximum acceptable threshold.\")"
      ],
      "id": "754590c1",
      "execution_count": null,
      "outputs": []
    },
    {
      "cell_type": "code",
      "metadata": {},
      "source": [
        "# validate training data for data duplicates\n",
        "# set duplicate condition to 0 as would not expect any two patient with the exact same situation\n",
        "check_data_dup = DataDuplicates().add_condition_ratio_less_or_equal(0)\n",
        "check_data_dup_result = check_data_dup.run(dataset = train_df_ds)\n",
        "\n",
        "if not check_data_dup_result.passed_conditions():\n",
        "    raise ValueError(\"Data duplicates exceed the maximum acceptable threshold.\")"
      ],
      "id": "ce07a6f1",
      "execution_count": null,
      "outputs": []
    },
    {
      "cell_type": "code",
      "metadata": {},
      "source": [
        "# validate training data for mixed data types across all columns\n",
        "check_mix_dtype = MixedDataTypes().add_condition_rare_type_ratio_not_in_range((0.01, 0.2))\n",
        "check_mix_dtype_result = check_mix_dtype.run(dataset = train_df_ds)\n",
        "\n",
        "if not check_mix_dtype_result.passed_conditions():\n",
        "    # raise a warning instead of an error in this case\n",
        "    warnings.warn(\"Percentage of rare data type in dangerous zone for at least one column\")"
      ],
      "id": "094c094f",
      "execution_count": null,
      "outputs": []
    },
    {
      "cell_type": "markdown",
      "metadata": {},
      "source": [
        "![Pearson and Spearman correlations across all features.](../results/figures/correlation_heat_map.png){#fig-correlation_heat_map width=80%}\n",
        "\n",
        "@fig-correlation_heat_map shows the correlation between all of the respective features. \n",
        "The main reasoning to analyze this is to see if there is any multicollinearity between any of the features \n",
        "which could be problamatic when conducting a Logistic Regression. We see that highest level of correlation \n",
        "is between Age and Pregnancies (`{python} f\"{max_spearman_corr:.00f}\"` via Spearman, and `{python} f\"{max_pearson_corr:.00f}\"` by Pearson). Since this is below the threshold of 0.7, \n",
        "we can conclude that all features' coefficients are suitable and will not cause any multicollinearity in our model. \n",
        "\n",
        "![Pairwise scatterplots between each of features in dataset to visualize relationship.](../results/figures/pairwise_scatterplot.png){#fig-pairwise_scatterplot width=120%}\n",
        "\n",
        "@fig-pairwise_scatterplot illustrates the relationships between the features. For the most part, the features do not display noticeable trends. \n",
        "However, Skin Thickness and BMI show a moderate visual relationship, \n",
        "which is intuitive since higher body mass is generally associated with increased skin thickness. \n",
        "\n",
        "Referring back to the correlation graph, Skin Thickness and BMI have a Spearman correlation of `{python} f\"{corr_skin_bmi:.00f}\"`. \n",
        "This value is below the multicollinearity threshold of 0.7, indicating that these features do not pose a risk of multicollinearity in our model.\n"
      ],
      "id": "893d9087"
    },
    {
      "cell_type": "code",
      "metadata": {},
      "source": [
        "# validate training data for anomalous correlations between target/response variable \n",
        "# and features/explanatory variables, \n",
        "# as well as anomalous correlations between features/explanatory variables\n",
        "\n",
        "check_feat_lab_corr = FeatureLabelCorrelation().add_condition_feature_pps_less_than(0.7)\n",
        "check_feat_lab_corr_result = check_feat_lab_corr.run(dataset = train_df_ds)\n",
        "\n",
        "check_feat_feat_corr = FeatureFeatureCorrelation().add_condition_max_number_of_pairs_above_threshold(threshold = 0.7, n_pairs = 0)\n",
        "check_feat_feat_corr_result = check_feat_feat_corr.run(dataset = train_df_ds)\n",
        "\n",
        "if not check_feat_lab_corr_result.passed_conditions():\n",
        "    raise ValueError(\"Feature-Label correlation exceeds the maximum acceptable threshold.\")\n",
        "\n",
        "if not check_feat_feat_corr_result.passed_conditions():\n",
        "    raise ValueError(\"Feature-feature correlation exceeds the maximum acceptable threshold.\")"
      ],
      "id": "6d5c0d7c",
      "execution_count": null,
      "outputs": []
    },
    {
      "cell_type": "markdown",
      "metadata": {},
      "source": [
        "We then further split our dataset into X and y for both the training and test. \n"
      ],
      "id": "ef3bf01b"
    },
    {
      "cell_type": "code",
      "metadata": {},
      "source": [
        "X_train = train_df.drop(columns = ['Outcome'])\n",
        "y_train = train_df['Outcome']\n",
        "X_test = test_df.drop(columns = ['Outcome'])\n",
        "y_test = test_df['Outcome']"
      ],
      "id": "0903720a",
      "execution_count": null,
      "outputs": []
    },
    {
      "cell_type": "markdown",
      "metadata": {},
      "source": [
        "As a result, the Dummy Classifier acts as our baseline for conductin our initial analysis. The Dummy Baseline gives us a score of around `{python} round(mean_cv_score['mean_cv_score'].values[0], 2)`.\n",
        "\n",
        "We will use a Logistic Regression model for classification. Given the presence of outliers in our features, it is advisable to apply StandardScaler() to normalize the feature values before fitting the model. This ensures that all features are on a similar scale, improving the model's performance and stability.\n"
      ],
      "id": "8c80df49"
    },
    {
      "cell_type": "code",
      "metadata": {},
      "source": [
        "# Create Logistic Regression pipeline\n",
        "log_pipe=make_pipeline(\n",
        "    StandardScaler(), \n",
        "    LogisticRegression(max_iter=2000,random_state=123)\n",
        ")"
      ],
      "id": "26abd3d9",
      "execution_count": null,
      "outputs": []
    },
    {
      "cell_type": "markdown",
      "metadata": {},
      "source": [
        "We optimize the hyperparameter `C` for our Logistic Regression model using a random search approach.\n"
      ],
      "id": "828b1914"
    },
    {
      "cell_type": "code",
      "metadata": {},
      "source": [
        "# Hyperparameter optimization\n",
        "np.random.seed(123)\n",
        "param_dist = {\n",
        "    \"logisticregression__C\": loguniform(1e-5, 1e+5) \n",
        "}"
      ],
      "id": "06d385ce",
      "execution_count": null,
      "outputs": []
    },
    {
      "cell_type": "code",
      "metadata": {},
      "source": [
        "# Create Random Search\n",
        "random_search = RandomizedSearchCV(log_pipe,param_dist,\n",
        "                                   n_iter=20,\n",
        "                                   n_jobs=-1,\n",
        "                                   return_train_score=True,\n",
        "                                   random_state=123)\n",
        "\n",
        "random_search.fit(X_train,y_train)"
      ],
      "id": "a2338600",
      "execution_count": null,
      "outputs": []
    },
    {
      "cell_type": "markdown",
      "metadata": {},
      "source": [
        "Identify the optimal value for the hyperparameter C to be used in our Logistic Regression model.\n"
      ],
      "id": "755ecf1f"
    },
    {
      "cell_type": "code",
      "metadata": {},
      "source": [
        "# Identify optiomized parameter C\n",
        "best_params = random_search.best_params_ \n",
        "best_params"
      ],
      "id": "48c8722b",
      "execution_count": null,
      "outputs": []
    },
    {
      "cell_type": "code",
      "metadata": {},
      "source": [
        "# Display scores\n",
        "pd.DataFrame(random_search.cv_results_).sort_values(\n",
        "    \"rank_test_score\").head(3)[[\"mean_test_score\",\n",
        "                                \"mean_train_score\"]]"
      ],
      "id": "84e3be66",
      "execution_count": null,
      "outputs": []
    },
    {
      "cell_type": "markdown",
      "metadata": {},
      "source": [
        "Having determined the best Logistic Regression model for our analysis, we further explore feature importance with coefficients.\n"
      ],
      "id": "b7a9c5cb"
    },
    {
      "cell_type": "code",
      "metadata": {},
      "source": [
        "# Best model from the search\n",
        "best_model = random_search.best_estimator_\n",
        "\n",
        "# Retrieve the coefficients and feature names\n",
        "coefficients = best_model.named_steps['logisticregression'].coef_.flatten()\n",
        "features = X_train.columns  \n",
        "\n",
        "# Create a DataFrame to display the feature names and corresponding coefficients\n",
        "coeff_df = pd.DataFrame({\n",
        "    'Features': features,\n",
        "    'Coefficients': coefficients\n",
        "})\n",
        "\n",
        "# Sort by 'Coefficients' in descending order to see the most important features first\n",
        "coeff_df_sorted = coeff_df.sort_values(by = 'Coefficients', ascending = False)\n",
        "\n",
        "# Create a heatmap for the coefficients (we will visualize them as a single column)\n",
        "coeff_df_sorted.style.format(\n",
        "    precision = 3\n",
        ").background_gradient(\n",
        "    axis = None\n",
        ")"
      ],
      "id": "a425f16d",
      "execution_count": null,
      "outputs": []
    },
    {
      "cell_type": "code",
      "metadata": {},
      "source": [
        "#| label: tbl-coeff_table\n",
        "#| tbl-cap: Logistic regression feature importance measured by coefficients.\n",
        "#| echo: false\n",
        "\n",
        "Markdown(coeff_table.to_markdown(index = False))"
      ],
      "id": "tbl-coeff_table",
      "execution_count": null,
      "outputs": []
    },
    {
      "cell_type": "markdown",
      "metadata": {},
      "source": [
        "Based on the heatmap and @tbl-coeff_table above, the feature importance coefficients for the logistic regression model predicting diabetes reveal that `Glucose` (`{python} round(coeff_table.iloc[coeff_table[coeff_table.iloc[:, 0] == 'Glucose'].index[0], 1], 2)`) is the strongest positive influence, followed by `BMI` (`{python} round(coeff_table.iloc[coeff_table[coeff_table.iloc[:, 0] == 'BMI'].index[0], 1], 2)`), `Pregnancies` (`{python} round(coeff_table.iloc[coeff_table[coeff_table.iloc[:, 0] == 'Pregnancies'].index[0], 1], 2)`), `Age` (`{python} round(coeff_table.iloc[coeff_table[coeff_table.iloc[:, 0] == 'Age'].index[0], 1], 2)`), and `DiabetesPedigreeFunction` (`{python} round(coeff_table.iloc[coeff_table[coeff_table.iloc[:, 0] == 'DiabetesPedigreeFunction'].index[0], 1], 2)`). The negative influence `SkinThickness` (`{python} round(coeff_table.iloc[coeff_table[coeff_table.iloc[:, 0] == 'SkinThickness'].index[0], 1], 2)`) along with the remaining positive features `BloodPressure` (`{python} round(coeff_table.iloc[coeff_table[coeff_table.iloc[:, 0] == 'BloodPressure'].index[0], 1], 2)`) and `Insulin` (`{python} round(coeff_table.iloc[coeff_table[coeff_table.iloc[:, 0] == 'Insulin'].index[0], 1], 2)`), have weak impacts on the prediction, with their effects being less pronounced. \n",
        "\n",
        "We then evaluate the best Logistic Regression model, obtained from the hyperparameter search, on the test set.\n"
      ],
      "id": "430deada"
    },
    {
      "cell_type": "code",
      "metadata": {},
      "source": [
        "# Make predictions using the best model== \"Glucose\"][\"Coefficient\"].values[0]\n",
        "y_pred = best_model.predict(X_test)"
      ],
      "id": "e3e743c1",
      "execution_count": null,
      "outputs": []
    },
    {
      "cell_type": "markdown",
      "metadata": {},
      "source": [
        "In addition, to enhance the model's practical use in a clinical setting, we are providing and reporting probability estimates for the predictions of diabetes. Offering probability estimates would allow clinicians to gauge the model's confidence in its predictions. This would give clinicians the opportunity to conduct additional diagnostic tests if the predicted probability for the outcome (i.e. diagnosis of prediction) is not sufficiently high.\n"
      ],
      "id": "433c1800"
    },
    {
      "cell_type": "code",
      "metadata": {},
      "source": [
        "#| label: pred_results_1_table\n",
        "#| tbl-cap: Prediction Results with Probability Estimates for Diabetes Classification.\n",
        "#| echo: false\n",
        "\n",
        "Markdown(pred_results_1_df.head().to_markdown(index = False))"
      ],
      "id": "pred_results_1_table",
      "execution_count": null,
      "outputs": []
    },
    {
      "cell_type": "code",
      "metadata": {},
      "source": [
        "y_pred_prob = best_model.predict_proba(X_test)\n",
        "pred_bool = (y_test == y_pred)\n",
        "pred_results_1 = np.vstack([y_test, y_pred, pred_bool, y_pred_prob[:, 1]])\n",
        "pred_results_1_df = pd.DataFrame(pred_results_1.T, \n",
        "                                 columns = ['y_test', 'y_pred', 'pred_bool', 'y_pred_prob_1'])\n",
        "pred_results_1_df['pred_bool'] = pred_results_1_df['pred_bool'] == 1\n",
        "pred_results_1_df.head()"
      ],
      "id": "075afdc2",
      "execution_count": null,
      "outputs": []
    },
    {
      "cell_type": "markdown",
      "metadata": {},
      "source": [
        "Our prediction model performed decent on test data, with a final overall accuracy of `{python} accuracy_df['accuracy'].values[0]`. In addition, looking through the prediction results dataframe, there are a total of `{python} value_counts_df['misclassifications'].values[0]` mistakes. Of which, `{python} fp_fn_df['false negatives'].values[0]` mistakes were predicting diabetic as non-diabetic (false negatives) and `{python} fp_fn_df['false positives'].values[0]` mistakes were made predicting diabetic as non-diabetic (false positives). Considering implementation in clinic, there is room for improvement in the algorithm as false negatives are more harmful than false positives, and we should aim to lower false positives even further.\n",
        "\n",
        "Moreover, visualizing prediction probabilities alongside the prediction accuracy for each test sample provides a clearer understanding of the model's performance. This approach allows us to easily assess how well the model predicts, while also highlighting patients who were misdiagnosed. Particularly, it helps us focus on false negatives, as the consequences of these errors are more critical in a clinical context.\n",
        "\n",
        "![Test Set Prediction Accuracy by Prediction Probability.](../results/figures/predic_chart.png){#fig-test_set_pred_accur width=80%}\n",
        "\n",
        "# Discussion\n",
        "\n",
        "While the performance of this model may be valuable as a screening tool in a clinical context, especially given its improvements over the baseline, there are several opportunities for further enhancement. One potential approach is to closely examine the `{python} value_counts_df['misclassifications'].values[0]` misclassified observations, comparing them with correctly classified examples from both classes. The objective would be to identify which features may be contributing to the misclassifications and investigate whether feature engineering could help the model improve its predictions on the observations it is currently struggling with. Additionally, we would try seeing whether we can get improved predictions using other classifiers. Other classifiers we might try are 1) random forest because it automatically allows for feature interaction, 2) k-nearest neighbours (k-NN) which usually provides easily interpretable and decent predictions, and 3) support vector classifier (SVC) as it allows for non-linear prediction using the rbf kernel. Finally, there runs the possibility that the features offered from this dataset alone are not sufficient to predict with high accuracy. In this case, conducting additional conversations with data collectors for additional useable information or explore additional datasets that can be joined so our set of features can be expanded for more complicated analysis might be beneficial. \n",
        "\n",
        "At last, we recognize the limitation with this dataset, as it focuses solely on Pima Indian women aged 21 and older, which limits its generalizability to other populations. To improve the analysis, it would be valuable to combine this data with other datasets representing different age groups, genders, and ethnicities, enabling more comprehensive insights and broader applicability of the findings.\n",
        "\n",
        "# Conclusion\n",
        "\n",
        "In conclusion, this study demonstrated the effectiveness of logistic regression in predicting diabetes among Pima Indian women using diagnostic features such as glucose, BMI, and pregnancies. With an accuracy of `{python} f\"{accuracy_df['accuracy'].values[0] * 100:.0f}%\"` on the test set, the model outperformed the baseline Dummy Classifier's `{python} f\"{round(mean_cv_score['mean_cv_score'].values[0],2) * 100:.0f}%\"`. Glucose was identified as the most influential predictor, followed by BMI and pregnancies, while features like blood pressure, insulin, and skin thickness had weaker impacts. However, the model's `{python} value_counts_df['misclassifications'].values[0]` misclassifications, particularly the `{python} fp_fn_df['false negatives'].values[0]` false negatives, underscore the need for further refinement to minimize the risk of undiagnosed cases.\n",
        "\n",
        "These findings highlight logistic regression's potential as an initial screening tool in clinical settings, offering a data-driven approach to early diabetes detection. Nevertheless, improvements are essential to enhance its accuracy and practical utility. Strategies such as feature engineering, alternative machine learning models, and the incorporation of additional data, such as lifestyle or genetic factors, could further optimize performance. Additionally, providing probability estimates for predictions could enhance clinical decision-making by identifying cases requiring further diagnostics. With these refinements, the model could become a valuable tool for reducing complications and improving outcomes in diabetes care.\n",
        "\n",
        "# References\n"
      ],
      "id": "24550b0c"
    }
  ],
  "metadata": {
    "kernelspec": {
      "name": "python3",
      "language": "python",
      "display_name": "Python 3 (ipykernel)",
      "path": "/opt/conda/share/jupyter/kernels/python3"
    }
  },
  "nbformat": 4,
  "nbformat_minor": 5
}